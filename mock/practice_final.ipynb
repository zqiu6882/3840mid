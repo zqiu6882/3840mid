{
 "cells": [
  {
   "cell_type": "markdown",
   "metadata": {
    "id": "rxbeRIOOkIRc"
   },
   "source": [
    "#Types of questions for the final exam\n",
    "\n",
    "We will see:\n",
    " * Nested logit\n",
    " * Ordered logit\n",
    " * Panel data and Mixed logit\n",
    "\n"
   ]
  },
  {
   "cell_type": "markdown",
   "metadata": {
    "id": "vb9SIunnASNB"
   },
   "source": [
    "---\n",
    "---\n",
    "\n",
    "# Preparing the environment\n",
    "*The preparation and dataset loading code is given to the students*"
   ]
  },
  {
   "cell_type": "code",
   "execution_count": 1,
   "metadata": {
    "colab": {
     "base_uri": "https://localhost:8080/"
    },
    "id": "j5zHGhgErHPd",
    "outputId": "5fc8aaa8-37a8-4751-a333-88292e1fc4db"
   },
   "outputs": [
    {
     "name": "stdout",
     "output_type": "stream",
     "text": [
      "Requirement already satisfied: biogeme in /Users/hugh/anaconda3/lib/python3.10/site-packages (3.2.12)\n",
      "Requirement already satisfied: scipy>=1.7.3 in /Users/hugh/anaconda3/lib/python3.10/site-packages (from biogeme) (1.11.3)\n",
      "Requirement already satisfied: cythonbiogeme>=1.0.1 in /Users/hugh/anaconda3/lib/python3.10/site-packages (from biogeme) (1.0.1)\n",
      "Requirement already satisfied: tomlkit>=0.11.5 in /Users/hugh/anaconda3/lib/python3.10/site-packages (from biogeme) (0.12.1)\n",
      "Requirement already satisfied: tqdm>=4.64.1 in /Users/hugh/anaconda3/lib/python3.10/site-packages (from biogeme) (4.64.1)\n",
      "Requirement already satisfied: pandas>=1.3.5 in /Users/hugh/anaconda3/lib/python3.10/site-packages (from biogeme) (1.5.3)\n",
      "Requirement already satisfied: biogeme-optimization>=0.0.4 in /Users/hugh/anaconda3/lib/python3.10/site-packages (from biogeme) (0.0.4)\n",
      "Requirement already satisfied: numpy>=1.24.2 in /Users/hugh/anaconda3/lib/python3.10/site-packages (from biogeme-optimization>=0.0.4->biogeme) (1.26.1)\n",
      "Requirement already satisfied: cython>=0.29.16 in /Users/hugh/anaconda3/lib/python3.10/site-packages (from cythonbiogeme>=1.0.1->biogeme) (3.0.4)\n",
      "Requirement already satisfied: python-dateutil>=2.8.1 in /Users/hugh/anaconda3/lib/python3.10/site-packages (from pandas>=1.3.5->biogeme) (2.8.2)\n",
      "Requirement already satisfied: pytz>=2020.1 in /Users/hugh/anaconda3/lib/python3.10/site-packages (from pandas>=1.3.5->biogeme) (2022.7)\n",
      "Requirement already satisfied: six>=1.5 in /Users/hugh/anaconda3/lib/python3.10/site-packages (from python-dateutil>=2.8.1->pandas>=1.3.5->biogeme) (1.16.0)\n"
     ]
    }
   ],
   "source": [
    "!pip install biogeme"
   ]
  },
  {
   "cell_type": "markdown",
   "metadata": {
    "id": "1z0X9xZ8rChf"
   },
   "source": [
    "Load the packages, feel free to change the names."
   ]
  },
  {
   "cell_type": "code",
   "execution_count": 2,
   "metadata": {
    "id": "apVB-TMkrFnb"
   },
   "outputs": [
    {
     "name": "stderr",
     "output_type": "stream",
     "text": [
      "/Users/hugh/anaconda3/lib/python3.10/site-packages/tqdm/auto.py:22: TqdmWarning: IProgress not found. Please update jupyter and ipywidgets. See https://ipywidgets.readthedocs.io/en/stable/user_install.html\n",
      "  from .autonotebook import tqdm as notebook_tqdm\n"
     ]
    }
   ],
   "source": [
    "import pandas  as pd\n",
    "import numpy as np\n",
    "import matplotlib.pyplot as plt\n",
    "\n",
    "import biogeme.database as db\n",
    "import biogeme.biogeme as bio\n",
    "import biogeme.models as models\n",
    "import biogeme.expressions as exp\n",
    "import biogeme.tools as tools\n",
    "import biogeme.distributions as dist"
   ]
  },
  {
   "cell_type": "markdown",
   "metadata": {
    "id": "Mgv0hV1YAieW"
   },
   "source": [
    "# Load the dataset"
   ]
  },
  {
   "cell_type": "code",
   "execution_count": 3,
   "metadata": {
    "id": "g1Ykn5Ytr7Rs"
   },
   "outputs": [],
   "source": [
    "path = 'https://raw.githubusercontent.com/pmontman/pub-choicemodels/main/data/fishing.csv'\n",
    "data_pd = pd.read_csv(path)"
   ]
  },
  {
   "cell_type": "markdown",
   "metadata": {
    "id": "ZY55r3Gesb3t"
   },
   "source": [
    "A simple look at the dataset."
   ]
  },
  {
   "cell_type": "code",
   "execution_count": 4,
   "metadata": {
    "colab": {
     "base_uri": "https://localhost:8080/",
     "height": 206
    },
    "id": "ldkmnMhssemT",
    "outputId": "4430c8a1-9baa-4503-8215-5a56706a224d"
   },
   "outputs": [
    {
     "data": {
      "text/html": [
       "<div>\n",
       "<style scoped>\n",
       "    .dataframe tbody tr th:only-of-type {\n",
       "        vertical-align: middle;\n",
       "    }\n",
       "\n",
       "    .dataframe tbody tr th {\n",
       "        vertical-align: top;\n",
       "    }\n",
       "\n",
       "    .dataframe thead th {\n",
       "        text-align: right;\n",
       "    }\n",
       "</style>\n",
       "<table border=\"1\" class=\"dataframe\">\n",
       "  <thead>\n",
       "    <tr style=\"text-align: right;\">\n",
       "      <th></th>\n",
       "      <th>mode</th>\n",
       "      <th>price_beach</th>\n",
       "      <th>price_pier</th>\n",
       "      <th>price_boat</th>\n",
       "      <th>price_charter</th>\n",
       "      <th>catch_beach</th>\n",
       "      <th>catch_pier</th>\n",
       "      <th>catch_boat</th>\n",
       "      <th>catch_charter</th>\n",
       "      <th>income</th>\n",
       "    </tr>\n",
       "  </thead>\n",
       "  <tbody>\n",
       "    <tr>\n",
       "      <th>0</th>\n",
       "      <td>4</td>\n",
       "      <td>157.930</td>\n",
       "      <td>157.930</td>\n",
       "      <td>157.930</td>\n",
       "      <td>182.930</td>\n",
       "      <td>0.0678</td>\n",
       "      <td>0.0503</td>\n",
       "      <td>0.2601</td>\n",
       "      <td>0.5391</td>\n",
       "      <td>7083.3317</td>\n",
       "    </tr>\n",
       "    <tr>\n",
       "      <th>1</th>\n",
       "      <td>4</td>\n",
       "      <td>15.114</td>\n",
       "      <td>15.114</td>\n",
       "      <td>10.534</td>\n",
       "      <td>34.534</td>\n",
       "      <td>0.1049</td>\n",
       "      <td>0.0451</td>\n",
       "      <td>0.1574</td>\n",
       "      <td>0.4671</td>\n",
       "      <td>1249.9998</td>\n",
       "    </tr>\n",
       "    <tr>\n",
       "      <th>2</th>\n",
       "      <td>3</td>\n",
       "      <td>161.874</td>\n",
       "      <td>161.874</td>\n",
       "      <td>24.334</td>\n",
       "      <td>59.334</td>\n",
       "      <td>0.5333</td>\n",
       "      <td>0.4522</td>\n",
       "      <td>0.2413</td>\n",
       "      <td>1.0266</td>\n",
       "      <td>3749.9999</td>\n",
       "    </tr>\n",
       "    <tr>\n",
       "      <th>3</th>\n",
       "      <td>2</td>\n",
       "      <td>15.134</td>\n",
       "      <td>15.134</td>\n",
       "      <td>55.930</td>\n",
       "      <td>84.930</td>\n",
       "      <td>0.0678</td>\n",
       "      <td>0.0789</td>\n",
       "      <td>0.1643</td>\n",
       "      <td>0.5391</td>\n",
       "      <td>2083.3332</td>\n",
       "    </tr>\n",
       "    <tr>\n",
       "      <th>4</th>\n",
       "      <td>3</td>\n",
       "      <td>106.930</td>\n",
       "      <td>106.930</td>\n",
       "      <td>41.514</td>\n",
       "      <td>71.014</td>\n",
       "      <td>0.0678</td>\n",
       "      <td>0.0503</td>\n",
       "      <td>0.1082</td>\n",
       "      <td>0.3240</td>\n",
       "      <td>4583.3320</td>\n",
       "    </tr>\n",
       "  </tbody>\n",
       "</table>\n",
       "</div>"
      ],
      "text/plain": [
       "   mode  price_beach  price_pier  price_boat  price_charter  catch_beach  \\\n",
       "0     4      157.930     157.930     157.930        182.930       0.0678   \n",
       "1     4       15.114      15.114      10.534         34.534       0.1049   \n",
       "2     3      161.874     161.874      24.334         59.334       0.5333   \n",
       "3     2       15.134      15.134      55.930         84.930       0.0678   \n",
       "4     3      106.930     106.930      41.514         71.014       0.0678   \n",
       "\n",
       "   catch_pier  catch_boat  catch_charter     income  \n",
       "0      0.0503      0.2601         0.5391  7083.3317  \n",
       "1      0.0451      0.1574         0.4671  1249.9998  \n",
       "2      0.4522      0.2413         1.0266  3749.9999  \n",
       "3      0.0789      0.1643         0.5391  2083.3332  \n",
       "4      0.0503      0.1082         0.3240  4583.3320  "
      ]
     },
     "execution_count": 4,
     "metadata": {},
     "output_type": "execute_result"
    }
   ],
   "source": [
    "data_pd.head(5)"
   ]
  },
  {
   "cell_type": "markdown",
   "metadata": {
    "id": "YEJvXwpekbvd"
   },
   "source": [
    "---\n",
    "---\n",
    "\n",
    "# Auxiliary functions"
   ]
  },
  {
   "cell_type": "markdown",
   "metadata": {
    "id": "CKyKA_dj-IVp"
   },
   "source": [
    "The first function takes the dictionary of utilities, a pandas dataframe, and the name of the variable that contains the variable with the results of the choice. It returns the biogeme object with the model and the estimated 'results' object (the one we get the values, likelihoods, etc.)\n",
    "We have added the dictionary with the utilities to the biogeme object, in case we use it later."
   ]
  },
  {
   "cell_type": "code",
   "execution_count": 5,
   "metadata": {
    "id": "0OQ1ls2Bi_ot"
   },
   "outputs": [],
   "source": [
    "def qbus_estimate_bgm(V, pd_df, tgtvar_name, modelname='bgmdef'):\n",
    " av_auto = V.copy()\n",
    " for key, value in av_auto.items():\n",
    "   av_auto[key] = 1\n",
    " bgm_db = db.Database(modelname + '_db', pd_df)\n",
    " globals().update(bgm_db.variables)\n",
    " logprob = models.loglogit (V , av_auto , bgm_db.variables[tgtvar_name] )\n",
    " bgm_model = bio.BIOGEME ( bgm_db, logprob )\n",
    " bgm_model.utility_dic = V.copy()\n",
    " return bgm_model, bgm_model.estimate()"
   ]
  },
  {
   "cell_type": "markdown",
   "metadata": {
    "id": "dM2f5-0w-_4b"
   },
   "source": [
    "The next function will calculate the predictions for a given biogeme object that was estimated with `qbus_estimate_bgm`. The output is the array with the choice probabilities. From the choice probabilities, this can be used to calculate accuracies, confusion matrices and the output of what-if scenarios."
   ]
  },
  {
   "cell_type": "code",
   "execution_count": 6,
   "metadata": {
    "id": "O4Iau_IHHCzc"
   },
   "outputs": [],
   "source": [
    "def qbus_simulate_bgm(qbus_bgm_model, betas, pred_pd_df):\n",
    "  av_auto = None\n",
    "  targets = None\n",
    "  if hasattr(qbus_bgm_model, 'ord_probs'):\n",
    "    av_auto = qbus_bgm_model.ord_probs.copy()\n",
    "    targets = qbus_bgm_model.ord_probs.copy()\n",
    "  else:\n",
    "    av_auto = qbus_bgm_model.utility_dic.copy()\n",
    "    targets = qbus_bgm_model.utility_dic.copy()\n",
    "\n",
    "  for key, value in av_auto.items():\n",
    "    av_auto[key] = 1\n",
    "\n",
    "\n",
    "\n",
    "  for key, value in targets.items():\n",
    "    if hasattr(qbus_bgm_model, 'nest_tuple'):\n",
    "      targets[key] = models.nested(qbus_bgm_model.utility_dic, av_auto, qbus_bgm_model.nest_tuple, key)\n",
    "    else:\n",
    "      if hasattr(qbus_bgm_model, 'ord_probs'):\n",
    "       0\n",
    "       #targets[key] = qbus_bgm_model.ord_probs[key]\n",
    "      else:\n",
    "       targets[key] = models.logit(qbus_bgm_model.utility_dic, av_auto, key)\n",
    "\n",
    "  bgm_db = db.Database('simul', pred_pd_df)\n",
    "  globals().update(bgm_db.variables)\n",
    "  bgm_pred_model = bio.BIOGEME(bgm_db, targets)\n",
    "  simulatedValues = bgm_pred_model.simulate(betas)\n",
    "  return simulatedValues"
   ]
  },
  {
   "cell_type": "markdown",
   "metadata": {
    "id": "AnBLUPi-DjU7"
   },
   "source": [
    "The function `qbus_calc_accu_confusion` calculates the accuracies given the choice probability predictions a pandas dataset and the specification of the name that contains the actual choices in the input dataset."
   ]
  },
  {
   "cell_type": "code",
   "execution_count": 7,
   "metadata": {
    "id": "m9l5cDGkzsfJ"
   },
   "outputs": [],
   "source": [
    "def qbus_calc_accu_confusion(sim_probs, pd_df, choice_var):\n",
    "  which_max = sim_probs.idxmax(axis=1)\n",
    "  data = {'y_Actual':   pd_df[choice_var],\n",
    "          'y_Predicted': which_max\n",
    "        }\n",
    "\n",
    "  df = pd.DataFrame(data, columns=['y_Actual','y_Predicted'])\n",
    "  confusion_matrix = pd.crosstab(df['y_Actual'], df['y_Predicted'], rownames=['Actual'], colnames=['Predicted'])\n",
    "  accu = np.mean(which_max == pd_df[choice_var])\n",
    "  return accu, confusion_matrix"
   ]
  },
  {
   "cell_type": "markdown",
   "metadata": {
    "id": "dYfxQpYLDzgm"
   },
   "source": [
    "The next function calculates the likelihood ratio test having to write a bit less code that the default biogeme function. The arguments are the results objects of the two models to be compared. The first is the more complex and the second is the reference model (**the order is important!**). The third argument is the significance level for the test."
   ]
  },
  {
   "cell_type": "code",
   "execution_count": 8,
   "metadata": {
    "id": "GUNVxPmK3rF2"
   },
   "outputs": [],
   "source": [
    "def qbus_likeli_ratio_test_bgm(results_complex, results_reference, signif_level):\n",
    "  return tools.likelihood_ratio_test( (results_complex.data.logLike, results_complex.data.nparam),\n",
    "                                     (results_reference.data.logLike, results_reference.data.nparam), signif_level)"
   ]
  },
  {
   "cell_type": "markdown",
   "metadata": {
    "id": "5b7TaMhCEZIZ"
   },
   "source": [
    "The next function just updates the globals so we can use it"
   ]
  },
  {
   "cell_type": "code",
   "execution_count": 9,
   "metadata": {
    "id": "PfHXGoLS1yHX"
   },
   "outputs": [],
   "source": [
    "def qbus_update_globals_bgm(pd_df):\n",
    "   globals().update(db.Database('tmp_bg_bgm_for_glob', pd_df).variables)"
   ]
  },
  {
   "cell_type": "markdown",
   "metadata": {
    "id": "buGCdfDc47M4"
   },
   "source": [
    "The next function calculates the nested logit version. Similar to the multinomial logit"
   ]
  },
  {
   "cell_type": "code",
   "execution_count": 10,
   "metadata": {
    "id": "QEo3d3kJo2BV"
   },
   "outputs": [],
   "source": [
    "def qbus_estimate_nested_bgm(V, pd_df, nests,  tgtvar_name, modelname='bgmdef'):\n",
    " av_auto = V.copy()\n",
    " for key, value in av_auto.items():\n",
    "   av_auto[key] = 1\n",
    " bgm_db = db.Database(modelname + '_db', pd_df)\n",
    " globals().update(bgm_db.variables)\n",
    " logprobnest = models.lognested (V, av_auto , nests , bgm_db.variables[tgtvar_name] )\n",
    " #logprob = models.loglogit (V , av_auto , bgm_db.variables[tgtvar_name] )\n",
    " bgm_model = bio.BIOGEME ( bgm_db, logprobnest )\n",
    " bgm_model.utility_dic = V.copy()\n",
    " bgm_model.nest_tuple = nests\n",
    " return bgm_model, bgm_model.estimate()"
   ]
  },
  {
   "cell_type": "markdown",
   "metadata": {
    "id": "lvu4rY2z0lnG"
   },
   "source": [
    "The auxiliary function for the ordered logit. The use is slightly different from the basic multinomial logit!\n",
    "* The `V` argument is just the expression of a utility function, not the dictionary mapping alternative ids to the utility functions.\n",
    "* The argument `ord_alt_ids` is a list with the ids of the alternatives **in the order that we want to impose**.The parameter to know about.\n",
    "\n",
    "Then the rest of the arguments are used as usual `pd_df` the pandas dataframe, `tgt_varname` the name of the variable with the choices, and an optional `modelname`."
   ]
  },
  {
   "cell_type": "code",
   "execution_count": 11,
   "metadata": {
    "id": "8cNy29oJjLtM"
   },
   "outputs": [],
   "source": [
    "def qbus_estimate_ordered_bgm(V, ord_alt_ids, pd_df, tgtvar_name, modelname='ord_bgm'):\n",
    " bgm_db = db.Database(modelname + '_db', pd_df)\n",
    " globals().update(bgm_db.variables)\n",
    "\n",
    " taus_map = {ord_alt_ids[0]: exp.Beta('tau1', -1, None, None, 0) }\n",
    " i = 1\n",
    " for id in ord_alt_ids[1:-1]:\n",
    "  taus_map[id] = taus_map[ ord_alt_ids[i-1] ] + exp.Beta('delta_'+ str(i + 1), i, 0, None, 0)\n",
    "  i = i + 1\n",
    "\n",
    " alt_probs_map = {ord_alt_ids[0]: dist.logisticcdf( taus_map[ord_alt_ids[0] ] - V_ord) }\n",
    "\n",
    " i = 1\n",
    " for id in ord_alt_ids[1:-1]:\n",
    "  alt_probs_map[id] = dist.logisticcdf( taus_map[id] - V_ord) - dist.logisticcdf( taus_map[ ord_alt_ids[i-1] ] - V_ord)\n",
    "  i = i + 1\n",
    "\n",
    " alt_probs_map[ord_alt_ids[i] ] = 1 - dist.logisticcdf( taus_map[ord_alt_ids[i-1]] - V_ord)\n",
    "\n",
    " logprob = exp.log(exp.Elem(alt_probs_map, bgm_db.variables[tgtvar_name]))\n",
    "\n",
    " #logprob = models.loglogit (V , av_auto , bgm_db.variables[tgtvar_name] )\n",
    " bgm_model = bio.BIOGEME ( bgm_db, logprob )\n",
    " bgm_model.utility_dic = V\n",
    " bgm_model.ord_probs = alt_probs_map.copy()\n",
    " return bgm_model, bgm_model.estimate()"
   ]
  },
  {
   "cell_type": "markdown",
   "metadata": {
    "id": "ApSvgeffCcRT"
   },
   "source": [
    "The mixed logit with panel data\n",
    "\n"
   ]
  },
  {
   "cell_type": "code",
   "execution_count": 12,
   "metadata": {
    "id": "2n-4SIpBCpCI"
   },
   "outputs": [],
   "source": [
    "def qbus_estimate_mixed_bgm(V, pd_df, tgtvar_name, panelvar_name=None, n_draws=50, seed=1, modelname='bgmdef'):\n",
    " do_panel = not (panelvar_name==None)\n",
    "\n",
    " av_auto = V.copy()\n",
    " for key, value in av_auto.items():\n",
    "   av_auto[key] = 1\n",
    " bgm_db = db.Database(modelname + '_db', pd_df)\n",
    " if (do_panel):\n",
    "   bgm_db.panel(panelvar_name)\n",
    "\n",
    " globals().update(bgm_db.variables)\n",
    " #logprob = models.loglogit (V , av_auto , bgm_db.variables[tgtvar_name] )\n",
    " obsprob = models.logit(V, av_auto, bgm_db.variables[tgtvar_name])\n",
    " if (do_panel):\n",
    "  condprobIndiv = exp.PanelLikelihoodTrajectory(obsprob)\n",
    " else:\n",
    "  condprobIndiv = obsprob\n",
    " logprob = exp.log(exp.MonteCarlo(condprobIndiv))\n",
    " bgm_model  = bio.BIOGEME(bgm_db,logprob,numberOfDraws=n_draws, seed=seed)\n",
    " bgm_model.utility_dic = V.copy()\n",
    " return bgm_model, bgm_model.estimate()"
   ]
  },
  {
   "cell_type": "markdown",
   "metadata": {
    "id": "Ya_1zth9vEX1"
   },
   "source": [
    "---\n",
    "---\n",
    "\n",
    "# Estimating a baseline model"
   ]
  },
  {
   "cell_type": "code",
   "execution_count": 13,
   "metadata": {
    "id": "SeRgbCnbG4aD"
   },
   "outputs": [],
   "source": [
    "ASC_beach = exp.Beta ( 'ASC_beach' ,0, None , None ,0)\n",
    "ASC_pier = exp.Beta ( 'ASC_pier' ,0, None , None ,0)\n",
    "ASC_boat = exp.Beta ( 'ASC_boat' ,0, None , None ,0)\n",
    "ASC_charter = exp.Beta ( 'ASC_charter' ,0, None , None ,1)\n",
    "B_price = exp.Beta ( 'B_price' ,0, None , None ,0)\n",
    "B_catch = exp.Beta ( 'B_catch' ,0, None , None ,0)"
   ]
  },
  {
   "cell_type": "code",
   "execution_count": 14,
   "metadata": {
    "id": "XDPllyLIijIy"
   },
   "outputs": [],
   "source": [
    "qbus_update_globals_bgm(data_pd)"
   ]
  },
  {
   "cell_type": "code",
   "execution_count": 15,
   "metadata": {
    "id": "HG_YkIVy2NbS"
   },
   "outputs": [],
   "source": [
    "V_beach = ASC_beach + B_price*price_beach + B_catch*catch_beach\n",
    "V_pier = ASC_pier + B_price*price_pier + B_catch*catch_pier\n",
    "V_boat = ASC_boat + B_price*price_boat + B_catch*catch_boat\n",
    "V_charter = ASC_charter + B_price*price_charter + B_catch*catch_charter\n",
    "\n",
    "V_base = {1: V_beach,\n",
    "     2: V_pier,\n",
    "     3: V_boat,\n",
    "     4: V_charter}"
   ]
  },
  {
   "cell_type": "code",
   "execution_count": 16,
   "metadata": {
    "colab": {
     "base_uri": "https://localhost:8080/"
    },
    "id": "_J5poICol34Q",
    "outputId": "0860f35c-ff58-4453-e2f8-eee47964d021"
   },
   "outputs": [
    {
     "name": "stderr",
     "output_type": "stream",
     "text": [
      "File biogeme.toml has been created\n",
      "You have not defined a name for the model. The output files are named from the model name. The default is [biogemeModelDefaultName]\n"
     ]
    }
   ],
   "source": [
    "model_base, results_base = qbus_estimate_bgm(V_base, data_pd, 'mode', 'fish')"
   ]
  },
  {
   "cell_type": "code",
   "execution_count": 17,
   "metadata": {
    "colab": {
     "base_uri": "https://localhost:8080/",
     "height": 206
    },
    "id": "_qu_aguema04",
    "outputId": "c8594d4c-6a57-4b7a-c368-ddac376f8eb4"
   },
   "outputs": [
    {
     "data": {
      "text/html": [
       "<div>\n",
       "<style scoped>\n",
       "    .dataframe tbody tr th:only-of-type {\n",
       "        vertical-align: middle;\n",
       "    }\n",
       "\n",
       "    .dataframe tbody tr th {\n",
       "        vertical-align: top;\n",
       "    }\n",
       "\n",
       "    .dataframe thead th {\n",
       "        text-align: right;\n",
       "    }\n",
       "</style>\n",
       "<table border=\"1\" class=\"dataframe\">\n",
       "  <thead>\n",
       "    <tr style=\"text-align: right;\">\n",
       "      <th></th>\n",
       "      <th>Value</th>\n",
       "      <th>Rob. Std err</th>\n",
       "      <th>Rob. t-test</th>\n",
       "      <th>Rob. p-value</th>\n",
       "    </tr>\n",
       "  </thead>\n",
       "  <tbody>\n",
       "    <tr>\n",
       "      <th>ASC_beach</th>\n",
       "      <td>-1.498888</td>\n",
       "      <td>0.129703</td>\n",
       "      <td>-11.556272</td>\n",
       "      <td>0.000000e+00</td>\n",
       "    </tr>\n",
       "    <tr>\n",
       "      <th>ASC_boat</th>\n",
       "      <td>-0.627513</td>\n",
       "      <td>0.116828</td>\n",
       "      <td>-5.371252</td>\n",
       "      <td>7.819206e-08</td>\n",
       "    </tr>\n",
       "    <tr>\n",
       "      <th>ASC_pier</th>\n",
       "      <td>-1.191833</td>\n",
       "      <td>0.128328</td>\n",
       "      <td>-9.287410</td>\n",
       "      <td>0.000000e+00</td>\n",
       "    </tr>\n",
       "    <tr>\n",
       "      <th>B_catch</th>\n",
       "      <td>0.377169</td>\n",
       "      <td>0.119247</td>\n",
       "      <td>3.162911</td>\n",
       "      <td>1.561999e-03</td>\n",
       "    </tr>\n",
       "    <tr>\n",
       "      <th>B_price</th>\n",
       "      <td>-0.024790</td>\n",
       "      <td>0.002329</td>\n",
       "      <td>-10.645098</td>\n",
       "      <td>0.000000e+00</td>\n",
       "    </tr>\n",
       "  </tbody>\n",
       "</table>\n",
       "</div>"
      ],
      "text/plain": [
       "              Value  Rob. Std err  Rob. t-test  Rob. p-value\n",
       "ASC_beach -1.498888      0.129703   -11.556272  0.000000e+00\n",
       "ASC_boat  -0.627513      0.116828    -5.371252  7.819206e-08\n",
       "ASC_pier  -1.191833      0.128328    -9.287410  0.000000e+00\n",
       "B_catch    0.377169      0.119247     3.162911  1.561999e-03\n",
       "B_price   -0.024790      0.002329   -10.645098  0.000000e+00"
      ]
     },
     "execution_count": 17,
     "metadata": {},
     "output_type": "execute_result"
    }
   ],
   "source": [
    "results_base.getEstimatedParameters()"
   ]
  },
  {
   "cell_type": "markdown",
   "metadata": {
    "id": "4mtMh3Bl6FW8"
   },
   "source": [
    "---\n",
    "---\n",
    "\n",
    "# Nested logit Question: Estimate the model\n",
    "Nested logit, we declare the nest parameter, the parameter that will represent the 'strength' of the nesting.\n",
    "\n",
    "We use the biogeme expression (same as for the Beta coefficients). In biogeme\n",
    "the larger the parameter, the stronger the nesting. Its minimum value should be 1, the maximum can be a large enough number such as 100. This comes from the $\\lambda$ in the theory part that is between 0 and 1, biogeme use a $\\mu = 1/ \\lambda$ so it should be a number larger than 1 if $\\lambda$ is between 0 and 1."
   ]
  },
  {
   "cell_type": "code",
   "execution_count": 18,
   "metadata": {
    "id": "T202OKu26mTv"
   },
   "outputs": [],
   "source": [
    "MU_nest_A = exp.Beta('MU_nest_A', 1, 1, 100, 0)"
   ]
  },
  {
   "cell_type": "markdown",
   "metadata": {
    "id": "ew8Okgp26mTv"
   },
   "source": [
    "And the nest structure. In biogeme, this is done via a python tuple of two elements:\n",
    "1. The first element is the the parameter\n",
    "2. The second parameter is a python list of ids of the alternatives that are affected by the grouping. **Remember to map the ids to the alternatives correctly!**\n",
    "\n",
    "In the following cell, we create a grouping for beach (alt. 1), pier (alt. 2) and private boat (alt. 3). This is the grouping that will be affected by the `MU_NONCHART`. Other group, in this case it is only formed by the charter boat.\n",
    "Since there is only one altenative in the group, we can set its grouping parameter to 1.\n",
    "Finaly we put all tuples together to create the full grouping specification that is passed to biogeme."
   ]
  },
  {
   "cell_type": "code",
   "execution_count": 19,
   "metadata": {
    "id": "7rBft98X6mTv"
   },
   "outputs": [],
   "source": [
    "nest_A = MU_nest_A, [1, 2, 3]\n",
    "nest_B = 1.0, [4]\n",
    "nests_struct = nest_A, nest_B"
   ]
  },
  {
   "cell_type": "markdown",
   "metadata": {
    "id": "SHQARKkD6mTv"
   },
   "source": [
    "Then we will estimate and check the model parameters."
   ]
  },
  {
   "cell_type": "code",
   "execution_count": 20,
   "metadata": {
    "colab": {
     "base_uri": "https://localhost:8080/"
    },
    "id": "vcGDdPhU6mTw",
    "outputId": "f35849b6-582b-4dc0-e0e4-0f712cda1f85"
   },
   "outputs": [
    {
     "name": "stderr",
     "output_type": "stream",
     "text": [
      "You have not defined a name for the model. The output files are named from the model name. The default is [biogemeModelDefaultName]\n"
     ]
    }
   ],
   "source": [
    "model_nest, results_nest = qbus_estimate_nested_bgm(V_base, data_pd, nests_struct, 'mode', 'data_nest' )"
   ]
  },
  {
   "cell_type": "markdown",
   "metadata": {
    "id": "JfvP0WRn6mTw"
   },
   "source": [
    "The estimation of the model gives similar coefficients to the paper."
   ]
  },
  {
   "cell_type": "code",
   "execution_count": 21,
   "metadata": {
    "colab": {
     "base_uri": "https://localhost:8080/",
     "height": 238
    },
    "id": "Qhd3rYFi6mTw",
    "outputId": "4450e2d5-15a9-4176-b741-6f8192cf3961"
   },
   "outputs": [
    {
     "data": {
      "text/html": [
       "<div>\n",
       "<style scoped>\n",
       "    .dataframe tbody tr th:only-of-type {\n",
       "        vertical-align: middle;\n",
       "    }\n",
       "\n",
       "    .dataframe tbody tr th {\n",
       "        vertical-align: top;\n",
       "    }\n",
       "\n",
       "    .dataframe thead th {\n",
       "        text-align: right;\n",
       "    }\n",
       "</style>\n",
       "<table border=\"1\" class=\"dataframe\">\n",
       "  <thead>\n",
       "    <tr style=\"text-align: right;\">\n",
       "      <th></th>\n",
       "      <th>Value</th>\n",
       "      <th>Rob. Std err</th>\n",
       "      <th>Rob. t-test</th>\n",
       "      <th>Rob. p-value</th>\n",
       "    </tr>\n",
       "  </thead>\n",
       "  <tbody>\n",
       "    <tr>\n",
       "      <th>ASC_beach</th>\n",
       "      <td>-0.391707</td>\n",
       "      <td>0.209983</td>\n",
       "      <td>-1.865420</td>\n",
       "      <td>6.212261e-02</td>\n",
       "    </tr>\n",
       "    <tr>\n",
       "      <th>ASC_boat</th>\n",
       "      <td>-0.063019</td>\n",
       "      <td>0.144708</td>\n",
       "      <td>-0.435491</td>\n",
       "      <td>6.632062e-01</td>\n",
       "    </tr>\n",
       "    <tr>\n",
       "      <th>ASC_pier</th>\n",
       "      <td>-0.241570</td>\n",
       "      <td>0.188868</td>\n",
       "      <td>-1.279038</td>\n",
       "      <td>2.008836e-01</td>\n",
       "    </tr>\n",
       "    <tr>\n",
       "      <th>B_catch</th>\n",
       "      <td>0.414502</td>\n",
       "      <td>0.098223</td>\n",
       "      <td>4.220016</td>\n",
       "      <td>2.442844e-05</td>\n",
       "    </tr>\n",
       "    <tr>\n",
       "      <th>B_price</th>\n",
       "      <td>-0.014048</td>\n",
       "      <td>0.002377</td>\n",
       "      <td>-5.910190</td>\n",
       "      <td>3.417133e-09</td>\n",
       "    </tr>\n",
       "    <tr>\n",
       "      <th>MU_nest_A</th>\n",
       "      <td>2.280309</td>\n",
       "      <td>0.494163</td>\n",
       "      <td>4.614485</td>\n",
       "      <td>3.940715e-06</td>\n",
       "    </tr>\n",
       "  </tbody>\n",
       "</table>\n",
       "</div>"
      ],
      "text/plain": [
       "              Value  Rob. Std err  Rob. t-test  Rob. p-value\n",
       "ASC_beach -0.391707      0.209983    -1.865420  6.212261e-02\n",
       "ASC_boat  -0.063019      0.144708    -0.435491  6.632062e-01\n",
       "ASC_pier  -0.241570      0.188868    -1.279038  2.008836e-01\n",
       "B_catch    0.414502      0.098223     4.220016  2.442844e-05\n",
       "B_price   -0.014048      0.002377    -5.910190  3.417133e-09\n",
       "MU_nest_A  2.280309      0.494163     4.614485  3.940715e-06"
      ]
     },
     "execution_count": 21,
     "metadata": {},
     "output_type": "execute_result"
    }
   ],
   "source": [
    "results_nest.getEstimatedParameters()"
   ]
  },
  {
   "cell_type": "markdown",
   "metadata": {
    "id": "0bXGQXi-PyGD"
   },
   "source": [
    "To check is the nested model is a statistically significant improvement over the multinomial logit version, we can do a likelihood ratio test, as usual, when the complex model is nested. If the only thing that changes is the inclusion of the 'nesting parameter' we test if nesting is useful. We can check several modifications at once, but then we would not be able to sepearate the nesting part form the rest."
   ]
  },
  {
   "cell_type": "code",
   "execution_count": 22,
   "metadata": {
    "colab": {
     "base_uri": "https://localhost:8080/"
    },
    "id": "ZWajooN5Bsak",
    "outputId": "e898e820-5e4d-4b56-c7d3-f9a73220a586"
   },
   "outputs": [
    {
     "data": {
      "text/plain": [
       "LRTuple(message='H0 can be rejected at level 5.0%', statistic=27.929483196814544, threshold=3.841458820694124)"
      ]
     },
     "execution_count": 22,
     "metadata": {},
     "output_type": "execute_result"
    }
   ],
   "source": [
    "qbus_likeli_ratio_test_bgm(results_nest, results_base, 0.05)"
   ]
  },
  {
   "cell_type": "markdown",
   "metadata": {
    "id": "g7XfTB8Y7Bmb"
   },
   "source": [
    "---\n",
    "---\n",
    "\n",
    "# Nested logit question: Find/Discuss the nest structure in the data\n",
    "\n",
    "Apart from knowing how to estimate the nested logit and interpret the results, we need to be able to compare different nesting structures that might be applicable to the data, to pick the one that is better. In practice, sometimes there are several 'reasonable' nesting structures ."
   ]
  },
  {
   "cell_type": "code",
   "execution_count": 23,
   "metadata": {
    "id": "arpkVrIv5_oQ"
   },
   "outputs": [],
   "source": [
    "alt_nest_A = MU_nest_A, [1, 2, 4]\n",
    "alt_nest_B = 1.0, [3]\n",
    "alt_nests_struct = alt_nest_A, alt_nest_B"
   ]
  },
  {
   "cell_type": "code",
   "execution_count": 24,
   "metadata": {
    "colab": {
     "base_uri": "https://localhost:8080/"
    },
    "id": "K48SJvek_iIW",
    "outputId": "fce950f7-1709-41d4-ca69-37503baafb63"
   },
   "outputs": [
    {
     "name": "stderr",
     "output_type": "stream",
     "text": [
      "You have not defined a name for the model. The output files are named from the model name. The default is [biogemeModelDefaultName]\n"
     ]
    }
   ],
   "source": [
    "alt_model_nest, alt_results_nest = qbus_estimate_nested_bgm(V_base, data_pd, alt_nests_struct, 'mode', 'data_nest' )"
   ]
  },
  {
   "cell_type": "code",
   "execution_count": 25,
   "metadata": {
    "colab": {
     "base_uri": "https://localhost:8080/",
     "height": 238
    },
    "id": "9VwO7gBM_pPF",
    "outputId": "9986825e-3dc1-422c-eb42-446418bfb8d6"
   },
   "outputs": [
    {
     "data": {
      "text/html": [
       "<div>\n",
       "<style scoped>\n",
       "    .dataframe tbody tr th:only-of-type {\n",
       "        vertical-align: middle;\n",
       "    }\n",
       "\n",
       "    .dataframe tbody tr th {\n",
       "        vertical-align: top;\n",
       "    }\n",
       "\n",
       "    .dataframe thead th {\n",
       "        text-align: right;\n",
       "    }\n",
       "</style>\n",
       "<table border=\"1\" class=\"dataframe\">\n",
       "  <thead>\n",
       "    <tr style=\"text-align: right;\">\n",
       "      <th></th>\n",
       "      <th>Value</th>\n",
       "      <th>Rob. Std err</th>\n",
       "      <th>Rob. t-test</th>\n",
       "      <th>Rob. p-value</th>\n",
       "    </tr>\n",
       "  </thead>\n",
       "  <tbody>\n",
       "    <tr>\n",
       "      <th>ASC_beach</th>\n",
       "      <td>-1.234400</td>\n",
       "      <td>0.308768</td>\n",
       "      <td>-3.997820</td>\n",
       "      <td>6.392848e-05</td>\n",
       "    </tr>\n",
       "    <tr>\n",
       "      <th>ASC_boat</th>\n",
       "      <td>-0.602371</td>\n",
       "      <td>0.110817</td>\n",
       "      <td>-5.435722</td>\n",
       "      <td>5.457495e-08</td>\n",
       "    </tr>\n",
       "    <tr>\n",
       "      <th>ASC_pier</th>\n",
       "      <td>-0.976877</td>\n",
       "      <td>0.259772</td>\n",
       "      <td>-3.760512</td>\n",
       "      <td>1.695658e-04</td>\n",
       "    </tr>\n",
       "    <tr>\n",
       "      <th>B_catch</th>\n",
       "      <td>0.375114</td>\n",
       "      <td>0.111049</td>\n",
       "      <td>3.377928</td>\n",
       "      <td>7.303411e-04</td>\n",
       "    </tr>\n",
       "    <tr>\n",
       "      <th>B_price</th>\n",
       "      <td>-0.021707</td>\n",
       "      <td>0.004289</td>\n",
       "      <td>-5.061407</td>\n",
       "      <td>4.161747e-07</td>\n",
       "    </tr>\n",
       "    <tr>\n",
       "      <th>MU_nest_A</th>\n",
       "      <td>1.209173</td>\n",
       "      <td>0.279136</td>\n",
       "      <td>4.331837</td>\n",
       "      <td>1.478704e-05</td>\n",
       "    </tr>\n",
       "  </tbody>\n",
       "</table>\n",
       "</div>"
      ],
      "text/plain": [
       "              Value  Rob. Std err  Rob. t-test  Rob. p-value\n",
       "ASC_beach -1.234400      0.308768    -3.997820  6.392848e-05\n",
       "ASC_boat  -0.602371      0.110817    -5.435722  5.457495e-08\n",
       "ASC_pier  -0.976877      0.259772    -3.760512  1.695658e-04\n",
       "B_catch    0.375114      0.111049     3.377928  7.303411e-04\n",
       "B_price   -0.021707      0.004289    -5.061407  4.161747e-07\n",
       "MU_nest_A  1.209173      0.279136     4.331837  1.478704e-05"
      ]
     },
     "execution_count": 25,
     "metadata": {},
     "output_type": "execute_result"
    }
   ],
   "source": [
    "alt_results_nest.getEstimatedParameters()"
   ]
  },
  {
   "cell_type": "markdown",
   "metadata": {
    "id": "fhQPk9cbHJgh"
   },
   "source": [
    "What happens when comparing the nested logit is that we cannot always use the likelihood ratio test, because the models to compare are not always nested (one is not always is included in the other). When models are very similar, just differing on the nested structure and the same number of parameters, we can compare the likelihoods directly (the larger the better). This will not give us a nice p-value but it can help decide among nest structures.\n",
    "\n",
    "**However,** it more general if we just use the  Akaike information criteria directly (AIC). Remember that lower means a better model, and in practice is very conservative (adding parameter has to improve the model by 'a lot').."
   ]
  },
  {
   "cell_type": "code",
   "execution_count": 26,
   "metadata": {
    "id": "jtPvWq5GAMTi"
   },
   "outputs": [],
   "source": [
    "#Likelihood ratio test is rarely applicable to compare between nests\n",
    "#qbus_likeli_ratio_test_bgm(alt_results_nest, results_nest, 0.95)"
   ]
  },
  {
   "cell_type": "code",
   "execution_count": 27,
   "metadata": {
    "id": "DOq00EgYDi2K"
   },
   "outputs": [],
   "source": [
    "#alt_results_nest.data.logLike"
   ]
  },
  {
   "cell_type": "code",
   "execution_count": 28,
   "metadata": {
    "id": "5kZBFRoODmDA"
   },
   "outputs": [],
   "source": [
    "#results_nest.data.logLike"
   ]
  },
  {
   "cell_type": "markdown",
   "metadata": {
    "id": "GB-_HdejDf5U"
   },
   "source": [
    "We should go directly for the Akaike information criteria (the lower the better).."
   ]
  },
  {
   "cell_type": "code",
   "execution_count": 29,
   "metadata": {
    "colab": {
     "base_uri": "https://localhost:8080/"
    },
    "id": "azLWObWxB-uZ",
    "outputId": "ef735f0e-752c-4665-cb3f-e518504f10b1"
   },
   "outputs": [
    {
     "data": {
      "text/plain": [
       "2472.0549748963654"
      ]
     },
     "execution_count": 29,
     "metadata": {},
     "output_type": "execute_result"
    }
   ],
   "source": [
    "alt_results_nest.data.akaike"
   ]
  },
  {
   "cell_type": "code",
   "execution_count": 30,
   "metadata": {
    "colab": {
     "base_uri": "https://localhost:8080/"
    },
    "id": "D3fmvTrzCJIq",
    "outputId": "af618a38-6a0a-4770-89c5-a926c067f3ed"
   },
   "outputs": [
    {
     "data": {
      "text/plain": [
       "2445.6381776341664"
      ]
     },
     "execution_count": 30,
     "metadata": {},
     "output_type": "execute_result"
    }
   ],
   "source": [
    "results_nest.data.akaike"
   ]
  },
  {
   "cell_type": "markdown",
   "metadata": {
    "id": "AZtTosUCJXuu"
   },
   "source": [
    "The results from loglik and Akaike are consistent in this case"
   ]
  },
  {
   "cell_type": "code",
   "execution_count": 31,
   "metadata": {
    "colab": {
     "base_uri": "https://localhost:8080/"
    },
    "id": "I7FYqaFCIoNa",
    "outputId": "c6003e87-6538-4733-bd9a-3e6fa28f4abf"
   },
   "outputs": [
    {
     "data": {
      "text/plain": [
       "2471.567660830981"
      ]
     },
     "execution_count": 31,
     "metadata": {},
     "output_type": "execute_result"
    }
   ],
   "source": [
    "results_base.data.akaike"
   ]
  },
  {
   "cell_type": "markdown",
   "metadata": {
    "id": "fMbMnRLfVJJo"
   },
   "source": [
    "---\n",
    "---\n",
    "\n",
    "# Ordered Logit question: Estimate the model and interpretation"
   ]
  },
  {
   "cell_type": "markdown",
   "metadata": {
    "id": "omPr8S9XVaDG"
   },
   "source": [
    "The ordered logit considers only one utility function, not one per alternative.\n",
    "The main 'challenge' in the ordered logit is realizing that the problem we are dealing with can be modeled with the ordered logit, that the alternatives have some sort of 'natural' order."
   ]
  },
  {
   "cell_type": "code",
   "execution_count": 32,
   "metadata": {
    "id": "XEAtiY0rWFti"
   },
   "outputs": [],
   "source": [
    "ASC_ord = exp.Beta('ASC_ord', 0, None, None, 0)"
   ]
  },
  {
   "cell_type": "code",
   "execution_count": 33,
   "metadata": {
    "id": "Bf83xKaFWCKN"
   },
   "outputs": [],
   "source": [
    "V_ord = ASC_ord + B_price*price_beach + B_catch*catch_beach + B_price*price_pier + B_catch*catch_pier"
   ]
  },
  {
   "cell_type": "markdown",
   "metadata": {
    "id": "D-A4gBIjnrx1"
   },
   "source": [
    "We use the auxiliary function `qbus_estimate_ordered_bgm`, notice the argument `[1,3,2,4]` specifying the desired order of the alternatives. In this case, it means we think that the order is:\n",
    "\n",
    " beach < private boat < pier < charterboat.\n",
    "\n",
    " **Please pay attention to the order that we specify! Otherwise we are incorrectly specify the model.**\n",
    "\n"
   ]
  },
  {
   "cell_type": "code",
   "execution_count": 34,
   "metadata": {
    "colab": {
     "base_uri": "https://localhost:8080/"
    },
    "id": "PqihL9PwjmFj",
    "outputId": "6f904074-1c7d-4d42-aa05-2f99f3ca20f3"
   },
   "outputs": [
    {
     "name": "stderr",
     "output_type": "stream",
     "text": [
      "You have not defined a name for the model. The output files are named from the model name. The default is [biogemeModelDefaultName]\n"
     ]
    }
   ],
   "source": [
    "qord_model, qord_results = qbus_estimate_ordered_bgm(V_ord, [1,3,2,4], data_pd, 'mode', )"
   ]
  },
  {
   "cell_type": "code",
   "execution_count": 35,
   "metadata": {
    "colab": {
     "base_uri": "https://localhost:8080/",
     "height": 238
    },
    "id": "F1tnWUQ5ks9h",
    "outputId": "b849b372-eef1-485e-ea8f-520ea3f7b6da"
   },
   "outputs": [
    {
     "data": {
      "text/html": [
       "<div>\n",
       "<style scoped>\n",
       "    .dataframe tbody tr th:only-of-type {\n",
       "        vertical-align: middle;\n",
       "    }\n",
       "\n",
       "    .dataframe tbody tr th {\n",
       "        vertical-align: top;\n",
       "    }\n",
       "\n",
       "    .dataframe thead th {\n",
       "        text-align: right;\n",
       "    }\n",
       "</style>\n",
       "<table border=\"1\" class=\"dataframe\">\n",
       "  <thead>\n",
       "    <tr style=\"text-align: right;\">\n",
       "      <th></th>\n",
       "      <th>Value</th>\n",
       "      <th>Rob. Std err</th>\n",
       "      <th>Rob. t-test</th>\n",
       "      <th>Rob. p-value</th>\n",
       "    </tr>\n",
       "  </thead>\n",
       "  <tbody>\n",
       "    <tr>\n",
       "      <th>ASC_ord</th>\n",
       "      <td>0.455413</td>\n",
       "      <td>0.060284</td>\n",
       "      <td>7.554519</td>\n",
       "      <td>4.196643e-14</td>\n",
       "    </tr>\n",
       "    <tr>\n",
       "      <th>B_catch</th>\n",
       "      <td>-0.046513</td>\n",
       "      <td>0.174750</td>\n",
       "      <td>-0.266170</td>\n",
       "      <td>7.901083e-01</td>\n",
       "    </tr>\n",
       "    <tr>\n",
       "      <th>B_price</th>\n",
       "      <td>0.000794</td>\n",
       "      <td>0.000289</td>\n",
       "      <td>2.744395</td>\n",
       "      <td>6.062262e-03</td>\n",
       "    </tr>\n",
       "    <tr>\n",
       "      <th>delta_2</th>\n",
       "      <td>1.921623</td>\n",
       "      <td>0.087543</td>\n",
       "      <td>21.950682</td>\n",
       "      <td>0.000000e+00</td>\n",
       "    </tr>\n",
       "    <tr>\n",
       "      <th>delta_3</th>\n",
       "      <td>0.609231</td>\n",
       "      <td>0.042970</td>\n",
       "      <td>14.177971</td>\n",
       "      <td>0.000000e+00</td>\n",
       "    </tr>\n",
       "    <tr>\n",
       "      <th>tau1</th>\n",
       "      <td>-1.455413</td>\n",
       "      <td>0.060284</td>\n",
       "      <td>-24.142783</td>\n",
       "      <td>0.000000e+00</td>\n",
       "    </tr>\n",
       "  </tbody>\n",
       "</table>\n",
       "</div>"
      ],
      "text/plain": [
       "            Value  Rob. Std err  Rob. t-test  Rob. p-value\n",
       "ASC_ord  0.455413      0.060284     7.554519  4.196643e-14\n",
       "B_catch -0.046513      0.174750    -0.266170  7.901083e-01\n",
       "B_price  0.000794      0.000289     2.744395  6.062262e-03\n",
       "delta_2  1.921623      0.087543    21.950682  0.000000e+00\n",
       "delta_3  0.609231      0.042970    14.177971  0.000000e+00\n",
       "tau1    -1.455413      0.060284   -24.142783  0.000000e+00"
      ]
     },
     "execution_count": 35,
     "metadata": {},
     "output_type": "execute_result"
    }
   ],
   "source": [
    "qord_results.getEstimatedParameters()"
   ]
  },
  {
   "cell_type": "markdown",
   "metadata": {
    "id": "sNbxuEYn4Q_x"
   },
   "source": [
    "The interpretation of the coefficients is slightly different because there is only one utility, therefoe, positive numbers that increase utility make the alternatives later in our specific order more likely. The interpretation of the cutoff points tau1 would be the fist cutoff, then tau2 would be tau1+delta_2, tau3 = tau2 + delta_3 and so on. Given the expression of the logit, it is difficult to get some clear intuition on the differences here, it is better to look at the predicions/simuations directly."
   ]
  },
  {
   "cell_type": "code",
   "execution_count": 36,
   "metadata": {
    "colab": {
     "base_uri": "https://localhost:8080/",
     "height": 424
    },
    "id": "fABfvyZnXfy0",
    "outputId": "f94867ef-eed2-4890-8d85-7dcfed85da3b"
   },
   "outputs": [
    {
     "data": {
      "text/html": [
       "<div>\n",
       "<style scoped>\n",
       "    .dataframe tbody tr th:only-of-type {\n",
       "        vertical-align: middle;\n",
       "    }\n",
       "\n",
       "    .dataframe tbody tr th {\n",
       "        vertical-align: top;\n",
       "    }\n",
       "\n",
       "    .dataframe thead th {\n",
       "        text-align: right;\n",
       "    }\n",
       "</style>\n",
       "<table border=\"1\" class=\"dataframe\">\n",
       "  <thead>\n",
       "    <tr style=\"text-align: right;\">\n",
       "      <th></th>\n",
       "      <th>1</th>\n",
       "      <th>3</th>\n",
       "      <th>2</th>\n",
       "      <th>4</th>\n",
       "    </tr>\n",
       "  </thead>\n",
       "  <tbody>\n",
       "    <tr>\n",
       "      <th>0</th>\n",
       "      <td>0.103759</td>\n",
       "      <td>0.337879</td>\n",
       "      <td>0.150960</td>\n",
       "      <td>0.407403</td>\n",
       "    </tr>\n",
       "    <tr>\n",
       "      <th>1</th>\n",
       "      <td>0.126988</td>\n",
       "      <td>0.371454</td>\n",
       "      <td>0.147900</td>\n",
       "      <td>0.353657</td>\n",
       "    </tr>\n",
       "    <tr>\n",
       "      <th>2</th>\n",
       "      <td>0.106971</td>\n",
       "      <td>0.343087</td>\n",
       "      <td>0.150741</td>\n",
       "      <td>0.399201</td>\n",
       "    </tr>\n",
       "    <tr>\n",
       "      <th>3</th>\n",
       "      <td>0.126968</td>\n",
       "      <td>0.371428</td>\n",
       "      <td>0.147904</td>\n",
       "      <td>0.353699</td>\n",
       "    </tr>\n",
       "    <tr>\n",
       "      <th>4</th>\n",
       "      <td>0.111536</td>\n",
       "      <td>0.350158</td>\n",
       "      <td>0.150301</td>\n",
       "      <td>0.388005</td>\n",
       "    </tr>\n",
       "    <tr>\n",
       "      <th>...</th>\n",
       "      <td>...</td>\n",
       "      <td>...</td>\n",
       "      <td>...</td>\n",
       "      <td>...</td>\n",
       "    </tr>\n",
       "    <tr>\n",
       "      <th>1177</th>\n",
       "      <td>0.108750</td>\n",
       "      <td>0.345887</td>\n",
       "      <td>0.150587</td>\n",
       "      <td>0.394777</td>\n",
       "    </tr>\n",
       "    <tr>\n",
       "      <th>1178</th>\n",
       "      <td>0.096313</td>\n",
       "      <td>0.325031</td>\n",
       "      <td>0.151135</td>\n",
       "      <td>0.427521</td>\n",
       "    </tr>\n",
       "    <tr>\n",
       "      <th>1179</th>\n",
       "      <td>0.122575</td>\n",
       "      <td>0.365765</td>\n",
       "      <td>0.148710</td>\n",
       "      <td>0.362950</td>\n",
       "    </tr>\n",
       "    <tr>\n",
       "      <th>1180</th>\n",
       "      <td>0.127509</td>\n",
       "      <td>0.372105</td>\n",
       "      <td>0.147799</td>\n",
       "      <td>0.352587</td>\n",
       "    </tr>\n",
       "    <tr>\n",
       "      <th>1181</th>\n",
       "      <td>0.080777</td>\n",
       "      <td>0.294366</td>\n",
       "      <td>0.149591</td>\n",
       "      <td>0.475266</td>\n",
       "    </tr>\n",
       "  </tbody>\n",
       "</table>\n",
       "<p>1182 rows × 4 columns</p>\n",
       "</div>"
      ],
      "text/plain": [
       "             1         3         2         4\n",
       "0     0.103759  0.337879  0.150960  0.407403\n",
       "1     0.126988  0.371454  0.147900  0.353657\n",
       "2     0.106971  0.343087  0.150741  0.399201\n",
       "3     0.126968  0.371428  0.147904  0.353699\n",
       "4     0.111536  0.350158  0.150301  0.388005\n",
       "...        ...       ...       ...       ...\n",
       "1177  0.108750  0.345887  0.150587  0.394777\n",
       "1178  0.096313  0.325031  0.151135  0.427521\n",
       "1179  0.122575  0.365765  0.148710  0.362950\n",
       "1180  0.127509  0.372105  0.147799  0.352587\n",
       "1181  0.080777  0.294366  0.149591  0.475266\n",
       "\n",
       "[1182 rows x 4 columns]"
      ]
     },
     "execution_count": 36,
     "metadata": {},
     "output_type": "execute_result"
    }
   ],
   "source": [
    "qbus_simulate_bgm(qord_model, qord_results.getBetaValues(), data_pd)"
   ]
  },
  {
   "cell_type": "markdown",
   "metadata": {
    "id": "CMIr-VivFLcd"
   },
   "source": [
    "---\n",
    "---\n",
    "\n",
    "# Ordered Logit question: Finding the order"
   ]
  },
  {
   "cell_type": "markdown",
   "metadata": {
    "id": "rNMC4bMyFSSr"
   },
   "source": [
    "The situation when several possible orders seem 'reasonable' we can compare them. It is a bit far-fetched, but it is also simple to test. We can use Akaike."
   ]
  },
  {
   "cell_type": "code",
   "execution_count": 37,
   "metadata": {
    "colab": {
     "base_uri": "https://localhost:8080/"
    },
    "id": "svlTSEm7FjjQ",
    "outputId": "ce0d52f7-5aa8-4ef1-cae5-0e9c172c1cd9"
   },
   "outputs": [
    {
     "name": "stderr",
     "output_type": "stream",
     "text": [
      "You have not defined a name for the model. The output files are named from the model name. The default is [biogemeModelDefaultName]\n"
     ]
    }
   ],
   "source": [
    "qord_model_na, qord_results_na = qbus_estimate_ordered_bgm(V_ord, [2,4,3,1], data_pd, 'mode')"
   ]
  },
  {
   "cell_type": "code",
   "execution_count": 38,
   "metadata": {
    "colab": {
     "base_uri": "https://localhost:8080/"
    },
    "id": "RoavYJm2Gt_r",
    "outputId": "5599cc13-233e-4d0d-d24b-d6a2a45b217d"
   },
   "outputs": [
    {
     "data": {
      "text/plain": [
       "{'Number of estimated parameters': GeneralStatistic(value=6, format=''),\n",
       " 'Sample size': GeneralStatistic(value=1182, format=''),\n",
       " 'Excluded observations': GeneralStatistic(value=0, format=''),\n",
       " 'Init log likelihood': GeneralStatistic(value=-1778.7769614712693, format='.7g'),\n",
       " 'Final log likelihood': GeneralStatistic(value=-1486.9546396886644, format='.7g'),\n",
       " 'Likelihood ratio test for the init. model': GeneralStatistic(value=583.6446435652097, format='.7g'),\n",
       " 'Rho-square for the init. model': GeneralStatistic(value=0.16405784879360674, format='.3g'),\n",
       " 'Rho-square-bar for the init. model': GeneralStatistic(value=0.16068474461587035, format='.3g'),\n",
       " 'Akaike Information Criterion': GeneralStatistic(value=2985.909279377329, format='.7g'),\n",
       " 'Bayesian Information Criterion': GeneralStatistic(value=3016.359058565125, format='.7g'),\n",
       " 'Final gradient norm': GeneralStatistic(value=2.068604681031528e-07, format='.4E'),\n",
       " 'Nbr of threads': GeneralStatistic(value=12, format='')}"
      ]
     },
     "execution_count": 38,
     "metadata": {},
     "output_type": "execute_result"
    }
   ],
   "source": [
    "qord_results_na.getGeneralStatistics()"
   ]
  },
  {
   "cell_type": "markdown",
   "metadata": {
    "id": "r9EhT_3uHTdw"
   },
   "source": [
    "We see the new order is better than the original, but both orders are really bad ideas..."
   ]
  },
  {
   "cell_type": "code",
   "execution_count": 39,
   "metadata": {
    "colab": {
     "base_uri": "https://localhost:8080/"
    },
    "id": "sWUD5E6xFzW2",
    "outputId": "a29d223c-4d96-428e-af9d-684ef6b92cec"
   },
   "outputs": [
    {
     "data": {
      "text/plain": [
       "2985.909279377329"
      ]
     },
     "execution_count": 39,
     "metadata": {},
     "output_type": "execute_result"
    }
   ],
   "source": [
    "qord_results_na.data.akaike"
   ]
  },
  {
   "cell_type": "code",
   "execution_count": 40,
   "metadata": {
    "colab": {
     "base_uri": "https://localhost:8080/"
    },
    "id": "mPEpJXqfF4df",
    "outputId": "794bbf67-d711-4cc4-9024-4ddacb6d2a22"
   },
   "outputs": [
    {
     "data": {
      "text/plain": [
       "2998.5399576804753"
      ]
     },
     "execution_count": 40,
     "metadata": {},
     "output_type": "execute_result"
    }
   ],
   "source": [
    "qord_results.data.akaike"
   ]
  },
  {
   "cell_type": "code",
   "execution_count": 41,
   "metadata": {
    "colab": {
     "base_uri": "https://localhost:8080/"
    },
    "id": "XOXPOrMcF6Ts",
    "outputId": "7fe7264d-1d76-42b4-b2bf-bbe21f1989ee"
   },
   "outputs": [
    {
     "data": {
      "text/plain": [
       "2471.567660830981"
      ]
     },
     "execution_count": 41,
     "metadata": {},
     "output_type": "execute_result"
    }
   ],
   "source": [
    "results_base.data.akaike"
   ]
  },
  {
   "cell_type": "markdown",
   "metadata": {
    "id": "xojh_NlC5q4K"
   },
   "source": [
    "---\n",
    "---\n",
    "\n",
    "\n",
    "# Panel and mixed logit questions\n",
    "\n",
    "We do not have auxiliary functions for the mixed model (yet) so we have to estimate it manually. We will go back to the Swissmetro dataset because it shows a nice result."
   ]
  },
  {
   "cell_type": "markdown",
   "metadata": {
    "id": "szu60o6XIbWO"
   },
   "source": [
    "# Panel and mixed logit questions: Panel vs Nonpanel\n",
    "\n",
    "What happens when we include the panel information?"
   ]
  },
  {
   "cell_type": "markdown",
   "metadata": {
    "id": "jD__NLr8LQwQ"
   },
   "source": [
    "Toggle `do_PANEL` and the Runtime -> Run After from here to check the differences.\n",
    "\n",
    "**IMPORTANT: We subsample the first 500 rows of the dataset, otherwise we get into numerical problems in the optimization process!**"
   ]
  },
  {
   "cell_type": "code",
   "execution_count": 42,
   "metadata": {
    "id": "cRZVLGPaJcB1"
   },
   "outputs": [],
   "source": [
    "do_PANEL = True"
   ]
  },
  {
   "cell_type": "code",
   "execution_count": 43,
   "metadata": {
    "id": "g9reskyw5tc_"
   },
   "outputs": [],
   "source": [
    "\n",
    "data_pd = pd.read_csv('http://transp-or.epfl.ch/data/swissmetro.dat', sep='\\t').head(500)\n",
    "\n",
    "#data_pd"
   ]
  },
  {
   "cell_type": "markdown",
   "metadata": {
    "id": "lVPiQ_-jIbqX"
   },
   "source": [
    "The basic cleanup of the Swissmetro dataset, remove invalid choices (0s in the CHOICE variable)"
   ]
  },
  {
   "cell_type": "code",
   "execution_count": 44,
   "metadata": {
    "id": "sgKwm2N65v5X"
   },
   "outputs": [],
   "source": [
    "data_pd = data_pd[ data_pd['CHOICE'] > 0]\n",
    "data_bgm = db.Database(\"swiss\", data_pd)"
   ]
  },
  {
   "cell_type": "code",
   "execution_count": 45,
   "metadata": {
    "id": "--4ijyk57j6-"
   },
   "outputs": [],
   "source": [
    "globals().update(data_bgm.variables)"
   ]
  },
  {
   "cell_type": "code",
   "execution_count": 46,
   "metadata": {
    "id": "BcPiXMUN6E61"
   },
   "outputs": [],
   "source": [
    "if (do_PANEL):\n",
    " data_bgm.panel(\"ID\")"
   ]
  },
  {
   "cell_type": "code",
   "execution_count": 47,
   "metadata": {
    "id": "7WXxOSCH6NTR"
   },
   "outputs": [],
   "source": [
    "ASC_CAR = exp.Beta ( 'ASC_CAR' ,0, None , None ,0)\n",
    "ASC_TRAIN = exp.Beta ( 'ASC_TRAIN' ,0, None , None ,0)\n",
    "ASC_SM = exp.Beta ( 'ASC_SM' ,0, None , None ,1)\n",
    "B_TIME = exp.Beta ( 'B_TIME' ,0, None , None ,0)\n",
    "B_COST = exp.Beta ( 'B_COST' ,0, None , None ,0)"
   ]
  },
  {
   "cell_type": "code",
   "execution_count": 48,
   "metadata": {
    "id": "xdkAY4nb7L8s"
   },
   "outputs": [],
   "source": [
    "V1 = ASC_TRAIN + B_TIME * TRAIN_TT + B_COST * TRAIN_CO\n",
    "V2 = ASC_SM + B_TIME * SM_TT + B_COST * SM_CO\n",
    "V3 = ASC_CAR + B_TIME * CAR_TT + B_COST * CAR_CO"
   ]
  },
  {
   "cell_type": "code",
   "execution_count": 49,
   "metadata": {
    "id": "BvK71R587Oqa"
   },
   "outputs": [],
   "source": [
    "V = {1: V1 ,\n",
    "2: V2 ,\n",
    "3: V3 }"
   ]
  },
  {
   "cell_type": "code",
   "execution_count": 50,
   "metadata": {
    "id": "PPe-B7Os7QcZ"
   },
   "outputs": [],
   "source": [
    "av = {1: TRAIN_AV,\n",
    "2: SM_AV,\n",
    "3: CAR_AV }"
   ]
  },
  {
   "cell_type": "code",
   "execution_count": 51,
   "metadata": {
    "colab": {
     "base_uri": "https://localhost:8080/"
    },
    "id": "orKX23f-7XPE",
    "outputId": "059ef493-dd58-4030-d1c2-7f2c26793277"
   },
   "outputs": [
    {
     "name": "stderr",
     "output_type": "stream",
     "text": [
      "You have not defined a name for the model. The output files are named from the model name. The default is [biogemeModelDefaultName]\n"
     ]
    }
   ],
   "source": [
    "logprob = None\n",
    "if (do_PANEL):\n",
    "  obsprob = models.logit(V,av, CHOICE)\n",
    "  condprobIndiv = exp.PanelLikelihoodTrajectory(obsprob)\n",
    "  logprob = exp.log((condprobIndiv))\n",
    "else:\n",
    "  logprob = models.loglogit (V , av , CHOICE )\n",
    "\n",
    "bgm_model = bio.BIOGEME ( data_bgm, logprob )\n",
    "results = bgm_model.estimate()"
   ]
  },
  {
   "cell_type": "code",
   "execution_count": 52,
   "metadata": {
    "colab": {
     "base_uri": "https://localhost:8080/",
     "height": 175
    },
    "id": "yjtQKutD8SpL",
    "outputId": "adda2bc5-a18a-4da2-a6b6-7bf94b4c7abd"
   },
   "outputs": [
    {
     "data": {
      "text/html": [
       "<div>\n",
       "<style scoped>\n",
       "    .dataframe tbody tr th:only-of-type {\n",
       "        vertical-align: middle;\n",
       "    }\n",
       "\n",
       "    .dataframe tbody tr th {\n",
       "        vertical-align: top;\n",
       "    }\n",
       "\n",
       "    .dataframe thead th {\n",
       "        text-align: right;\n",
       "    }\n",
       "</style>\n",
       "<table border=\"1\" class=\"dataframe\">\n",
       "  <thead>\n",
       "    <tr style=\"text-align: right;\">\n",
       "      <th></th>\n",
       "      <th>Value</th>\n",
       "      <th>Rob. Std err</th>\n",
       "      <th>Rob. t-test</th>\n",
       "      <th>Rob. p-value</th>\n",
       "    </tr>\n",
       "  </thead>\n",
       "  <tbody>\n",
       "    <tr>\n",
       "      <th>ASC_CAR</th>\n",
       "      <td>-2.842711</td>\n",
       "      <td>0.825744</td>\n",
       "      <td>-3.442608</td>\n",
       "      <td>5.761347e-04</td>\n",
       "    </tr>\n",
       "    <tr>\n",
       "      <th>ASC_TRAIN</th>\n",
       "      <td>-1.694028</td>\n",
       "      <td>0.229970</td>\n",
       "      <td>-7.366295</td>\n",
       "      <td>1.754152e-13</td>\n",
       "    </tr>\n",
       "    <tr>\n",
       "      <th>B_COST</th>\n",
       "      <td>-0.000131</td>\n",
       "      <td>0.000239</td>\n",
       "      <td>-0.550133</td>\n",
       "      <td>5.822280e-01</td>\n",
       "    </tr>\n",
       "    <tr>\n",
       "      <th>B_TIME</th>\n",
       "      <td>0.001569</td>\n",
       "      <td>0.000739</td>\n",
       "      <td>2.122728</td>\n",
       "      <td>3.377668e-02</td>\n",
       "    </tr>\n",
       "  </tbody>\n",
       "</table>\n",
       "</div>"
      ],
      "text/plain": [
       "              Value  Rob. Std err  Rob. t-test  Rob. p-value\n",
       "ASC_CAR   -2.842711      0.825744    -3.442608  5.761347e-04\n",
       "ASC_TRAIN -1.694028      0.229970    -7.366295  1.754152e-13\n",
       "B_COST    -0.000131      0.000239    -0.550133  5.822280e-01\n",
       "B_TIME     0.001569      0.000739     2.122728  3.377668e-02"
      ]
     },
     "execution_count": 52,
     "metadata": {},
     "output_type": "execute_result"
    }
   ],
   "source": [
    "results.getEstimatedParameters()"
   ]
  },
  {
   "cell_type": "markdown",
   "metadata": {
    "id": "UrV4tm529IaI"
   },
   "source": [
    "---\n",
    "---\n",
    "\n",
    "# Mixed logit question: Estimation"
   ]
  },
  {
   "cell_type": "code",
   "execution_count": 53,
   "metadata": {
    "id": "Z7Hw5WBL9LQ3"
   },
   "outputs": [],
   "source": [
    "SIGMA_B_COST = exp.Beta('SIGMA_B_COST',0.5,0.00001,None,0)"
   ]
  },
  {
   "cell_type": "code",
   "execution_count": 54,
   "metadata": {
    "id": "DBx826Lk9W62"
   },
   "outputs": [],
   "source": [
    "EC_B_COST = SIGMA_B_COST * exp.bioDraws('EC_B_COST','NORMAL')"
   ]
  },
  {
   "cell_type": "code",
   "execution_count": 55,
   "metadata": {
    "id": "ldGX-lTO9ca7"
   },
   "outputs": [],
   "source": [
    "m_V1 = ASC_TRAIN + B_TIME * TRAIN_TT + (B_COST + EC_B_COST )  * TRAIN_CO\n",
    "m_V2 = ASC_SM + B_TIME * SM_TT + (B_COST + EC_B_COST ) * SM_CO\n",
    "m_V3 = ASC_CAR + B_TIME * CAR_TT + (B_COST+ EC_B_COST ) * CAR_CO"
   ]
  },
  {
   "cell_type": "code",
   "execution_count": 56,
   "metadata": {
    "id": "8J92EHb_-U5t"
   },
   "outputs": [],
   "source": [
    "m_V = {1: m_V1, 2:m_V2, 3:m_V3}"
   ]
  },
  {
   "cell_type": "code",
   "execution_count": 57,
   "metadata": {
    "id": "mrU6ylTf98ff"
   },
   "outputs": [],
   "source": [
    "m_obsprob = models.logit(m_V, av, CHOICE)\n",
    "m_condprobIndiv = None"
   ]
  },
  {
   "cell_type": "code",
   "execution_count": 58,
   "metadata": {
    "id": "BMrTTiT7uizv"
   },
   "outputs": [],
   "source": [
    "if (do_PANEL):\n",
    " m_condprobIndiv = exp.PanelLikelihoodTrajectory(m_obsprob)\n",
    "else:\n",
    " m_condprobIndiv = m_obsprob"
   ]
  },
  {
   "cell_type": "code",
   "execution_count": 59,
   "metadata": {
    "id": "O7vqM0O9YwVz"
   },
   "outputs": [],
   "source": [
    "#condprobIndiv = exp.PanelLikelihoodTrajectory(obsprob)"
   ]
  },
  {
   "cell_type": "markdown",
   "metadata": {
    "id": "UfPNY5auywhh"
   },
   "source": [
    "And Step 2 we take the model and then modify it by the expresion `exp.MonteCarlo`. The final log it to take the loglikelihood."
   ]
  },
  {
   "cell_type": "code",
   "execution_count": 60,
   "metadata": {
    "id": "PS69PxS9yAGG"
   },
   "outputs": [],
   "source": [
    "m_logprob = exp.log(exp.MonteCarlo(m_condprobIndiv))"
   ]
  },
  {
   "cell_type": "markdown",
   "metadata": {
    "id": "MRtpFZRayEde"
   },
   "source": [
    "We  are using simulation,  so we have to tell biogeme how many draws from the distribution are we going to generate. The more draws, the more accurate estimation, but it is compuationally costly.\n",
    "\n",
    "We also set up a seed, so we can get the same results if the run the notebook again (setting up a seed is a good habit in general)"
   ]
  },
  {
   "cell_type": "code",
   "execution_count": 61,
   "metadata": {
    "colab": {
     "base_uri": "https://localhost:8080/"
    },
    "id": "iQ4kHXoaxoY8",
    "outputId": "33858fa7-ca33-4bf6-9723-6d19aefeb970"
   },
   "outputs": [
    {
     "name": "stderr",
     "output_type": "stream",
     "text": [
      "The use of argument numberOfDraws in the constructor of the BIOGEME object is deprecated and will be removed in future versions of Biogeme. Instead, define parameter number_of_draws in section MonteCarlo of the .toml parameter file. The default file name is biogeme.toml\n",
      "The use of argument seed in the constructor of the BIOGEME object is deprecated and will be removed in future versions of Biogeme. Instead, define parameter seed in section MonteCarlo of the .toml parameter file. The default file name is biogeme.toml\n"
     ]
    }
   ],
   "source": [
    "\n",
    "# Create the Biogeme object\n",
    "m_biogeme  = bio.BIOGEME(data_bgm,m_logprob,numberOfDraws=50, seed=1)\n"
   ]
  },
  {
   "cell_type": "code",
   "execution_count": 62,
   "metadata": {
    "colab": {
     "base_uri": "https://localhost:8080/"
    },
    "id": "lQpnVVzO-CAM",
    "outputId": "b152c62b-3611-491e-8de4-f272cdd0c845"
   },
   "outputs": [
    {
     "name": "stderr",
     "output_type": "stream",
     "text": [
      "You have not defined a name for the model. The output files are named from the model name. The default is [biogemeModelDefaultName]\n",
      "Numerical problem with the second derivative matrix. Norm = inf. Replaced by the BFGS approximation.\n",
      "Numerical problem with the second derivative matrix. Norm = inf. Replaced by the BFGS approximation.\n",
      "Numerical problem with the second derivative matrix. Norm = inf. Replaced by the BFGS approximation.\n",
      "Numerical problem with the second derivative matrix. Norm = inf. Replaced by the BFGS approximation.\n",
      "Numerical problem with the second derivative matrix. Norm = inf. Replaced by the BFGS approximation.\n",
      "Numerical problem with the second derivative matrix. Norm = inf. Replaced by the BFGS approximation.\n",
      "Numerical problem with the second derivative matrix. Norm = inf. Replaced by the BFGS approximation.\n",
      "Numerical problem with the second derivative matrix. Norm = inf. Replaced by the BFGS approximation.\n",
      "Numerical problem with the second derivative matrix. Norm = inf. Replaced by the BFGS approximation.\n",
      "Numerical problem with the second derivative matrix. Norm = inf. Replaced by the BFGS approximation.\n",
      "Numerical problem with the second derivative matrix. Norm = inf. Replaced by the BFGS approximation.\n",
      "Numerical problem with the second derivative matrix. Norm = inf. Replaced by the BFGS approximation.\n",
      "Numerical problem with the second derivative matrix. Norm = inf. Replaced by the BFGS approximation.\n",
      "Numerical problem with the second derivative matrix. Norm = inf. Replaced by the BFGS approximation.\n",
      "Numerical problem with the second derivative matrix. Norm = inf. Replaced by the BFGS approximation.\n",
      "Numerical problem with the second derivative matrix. Norm = inf. Replaced by the BFGS approximation.\n",
      "Numerical problem with the second derivative matrix. Norm = inf. Replaced by the BFGS approximation.\n",
      "Numerical problem with the second derivative matrix. Norm = inf. Replaced by the BFGS approximation.\n",
      "Numerical problem with the second derivative matrix. Norm = inf. Replaced by the BFGS approximation.\n",
      "Numerical problem with the second derivative matrix. Norm = inf. Replaced by the BFGS approximation.\n",
      "Numerical problem with the second derivative matrix. Norm = inf. Replaced by the BFGS approximation.\n",
      "Numerical problem with the second derivative matrix. Norm = inf. Replaced by the BFGS approximation.\n",
      "Numerical problem with the second derivative matrix. Norm = inf. Replaced by the BFGS approximation.\n"
     ]
    }
   ],
   "source": [
    "results_mixed = m_biogeme.estimate()"
   ]
  },
  {
   "cell_type": "code",
   "execution_count": 63,
   "metadata": {
    "id": "SGdjIPQM-G9u"
   },
   "outputs": [
    {
     "data": {
      "text/html": [
       "<div>\n",
       "<style scoped>\n",
       "    .dataframe tbody tr th:only-of-type {\n",
       "        vertical-align: middle;\n",
       "    }\n",
       "\n",
       "    .dataframe tbody tr th {\n",
       "        vertical-align: top;\n",
       "    }\n",
       "\n",
       "    .dataframe thead th {\n",
       "        text-align: right;\n",
       "    }\n",
       "</style>\n",
       "<table border=\"1\" class=\"dataframe\">\n",
       "  <thead>\n",
       "    <tr style=\"text-align: right;\">\n",
       "      <th></th>\n",
       "      <th>Value</th>\n",
       "      <th>Rob. Std err</th>\n",
       "      <th>Rob. t-test</th>\n",
       "      <th>Rob. p-value</th>\n",
       "    </tr>\n",
       "  </thead>\n",
       "  <tbody>\n",
       "    <tr>\n",
       "      <th>ASC_CAR</th>\n",
       "      <td>-3.099286</td>\n",
       "      <td>0.724934</td>\n",
       "      <td>-4.275264</td>\n",
       "      <td>0.000019</td>\n",
       "    </tr>\n",
       "    <tr>\n",
       "      <th>ASC_TRAIN</th>\n",
       "      <td>-2.029061</td>\n",
       "      <td>0.236167</td>\n",
       "      <td>-8.591645</td>\n",
       "      <td>0.000000</td>\n",
       "    </tr>\n",
       "    <tr>\n",
       "      <th>B_COST</th>\n",
       "      <td>-0.003460</td>\n",
       "      <td>0.001993</td>\n",
       "      <td>-1.736180</td>\n",
       "      <td>0.082532</td>\n",
       "    </tr>\n",
       "    <tr>\n",
       "      <th>B_TIME</th>\n",
       "      <td>0.001224</td>\n",
       "      <td>0.000871</td>\n",
       "      <td>1.404512</td>\n",
       "      <td>0.160166</td>\n",
       "    </tr>\n",
       "    <tr>\n",
       "      <th>SIGMA_B_COST</th>\n",
       "      <td>0.033323</td>\n",
       "      <td>0.021567</td>\n",
       "      <td>1.545085</td>\n",
       "      <td>0.122326</td>\n",
       "    </tr>\n",
       "  </tbody>\n",
       "</table>\n",
       "</div>"
      ],
      "text/plain": [
       "                 Value  Rob. Std err  Rob. t-test  Rob. p-value\n",
       "ASC_CAR      -3.099286      0.724934    -4.275264      0.000019\n",
       "ASC_TRAIN    -2.029061      0.236167    -8.591645      0.000000\n",
       "B_COST       -0.003460      0.001993    -1.736180      0.082532\n",
       "B_TIME        0.001224      0.000871     1.404512      0.160166\n",
       "SIGMA_B_COST  0.033323      0.021567     1.545085      0.122326"
      ]
     },
     "execution_count": 63,
     "metadata": {},
     "output_type": "execute_result"
    }
   ],
   "source": [
    "results_mixed.getEstimatedParameters()"
   ]
  },
  {
   "cell_type": "markdown",
   "metadata": {
    "id": "2S7TvfbZ-mH1"
   },
   "source": [
    "---\n",
    "---\n",
    "\n",
    "# Mixed Logit question: Interpretation of the distribution of a parameter"
   ]
  },
  {
   "cell_type": "markdown",
   "metadata": {
    "id": "Jf69M46IAnC6"
   },
   "source": [
    "* The main interpretation is the understanding that parameters are 'random' so the output is an estimation of the probability distribution of the parameters, in this case COST follows a normal (approximately, for the panel version) $N(-0.000318, 0.001195^2)$.\n",
    "\n",
    "* Secondary interpretations are doing 'something' with the distribution.\n",
    " For example: **What percentage of people in the population have a cost parameter that is positive?**"
   ]
  },
  {
   "cell_type": "code",
   "execution_count": 64,
   "metadata": {
    "id": "F2JfRHhTBYpn"
   },
   "outputs": [
    {
     "data": {
      "text/plain": [
       "0.4586487851850871"
      ]
     },
     "execution_count": 64,
     "metadata": {},
     "output_type": "execute_result"
    }
   ],
   "source": [
    "from scipy.stats import norm\n",
    "\n",
    "1 - norm.cdf(0, results_mixed.getBetaValues()['B_COST'], results_mixed.getBetaValues()['SIGMA_B_COST'])"
   ]
  }
 ],
 "metadata": {
  "colab": {
   "name": "practice_final",
   "provenance": []
  },
  "kernelspec": {
   "display_name": "Python 3 (ipykernel)",
   "language": "python",
   "name": "python3"
  },
  "language_info": {
   "codemirror_mode": {
    "name": "ipython",
    "version": 3
   },
   "file_extension": ".py",
   "mimetype": "text/x-python",
   "name": "python",
   "nbconvert_exporter": "python",
   "pygments_lexer": "ipython3",
   "version": "3.10.9"
  }
 },
 "nbformat": 4,
 "nbformat_minor": 1
}
