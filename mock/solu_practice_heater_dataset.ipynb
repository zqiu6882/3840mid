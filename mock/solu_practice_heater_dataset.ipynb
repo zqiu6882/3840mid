{
  "nbformat": 4,
  "nbformat_minor": 0,
  "metadata": {
    "colab": {
      "provenance": []
    },
    "kernelspec": {
      "name": "python3",
      "display_name": "Python 3"
    },
    "language_info": {
      "name": "python"
    }
  },
  "cells": [
    {
      "cell_type": "markdown",
      "metadata": {
        "id": "zuJImh8WqX_m"
      },
      "source": [
        "# Solution: Practice QBUS3840 Test using the Heater dataset"
      ]
    },
    {
      "cell_type": "markdown",
      "metadata": {
        "id": "rxbeRIOOkIRc"
      },
      "source": [
        "You will anayze a classic dataset, from Kenneth Train, about Heating system preferences.\n",
        "Households face the decision of which heating system to install, for example, Should we install a gas central heating system or for a heat pump instead? (among others).\n",
        "\n",
        "Several variables that affect the decision are measured, such as the installation costs, operation costs for one year and characteristics such as the number of rooms in the house or the income of the household.\n",
        "The dataset was gathered in California\n"
      ]
    },
    {
      "cell_type": "markdown",
      "source": [
        "\n",
        "## Description of the dataset\n",
        "\n",
        "Each row represents a different household, os the household is the 'decision-maker' in this scenario. Household are 'independent' of each other.\n",
        "\n",
        "The variables in the dataset are:\n",
        "\n",
        "**idcase:** The identifier of each individual, decision-maker.\n",
        "\n",
        "**depvar**: A categorical variable indicating the choice of heating system. It is encoded in text *(we will turn it into numbers for biogeme in the preprocessing step)*. We have 5 alternatives.\n",
        "\n",
        " * 'gc': Gas central\n",
        " * 'gr': Gas room\n",
        " * 'ec': Electric central\n",
        " * 'er': Electric room\n",
        " * 'hp': Heat pump\n",
        "\n",
        "**Installation costs variables**:  The cost of installing each system, the variable names are encoded such as `ic_xx`, with xx being the name of the alternative, as in the depvar variable. For example the column `ic_gc` means installation costs for the gas central alternative. `ic_er` would be installation cost for the electric room alternative.\n",
        "\n",
        "**Operation costs**: Operation costs of each heating system, for a year. The variable names are encoded in a similar fashion to installation cost. So the column`oc_gr` would mean operation cost for the gas room alternative.\n",
        "\n",
        "**rooms**: The number of rooms in the house, a numeric variable.\n",
        "\n",
        "**agehed**: Age of the decision maker, considered as the 'household head'.\n",
        "\n",
        "**income**: Yearly income of the household, in dollars.\n",
        "\n",
        "**region**: A categorical variable encoding the location of the household within California. Four levels encoded with text (will be turned into numbers for processing in biogeme).\n",
        " * 'ncostl': Norther coastal region\n",
        " * 'scostl': Souther coastal region\n",
        " * 'mountn': Mountain region\n",
        " * 'valley': Valley region"
      ],
      "metadata": {
        "id": "-2RB1j0txjoq"
      }
    },
    {
      "cell_type": "markdown",
      "metadata": {
        "id": "vb9SIunnASNB"
      },
      "source": [
        "---\n",
        "---\n",
        "\n",
        "# Preparing the environment\n"
      ]
    },
    {
      "cell_type": "code",
      "metadata": {
        "colab": {
          "base_uri": "https://localhost:8080/"
        },
        "id": "j5zHGhgErHPd",
        "outputId": "a7367c06-9788-4f0c-a197-bb4357b86c0e"
      },
      "source": [
        "!pip install biogeme"
      ],
      "execution_count": null,
      "outputs": [
        {
          "output_type": "stream",
          "name": "stdout",
          "text": [
            "Looking in indexes: https://pypi.org/simple, https://us-python.pkg.dev/colab-wheels/public/simple/\n",
            "Requirement already satisfied: biogeme in /usr/local/lib/python3.7/dist-packages (3.2.10)\n"
          ]
        }
      ]
    },
    {
      "cell_type": "markdown",
      "metadata": {
        "id": "1z0X9xZ8rChf"
      },
      "source": [
        "Load the packages, feel free to change the names."
      ]
    },
    {
      "cell_type": "code",
      "metadata": {
        "id": "apVB-TMkrFnb"
      },
      "source": [
        "import pandas  as pd\n",
        "import numpy as np\n",
        "import matplotlib.pyplot as plt\n",
        "\n",
        "import biogeme.database as db\n",
        "import biogeme.biogeme as bio\n",
        "import biogeme.models as models\n",
        "import biogeme.expressions as exp\n",
        "import biogeme.tools as tools"
      ],
      "execution_count": null,
      "outputs": []
    },
    {
      "cell_type": "markdown",
      "metadata": {
        "id": "Mgv0hV1YAieW"
      },
      "source": [
        "# Load the dataset"
      ]
    },
    {
      "cell_type": "code",
      "metadata": {
        "id": "g1Ykn5Ytr7Rs"
      },
      "source": [
        "\n",
        "heater_pd = pd.read_csv('https://github.com/pmontman/tmp_choicemodels/raw/main/data/heating.csv')\n"
      ],
      "execution_count": null,
      "outputs": []
    },
    {
      "cell_type": "markdown",
      "metadata": {
        "id": "ZY55r3Gesb3t"
      },
      "source": [
        "A simple look at the dataset."
      ]
    },
    {
      "cell_type": "code",
      "metadata": {
        "colab": {
          "base_uri": "https://localhost:8080/",
          "height": 206
        },
        "id": "ldkmnMhssemT",
        "outputId": "038d1c3b-2c70-4a9e-dc96-9d5f603687b4"
      },
      "source": [
        "heater_pd.head(5)"
      ],
      "execution_count": null,
      "outputs": [
        {
          "output_type": "execute_result",
          "data": {
            "text/plain": [
              "   idcase depvar   ic_gc   ic_gr   ic_ec   ic_er    ic_hp   oc_gc   oc_gr  \\\n",
              "0       1     gc  866.00  962.64  859.90  995.76  1135.50  199.69  151.72   \n",
              "1       2     gc  727.93  758.89  796.82  894.69   968.90  168.66  168.66   \n",
              "2       3     gc  599.48  783.05  719.86  900.11  1048.30  165.58  137.80   \n",
              "3       4     er  835.17  793.06  761.25  831.04  1048.70  180.88  147.14   \n",
              "4       5     er  755.59  846.29  858.86  985.64   883.05  174.91  138.90   \n",
              "\n",
              "    oc_ec   oc_er   oc_hp  income  agehed  rooms  region  \n",
              "0  553.34  505.60  237.88       7      25      6  ncostl  \n",
              "1  520.24  486.49  199.19       5      60      5  scostl  \n",
              "2  439.06  404.74  171.47       4      65      2  ncostl  \n",
              "3  483.00  425.22  222.95       2      50      4  scostl  \n",
              "4  404.41  389.52  178.49       2      25      6  valley  "
            ],
            "text/html": [
              "\n",
              "  <div id=\"df-3cb64e56-18b4-463d-a6bc-07b05e84804f\">\n",
              "    <div class=\"colab-df-container\">\n",
              "      <div>\n",
              "<style scoped>\n",
              "    .dataframe tbody tr th:only-of-type {\n",
              "        vertical-align: middle;\n",
              "    }\n",
              "\n",
              "    .dataframe tbody tr th {\n",
              "        vertical-align: top;\n",
              "    }\n",
              "\n",
              "    .dataframe thead th {\n",
              "        text-align: right;\n",
              "    }\n",
              "</style>\n",
              "<table border=\"1\" class=\"dataframe\">\n",
              "  <thead>\n",
              "    <tr style=\"text-align: right;\">\n",
              "      <th></th>\n",
              "      <th>idcase</th>\n",
              "      <th>depvar</th>\n",
              "      <th>ic_gc</th>\n",
              "      <th>ic_gr</th>\n",
              "      <th>ic_ec</th>\n",
              "      <th>ic_er</th>\n",
              "      <th>ic_hp</th>\n",
              "      <th>oc_gc</th>\n",
              "      <th>oc_gr</th>\n",
              "      <th>oc_ec</th>\n",
              "      <th>oc_er</th>\n",
              "      <th>oc_hp</th>\n",
              "      <th>income</th>\n",
              "      <th>agehed</th>\n",
              "      <th>rooms</th>\n",
              "      <th>region</th>\n",
              "    </tr>\n",
              "  </thead>\n",
              "  <tbody>\n",
              "    <tr>\n",
              "      <th>0</th>\n",
              "      <td>1</td>\n",
              "      <td>gc</td>\n",
              "      <td>866.00</td>\n",
              "      <td>962.64</td>\n",
              "      <td>859.90</td>\n",
              "      <td>995.76</td>\n",
              "      <td>1135.50</td>\n",
              "      <td>199.69</td>\n",
              "      <td>151.72</td>\n",
              "      <td>553.34</td>\n",
              "      <td>505.60</td>\n",
              "      <td>237.88</td>\n",
              "      <td>7</td>\n",
              "      <td>25</td>\n",
              "      <td>6</td>\n",
              "      <td>ncostl</td>\n",
              "    </tr>\n",
              "    <tr>\n",
              "      <th>1</th>\n",
              "      <td>2</td>\n",
              "      <td>gc</td>\n",
              "      <td>727.93</td>\n",
              "      <td>758.89</td>\n",
              "      <td>796.82</td>\n",
              "      <td>894.69</td>\n",
              "      <td>968.90</td>\n",
              "      <td>168.66</td>\n",
              "      <td>168.66</td>\n",
              "      <td>520.24</td>\n",
              "      <td>486.49</td>\n",
              "      <td>199.19</td>\n",
              "      <td>5</td>\n",
              "      <td>60</td>\n",
              "      <td>5</td>\n",
              "      <td>scostl</td>\n",
              "    </tr>\n",
              "    <tr>\n",
              "      <th>2</th>\n",
              "      <td>3</td>\n",
              "      <td>gc</td>\n",
              "      <td>599.48</td>\n",
              "      <td>783.05</td>\n",
              "      <td>719.86</td>\n",
              "      <td>900.11</td>\n",
              "      <td>1048.30</td>\n",
              "      <td>165.58</td>\n",
              "      <td>137.80</td>\n",
              "      <td>439.06</td>\n",
              "      <td>404.74</td>\n",
              "      <td>171.47</td>\n",
              "      <td>4</td>\n",
              "      <td>65</td>\n",
              "      <td>2</td>\n",
              "      <td>ncostl</td>\n",
              "    </tr>\n",
              "    <tr>\n",
              "      <th>3</th>\n",
              "      <td>4</td>\n",
              "      <td>er</td>\n",
              "      <td>835.17</td>\n",
              "      <td>793.06</td>\n",
              "      <td>761.25</td>\n",
              "      <td>831.04</td>\n",
              "      <td>1048.70</td>\n",
              "      <td>180.88</td>\n",
              "      <td>147.14</td>\n",
              "      <td>483.00</td>\n",
              "      <td>425.22</td>\n",
              "      <td>222.95</td>\n",
              "      <td>2</td>\n",
              "      <td>50</td>\n",
              "      <td>4</td>\n",
              "      <td>scostl</td>\n",
              "    </tr>\n",
              "    <tr>\n",
              "      <th>4</th>\n",
              "      <td>5</td>\n",
              "      <td>er</td>\n",
              "      <td>755.59</td>\n",
              "      <td>846.29</td>\n",
              "      <td>858.86</td>\n",
              "      <td>985.64</td>\n",
              "      <td>883.05</td>\n",
              "      <td>174.91</td>\n",
              "      <td>138.90</td>\n",
              "      <td>404.41</td>\n",
              "      <td>389.52</td>\n",
              "      <td>178.49</td>\n",
              "      <td>2</td>\n",
              "      <td>25</td>\n",
              "      <td>6</td>\n",
              "      <td>valley</td>\n",
              "    </tr>\n",
              "  </tbody>\n",
              "</table>\n",
              "</div>\n",
              "      <button class=\"colab-df-convert\" onclick=\"convertToInteractive('df-3cb64e56-18b4-463d-a6bc-07b05e84804f')\"\n",
              "              title=\"Convert this dataframe to an interactive table.\"\n",
              "              style=\"display:none;\">\n",
              "        \n",
              "  <svg xmlns=\"http://www.w3.org/2000/svg\" height=\"24px\"viewBox=\"0 0 24 24\"\n",
              "       width=\"24px\">\n",
              "    <path d=\"M0 0h24v24H0V0z\" fill=\"none\"/>\n",
              "    <path d=\"M18.56 5.44l.94 2.06.94-2.06 2.06-.94-2.06-.94-.94-2.06-.94 2.06-2.06.94zm-11 1L8.5 8.5l.94-2.06 2.06-.94-2.06-.94L8.5 2.5l-.94 2.06-2.06.94zm10 10l.94 2.06.94-2.06 2.06-.94-2.06-.94-.94-2.06-.94 2.06-2.06.94z\"/><path d=\"M17.41 7.96l-1.37-1.37c-.4-.4-.92-.59-1.43-.59-.52 0-1.04.2-1.43.59L10.3 9.45l-7.72 7.72c-.78.78-.78 2.05 0 2.83L4 21.41c.39.39.9.59 1.41.59.51 0 1.02-.2 1.41-.59l7.78-7.78 2.81-2.81c.8-.78.8-2.07 0-2.86zM5.41 20L4 18.59l7.72-7.72 1.47 1.35L5.41 20z\"/>\n",
              "  </svg>\n",
              "      </button>\n",
              "      \n",
              "  <style>\n",
              "    .colab-df-container {\n",
              "      display:flex;\n",
              "      flex-wrap:wrap;\n",
              "      gap: 12px;\n",
              "    }\n",
              "\n",
              "    .colab-df-convert {\n",
              "      background-color: #E8F0FE;\n",
              "      border: none;\n",
              "      border-radius: 50%;\n",
              "      cursor: pointer;\n",
              "      display: none;\n",
              "      fill: #1967D2;\n",
              "      height: 32px;\n",
              "      padding: 0 0 0 0;\n",
              "      width: 32px;\n",
              "    }\n",
              "\n",
              "    .colab-df-convert:hover {\n",
              "      background-color: #E2EBFA;\n",
              "      box-shadow: 0px 1px 2px rgba(60, 64, 67, 0.3), 0px 1px 3px 1px rgba(60, 64, 67, 0.15);\n",
              "      fill: #174EA6;\n",
              "    }\n",
              "\n",
              "    [theme=dark] .colab-df-convert {\n",
              "      background-color: #3B4455;\n",
              "      fill: #D2E3FC;\n",
              "    }\n",
              "\n",
              "    [theme=dark] .colab-df-convert:hover {\n",
              "      background-color: #434B5C;\n",
              "      box-shadow: 0px 1px 3px 1px rgba(0, 0, 0, 0.15);\n",
              "      filter: drop-shadow(0px 1px 2px rgba(0, 0, 0, 0.3));\n",
              "      fill: #FFFFFF;\n",
              "    }\n",
              "  </style>\n",
              "\n",
              "      <script>\n",
              "        const buttonEl =\n",
              "          document.querySelector('#df-3cb64e56-18b4-463d-a6bc-07b05e84804f button.colab-df-convert');\n",
              "        buttonEl.style.display =\n",
              "          google.colab.kernel.accessAllowed ? 'block' : 'none';\n",
              "\n",
              "        async function convertToInteractive(key) {\n",
              "          const element = document.querySelector('#df-3cb64e56-18b4-463d-a6bc-07b05e84804f');\n",
              "          const dataTable =\n",
              "            await google.colab.kernel.invokeFunction('convertToInteractive',\n",
              "                                                     [key], {});\n",
              "          if (!dataTable) return;\n",
              "\n",
              "          const docLinkHtml = 'Like what you see? Visit the ' +\n",
              "            '<a target=\"_blank\" href=https://colab.research.google.com/notebooks/data_table.ipynb>data table notebook</a>'\n",
              "            + ' to learn more about interactive tables.';\n",
              "          element.innerHTML = '';\n",
              "          dataTable['output_type'] = 'display_data';\n",
              "          await google.colab.output.renderOutput(dataTable, element);\n",
              "          const docLink = document.createElement('div');\n",
              "          docLink.innerHTML = docLinkHtml;\n",
              "          element.appendChild(docLink);\n",
              "        }\n",
              "      </script>\n",
              "    </div>\n",
              "  </div>\n",
              "  "
            ]
          },
          "metadata": {},
          "execution_count": 78
        }
      ]
    },
    {
      "cell_type": "markdown",
      "source": [
        "Data cleaning (not needed in a exam): The variable depvar uses strings for the variable, we need to use integers (starting in 1) for biogeme. So we re-encode the `depvar` variable as integer using the pandas `factorize` function.\n",
        "\n",
        "**Be careful with the encoding! according to `factorize`, in this dataset, the corresponding numbers will be:**\n",
        " 1. gas central\n",
        " 2. electricity room\n",
        " 3. gas room\n",
        " 4. heat pump\n",
        " 5. electricty central\n",
        "\n",
        "---\n",
        "\n"
      ],
      "metadata": {
        "id": "IbWrMzgQp6MY"
      }
    },
    {
      "cell_type": "code",
      "source": [
        "depvar_factor = pd.factorize(heater_pd['depvar'])\n",
        "\n",
        "heater_pd['depvar'] = depvar_factor[0] + 1\n",
        "depvar_factor[1]"
      ],
      "metadata": {
        "colab": {
          "base_uri": "https://localhost:8080/"
        },
        "id": "K3FRy68QovmN",
        "outputId": "83366270-27c9-4d03-fd72-015a9d08d7cf"
      },
      "execution_count": null,
      "outputs": [
        {
          "output_type": "execute_result",
          "data": {
            "text/plain": [
              "Index(['gc', 'er', 'gr', 'hp', 'ec'], dtype='object')"
            ]
          },
          "metadata": {},
          "execution_count": 79
        }
      ]
    },
    {
      "cell_type": "markdown",
      "source": [
        "The `region` variable, we will encoded it as numbers via binary encoding. We do this with `get_dummies` function from pandas. We can do the efficient binary encoding, considering one of the levels of region as the baseline (saving one variable), or the explicit encoding, creating one variable per level.\n",
        "Let's go for explicit encoding, easier interpretation.\n",
        "\n",
        "We will also print a snapshot of the resulting dataset, already clean and ready for analysis."
      ],
      "metadata": {
        "id": "Wh0Rp3t9xrKp"
      }
    },
    {
      "cell_type": "code",
      "source": [
        "heater_pd = pd.get_dummies(heater_pd, 'region')\n",
        "\n",
        "heater_pd.head(5)"
      ],
      "metadata": {
        "colab": {
          "base_uri": "https://localhost:8080/",
          "height": 206
        },
        "id": "OX3WUFVbxnuQ",
        "outputId": "31644ad8-94db-450c-9ace-d1d761129070"
      },
      "execution_count": null,
      "outputs": [
        {
          "output_type": "execute_result",
          "data": {
            "text/plain": [
              "   idcase  depvar   ic_gc   ic_gr   ic_ec   ic_er    ic_hp   oc_gc   oc_gr  \\\n",
              "0       1       1  866.00  962.64  859.90  995.76  1135.50  199.69  151.72   \n",
              "1       2       1  727.93  758.89  796.82  894.69   968.90  168.66  168.66   \n",
              "2       3       1  599.48  783.05  719.86  900.11  1048.30  165.58  137.80   \n",
              "3       4       2  835.17  793.06  761.25  831.04  1048.70  180.88  147.14   \n",
              "4       5       2  755.59  846.29  858.86  985.64   883.05  174.91  138.90   \n",
              "\n",
              "    oc_ec   oc_er   oc_hp  income  agehed  rooms  region_mountn  \\\n",
              "0  553.34  505.60  237.88       7      25      6              0   \n",
              "1  520.24  486.49  199.19       5      60      5              0   \n",
              "2  439.06  404.74  171.47       4      65      2              0   \n",
              "3  483.00  425.22  222.95       2      50      4              0   \n",
              "4  404.41  389.52  178.49       2      25      6              0   \n",
              "\n",
              "   region_ncostl  region_scostl  region_valley  \n",
              "0              1              0              0  \n",
              "1              0              1              0  \n",
              "2              1              0              0  \n",
              "3              0              1              0  \n",
              "4              0              0              1  "
            ],
            "text/html": [
              "\n",
              "  <div id=\"df-aa0806cc-cc09-47ed-bb6b-cecbc78c0e0b\">\n",
              "    <div class=\"colab-df-container\">\n",
              "      <div>\n",
              "<style scoped>\n",
              "    .dataframe tbody tr th:only-of-type {\n",
              "        vertical-align: middle;\n",
              "    }\n",
              "\n",
              "    .dataframe tbody tr th {\n",
              "        vertical-align: top;\n",
              "    }\n",
              "\n",
              "    .dataframe thead th {\n",
              "        text-align: right;\n",
              "    }\n",
              "</style>\n",
              "<table border=\"1\" class=\"dataframe\">\n",
              "  <thead>\n",
              "    <tr style=\"text-align: right;\">\n",
              "      <th></th>\n",
              "      <th>idcase</th>\n",
              "      <th>depvar</th>\n",
              "      <th>ic_gc</th>\n",
              "      <th>ic_gr</th>\n",
              "      <th>ic_ec</th>\n",
              "      <th>ic_er</th>\n",
              "      <th>ic_hp</th>\n",
              "      <th>oc_gc</th>\n",
              "      <th>oc_gr</th>\n",
              "      <th>oc_ec</th>\n",
              "      <th>oc_er</th>\n",
              "      <th>oc_hp</th>\n",
              "      <th>income</th>\n",
              "      <th>agehed</th>\n",
              "      <th>rooms</th>\n",
              "      <th>region_mountn</th>\n",
              "      <th>region_ncostl</th>\n",
              "      <th>region_scostl</th>\n",
              "      <th>region_valley</th>\n",
              "    </tr>\n",
              "  </thead>\n",
              "  <tbody>\n",
              "    <tr>\n",
              "      <th>0</th>\n",
              "      <td>1</td>\n",
              "      <td>1</td>\n",
              "      <td>866.00</td>\n",
              "      <td>962.64</td>\n",
              "      <td>859.90</td>\n",
              "      <td>995.76</td>\n",
              "      <td>1135.50</td>\n",
              "      <td>199.69</td>\n",
              "      <td>151.72</td>\n",
              "      <td>553.34</td>\n",
              "      <td>505.60</td>\n",
              "      <td>237.88</td>\n",
              "      <td>7</td>\n",
              "      <td>25</td>\n",
              "      <td>6</td>\n",
              "      <td>0</td>\n",
              "      <td>1</td>\n",
              "      <td>0</td>\n",
              "      <td>0</td>\n",
              "    </tr>\n",
              "    <tr>\n",
              "      <th>1</th>\n",
              "      <td>2</td>\n",
              "      <td>1</td>\n",
              "      <td>727.93</td>\n",
              "      <td>758.89</td>\n",
              "      <td>796.82</td>\n",
              "      <td>894.69</td>\n",
              "      <td>968.90</td>\n",
              "      <td>168.66</td>\n",
              "      <td>168.66</td>\n",
              "      <td>520.24</td>\n",
              "      <td>486.49</td>\n",
              "      <td>199.19</td>\n",
              "      <td>5</td>\n",
              "      <td>60</td>\n",
              "      <td>5</td>\n",
              "      <td>0</td>\n",
              "      <td>0</td>\n",
              "      <td>1</td>\n",
              "      <td>0</td>\n",
              "    </tr>\n",
              "    <tr>\n",
              "      <th>2</th>\n",
              "      <td>3</td>\n",
              "      <td>1</td>\n",
              "      <td>599.48</td>\n",
              "      <td>783.05</td>\n",
              "      <td>719.86</td>\n",
              "      <td>900.11</td>\n",
              "      <td>1048.30</td>\n",
              "      <td>165.58</td>\n",
              "      <td>137.80</td>\n",
              "      <td>439.06</td>\n",
              "      <td>404.74</td>\n",
              "      <td>171.47</td>\n",
              "      <td>4</td>\n",
              "      <td>65</td>\n",
              "      <td>2</td>\n",
              "      <td>0</td>\n",
              "      <td>1</td>\n",
              "      <td>0</td>\n",
              "      <td>0</td>\n",
              "    </tr>\n",
              "    <tr>\n",
              "      <th>3</th>\n",
              "      <td>4</td>\n",
              "      <td>2</td>\n",
              "      <td>835.17</td>\n",
              "      <td>793.06</td>\n",
              "      <td>761.25</td>\n",
              "      <td>831.04</td>\n",
              "      <td>1048.70</td>\n",
              "      <td>180.88</td>\n",
              "      <td>147.14</td>\n",
              "      <td>483.00</td>\n",
              "      <td>425.22</td>\n",
              "      <td>222.95</td>\n",
              "      <td>2</td>\n",
              "      <td>50</td>\n",
              "      <td>4</td>\n",
              "      <td>0</td>\n",
              "      <td>0</td>\n",
              "      <td>1</td>\n",
              "      <td>0</td>\n",
              "    </tr>\n",
              "    <tr>\n",
              "      <th>4</th>\n",
              "      <td>5</td>\n",
              "      <td>2</td>\n",
              "      <td>755.59</td>\n",
              "      <td>846.29</td>\n",
              "      <td>858.86</td>\n",
              "      <td>985.64</td>\n",
              "      <td>883.05</td>\n",
              "      <td>174.91</td>\n",
              "      <td>138.90</td>\n",
              "      <td>404.41</td>\n",
              "      <td>389.52</td>\n",
              "      <td>178.49</td>\n",
              "      <td>2</td>\n",
              "      <td>25</td>\n",
              "      <td>6</td>\n",
              "      <td>0</td>\n",
              "      <td>0</td>\n",
              "      <td>0</td>\n",
              "      <td>1</td>\n",
              "    </tr>\n",
              "  </tbody>\n",
              "</table>\n",
              "</div>\n",
              "      <button class=\"colab-df-convert\" onclick=\"convertToInteractive('df-aa0806cc-cc09-47ed-bb6b-cecbc78c0e0b')\"\n",
              "              title=\"Convert this dataframe to an interactive table.\"\n",
              "              style=\"display:none;\">\n",
              "        \n",
              "  <svg xmlns=\"http://www.w3.org/2000/svg\" height=\"24px\"viewBox=\"0 0 24 24\"\n",
              "       width=\"24px\">\n",
              "    <path d=\"M0 0h24v24H0V0z\" fill=\"none\"/>\n",
              "    <path d=\"M18.56 5.44l.94 2.06.94-2.06 2.06-.94-2.06-.94-.94-2.06-.94 2.06-2.06.94zm-11 1L8.5 8.5l.94-2.06 2.06-.94-2.06-.94L8.5 2.5l-.94 2.06-2.06.94zm10 10l.94 2.06.94-2.06 2.06-.94-2.06-.94-.94-2.06-.94 2.06-2.06.94z\"/><path d=\"M17.41 7.96l-1.37-1.37c-.4-.4-.92-.59-1.43-.59-.52 0-1.04.2-1.43.59L10.3 9.45l-7.72 7.72c-.78.78-.78 2.05 0 2.83L4 21.41c.39.39.9.59 1.41.59.51 0 1.02-.2 1.41-.59l7.78-7.78 2.81-2.81c.8-.78.8-2.07 0-2.86zM5.41 20L4 18.59l7.72-7.72 1.47 1.35L5.41 20z\"/>\n",
              "  </svg>\n",
              "      </button>\n",
              "      \n",
              "  <style>\n",
              "    .colab-df-container {\n",
              "      display:flex;\n",
              "      flex-wrap:wrap;\n",
              "      gap: 12px;\n",
              "    }\n",
              "\n",
              "    .colab-df-convert {\n",
              "      background-color: #E8F0FE;\n",
              "      border: none;\n",
              "      border-radius: 50%;\n",
              "      cursor: pointer;\n",
              "      display: none;\n",
              "      fill: #1967D2;\n",
              "      height: 32px;\n",
              "      padding: 0 0 0 0;\n",
              "      width: 32px;\n",
              "    }\n",
              "\n",
              "    .colab-df-convert:hover {\n",
              "      background-color: #E2EBFA;\n",
              "      box-shadow: 0px 1px 2px rgba(60, 64, 67, 0.3), 0px 1px 3px 1px rgba(60, 64, 67, 0.15);\n",
              "      fill: #174EA6;\n",
              "    }\n",
              "\n",
              "    [theme=dark] .colab-df-convert {\n",
              "      background-color: #3B4455;\n",
              "      fill: #D2E3FC;\n",
              "    }\n",
              "\n",
              "    [theme=dark] .colab-df-convert:hover {\n",
              "      background-color: #434B5C;\n",
              "      box-shadow: 0px 1px 3px 1px rgba(0, 0, 0, 0.15);\n",
              "      filter: drop-shadow(0px 1px 2px rgba(0, 0, 0, 0.3));\n",
              "      fill: #FFFFFF;\n",
              "    }\n",
              "  </style>\n",
              "\n",
              "      <script>\n",
              "        const buttonEl =\n",
              "          document.querySelector('#df-aa0806cc-cc09-47ed-bb6b-cecbc78c0e0b button.colab-df-convert');\n",
              "        buttonEl.style.display =\n",
              "          google.colab.kernel.accessAllowed ? 'block' : 'none';\n",
              "\n",
              "        async function convertToInteractive(key) {\n",
              "          const element = document.querySelector('#df-aa0806cc-cc09-47ed-bb6b-cecbc78c0e0b');\n",
              "          const dataTable =\n",
              "            await google.colab.kernel.invokeFunction('convertToInteractive',\n",
              "                                                     [key], {});\n",
              "          if (!dataTable) return;\n",
              "\n",
              "          const docLinkHtml = 'Like what you see? Visit the ' +\n",
              "            '<a target=\"_blank\" href=https://colab.research.google.com/notebooks/data_table.ipynb>data table notebook</a>'\n",
              "            + ' to learn more about interactive tables.';\n",
              "          element.innerHTML = '';\n",
              "          dataTable['output_type'] = 'display_data';\n",
              "          await google.colab.output.renderOutput(dataTable, element);\n",
              "          const docLink = document.createElement('div');\n",
              "          docLink.innerHTML = docLinkHtml;\n",
              "          element.appendChild(docLink);\n",
              "        }\n",
              "      </script>\n",
              "    </div>\n",
              "  </div>\n",
              "  "
            ]
          },
          "metadata": {},
          "execution_count": 80
        }
      ]
    },
    {
      "cell_type": "markdown",
      "metadata": {
        "id": "Ya_1zth9vEX1"
      },
      "source": [
        "---\n",
        "---\n",
        "\n",
        "# 1) Adjust a model with alternative specific constants and shared parameters for installation cost and operation costs. Select one of the alternatives as the reference (pick the one that you prefer). Comment on the results: Signs of the variables and alternative specific constants."
      ]
    },
    {
      "cell_type": "code",
      "metadata": {
        "id": "SeRgbCnbG4aD"
      },
      "source": [
        "bgm_heater = db.Database('heater', heater_pd)\n",
        "globals().update(bgm_heater.variables)\n"
      ],
      "execution_count": null,
      "outputs": []
    },
    {
      "cell_type": "code",
      "source": [
        "ASC_GC = exp.Beta ( 'ASC_GC' ,0, None , None ,0)\n",
        "ASC_ER = exp.Beta ( 'ASC_ER' ,0, None , None ,0)\n",
        "ASC_GR = exp.Beta ( 'ASC_GR' ,0, None , None ,0)\n",
        "ASC_HP = exp.Beta ( 'ASC_HP' ,0, None , None ,1)\n",
        "ASC_EC = exp.Beta ( 'ASC_EC' ,0, None , None ,0)\n",
        "B_INSTCOST = exp.Beta ( 'B_INSTCOST' ,0, None , None ,0)\n",
        "B_OPERCOST = exp.Beta ( 'B_OPERCOST' ,0, None , None ,0)"
      ],
      "metadata": {
        "id": "Uai9N8uX60U3"
      },
      "execution_count": null,
      "outputs": []
    },
    {
      "cell_type": "code",
      "source": [
        "V1 = ASC_GC + B_INSTCOST*ic_gc + B_OPERCOST*oc_gc\n",
        "V2 = ASC_ER + B_INSTCOST*ic_er + B_OPERCOST*oc_er\n",
        "V3 = ASC_GR + B_INSTCOST*ic_gr + B_OPERCOST*oc_gr\n",
        "V4 = ASC_HP + B_INSTCOST*ic_hp + B_OPERCOST*oc_hp\n",
        "V5 = ASC_EC + B_INSTCOST*ic_ec + B_OPERCOST*oc_ec"
      ],
      "metadata": {
        "id": "Br2y8cn_7Opy"
      },
      "execution_count": null,
      "outputs": []
    },
    {
      "cell_type": "code",
      "source": [
        "V = {1: V1 ,\n",
        "2: V2 ,\n",
        "3: V3,\n",
        "4: V4,\n",
        "5: V5 }\n",
        "\n",
        "av = {1: 1,\n",
        "2: 1,\n",
        "3: 1,\n",
        "4: 1,\n",
        "5: 1 }"
      ],
      "metadata": {
        "id": "u0h5MPG4_lZL"
      },
      "execution_count": null,
      "outputs": []
    },
    {
      "cell_type": "code",
      "source": [
        "logprob_base = models.loglogit (V , av , depvar )"
      ],
      "metadata": {
        "id": "p5bgnC-O_v_O"
      },
      "execution_count": null,
      "outputs": []
    },
    {
      "cell_type": "code",
      "source": [
        "bgm_basemodel = bio.BIOGEME ( bgm_heater, logprob_base )"
      ],
      "metadata": {
        "id": "ky_uTfZM_xnV"
      },
      "execution_count": null,
      "outputs": []
    },
    {
      "cell_type": "code",
      "source": [
        "results_base = bgm_basemodel.estimate()"
      ],
      "metadata": {
        "id": "Pq8naaOS_9zg",
        "outputId": "618b28ad-45d1-47b5-8563-c072301d3849",
        "colab": {
          "base_uri": "https://localhost:8080/"
        }
      },
      "execution_count": null,
      "outputs": [
        {
          "output_type": "stream",
          "name": "stdout",
          "text": [
            "[03:33:23] < Warning >   You have not defined a name for the model. The output files are named from the model name. The default is [biogemeModelDefaultName]\n"
          ]
        }
      ]
    },
    {
      "cell_type": "code",
      "source": [
        "results_base.getEstimatedParameters()"
      ],
      "metadata": {
        "id": "wwQXbbFQ__mv",
        "outputId": "1573c22a-be33-485b-9738-18510d6f5630",
        "colab": {
          "base_uri": "https://localhost:8080/",
          "height": 238
        }
      },
      "execution_count": null,
      "outputs": [
        {
          "output_type": "execute_result",
          "data": {
            "text/plain": [
              "               Value  Rob. Std err  Rob. t-test  Rob. p-value\n",
              "ASC_EC      1.658845      0.439866     3.771247  1.624340e-04\n",
              "ASC_ER      1.853436      0.349149     5.308442  1.105663e-07\n",
              "ASC_GC      1.710979      0.221413     7.727546  1.088019e-14\n",
              "ASC_GR      0.308262      0.206334     1.493995  1.351769e-01\n",
              "B_INSTCOST -0.001533      0.000607    -2.526874  1.150828e-02\n",
              "B_OPERCOST -0.006996      0.001468    -4.764474  1.893469e-06"
            ],
            "text/html": [
              "\n",
              "  <div id=\"df-3b6844f7-2b81-49b2-9856-b6d90b68f054\">\n",
              "    <div class=\"colab-df-container\">\n",
              "      <div>\n",
              "<style scoped>\n",
              "    .dataframe tbody tr th:only-of-type {\n",
              "        vertical-align: middle;\n",
              "    }\n",
              "\n",
              "    .dataframe tbody tr th {\n",
              "        vertical-align: top;\n",
              "    }\n",
              "\n",
              "    .dataframe thead th {\n",
              "        text-align: right;\n",
              "    }\n",
              "</style>\n",
              "<table border=\"1\" class=\"dataframe\">\n",
              "  <thead>\n",
              "    <tr style=\"text-align: right;\">\n",
              "      <th></th>\n",
              "      <th>Value</th>\n",
              "      <th>Rob. Std err</th>\n",
              "      <th>Rob. t-test</th>\n",
              "      <th>Rob. p-value</th>\n",
              "    </tr>\n",
              "  </thead>\n",
              "  <tbody>\n",
              "    <tr>\n",
              "      <th>ASC_EC</th>\n",
              "      <td>1.658845</td>\n",
              "      <td>0.439866</td>\n",
              "      <td>3.771247</td>\n",
              "      <td>1.624340e-04</td>\n",
              "    </tr>\n",
              "    <tr>\n",
              "      <th>ASC_ER</th>\n",
              "      <td>1.853436</td>\n",
              "      <td>0.349149</td>\n",
              "      <td>5.308442</td>\n",
              "      <td>1.105663e-07</td>\n",
              "    </tr>\n",
              "    <tr>\n",
              "      <th>ASC_GC</th>\n",
              "      <td>1.710979</td>\n",
              "      <td>0.221413</td>\n",
              "      <td>7.727546</td>\n",
              "      <td>1.088019e-14</td>\n",
              "    </tr>\n",
              "    <tr>\n",
              "      <th>ASC_GR</th>\n",
              "      <td>0.308262</td>\n",
              "      <td>0.206334</td>\n",
              "      <td>1.493995</td>\n",
              "      <td>1.351769e-01</td>\n",
              "    </tr>\n",
              "    <tr>\n",
              "      <th>B_INSTCOST</th>\n",
              "      <td>-0.001533</td>\n",
              "      <td>0.000607</td>\n",
              "      <td>-2.526874</td>\n",
              "      <td>1.150828e-02</td>\n",
              "    </tr>\n",
              "    <tr>\n",
              "      <th>B_OPERCOST</th>\n",
              "      <td>-0.006996</td>\n",
              "      <td>0.001468</td>\n",
              "      <td>-4.764474</td>\n",
              "      <td>1.893469e-06</td>\n",
              "    </tr>\n",
              "  </tbody>\n",
              "</table>\n",
              "</div>\n",
              "      <button class=\"colab-df-convert\" onclick=\"convertToInteractive('df-3b6844f7-2b81-49b2-9856-b6d90b68f054')\"\n",
              "              title=\"Convert this dataframe to an interactive table.\"\n",
              "              style=\"display:none;\">\n",
              "        \n",
              "  <svg xmlns=\"http://www.w3.org/2000/svg\" height=\"24px\"viewBox=\"0 0 24 24\"\n",
              "       width=\"24px\">\n",
              "    <path d=\"M0 0h24v24H0V0z\" fill=\"none\"/>\n",
              "    <path d=\"M18.56 5.44l.94 2.06.94-2.06 2.06-.94-2.06-.94-.94-2.06-.94 2.06-2.06.94zm-11 1L8.5 8.5l.94-2.06 2.06-.94-2.06-.94L8.5 2.5l-.94 2.06-2.06.94zm10 10l.94 2.06.94-2.06 2.06-.94-2.06-.94-.94-2.06-.94 2.06-2.06.94z\"/><path d=\"M17.41 7.96l-1.37-1.37c-.4-.4-.92-.59-1.43-.59-.52 0-1.04.2-1.43.59L10.3 9.45l-7.72 7.72c-.78.78-.78 2.05 0 2.83L4 21.41c.39.39.9.59 1.41.59.51 0 1.02-.2 1.41-.59l7.78-7.78 2.81-2.81c.8-.78.8-2.07 0-2.86zM5.41 20L4 18.59l7.72-7.72 1.47 1.35L5.41 20z\"/>\n",
              "  </svg>\n",
              "      </button>\n",
              "      \n",
              "  <style>\n",
              "    .colab-df-container {\n",
              "      display:flex;\n",
              "      flex-wrap:wrap;\n",
              "      gap: 12px;\n",
              "    }\n",
              "\n",
              "    .colab-df-convert {\n",
              "      background-color: #E8F0FE;\n",
              "      border: none;\n",
              "      border-radius: 50%;\n",
              "      cursor: pointer;\n",
              "      display: none;\n",
              "      fill: #1967D2;\n",
              "      height: 32px;\n",
              "      padding: 0 0 0 0;\n",
              "      width: 32px;\n",
              "    }\n",
              "\n",
              "    .colab-df-convert:hover {\n",
              "      background-color: #E2EBFA;\n",
              "      box-shadow: 0px 1px 2px rgba(60, 64, 67, 0.3), 0px 1px 3px 1px rgba(60, 64, 67, 0.15);\n",
              "      fill: #174EA6;\n",
              "    }\n",
              "\n",
              "    [theme=dark] .colab-df-convert {\n",
              "      background-color: #3B4455;\n",
              "      fill: #D2E3FC;\n",
              "    }\n",
              "\n",
              "    [theme=dark] .colab-df-convert:hover {\n",
              "      background-color: #434B5C;\n",
              "      box-shadow: 0px 1px 3px 1px rgba(0, 0, 0, 0.15);\n",
              "      filter: drop-shadow(0px 1px 2px rgba(0, 0, 0, 0.3));\n",
              "      fill: #FFFFFF;\n",
              "    }\n",
              "  </style>\n",
              "\n",
              "      <script>\n",
              "        const buttonEl =\n",
              "          document.querySelector('#df-3b6844f7-2b81-49b2-9856-b6d90b68f054 button.colab-df-convert');\n",
              "        buttonEl.style.display =\n",
              "          google.colab.kernel.accessAllowed ? 'block' : 'none';\n",
              "\n",
              "        async function convertToInteractive(key) {\n",
              "          const element = document.querySelector('#df-3b6844f7-2b81-49b2-9856-b6d90b68f054');\n",
              "          const dataTable =\n",
              "            await google.colab.kernel.invokeFunction('convertToInteractive',\n",
              "                                                     [key], {});\n",
              "          if (!dataTable) return;\n",
              "\n",
              "          const docLinkHtml = 'Like what you see? Visit the ' +\n",
              "            '<a target=\"_blank\" href=https://colab.research.google.com/notebooks/data_table.ipynb>data table notebook</a>'\n",
              "            + ' to learn more about interactive tables.';\n",
              "          element.innerHTML = '';\n",
              "          dataTable['output_type'] = 'display_data';\n",
              "          await google.colab.output.renderOutput(dataTable, element);\n",
              "          const docLink = document.createElement('div');\n",
              "          docLink.innerHTML = docLinkHtml;\n",
              "          element.appendChild(docLink);\n",
              "        }\n",
              "      </script>\n",
              "    </div>\n",
              "  </div>\n",
              "  "
            ]
          },
          "metadata": {},
          "execution_count": 88
        }
      ]
    },
    {
      "cell_type": "markdown",
      "metadata": {
        "id": "mdDsNIDw54DR"
      },
      "source": [
        "---\n",
        "---\n",
        "\n",
        "# 2) Calculate the willingness to pay for reducing operating cost.\n",
        "* *In this case, we have two 'price' variables (installation and operation): Operating cost is the variable we want to understand, installation cost is the price variable in the WTP formula.*\n",
        "\n",
        "Apply the definition, for a purely linear specification, the ratio of the coefficients.\n",
        "\n",
        "The number seems reasonable, people are willing to pay 4.5 dollars in installation to reduce the annual operation cost in one dollar.\n"
      ]
    },
    {
      "cell_type": "code",
      "metadata": {
        "id": "50-uEFlTG3jR",
        "outputId": "a07ea9e7-4de6-44ba-8dc2-83bf76d2e237",
        "colab": {
          "base_uri": "https://localhost:8080/"
        }
      },
      "source": [
        "results_base.getBetaValues()['B_OPERCOST']  / results_base.getBetaValues()['B_INSTCOST']"
      ],
      "execution_count": null,
      "outputs": [
        {
          "output_type": "execute_result",
          "data": {
            "text/plain": [
              "4.563382574989451"
            ]
          },
          "metadata": {},
          "execution_count": 89
        }
      ]
    },
    {
      "cell_type": "markdown",
      "metadata": {
        "id": "WZfSHc91m3iQ"
      },
      "source": [
        "---\n",
        "---\n",
        "\n",
        "#3) Do big houses with many rooms (5,6,7) have different preferences than the rest (4 and less rooms)?\n",
        "* *Might or might not need to fit another model.*\n",
        "\n",
        "Several ways of answering these:\n",
        "* just compare the two groups, computing the proportions of each alternative in each group\n",
        "* Fit a model to each group, compare the models\n",
        "* Fit a model with the indicator variable 'more than 4 rooms' as constant\n",
        "* Fit a model with interactions with an indicator variable 'more than 4 rooms', compare to the reference\n",
        "\n",
        "The idea here is to highlight the difference with question 5. Question 5 will ask specifically for the **interaction** of the 'region_valley' indicator variable with installation cost and operation cost, to check wether the coefficients for installation cost and operation cost are different for the people in the valley, compared to the others. This Question 3 is simples, just compare if the 'overall preferences' are different, not that the effects of a particular attributes on the utility are different.\n",
        "Question 3 ask if the preferences between groups are different, Question 5 is the individuals are different."
      ]
    },
    {
      "cell_type": "code",
      "source": [
        "pd.crosstab(heater_pd[heater_pd['rooms'] >4]['depvar'], 'depvar', normalize='all')"
      ],
      "metadata": {
        "colab": {
          "base_uri": "https://localhost:8080/",
          "height": 238
        },
        "id": "ejSRheoNntxi",
        "outputId": "ac10245b-362f-4a2f-e00d-8e9aba0d311e"
      },
      "execution_count": null,
      "outputs": [
        {
          "output_type": "execute_result",
          "data": {
            "text/plain": [
              "col_0     depvar\n",
              "depvar          \n",
              "1       0.627907\n",
              "2       0.104651\n",
              "3       0.130233\n",
              "4       0.058140\n",
              "5       0.079070"
            ],
            "text/html": [
              "\n",
              "  <div id=\"df-d6807137-82df-4aa8-8abf-1da8431989f3\">\n",
              "    <div class=\"colab-df-container\">\n",
              "      <div>\n",
              "<style scoped>\n",
              "    .dataframe tbody tr th:only-of-type {\n",
              "        vertical-align: middle;\n",
              "    }\n",
              "\n",
              "    .dataframe tbody tr th {\n",
              "        vertical-align: top;\n",
              "    }\n",
              "\n",
              "    .dataframe thead th {\n",
              "        text-align: right;\n",
              "    }\n",
              "</style>\n",
              "<table border=\"1\" class=\"dataframe\">\n",
              "  <thead>\n",
              "    <tr style=\"text-align: right;\">\n",
              "      <th>col_0</th>\n",
              "      <th>depvar</th>\n",
              "    </tr>\n",
              "    <tr>\n",
              "      <th>depvar</th>\n",
              "      <th></th>\n",
              "    </tr>\n",
              "  </thead>\n",
              "  <tbody>\n",
              "    <tr>\n",
              "      <th>1</th>\n",
              "      <td>0.627907</td>\n",
              "    </tr>\n",
              "    <tr>\n",
              "      <th>2</th>\n",
              "      <td>0.104651</td>\n",
              "    </tr>\n",
              "    <tr>\n",
              "      <th>3</th>\n",
              "      <td>0.130233</td>\n",
              "    </tr>\n",
              "    <tr>\n",
              "      <th>4</th>\n",
              "      <td>0.058140</td>\n",
              "    </tr>\n",
              "    <tr>\n",
              "      <th>5</th>\n",
              "      <td>0.079070</td>\n",
              "    </tr>\n",
              "  </tbody>\n",
              "</table>\n",
              "</div>\n",
              "      <button class=\"colab-df-convert\" onclick=\"convertToInteractive('df-d6807137-82df-4aa8-8abf-1da8431989f3')\"\n",
              "              title=\"Convert this dataframe to an interactive table.\"\n",
              "              style=\"display:none;\">\n",
              "        \n",
              "  <svg xmlns=\"http://www.w3.org/2000/svg\" height=\"24px\"viewBox=\"0 0 24 24\"\n",
              "       width=\"24px\">\n",
              "    <path d=\"M0 0h24v24H0V0z\" fill=\"none\"/>\n",
              "    <path d=\"M18.56 5.44l.94 2.06.94-2.06 2.06-.94-2.06-.94-.94-2.06-.94 2.06-2.06.94zm-11 1L8.5 8.5l.94-2.06 2.06-.94-2.06-.94L8.5 2.5l-.94 2.06-2.06.94zm10 10l.94 2.06.94-2.06 2.06-.94-2.06-.94-.94-2.06-.94 2.06-2.06.94z\"/><path d=\"M17.41 7.96l-1.37-1.37c-.4-.4-.92-.59-1.43-.59-.52 0-1.04.2-1.43.59L10.3 9.45l-7.72 7.72c-.78.78-.78 2.05 0 2.83L4 21.41c.39.39.9.59 1.41.59.51 0 1.02-.2 1.41-.59l7.78-7.78 2.81-2.81c.8-.78.8-2.07 0-2.86zM5.41 20L4 18.59l7.72-7.72 1.47 1.35L5.41 20z\"/>\n",
              "  </svg>\n",
              "      </button>\n",
              "      \n",
              "  <style>\n",
              "    .colab-df-container {\n",
              "      display:flex;\n",
              "      flex-wrap:wrap;\n",
              "      gap: 12px;\n",
              "    }\n",
              "\n",
              "    .colab-df-convert {\n",
              "      background-color: #E8F0FE;\n",
              "      border: none;\n",
              "      border-radius: 50%;\n",
              "      cursor: pointer;\n",
              "      display: none;\n",
              "      fill: #1967D2;\n",
              "      height: 32px;\n",
              "      padding: 0 0 0 0;\n",
              "      width: 32px;\n",
              "    }\n",
              "\n",
              "    .colab-df-convert:hover {\n",
              "      background-color: #E2EBFA;\n",
              "      box-shadow: 0px 1px 2px rgba(60, 64, 67, 0.3), 0px 1px 3px 1px rgba(60, 64, 67, 0.15);\n",
              "      fill: #174EA6;\n",
              "    }\n",
              "\n",
              "    [theme=dark] .colab-df-convert {\n",
              "      background-color: #3B4455;\n",
              "      fill: #D2E3FC;\n",
              "    }\n",
              "\n",
              "    [theme=dark] .colab-df-convert:hover {\n",
              "      background-color: #434B5C;\n",
              "      box-shadow: 0px 1px 3px 1px rgba(0, 0, 0, 0.15);\n",
              "      filter: drop-shadow(0px 1px 2px rgba(0, 0, 0, 0.3));\n",
              "      fill: #FFFFFF;\n",
              "    }\n",
              "  </style>\n",
              "\n",
              "      <script>\n",
              "        const buttonEl =\n",
              "          document.querySelector('#df-d6807137-82df-4aa8-8abf-1da8431989f3 button.colab-df-convert');\n",
              "        buttonEl.style.display =\n",
              "          google.colab.kernel.accessAllowed ? 'block' : 'none';\n",
              "\n",
              "        async function convertToInteractive(key) {\n",
              "          const element = document.querySelector('#df-d6807137-82df-4aa8-8abf-1da8431989f3');\n",
              "          const dataTable =\n",
              "            await google.colab.kernel.invokeFunction('convertToInteractive',\n",
              "                                                     [key], {});\n",
              "          if (!dataTable) return;\n",
              "\n",
              "          const docLinkHtml = 'Like what you see? Visit the ' +\n",
              "            '<a target=\"_blank\" href=https://colab.research.google.com/notebooks/data_table.ipynb>data table notebook</a>'\n",
              "            + ' to learn more about interactive tables.';\n",
              "          element.innerHTML = '';\n",
              "          dataTable['output_type'] = 'display_data';\n",
              "          await google.colab.output.renderOutput(dataTable, element);\n",
              "          const docLink = document.createElement('div');\n",
              "          docLink.innerHTML = docLinkHtml;\n",
              "          element.appendChild(docLink);\n",
              "        }\n",
              "      </script>\n",
              "    </div>\n",
              "  </div>\n",
              "  "
            ]
          },
          "metadata": {},
          "execution_count": 90
        }
      ]
    },
    {
      "cell_type": "code",
      "source": [
        "pd.crosstab(heater_pd[heater_pd['rooms'] <=4]['depvar'], 'depvar', normalize='all')"
      ],
      "metadata": {
        "colab": {
          "base_uri": "https://localhost:8080/",
          "height": 238
        },
        "id": "pwLg9WBcpsMt",
        "outputId": "77b452c6-09ea-4dde-c959-255eafc8cb02"
      },
      "execution_count": null,
      "outputs": [
        {
          "output_type": "execute_result",
          "data": {
            "text/plain": [
              "col_0     depvar\n",
              "depvar          \n",
              "1       0.644681\n",
              "2       0.082979\n",
              "3       0.155319\n",
              "4       0.053191\n",
              "5       0.063830"
            ],
            "text/html": [
              "\n",
              "  <div id=\"df-02539c83-c81c-4fbd-8bd0-b5cd8e8a37e4\">\n",
              "    <div class=\"colab-df-container\">\n",
              "      <div>\n",
              "<style scoped>\n",
              "    .dataframe tbody tr th:only-of-type {\n",
              "        vertical-align: middle;\n",
              "    }\n",
              "\n",
              "    .dataframe tbody tr th {\n",
              "        vertical-align: top;\n",
              "    }\n",
              "\n",
              "    .dataframe thead th {\n",
              "        text-align: right;\n",
              "    }\n",
              "</style>\n",
              "<table border=\"1\" class=\"dataframe\">\n",
              "  <thead>\n",
              "    <tr style=\"text-align: right;\">\n",
              "      <th>col_0</th>\n",
              "      <th>depvar</th>\n",
              "    </tr>\n",
              "    <tr>\n",
              "      <th>depvar</th>\n",
              "      <th></th>\n",
              "    </tr>\n",
              "  </thead>\n",
              "  <tbody>\n",
              "    <tr>\n",
              "      <th>1</th>\n",
              "      <td>0.644681</td>\n",
              "    </tr>\n",
              "    <tr>\n",
              "      <th>2</th>\n",
              "      <td>0.082979</td>\n",
              "    </tr>\n",
              "    <tr>\n",
              "      <th>3</th>\n",
              "      <td>0.155319</td>\n",
              "    </tr>\n",
              "    <tr>\n",
              "      <th>4</th>\n",
              "      <td>0.053191</td>\n",
              "    </tr>\n",
              "    <tr>\n",
              "      <th>5</th>\n",
              "      <td>0.063830</td>\n",
              "    </tr>\n",
              "  </tbody>\n",
              "</table>\n",
              "</div>\n",
              "      <button class=\"colab-df-convert\" onclick=\"convertToInteractive('df-02539c83-c81c-4fbd-8bd0-b5cd8e8a37e4')\"\n",
              "              title=\"Convert this dataframe to an interactive table.\"\n",
              "              style=\"display:none;\">\n",
              "        \n",
              "  <svg xmlns=\"http://www.w3.org/2000/svg\" height=\"24px\"viewBox=\"0 0 24 24\"\n",
              "       width=\"24px\">\n",
              "    <path d=\"M0 0h24v24H0V0z\" fill=\"none\"/>\n",
              "    <path d=\"M18.56 5.44l.94 2.06.94-2.06 2.06-.94-2.06-.94-.94-2.06-.94 2.06-2.06.94zm-11 1L8.5 8.5l.94-2.06 2.06-.94-2.06-.94L8.5 2.5l-.94 2.06-2.06.94zm10 10l.94 2.06.94-2.06 2.06-.94-2.06-.94-.94-2.06-.94 2.06-2.06.94z\"/><path d=\"M17.41 7.96l-1.37-1.37c-.4-.4-.92-.59-1.43-.59-.52 0-1.04.2-1.43.59L10.3 9.45l-7.72 7.72c-.78.78-.78 2.05 0 2.83L4 21.41c.39.39.9.59 1.41.59.51 0 1.02-.2 1.41-.59l7.78-7.78 2.81-2.81c.8-.78.8-2.07 0-2.86zM5.41 20L4 18.59l7.72-7.72 1.47 1.35L5.41 20z\"/>\n",
              "  </svg>\n",
              "      </button>\n",
              "      \n",
              "  <style>\n",
              "    .colab-df-container {\n",
              "      display:flex;\n",
              "      flex-wrap:wrap;\n",
              "      gap: 12px;\n",
              "    }\n",
              "\n",
              "    .colab-df-convert {\n",
              "      background-color: #E8F0FE;\n",
              "      border: none;\n",
              "      border-radius: 50%;\n",
              "      cursor: pointer;\n",
              "      display: none;\n",
              "      fill: #1967D2;\n",
              "      height: 32px;\n",
              "      padding: 0 0 0 0;\n",
              "      width: 32px;\n",
              "    }\n",
              "\n",
              "    .colab-df-convert:hover {\n",
              "      background-color: #E2EBFA;\n",
              "      box-shadow: 0px 1px 2px rgba(60, 64, 67, 0.3), 0px 1px 3px 1px rgba(60, 64, 67, 0.15);\n",
              "      fill: #174EA6;\n",
              "    }\n",
              "\n",
              "    [theme=dark] .colab-df-convert {\n",
              "      background-color: #3B4455;\n",
              "      fill: #D2E3FC;\n",
              "    }\n",
              "\n",
              "    [theme=dark] .colab-df-convert:hover {\n",
              "      background-color: #434B5C;\n",
              "      box-shadow: 0px 1px 3px 1px rgba(0, 0, 0, 0.15);\n",
              "      filter: drop-shadow(0px 1px 2px rgba(0, 0, 0, 0.3));\n",
              "      fill: #FFFFFF;\n",
              "    }\n",
              "  </style>\n",
              "\n",
              "      <script>\n",
              "        const buttonEl =\n",
              "          document.querySelector('#df-02539c83-c81c-4fbd-8bd0-b5cd8e8a37e4 button.colab-df-convert');\n",
              "        buttonEl.style.display =\n",
              "          google.colab.kernel.accessAllowed ? 'block' : 'none';\n",
              "\n",
              "        async function convertToInteractive(key) {\n",
              "          const element = document.querySelector('#df-02539c83-c81c-4fbd-8bd0-b5cd8e8a37e4');\n",
              "          const dataTable =\n",
              "            await google.colab.kernel.invokeFunction('convertToInteractive',\n",
              "                                                     [key], {});\n",
              "          if (!dataTable) return;\n",
              "\n",
              "          const docLinkHtml = 'Like what you see? Visit the ' +\n",
              "            '<a target=\"_blank\" href=https://colab.research.google.com/notebooks/data_table.ipynb>data table notebook</a>'\n",
              "            + ' to learn more about interactive tables.';\n",
              "          element.innerHTML = '';\n",
              "          dataTable['output_type'] = 'display_data';\n",
              "          await google.colab.output.renderOutput(dataTable, element);\n",
              "          const docLink = document.createElement('div');\n",
              "          docLink.innerHTML = docLinkHtml;\n",
              "          element.appendChild(docLink);\n",
              "        }\n",
              "      </script>\n",
              "    </div>\n",
              "  </div>\n",
              "  "
            ]
          },
          "metadata": {},
          "execution_count": 91
        }
      ]
    },
    {
      "cell_type": "markdown",
      "metadata": {
        "id": "va6FLcr4nOCi"
      },
      "source": [
        "---\n",
        "---\n",
        "\n",
        "# 4) Create a more complex model, that includes at least one *interaction* variable between an attribute and a characteristic (product of two variables). Comment on the interpretation of the model. Comment of the per-alernative Willingess To Pay for operating cost, and how they compare to the answer in Question 2.\n",
        "# Is the model a better fit than the one created in in Question 1?\n"
      ]
    },
    {
      "cell_type": "markdown",
      "source": [
        "We simplify a bit, Question 4 is asking us to fit an interaction term (product of two variables), and Question 5 can be solved via an interaction term, with 'region_valley' variable, so we will specify that interaction here to save time and not fit separate models in Questions 4 and 5, we will just fit one model."
      ],
      "metadata": {
        "id": "inuHYCi7pyz-"
      }
    },
    {
      "cell_type": "code",
      "source": [
        "B_OPER_VALLEY_GC = exp.Beta ( 'B_OPER_VALLEY_GC' ,0, None , None ,0)\n",
        "B_OPER_VALLEY_ER = exp.Beta ( 'B_OPER_VALLEY_ER' ,0, None , None ,0)\n",
        "B_OPER_VALLEY_GR = exp.Beta ( 'B_OPER_VALLEY_GR' ,0, None , None ,0)\n",
        "B_OPER_VALLEY_HP = exp.Beta ( 'B_OPER_VALLEY_HP' ,0, None , None ,0)\n",
        "B_OPER_VALLEY_EC = exp.Beta ( 'B_OPER_VALLEY_EC' ,0, None , None ,0)\n",
        "\n",
        "B_INST_VALLEY_GC = exp.Beta ( 'B_INST_VALLEY_GC' ,0, None , None ,0)\n",
        "B_INST_VALLEY_ER = exp.Beta ( 'B_INST_VALLEY_ER' ,0, None , None ,0)\n",
        "B_INST_VALLEY_GR = exp.Beta ( 'B_INST_VALLEY_GR' ,0, None , None ,0)\n",
        "B_INST_VALLEY_HP = exp.Beta ( 'B_INST_VALLEY_HP' ,0, None , None ,0)\n",
        "B_INST_VALLEY_EC = exp.Beta ( 'B_INST_VALLEY_EC' ,0, None , None ,0)"
      ],
      "metadata": {
        "id": "ssXPGkIhDsSK"
      },
      "execution_count": null,
      "outputs": []
    },
    {
      "cell_type": "code",
      "metadata": {
        "id": "Jq5fH38GG-iP"
      },
      "source": [
        "V1_inter = ASC_GC + B_INSTCOST*ic_gc + B_OPERCOST*oc_gc +  B_INST_VALLEY_GC*ic_gc*region_valley + B_OPER_VALLEY_GC*oc_gc*region_valley\n",
        "V2_inter = ASC_ER + B_INSTCOST*ic_er + B_OPERCOST*oc_er +  B_INST_VALLEY_ER*ic_er*region_valley + B_OPER_VALLEY_ER*oc_er*region_valley\n",
        "V3_inter = ASC_GR + B_INSTCOST*ic_gr + B_OPERCOST*oc_gr +  B_INST_VALLEY_GR*ic_gr*region_valley + B_OPER_VALLEY_GR*oc_gr*region_valley\n",
        "V4_inter = ASC_HP + B_INSTCOST*ic_hp + B_OPERCOST*oc_hp +  B_INST_VALLEY_HP*ic_hp*region_valley + B_OPER_VALLEY_HP*oc_hp*region_valley\n",
        "V5_inter = ASC_EC + B_INSTCOST*ic_ec + B_OPERCOST*oc_ec +  B_INST_VALLEY_EC*ic_ec*region_valley + B_OPER_VALLEY_EC*oc_ec*region_valley"
      ],
      "execution_count": null,
      "outputs": []
    },
    {
      "cell_type": "code",
      "source": [
        "V_inter = {1: V1_inter ,\n",
        "2: V2_inter ,\n",
        "3: V3_inter,\n",
        "4: V4_inter,\n",
        "5: V5_inter }"
      ],
      "metadata": {
        "id": "naCcnm5jEivg"
      },
      "execution_count": null,
      "outputs": []
    },
    {
      "cell_type": "code",
      "source": [
        "logprob_inter = models.loglogit (V_inter , av , depvar )\n",
        "bgm_intermodel = bio.BIOGEME ( bgm_heater, logprob_inter )\n",
        "results_inter = bgm_intermodel.estimate()\n",
        "results_inter.getEstimatedParameters()"
      ],
      "metadata": {
        "id": "LKM5-pqkEojJ",
        "outputId": "5a4969d8-75d9-463e-d850-f0a90808c391",
        "colab": {
          "base_uri": "https://localhost:8080/",
          "height": 568
        }
      },
      "execution_count": null,
      "outputs": [
        {
          "output_type": "stream",
          "name": "stdout",
          "text": [
            "[03:33:23] < Warning >   You have not defined a name for the model. The output files are named from the model name. The default is [biogemeModelDefaultName]\n"
          ]
        },
        {
          "output_type": "execute_result",
          "data": {
            "text/plain": [
              "                     Value  Rob. Std err  Rob. t-test  Rob. p-value\n",
              "ASC_EC            1.787048      0.473729     3.772299  1.617505e-04\n",
              "ASC_ER            1.954662      0.377192     5.182147  2.193464e-07\n",
              "ASC_GC            1.737270      0.254128     6.836192  8.132606e-12\n",
              "ASC_GR            0.309719      0.236475     1.309730  1.902872e-01\n",
              "B_INSTCOST       -0.001622      0.000696    -2.328873  1.986582e-02\n",
              "B_INST_VALLEY_EC  0.001619      0.004566     0.354644  7.228566e-01\n",
              "B_INST_VALLEY_ER -0.000489      0.002341    -0.208966  8.344749e-01\n",
              "B_INST_VALLEY_GC -0.000433      0.002128    -0.203538  8.387148e-01\n",
              "B_INST_VALLEY_GR  0.002052      0.002039     1.006384  3.142311e-01\n",
              "B_INST_VALLEY_HP -0.001328      0.002788    -0.476395  6.337930e-01\n",
              "B_OPERCOST       -0.007389      0.001590    -4.645943  3.385266e-06\n",
              "B_OPER_VALLEY_EC -0.000523      0.008058    -0.064960  9.482059e-01\n",
              "B_OPER_VALLEY_ER  0.003967      0.005423     0.731581  4.644246e-01\n",
              "B_OPER_VALLEY_GC  0.007841      0.009152     0.856782  3.915653e-01\n",
              "B_OPER_VALLEY_GR -0.004791      0.013599    -0.352329  7.245918e-01\n",
              "B_OPER_VALLEY_HP  0.012366      0.014149     0.873992  3.821227e-01"
            ],
            "text/html": [
              "\n",
              "  <div id=\"df-d149f31d-8fce-4510-ae0c-ddf34b0c7743\">\n",
              "    <div class=\"colab-df-container\">\n",
              "      <div>\n",
              "<style scoped>\n",
              "    .dataframe tbody tr th:only-of-type {\n",
              "        vertical-align: middle;\n",
              "    }\n",
              "\n",
              "    .dataframe tbody tr th {\n",
              "        vertical-align: top;\n",
              "    }\n",
              "\n",
              "    .dataframe thead th {\n",
              "        text-align: right;\n",
              "    }\n",
              "</style>\n",
              "<table border=\"1\" class=\"dataframe\">\n",
              "  <thead>\n",
              "    <tr style=\"text-align: right;\">\n",
              "      <th></th>\n",
              "      <th>Value</th>\n",
              "      <th>Rob. Std err</th>\n",
              "      <th>Rob. t-test</th>\n",
              "      <th>Rob. p-value</th>\n",
              "    </tr>\n",
              "  </thead>\n",
              "  <tbody>\n",
              "    <tr>\n",
              "      <th>ASC_EC</th>\n",
              "      <td>1.787048</td>\n",
              "      <td>0.473729</td>\n",
              "      <td>3.772299</td>\n",
              "      <td>1.617505e-04</td>\n",
              "    </tr>\n",
              "    <tr>\n",
              "      <th>ASC_ER</th>\n",
              "      <td>1.954662</td>\n",
              "      <td>0.377192</td>\n",
              "      <td>5.182147</td>\n",
              "      <td>2.193464e-07</td>\n",
              "    </tr>\n",
              "    <tr>\n",
              "      <th>ASC_GC</th>\n",
              "      <td>1.737270</td>\n",
              "      <td>0.254128</td>\n",
              "      <td>6.836192</td>\n",
              "      <td>8.132606e-12</td>\n",
              "    </tr>\n",
              "    <tr>\n",
              "      <th>ASC_GR</th>\n",
              "      <td>0.309719</td>\n",
              "      <td>0.236475</td>\n",
              "      <td>1.309730</td>\n",
              "      <td>1.902872e-01</td>\n",
              "    </tr>\n",
              "    <tr>\n",
              "      <th>B_INSTCOST</th>\n",
              "      <td>-0.001622</td>\n",
              "      <td>0.000696</td>\n",
              "      <td>-2.328873</td>\n",
              "      <td>1.986582e-02</td>\n",
              "    </tr>\n",
              "    <tr>\n",
              "      <th>B_INST_VALLEY_EC</th>\n",
              "      <td>0.001619</td>\n",
              "      <td>0.004566</td>\n",
              "      <td>0.354644</td>\n",
              "      <td>7.228566e-01</td>\n",
              "    </tr>\n",
              "    <tr>\n",
              "      <th>B_INST_VALLEY_ER</th>\n",
              "      <td>-0.000489</td>\n",
              "      <td>0.002341</td>\n",
              "      <td>-0.208966</td>\n",
              "      <td>8.344749e-01</td>\n",
              "    </tr>\n",
              "    <tr>\n",
              "      <th>B_INST_VALLEY_GC</th>\n",
              "      <td>-0.000433</td>\n",
              "      <td>0.002128</td>\n",
              "      <td>-0.203538</td>\n",
              "      <td>8.387148e-01</td>\n",
              "    </tr>\n",
              "    <tr>\n",
              "      <th>B_INST_VALLEY_GR</th>\n",
              "      <td>0.002052</td>\n",
              "      <td>0.002039</td>\n",
              "      <td>1.006384</td>\n",
              "      <td>3.142311e-01</td>\n",
              "    </tr>\n",
              "    <tr>\n",
              "      <th>B_INST_VALLEY_HP</th>\n",
              "      <td>-0.001328</td>\n",
              "      <td>0.002788</td>\n",
              "      <td>-0.476395</td>\n",
              "      <td>6.337930e-01</td>\n",
              "    </tr>\n",
              "    <tr>\n",
              "      <th>B_OPERCOST</th>\n",
              "      <td>-0.007389</td>\n",
              "      <td>0.001590</td>\n",
              "      <td>-4.645943</td>\n",
              "      <td>3.385266e-06</td>\n",
              "    </tr>\n",
              "    <tr>\n",
              "      <th>B_OPER_VALLEY_EC</th>\n",
              "      <td>-0.000523</td>\n",
              "      <td>0.008058</td>\n",
              "      <td>-0.064960</td>\n",
              "      <td>9.482059e-01</td>\n",
              "    </tr>\n",
              "    <tr>\n",
              "      <th>B_OPER_VALLEY_ER</th>\n",
              "      <td>0.003967</td>\n",
              "      <td>0.005423</td>\n",
              "      <td>0.731581</td>\n",
              "      <td>4.644246e-01</td>\n",
              "    </tr>\n",
              "    <tr>\n",
              "      <th>B_OPER_VALLEY_GC</th>\n",
              "      <td>0.007841</td>\n",
              "      <td>0.009152</td>\n",
              "      <td>0.856782</td>\n",
              "      <td>3.915653e-01</td>\n",
              "    </tr>\n",
              "    <tr>\n",
              "      <th>B_OPER_VALLEY_GR</th>\n",
              "      <td>-0.004791</td>\n",
              "      <td>0.013599</td>\n",
              "      <td>-0.352329</td>\n",
              "      <td>7.245918e-01</td>\n",
              "    </tr>\n",
              "    <tr>\n",
              "      <th>B_OPER_VALLEY_HP</th>\n",
              "      <td>0.012366</td>\n",
              "      <td>0.014149</td>\n",
              "      <td>0.873992</td>\n",
              "      <td>3.821227e-01</td>\n",
              "    </tr>\n",
              "  </tbody>\n",
              "</table>\n",
              "</div>\n",
              "      <button class=\"colab-df-convert\" onclick=\"convertToInteractive('df-d149f31d-8fce-4510-ae0c-ddf34b0c7743')\"\n",
              "              title=\"Convert this dataframe to an interactive table.\"\n",
              "              style=\"display:none;\">\n",
              "        \n",
              "  <svg xmlns=\"http://www.w3.org/2000/svg\" height=\"24px\"viewBox=\"0 0 24 24\"\n",
              "       width=\"24px\">\n",
              "    <path d=\"M0 0h24v24H0V0z\" fill=\"none\"/>\n",
              "    <path d=\"M18.56 5.44l.94 2.06.94-2.06 2.06-.94-2.06-.94-.94-2.06-.94 2.06-2.06.94zm-11 1L8.5 8.5l.94-2.06 2.06-.94-2.06-.94L8.5 2.5l-.94 2.06-2.06.94zm10 10l.94 2.06.94-2.06 2.06-.94-2.06-.94-.94-2.06-.94 2.06-2.06.94z\"/><path d=\"M17.41 7.96l-1.37-1.37c-.4-.4-.92-.59-1.43-.59-.52 0-1.04.2-1.43.59L10.3 9.45l-7.72 7.72c-.78.78-.78 2.05 0 2.83L4 21.41c.39.39.9.59 1.41.59.51 0 1.02-.2 1.41-.59l7.78-7.78 2.81-2.81c.8-.78.8-2.07 0-2.86zM5.41 20L4 18.59l7.72-7.72 1.47 1.35L5.41 20z\"/>\n",
              "  </svg>\n",
              "      </button>\n",
              "      \n",
              "  <style>\n",
              "    .colab-df-container {\n",
              "      display:flex;\n",
              "      flex-wrap:wrap;\n",
              "      gap: 12px;\n",
              "    }\n",
              "\n",
              "    .colab-df-convert {\n",
              "      background-color: #E8F0FE;\n",
              "      border: none;\n",
              "      border-radius: 50%;\n",
              "      cursor: pointer;\n",
              "      display: none;\n",
              "      fill: #1967D2;\n",
              "      height: 32px;\n",
              "      padding: 0 0 0 0;\n",
              "      width: 32px;\n",
              "    }\n",
              "\n",
              "    .colab-df-convert:hover {\n",
              "      background-color: #E2EBFA;\n",
              "      box-shadow: 0px 1px 2px rgba(60, 64, 67, 0.3), 0px 1px 3px 1px rgba(60, 64, 67, 0.15);\n",
              "      fill: #174EA6;\n",
              "    }\n",
              "\n",
              "    [theme=dark] .colab-df-convert {\n",
              "      background-color: #3B4455;\n",
              "      fill: #D2E3FC;\n",
              "    }\n",
              "\n",
              "    [theme=dark] .colab-df-convert:hover {\n",
              "      background-color: #434B5C;\n",
              "      box-shadow: 0px 1px 3px 1px rgba(0, 0, 0, 0.15);\n",
              "      filter: drop-shadow(0px 1px 2px rgba(0, 0, 0, 0.3));\n",
              "      fill: #FFFFFF;\n",
              "    }\n",
              "  </style>\n",
              "\n",
              "      <script>\n",
              "        const buttonEl =\n",
              "          document.querySelector('#df-d149f31d-8fce-4510-ae0c-ddf34b0c7743 button.colab-df-convert');\n",
              "        buttonEl.style.display =\n",
              "          google.colab.kernel.accessAllowed ? 'block' : 'none';\n",
              "\n",
              "        async function convertToInteractive(key) {\n",
              "          const element = document.querySelector('#df-d149f31d-8fce-4510-ae0c-ddf34b0c7743');\n",
              "          const dataTable =\n",
              "            await google.colab.kernel.invokeFunction('convertToInteractive',\n",
              "                                                     [key], {});\n",
              "          if (!dataTable) return;\n",
              "\n",
              "          const docLinkHtml = 'Like what you see? Visit the ' +\n",
              "            '<a target=\"_blank\" href=https://colab.research.google.com/notebooks/data_table.ipynb>data table notebook</a>'\n",
              "            + ' to learn more about interactive tables.';\n",
              "          element.innerHTML = '';\n",
              "          dataTable['output_type'] = 'display_data';\n",
              "          await google.colab.output.renderOutput(dataTable, element);\n",
              "          const docLink = document.createElement('div');\n",
              "          docLink.innerHTML = docLinkHtml;\n",
              "          element.appendChild(docLink);\n",
              "        }\n",
              "      </script>\n",
              "    </div>\n",
              "  </div>\n",
              "  "
            ]
          },
          "metadata": {},
          "execution_count": 95
        }
      ]
    },
    {
      "cell_type": "markdown",
      "source": [
        "### WTP:\n",
        " Because we have an interaction term with the cost varaibles, the model is not linear with respect to costs. If we apply the definition of WTP, we would get two WTP per alternative, one for the 'valley region' individuals and one for the 'non-valley region' individuals. The model simplifies for the nonvalley because their value for the 'region_valley' variable is 0, so the WTP for them is just the ratio.\n",
        "\n",
        " If you chose a non dummy variable for the interaction, such as income, the you would get a different WTP per individual (almost) so the answer should be a plot or a function, or a list of values."
      ],
      "metadata": {
        "id": "4JhTsUUKKMWk"
      }
    },
    {
      "cell_type": "markdown",
      "source": [
        "For the dummy interaction with valley, the WTP for the non-valley individuals is just the usual one."
      ],
      "metadata": {
        "id": "Dyigk7h0Lorw"
      }
    },
    {
      "cell_type": "code",
      "source": [
        "results_inter.getBetaValues()['B_OPERCOST'] / results_inter.getBetaValues()['B_INSTCOST']"
      ],
      "metadata": {
        "colab": {
          "base_uri": "https://localhost:8080/"
        },
        "id": "8yIsfsUPK7uS",
        "outputId": "8288570b-85c9-46da-e8d9-97a7f1388311"
      },
      "execution_count": null,
      "outputs": [
        {
          "output_type": "execute_result",
          "data": {
            "text/plain": [
              "4.556015796724559"
            ]
          },
          "metadata": {},
          "execution_count": 96
        }
      ]
    },
    {
      "cell_type": "markdown",
      "source": [
        "For the valley individuals, their 'different' Operation cost and installation cost coefficients can be calculated by adding the interaction terms to the 'common' coefficients (the ones we used for the non-valley).\n",
        "The resulting WTP look really strange, a very large one!\n",
        "Might be due to a lack of sample size? Maybe we should specify a better model, such different operation cost and installation cost coefficient per alternative, not only the interaction term?\n",
        "Anyways this part would be OK even though the numbers look weird."
      ],
      "metadata": {
        "id": "GMPd5TcCLrly"
      }
    },
    {
      "cell_type": "code",
      "source": [
        "(results_inter.getBetaValues()['B_OPERCOST'] + results_inter.getBetaValues()['B_OPER_VALLEY_GC'] ) / (results_inter.getBetaValues()['B_INSTCOST'] + results_inter.getBetaValues()['B_INST_VALLEY_GC'] )"
      ],
      "metadata": {
        "colab": {
          "base_uri": "https://localhost:8080/"
        },
        "id": "9u451C0lLLWC",
        "outputId": "37c9ebd4-57a4-4921-c8d4-4fb9d27dc67e"
      },
      "execution_count": null,
      "outputs": [
        {
          "output_type": "execute_result",
          "data": {
            "text/plain": [
              "-0.2200865837599923"
            ]
          },
          "metadata": {},
          "execution_count": 97
        }
      ]
    },
    {
      "cell_type": "code",
      "source": [
        "(results_inter.getBetaValues()['B_OPERCOST'] + results_inter.getBetaValues()['B_OPER_VALLEY_ER'] ) / (results_inter.getBetaValues()['B_INSTCOST'] + results_inter.getBetaValues()['B_INST_VALLEY_ER'] )"
      ],
      "metadata": {
        "colab": {
          "base_uri": "https://localhost:8080/"
        },
        "id": "xiONl_u4L-Fl",
        "outputId": "e0982cb7-5c9f-4698-d6e1-9c0bf62b3eb3"
      },
      "execution_count": null,
      "outputs": [
        {
          "output_type": "execute_result",
          "data": {
            "text/plain": [
              "1.6208774481984616"
            ]
          },
          "metadata": {},
          "execution_count": 98
        }
      ]
    },
    {
      "cell_type": "code",
      "source": [
        "(results_inter.getBetaValues()['B_OPERCOST'] + results_inter.getBetaValues()['B_OPER_VALLEY_GR'] ) / (results_inter.getBetaValues()['B_INSTCOST'] + results_inter.getBetaValues()['B_INST_VALLEY_GR'] )"
      ],
      "metadata": {
        "colab": {
          "base_uri": "https://localhost:8080/"
        },
        "id": "OwsDNMf9MTTx",
        "outputId": "66a07ad2-a8e7-420c-b239-e170ca44098e"
      },
      "execution_count": null,
      "outputs": [
        {
          "output_type": "execute_result",
          "data": {
            "text/plain": [
              "-28.329684964163683"
            ]
          },
          "metadata": {},
          "execution_count": 99
        }
      ]
    },
    {
      "cell_type": "code",
      "source": [
        "(results_inter.getBetaValues()['B_OPERCOST'] + results_inter.getBetaValues()['B_OPER_VALLEY_HP'] ) / (results_inter.getBetaValues()['B_INSTCOST'] + results_inter.getBetaValues()['B_INST_VALLEY_HP'] )"
      ],
      "metadata": {
        "colab": {
          "base_uri": "https://localhost:8080/"
        },
        "id": "dVhj_d3zMcVx",
        "outputId": "cf9ac0c2-a9bd-4520-99d2-45e17876c3e0"
      },
      "execution_count": null,
      "outputs": [
        {
          "output_type": "execute_result",
          "data": {
            "text/plain": [
              "-1.6872823205086105"
            ]
          },
          "metadata": {},
          "execution_count": 100
        }
      ]
    },
    {
      "cell_type": "code",
      "source": [
        "(results_inter.getBetaValues()['B_OPERCOST'] + results_inter.getBetaValues()['B_OPER_VALLEY_EC'] ) / (results_inter.getBetaValues()['B_INSTCOST'] + results_inter.getBetaValues()['B_INST_VALLEY_EC'] )"
      ],
      "metadata": {
        "colab": {
          "base_uri": "https://localhost:8080/"
        },
        "id": "6FFqS16UMtvr",
        "outputId": "71266f20-10ce-4070-a3db-d38ef09d9dbc"
      },
      "execution_count": null,
      "outputs": [
        {
          "output_type": "execute_result",
          "data": {
            "text/plain": [
              "3431.7841836980565"
            ]
          },
          "metadata": {},
          "execution_count": 101
        }
      ]
    },
    {
      "cell_type": "markdown",
      "source": [
        "### Comparing to the base model\n",
        "It is not significatively different to the base model, according to the likelihood ratio test at 5% significance."
      ],
      "metadata": {
        "id": "yGnD6ElpJrA5"
      }
    },
    {
      "cell_type": "code",
      "source": [
        "tools.likelihood_ratio_test( (results_inter.data.logLike, results_inter.data.nparam),\n",
        "                            (results_base.data.logLike, results_base.data.nparam), 0.05)"
      ],
      "metadata": {
        "id": "xCczmqFSE20n",
        "outputId": "27e2941e-cf12-414a-e893-6dcd6038d04f",
        "colab": {
          "base_uri": "https://localhost:8080/"
        }
      },
      "execution_count": null,
      "outputs": [
        {
          "output_type": "execute_result",
          "data": {
            "text/plain": [
              "LRTuple(message='H0 cannot be rejected at level 5.0%', statistic=3.5085370182514453, threshold=18.307038053275146)"
            ]
          },
          "metadata": {},
          "execution_count": 102
        }
      ]
    },
    {
      "cell_type": "markdown",
      "metadata": {
        "id": "ZrERT0Lnm44E"
      },
      "source": [
        "---\n",
        "---\n",
        "\n",
        "# 5) Do the people of the 'valley' region have significatively **DIFFERENT** utility relationship for installation cost and operation cost, compared to the other regions? (Apologies the important word *different* was missing from the question!)\n",
        "*You might need to fit one model (or two) to answer this question.*\n",
        "\n",
        "Again several ways to solve it:\n",
        "* One way is to estimate a model with interactions, interacting with the 'region_valley' variable, and then use a statistical test.\n",
        "* Another way is to separate the datasets and create one dataset only for the valley people. Then use a statistical test to compare the model fit to the valley people and a model fit to the non-valley people**\n",
        "\n",
        "We use the interaction approach, and reuse the specification for question 4, the specification for question 4 was chosen to answer this!**\n",
        "\n",
        "So the solution for this one will be just, the same comparison as in Question 3, a likelihood ratio test comparing to the base model in Question 1"
      ]
    },
    {
      "cell_type": "code",
      "metadata": {
        "id": "O4Iau_IHHCzc",
        "colab": {
          "base_uri": "https://localhost:8080/"
        },
        "outputId": "66c6bb54-f5e8-4c48-e98e-73f229caccf7"
      },
      "source": [
        "tools.likelihood_ratio_test( (results_inter.data.logLike, results_inter.data.nparam),\n",
        "                            (results_base.data.logLike, results_base.data.nparam), 0.05)"
      ],
      "execution_count": null,
      "outputs": [
        {
          "output_type": "execute_result",
          "data": {
            "text/plain": [
              "LRTuple(message='H0 cannot be rejected at level 5.0%', statistic=3.5085370182514453, threshold=18.307038053275146)"
            ]
          },
          "metadata": {},
          "execution_count": 103
        }
      ]
    },
    {
      "cell_type": "markdown",
      "metadata": {
        "id": "GakjB3brH3oX"
      },
      "source": [
        "---\n",
        "---\n",
        "\n",
        "# 6) Due to a 'Special Operation', it is expected that the supply of gas will be completely cut, this is, the two alternatives that use gas, 'gas central' and 'gas room' will not be available. The households that *chose one of those alternatives* will have to move another heating system. Calculate the installation cost that will be incurred due to this change for the population. Use the model fitted in Question 4."
      ]
    },
    {
      "cell_type": "markdown",
      "source": [
        "One way to emulate the removal of some alternatives is to set the costs to a very high value, assuming that the probabilities are going to be negatively impacted.\n",
        "The second part is to focus only on the individuals that chose alternatives 'gas central' or 'gas room'."
      ],
      "metadata": {
        "id": "1Z_73_j3PNXT"
      }
    },
    {
      "cell_type": "code",
      "metadata": {
        "id": "JRYpnoSvHQx3"
      },
      "source": [
        "wprob_gc = models.logit(V_inter, av, 1)\n",
        "wprob_er = models.logit(V_inter, av, 2)\n",
        "wprob_gr = models.logit(V_inter, av, 3)\n",
        "wprob_hp = models.logit(V_inter, av, 4)\n",
        "wprob_ec = models.logit(V_inter, av, 5)\n",
        "\n",
        "\n",
        "wtargets_to_simulate ={'Prob. gc':  wprob_gc ,\n",
        "                      'Prob. er':  wprob_er ,\n",
        "           'Prob. gr': wprob_gr,\n",
        "           'Prob. hp': wprob_hp ,\n",
        "           'Prob. ec': wprob_ec  }\n",
        "\n"
      ],
      "execution_count": null,
      "outputs": []
    },
    {
      "cell_type": "markdown",
      "source": [
        "Lets calculate the original choice probabilties"
      ],
      "metadata": {
        "id": "ssYsCwH1hX5C"
      }
    },
    {
      "cell_type": "code",
      "source": [
        "w_preds = bio.BIOGEME( bgm_heater, wtargets_to_simulate).simulate(results_inter.getBetaValues())\n",
        "w_preds.mean(0)"
      ],
      "metadata": {
        "colab": {
          "base_uri": "https://localhost:8080/"
        },
        "id": "WiYmbXcihWym",
        "outputId": "417d8711-eab2-4d4a-bcb5-5f6afca798df"
      },
      "execution_count": null,
      "outputs": [
        {
          "output_type": "execute_result",
          "data": {
            "text/plain": [
              "Prob. gc    0.636666\n",
              "Prob. er    0.093333\n",
              "Prob. gr    0.143334\n",
              "Prob. hp    0.055557\n",
              "Prob. ec    0.071110\n",
              "dtype: float64"
            ]
          },
          "metadata": {},
          "execution_count": 105
        }
      ]
    },
    {
      "cell_type": "markdown",
      "source": [
        "We will modify the dataset to remove gas alternatives, to see the difference"
      ],
      "metadata": {
        "id": "PPgBnF3veqtC"
      }
    },
    {
      "cell_type": "code",
      "source": [
        "heater_pd_nogas = heater_pd.copy()\n",
        "heater_pd_nogas['ic_gc'] *= 1000\n",
        "heater_pd_nogas['ic_gr'] *= 1000\n",
        "heater_pd_nogas['oc_gc'] *= 1000\n",
        "heater_pd_nogas['oc_gr'] *= 1000\n",
        "\n",
        "\n",
        "w_preds_nogas = bio.BIOGEME( db.Database('heater_nogas', heater_pd_nogas), wtargets_to_simulate).simulate(results_inter.getBetaValues())\n",
        "w_preds_nogas.mean(0)"
      ],
      "metadata": {
        "colab": {
          "base_uri": "https://localhost:8080/"
        },
        "id": "pZKY6l4HeqEA",
        "outputId": "398a22ee-44f4-4331-dc48-d1654fe1bca4"
      },
      "execution_count": null,
      "outputs": [
        {
          "output_type": "execute_result",
          "data": {
            "text/plain": [
              "Prob. gc    0.000000\n",
              "Prob. er    0.418414\n",
              "Prob. gr    0.000000\n",
              "Prob. hp    0.262214\n",
              "Prob. ec    0.319372\n",
              "dtype: float64"
            ]
          },
          "metadata": {},
          "execution_count": 106
        }
      ]
    },
    {
      "cell_type": "markdown",
      "source": [
        "Another way of 'calculating' the removal of alternatives is by applying the properties of the multinomial logit, we know that by the Independence of Irrelevant alternatives, the ratio of probabilities (odds) stays constant when removing 'irrelevant' alternatives. For example, we can check the two datasets, we see that the ratio of proportions for 'er' and 'hp' alternatives is the same, even when removing the gas alternatives."
      ],
      "metadata": {
        "id": "Mz6CncuKwnib"
      }
    },
    {
      "cell_type": "code",
      "source": [
        "np.mean(w_preds['Prob. er'] / w_preds['Prob. hp'] )"
      ],
      "metadata": {
        "colab": {
          "base_uri": "https://localhost:8080/"
        },
        "id": "oC_QoNwFtOtr",
        "outputId": "2d1222fe-5bb4-4599-8e53-2ea0ddd3cf8c"
      },
      "execution_count": null,
      "outputs": [
        {
          "output_type": "execute_result",
          "data": {
            "text/plain": [
              "1.7574884989949622"
            ]
          },
          "metadata": {},
          "execution_count": 107
        }
      ]
    },
    {
      "cell_type": "code",
      "source": [
        "np.mean(w_preds_nogas['Prob. er'] / w_preds_nogas['Prob. hp'] )"
      ],
      "metadata": {
        "colab": {
          "base_uri": "https://localhost:8080/"
        },
        "id": "3MoaSZZYtB0Q",
        "outputId": "54a9895a-da9e-47bb-c1aa-df44b6b520a6"
      },
      "execution_count": null,
      "outputs": [
        {
          "output_type": "execute_result",
          "data": {
            "text/plain": [
              "1.7574884989949624"
            ]
          },
          "metadata": {},
          "execution_count": 108
        }
      ]
    },
    {
      "cell_type": "markdown",
      "source": [
        "So we could find out the new choice probabilities in an 'analytical' way, without simulation. The easy way is through simulation :)."
      ],
      "metadata": {
        "id": "e_35w0P2xoQo"
      }
    },
    {
      "cell_type": "markdown",
      "source": [
        "\n",
        "---\n",
        "We continue, we get the subset of people in the dataset that chose gas alternatives. These are the individuals that will have to reinstall their heating system."
      ],
      "metadata": {
        "id": "dNU1bTEujHAf"
      }
    },
    {
      "cell_type": "code",
      "source": [
        "heater_pd_nogas_reinstall = heater_pd_nogas[ (heater_pd_nogas['depvar'] == 1) | (heater_pd_nogas['depvar'] == 3) ]"
      ],
      "metadata": {
        "id": "RzR2st1ghq2D"
      },
      "execution_count": null,
      "outputs": []
    },
    {
      "cell_type": "markdown",
      "source": [
        "Check the choice probabilities (not required, just for clarity)."
      ],
      "metadata": {
        "id": "cQyExmacjNFU"
      }
    },
    {
      "cell_type": "code",
      "source": [
        "w_preds_nogas_reinstall = bio.BIOGEME( db.Database('heater_remove', heater_pd_nogas_reinstall), wtargets_to_simulate).simulate(results_inter.getBetaValues())\n",
        "w_preds_nogas_reinstall.mean(0)"
      ],
      "metadata": {
        "colab": {
          "base_uri": "https://localhost:8080/"
        },
        "id": "gv8gTD8Jh_CY",
        "outputId": "69261282-d607-4d97-99cf-270298189463"
      },
      "execution_count": null,
      "outputs": [
        {
          "output_type": "execute_result",
          "data": {
            "text/plain": [
              "Prob. gc    0.000000\n",
              "Prob. er    0.416203\n",
              "Prob. gr    0.000000\n",
              "Prob. hp    0.265862\n",
              "Prob. ec    0.317936\n",
              "dtype: float64"
            ]
          },
          "metadata": {},
          "execution_count": 110
        }
      ]
    },
    {
      "cell_type": "markdown",
      "source": [
        "Sum the installation cost times the choice probabilities to get an estimation of the total cost"
      ],
      "metadata": {
        "id": "qQN6s8Jki_-2"
      }
    },
    {
      "cell_type": "code",
      "source": [
        "(w_preds_nogas_reinstall.to_numpy() * heater_pd_nogas_reinstall[ ['ic_gc', 'ic_er', 'ic_gr', 'ic_hp', 'ic_ec']].to_numpy()).sum(axis=None)"
      ],
      "metadata": {
        "colab": {
          "base_uri": "https://localhost:8080/"
        },
        "id": "4cwr83wAiIMK",
        "outputId": "f515a4c7-bac5-463a-adf8-b7ae1d50de18"
      },
      "execution_count": null,
      "outputs": [
        {
          "output_type": "execute_result",
          "data": {
            "text/plain": [
              "669053.3844121457"
            ]
          },
          "metadata": {},
          "execution_count": 111
        }
      ]
    }
  ]
}