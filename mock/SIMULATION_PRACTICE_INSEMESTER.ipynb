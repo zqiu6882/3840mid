{
  "cells": [
    {
      "cell_type": "markdown",
      "metadata": {
        "id": "zuJImh8WqX_m"
      },
      "source": [
        "# PRACTICE for the QBUS3840 In-semester exam\n",
        "\n",
        "# Rubric\n",
        "* The **marking scheme** is simple: Each question has a some points assigned. Then the points for each question are divided between\n",
        "  * Code: 50% if it works OK, 35% if minor problems, 20% if it does not work but is well explained.\n",
        "  * Text explanations: 40% if it is: Clearly written. Complete, all points are addressed. Decisions are properly justified, the right reasons are given for the answer. Demonstrates knowledge of the topic, explaining nuances/ alternatives. Then it will degrade from 40% if is fails to achieve that.\n",
        "  * Appearance: the remaining 10%. Structure in sections if needed. Properly sized cells (not too large code cells). Even mix of code cells and explanations instead of very few large cells. Code should be readable.\n"
      ]
    },
    {
      "cell_type": "markdown",
      "metadata": {
        "id": "lNCNO9FVS-rC"
      },
      "source": [
        "\n",
        "# Guidelines\n",
        "\n",
        "* The exam will be a colab jupyter notebook that you have to fill in, then upload to canvas.\n",
        "\n",
        "* You will have **120 minutes** to do the exam. This is an **important point**, try to become familiar with the functions to run biogeme, pandas, numpy, etc. Even if you have full access to the material of the course and can look at online programming forums for python issues, it might take some extra time. You can also prepare your own auxiliary functions to reduce the 'verbosity' of raw biogeme code. We will see this in the practice notebook.\n",
        "\n",
        "* **The questions will be very similar to what you will see in this practice notebook.** The point of the exam is to prove that you can do a basic analysis with a multinomial logit and use biogeme as a tool. The differenciation from typical exercises vs exam will come mostly in the type of data, what variables are involved and the 'what-if scenarios' questions.\n",
        "\n",
        "* The answers should be technically correct, but **the explanation in the text cells should demonstrate knowledge** of what you are doing. Why did you make that decision?. For example, a variable transformation, why do you choose that particular one? Why do you choose to add that variable to the model? What do you think it is going to do? After the results: Are the results as expected? Please do not be afraid of being 'too obvious' when explaining something.\n",
        "When explaining coefficients, Do these have the expected sign?, What is the interpretation with respect to the reference alternative?\n",
        " A perfect code but no explanation will net you 50-60% of the marks. The opposite example, if you get stuck with a python issue but know 'conceptually' how to answer, writing a good text explanation and some pseudocode will potentially net you up to half marks.\n",
        "\n",
        "\n",
        "* There will be no data cleaning involved, and the dataset will have full availability, you can create a full availability dictionary to pass to biogeme by just setting all entries to 1. ` av = {1:1, 2:1, 3:1, ...}`. We will see this in the practice.\n",
        "\n",
        "* Please **do not to identify yourself explicitly in the anwers**, writing your name. Besides that, you are free to express yourself.\n",
        "\n",
        "* The 'visual appearance' part of the exam stands for a small percentage of the mark, 10%. Try to clarify, do not leave very large code cells followed/ preceded by large text cells, try to interleave them so it is more natural to follow. Section you answers if they become long or address different topics. Do not write very long outputs, for example do not print the full dataset. It is critical that the main part of each answer is cleary identified with its own text cell and code cell. The bad example would be a large text cell explaining all the steps and the a large code cell that prints the output, with the answers in the middle of the code. Of course, if your answer does not require code (it might happen) do not force a code chunk in. The way we will mark the visual part is to read the notebook and if something stands out in a negative sense, this subtracts points.\n",
        "\n",
        "* There can be one or two small 'theoretical' questions that can be answered directly by understanding some theoretical concepts. The question can also\n",
        "be solved practically by estimating a model to 'try' the ideas.\n",
        "\n",
        "\n"
      ]
    },
    {
      "cell_type": "markdown",
      "metadata": {
        "id": "rxbeRIOOkIRc"
      },
      "source": [
        "# The practice problem\n",
        "We will model a dataset of choice of 'recreational fishing' mode. Fishers this is whether to go for a shipping trip in either the beach, the pier, a public charter boat or a private boat. The data was collected via phone interview and\n",
        "the attributes of the alternatives are the cost of the trip and the 'catch rate', the expected number of catches per hour for the particular species of fish that each fisher was targeting in their trip.\n",
        "The socio-economic characteristics is income, in fact the dataset was used to study different transformations of the income and price variable and how they influence utility, drawing deeper consequences for economic theory.\n",
        "\n",
        "The reference study, including a more detailed description of the dataset ca be found [here (Section IV Data and references therein)](https://lib.dr.iastate.edu/cgi/viewcontent.cgi?article=1017&context=econ_las_pubs)\n",
        "\n",
        "## Description of the dataset\n",
        "\n",
        "Each row represents a different customer, customers are 'independent' of each other.\n",
        "\n",
        "The variables in the dataset are:\n",
        "\n",
        "**mode**: a categorical variable indicating the fishing model selected for the trip. It is encoded in numbers, with the code:\n",
        " 1. Beach\n",
        " 2. Pier\n",
        " 3. Private boat\n",
        " 4. Charter boat\n",
        "\n",
        "**price_x**:  Cost of the fishing mode, variable in dollars. Where x stands for one of the alternatives, e.g. price_beach is the cost of the fishing from the beach in one fishing trip.\n",
        "\n",
        "**catch_x**: Catch rate, in catches per hour. Where x stands for one of the alternatives, e.g. catch_beach is the catch rate of the beach alternative.\n",
        "\n",
        "**income**: Monthly income of the recreational fisher, in dollars.\n"
      ]
    },
    {
      "cell_type": "markdown",
      "metadata": {
        "id": "vb9SIunnASNB"
      },
      "source": [
        "---\n",
        "---\n",
        "\n",
        "# Preparing the environment\n",
        "*The preparation and dataset loading code is given to the students*"
      ]
    },
    {
      "cell_type": "code",
      "execution_count": 1,
      "metadata": {
        "colab": {
          "base_uri": "https://localhost:8080/"
        },
        "id": "j5zHGhgErHPd",
        "outputId": "427c1279-f968-4a63-979b-9db641b52964"
      },
      "outputs": [
        {
          "name": "stdout",
          "output_type": "stream",
          "text": [
            "Requirement already satisfied: biogeme in /Users/hugh/anaconda3/lib/python3.10/site-packages (3.2.12)\n",
            "Requirement already satisfied: pandas>=1.3.5 in /Users/hugh/anaconda3/lib/python3.10/site-packages (from biogeme) (1.5.3)\n",
            "Requirement already satisfied: cythonbiogeme>=1.0.1 in /Users/hugh/anaconda3/lib/python3.10/site-packages (from biogeme) (1.0.1)\n",
            "Requirement already satisfied: scipy>=1.7.3 in /Users/hugh/anaconda3/lib/python3.10/site-packages (from biogeme) (1.11.2)\n",
            "Requirement already satisfied: biogeme-optimization>=0.0.4 in /Users/hugh/anaconda3/lib/python3.10/site-packages (from biogeme) (0.0.4)\n",
            "Requirement already satisfied: tomlkit>=0.11.5 in /Users/hugh/anaconda3/lib/python3.10/site-packages (from biogeme) (0.12.1)\n",
            "Requirement already satisfied: tqdm>=4.64.1 in /Users/hugh/anaconda3/lib/python3.10/site-packages (from biogeme) (4.64.1)\n",
            "Requirement already satisfied: numpy>=1.24.2 in /Users/hugh/anaconda3/lib/python3.10/site-packages (from biogeme-optimization>=0.0.4->biogeme) (1.25.2)\n",
            "Requirement already satisfied: cython>=0.29.16 in /Users/hugh/anaconda3/lib/python3.10/site-packages (from cythonbiogeme>=1.0.1->biogeme) (3.0.0)\n",
            "Requirement already satisfied: python-dateutil>=2.8.1 in /Users/hugh/anaconda3/lib/python3.10/site-packages (from pandas>=1.3.5->biogeme) (2.8.2)\n",
            "Requirement already satisfied: pytz>=2020.1 in /Users/hugh/anaconda3/lib/python3.10/site-packages (from pandas>=1.3.5->biogeme) (2022.7)\n",
            "Requirement already satisfied: six>=1.5 in /Users/hugh/anaconda3/lib/python3.10/site-packages (from python-dateutil>=2.8.1->pandas>=1.3.5->biogeme) (1.16.0)\n"
          ]
        }
      ],
      "source": [
        "!pip install biogeme"
      ]
    },
    {
      "cell_type": "markdown",
      "metadata": {
        "id": "1z0X9xZ8rChf"
      },
      "source": [
        "Load the packages, feel free to change the names."
      ]
    },
    {
      "cell_type": "code",
      "execution_count": 2,
      "metadata": {
        "id": "apVB-TMkrFnb"
      },
      "outputs": [],
      "source": [
        "import pandas  as pd\n",
        "import numpy as np\n",
        "import matplotlib.pyplot as plt\n",
        "\n",
        "import biogeme.database as db\n",
        "import biogeme.biogeme as bio\n",
        "import biogeme.models as models\n",
        "import biogeme.expressions as exp"
      ]
    },
    {
      "cell_type": "markdown",
      "metadata": {
        "id": "Mgv0hV1YAieW"
      },
      "source": [
        "# Load the dataset"
      ]
    },
    {
      "cell_type": "markdown",
      "metadata": {
        "id": "HP6HPxgmfeNI"
      },
      "source": [
        "# <font color='red'>IMPORTANT</font>\n",
        "Enter your student id in the cell below and run the dataset loading code.\n"
      ]
    },
    {
      "cell_type": "code",
      "execution_count": 3,
      "metadata": {
        "id": "w3ySihVldXdP"
      },
      "outputs": [],
      "source": [
        "student_id = 520005325"
      ]
    },
    {
      "cell_type": "code",
      "execution_count": 4,
      "metadata": {
        "id": "mM41SZjFghfI"
      },
      "outputs": [],
      "source": [
        "np.random.seed(student_id)\n",
        "version = np.random.randint(1007) % 2\n",
        "\n",
        "if (version):\n",
        "  path = 'https://raw.githubusercontent.com/pmontman/pub-choicemodels/main/data/fishing.csv'\n",
        "  fish_pd = pd.read_csv(path)\n",
        "else:\n",
        "  path = 'https://raw.githubusercontent.com/pmontman/pub-choicemodels/main/data/fishing.csv'\n",
        "  fish_pd = pd.read_csv(path)\n",
        "  fish_pd[ ['price_beach', 'catch_beach', 'price_boat', 'catch_boat']] =  fish_pd[ ['price_boat', 'catch_boat', 'price_beach', 'catch_beach']]"
      ]
    },
    {
      "cell_type": "markdown",
      "metadata": {
        "id": "ZY55r3Gesb3t"
      },
      "source": [
        "A simple look at the dataset."
      ]
    },
    {
      "cell_type": "code",
      "execution_count": 5,
      "metadata": {
        "colab": {
          "base_uri": "https://localhost:8080/",
          "height": 206
        },
        "id": "ldkmnMhssemT",
        "outputId": "c6428ee2-c78a-4e9c-dc0c-201af4664c21"
      },
      "outputs": [
        {
          "data": {
            "text/html": [
              "<div>\n",
              "<style scoped>\n",
              "    .dataframe tbody tr th:only-of-type {\n",
              "        vertical-align: middle;\n",
              "    }\n",
              "\n",
              "    .dataframe tbody tr th {\n",
              "        vertical-align: top;\n",
              "    }\n",
              "\n",
              "    .dataframe thead th {\n",
              "        text-align: right;\n",
              "    }\n",
              "</style>\n",
              "<table border=\"1\" class=\"dataframe\">\n",
              "  <thead>\n",
              "    <tr style=\"text-align: right;\">\n",
              "      <th></th>\n",
              "      <th>mode</th>\n",
              "      <th>price_beach</th>\n",
              "      <th>price_pier</th>\n",
              "      <th>price_boat</th>\n",
              "      <th>price_charter</th>\n",
              "      <th>catch_beach</th>\n",
              "      <th>catch_pier</th>\n",
              "      <th>catch_boat</th>\n",
              "      <th>catch_charter</th>\n",
              "      <th>income</th>\n",
              "    </tr>\n",
              "  </thead>\n",
              "  <tbody>\n",
              "    <tr>\n",
              "      <th>0</th>\n",
              "      <td>4</td>\n",
              "      <td>157.930</td>\n",
              "      <td>157.930</td>\n",
              "      <td>157.930</td>\n",
              "      <td>182.930</td>\n",
              "      <td>0.2601</td>\n",
              "      <td>0.0503</td>\n",
              "      <td>0.0678</td>\n",
              "      <td>0.5391</td>\n",
              "      <td>7083.3317</td>\n",
              "    </tr>\n",
              "    <tr>\n",
              "      <th>1</th>\n",
              "      <td>4</td>\n",
              "      <td>10.534</td>\n",
              "      <td>15.114</td>\n",
              "      <td>15.114</td>\n",
              "      <td>34.534</td>\n",
              "      <td>0.1574</td>\n",
              "      <td>0.0451</td>\n",
              "      <td>0.1049</td>\n",
              "      <td>0.4671</td>\n",
              "      <td>1249.9998</td>\n",
              "    </tr>\n",
              "    <tr>\n",
              "      <th>2</th>\n",
              "      <td>3</td>\n",
              "      <td>24.334</td>\n",
              "      <td>161.874</td>\n",
              "      <td>161.874</td>\n",
              "      <td>59.334</td>\n",
              "      <td>0.2413</td>\n",
              "      <td>0.4522</td>\n",
              "      <td>0.5333</td>\n",
              "      <td>1.0266</td>\n",
              "      <td>3749.9999</td>\n",
              "    </tr>\n",
              "    <tr>\n",
              "      <th>3</th>\n",
              "      <td>2</td>\n",
              "      <td>55.930</td>\n",
              "      <td>15.134</td>\n",
              "      <td>15.134</td>\n",
              "      <td>84.930</td>\n",
              "      <td>0.1643</td>\n",
              "      <td>0.0789</td>\n",
              "      <td>0.0678</td>\n",
              "      <td>0.5391</td>\n",
              "      <td>2083.3332</td>\n",
              "    </tr>\n",
              "    <tr>\n",
              "      <th>4</th>\n",
              "      <td>3</td>\n",
              "      <td>41.514</td>\n",
              "      <td>106.930</td>\n",
              "      <td>106.930</td>\n",
              "      <td>71.014</td>\n",
              "      <td>0.1082</td>\n",
              "      <td>0.0503</td>\n",
              "      <td>0.0678</td>\n",
              "      <td>0.3240</td>\n",
              "      <td>4583.3320</td>\n",
              "    </tr>\n",
              "  </tbody>\n",
              "</table>\n",
              "</div>"
            ],
            "text/plain": [
              "   mode  price_beach  price_pier  price_boat  price_charter  catch_beach  \\\n",
              "0     4      157.930     157.930     157.930        182.930       0.2601   \n",
              "1     4       10.534      15.114      15.114         34.534       0.1574   \n",
              "2     3       24.334     161.874     161.874         59.334       0.2413   \n",
              "3     2       55.930      15.134      15.134         84.930       0.1643   \n",
              "4     3       41.514     106.930     106.930         71.014       0.1082   \n",
              "\n",
              "   catch_pier  catch_boat  catch_charter     income  \n",
              "0      0.0503      0.0678         0.5391  7083.3317  \n",
              "1      0.0451      0.1049         0.4671  1249.9998  \n",
              "2      0.4522      0.5333         1.0266  3749.9999  \n",
              "3      0.0789      0.0678         0.5391  2083.3332  \n",
              "4      0.0503      0.0678         0.3240  4583.3320  "
            ]
          },
          "execution_count": 5,
          "metadata": {},
          "output_type": "execute_result"
        }
      ],
      "source": [
        "fish_pd.head(5)"
      ]
    },
    {
      "cell_type": "markdown",
      "metadata": {
        "id": "Ya_1zth9vEX1"
      },
      "source": [
        "---\n",
        "---\n",
        "\n",
        "# 1) Adjust a model with alternative specific constants and shared parameters for price and catch rate. Select one of the alternatives as the reference (pick the one that you prefer). Comment on the results: Signs of the variables and alternative specific constants."
      ]
    },
    {
      "cell_type": "code",
      "execution_count": 6,
      "metadata": {
        "id": "g19sw9gOQ6hX"
      },
      "outputs": [
        {
          "name": "stderr",
          "output_type": "stream",
          "text": [
            "You have not defined a name for the model. The output files are named from the model name. The default is [biogemeModelDefaultName]\n"
          ]
        },
        {
          "data": {
            "text/html": [
              "<div>\n",
              "<style scoped>\n",
              "    .dataframe tbody tr th:only-of-type {\n",
              "        vertical-align: middle;\n",
              "    }\n",
              "\n",
              "    .dataframe tbody tr th {\n",
              "        vertical-align: top;\n",
              "    }\n",
              "\n",
              "    .dataframe thead th {\n",
              "        text-align: right;\n",
              "    }\n",
              "</style>\n",
              "<table border=\"1\" class=\"dataframe\">\n",
              "  <thead>\n",
              "    <tr style=\"text-align: right;\">\n",
              "      <th></th>\n",
              "      <th>Value</th>\n",
              "      <th>Rob. Std err</th>\n",
              "      <th>Rob. t-test</th>\n",
              "      <th>Rob. p-value</th>\n",
              "    </tr>\n",
              "  </thead>\n",
              "  <tbody>\n",
              "    <tr>\n",
              "      <th>ASC_beach</th>\n",
              "      <td>-0.251721</td>\n",
              "      <td>0.127699</td>\n",
              "      <td>-1.971202</td>\n",
              "      <td>0.048701</td>\n",
              "    </tr>\n",
              "    <tr>\n",
              "      <th>ASC_boat</th>\n",
              "      <td>0.841877</td>\n",
              "      <td>0.090719</td>\n",
              "      <td>9.280051</td>\n",
              "      <td>0.000000</td>\n",
              "    </tr>\n",
              "    <tr>\n",
              "      <th>ASC_charter</th>\n",
              "      <td>0.874607</td>\n",
              "      <td>0.104903</td>\n",
              "      <td>8.337258</td>\n",
              "      <td>0.000000</td>\n",
              "    </tr>\n",
              "    <tr>\n",
              "      <th>B_catch</th>\n",
              "      <td>0.148717</td>\n",
              "      <td>0.091371</td>\n",
              "      <td>1.627622</td>\n",
              "      <td>0.103605</td>\n",
              "    </tr>\n",
              "    <tr>\n",
              "      <th>B_price</th>\n",
              "      <td>0.000688</td>\n",
              "      <td>0.000506</td>\n",
              "      <td>1.360759</td>\n",
              "      <td>0.173590</td>\n",
              "    </tr>\n",
              "  </tbody>\n",
              "</table>\n",
              "</div>"
            ],
            "text/plain": [
              "                Value  Rob. Std err  Rob. t-test  Rob. p-value\n",
              "ASC_beach   -0.251721      0.127699    -1.971202      0.048701\n",
              "ASC_boat     0.841877      0.090719     9.280051      0.000000\n",
              "ASC_charter  0.874607      0.104903     8.337258      0.000000\n",
              "B_catch      0.148717      0.091371     1.627622      0.103605\n",
              "B_price      0.000688      0.000506     1.360759      0.173590"
            ]
          },
          "execution_count": 6,
          "metadata": {},
          "output_type": "execute_result"
        }
      ],
      "source": [
        "def qbus_update_globals_bgm(pd_df):\n",
        "   globals().update(db.Database('tmp_bg_bgm_for_glob', pd_df).variables)\n",
        "\n",
        "def qbus_estimate_bgm(V, pd_df, tgtvar_name, modelname='bgmdef'):\n",
        " av_auto = V.copy()\n",
        " for key, value in av_auto.items():\n",
        "   av_auto[key] = 1\n",
        " bgm_db = db.Database(modelname + '_db', pd_df)\n",
        " globals().update(bgm_db.variables)\n",
        " logprob = models.loglogit (V , av_auto , bgm_db.variables[tgtvar_name] )\n",
        " bgm_model = bio.BIOGEME ( bgm_db, logprob )\n",
        " bgm_model.utility_dic = V.copy()\n",
        " return bgm_model, bgm_model.estimate()\n",
        "\n",
        "fish = qbus_update_globals_bgm(fish_pd)\n",
        "\n",
        "\n",
        "ASC_beach = exp.Beta ( 'ASC_beach' ,0, None , None ,0)\n",
        "ASC_pier = exp.Beta ( 'ASC_pier' ,0, None , None ,1)\n",
        "ASC_boat = exp.Beta ( 'ASC_boat' ,0, None , None ,0)\n",
        "ASC_charter = exp.Beta ( 'ASC_charter' ,0, None , None ,0)\n",
        "B_price = exp.Beta ( 'B_price' ,0, None , None ,0)\n",
        "B_catch = exp.Beta ( 'B_catch' ,0, None , None ,0)\n",
        "\n",
        "\n",
        "V_beach = ASC_beach + B_price*price_beach + B_catch*catch_beach\n",
        "V_pier = ASC_pier + B_price*price_pier + B_catch*catch_pier\n",
        "V_boat = ASC_boat + B_price*price_boat + B_catch*catch_boat\n",
        "V_charter = ASC_charter + B_price*price_charter + B_catch*catch_charter\n",
        "\n",
        "V_base = {1: V_beach,\n",
        "     2: V_pier,\n",
        "     3: V_boat,\n",
        "     4: V_charter}\n",
        "\n",
        "model_base, results_base = qbus_estimate_bgm(V_base, fish_pd, 'mode', 'fish')\n",
        "results_base.getEstimatedParameters()"
      ]
    },
    {
      "cell_type": "markdown",
      "metadata": {},
      "source": [
        "We set the pier as a the reference, and estimate the multiple choise model through biogme, in the base point, the beach have a negative intercept utility of -0.2517, the private boat has a positive intercept utility of 0.8419, and charter boat has 0.8746, the catch rate contribute a positive 0.1487 for the utility for all the alternatives, and the price contribute a slightly positive 0.001 utility for all the alternatives, and this is different to the common sense for the demand vs price curve, which need to further discussed."
      ]
    },
    {
      "cell_type": "markdown",
      "metadata": {
        "id": "mdDsNIDw54DR"
      },
      "source": [
        "---\n",
        "---\n",
        "\n",
        "# 2) Calculate the willingness to pay for increasing the catch rate and comment on the interpretation\n",
        "\n"
      ]
    },
    {
      "cell_type": "code",
      "execution_count": 7,
      "metadata": {
        "id": "h0a_ORPGQ6_M"
      },
      "outputs": [
        {
          "data": {
            "text/plain": [
              "216.1296990680225"
            ]
          },
          "execution_count": 7,
          "metadata": {},
          "output_type": "execute_result"
        }
      ],
      "source": [
        "results_base.getBetaValues()['B_catch'] / results_base.getBetaValues()['B_price']"
      ]
    },
    {
      "cell_type": "markdown",
      "metadata": {},
      "source": [
        "The WTP of 216.1341 suggests that a consumer would be willing to pay an additional 216.1341 units of currency for a one-unit increase in the catch rate. For example, if the catch rate goes from 5 fish per hour to 6 fish per hour, the consumer is willing to pay an extra 216.1341 dollars for this increase, all else being equal."
      ]
    },
    {
      "cell_type": "markdown",
      "metadata": {
        "id": "va6FLcr4nOCi"
      },
      "source": [
        "---\n",
        "---\n",
        "\n",
        "# 3) Fit per-alternative parameters for cost and catch rate. Add one variable that has not been considered, apply a transformation of your choosing (to the new or other variables) and estimate a new model. Comment on the results and compare the new model to the model in Exercise 1. What changes are relevant? Is the new model a better fit?\n"
      ]
    },
    {
      "cell_type": "code",
      "execution_count": 8,
      "metadata": {
        "id": "hi-p0yznQ7hL"
      },
      "outputs": [
        {
          "name": "stderr",
          "output_type": "stream",
          "text": [
            "You have not defined a name for the model. The output files are named from the model name. The default is [biogemeModelDefaultName]\n"
          ]
        },
        {
          "data": {
            "text/html": [
              "<div>\n",
              "<style scoped>\n",
              "    .dataframe tbody tr th:only-of-type {\n",
              "        vertical-align: middle;\n",
              "    }\n",
              "\n",
              "    .dataframe tbody tr th {\n",
              "        vertical-align: top;\n",
              "    }\n",
              "\n",
              "    .dataframe thead th {\n",
              "        text-align: right;\n",
              "    }\n",
              "</style>\n",
              "<table border=\"1\" class=\"dataframe\">\n",
              "  <thead>\n",
              "    <tr style=\"text-align: right;\">\n",
              "      <th></th>\n",
              "      <th>Value</th>\n",
              "      <th>Rob. Std err</th>\n",
              "      <th>Rob. t-test</th>\n",
              "      <th>Rob. p-value</th>\n",
              "    </tr>\n",
              "  </thead>\n",
              "  <tbody>\n",
              "    <tr>\n",
              "      <th>ASC_beach</th>\n",
              "      <td>4.336826</td>\n",
              "      <td>1.749591</td>\n",
              "      <td>2.478766</td>\n",
              "      <td>1.318377e-02</td>\n",
              "    </tr>\n",
              "    <tr>\n",
              "      <th>ASC_boat</th>\n",
              "      <td>3.027895</td>\n",
              "      <td>1.412361</td>\n",
              "      <td>2.143853</td>\n",
              "      <td>3.204465e-02</td>\n",
              "    </tr>\n",
              "    <tr>\n",
              "      <th>ASC_charter</th>\n",
              "      <td>1.910530</td>\n",
              "      <td>1.297449</td>\n",
              "      <td>1.472527</td>\n",
              "      <td>1.408786e-01</td>\n",
              "    </tr>\n",
              "    <tr>\n",
              "      <th>B_catch_beach</th>\n",
              "      <td>-0.458508</td>\n",
              "      <td>0.358053</td>\n",
              "      <td>-1.280557</td>\n",
              "      <td>2.003491e-01</td>\n",
              "    </tr>\n",
              "    <tr>\n",
              "      <th>B_catch_boat</th>\n",
              "      <td>-2.782359</td>\n",
              "      <td>0.438866</td>\n",
              "      <td>-6.339883</td>\n",
              "      <td>2.299401e-10</td>\n",
              "    </tr>\n",
              "    <tr>\n",
              "      <th>B_catch_charter</th>\n",
              "      <td>0.085188</td>\n",
              "      <td>0.093338</td>\n",
              "      <td>0.912679</td>\n",
              "      <td>3.614116e-01</td>\n",
              "    </tr>\n",
              "    <tr>\n",
              "      <th>B_catch_pier</th>\n",
              "      <td>3.188682</td>\n",
              "      <td>0.717647</td>\n",
              "      <td>4.443243</td>\n",
              "      <td>8.861313e-06</td>\n",
              "    </tr>\n",
              "    <tr>\n",
              "      <th>B_log_income_beach</th>\n",
              "      <td>-0.420517</td>\n",
              "      <td>0.127944</td>\n",
              "      <td>-3.286715</td>\n",
              "      <td>1.013632e-03</td>\n",
              "    </tr>\n",
              "    <tr>\n",
              "      <th>B_log_income_boat</th>\n",
              "      <td>-0.038327</td>\n",
              "      <td>0.099031</td>\n",
              "      <td>-0.387021</td>\n",
              "      <td>6.987405e-01</td>\n",
              "    </tr>\n",
              "    <tr>\n",
              "      <th>B_log_income_charter</th>\n",
              "      <td>0.110245</td>\n",
              "      <td>0.078890</td>\n",
              "      <td>1.397459</td>\n",
              "      <td>1.622757e-01</td>\n",
              "    </tr>\n",
              "    <tr>\n",
              "      <th>B_log_income_pier</th>\n",
              "      <td>0.348599</td>\n",
              "      <td>0.121897</td>\n",
              "      <td>2.859772</td>\n",
              "      <td>4.239454e-03</td>\n",
              "    </tr>\n",
              "    <tr>\n",
              "      <th>B_price_beach</th>\n",
              "      <td>0.012265</td>\n",
              "      <td>0.002231</td>\n",
              "      <td>5.497113</td>\n",
              "      <td>3.860604e-08</td>\n",
              "    </tr>\n",
              "    <tr>\n",
              "      <th>B_price_boat</th>\n",
              "      <td>0.006177</td>\n",
              "      <td>0.000927</td>\n",
              "      <td>6.660646</td>\n",
              "      <td>2.726264e-11</td>\n",
              "    </tr>\n",
              "    <tr>\n",
              "      <th>B_price_charter</th>\n",
              "      <td>0.000252</td>\n",
              "      <td>0.001600</td>\n",
              "      <td>0.157735</td>\n",
              "      <td>8.746659e-01</td>\n",
              "    </tr>\n",
              "    <tr>\n",
              "      <th>B_price_pier</th>\n",
              "      <td>-0.025079</td>\n",
              "      <td>0.002974</td>\n",
              "      <td>-8.433706</td>\n",
              "      <td>0.000000e+00</td>\n",
              "    </tr>\n",
              "  </tbody>\n",
              "</table>\n",
              "</div>"
            ],
            "text/plain": [
              "                         Value  Rob. Std err  Rob. t-test  Rob. p-value\n",
              "ASC_beach             4.336826      1.749591     2.478766  1.318377e-02\n",
              "ASC_boat              3.027895      1.412361     2.143853  3.204465e-02\n",
              "ASC_charter           1.910530      1.297449     1.472527  1.408786e-01\n",
              "B_catch_beach        -0.458508      0.358053    -1.280557  2.003491e-01\n",
              "B_catch_boat         -2.782359      0.438866    -6.339883  2.299401e-10\n",
              "B_catch_charter       0.085188      0.093338     0.912679  3.614116e-01\n",
              "B_catch_pier          3.188682      0.717647     4.443243  8.861313e-06\n",
              "B_log_income_beach   -0.420517      0.127944    -3.286715  1.013632e-03\n",
              "B_log_income_boat    -0.038327      0.099031    -0.387021  6.987405e-01\n",
              "B_log_income_charter  0.110245      0.078890     1.397459  1.622757e-01\n",
              "B_log_income_pier     0.348599      0.121897     2.859772  4.239454e-03\n",
              "B_price_beach         0.012265      0.002231     5.497113  3.860604e-08\n",
              "B_price_boat          0.006177      0.000927     6.660646  2.726264e-11\n",
              "B_price_charter       0.000252      0.001600     0.157735  8.746659e-01\n",
              "B_price_pier         -0.025079      0.002974    -8.433706  0.000000e+00"
            ]
          },
          "execution_count": 8,
          "metadata": {},
          "output_type": "execute_result"
        }
      ],
      "source": [
        "fish_pd['log_income'] = np.log(fish_pd['income'])\n",
        "qbus_update_globals_bgm(fish_pd)\n",
        "\n",
        "B_price_beach = exp.Beta ( 'B_price_beach' ,0, None , None ,0)\n",
        "B_price_pier = exp.Beta ( 'B_price_pier' ,0, None , None ,0)\n",
        "B_price_boat = exp.Beta ( 'B_price_boat' ,0, None , None ,0)\n",
        "B_price_charter = exp.Beta ( 'B_price_charter' ,0, None , None ,0)\n",
        "\n",
        "B_catch_beach = exp.Beta ( 'B_catch_beach' ,0, None , None ,0)\n",
        "B_catch_pier = exp.Beta ( 'B_catch_pier' ,0, None , None ,0)\n",
        "B_catch_boat = exp.Beta ( 'B_catch_boat' ,0, None , None ,0)\n",
        "B_catch_charter = exp.Beta ( 'B_catch_charter' ,0, None , None ,0)\n",
        "\n",
        "B_log_income_beach = exp.Beta ( 'B_log_income_beach' ,0, None , None ,0)\n",
        "B_log_income_pier = exp.Beta ( 'B_log_income_pier' ,0, None , None ,0)\n",
        "B_log_income_boat = exp.Beta ( 'B_log_income_boat' ,0, None , None ,0)\n",
        "B_log_income_charter = exp.Beta ( 'B_log_income_charter' ,0, None , None ,0)\n",
        "\n",
        "\n",
        "V_beach_adv = ASC_beach + B_price_beach*price_beach + B_catch_beach*catch_beach + B_log_income_beach*log_income\n",
        "V_pier_adv = ASC_pier + B_price_pier*price_pier + B_catch_pier*catch_pier + B_log_income_pier*log_income\n",
        "V_boat_adv = ASC_boat + B_price_boat*price_boat + B_catch_boat*catch_boat + B_log_income_boat*log_income\n",
        "V_charter_adv = ASC_charter + B_price_charter*price_charter + B_catch_charter*catch_charter + B_log_income_charter*log_income\n",
        "\n",
        "V_adv = {1: V_beach_adv,\n",
        "     2: V_pier_adv,\n",
        "     3: V_boat_adv,\n",
        "     4: V_charter_adv}\n",
        "\n",
        "model_adv, results_adv = qbus_estimate_bgm(V_adv, fish_pd, 'mode', 'fish_adv')\n",
        "results_adv.getEstimatedParameters()\n",
        "\n",
        "\n"
      ]
    },
    {
      "cell_type": "code",
      "execution_count": 9,
      "metadata": {},
      "outputs": [
        {
          "data": {
            "text/plain": [
              "LRTuple(message='H0 can be rejected at level 95.0%', statistic=383.4144222546133, threshold=3.940299136119061)"
            ]
          },
          "execution_count": 9,
          "metadata": {},
          "output_type": "execute_result"
        }
      ],
      "source": [
        "import biogeme.tools as tools\n",
        "def qbus_likeli_ratio_test_bgm(results_complex, results_reference, signif_level):\n",
        "  return tools.likelihood_ratio_test( (results_complex.data.logLike, results_complex.data.nparam),\n",
        "                                     (results_reference.data.logLike, results_reference.data.nparam), signif_level)\n",
        "qbus_likeli_ratio_test_bgm(results_adv, results_base, 0.95)"
      ]
    },
    {
      "cell_type": "markdown",
      "metadata": {},
      "source": [
        "ASC Values: All alternatives have positive ASCs. Beach now becomes significant, perhaps due to the inclusion of new variables.\n",
        "Catch Rate: Different alternatives have different coefficients for catch rate, which now varies in significance. For example, the catch rate for boat fishing is significantly negative.\n",
        "Price: Like catch rates, price effects also vary across alternatives and have differing significance. For example, the price for pier fishing is significant and negative.\n",
        "Income: Log of income has been introduced, and it has varying effects. For instance, for beach fishing, higher income seems to have a negative effect.\n",
        "Fit Per-Alternative: The model now captures more nuanced behavior by allowing parameters to vary across alternatives, thus potentially offering a better fit.\n",
        "\n",
        "From the loglikelihood test, the model have a better fit"
      ]
    },
    {
      "cell_type": "markdown",
      "metadata": {
        "id": "ZrERT0Lnm44E"
      },
      "source": [
        "---\n",
        "---\n",
        "\n",
        "# 4) Calculate the accuracy of that model and confusion matrix, comment on the results.\n"
      ]
    },
    {
      "cell_type": "code",
      "execution_count": 10,
      "metadata": {
        "id": "Nc_z-bIpQ8IH"
      },
      "outputs": [
        {
          "name": "stdout",
          "output_type": "stream",
          "text": [
            "0.4450084602368866\n"
          ]
        },
        {
          "data": {
            "text/html": [
              "<div>\n",
              "<style scoped>\n",
              "    .dataframe tbody tr th:only-of-type {\n",
              "        vertical-align: middle;\n",
              "    }\n",
              "\n",
              "    .dataframe tbody tr th {\n",
              "        vertical-align: top;\n",
              "    }\n",
              "\n",
              "    .dataframe thead th {\n",
              "        text-align: right;\n",
              "    }\n",
              "</style>\n",
              "<table border=\"1\" class=\"dataframe\">\n",
              "  <thead>\n",
              "    <tr style=\"text-align: right;\">\n",
              "      <th>Predicted</th>\n",
              "      <th>1</th>\n",
              "      <th>2</th>\n",
              "      <th>3</th>\n",
              "      <th>4</th>\n",
              "    </tr>\n",
              "    <tr>\n",
              "      <th>Actual</th>\n",
              "      <th></th>\n",
              "      <th></th>\n",
              "      <th></th>\n",
              "      <th></th>\n",
              "    </tr>\n",
              "  </thead>\n",
              "  <tbody>\n",
              "    <tr>\n",
              "      <th>1</th>\n",
              "      <td>8</td>\n",
              "      <td>57</td>\n",
              "      <td>14</td>\n",
              "      <td>55</td>\n",
              "    </tr>\n",
              "    <tr>\n",
              "      <th>2</th>\n",
              "      <td>6</td>\n",
              "      <td>69</td>\n",
              "      <td>19</td>\n",
              "      <td>84</td>\n",
              "    </tr>\n",
              "    <tr>\n",
              "      <th>3</th>\n",
              "      <td>5</td>\n",
              "      <td>12</td>\n",
              "      <td>202</td>\n",
              "      <td>199</td>\n",
              "    </tr>\n",
              "    <tr>\n",
              "      <th>4</th>\n",
              "      <td>8</td>\n",
              "      <td>15</td>\n",
              "      <td>182</td>\n",
              "      <td>247</td>\n",
              "    </tr>\n",
              "  </tbody>\n",
              "</table>\n",
              "</div>"
            ],
            "text/plain": [
              "Predicted  1   2    3    4\n",
              "Actual                    \n",
              "1          8  57   14   55\n",
              "2          6  69   19   84\n",
              "3          5  12  202  199\n",
              "4          8  15  182  247"
            ]
          },
          "execution_count": 10,
          "metadata": {},
          "output_type": "execute_result"
        }
      ],
      "source": [
        "def qbus_calc_accu_confusion(sim_probs, pd_df, choice_var):\n",
        "  which_max = sim_probs.idxmax(axis=1)\n",
        "  data = {'y_Actual':   pd_df[choice_var],\n",
        "          'y_Predicted': which_max\n",
        "        }\n",
        "\n",
        "  df = pd.DataFrame(data, columns=['y_Actual','y_Predicted'])\n",
        "  confusion_matrix = pd.crosstab(df['y_Actual'], df['y_Predicted'], rownames=['Actual'], colnames=['Predicted'])\n",
        "  accu = np.mean(which_max == pd_df[choice_var])\n",
        "  return accu, confusion_matrix\n",
        "\n",
        "def qbus_simulate_bgm(qbus_bgm_model, betas, pred_pd_df):\n",
        "  av_auto = qbus_bgm_model.utility_dic.copy()\n",
        "  for key, value in av_auto.items():\n",
        "   av_auto[key] = 1\n",
        "\n",
        "  targets = qbus_bgm_model.utility_dic.copy()\n",
        "  for key, value in targets.items():\n",
        "   targets[key] = models.logit(qbus_bgm_model.utility_dic, av_auto, key)\n",
        "\n",
        "  bgm_db = db.Database('simul', pred_pd_df)\n",
        "  globals().update(bgm_db.variables)\n",
        "  bgm_pred_model = bio.BIOGEME(bgm_db, targets)\n",
        "  simulatedValues = bgm_pred_model.simulate(betas)\n",
        "  return simulatedValues\n",
        "\n",
        "betas = results_adv.getBetaValues()\n",
        "simulatedValues = qbus_simulate_bgm(model_adv, betas, fish_pd)\n",
        "accu, confusion_matrix = qbus_calc_accu_confusion(simulatedValues, fish_pd, 'mode')\n",
        "print(accu)\n",
        "confusion_matrix"
      ]
    },
    {
      "cell_type": "markdown",
      "metadata": {},
      "source": [
        "The model's accuracy is approximately 44.5%, which suggests that it is performing better than random guessing but is still far from a highly accurate model. The confusion matrix shows that the model is most accurate at predicting Charter Boat (Category 4) and Private Boat (Category 3) outcomes, with 247 and 202 correct predictions, respectively. However, it seems to struggle with Beach (Category 1) and Pier (Category 2), often misclassifying these as other categories—particularly confusing Beach with Pier and vice versa. The model is also prone to incorrectly classifying other categories as Charter Boat or Private Boat, as indicated by the higher off-diagonal entries in these columns. Overall, while the model captures some aspects of the choice behavior, there's considerable room for improvement, particularly in distinguishing between Beach and Pier options."
      ]
    },
    {
      "cell_type": "markdown",
      "metadata": {
        "id": "GakjB3brH3oX"
      },
      "source": [
        "---\n",
        "---\n",
        "\n",
        "# 5) Suppose that the company that runs the charter boats is offering a 75% discount for the population with a monthly income under 2100 dollars. What would be the market share for each of the alernatives in the new situation? Use your model in exercise 3."
      ]
    },
    {
      "cell_type": "code",
      "execution_count": 11,
      "metadata": {
        "id": "cqLb9yAVQ8la"
      },
      "outputs": [
        {
          "name": "stdout",
          "output_type": "stream",
          "text": [
            "84.37924365482233\n",
            "80.26969796954315\n"
          ]
        },
        {
          "name": "stderr",
          "output_type": "stream",
          "text": [
            "/var/folders/0g/cz51rn395p1fkww2w08frpgh0000gn/T/ipykernel_29008/521098472.py:4: SettingWithCopyWarning: \n",
            "A value is trying to be set on a copy of a slice from a DataFrame\n",
            "\n",
            "See the caveats in the documentation: https://pandas.pydata.org/pandas-docs/stable/user_guide/indexing.html#returning-a-view-versus-a-copy\n",
            "  fish_pd_2['price_charter'][i] = fish_pd_2['price_charter'][i] * 0.75\n"
          ]
        },
        {
          "data": {
            "text/html": [
              "<div>\n",
              "<style scoped>\n",
              "    .dataframe tbody tr th:only-of-type {\n",
              "        vertical-align: middle;\n",
              "    }\n",
              "\n",
              "    .dataframe tbody tr th {\n",
              "        vertical-align: top;\n",
              "    }\n",
              "\n",
              "    .dataframe thead th {\n",
              "        text-align: right;\n",
              "    }\n",
              "</style>\n",
              "<table border=\"1\" class=\"dataframe\">\n",
              "  <thead>\n",
              "    <tr style=\"text-align: right;\">\n",
              "      <th></th>\n",
              "      <th>mode</th>\n",
              "      <th>price_beach</th>\n",
              "      <th>price_pier</th>\n",
              "      <th>price_boat</th>\n",
              "      <th>price_charter</th>\n",
              "      <th>catch_beach</th>\n",
              "      <th>catch_pier</th>\n",
              "      <th>catch_boat</th>\n",
              "      <th>catch_charter</th>\n",
              "      <th>income</th>\n",
              "      <th>log_income</th>\n",
              "    </tr>\n",
              "  </thead>\n",
              "  <tbody>\n",
              "    <tr>\n",
              "      <th>0</th>\n",
              "      <td>4</td>\n",
              "      <td>157.930</td>\n",
              "      <td>157.930</td>\n",
              "      <td>157.930</td>\n",
              "      <td>182.9300</td>\n",
              "      <td>0.2601</td>\n",
              "      <td>0.0503</td>\n",
              "      <td>0.0678</td>\n",
              "      <td>0.5391</td>\n",
              "      <td>7083.3317</td>\n",
              "      <td>8.865500</td>\n",
              "    </tr>\n",
              "    <tr>\n",
              "      <th>1</th>\n",
              "      <td>4</td>\n",
              "      <td>10.534</td>\n",
              "      <td>15.114</td>\n",
              "      <td>15.114</td>\n",
              "      <td>25.9005</td>\n",
              "      <td>0.1574</td>\n",
              "      <td>0.0451</td>\n",
              "      <td>0.1049</td>\n",
              "      <td>0.4671</td>\n",
              "      <td>1249.9998</td>\n",
              "      <td>7.130899</td>\n",
              "    </tr>\n",
              "    <tr>\n",
              "      <th>2</th>\n",
              "      <td>3</td>\n",
              "      <td>24.334</td>\n",
              "      <td>161.874</td>\n",
              "      <td>161.874</td>\n",
              "      <td>59.3340</td>\n",
              "      <td>0.2413</td>\n",
              "      <td>0.4522</td>\n",
              "      <td>0.5333</td>\n",
              "      <td>1.0266</td>\n",
              "      <td>3749.9999</td>\n",
              "      <td>8.229511</td>\n",
              "    </tr>\n",
              "    <tr>\n",
              "      <th>3</th>\n",
              "      <td>2</td>\n",
              "      <td>55.930</td>\n",
              "      <td>15.134</td>\n",
              "      <td>15.134</td>\n",
              "      <td>63.6975</td>\n",
              "      <td>0.1643</td>\n",
              "      <td>0.0789</td>\n",
              "      <td>0.0678</td>\n",
              "      <td>0.5391</td>\n",
              "      <td>2083.3332</td>\n",
              "      <td>7.641724</td>\n",
              "    </tr>\n",
              "    <tr>\n",
              "      <th>4</th>\n",
              "      <td>3</td>\n",
              "      <td>41.514</td>\n",
              "      <td>106.930</td>\n",
              "      <td>106.930</td>\n",
              "      <td>71.0140</td>\n",
              "      <td>0.1082</td>\n",
              "      <td>0.0503</td>\n",
              "      <td>0.0678</td>\n",
              "      <td>0.3240</td>\n",
              "      <td>4583.3320</td>\n",
              "      <td>8.430182</td>\n",
              "    </tr>\n",
              "  </tbody>\n",
              "</table>\n",
              "</div>"
            ],
            "text/plain": [
              "   mode  price_beach  price_pier  price_boat  price_charter  catch_beach  \\\n",
              "0     4      157.930     157.930     157.930       182.9300       0.2601   \n",
              "1     4       10.534      15.114      15.114        25.9005       0.1574   \n",
              "2     3       24.334     161.874     161.874        59.3340       0.2413   \n",
              "3     2       55.930      15.134      15.134        63.6975       0.1643   \n",
              "4     3       41.514     106.930     106.930        71.0140       0.1082   \n",
              "\n",
              "   catch_pier  catch_boat  catch_charter     income  log_income  \n",
              "0      0.0503      0.0678         0.5391  7083.3317    8.865500  \n",
              "1      0.0451      0.1049         0.4671  1249.9998    7.130899  \n",
              "2      0.4522      0.5333         1.0266  3749.9999    8.229511  \n",
              "3      0.0789      0.0678         0.5391  2083.3332    7.641724  \n",
              "4      0.0503      0.0678         0.3240  4583.3320    8.430182  "
            ]
          },
          "execution_count": 11,
          "metadata": {},
          "output_type": "execute_result"
        }
      ],
      "source": [
        "fish_pd_2 = fish_pd.copy()\n",
        "for i in range(len(fish_pd)):\n",
        "    if(fish_pd['income'][i] < 2100):\n",
        "        fish_pd_2['price_charter'][i] = fish_pd_2['price_charter'][i] * 0.75\n",
        "fish_pd_2.head()\n"
      ]
    },
    {
      "cell_type": "code",
      "execution_count": 18,
      "metadata": {},
      "outputs": [
        {
          "name": "stdout",
          "output_type": "stream",
          "text": [
            "---Previous market share----\n",
            "1    0.113366\n",
            "2    0.150594\n",
            "3    0.353637\n",
            "4    0.382402\n",
            "dtype: float64\n",
            "---Adjusted market share--\n"
          ]
        },
        {
          "data": {
            "text/plain": [
              "1    0.113416\n",
              "2    0.150678\n",
              "3    0.353730\n",
              "4    0.382176\n",
              "dtype: float64"
            ]
          },
          "execution_count": 18,
          "metadata": {},
          "output_type": "execute_result"
        }
      ],
      "source": [
        "simulatedValues_2 = qbus_simulate_bgm(model_adv, betas, fish_pd_2)\n",
        "adjusted_price_place = np.mean(simulatedValues_2,axis=0)\n",
        "price_place = np.mean(simulatedValues,axis=0)\n",
        "print('---Previous market share----')\n",
        "print(price_place)\n",
        "print('---Adjusted market share--')\n",
        "adjusted_price_place"
      ]
    },
    {
      "cell_type": "markdown",
      "metadata": {},
      "source": [
        "The model suggests that offering a 75% discount for the population with a monthly income under 2100 dollars would have a minimal impact on the market share for each alternative. The market shares for Beach, Pier, and Private Boat see extremely slight increases, whereas the market share for Charter Boat decreases very slightly. These small adjustments suggest that price sensitivity among low-income individuals may not be a dominant factor affecting choice in this market, or that the current model may not capture all relevant influences. It could also indicate that the low-income group either is a small segment of the overall market or has other barriers besides price that influence their choice of fishing experience. Overall, despite what might seem like a substantial discount, the market dynamics appear largely unchanged according to the model."
      ]
    },
    {
      "cell_type": "markdown",
      "metadata": {
        "id": "OHSmC50TuJst"
      },
      "source": [
        "---\n",
        "---\n",
        "\n",
        "# 6) Due to poor weather conditions at sea, the fishing trips that go farther away from the coast (both private and charter boats) are going to cut their capture rate by half during the season. What would be the expected impact in the total revenue from fishing trips during the season (assume that everything else stays the same (the same fishers still go for a trip and the remaining variables do not change). Use your model in exercise 3."
      ]
    },
    {
      "cell_type": "code",
      "execution_count": 19,
      "metadata": {
        "id": "RVHhU7LmQ9NG"
      },
      "outputs": [],
      "source": [
        "fish_pd_3 = fish_pd.copy()\n",
        "fish_pd_3['catch_boat'] *= 0.5\n",
        "fish_pd_3['catch_charter'] *= 0.5"
      ]
    },
    {
      "cell_type": "code",
      "execution_count": 22,
      "metadata": {},
      "outputs": [
        {
          "name": "stdout",
          "output_type": "stream",
          "text": [
            "previous revenue: 109978.26653354138\n",
            "revenue with bad weather: 115938.36533888773\n"
          ]
        }
      ],
      "source": [
        "simulatedValues_adv = qbus_simulate_bgm(model_adv, betas, fish_pd)\n",
        "simulatedValues_weather = qbus_simulate_bgm(model_adv, betas, fish_pd_3)\n",
        "\n",
        "revenue_adv = simulatedValues_adv.to_numpy() * fish_pd[['price_beach', 'price_pier', 'price_boat', 'price_charter']].to_numpy()\n",
        "revenue_weather = simulatedValues_weather.to_numpy() * fish_pd[['price_beach', 'price_pier', 'price_boat', 'price_charter']].to_numpy()\n",
        "\n",
        "print('previous revenue:', revenue_adv.sum())\n",
        "print('revenue with bad weather:', revenue_weather.sum())"
      ]
    },
    {
      "cell_type": "markdown",
      "metadata": {},
      "source": [
        "The model suggests an unexpected outcome: despite a cut in the capture rate by half for trips that go farther from the coast (both private and charter boats), the total revenue from fishing trips during the season actually increases from approximately 109,978 to 115,938 units of currency. One possible explanation could be that with a lower catch rate, people may be inclined to spend more on fishing trips to meet their desired catch, thereby driving up total revenue. Alternatively, it might be the case that the model's parameters don't adequately capture the true price and catch sensitivity across the different alternatives, and therefore might not be a reliable predictor in such scenarios. However, if we assume the model is accurate, it implies that poor weather conditions, surprisingly, could have a beneficial impact on total revenue, despite lowering the attractiveness of private and charter boat options in terms of catch rate."
      ]
    }
  ],
  "metadata": {
    "colab": {
      "provenance": []
    },
    "kernelspec": {
      "display_name": "Python 3",
      "name": "python3"
    },
    "language_info": {
      "codemirror_mode": {
        "name": "ipython",
        "version": 3
      },
      "file_extension": ".py",
      "mimetype": "text/x-python",
      "name": "python",
      "nbconvert_exporter": "python",
      "pygments_lexer": "ipython3",
      "version": "3.10.9"
    }
  },
  "nbformat": 4,
  "nbformat_minor": 0
}
