{
  "cells": [
    {
      "cell_type": "markdown",
      "metadata": {
        "id": "sa78r-a82TkF"
      },
      "source": [
        "# PRACTICE FOR THE FINAL\n",
        "\n",
        "---\n",
        "---\n"
      ]
    },
    {
      "cell_type": "markdown",
      "metadata": {
        "id": "51sUYtBRJw7D"
      },
      "source": [
        "## Education choices\n",
        "We have a dataset coming from a discrete choice experiment on preferences for children education. The researchers want to establish the effects of the cost of education, foreign language used at school and the distance to the school.\n",
        "\n",
        "The experiment presents households with several choice situations, each one in a different card. On each situation, the household has to decide between two alternatives. \n",
        "As in many choice experiments, the alternatives are used just to compare the effects attributes. Unlike, for example, a transportation choice with alternatives train, car and bus, here the alternatives do not encode information, we can just consider them as 'alternative A' and 'alternative B'.\n",
        "**Alternative 'A' should be indistiguisable from Alternative B if their attributes in the choice situation are equal.**\n",
        "\n",
        "Each household may answer several choice situations, we keep track of each household using the variable *id* in the dataset."
      ]
    },
    {
      "cell_type": "markdown",
      "metadata": {
        "id": "9Q-59lUVonl_"
      },
      "source": [
        "---\n",
        "---\n",
        "\n",
        "# Description of the dataset\n",
        "\n",
        "Survey variables\n",
        " * **choice:** The response variable (1= alternative A, 2=alternative B).\n",
        " * **id:** Household ID.\n",
        "\n",
        "\\\n",
        "\n",
        "Attributes\n",
        "\n",
        " * **cost_A, cost_B:** Yeaarly cost in dollars.\n",
        " * **foreign_A, foreign_B:** Whether school uses a foreign language as the default language for all units (except when teaching the local language unit).\n",
        " * **distance_A, distance_B:** Distance to the school, in meters.\n",
        "\n",
        "\\\n",
        "  \n",
        "Socioeconomic characteristics\n",
        "\n",
        " * **male:**  1 if the child in the household is male, 0 otherwise.\n",
        " * **female:**  1 if the child is in the household is female, 0 otherwise.\n",
        " * **parent_educ:** Head of the family education level (0=no formal education, 1=high school, 2=undergad, 3=postgrad)"
      ]
    },
    {
      "cell_type": "markdown",
      "metadata": {
        "id": "KM2N5QNzpDYj"
      },
      "source": [
        "---\n",
        "---\n"
      ]
    },
    {
      "cell_type": "markdown",
      "metadata": {
        "id": "vb9SIunnASNB"
      },
      "source": [
        "---\n",
        "---\n",
        "\n",
        "# Preparing the environment\n",
        "*The preparation and dataset loading code is given to the students, you might modify it.*"
      ]
    },
    {
      "cell_type": "code",
      "execution_count": 1,
      "metadata": {
        "colab": {
          "base_uri": "https://localhost:8080/"
        },
        "id": "j5zHGhgErHPd",
        "outputId": "7ec895e3-b1dd-4029-cde3-c7631cb00f40"
      },
      "outputs": [
        {
          "name": "stdout",
          "output_type": "stream",
          "text": [
            "Requirement already satisfied: biogeme in /Users/hugh/anaconda3/lib/python3.10/site-packages (3.2.12)\n",
            "Requirement already satisfied: cythonbiogeme>=1.0.1 in /Users/hugh/anaconda3/lib/python3.10/site-packages (from biogeme) (1.0.1)\n",
            "Requirement already satisfied: tomlkit>=0.11.5 in /Users/hugh/anaconda3/lib/python3.10/site-packages (from biogeme) (0.12.1)\n",
            "Requirement already satisfied: tqdm>=4.64.1 in /Users/hugh/anaconda3/lib/python3.10/site-packages (from biogeme) (4.64.1)\n",
            "Requirement already satisfied: scipy>=1.7.3 in /Users/hugh/anaconda3/lib/python3.10/site-packages (from biogeme) (1.11.3)\n",
            "Requirement already satisfied: biogeme-optimization>=0.0.4 in /Users/hugh/anaconda3/lib/python3.10/site-packages (from biogeme) (0.0.4)\n",
            "Requirement already satisfied: pandas>=1.3.5 in /Users/hugh/anaconda3/lib/python3.10/site-packages (from biogeme) (1.5.3)\n",
            "Requirement already satisfied: numpy>=1.24.2 in /Users/hugh/anaconda3/lib/python3.10/site-packages (from biogeme-optimization>=0.0.4->biogeme) (1.26.1)\n",
            "Requirement already satisfied: cython>=0.29.16 in /Users/hugh/anaconda3/lib/python3.10/site-packages (from cythonbiogeme>=1.0.1->biogeme) (3.0.4)\n",
            "Requirement already satisfied: python-dateutil>=2.8.1 in /Users/hugh/anaconda3/lib/python3.10/site-packages (from pandas>=1.3.5->biogeme) (2.8.2)\n",
            "Requirement already satisfied: pytz>=2020.1 in /Users/hugh/anaconda3/lib/python3.10/site-packages (from pandas>=1.3.5->biogeme) (2022.7)\n",
            "Requirement already satisfied: six>=1.5 in /Users/hugh/anaconda3/lib/python3.10/site-packages (from python-dateutil>=2.8.1->pandas>=1.3.5->biogeme) (1.16.0)\n"
          ]
        }
      ],
      "source": [
        "!pip install biogeme"
      ]
    },
    {
      "cell_type": "markdown",
      "metadata": {
        "id": "1z0X9xZ8rChf"
      },
      "source": [
        "Load the packages."
      ]
    },
    {
      "cell_type": "code",
      "execution_count": 2,
      "metadata": {
        "id": "apVB-TMkrFnb"
      },
      "outputs": [
        {
          "name": "stderr",
          "output_type": "stream",
          "text": [
            "/Users/hugh/anaconda3/lib/python3.10/site-packages/tqdm/auto.py:22: TqdmWarning: IProgress not found. Please update jupyter and ipywidgets. See https://ipywidgets.readthedocs.io/en/stable/user_install.html\n",
            "  from .autonotebook import tqdm as notebook_tqdm\n"
          ]
        }
      ],
      "source": [
        "import pandas  as pd\n",
        "import numpy as np\n",
        "import matplotlib.pyplot as plt\n",
        "\n",
        "import biogeme.database as db\n",
        "import biogeme.biogeme as bio\n",
        "import biogeme.models as models\n",
        "import biogeme.expressions as exp\n",
        "import biogeme.tools as tools\n",
        "import biogeme.distributions as dist"
      ]
    },
    {
      "cell_type": "markdown",
      "metadata": {
        "id": "1erqCHCMrq8y"
      },
      "source": [
        "\n",
        "---\n",
        "---\n"
      ]
    },
    {
      "cell_type": "code",
      "execution_count": 3,
      "metadata": {},
      "outputs": [],
      "source": [
        "def qbus_update_globals_bgm(pd_df):\n",
        "   globals().update(db.Database('tmp_bg_bgm_for_glob', pd_df).variables)\n",
        "\n",
        "\n",
        "def qbus_estimate_bgm(V, pd_df, tgtvar_name, modelname='bgmdef'):\n",
        " av_auto = V.copy()\n",
        " for key, value in av_auto.items():\n",
        "   av_auto[key] = 1\n",
        " bgm_db = db.Database(modelname + '_db', pd_df)\n",
        " globals().update(bgm_db.variables)\n",
        " logprob = models.loglogit (V , av_auto , bgm_db.variables[tgtvar_name] )\n",
        " bgm_model = bio.BIOGEME ( bgm_db, logprob )\n",
        " bgm_model.utility_dic = V.copy()\n",
        " return bgm_model, bgm_model.estimate()\n",
        "\n",
        "\n",
        "\n",
        "def qbus_simulate_bgm(qbus_bgm_model, betas, pred_pd_df):\n",
        "  av_auto = None\n",
        "  targets = None\n",
        "  if hasattr(qbus_bgm_model, 'ord_probs'):\n",
        "    av_auto = qbus_bgm_model.ord_probs.copy()\n",
        "    targets = qbus_bgm_model.ord_probs.copy()\n",
        "  else:\n",
        "    av_auto = qbus_bgm_model.utility_dic.copy()\n",
        "    targets = qbus_bgm_model.utility_dic.copy()\n",
        "\n",
        "  for key, value in av_auto.items():\n",
        "    av_auto[key] = 1\n",
        "  for key, value in targets.items():\n",
        "    if hasattr(qbus_bgm_model, 'nest_tuple'):\n",
        "      targets[key] = models.nested(qbus_bgm_model.utility_dic, av_auto, qbus_bgm_model.nest_tuple, key)\n",
        "    else:\n",
        "      if hasattr(qbus_bgm_model, 'ord_probs'):\n",
        "       0\n",
        "       #targets[key] = qbus_bgm_model.ord_probs[key]\n",
        "      else:\n",
        "       targets[key] = models.logit(qbus_bgm_model.utility_dic, av_auto, key)\n",
        "\n",
        "  bgm_db = db.Database('simul', pred_pd_df)\n",
        "  globals().update(bgm_db.variables)\n",
        "  bgm_pred_model = bio.BIOGEME(bgm_db, targets)\n",
        "  simulatedValues = bgm_pred_model.simulate(betas)\n",
        "  return simulatedValues\n",
        "\n",
        "\n",
        "\n",
        "def qbus_calc_accu_confusion(sim_probs, pd_df, choice_var):\n",
        "  which_max = sim_probs.idxmax(axis=1)\n",
        "  data = {'y_Actual':   pd_df[choice_var],\n",
        "          'y_Predicted': which_max\n",
        "        }\n",
        "\n",
        "  df = pd.DataFrame(data, columns=['y_Actual','y_Predicted'])\n",
        "  confusion_matrix = pd.crosstab(df['y_Actual'], df['y_Predicted'], rownames=['Actual'], colnames=['Predicted'])\n",
        "  accu = np.mean(which_max == pd_df[choice_var])\n",
        "  return accu, confusion_matrix\n",
        "\n",
        "\n",
        "\n",
        "def qbus_likeli_ratio_test_bgm(results_complex, results_reference, signif_level):\n",
        "  return tools.likelihood_ratio_test( (results_complex.data.logLike, results_complex.data.nparam),\n",
        "                                     (results_reference.data.logLike, results_reference.data.nparam), signif_level)\n",
        "\n"
      ]
    },
    {
      "cell_type": "code",
      "execution_count": 4,
      "metadata": {},
      "outputs": [],
      "source": [
        "def qbus_estimate_ordered_bgm(V, ord_alt_ids, pd_df, tgtvar_name, modelname='ord_bgm'):\n",
        " bgm_db = db.Database(modelname + '_db', pd_df)\n",
        " globals().update(bgm_db.variables)\n",
        "\n",
        " taus_map = {ord_alt_ids[0]: exp.Beta('tau1', -1, None, None, 0) }\n",
        " i = 1\n",
        " for id in ord_alt_ids[1:-1]:\n",
        "  taus_map[id] = taus_map[ ord_alt_ids[i-1] ] + exp.Beta('delta_'+ str(i + 1), i, 0, None, 0)\n",
        "  i = i + 1\n",
        "\n",
        " alt_probs_map = {ord_alt_ids[0]: dist.logisticcdf( taus_map[ord_alt_ids[0] ] - V_ord) }\n",
        "\n",
        " i = 1\n",
        " for id in ord_alt_ids[1:-1]:\n",
        "  alt_probs_map[id] = dist.logisticcdf( taus_map[id] - V_ord) - dist.logisticcdf( taus_map[ ord_alt_ids[i-1] ] - V_ord)\n",
        "  i = i + 1\n",
        "\n",
        " alt_probs_map[ord_alt_ids[i] ] = 1 - dist.logisticcdf( taus_map[ord_alt_ids[i-1]] - V_ord)\n",
        "\n",
        " logprob = exp.log(exp.Elem(alt_probs_map, bgm_db.variables[tgtvar_name]))\n",
        "\n",
        " #logprob = models.loglogit (V , av_auto , bgm_db.variables[tgtvar_name] )\n",
        " bgm_model = bio.BIOGEME ( bgm_db, logprob )\n",
        " bgm_model.utility_dic = V\n",
        " bgm_model.ord_probs = alt_probs_map.copy()\n",
        " return bgm_model, bgm_model.estimate()\n",
        "\n",
        "def qbus_estimate_mixed_bgm(V, pd_df, tgtvar_name, panelvar_name=None, n_draws=50, seed=1, modelname='bgmdef'):\n",
        " do_panel = not (panelvar_name==None)\n",
        "\n",
        " av_auto = V.copy()\n",
        " for key, value in av_auto.items():\n",
        "   av_auto[key] = 1\n",
        " bgm_db = db.Database(modelname + '_db', pd_df)\n",
        " if (do_panel):\n",
        "   bgm_db.panel(panelvar_name)\n",
        "\n",
        " globals().update(bgm_db.variables)\n",
        " #logprob = models.loglogit (V , av_auto , bgm_db.variables[tgtvar_name] )\n",
        " obsprob = models.logit(V, av_auto, bgm_db.variables[tgtvar_name])\n",
        " if (do_panel):\n",
        "  condprobIndiv = exp.PanelLikelihoodTrajectory(obsprob)\n",
        " else:\n",
        "  condprobIndiv = obsprob\n",
        " logprob = exp.log(exp.MonteCarlo(condprobIndiv))\n",
        " bgm_model  = bio.BIOGEME(bgm_db,logprob,numberOfDraws=n_draws, seed=seed)\n",
        " bgm_model.utility_dic = V.copy()\n",
        " return bgm_model, bgm_model.estimate()\n",
        "\n",
        "\n",
        "\n",
        "\n",
        "def qbus_estimate_nested_bgm(V, pd_df, nests,  tgtvar_name, modelname='bgmdef'):\n",
        " av_auto = V.copy()\n",
        " for key, value in av_auto.items():\n",
        "   av_auto[key] = 1\n",
        " bgm_db = db.Database(modelname + '_db', pd_df)\n",
        " globals().update(bgm_db.variables)\n",
        " logprobnest = models.lognested (V, av_auto , nests , bgm_db.variables[tgtvar_name] )\n",
        " #logprob = models.loglogit (V , av_auto , bgm_db.variables[tgtvar_name] )\n",
        " bgm_model = bio.BIOGEME ( bgm_db, logprobnest )\n",
        " bgm_model.utility_dic = V.copy()\n",
        " bgm_model.nest_tuple = nests\n",
        " return bgm_model, bgm_model.estimate()"
      ]
    },
    {
      "cell_type": "code",
      "execution_count": 5,
      "metadata": {},
      "outputs": [],
      "source": [
        "def calc_mnl_cov(design_m, cprobs, num_alt, attrs_per_alt):\n",
        "  P_rep = np.repeat(cprobs.to_numpy(), np.repeat(attrs_per_alt, num_alt), axis=1)\n",
        "  num_cols = num_alt * attrs_per_alt\n",
        "  XP_rep = np.repeat((design_m.to_numpy()*P_rep).sum(axis=1).T.reshape(-1,1), num_cols, axis=1)\n",
        "  Z = design_m - XP_rep\n",
        "  ZPZ = np.matmul(Z.T, P_rep*Z.to_numpy())\n",
        "  covMNL = np.linalg.pinv(ZPZ)\n",
        "  if (np.linalg.det(covMNL)):\n",
        "    return covMNL\n",
        "  else:\n",
        "    return np.eye(covMNL.shape[0])*1000\n",
        "  return covMNL\n",
        "\n",
        "def d_effic(covMAT):\n",
        "  return np.power( np.linalg.det(covMAT), 1 / (covMAT.shape[0] + 1) )"
      ]
    },
    {
      "cell_type": "markdown",
      "metadata": {
        "id": "Mgv0hV1YAieW"
      },
      "source": [
        "---\n",
        "---\n",
        "\n",
        "# Load the datasets"
      ]
    },
    {
      "cell_type": "markdown",
      "metadata": {
        "id": "gySSmVdcYPwN"
      },
      "source": [
        "*Auxiliary code is provided to load the dataset*\n"
      ]
    },
    {
      "cell_type": "code",
      "execution_count": 6,
      "metadata": {
        "id": "g1Ykn5Ytr7Rs"
      },
      "outputs": [],
      "source": [
        "\n",
        "url = 'https://drive.google.com/file/d/1flpaR4wwM9DaToAo5urt7T1Kfgb7zUN3/view?usp=sharing'\n",
        "path = 'https://drive.google.com/uc?export=download&id='+url.split('/')[-2]\n",
        "educ_pd = pd.read_csv(path)\n"
      ]
    },
    {
      "cell_type": "code",
      "execution_count": 7,
      "metadata": {
        "colab": {
          "base_uri": "https://localhost:8080/",
          "height": 269
        },
        "id": "ldkmnMhssemT",
        "outputId": "da40255b-f6bb-45db-fc35-563a4c9b9498"
      },
      "outputs": [
        {
          "data": {
            "text/html": [
              "<div>\n",
              "<style scoped>\n",
              "    .dataframe tbody tr th:only-of-type {\n",
              "        vertical-align: middle;\n",
              "    }\n",
              "\n",
              "    .dataframe tbody tr th {\n",
              "        vertical-align: top;\n",
              "    }\n",
              "\n",
              "    .dataframe thead th {\n",
              "        text-align: right;\n",
              "    }\n",
              "</style>\n",
              "<table border=\"1\" class=\"dataframe\">\n",
              "  <thead>\n",
              "    <tr style=\"text-align: right;\">\n",
              "      <th></th>\n",
              "      <th>id</th>\n",
              "      <th>choice</th>\n",
              "      <th>cost_A</th>\n",
              "      <th>foreign_A</th>\n",
              "      <th>distance_A</th>\n",
              "      <th>cost_B</th>\n",
              "      <th>foreign_B</th>\n",
              "      <th>distance_B</th>\n",
              "      <th>male</th>\n",
              "      <th>female</th>\n",
              "      <th>parent_educ</th>\n",
              "    </tr>\n",
              "  </thead>\n",
              "  <tbody>\n",
              "    <tr>\n",
              "      <th>0</th>\n",
              "      <td>5</td>\n",
              "      <td>1</td>\n",
              "      <td>201218</td>\n",
              "      <td>0</td>\n",
              "      <td>3248</td>\n",
              "      <td>409082</td>\n",
              "      <td>1</td>\n",
              "      <td>2463</td>\n",
              "      <td>1</td>\n",
              "      <td>0</td>\n",
              "      <td>2</td>\n",
              "    </tr>\n",
              "    <tr>\n",
              "      <th>1</th>\n",
              "      <td>8</td>\n",
              "      <td>1</td>\n",
              "      <td>106655</td>\n",
              "      <td>1</td>\n",
              "      <td>5375</td>\n",
              "      <td>204348</td>\n",
              "      <td>0</td>\n",
              "      <td>2508</td>\n",
              "      <td>0</td>\n",
              "      <td>1</td>\n",
              "      <td>1</td>\n",
              "    </tr>\n",
              "    <tr>\n",
              "      <th>2</th>\n",
              "      <td>8</td>\n",
              "      <td>2</td>\n",
              "      <td>302259</td>\n",
              "      <td>0</td>\n",
              "      <td>4349</td>\n",
              "      <td>205217</td>\n",
              "      <td>1</td>\n",
              "      <td>2113</td>\n",
              "      <td>0</td>\n",
              "      <td>1</td>\n",
              "      <td>1</td>\n",
              "    </tr>\n",
              "    <tr>\n",
              "      <th>3</th>\n",
              "      <td>8</td>\n",
              "      <td>2</td>\n",
              "      <td>307518</td>\n",
              "      <td>0</td>\n",
              "      <td>4188</td>\n",
              "      <td>406835</td>\n",
              "      <td>1</td>\n",
              "      <td>2975</td>\n",
              "      <td>1</td>\n",
              "      <td>0</td>\n",
              "      <td>2</td>\n",
              "    </tr>\n",
              "    <tr>\n",
              "      <th>4</th>\n",
              "      <td>9</td>\n",
              "      <td>1</td>\n",
              "      <td>208701</td>\n",
              "      <td>1</td>\n",
              "      <td>4218</td>\n",
              "      <td>104187</td>\n",
              "      <td>0</td>\n",
              "      <td>5247</td>\n",
              "      <td>0</td>\n",
              "      <td>1</td>\n",
              "      <td>1</td>\n",
              "    </tr>\n",
              "    <tr>\n",
              "      <th>5</th>\n",
              "      <td>10</td>\n",
              "      <td>2</td>\n",
              "      <td>204284</td>\n",
              "      <td>0</td>\n",
              "      <td>2427</td>\n",
              "      <td>103413</td>\n",
              "      <td>1</td>\n",
              "      <td>2850</td>\n",
              "      <td>0</td>\n",
              "      <td>1</td>\n",
              "      <td>1</td>\n",
              "    </tr>\n",
              "    <tr>\n",
              "      <th>6</th>\n",
              "      <td>10</td>\n",
              "      <td>2</td>\n",
              "      <td>302429</td>\n",
              "      <td>0</td>\n",
              "      <td>4202</td>\n",
              "      <td>208732</td>\n",
              "      <td>1</td>\n",
              "      <td>2165</td>\n",
              "      <td>0</td>\n",
              "      <td>1</td>\n",
              "      <td>2</td>\n",
              "    </tr>\n",
              "  </tbody>\n",
              "</table>\n",
              "</div>"
            ],
            "text/plain": [
              "   id  choice  cost_A  foreign_A  distance_A  cost_B  foreign_B  distance_B  \\\n",
              "0   5       1  201218          0        3248  409082          1        2463   \n",
              "1   8       1  106655          1        5375  204348          0        2508   \n",
              "2   8       2  302259          0        4349  205217          1        2113   \n",
              "3   8       2  307518          0        4188  406835          1        2975   \n",
              "4   9       1  208701          1        4218  104187          0        5247   \n",
              "5  10       2  204284          0        2427  103413          1        2850   \n",
              "6  10       2  302429          0        4202  208732          1        2165   \n",
              "\n",
              "   male  female  parent_educ  \n",
              "0     1       0            2  \n",
              "1     0       1            1  \n",
              "2     0       1            1  \n",
              "3     1       0            2  \n",
              "4     0       1            1  \n",
              "5     0       1            1  \n",
              "6     0       1            2  "
            ]
          },
          "execution_count": 7,
          "metadata": {},
          "output_type": "execute_result"
        }
      ],
      "source": [
        "educ_pd.head(7)"
      ]
    },
    {
      "cell_type": "markdown",
      "metadata": {
        "id": "zBI1kW9amL0i"
      },
      "source": [
        "\n",
        "___\n",
        "___\n"
      ]
    },
    {
      "cell_type": "markdown",
      "metadata": {
        "id": "5G2DJzviHWZN"
      },
      "source": [
        "# 1) Fit a multinomial logit model to act as reference model, using cost and distance as attributes.\n",
        "*Hint: Do not consider alternative-specific constants.*"
      ]
    },
    {
      "cell_type": "markdown",
      "metadata": {
        "id": "1EisoH3rolg2"
      },
      "source": [
        "This one we give you a little hint:"
      ]
    },
    {
      "cell_type": "code",
      "execution_count": 8,
      "metadata": {
        "colab": {
          "base_uri": "https://localhost:8080/",
          "height": 112
        },
        "id": "U76usD5o8DRK",
        "outputId": "a5a74c8e-4289-4da0-c457-fc23cc71a2e3"
      },
      "outputs": [
        {
          "data": {
            "text/html": [
              "<div>\n",
              "<style scoped>\n",
              "    .dataframe tbody tr th:only-of-type {\n",
              "        vertical-align: middle;\n",
              "    }\n",
              "\n",
              "    .dataframe tbody tr th {\n",
              "        vertical-align: top;\n",
              "    }\n",
              "\n",
              "    .dataframe thead th {\n",
              "        text-align: right;\n",
              "    }\n",
              "</style>\n",
              "<table border=\"1\" class=\"dataframe\">\n",
              "  <thead>\n",
              "    <tr style=\"text-align: right;\">\n",
              "      <th></th>\n",
              "      <th>Value</th>\n",
              "      <th>Rob. Std err</th>\n",
              "      <th>Rob. t-test</th>\n",
              "      <th>Rob. p-value</th>\n",
              "    </tr>\n",
              "  </thead>\n",
              "  <tbody>\n",
              "    <tr>\n",
              "      <th>B_cost</th>\n",
              "      <td>-0.000004</td>\n",
              "      <td>4.371428e-07</td>\n",
              "      <td>-9.613835</td>\n",
              "      <td>0.0</td>\n",
              "    </tr>\n",
              "    <tr>\n",
              "      <th>B_dist</th>\n",
              "      <td>-0.000369</td>\n",
              "      <td>3.187013e-05</td>\n",
              "      <td>-11.566283</td>\n",
              "      <td>0.0</td>\n",
              "    </tr>\n",
              "  </tbody>\n",
              "</table>\n",
              "</div>"
            ],
            "text/plain": [
              "           Value  Rob. Std err  Rob. t-test  Rob. p-value\n",
              "B_cost -0.000004  4.371428e-07    -9.613835           0.0\n",
              "B_dist -0.000369  3.187013e-05   -11.566283           0.0"
            ]
          },
          "execution_count": 8,
          "metadata": {},
          "output_type": "execute_result"
        }
      ],
      "source": [
        "bgm_edu = db.Database('edu', educ_pd)\n",
        "globals().update(bgm_edu.variables)\n",
        "\n",
        "B_cost = exp.Beta( 'B_cost', 0, None, None, 0)\n",
        "B_dist = exp.Beta( 'B_dist', 0, None, None, 0)\n",
        "B_fore = exp.Beta( 'B_fore', 0, None, None, 0)\n",
        "\n",
        "\n",
        "V_A = B_cost*cost_A + B_dist*distance_A #+ B_fore*foreign_A\n",
        "V_B = B_cost*cost_B + B_dist*distance_B #+ B_fore*foreign_B\n",
        "\n",
        "V = {1: V_A ,\n",
        "  2: V_B \n",
        "  }\n",
        "av = {1: 1,\n",
        "  2: 1\n",
        " }\n",
        "\n",
        "logprob = models.loglogit (V , av , choice )\n",
        "bgm_model = bio.BIOGEME ( bgm_edu, logprob )\n",
        "bgm_model.modelName = 'my first multinomial logit'\n",
        "results = bgm_model.estimate()\n",
        "\n",
        "\n",
        "\n",
        "results.getEstimatedParameters()"
      ]
    },
    {
      "cell_type": "markdown",
      "metadata": {
        "id": "A_k-MoSm21Ov"
      },
      "source": [
        "---"
      ]
    },
    {
      "cell_type": "markdown",
      "metadata": {
        "id": "MosyE7gIuDnD"
      },
      "source": [
        "# 2) Use parents education as a characteristic interacting with cost.  Comment on the results (signs of the variables, interpretation of the interaction)."
      ]
    },
    {
      "cell_type": "code",
      "execution_count": 9,
      "metadata": {
        "id": "cxeANAnYvL0g"
      },
      "outputs": [
        {
          "name": "stderr",
          "output_type": "stream",
          "text": [
            "You have not defined a name for the model. The output files are named from the model name. The default is [biogemeModelDefaultName]\n"
          ]
        },
        {
          "data": {
            "text/html": [
              "<div>\n",
              "<style scoped>\n",
              "    .dataframe tbody tr th:only-of-type {\n",
              "        vertical-align: middle;\n",
              "    }\n",
              "\n",
              "    .dataframe tbody tr th {\n",
              "        vertical-align: top;\n",
              "    }\n",
              "\n",
              "    .dataframe thead th {\n",
              "        text-align: right;\n",
              "    }\n",
              "</style>\n",
              "<table border=\"1\" class=\"dataframe\">\n",
              "  <thead>\n",
              "    <tr style=\"text-align: right;\">\n",
              "      <th></th>\n",
              "      <th>Value</th>\n",
              "      <th>Rob. Std err</th>\n",
              "      <th>Rob. t-test</th>\n",
              "      <th>Rob. p-value</th>\n",
              "    </tr>\n",
              "  </thead>\n",
              "  <tbody>\n",
              "    <tr>\n",
              "      <th>B_cost</th>\n",
              "      <td>-0.000006</td>\n",
              "      <td>1.141183e-06</td>\n",
              "      <td>-4.988998</td>\n",
              "      <td>6.069320e-07</td>\n",
              "    </tr>\n",
              "    <tr>\n",
              "      <th>B_dist</th>\n",
              "      <td>-0.000367</td>\n",
              "      <td>3.184888e-05</td>\n",
              "      <td>-11.512212</td>\n",
              "      <td>0.000000e+00</td>\n",
              "    </tr>\n",
              "    <tr>\n",
              "      <th>B_paredu</th>\n",
              "      <td>0.000001</td>\n",
              "      <td>8.500272e-07</td>\n",
              "      <td>1.449734</td>\n",
              "      <td>1.471327e-01</td>\n",
              "    </tr>\n",
              "  </tbody>\n",
              "</table>\n",
              "</div>"
            ],
            "text/plain": [
              "             Value  Rob. Std err  Rob. t-test  Rob. p-value\n",
              "B_cost   -0.000006  1.141183e-06    -4.988998  6.069320e-07\n",
              "B_dist   -0.000367  3.184888e-05   -11.512212  0.000000e+00\n",
              "B_paredu  0.000001  8.500272e-07     1.449734  1.471327e-01"
            ]
          },
          "execution_count": 9,
          "metadata": {},
          "output_type": "execute_result"
        }
      ],
      "source": [
        "B_cost = exp.Beta( 'B_cost', 0, None, None, 0)\n",
        "B_dist = exp.Beta( 'B_dist', 0, None, None, 0)\n",
        "B_paredu = exp.Beta( 'B_paredu', 0, None, None, 0)\n",
        "\n",
        "V_A = B_cost*cost_A + B_dist*distance_A + B_paredu*cost_A*parent_educ\n",
        "V_B = B_cost*cost_B + B_dist*distance_B + B_paredu*cost_B*parent_educ\n",
        "\n",
        "V = {1: V_A , 2: V_B }\n",
        "\n",
        "model_2, results_2 = qbus_estimate_bgm(V, educ_pd, 'choice', 'model_2')\n",
        "results_2.getEstimatedParameters()"
      ]
    },
    {
      "cell_type": "markdown",
      "metadata": {
        "id": "KikXTIaU22zq"
      },
      "source": [
        "---"
      ]
    },
    {
      "cell_type": "markdown",
      "metadata": {
        "id": "XVyoI3O0vMkY"
      },
      "source": [
        "# 3) Imagine that we model parents education as an additive characteristic (not an interaction, just adding to the utilities). However, in the context of our discrete choice experiment, this does not make sense. Explain why.\n",
        "*Hint: No programming required but you might fit some models if it helps you.*\n",
        "\n"
      ]
    },
    {
      "cell_type": "code",
      "execution_count": 10,
      "metadata": {},
      "outputs": [
        {
          "name": "stderr",
          "output_type": "stream",
          "text": [
            "You have not defined a name for the model. The output files are named from the model name. The default is [biogemeModelDefaultName]\n"
          ]
        },
        {
          "data": {
            "text/html": [
              "<div>\n",
              "<style scoped>\n",
              "    .dataframe tbody tr th:only-of-type {\n",
              "        vertical-align: middle;\n",
              "    }\n",
              "\n",
              "    .dataframe tbody tr th {\n",
              "        vertical-align: top;\n",
              "    }\n",
              "\n",
              "    .dataframe thead th {\n",
              "        text-align: right;\n",
              "    }\n",
              "</style>\n",
              "<table border=\"1\" class=\"dataframe\">\n",
              "  <thead>\n",
              "    <tr style=\"text-align: right;\">\n",
              "      <th></th>\n",
              "      <th>Value</th>\n",
              "      <th>Rob. Std err</th>\n",
              "      <th>Rob. t-test</th>\n",
              "      <th>Rob. p-value</th>\n",
              "    </tr>\n",
              "  </thead>\n",
              "  <tbody>\n",
              "    <tr>\n",
              "      <th>B_cost</th>\n",
              "      <td>-0.000006</td>\n",
              "      <td>1.142833e-06</td>\n",
              "      <td>-5.021388</td>\n",
              "      <td>5.129954e-07</td>\n",
              "    </tr>\n",
              "    <tr>\n",
              "      <th>B_dist</th>\n",
              "      <td>-0.000370</td>\n",
              "      <td>3.194461e-05</td>\n",
              "      <td>-11.569075</td>\n",
              "      <td>0.000000e+00</td>\n",
              "    </tr>\n",
              "    <tr>\n",
              "      <th>B_paredu</th>\n",
              "      <td>0.000001</td>\n",
              "      <td>8.509465e-07</td>\n",
              "      <td>1.466112</td>\n",
              "      <td>1.426177e-01</td>\n",
              "    </tr>\n",
              "  </tbody>\n",
              "</table>\n",
              "</div>"
            ],
            "text/plain": [
              "             Value  Rob. Std err  Rob. t-test  Rob. p-value\n",
              "B_cost   -0.000006  1.142833e-06    -5.021388  5.129954e-07\n",
              "B_dist   -0.000370  3.194461e-05   -11.569075  0.000000e+00\n",
              "B_paredu  0.000001  8.509465e-07     1.466112  1.426177e-01"
            ]
          },
          "execution_count": 10,
          "metadata": {},
          "output_type": "execute_result"
        }
      ],
      "source": [
        "educ_pd_interaction = educ_pd.copy()\n",
        "educ_pd_interaction['cost_A_paredu'] = educ_pd_interaction['cost_A'] * educ_pd_interaction['parent_educ']\n",
        "educ_pd_interaction['cost_B_paredu'] = educ_pd_interaction['cost_B'] * educ_pd_interaction['parent_educ']\n",
        "\n",
        "qbus_update_globals_bgm(educ_pd_interaction)\n",
        "\n",
        "B_cost = exp.Beta( 'B_cost', 0, None, None, 0)\n",
        "B_dist = exp.Beta( 'B_dist', 0, None, None, 0)\n",
        "B_paredu = exp.Beta( 'B_paredu', 0, None, None, 0)\n",
        "\n",
        "V_A = B_cost*cost_A + B_dist*distance_A + B_paredu*cost_A_paredu\n",
        "V_B = B_cost*cost_B + B_dist*distance_B + B_paredu*cost_A_paredu\n",
        "\n",
        "V_3 = {1: V_A , 2: V_B }\n",
        "\n",
        "model_3, results_3 = qbus_estimate_bgm(V, educ_pd_interaction, 'choice')\n",
        "results_3.getEstimatedParameters()"
      ]
    },
    {
      "cell_type": "markdown",
      "metadata": {
        "id": "AvXaWIzj24Ny"
      },
      "source": [
        "---"
      ]
    },
    {
      "cell_type": "markdown",
      "metadata": {
        "id": "j020ZHo2wU4N"
      },
      "source": [
        "# 4) Create a new multinomial logit model, including foreign language and gender variables in the model in Exercise 1. Is this a better model than the outcome of Exercise 1? \n",
        "*Hint: Pay attention to the way the variables are included (adding, interaction, per-altenative, etc.)*"
      ]
    },
    {
      "cell_type": "code",
      "execution_count": null,
      "metadata": {
        "id": "TdDcMdM0xZlm"
      },
      "outputs": [],
      "source": []
    },
    {
      "cell_type": "markdown",
      "metadata": {
        "id": "BM0eXn6S25ev"
      },
      "source": [
        "---"
      ]
    },
    {
      "cell_type": "markdown",
      "metadata": {
        "id": "iMin__UNxZ-3"
      },
      "source": [
        "# 5) Fit a mixed logit model (no panel) using the specification of Exercise 1, consider that the effect of distance is random. Comment on the results (changes on all coefficients with respect to Exercise 1, variance of the random coefficient)\n",
        "\n",
        "**You might use a small number of draws in the Montecarlo, or consider a smaller dataset if you get problems.**"
      ]
    },
    {
      "cell_type": "code",
      "execution_count": null,
      "metadata": {
        "id": "ABHq6Usvxp88"
      },
      "outputs": [],
      "source": []
    },
    {
      "cell_type": "markdown",
      "metadata": {
        "id": "-6d0QPqc26yW"
      },
      "source": [
        "---"
      ]
    },
    {
      "cell_type": "markdown",
      "metadata": {
        "id": "_iaDHz2mxqN8"
      },
      "source": [
        "# 6) Consider the mixed logit with panel information about the household. Compare the results to Exercise 5."
      ]
    },
    {
      "cell_type": "code",
      "execution_count": null,
      "metadata": {
        "id": "tQn2Rf0yyW5j"
      },
      "outputs": [],
      "source": []
    },
    {
      "cell_type": "markdown",
      "metadata": {
        "id": "Z_5V78Vw2-yp"
      },
      "source": [
        "---"
      ]
    },
    {
      "cell_type": "markdown",
      "metadata": {
        "id": "cjNfb13myWD3"
      },
      "source": [
        "#7) Calculate the willingness to pay for reducing the distance to the school, based on the results of Exercise 6.\n",
        "*Hint: consider the distribution of the WTP, since the coefficient for distance is random.*"
      ]
    },
    {
      "cell_type": "code",
      "execution_count": null,
      "metadata": {
        "id": "FGUPkvavQyc0"
      },
      "outputs": [],
      "source": []
    },
    {
      "cell_type": "markdown",
      "metadata": {
        "id": "AsJGyU3tcWQE"
      },
      "source": [
        "# 8) The researchers want to test if there is some form of 'undesirable' systematic effect introduced in their survey method. In particular, if there are systematic differences between alternative A and alternative B (For example, because alternative A appears on top of the survey card, and B on the bottom). How would you test that? What would be the result of the test?\n",
        "\n",
        "*Hint: You might want to compare some models to others.*"
      ]
    },
    {
      "cell_type": "code",
      "execution_count": null,
      "metadata": {
        "id": "DFwvTgCHfOee"
      },
      "outputs": [],
      "source": []
    },
    {
      "cell_type": "markdown",
      "metadata": {
        "id": "FDCpoltDfjjB"
      },
      "source": [
        "#9) Based on the experiment, the government is thinking about increasing the number of schools in the area, with the idea of reducing the distance that the children have to travel. Assume that the rows of data in the survey represent the population. Building one school in the area would reduce the distance by 10%, two schools would reduce the distance by 15%, three schools would reduce the distance by 18%. Assuming a budget of 4 million dollars to build one school, how many schools should we build if we want to generate a net benefit for the population in less than 30 years?.\n",
        "\n",
        "\n",
        "*Hint: It can be 0, 1, 2 or 3, the net benefit can come from WTP*"
      ]
    },
    {
      "cell_type": "code",
      "execution_count": null,
      "metadata": {
        "id": "OyfuPgUyfjML"
      },
      "outputs": [],
      "source": []
    },
    {
      "cell_type": "markdown",
      "metadata": {
        "id": "IRScONFcfAth"
      },
      "source": [
        "# A1) Use a fixed effects model to estimate whether male-children households are less affected by distance than female-children households."
      ]
    },
    {
      "cell_type": "code",
      "execution_count": null,
      "metadata": {
        "id": "g5vw1JX7fCmz"
      },
      "outputs": [],
      "source": []
    },
    {
      "cell_type": "markdown",
      "metadata": {
        "id": "ObvTp2jUQz7n"
      },
      "source": [
        "# A2) In an alternative view of the dataset, we want to study the education level as the choice variable. Using as covariates the attributes of option 'A' and the characteristics, fit an ordered logit and comment on the results."
      ]
    },
    {
      "cell_type": "code",
      "execution_count": null,
      "metadata": {
        "id": "8yIF12bQVmfe"
      },
      "outputs": [],
      "source": []
    },
    {
      "cell_type": "markdown",
      "metadata": {
        "id": "qz8eXXjiVnv0"
      },
      "source": [
        "# A3) Continuing on the alternative view: Compare two different orders to the default order given in the dataset, and decide if they are better than the default."
      ]
    },
    {
      "cell_type": "code",
      "execution_count": null,
      "metadata": {
        "id": "8qpW86kGnUw8"
      },
      "outputs": [],
      "source": []
    }
  ],
  "metadata": {
    "colab": {
      "collapsed_sections": [],
      "provenance": []
    },
    "kernelspec": {
      "display_name": "Python 3",
      "name": "python3"
    },
    "language_info": {
      "codemirror_mode": {
        "name": "ipython",
        "version": 3
      },
      "file_extension": ".py",
      "mimetype": "text/x-python",
      "name": "python",
      "nbconvert_exporter": "python",
      "pygments_lexer": "ipython3",
      "version": "3.10.9"
    }
  },
  "nbformat": 4,
  "nbformat_minor": 0
}
