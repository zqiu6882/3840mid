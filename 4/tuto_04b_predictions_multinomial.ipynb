{
  "cells": [
    {
      "cell_type": "markdown",
      "metadata": {
        "id": "zuJImh8WqX_m"
      },
      "source": [
        "# Tutorial 4b: Predictions and what if scenarios.\n",
        "\n",
        "#NOTE: This tutorial follows from the previous one, so it will reuse first part. The novelty starts at the section 'Predictions of the model'. There is change w.r.t. to the version for tutorial 4 , we remove the individuals with `GA==0` from the database in the preprocessing step. This is to simplify the notebook a bit."
      ]
    },
    {
      "cell_type": "markdown",
      "metadata": {
        "id": "tzgJbWL2qlAP"
      },
      "source": [
        "\"*Biogeme is a open source Python package designed for the maximum likelihood estimation of parametric models in general, with a special emphasis on discrete choice models.*\""
      ]
    },
    {
      "cell_type": "markdown",
      "metadata": {
        "id": "vb9SIunnASNB"
      },
      "source": [
        "# Preparing the environment"
      ]
    },
    {
      "cell_type": "markdown",
      "metadata": {
        "id": "rlvYdSNvrRfV"
      },
      "source": [
        "Google colab environment does not have biogeme installed by default,\n",
        "so we need to install in every session. Hopefully, it will take less than one minute. Once installed it will be valid until the session expires (or we reset it)."
      ]
    },
    {
      "cell_type": "code",
      "execution_count": 1,
      "metadata": {
        "colab": {
          "base_uri": "https://localhost:8080/"
        },
        "id": "j5zHGhgErHPd",
        "outputId": "483366a2-9996-4cf1-94f1-d24b08b6b4cc"
      },
      "outputs": [
        {
          "name": "stdout",
          "output_type": "stream",
          "text": [
            "Requirement already satisfied: biogeme in /Users/hugh/anaconda3/lib/python3.10/site-packages (3.2.12)\n",
            "Requirement already satisfied: biogeme-optimization>=0.0.4 in /Users/hugh/anaconda3/lib/python3.10/site-packages (from biogeme) (0.0.4)\n",
            "Requirement already satisfied: tqdm>=4.64.1 in /Users/hugh/anaconda3/lib/python3.10/site-packages (from biogeme) (4.64.1)\n",
            "Requirement already satisfied: cythonbiogeme>=1.0.1 in /Users/hugh/anaconda3/lib/python3.10/site-packages (from biogeme) (1.0.1)\n",
            "Requirement already satisfied: pandas>=1.3.5 in /Users/hugh/anaconda3/lib/python3.10/site-packages (from biogeme) (1.5.3)\n",
            "Requirement already satisfied: tomlkit>=0.11.5 in /Users/hugh/anaconda3/lib/python3.10/site-packages (from biogeme) (0.12.1)\n",
            "Requirement already satisfied: scipy>=1.7.3 in /Users/hugh/anaconda3/lib/python3.10/site-packages (from biogeme) (1.11.2)\n",
            "Requirement already satisfied: numpy>=1.24.2 in /Users/hugh/anaconda3/lib/python3.10/site-packages (from biogeme-optimization>=0.0.4->biogeme) (1.25.2)\n",
            "Requirement already satisfied: cython>=0.29.16 in /Users/hugh/anaconda3/lib/python3.10/site-packages (from cythonbiogeme>=1.0.1->biogeme) (3.0.0)\n",
            "Requirement already satisfied: python-dateutil>=2.8.1 in /Users/hugh/anaconda3/lib/python3.10/site-packages (from pandas>=1.3.5->biogeme) (2.8.2)\n",
            "Requirement already satisfied: pytz>=2020.1 in /Users/hugh/anaconda3/lib/python3.10/site-packages (from pandas>=1.3.5->biogeme) (2022.7)\n",
            "Requirement already satisfied: six>=1.5 in /Users/hugh/anaconda3/lib/python3.10/site-packages (from python-dateutil>=2.8.1->pandas>=1.3.5->biogeme) (1.16.0)\n"
          ]
        }
      ],
      "source": [
        "!pip install biogeme"
      ]
    },
    {
      "cell_type": "markdown",
      "metadata": {
        "id": "1z0X9xZ8rChf"
      },
      "source": [
        "First load the packages typical packages, biogeme and the common one for python data analysis."
      ]
    },
    {
      "cell_type": "code",
      "execution_count": 2,
      "metadata": {
        "id": "apVB-TMkrFnb"
      },
      "outputs": [],
      "source": [
        "import pandas  as pd\n",
        "import numpy as np\n",
        "import seaborn as sns\n",
        "import matplotlib.pyplot as plt\n",
        "\n",
        "import biogeme.database as db\n",
        "import biogeme.biogeme as bio\n",
        "import biogeme.models as models\n",
        "import biogeme.expressions as exp\n"
      ]
    },
    {
      "cell_type": "markdown",
      "metadata": {
        "id": "Mgv0hV1YAieW"
      },
      "source": [
        "# The dataset\n",
        "\n",
        "We will use the example from the biogeme package, Swissmetro dataset:\n",
        "\n",
        "\"*This dataset consists of survey data collected on the trains between St. Gallen and Geneva, Switzerland, during March 1998. The respondents provided information in order to analyze the impact of\n",
        "the modal innovation in transportation (a new mode of transport), represented by the Swissmetro, a revolutionary mag-lev underground system, against the usual transport modes represented by car and train.*\""
      ]
    },
    {
      "cell_type": "markdown",
      "metadata": {
        "id": "_Zq_3AwIr7u8"
      },
      "source": [
        "#Loading the dataset\n",
        "\n",
        "Biogeme can interact with the popular pandas package, so we can load the dataset in pandas first and then pass it to biogeme.\n",
        "\n",
        "This specific dataset uses the format 'tab separated values' instead of the more common 'comma separated values'. We can specify this non-standard separator by the argument `sep` in `pandas.read_csv`.\n",
        "\n"
      ]
    },
    {
      "cell_type": "code",
      "execution_count": 4,
      "metadata": {
        "id": "g1Ykn5Ytr7Rs"
      },
      "outputs": [],
      "source": [
        "swissmetro = pd.read_csv('swissmetro.dat', sep='\\t')"
      ]
    },
    {
      "cell_type": "markdown",
      "metadata": {
        "id": "ZY55r3Gesb3t"
      },
      "source": [
        "We will take a look at it, using the head() method of to display the first few rows.\n",
        "\n",
        "There is a detailed description of the dataset\n",
        "variables [here](http://transp-or.epfl.ch/documents/technicalReports/CS_SwissmetroDescription.pdf). **You will need to take a look at them later\n",
        "to understand the data and create your own models.**"
      ]
    },
    {
      "cell_type": "code",
      "execution_count": 5,
      "metadata": {
        "colab": {
          "base_uri": "https://localhost:8080/",
          "height": 236
        },
        "id": "ldkmnMhssemT",
        "outputId": "d6aeb052-e03c-48db-ca12-f51aa3097310"
      },
      "outputs": [
        {
          "data": {
            "text/html": [
              "<div>\n",
              "<style scoped>\n",
              "    .dataframe tbody tr th:only-of-type {\n",
              "        vertical-align: middle;\n",
              "    }\n",
              "\n",
              "    .dataframe tbody tr th {\n",
              "        vertical-align: top;\n",
              "    }\n",
              "\n",
              "    .dataframe thead th {\n",
              "        text-align: right;\n",
              "    }\n",
              "</style>\n",
              "<table border=\"1\" class=\"dataframe\">\n",
              "  <thead>\n",
              "    <tr style=\"text-align: right;\">\n",
              "      <th></th>\n",
              "      <th>GROUP</th>\n",
              "      <th>SURVEY</th>\n",
              "      <th>SP</th>\n",
              "      <th>ID</th>\n",
              "      <th>PURPOSE</th>\n",
              "      <th>FIRST</th>\n",
              "      <th>TICKET</th>\n",
              "      <th>WHO</th>\n",
              "      <th>LUGGAGE</th>\n",
              "      <th>AGE</th>\n",
              "      <th>...</th>\n",
              "      <th>TRAIN_TT</th>\n",
              "      <th>TRAIN_CO</th>\n",
              "      <th>TRAIN_HE</th>\n",
              "      <th>SM_TT</th>\n",
              "      <th>SM_CO</th>\n",
              "      <th>SM_HE</th>\n",
              "      <th>SM_SEATS</th>\n",
              "      <th>CAR_TT</th>\n",
              "      <th>CAR_CO</th>\n",
              "      <th>CHOICE</th>\n",
              "    </tr>\n",
              "  </thead>\n",
              "  <tbody>\n",
              "    <tr>\n",
              "      <th>0</th>\n",
              "      <td>2</td>\n",
              "      <td>0</td>\n",
              "      <td>1</td>\n",
              "      <td>1</td>\n",
              "      <td>1</td>\n",
              "      <td>0</td>\n",
              "      <td>1</td>\n",
              "      <td>1</td>\n",
              "      <td>0</td>\n",
              "      <td>3</td>\n",
              "      <td>...</td>\n",
              "      <td>112</td>\n",
              "      <td>48</td>\n",
              "      <td>120</td>\n",
              "      <td>63</td>\n",
              "      <td>52</td>\n",
              "      <td>20</td>\n",
              "      <td>0</td>\n",
              "      <td>117</td>\n",
              "      <td>65</td>\n",
              "      <td>2</td>\n",
              "    </tr>\n",
              "    <tr>\n",
              "      <th>1</th>\n",
              "      <td>2</td>\n",
              "      <td>0</td>\n",
              "      <td>1</td>\n",
              "      <td>1</td>\n",
              "      <td>1</td>\n",
              "      <td>0</td>\n",
              "      <td>1</td>\n",
              "      <td>1</td>\n",
              "      <td>0</td>\n",
              "      <td>3</td>\n",
              "      <td>...</td>\n",
              "      <td>103</td>\n",
              "      <td>48</td>\n",
              "      <td>30</td>\n",
              "      <td>60</td>\n",
              "      <td>49</td>\n",
              "      <td>10</td>\n",
              "      <td>0</td>\n",
              "      <td>117</td>\n",
              "      <td>84</td>\n",
              "      <td>2</td>\n",
              "    </tr>\n",
              "    <tr>\n",
              "      <th>2</th>\n",
              "      <td>2</td>\n",
              "      <td>0</td>\n",
              "      <td>1</td>\n",
              "      <td>1</td>\n",
              "      <td>1</td>\n",
              "      <td>0</td>\n",
              "      <td>1</td>\n",
              "      <td>1</td>\n",
              "      <td>0</td>\n",
              "      <td>3</td>\n",
              "      <td>...</td>\n",
              "      <td>130</td>\n",
              "      <td>48</td>\n",
              "      <td>60</td>\n",
              "      <td>67</td>\n",
              "      <td>58</td>\n",
              "      <td>30</td>\n",
              "      <td>0</td>\n",
              "      <td>117</td>\n",
              "      <td>52</td>\n",
              "      <td>2</td>\n",
              "    </tr>\n",
              "    <tr>\n",
              "      <th>3</th>\n",
              "      <td>2</td>\n",
              "      <td>0</td>\n",
              "      <td>1</td>\n",
              "      <td>1</td>\n",
              "      <td>1</td>\n",
              "      <td>0</td>\n",
              "      <td>1</td>\n",
              "      <td>1</td>\n",
              "      <td>0</td>\n",
              "      <td>3</td>\n",
              "      <td>...</td>\n",
              "      <td>103</td>\n",
              "      <td>40</td>\n",
              "      <td>30</td>\n",
              "      <td>63</td>\n",
              "      <td>52</td>\n",
              "      <td>20</td>\n",
              "      <td>0</td>\n",
              "      <td>72</td>\n",
              "      <td>52</td>\n",
              "      <td>2</td>\n",
              "    </tr>\n",
              "    <tr>\n",
              "      <th>4</th>\n",
              "      <td>2</td>\n",
              "      <td>0</td>\n",
              "      <td>1</td>\n",
              "      <td>1</td>\n",
              "      <td>1</td>\n",
              "      <td>0</td>\n",
              "      <td>1</td>\n",
              "      <td>1</td>\n",
              "      <td>0</td>\n",
              "      <td>3</td>\n",
              "      <td>...</td>\n",
              "      <td>130</td>\n",
              "      <td>36</td>\n",
              "      <td>60</td>\n",
              "      <td>63</td>\n",
              "      <td>42</td>\n",
              "      <td>20</td>\n",
              "      <td>0</td>\n",
              "      <td>90</td>\n",
              "      <td>84</td>\n",
              "      <td>2</td>\n",
              "    </tr>\n",
              "  </tbody>\n",
              "</table>\n",
              "<p>5 rows × 28 columns</p>\n",
              "</div>"
            ],
            "text/plain": [
              "   GROUP  SURVEY  SP  ID  PURPOSE  FIRST  TICKET  WHO  LUGGAGE  AGE  ...  \\\n",
              "0      2       0   1   1        1      0       1    1        0    3  ...   \n",
              "1      2       0   1   1        1      0       1    1        0    3  ...   \n",
              "2      2       0   1   1        1      0       1    1        0    3  ...   \n",
              "3      2       0   1   1        1      0       1    1        0    3  ...   \n",
              "4      2       0   1   1        1      0       1    1        0    3  ...   \n",
              "\n",
              "   TRAIN_TT  TRAIN_CO  TRAIN_HE  SM_TT  SM_CO  SM_HE  SM_SEATS  CAR_TT  \\\n",
              "0       112        48       120     63     52     20         0     117   \n",
              "1       103        48        30     60     49     10         0     117   \n",
              "2       130        48        60     67     58     30         0     117   \n",
              "3       103        40        30     63     52     20         0      72   \n",
              "4       130        36        60     63     42     20         0      90   \n",
              "\n",
              "   CAR_CO  CHOICE  \n",
              "0      65       2  \n",
              "1      84       2  \n",
              "2      52       2  \n",
              "3      52       2  \n",
              "4      84       2  \n",
              "\n",
              "[5 rows x 28 columns]"
            ]
          },
          "execution_count": 5,
          "metadata": {},
          "output_type": "execute_result"
        }
      ],
      "source": [
        "swissmetro.head(5)"
      ]
    },
    {
      "cell_type": "markdown",
      "metadata": {
        "id": "K3-FzZrJuma4"
      },
      "source": [
        "We see some socioeconomic characteristics such as 'AGE', likely encoding by age groups, 'MALE' which we can assume refers to gender. There are also some attributes of the alternatives, such as 'CAR_TT' which would be travel time in car, 'TRAIN_CO' which refers to the cost of the fare by train.\n",
        "\n",
        "An important variable is 'CHOICE' it is the result of the choice for each individual, coded as 1 for train, 2 for swissmetro, 3 for car. The value 0 indicates invalid response."
      ]
    },
    {
      "cell_type": "markdown",
      "metadata": {
        "id": "o3BZ4otYvdYM"
      },
      "source": [
        "# Passing the dataset to biogeme\n",
        "\n",
        "For now, we have loaded the dataset into a pandas dataframe, we need to transform it into a Biogeme database, the format that biogeme understands.\n",
        "We pass first argument the name of the database that we want to give and second the pandas dataframe."
      ]
    },
    {
      "cell_type": "code",
      "execution_count": 6,
      "metadata": {
        "id": "JAuXh-SfvcwT"
      },
      "outputs": [],
      "source": [
        "bgm_swissmetro = db.Database('swissmetro', swissmetro)"
      ]
    },
    {
      "cell_type": "markdown",
      "metadata": {
        "id": "LOO_ErPbw0go"
      },
      "source": [
        "We can access the dictionary of variables in the biogeme database the following way:"
      ]
    },
    {
      "cell_type": "code",
      "execution_count": 7,
      "metadata": {
        "colab": {
          "base_uri": "https://localhost:8080/"
        },
        "id": "6Bt1iHz9xUHm",
        "outputId": "65671fb5-b9e3-4d8b-eb60-7594d824a55e"
      },
      "outputs": [
        {
          "data": {
            "text/plain": [
              "CHOICE"
            ]
          },
          "execution_count": 7,
          "metadata": {},
          "output_type": "execute_result"
        }
      ],
      "source": [
        "bgm_swissmetro.variables['CHOICE']"
      ]
    },
    {
      "cell_type": "markdown",
      "metadata": {
        "id": "qmw2wtC2yHFZ"
      },
      "source": [
        "Because this is too verbose, we can load them into the global variables\n",
        "of the python environment, to make the symbolic manipulation less verbose, so we can refer to them just by writing `VARIABLE_NAME` instead of having to write `database.variables['VARIABLE_NAME']`."
      ]
    },
    {
      "cell_type": "code",
      "execution_count": 8,
      "metadata": {
        "colab": {
          "base_uri": "https://localhost:8080/"
        },
        "id": "q3VDQa8Xwln5",
        "outputId": "ef572343-e7fe-47c4-d1f7-de820db9a4ec"
      },
      "outputs": [
        {
          "data": {
            "text/plain": [
              "CHOICE"
            ]
          },
          "execution_count": 8,
          "metadata": {},
          "output_type": "execute_result"
        }
      ],
      "source": [
        "globals().update(bgm_swissmetro.variables)\n",
        "CHOICE"
      ]
    },
    {
      "cell_type": "markdown",
      "metadata": {
        "id": "G-WceQeczaS4"
      },
      "source": [
        "Before we begin, we will need to clean the dataset a bit. In this case,\n",
        "we have people that did not respond to the survey, and their value assigned\n",
        "to the choice is 0. The only valid values for the choice are 1,2,3 indicating\n",
        "the alternatives, train, swissmetro and car.\n",
        "We can remove them from the biogeme database using the `remove` method with the logical indicator for the row that have choice 0.\n",
        "\n",
        "**It is recommended that all database manipulations/cleaning are applied directly on the pandas dataframe before passing it to biogeme.** The reason being that pandas is better designed for that purpose and makes the code more readable. Ideally we would like out interactions with biogeme to be minimized and do as much as possible with the standard frameworks such as pandas.  "
      ]
    },
    {
      "cell_type": "code",
      "execution_count": 9,
      "metadata": {
        "id": "xV8HYAgdREiN"
      },
      "outputs": [],
      "source": [
        "bgm_swissmetro.remove( (CHOICE == 0) )\n",
        "bgm_swissmetro.remove( (GA == 1) )"
      ]
    },
    {
      "cell_type": "markdown",
      "metadata": {
        "id": "KqiArlqd0qFR"
      },
      "source": [
        "# Creating the model\n",
        "\n",
        "What we usually need to define in the multinomial logit can be summarized as:\n",
        " * Which variables in the database are we going to include in the model linear model.\n",
        " * What is the variable in the database that specifies the choice made, the alternative selected by an individual. The 'target variable' or dependent variable.\n",
        " * What variables are used in the modelling of each alternative. Remember that we can define a utility function for each alternative, so we can have alternatives that depend of some variables, and we can also have some variables that are estimated for all alternatives.\n",
        "\n",
        "We can connect this back to the utily theory view, we want to specify the functions that produce the observed component of the utility, the $V_{nj}$\n",
        "\n",
        "For each alternative $j$ and observation $n$, we consider the vector $x_{nj}$\n",
        "to be the joint vector of for both attributes and characteristics (to simplify things).  We try to find the vector of coefficients $\\beta_j$ for each alternative. In other words, we try to find the linear relationship between the variables and utility for each alternative:\n",
        "  $$V_{nj} = \\beta_j x_n$$\n",
        "\n",
        "* Consider that some attributes or characteristics are not relevant for some alternatives: This would be equivanlent to fixing some of the values for $\\beta_j$ to 0 and not fitting them to data.\n",
        "* Consider that some attributes or characteristics 'share' the value of the coefficient.\n"
      ]
    },
    {
      "cell_type": "markdown",
      "metadata": {
        "id": "0De-iYpQbw67"
      },
      "source": [
        "\n",
        "# The alternative specific constants:\n",
        "Just as in linear models we have the intercept, in choice models we have alternative specific constants. An important difference is that we cannot determine their value, because we have seen in the previous tutorial that the absolute level of utilities cannot be recovered. In practice, what we will do is assume that the attribute specific characteristic of one of the alternatives is set to 0 and we do not fit them to the data. This will set a reference point.\n",
        "Again, which alternative we use as reference and what value for the ASC is arbitrary.\n"
      ]
    },
    {
      "cell_type": "markdown",
      "metadata": {
        "id": "PIouJf_BRyUu"
      },
      "source": [
        "# Definition of the model in biogeme\n",
        "We define the parameters of the model through the function `exp.Beta`.\n",
        "The function `exp.Beta` takes 5 arguments:\n",
        "1. the name of the parameter.\n",
        "2. the default value. We can use 0 for the default values unless we know a better starting value, for example when we have prior information.\n",
        "3. The lower bound, if we want to restrict it to a range, `None` if we do not want to restrict the value of the parameter. For example, sometimes we might know or would like to for a parameter to be positive.\n",
        "4. The upper bound, if we want to restrict it to a range, `None` if we do not want to restrict the value of the parameter.\n",
        "5. A 0/1 argument, 0 if the parameter must be estimated and 1 if it remains fixed.\n",
        "\n",
        "We will define a simple model with just the three ASCs and two parameters for two variables of interest, time and cost.\n",
        "Note that one of the ASCs, `ASC_SM` is set to not be estimated, notice the 1 in the value of the last argument when it is created. This comes from the explanation above, we set one of the ASCs arbitrarily to 0 because we utility cannot be recovered up to changes in constants, so we will pick among the many possible solutions the one that makes the ASC for the SwissMetro alternative 0.\n"
      ]
    },
    {
      "cell_type": "code",
      "execution_count": 10,
      "metadata": {
        "id": "zOpyvTcbRPy4"
      },
      "outputs": [],
      "source": [
        "ASC_CAR = exp.Beta ( 'ASC_CAR' ,0, None , None ,0)\n",
        "ASC_TRAIN = exp.Beta ( 'ASC_TRAIN' ,0, None , None ,0)\n",
        "ASC_SM = exp.Beta ( 'ASC_SM' ,0, None , None ,1)\n",
        "B_TIME = exp.Beta ( 'B_TIME' ,0, None , None ,0)\n",
        "B_COST = exp.Beta ( 'B_COST' ,0, None , None ,0)"
      ]
    },
    {
      "cell_type": "markdown",
      "metadata": {
        "id": "t3REqjxrj2x1"
      },
      "source": [
        "We will create an artificial variable, ussing the luggage variable but squared.\n",
        "This variable will only be included as a parameter for the utility of the car alternative. This is a totally arbitrary variable for the purposes of exposition, it does not mean that it is a good one."
      ]
    },
    {
      "cell_type": "code",
      "execution_count": 11,
      "metadata": {
        "id": "wwISbL_Gi-A_"
      },
      "outputs": [],
      "source": [
        "B_LUGGA_SQ = exp.Beta( 'B_LUGGA_SQ', 0, None, None, 0)\n",
        "LUGGA_SQ = LUGGAGE**2"
      ]
    },
    {
      "cell_type": "markdown",
      "metadata": {
        "id": "YT3brmCSUaLB"
      },
      "source": [
        "A warning from the creator of the biogeme package:\n",
        "when we define the parameters of our model, we store them into python variables.\n",
        "The authr strongly recomments using the same name for the python variable\n",
        "than for the parameter.\n",
        "For example, while we could have define the variable following the code in the next cell, it is not recommended. I imagine that this could cause some confusion later on.\n",
        "\n"
      ]
    },
    {
      "cell_type": "code",
      "execution_count": 12,
      "metadata": {
        "id": "J6jlUKDRUfjx"
      },
      "outputs": [],
      "source": [
        "#doing this is not recommended!\n",
        "car_cte = exp.Beta( 'ASC_CAR' ,0, None , None ,0)"
      ]
    },
    {
      "cell_type": "markdown",
      "metadata": {
        "id": "4ECerH2CWOBV"
      },
      "source": [
        "We now define the utility functions for each alternative, more speficifically the linear relationship between the variables and the observed component of the utility."
      ]
    },
    {
      "cell_type": "code",
      "execution_count": 13,
      "metadata": {
        "id": "VZ7iyvO4WEtz"
      },
      "outputs": [],
      "source": [
        "V1 = ASC_TRAIN + B_TIME * TRAIN_TT + B_COST * TRAIN_CO\n",
        "\n",
        "V2 = ASC_SM + B_TIME * SM_TT + B_COST * SM_CO\n",
        "\n",
        "V3 = ASC_CAR + B_TIME * CAR_TT + B_COST * CAR_CO + B_LUGGA_SQ*LUGGA_SQ\n"
      ]
    },
    {
      "cell_type": "markdown",
      "metadata": {
        "id": "DEC2xflnWfHr"
      },
      "source": [
        "We have to create a dictionary that maps the utility functions to the numbers that identify the alternatives in the database.\n",
        "In this case 1 for Train, 2 for Swissmetro, 3 for car."
      ]
    },
    {
      "cell_type": "code",
      "execution_count": 14,
      "metadata": {
        "id": "B8hQMvaFWekd"
      },
      "outputs": [],
      "source": [
        "V = {1: V1 ,\n",
        "2: V2 ,\n",
        "3: V3 }"
      ]
    },
    {
      "cell_type": "markdown",
      "metadata": {
        "id": "Bs6NR7URW4_w"
      },
      "source": [
        "We have to pass availabilities, these are the indicator variables signaling if the option is available for that individual. Remember that the multinomial does not need to have all alternatives present for all individuals, it can recover the model from data even if the full choice set is not available for all individuals."
      ]
    },
    {
      "cell_type": "code",
      "execution_count": 15,
      "metadata": {
        "id": "7cFRkLSQW5bZ"
      },
      "outputs": [],
      "source": [
        "\n",
        "\n",
        "av = {1: TRAIN_AV,\n",
        "2: SM_AV,\n",
        "3: CAR_AV }"
      ]
    },
    {
      "cell_type": "markdown",
      "metadata": {
        "id": "Ibxs6VjNDDo6"
      },
      "source": [
        "This is the definition of the model, in this case the multinomial logit (we will use other models later)."
      ]
    },
    {
      "cell_type": "code",
      "execution_count": 16,
      "metadata": {
        "id": "FFPU3K7EXlZm"
      },
      "outputs": [],
      "source": [
        "logprob = models.loglogit (V , av , CHOICE )"
      ]
    },
    {
      "cell_type": "markdown",
      "metadata": {
        "id": "G6TgmVHtdT9G"
      },
      "source": [
        "And finally we pack everything together in the biogeme object."
      ]
    },
    {
      "cell_type": "code",
      "execution_count": 17,
      "metadata": {
        "id": "4Qw4I1HdXgvb"
      },
      "outputs": [],
      "source": [
        "bgm_model = bio.BIOGEME ( bgm_swissmetro, logprob )"
      ]
    },
    {
      "cell_type": "markdown",
      "metadata": {
        "id": "ez0sa4fAcT9b"
      },
      "source": [
        "We can give a name to the model, this can help identifying the model when we come back to it later, for example when we save it to a file and want to use it in another report."
      ]
    },
    {
      "cell_type": "code",
      "execution_count": 18,
      "metadata": {
        "id": "zn-2Fy3JX2Gi"
      },
      "outputs": [],
      "source": [
        "bgm_model.modelName = 'my first multinomial logit'"
      ]
    },
    {
      "cell_type": "markdown",
      "metadata": {
        "id": "86bZksOJb70Y"
      },
      "source": [
        "# Estimation of the model\n",
        "\n",
        "Everythin is set, biogeme will kindly do maximum likelihood estimation for us."
      ]
    },
    {
      "cell_type": "code",
      "execution_count": 19,
      "metadata": {
        "id": "XqRyOneGYG2t"
      },
      "outputs": [],
      "source": [
        "results = bgm_model.estimate()"
      ]
    },
    {
      "cell_type": "markdown",
      "metadata": {
        "id": "d4RInW7rcC3r"
      },
      "source": [
        "# Results of the model\n",
        "\n",
        "We can check a basic summary of the estimated model, likelihoods, information\n",
        "criterions, etc."
      ]
    },
    {
      "cell_type": "code",
      "execution_count": 20,
      "metadata": {
        "colab": {
          "base_uri": "https://localhost:8080/"
        },
        "id": "oMV3mFzuYJKB",
        "outputId": "e004c4e4-0ffe-4cec-93aa-23961db5fd7d"
      },
      "outputs": [
        {
          "data": {
            "text/plain": [
              "{'Number of estimated parameters': GeneralStatistic(value=5, format=''),\n",
              " 'Sample size': GeneralStatistic(value=9207, format=''),\n",
              " 'Excluded observations': GeneralStatistic(value=1512, format=''),\n",
              " 'Init log likelihood': GeneralStatistic(value=-7095.246269467564, format='.7g'),\n",
              " 'Final log likelihood': GeneralStatistic(value=-7095.246269467564, format='.7g'),\n",
              " 'Likelihood ratio test for the init. model': GeneralStatistic(value=-0.0, format='.7g'),\n",
              " 'Rho-square for the init. model': GeneralStatistic(value=0.0, format='.3g'),\n",
              " 'Rho-square-bar for the init. model': GeneralStatistic(value=-0.0007046971747148856, format='.3g'),\n",
              " 'Akaike Information Criterion': GeneralStatistic(value=14200.492538935128, format='.7g'),\n",
              " 'Bayesian Information Criterion': GeneralStatistic(value=14236.131135651567, format='.7g'),\n",
              " 'Final gradient norm': GeneralStatistic(value=0.00035865935910168713, format='.4E'),\n",
              " 'Nbr of threads': GeneralStatistic(value=12, format='')}"
            ]
          },
          "execution_count": 20,
          "metadata": {},
          "output_type": "execute_result"
        }
      ],
      "source": [
        "results.getGeneralStatistics()"
      ]
    },
    {
      "cell_type": "markdown",
      "metadata": {
        "id": "2IJGgJ59iHHB"
      },
      "source": [
        "The value of the parameters and the p-values for their statistical significance.\n",
        "Note that ASC_SM is not shown, it was fixed to 0 by us."
      ]
    },
    {
      "cell_type": "code",
      "execution_count": 21,
      "metadata": {
        "colab": {
          "base_uri": "https://localhost:8080/",
          "height": 206
        },
        "id": "6wTlZ6NuYXAf",
        "outputId": "c9d78013-38c6-4981-ce5b-9ce6026c394b"
      },
      "outputs": [
        {
          "data": {
            "text/html": [
              "<div>\n",
              "<style scoped>\n",
              "    .dataframe tbody tr th:only-of-type {\n",
              "        vertical-align: middle;\n",
              "    }\n",
              "\n",
              "    .dataframe tbody tr th {\n",
              "        vertical-align: top;\n",
              "    }\n",
              "\n",
              "    .dataframe thead th {\n",
              "        text-align: right;\n",
              "    }\n",
              "</style>\n",
              "<table border=\"1\" class=\"dataframe\">\n",
              "  <thead>\n",
              "    <tr style=\"text-align: right;\">\n",
              "      <th></th>\n",
              "      <th>Value</th>\n",
              "      <th>Rob. Std err</th>\n",
              "      <th>Rob. t-test</th>\n",
              "      <th>Rob. p-value</th>\n",
              "    </tr>\n",
              "  </thead>\n",
              "  <tbody>\n",
              "    <tr>\n",
              "      <th>ASC_CAR</th>\n",
              "      <td>0.100710</td>\n",
              "      <td>0.044229</td>\n",
              "      <td>2.276999</td>\n",
              "      <td>0.022786</td>\n",
              "    </tr>\n",
              "    <tr>\n",
              "      <th>ASC_TRAIN</th>\n",
              "      <td>-1.067165</td>\n",
              "      <td>0.063921</td>\n",
              "      <td>-16.695174</td>\n",
              "      <td>0.000000</td>\n",
              "    </tr>\n",
              "    <tr>\n",
              "      <th>B_COST</th>\n",
              "      <td>-0.007187</td>\n",
              "      <td>0.000541</td>\n",
              "      <td>-13.293812</td>\n",
              "      <td>0.000000</td>\n",
              "    </tr>\n",
              "    <tr>\n",
              "      <th>B_LUGGA_SQ</th>\n",
              "      <td>-0.081684</td>\n",
              "      <td>0.022469</td>\n",
              "      <td>-3.635332</td>\n",
              "      <td>0.000278</td>\n",
              "    </tr>\n",
              "    <tr>\n",
              "      <th>B_TIME</th>\n",
              "      <td>-0.012762</td>\n",
              "      <td>0.000703</td>\n",
              "      <td>-18.160005</td>\n",
              "      <td>0.000000</td>\n",
              "    </tr>\n",
              "  </tbody>\n",
              "</table>\n",
              "</div>"
            ],
            "text/plain": [
              "               Value  Rob. Std err  Rob. t-test  Rob. p-value\n",
              "ASC_CAR     0.100710      0.044229     2.276999      0.022786\n",
              "ASC_TRAIN  -1.067165      0.063921   -16.695174      0.000000\n",
              "B_COST     -0.007187      0.000541   -13.293812      0.000000\n",
              "B_LUGGA_SQ -0.081684      0.022469    -3.635332      0.000278\n",
              "B_TIME     -0.012762      0.000703   -18.160005      0.000000"
            ]
          },
          "execution_count": 21,
          "metadata": {},
          "output_type": "execute_result"
        }
      ],
      "source": [
        "results.getEstimatedParameters()"
      ]
    },
    {
      "cell_type": "markdown",
      "metadata": {
        "id": "AjwSwASHiZ63"
      },
      "source": [
        "We can recover the values for the parameters in a dictionary."
      ]
    },
    {
      "cell_type": "code",
      "execution_count": 22,
      "metadata": {
        "colab": {
          "base_uri": "https://localhost:8080/"
        },
        "id": "hbIei-9NYqR4",
        "outputId": "29926b5e-c409-44a2-d257-24b9b8f67fae"
      },
      "outputs": [
        {
          "data": {
            "text/plain": [
              "{'ASC_CAR': 0.10070964885372066,\n",
              " 'ASC_TRAIN': -1.0671646301354978,\n",
              " 'B_COST': -0.007186542595038879,\n",
              " 'B_LUGGA_SQ': -0.08168404873049437,\n",
              " 'B_TIME': -0.012762227691407065}"
            ]
          },
          "execution_count": 22,
          "metadata": {},
          "output_type": "execute_result"
        }
      ],
      "source": [
        "results.getBetaValues()"
      ]
    },
    {
      "cell_type": "markdown",
      "metadata": {
        "id": "XmlGz3EoUfrK"
      },
      "source": [
        "# Predictions of the model"
      ]
    },
    {
      "cell_type": "markdown",
      "metadata": {
        "id": "titlXaWWSlco"
      },
      "source": [
        "Producing the choice probabilities with biogeme is a little bit more cumbersome,\n",
        "we need to do a two-step process:\n",
        " 1. We need to create a biogeme object with two arguments\n",
        "   * The dataset that we want to calculate the predictions on\n",
        "   * The targets to predict. This could be the individual utility functions, if we want to calculate utilities. It could also be the logit transformation of the utility functions, if we want to calculate probabilities.\n",
        " 2. Then we call the `simulate()` method of the biogeme object, the one that calculates predictions. The argument for simulate is the values for the betas, the coefficients estimated in the model. We can get them from the `getBetaValues()` in the estimated model, the `results` object calculated before. Note that we have two biogeme objects, the one we created to estimate the model and the one we use to produce the predictions, name them appropiately!\n",
        "\n",
        "We can use as input dataset the same dataset in which we estimated the model, this way we could get all the validation measures. We can use a different dataset, as long as it has the same structure as the one that was used to estimate the model. A 'different dataset' can be used for holdout validation measures, all the what-if scenarios (and willingness to pay, elasticities, marginal) and the actual 'predictions' in practice, in real scenarios where we do not know the choices.\n",
        " **Important: If we use variable transformations, we need to be careful when inputting a different dataset, because these transformations will not exists in the new dataset. This is why creating the transformations using panda/numpy in the pandas dataframe and then passing it to biogeme is the recommended approach.**\n"
      ]
    },
    {
      "cell_type": "markdown",
      "metadata": {
        "id": "0QGaGort9qf4"
      },
      "source": [
        "## Calculating choice probabilities\n",
        "\n",
        "The first example is to get the choice probabilities.\n",
        "We start with the expressions from the utility functions and we need to tranform them into expressions for choice probabilities. The way to do this is\n",
        "to apply the mutinomial logit 'squashing function'. We indicate this in biogeme using the `models.logit` function. The `models.logit` function requies the dictionary for the utilities espressions `V`, the availabilities dictionary. We need to create one `models.logit` for each alternative, and we indicate that with the number that indentifies the alternatives in the database, so 1 for train, 2 for swissmetro and 3 for car."
      ]
    },
    {
      "cell_type": "code",
      "execution_count": 23,
      "metadata": {
        "id": "UGz7cl-NR0wa"
      },
      "outputs": [],
      "source": [
        "prob_train = models.logit(V, av, 1)\n",
        "prob_SM = models.logit(V, av, 2)\n",
        "prob_car = models.logit(V, av, 3)"
      ]
    },
    {
      "cell_type": "markdown",
      "metadata": {
        "id": "6-u7-f6I_pab"
      },
      "source": [
        "Next we need to assemble all the `models.logit` into one dictionary, we name the outputs properly to know what is being calculated."
      ]
    },
    {
      "cell_type": "code",
      "execution_count": null,
      "metadata": {
        "id": "u--HilQK-TKz"
      },
      "outputs": [],
      "source": [
        "\n",
        "targets_to_simulate ={'Prob. train':  prob_train ,\n",
        "                      'Prob. SM':  prob_SM ,\n",
        "           'Prob. car': prob_car }\n"
      ]
    },
    {
      "cell_type": "markdown",
      "metadata": {
        "id": "s0fdoj0b_40F"
      },
      "source": [
        "The we create the biogeme object with the dataset we want to calculate the predictions on and the dictionary for the expressions of choice probabilities."
      ]
    },
    {
      "cell_type": "code",
      "execution_count": null,
      "metadata": {
        "colab": {
          "base_uri": "https://localhost:8080/"
        },
        "id": "m1hQnknT_3I6",
        "outputId": "c7bb37a2-76e4-434d-8694-8b9f741bcfef"
      },
      "outputs": [
        {
          "name": "stdout",
          "output_type": "stream",
          "text": [
            "[04:45:39] < Warning >   The chosen alternative [`3.0`] is not available for the following observations (rownumber[choice]): 9[3.0]-10[3.0]-11[3.0]-12[3.0]-13[3.0]-14[3.0]-15[3.0]-16[3.0]-17[3.0]-36[3.0]-37[3.0]-38[3.0]-39[3....\n"
          ]
        }
      ],
      "source": [
        "\n",
        "bgm_pred_model = bio.BIOGEME(bgm_swissmetro, targets_to_simulate)\n",
        "bgm_pred_model.modelName = \"swissmetro_logit_test\"\n"
      ]
    },
    {
      "cell_type": "markdown",
      "metadata": {
        "id": "e__kLvBdUWvN"
      },
      "source": [
        "Finally we pass to the predictive biogeme object the coefficients estimated from the other model, in the `results` object in our example. We show the choice probabilities predicted by the model."
      ]
    },
    {
      "cell_type": "code",
      "execution_count": null,
      "metadata": {
        "colab": {
          "base_uri": "https://localhost:8080/"
        },
        "id": "v9JwqaV7UUAW",
        "outputId": "c6fdfbab-a48a-4977-e0f0-1d50c4fa52c3"
      },
      "outputs": [
        {
          "name": "stdout",
          "output_type": "stream",
          "text": [
            "[04:45:40] < Warning >   The chosen alternative [`3.0`] is not available for the following observations (rownumber[choice]): 9[3.0]-10[3.0]-11[3.0]-12[3.0]-13[3.0]-14[3.0]-15[3.0]-16[3.0]-17[3.0]-36[3.0]-37[3.0]-38[3.0]-39[3....\n",
            "   Prob. train  Prob. SM  Prob. car\n",
            "0     0.111749  0.589939   0.298313\n",
            "1     0.123875  0.618950   0.257175\n",
            "2     0.093167  0.563247   0.343585\n",
            "3     0.101788  0.452283   0.445928\n",
            "4     0.088171  0.577315   0.334515\n"
          ]
        }
      ],
      "source": [
        "\n",
        "betaValues = results.getBetaValues()\n",
        "simulatedValues = bgm_pred_model.simulate(betaValues)\n",
        "print(simulatedValues.head(5))"
      ]
    },
    {
      "cell_type": "markdown",
      "metadata": {
        "id": "QL6EjA-6q_kW"
      },
      "source": [
        "## The average of the predictions, or 'market share'"
      ]
    },
    {
      "cell_type": "code",
      "execution_count": null,
      "metadata": {
        "colab": {
          "base_uri": "https://localhost:8080/"
        },
        "id": "Mf9e2E3tkz21",
        "outputId": "a339fc58-4e4a-4058-d136-36a5ddd0723a"
      },
      "outputs": [
        {
          "data": {
            "text/plain": [
              "Prob. train    0.08613\n",
              "Prob. SM       0.58499\n",
              "Prob. car      0.32888\n",
              "dtype: float64"
            ]
          },
          "execution_count": 26,
          "metadata": {},
          "output_type": "execute_result"
        }
      ],
      "source": [
        "simulatedValues.mean(axis=0)"
      ]
    },
    {
      "cell_type": "markdown",
      "metadata": {
        "id": "L2OUWhTxktU9"
      },
      "source": [
        "## Prediction for the Average Individual\n",
        "\n",
        "We will highlight that the prediction for the 'average individual' is different from the average of the predictions for all individuals."
      ]
    },
    {
      "cell_type": "code",
      "execution_count": null,
      "metadata": {
        "colab": {
          "base_uri": "https://localhost:8080/"
        },
        "id": "Cf8L8Zfrnge3",
        "outputId": "486ec36d-1040-466d-a0ea-6970039d0e2f"
      },
      "outputs": [
        {
          "name": "stdout",
          "output_type": "stream",
          "text": [
            "   Prob. train  Prob. SM  Prob. car\n",
            "0     0.073192  0.527981   0.398827\n"
          ]
        }
      ],
      "source": [
        "indiv_swismetro = swissmetro[(swissmetro['CHOICE']!=0) & (swissmetro['GA']!=1)].mean(axis=0).to_frame().T\n",
        "\n",
        "bgm_avg_indiv = db.Database('avg_indiv', indiv_swismetro)\n",
        "\n",
        "bgm_pred_indiv = bio.BIOGEME(bgm_avg_indiv, targets_to_simulate)\n",
        "bgm_pred_indiv.modelName = \"indiv_swissmetro_logit_test\"\n",
        "indiv_simulatedValues = bgm_pred_indiv.simulate(betaValues)\n",
        "print(indiv_simulatedValues.head())"
      ]
    },
    {
      "cell_type": "markdown",
      "metadata": {
        "id": "PR-9QqyHuHjT"
      },
      "source": [
        "## Calculating utilities\n",
        "\n",
        "The utility functions can be recovered from the  python\n",
        "dictionary that was used to specify the expressions for each, the `V` object in our example.\n",
        "\n",
        "So we will do everythin in one line, creating the biogeme object for the predictions, and the computing the utilities.\n"
      ]
    },
    {
      "cell_type": "code",
      "execution_count": null,
      "metadata": {
        "colab": {
          "base_uri": "https://localhost:8080/",
          "height": 206
        },
        "id": "Vv4lXVsWngX1",
        "outputId": "da7134bd-df4a-49b3-a847-703749b313cc"
      },
      "outputs": [
        {
          "data": {
            "text/html": [
              "\n",
              "  <div id=\"df-6a64b7db-c932-464c-b41f-ed772a133e40\">\n",
              "    <div class=\"colab-df-container\">\n",
              "      <div>\n",
              "<style scoped>\n",
              "    .dataframe tbody tr th:only-of-type {\n",
              "        vertical-align: middle;\n",
              "    }\n",
              "\n",
              "    .dataframe tbody tr th {\n",
              "        vertical-align: top;\n",
              "    }\n",
              "\n",
              "    .dataframe thead th {\n",
              "        text-align: right;\n",
              "    }\n",
              "</style>\n",
              "<table border=\"1\" class=\"dataframe\">\n",
              "  <thead>\n",
              "    <tr style=\"text-align: right;\">\n",
              "      <th></th>\n",
              "      <th>1</th>\n",
              "      <th>2</th>\n",
              "      <th>3</th>\n",
              "    </tr>\n",
              "  </thead>\n",
              "  <tbody>\n",
              "    <tr>\n",
              "      <th>0</th>\n",
              "      <td>-2.841488</td>\n",
              "      <td>-1.177720</td>\n",
              "      <td>-1.859596</td>\n",
              "    </tr>\n",
              "    <tr>\n",
              "      <th>1</th>\n",
              "      <td>-2.726628</td>\n",
              "      <td>-1.117874</td>\n",
              "      <td>-1.996140</td>\n",
              "    </tr>\n",
              "    <tr>\n",
              "      <th>2</th>\n",
              "      <td>-3.071208</td>\n",
              "      <td>-1.271888</td>\n",
              "      <td>-1.766171</td>\n",
              "    </tr>\n",
              "    <tr>\n",
              "      <th>3</th>\n",
              "      <td>-2.669136</td>\n",
              "      <td>-1.177720</td>\n",
              "      <td>-1.191871</td>\n",
              "    </tr>\n",
              "    <tr>\n",
              "      <th>4</th>\n",
              "      <td>-2.984969</td>\n",
              "      <td>-1.105855</td>\n",
              "      <td>-1.651560</td>\n",
              "    </tr>\n",
              "  </tbody>\n",
              "</table>\n",
              "</div>\n",
              "      <button class=\"colab-df-convert\" onclick=\"convertToInteractive('df-6a64b7db-c932-464c-b41f-ed772a133e40')\"\n",
              "              title=\"Convert this dataframe to an interactive table.\"\n",
              "              style=\"display:none;\">\n",
              "        \n",
              "  <svg xmlns=\"http://www.w3.org/2000/svg\" height=\"24px\"viewBox=\"0 0 24 24\"\n",
              "       width=\"24px\">\n",
              "    <path d=\"M0 0h24v24H0V0z\" fill=\"none\"/>\n",
              "    <path d=\"M18.56 5.44l.94 2.06.94-2.06 2.06-.94-2.06-.94-.94-2.06-.94 2.06-2.06.94zm-11 1L8.5 8.5l.94-2.06 2.06-.94-2.06-.94L8.5 2.5l-.94 2.06-2.06.94zm10 10l.94 2.06.94-2.06 2.06-.94-2.06-.94-.94-2.06-.94 2.06-2.06.94z\"/><path d=\"M17.41 7.96l-1.37-1.37c-.4-.4-.92-.59-1.43-.59-.52 0-1.04.2-1.43.59L10.3 9.45l-7.72 7.72c-.78.78-.78 2.05 0 2.83L4 21.41c.39.39.9.59 1.41.59.51 0 1.02-.2 1.41-.59l7.78-7.78 2.81-2.81c.8-.78.8-2.07 0-2.86zM5.41 20L4 18.59l7.72-7.72 1.47 1.35L5.41 20z\"/>\n",
              "  </svg>\n",
              "      </button>\n",
              "      \n",
              "  <style>\n",
              "    .colab-df-container {\n",
              "      display:flex;\n",
              "      flex-wrap:wrap;\n",
              "      gap: 12px;\n",
              "    }\n",
              "\n",
              "    .colab-df-convert {\n",
              "      background-color: #E8F0FE;\n",
              "      border: none;\n",
              "      border-radius: 50%;\n",
              "      cursor: pointer;\n",
              "      display: none;\n",
              "      fill: #1967D2;\n",
              "      height: 32px;\n",
              "      padding: 0 0 0 0;\n",
              "      width: 32px;\n",
              "    }\n",
              "\n",
              "    .colab-df-convert:hover {\n",
              "      background-color: #E2EBFA;\n",
              "      box-shadow: 0px 1px 2px rgba(60, 64, 67, 0.3), 0px 1px 3px 1px rgba(60, 64, 67, 0.15);\n",
              "      fill: #174EA6;\n",
              "    }\n",
              "\n",
              "    [theme=dark] .colab-df-convert {\n",
              "      background-color: #3B4455;\n",
              "      fill: #D2E3FC;\n",
              "    }\n",
              "\n",
              "    [theme=dark] .colab-df-convert:hover {\n",
              "      background-color: #434B5C;\n",
              "      box-shadow: 0px 1px 3px 1px rgba(0, 0, 0, 0.15);\n",
              "      filter: drop-shadow(0px 1px 2px rgba(0, 0, 0, 0.3));\n",
              "      fill: #FFFFFF;\n",
              "    }\n",
              "  </style>\n",
              "\n",
              "      <script>\n",
              "        const buttonEl =\n",
              "          document.querySelector('#df-6a64b7db-c932-464c-b41f-ed772a133e40 button.colab-df-convert');\n",
              "        buttonEl.style.display =\n",
              "          google.colab.kernel.accessAllowed ? 'block' : 'none';\n",
              "\n",
              "        async function convertToInteractive(key) {\n",
              "          const element = document.querySelector('#df-6a64b7db-c932-464c-b41f-ed772a133e40');\n",
              "          const dataTable =\n",
              "            await google.colab.kernel.invokeFunction('convertToInteractive',\n",
              "                                                     [key], {});\n",
              "          if (!dataTable) return;\n",
              "\n",
              "          const docLinkHtml = 'Like what you see? Visit the ' +\n",
              "            '<a target=\"_blank\" href=https://colab.research.google.com/notebooks/data_table.ipynb>data table notebook</a>'\n",
              "            + ' to learn more about interactive tables.';\n",
              "          element.innerHTML = '';\n",
              "          dataTable['output_type'] = 'display_data';\n",
              "          await google.colab.output.renderOutput(dataTable, element);\n",
              "          const docLink = document.createElement('div');\n",
              "          docLink.innerHTML = docLinkHtml;\n",
              "          element.appendChild(docLink);\n",
              "        }\n",
              "      </script>\n",
              "    </div>\n",
              "  </div>\n",
              "  "
            ],
            "text/plain": [
              "          1         2         3\n",
              "0 -2.841488 -1.177720 -1.859596\n",
              "1 -2.726628 -1.117874 -1.996140\n",
              "2 -3.071208 -1.271888 -1.766171\n",
              "3 -2.669136 -1.177720 -1.191871\n",
              "4 -2.984969 -1.105855 -1.651560"
            ]
          },
          "execution_count": 28,
          "metadata": {},
          "output_type": "execute_result"
        }
      ],
      "source": [
        "Vpred = bio.BIOGEME(bgm_swissmetro, V).simulate(betaValues)\n",
        "Vpred.head()"
      ]
    },
    {
      "cell_type": "markdown",
      "metadata": {
        "id": "qmlggeJxCmt4"
      },
      "source": [
        "What simulate is doing is just computing the expression for the utilities, here is a manual way of computing the utility for the car alernative in the first row of the dataset. It should coincide with previous result."
      ]
    },
    {
      "cell_type": "code",
      "execution_count": null,
      "metadata": {
        "colab": {
          "base_uri": "https://localhost:8080/"
        },
        "id": "-UzDM2x-56NK",
        "outputId": "9682a02b-e8d3-48e0-ec4a-d31b5e020dab"
      },
      "outputs": [
        {
          "data": {
            "text/plain": [
              "-1.859596182877385"
            ]
          },
          "execution_count": 29,
          "metadata": {},
          "output_type": "execute_result"
        }
      ],
      "source": [
        "swissmetro['CAR_CO'][0]*betaValues['B_COST'] + swissmetro['CAR_TT'][0]*betaValues['B_TIME'] + (swissmetro['LUGGAGE'][0]**2) *betaValues['B_LUGGA_SQ']  + betaValues['ASC_CAR']\n"
      ]
    },
    {
      "cell_type": "markdown",
      "metadata": {
        "id": "er_yl83nAsdF"
      },
      "source": [
        "Finally we check that everything is correct, we can compute manually the choice proabilities from the utilities by applying the multinomal logit squashing manually using numpy. We should ge the choice probabilies as computed using the `model.logit` expressions in `biogeme.simulate()`.\n",
        "\n",
        "So next cell is computing the multinomial logit squashing $ \\frac{e^V_j}{\\sum_{k=1}^{J}{e^V_k}}$ for each row"
      ]
    },
    {
      "cell_type": "code",
      "execution_count": null,
      "metadata": {
        "colab": {
          "base_uri": "https://localhost:8080/",
          "height": 424
        },
        "id": "tQhyh35smL1v",
        "outputId": "efdc8e88-adf3-49db-a04d-28de1a316dfc"
      },
      "outputs": [
        {
          "data": {
            "text/html": [
              "\n",
              "  <div id=\"df-3e55094d-6a8b-4981-b912-5e25b233659b\">\n",
              "    <div class=\"colab-df-container\">\n",
              "      <div>\n",
              "<style scoped>\n",
              "    .dataframe tbody tr th:only-of-type {\n",
              "        vertical-align: middle;\n",
              "    }\n",
              "\n",
              "    .dataframe tbody tr th {\n",
              "        vertical-align: top;\n",
              "    }\n",
              "\n",
              "    .dataframe thead th {\n",
              "        text-align: right;\n",
              "    }\n",
              "</style>\n",
              "<table border=\"1\" class=\"dataframe\">\n",
              "  <thead>\n",
              "    <tr style=\"text-align: right;\">\n",
              "      <th></th>\n",
              "      <th>1</th>\n",
              "      <th>2</th>\n",
              "      <th>3</th>\n",
              "    </tr>\n",
              "  </thead>\n",
              "  <tbody>\n",
              "    <tr>\n",
              "      <th>0</th>\n",
              "      <td>0.111749</td>\n",
              "      <td>0.589939</td>\n",
              "      <td>0.298313</td>\n",
              "    </tr>\n",
              "    <tr>\n",
              "      <th>1</th>\n",
              "      <td>0.123875</td>\n",
              "      <td>0.618950</td>\n",
              "      <td>0.257175</td>\n",
              "    </tr>\n",
              "    <tr>\n",
              "      <th>2</th>\n",
              "      <td>0.093167</td>\n",
              "      <td>0.563247</td>\n",
              "      <td>0.343585</td>\n",
              "    </tr>\n",
              "    <tr>\n",
              "      <th>3</th>\n",
              "      <td>0.101788</td>\n",
              "      <td>0.452283</td>\n",
              "      <td>0.445928</td>\n",
              "    </tr>\n",
              "    <tr>\n",
              "      <th>4</th>\n",
              "      <td>0.088171</td>\n",
              "      <td>0.577315</td>\n",
              "      <td>0.334515</td>\n",
              "    </tr>\n",
              "    <tr>\n",
              "      <th>...</th>\n",
              "      <td>...</td>\n",
              "      <td>...</td>\n",
              "      <td>...</td>\n",
              "    </tr>\n",
              "    <tr>\n",
              "      <th>10723</th>\n",
              "      <td>0.113242</td>\n",
              "      <td>0.645399</td>\n",
              "      <td>0.241358</td>\n",
              "    </tr>\n",
              "    <tr>\n",
              "      <th>10724</th>\n",
              "      <td>0.094336</td>\n",
              "      <td>0.517452</td>\n",
              "      <td>0.388212</td>\n",
              "    </tr>\n",
              "    <tr>\n",
              "      <th>10725</th>\n",
              "      <td>0.086588</td>\n",
              "      <td>0.507879</td>\n",
              "      <td>0.405534</td>\n",
              "    </tr>\n",
              "    <tr>\n",
              "      <th>10726</th>\n",
              "      <td>0.068681</td>\n",
              "      <td>0.564505</td>\n",
              "      <td>0.366814</td>\n",
              "    </tr>\n",
              "    <tr>\n",
              "      <th>10727</th>\n",
              "      <td>0.106597</td>\n",
              "      <td>0.568138</td>\n",
              "      <td>0.325265</td>\n",
              "    </tr>\n",
              "  </tbody>\n",
              "</table>\n",
              "<p>9207 rows × 3 columns</p>\n",
              "</div>\n",
              "      <button class=\"colab-df-convert\" onclick=\"convertToInteractive('df-3e55094d-6a8b-4981-b912-5e25b233659b')\"\n",
              "              title=\"Convert this dataframe to an interactive table.\"\n",
              "              style=\"display:none;\">\n",
              "        \n",
              "  <svg xmlns=\"http://www.w3.org/2000/svg\" height=\"24px\"viewBox=\"0 0 24 24\"\n",
              "       width=\"24px\">\n",
              "    <path d=\"M0 0h24v24H0V0z\" fill=\"none\"/>\n",
              "    <path d=\"M18.56 5.44l.94 2.06.94-2.06 2.06-.94-2.06-.94-.94-2.06-.94 2.06-2.06.94zm-11 1L8.5 8.5l.94-2.06 2.06-.94-2.06-.94L8.5 2.5l-.94 2.06-2.06.94zm10 10l.94 2.06.94-2.06 2.06-.94-2.06-.94-.94-2.06-.94 2.06-2.06.94z\"/><path d=\"M17.41 7.96l-1.37-1.37c-.4-.4-.92-.59-1.43-.59-.52 0-1.04.2-1.43.59L10.3 9.45l-7.72 7.72c-.78.78-.78 2.05 0 2.83L4 21.41c.39.39.9.59 1.41.59.51 0 1.02-.2 1.41-.59l7.78-7.78 2.81-2.81c.8-.78.8-2.07 0-2.86zM5.41 20L4 18.59l7.72-7.72 1.47 1.35L5.41 20z\"/>\n",
              "  </svg>\n",
              "      </button>\n",
              "      \n",
              "  <style>\n",
              "    .colab-df-container {\n",
              "      display:flex;\n",
              "      flex-wrap:wrap;\n",
              "      gap: 12px;\n",
              "    }\n",
              "\n",
              "    .colab-df-convert {\n",
              "      background-color: #E8F0FE;\n",
              "      border: none;\n",
              "      border-radius: 50%;\n",
              "      cursor: pointer;\n",
              "      display: none;\n",
              "      fill: #1967D2;\n",
              "      height: 32px;\n",
              "      padding: 0 0 0 0;\n",
              "      width: 32px;\n",
              "    }\n",
              "\n",
              "    .colab-df-convert:hover {\n",
              "      background-color: #E2EBFA;\n",
              "      box-shadow: 0px 1px 2px rgba(60, 64, 67, 0.3), 0px 1px 3px 1px rgba(60, 64, 67, 0.15);\n",
              "      fill: #174EA6;\n",
              "    }\n",
              "\n",
              "    [theme=dark] .colab-df-convert {\n",
              "      background-color: #3B4455;\n",
              "      fill: #D2E3FC;\n",
              "    }\n",
              "\n",
              "    [theme=dark] .colab-df-convert:hover {\n",
              "      background-color: #434B5C;\n",
              "      box-shadow: 0px 1px 3px 1px rgba(0, 0, 0, 0.15);\n",
              "      filter: drop-shadow(0px 1px 2px rgba(0, 0, 0, 0.3));\n",
              "      fill: #FFFFFF;\n",
              "    }\n",
              "  </style>\n",
              "\n",
              "      <script>\n",
              "        const buttonEl =\n",
              "          document.querySelector('#df-3e55094d-6a8b-4981-b912-5e25b233659b button.colab-df-convert');\n",
              "        buttonEl.style.display =\n",
              "          google.colab.kernel.accessAllowed ? 'block' : 'none';\n",
              "\n",
              "        async function convertToInteractive(key) {\n",
              "          const element = document.querySelector('#df-3e55094d-6a8b-4981-b912-5e25b233659b');\n",
              "          const dataTable =\n",
              "            await google.colab.kernel.invokeFunction('convertToInteractive',\n",
              "                                                     [key], {});\n",
              "          if (!dataTable) return;\n",
              "\n",
              "          const docLinkHtml = 'Like what you see? Visit the ' +\n",
              "            '<a target=\"_blank\" href=https://colab.research.google.com/notebooks/data_table.ipynb>data table notebook</a>'\n",
              "            + ' to learn more about interactive tables.';\n",
              "          element.innerHTML = '';\n",
              "          dataTable['output_type'] = 'display_data';\n",
              "          await google.colab.output.renderOutput(dataTable, element);\n",
              "          const docLink = document.createElement('div');\n",
              "          docLink.innerHTML = docLinkHtml;\n",
              "          element.appendChild(docLink);\n",
              "        }\n",
              "      </script>\n",
              "    </div>\n",
              "  </div>\n",
              "  "
            ],
            "text/plain": [
              "              1         2         3\n",
              "0      0.111749  0.589939  0.298313\n",
              "1      0.123875  0.618950  0.257175\n",
              "2      0.093167  0.563247  0.343585\n",
              "3      0.101788  0.452283  0.445928\n",
              "4      0.088171  0.577315  0.334515\n",
              "...         ...       ...       ...\n",
              "10723  0.113242  0.645399  0.241358\n",
              "10724  0.094336  0.517452  0.388212\n",
              "10725  0.086588  0.507879  0.405534\n",
              "10726  0.068681  0.564505  0.366814\n",
              "10727  0.106597  0.568138  0.325265\n",
              "\n",
              "[9207 rows x 3 columns]"
            ]
          },
          "execution_count": 30,
          "metadata": {},
          "output_type": "execute_result"
        }
      ],
      "source": [
        "expV = np.exp(Vpred)\n",
        "expV / expV.sum(axis=1).to_numpy()[:, np.newaxis]"
      ]
    },
    {
      "cell_type": "markdown",
      "metadata": {
        "id": "UEPgCo04DBO_"
      },
      "source": [
        "# What-if scenarios\n",
        "\n",
        "Most of the what-if scenarios can be recovered by manipulating the dataset that is passed to simulate.\n",
        "\n",
        "## Calculating Willingess to pay as a what-if scenario.\n",
        "\n",
        "The definition of willingness to pay is the ratio of the derivates of the utility w.r.t a variable of interest and cost\n",
        "\n",
        "\n",
        "$$WTP_{\\text{variable of interest}} = \\frac{ \\frac{ \\partial V_{nj}} { \\partial \\text{variable of interest}} } {  \\frac{ \\partial V_{nj}} { \\partial \\text{cost}}}$$\n",
        "\n",
        "We can think of calculating the numerical derivatives as a what if scenario.\n",
        "Imagine that we want to calculate the willingness to pay for travel time. Basically, the question is, How much do utility change if the travel times increase by a very small value, relative to the change in utility if the cost increase by a very small value?\n",
        "\n",
        "This might seem as a weird what if scenario, but illustrates the power of the 'what-if' scenarios in general. Later, we will calculate a more normal scenario."
      ]
    },
    {
      "cell_type": "markdown",
      "metadata": {
        "id": "amzeTdDvKTDi"
      },
      "source": [
        "Remember that numerical derivate of function $f$ can be calculated $ \\frac{f(x + \\delta) - f(x)}{\\delta}$, for $\\delta$ a small value.\n",
        "So the derviate of utility w.r.t. cost is the scenario where the dataset is modified by adding a small value to the cost variables. We do this at the `pandas` level, recovering the dataframe inside the biogeme database (because it was modified by biogeme). The we compute the new utilities for the modified dataset"
      ]
    },
    {
      "cell_type": "code",
      "execution_count": null,
      "metadata": {
        "colab": {
          "base_uri": "https://localhost:8080/",
          "height": 206
        },
        "id": "R-VtMNYZDUIr",
        "outputId": "f67fd255-f3ba-421a-a367-28706e0204a1"
      },
      "outputs": [
        {
          "data": {
            "text/html": [
              "\n",
              "  <div id=\"df-ea0f8f5c-b553-4ec6-a627-9bf0b5fb9060\">\n",
              "    <div class=\"colab-df-container\">\n",
              "      <div>\n",
              "<style scoped>\n",
              "    .dataframe tbody tr th:only-of-type {\n",
              "        vertical-align: middle;\n",
              "    }\n",
              "\n",
              "    .dataframe tbody tr th {\n",
              "        vertical-align: top;\n",
              "    }\n",
              "\n",
              "    .dataframe thead th {\n",
              "        text-align: right;\n",
              "    }\n",
              "</style>\n",
              "<table border=\"1\" class=\"dataframe\">\n",
              "  <thead>\n",
              "    <tr style=\"text-align: right;\">\n",
              "      <th></th>\n",
              "      <th>1</th>\n",
              "      <th>2</th>\n",
              "      <th>3</th>\n",
              "    </tr>\n",
              "  </thead>\n",
              "  <tbody>\n",
              "    <tr>\n",
              "      <th>0</th>\n",
              "      <td>-2.841495</td>\n",
              "      <td>-1.177727</td>\n",
              "      <td>-1.859603</td>\n",
              "    </tr>\n",
              "    <tr>\n",
              "      <th>1</th>\n",
              "      <td>-2.726635</td>\n",
              "      <td>-1.117881</td>\n",
              "      <td>-1.996148</td>\n",
              "    </tr>\n",
              "    <tr>\n",
              "      <th>2</th>\n",
              "      <td>-3.071215</td>\n",
              "      <td>-1.271896</td>\n",
              "      <td>-1.766178</td>\n",
              "    </tr>\n",
              "    <tr>\n",
              "      <th>3</th>\n",
              "      <td>-2.669143</td>\n",
              "      <td>-1.177727</td>\n",
              "      <td>-1.191878</td>\n",
              "    </tr>\n",
              "    <tr>\n",
              "      <th>4</th>\n",
              "      <td>-2.984977</td>\n",
              "      <td>-1.105862</td>\n",
              "      <td>-1.651568</td>\n",
              "    </tr>\n",
              "  </tbody>\n",
              "</table>\n",
              "</div>\n",
              "      <button class=\"colab-df-convert\" onclick=\"convertToInteractive('df-ea0f8f5c-b553-4ec6-a627-9bf0b5fb9060')\"\n",
              "              title=\"Convert this dataframe to an interactive table.\"\n",
              "              style=\"display:none;\">\n",
              "        \n",
              "  <svg xmlns=\"http://www.w3.org/2000/svg\" height=\"24px\"viewBox=\"0 0 24 24\"\n",
              "       width=\"24px\">\n",
              "    <path d=\"M0 0h24v24H0V0z\" fill=\"none\"/>\n",
              "    <path d=\"M18.56 5.44l.94 2.06.94-2.06 2.06-.94-2.06-.94-.94-2.06-.94 2.06-2.06.94zm-11 1L8.5 8.5l.94-2.06 2.06-.94-2.06-.94L8.5 2.5l-.94 2.06-2.06.94zm10 10l.94 2.06.94-2.06 2.06-.94-2.06-.94-.94-2.06-.94 2.06-2.06.94z\"/><path d=\"M17.41 7.96l-1.37-1.37c-.4-.4-.92-.59-1.43-.59-.52 0-1.04.2-1.43.59L10.3 9.45l-7.72 7.72c-.78.78-.78 2.05 0 2.83L4 21.41c.39.39.9.59 1.41.59.51 0 1.02-.2 1.41-.59l7.78-7.78 2.81-2.81c.8-.78.8-2.07 0-2.86zM5.41 20L4 18.59l7.72-7.72 1.47 1.35L5.41 20z\"/>\n",
              "  </svg>\n",
              "      </button>\n",
              "      \n",
              "  <style>\n",
              "    .colab-df-container {\n",
              "      display:flex;\n",
              "      flex-wrap:wrap;\n",
              "      gap: 12px;\n",
              "    }\n",
              "\n",
              "    .colab-df-convert {\n",
              "      background-color: #E8F0FE;\n",
              "      border: none;\n",
              "      border-radius: 50%;\n",
              "      cursor: pointer;\n",
              "      display: none;\n",
              "      fill: #1967D2;\n",
              "      height: 32px;\n",
              "      padding: 0 0 0 0;\n",
              "      width: 32px;\n",
              "    }\n",
              "\n",
              "    .colab-df-convert:hover {\n",
              "      background-color: #E2EBFA;\n",
              "      box-shadow: 0px 1px 2px rgba(60, 64, 67, 0.3), 0px 1px 3px 1px rgba(60, 64, 67, 0.15);\n",
              "      fill: #174EA6;\n",
              "    }\n",
              "\n",
              "    [theme=dark] .colab-df-convert {\n",
              "      background-color: #3B4455;\n",
              "      fill: #D2E3FC;\n",
              "    }\n",
              "\n",
              "    [theme=dark] .colab-df-convert:hover {\n",
              "      background-color: #434B5C;\n",
              "      box-shadow: 0px 1px 3px 1px rgba(0, 0, 0, 0.15);\n",
              "      filter: drop-shadow(0px 1px 2px rgba(0, 0, 0, 0.3));\n",
              "      fill: #FFFFFF;\n",
              "    }\n",
              "  </style>\n",
              "\n",
              "      <script>\n",
              "        const buttonEl =\n",
              "          document.querySelector('#df-ea0f8f5c-b553-4ec6-a627-9bf0b5fb9060 button.colab-df-convert');\n",
              "        buttonEl.style.display =\n",
              "          google.colab.kernel.accessAllowed ? 'block' : 'none';\n",
              "\n",
              "        async function convertToInteractive(key) {\n",
              "          const element = document.querySelector('#df-ea0f8f5c-b553-4ec6-a627-9bf0b5fb9060');\n",
              "          const dataTable =\n",
              "            await google.colab.kernel.invokeFunction('convertToInteractive',\n",
              "                                                     [key], {});\n",
              "          if (!dataTable) return;\n",
              "\n",
              "          const docLinkHtml = 'Like what you see? Visit the ' +\n",
              "            '<a target=\"_blank\" href=https://colab.research.google.com/notebooks/data_table.ipynb>data table notebook</a>'\n",
              "            + ' to learn more about interactive tables.';\n",
              "          element.innerHTML = '';\n",
              "          dataTable['output_type'] = 'display_data';\n",
              "          await google.colab.output.renderOutput(dataTable, element);\n",
              "          const docLink = document.createElement('div');\n",
              "          docLink.innerHTML = docLinkHtml;\n",
              "          element.appendChild(docLink);\n",
              "        }\n",
              "      </script>\n",
              "    </div>\n",
              "  </div>\n",
              "  "
            ],
            "text/plain": [
              "          1         2         3\n",
              "0 -2.841495 -1.177727 -1.859603\n",
              "1 -2.726635 -1.117881 -1.996148\n",
              "2 -3.071215 -1.271896 -1.766178\n",
              "3 -2.669143 -1.177727 -1.191878\n",
              "4 -2.984977 -1.105862 -1.651568"
            ]
          },
          "execution_count": 31,
          "metadata": {},
          "output_type": "execute_result"
        }
      ],
      "source": [
        "delta = 0.001\n",
        "swissmetro_deltacost = bgm_swissmetro.data.copy()\n",
        "swissmetro_deltacost[ ['TRAIN_CO', 'SM_CO', 'CAR_CO'] ] += delta\n",
        "swissmetro_deltacost = db.Database('swissmetro_deltacost', swissmetro_deltacost)\n",
        "\n",
        "Vpred_deltacost = bio.BIOGEME( swissmetro_deltacost, V).simulate(betaValues)\n",
        "Vpred_deltacost.head()"
      ]
    },
    {
      "cell_type": "markdown",
      "metadata": {
        "id": "hj_nT9dNLXen"
      },
      "source": [
        "We have to do the same for travel time, and be carefull not to modify the wrong dataset!"
      ]
    },
    {
      "cell_type": "code",
      "execution_count": null,
      "metadata": {
        "colab": {
          "base_uri": "https://localhost:8080/",
          "height": 206
        },
        "id": "SbkLmylyE8nn",
        "outputId": "d9042e8f-b20b-4be9-c16e-c51f98a1d086"
      },
      "outputs": [
        {
          "data": {
            "text/html": [
              "\n",
              "  <div id=\"df-868ae2a4-815b-42b1-8cf9-64877f875f77\">\n",
              "    <div class=\"colab-df-container\">\n",
              "      <div>\n",
              "<style scoped>\n",
              "    .dataframe tbody tr th:only-of-type {\n",
              "        vertical-align: middle;\n",
              "    }\n",
              "\n",
              "    .dataframe tbody tr th {\n",
              "        vertical-align: top;\n",
              "    }\n",
              "\n",
              "    .dataframe thead th {\n",
              "        text-align: right;\n",
              "    }\n",
              "</style>\n",
              "<table border=\"1\" class=\"dataframe\">\n",
              "  <thead>\n",
              "    <tr style=\"text-align: right;\">\n",
              "      <th></th>\n",
              "      <th>1</th>\n",
              "      <th>2</th>\n",
              "      <th>3</th>\n",
              "    </tr>\n",
              "  </thead>\n",
              "  <tbody>\n",
              "    <tr>\n",
              "      <th>0</th>\n",
              "      <td>-2.841501</td>\n",
              "      <td>-1.177733</td>\n",
              "      <td>-1.859609</td>\n",
              "    </tr>\n",
              "    <tr>\n",
              "      <th>1</th>\n",
              "      <td>-2.726641</td>\n",
              "      <td>-1.117887</td>\n",
              "      <td>-1.996153</td>\n",
              "    </tr>\n",
              "    <tr>\n",
              "      <th>2</th>\n",
              "      <td>-3.071221</td>\n",
              "      <td>-1.271901</td>\n",
              "      <td>-1.766184</td>\n",
              "    </tr>\n",
              "    <tr>\n",
              "      <th>3</th>\n",
              "      <td>-2.669148</td>\n",
              "      <td>-1.177733</td>\n",
              "      <td>-1.191884</td>\n",
              "    </tr>\n",
              "    <tr>\n",
              "      <th>4</th>\n",
              "      <td>-2.984982</td>\n",
              "      <td>-1.105868</td>\n",
              "      <td>-1.651573</td>\n",
              "    </tr>\n",
              "  </tbody>\n",
              "</table>\n",
              "</div>\n",
              "      <button class=\"colab-df-convert\" onclick=\"convertToInteractive('df-868ae2a4-815b-42b1-8cf9-64877f875f77')\"\n",
              "              title=\"Convert this dataframe to an interactive table.\"\n",
              "              style=\"display:none;\">\n",
              "        \n",
              "  <svg xmlns=\"http://www.w3.org/2000/svg\" height=\"24px\"viewBox=\"0 0 24 24\"\n",
              "       width=\"24px\">\n",
              "    <path d=\"M0 0h24v24H0V0z\" fill=\"none\"/>\n",
              "    <path d=\"M18.56 5.44l.94 2.06.94-2.06 2.06-.94-2.06-.94-.94-2.06-.94 2.06-2.06.94zm-11 1L8.5 8.5l.94-2.06 2.06-.94-2.06-.94L8.5 2.5l-.94 2.06-2.06.94zm10 10l.94 2.06.94-2.06 2.06-.94-2.06-.94-.94-2.06-.94 2.06-2.06.94z\"/><path d=\"M17.41 7.96l-1.37-1.37c-.4-.4-.92-.59-1.43-.59-.52 0-1.04.2-1.43.59L10.3 9.45l-7.72 7.72c-.78.78-.78 2.05 0 2.83L4 21.41c.39.39.9.59 1.41.59.51 0 1.02-.2 1.41-.59l7.78-7.78 2.81-2.81c.8-.78.8-2.07 0-2.86zM5.41 20L4 18.59l7.72-7.72 1.47 1.35L5.41 20z\"/>\n",
              "  </svg>\n",
              "      </button>\n",
              "      \n",
              "  <style>\n",
              "    .colab-df-container {\n",
              "      display:flex;\n",
              "      flex-wrap:wrap;\n",
              "      gap: 12px;\n",
              "    }\n",
              "\n",
              "    .colab-df-convert {\n",
              "      background-color: #E8F0FE;\n",
              "      border: none;\n",
              "      border-radius: 50%;\n",
              "      cursor: pointer;\n",
              "      display: none;\n",
              "      fill: #1967D2;\n",
              "      height: 32px;\n",
              "      padding: 0 0 0 0;\n",
              "      width: 32px;\n",
              "    }\n",
              "\n",
              "    .colab-df-convert:hover {\n",
              "      background-color: #E2EBFA;\n",
              "      box-shadow: 0px 1px 2px rgba(60, 64, 67, 0.3), 0px 1px 3px 1px rgba(60, 64, 67, 0.15);\n",
              "      fill: #174EA6;\n",
              "    }\n",
              "\n",
              "    [theme=dark] .colab-df-convert {\n",
              "      background-color: #3B4455;\n",
              "      fill: #D2E3FC;\n",
              "    }\n",
              "\n",
              "    [theme=dark] .colab-df-convert:hover {\n",
              "      background-color: #434B5C;\n",
              "      box-shadow: 0px 1px 3px 1px rgba(0, 0, 0, 0.15);\n",
              "      filter: drop-shadow(0px 1px 2px rgba(0, 0, 0, 0.3));\n",
              "      fill: #FFFFFF;\n",
              "    }\n",
              "  </style>\n",
              "\n",
              "      <script>\n",
              "        const buttonEl =\n",
              "          document.querySelector('#df-868ae2a4-815b-42b1-8cf9-64877f875f77 button.colab-df-convert');\n",
              "        buttonEl.style.display =\n",
              "          google.colab.kernel.accessAllowed ? 'block' : 'none';\n",
              "\n",
              "        async function convertToInteractive(key) {\n",
              "          const element = document.querySelector('#df-868ae2a4-815b-42b1-8cf9-64877f875f77');\n",
              "          const dataTable =\n",
              "            await google.colab.kernel.invokeFunction('convertToInteractive',\n",
              "                                                     [key], {});\n",
              "          if (!dataTable) return;\n",
              "\n",
              "          const docLinkHtml = 'Like what you see? Visit the ' +\n",
              "            '<a target=\"_blank\" href=https://colab.research.google.com/notebooks/data_table.ipynb>data table notebook</a>'\n",
              "            + ' to learn more about interactive tables.';\n",
              "          element.innerHTML = '';\n",
              "          dataTable['output_type'] = 'display_data';\n",
              "          await google.colab.output.renderOutput(dataTable, element);\n",
              "          const docLink = document.createElement('div');\n",
              "          docLink.innerHTML = docLinkHtml;\n",
              "          element.appendChild(docLink);\n",
              "        }\n",
              "      </script>\n",
              "    </div>\n",
              "  </div>\n",
              "  "
            ],
            "text/plain": [
              "          1         2         3\n",
              "0 -2.841501 -1.177733 -1.859609\n",
              "1 -2.726641 -1.117887 -1.996153\n",
              "2 -3.071221 -1.271901 -1.766184\n",
              "3 -2.669148 -1.177733 -1.191884\n",
              "4 -2.984982 -1.105868 -1.651573"
            ]
          },
          "execution_count": 32,
          "metadata": {},
          "output_type": "execute_result"
        }
      ],
      "source": [
        "swissmetro_deltatime = bgm_swissmetro.data.copy()\n",
        "swissmetro_deltatime[ ['TRAIN_TT', 'SM_TT', 'CAR_TT'] ] += delta\n",
        "swissmetro_deltatime = db.Database('swissmetro_deltatime', swissmetro_deltatime)\n",
        "\n",
        "Vpred_deltatime = bio.BIOGEME(swissmetro_deltatime, V).simulate(betaValues)\n",
        "Vpred_deltatime.head()"
      ]
    },
    {
      "cell_type": "markdown",
      "metadata": {
        "id": "_4_yuLzDLheQ"
      },
      "source": [
        "Finally we compute the ratio of derivaties, the division by $\\delta$ is omitted because it does not affect the result.\n",
        "We average over all individuals and alternatives in this case."
      ]
    },
    {
      "cell_type": "code",
      "execution_count": null,
      "metadata": {
        "colab": {
          "base_uri": "https://localhost:8080/"
        },
        "id": "5O9R_WTcFMRF",
        "outputId": "ee1853c3-3d47-4e37-804c-3a4ea3f0803c"
      },
      "outputs": [
        {
          "data": {
            "text/plain": [
              "1.7758507293919519"
            ]
          },
          "execution_count": 33,
          "metadata": {},
          "output_type": "execute_result"
        }
      ],
      "source": [
        "(Vpred_deltatime - Vpred).values.mean() / (Vpred_deltacost - Vpred).values.mean()\n"
      ]
    },
    {
      "cell_type": "markdown",
      "metadata": {
        "id": "vSwexiVsLtE2"
      },
      "source": [
        "The result should be very similar to the 'analytic' definintion of willingness to pay for linear utility, which is the ratio of the coefficients."
      ]
    },
    {
      "cell_type": "code",
      "execution_count": null,
      "metadata": {
        "colab": {
          "base_uri": "https://localhost:8080/"
        },
        "id": "EIuHLyqWG1yr",
        "outputId": "b8666a06-b5f0-4113-c49e-650f8c58a1df"
      },
      "outputs": [
        {
          "data": {
            "text/plain": [
              "1.7758507293933217"
            ]
          },
          "execution_count": 34,
          "metadata": {},
          "output_type": "execute_result"
        }
      ],
      "source": [
        "betaValues['B_TIME'] / betaValues['B_COST']"
      ]
    },
    {
      "cell_type": "markdown",
      "metadata": {
        "id": "O5P3UTqiMB15"
      },
      "source": [
        "## What happens to choice probabilities if there are problems in the roads?\n",
        "\n",
        "Imagine that there is a big snowfall (it is Switzerland after all). It is estimated that this will increase the travel time by car 25% (cost x1.25), and then add a flat 30 mins because of setting up the chains for the tires. What would happen to choice probabilities?\n"
      ]
    },
    {
      "cell_type": "code",
      "execution_count": null,
      "metadata": {
        "colab": {
          "base_uri": "https://localhost:8080/",
          "height": 206
        },
        "id": "ecpumThZQnpC",
        "outputId": "cf1eecc6-3f1d-46d1-fa27-a60144e2ec10"
      },
      "outputs": [
        {
          "data": {
            "text/html": [
              "\n",
              "  <div id=\"df-1890fe79-77c4-4e04-be56-d664c5ab78e4\">\n",
              "    <div class=\"colab-df-container\">\n",
              "      <div>\n",
              "<style scoped>\n",
              "    .dataframe tbody tr th:only-of-type {\n",
              "        vertical-align: middle;\n",
              "    }\n",
              "\n",
              "    .dataframe tbody tr th {\n",
              "        vertical-align: top;\n",
              "    }\n",
              "\n",
              "    .dataframe thead th {\n",
              "        text-align: right;\n",
              "    }\n",
              "</style>\n",
              "<table border=\"1\" class=\"dataframe\">\n",
              "  <thead>\n",
              "    <tr style=\"text-align: right;\">\n",
              "      <th></th>\n",
              "      <th>Value</th>\n",
              "      <th>Rob. Std err</th>\n",
              "      <th>Rob. t-test</th>\n",
              "      <th>Rob. p-value</th>\n",
              "    </tr>\n",
              "  </thead>\n",
              "  <tbody>\n",
              "    <tr>\n",
              "      <th>ASC_CAR</th>\n",
              "      <td>0.100709</td>\n",
              "      <td>0.044229</td>\n",
              "      <td>2.276990</td>\n",
              "      <td>0.022787</td>\n",
              "    </tr>\n",
              "    <tr>\n",
              "      <th>ASC_TRAIN</th>\n",
              "      <td>-1.067165</td>\n",
              "      <td>0.063921</td>\n",
              "      <td>-16.695178</td>\n",
              "      <td>0.000000</td>\n",
              "    </tr>\n",
              "    <tr>\n",
              "      <th>B_COST</th>\n",
              "      <td>-0.007187</td>\n",
              "      <td>0.000541</td>\n",
              "      <td>-13.293811</td>\n",
              "      <td>0.000000</td>\n",
              "    </tr>\n",
              "    <tr>\n",
              "      <th>B_LUGGA_SQ</th>\n",
              "      <td>-0.081683</td>\n",
              "      <td>0.022469</td>\n",
              "      <td>-3.635308</td>\n",
              "      <td>0.000278</td>\n",
              "    </tr>\n",
              "    <tr>\n",
              "      <th>B_TIME</th>\n",
              "      <td>-0.012762</td>\n",
              "      <td>0.000703</td>\n",
              "      <td>-18.160004</td>\n",
              "      <td>0.000000</td>\n",
              "    </tr>\n",
              "  </tbody>\n",
              "</table>\n",
              "</div>\n",
              "      <button class=\"colab-df-convert\" onclick=\"convertToInteractive('df-1890fe79-77c4-4e04-be56-d664c5ab78e4')\"\n",
              "              title=\"Convert this dataframe to an interactive table.\"\n",
              "              style=\"display:none;\">\n",
              "        \n",
              "  <svg xmlns=\"http://www.w3.org/2000/svg\" height=\"24px\"viewBox=\"0 0 24 24\"\n",
              "       width=\"24px\">\n",
              "    <path d=\"M0 0h24v24H0V0z\" fill=\"none\"/>\n",
              "    <path d=\"M18.56 5.44l.94 2.06.94-2.06 2.06-.94-2.06-.94-.94-2.06-.94 2.06-2.06.94zm-11 1L8.5 8.5l.94-2.06 2.06-.94-2.06-.94L8.5 2.5l-.94 2.06-2.06.94zm10 10l.94 2.06.94-2.06 2.06-.94-2.06-.94-.94-2.06-.94 2.06-2.06.94z\"/><path d=\"M17.41 7.96l-1.37-1.37c-.4-.4-.92-.59-1.43-.59-.52 0-1.04.2-1.43.59L10.3 9.45l-7.72 7.72c-.78.78-.78 2.05 0 2.83L4 21.41c.39.39.9.59 1.41.59.51 0 1.02-.2 1.41-.59l7.78-7.78 2.81-2.81c.8-.78.8-2.07 0-2.86zM5.41 20L4 18.59l7.72-7.72 1.47 1.35L5.41 20z\"/>\n",
              "  </svg>\n",
              "      </button>\n",
              "      \n",
              "  <style>\n",
              "    .colab-df-container {\n",
              "      display:flex;\n",
              "      flex-wrap:wrap;\n",
              "      gap: 12px;\n",
              "    }\n",
              "\n",
              "    .colab-df-convert {\n",
              "      background-color: #E8F0FE;\n",
              "      border: none;\n",
              "      border-radius: 50%;\n",
              "      cursor: pointer;\n",
              "      display: none;\n",
              "      fill: #1967D2;\n",
              "      height: 32px;\n",
              "      padding: 0 0 0 0;\n",
              "      width: 32px;\n",
              "    }\n",
              "\n",
              "    .colab-df-convert:hover {\n",
              "      background-color: #E2EBFA;\n",
              "      box-shadow: 0px 1px 2px rgba(60, 64, 67, 0.3), 0px 1px 3px 1px rgba(60, 64, 67, 0.15);\n",
              "      fill: #174EA6;\n",
              "    }\n",
              "\n",
              "    [theme=dark] .colab-df-convert {\n",
              "      background-color: #3B4455;\n",
              "      fill: #D2E3FC;\n",
              "    }\n",
              "\n",
              "    [theme=dark] .colab-df-convert:hover {\n",
              "      background-color: #434B5C;\n",
              "      box-shadow: 0px 1px 3px 1px rgba(0, 0, 0, 0.15);\n",
              "      filter: drop-shadow(0px 1px 2px rgba(0, 0, 0, 0.3));\n",
              "      fill: #FFFFFF;\n",
              "    }\n",
              "  </style>\n",
              "\n",
              "      <script>\n",
              "        const buttonEl =\n",
              "          document.querySelector('#df-1890fe79-77c4-4e04-be56-d664c5ab78e4 button.colab-df-convert');\n",
              "        buttonEl.style.display =\n",
              "          google.colab.kernel.accessAllowed ? 'block' : 'none';\n",
              "\n",
              "        async function convertToInteractive(key) {\n",
              "          const element = document.querySelector('#df-1890fe79-77c4-4e04-be56-d664c5ab78e4');\n",
              "          const dataTable =\n",
              "            await google.colab.kernel.invokeFunction('convertToInteractive',\n",
              "                                                     [key], {});\n",
              "          if (!dataTable) return;\n",
              "\n",
              "          const docLinkHtml = 'Like what you see? Visit the ' +\n",
              "            '<a target=\"_blank\" href=https://colab.research.google.com/notebooks/data_table.ipynb>data table notebook</a>'\n",
              "            + ' to learn more about interactive tables.';\n",
              "          element.innerHTML = '';\n",
              "          dataTable['output_type'] = 'display_data';\n",
              "          await google.colab.output.renderOutput(dataTable, element);\n",
              "          const docLink = document.createElement('div');\n",
              "          docLink.innerHTML = docLinkHtml;\n",
              "          element.appendChild(docLink);\n",
              "        }\n",
              "      </script>\n",
              "    </div>\n",
              "  </div>\n",
              "  "
            ],
            "text/plain": [
              "               Value  Rob. Std err  Rob. t-test  Rob. p-value\n",
              "ASC_CAR     0.100709      0.044229     2.276990      0.022787\n",
              "ASC_TRAIN  -1.067165      0.063921   -16.695178      0.000000\n",
              "B_COST     -0.007187      0.000541   -13.293811      0.000000\n",
              "B_LUGGA_SQ -0.081683      0.022469    -3.635308      0.000278\n",
              "B_TIME     -0.012762      0.000703   -18.160004      0.000000"
            ]
          },
          "execution_count": 35,
          "metadata": {},
          "output_type": "execute_result"
        }
      ],
      "source": [
        "results.getEstimatedParameters()"
      ]
    },
    {
      "cell_type": "code",
      "execution_count": null,
      "metadata": {
        "colab": {
          "base_uri": "https://localhost:8080/"
        },
        "id": "EJs-Zdi3MNXw",
        "outputId": "706bee39-68c8-4fb9-c222-262c661f72e0"
      },
      "outputs": [
        {
          "name": "stdout",
          "output_type": "stream",
          "text": [
            "[04:45:41] < Warning >   The chosen alternative [`3.0`] is not available for the following observations (rownumber[choice]): 9[3.0]-10[3.0]-11[3.0]-12[3.0]-13[3.0]-14[3.0]-15[3.0]-16[3.0]-17[3.0]-36[3.0]-37[3.0]-38[3.0]-39[3....\n",
            "[04:45:41] < Warning >   The chosen alternative [`3.0`] is not available for the following observations (rownumber[choice]): 9[3.0]-10[3.0]-11[3.0]-12[3.0]-13[3.0]-14[3.0]-15[3.0]-16[3.0]-17[3.0]-36[3.0]-37[3.0]-38[3.0]-39[3....\n"
          ]
        }
      ],
      "source": [
        "swissmetro_snow = bgm_swissmetro.data.copy()\n",
        "swissmetro_snow[ 'CAR_TT' ] *= 1.25\n",
        "swissmetro_snow[ 'CAR_TT' ] += 30\n",
        "\n",
        "bgm_model_snow = bio.BIOGEME(db.Database('swissmetro_snow', swissmetro_snow),\n",
        "                             targets_to_simulate)\n",
        "\n",
        "snow_probs = bgm_model_snow.simulate(betaValues)"
      ]
    },
    {
      "cell_type": "code",
      "execution_count": null,
      "metadata": {
        "colab": {
          "base_uri": "https://localhost:8080/",
          "height": 206
        },
        "id": "rpmHJjlKRSVq",
        "outputId": "17ccebe4-b7dd-497a-c490-cd81da7c8a49"
      },
      "outputs": [
        {
          "data": {
            "text/html": [
              "\n",
              "  <div id=\"df-35239677-9904-492c-8edc-ad67e44c98c5\">\n",
              "    <div class=\"colab-df-container\">\n",
              "      <div>\n",
              "<style scoped>\n",
              "    .dataframe tbody tr th:only-of-type {\n",
              "        vertical-align: middle;\n",
              "    }\n",
              "\n",
              "    .dataframe tbody tr th {\n",
              "        vertical-align: top;\n",
              "    }\n",
              "\n",
              "    .dataframe thead th {\n",
              "        text-align: right;\n",
              "    }\n",
              "</style>\n",
              "<table border=\"1\" class=\"dataframe\">\n",
              "  <thead>\n",
              "    <tr style=\"text-align: right;\">\n",
              "      <th></th>\n",
              "      <th>Prob. train</th>\n",
              "      <th>Prob. SM</th>\n",
              "      <th>Prob. car</th>\n",
              "    </tr>\n",
              "  </thead>\n",
              "  <tbody>\n",
              "    <tr>\n",
              "      <th>0</th>\n",
              "      <td>0.132760</td>\n",
              "      <td>0.700861</td>\n",
              "      <td>0.166380</td>\n",
              "    </tr>\n",
              "    <tr>\n",
              "      <th>1</th>\n",
              "      <td>0.143447</td>\n",
              "      <td>0.716743</td>\n",
              "      <td>0.139811</td>\n",
              "    </tr>\n",
              "    <tr>\n",
              "      <th>2</th>\n",
              "      <td>0.113936</td>\n",
              "      <td>0.688805</td>\n",
              "      <td>0.197258</td>\n",
              "    </tr>\n",
              "    <tr>\n",
              "      <th>3</th>\n",
              "      <td>0.127916</td>\n",
              "      <td>0.568380</td>\n",
              "      <td>0.303704</td>\n",
              "    </tr>\n",
              "    <tr>\n",
              "      <th>4</th>\n",
              "      <td>0.105384</td>\n",
              "      <td>0.690026</td>\n",
              "      <td>0.204590</td>\n",
              "    </tr>\n",
              "  </tbody>\n",
              "</table>\n",
              "</div>\n",
              "      <button class=\"colab-df-convert\" onclick=\"convertToInteractive('df-35239677-9904-492c-8edc-ad67e44c98c5')\"\n",
              "              title=\"Convert this dataframe to an interactive table.\"\n",
              "              style=\"display:none;\">\n",
              "        \n",
              "  <svg xmlns=\"http://www.w3.org/2000/svg\" height=\"24px\"viewBox=\"0 0 24 24\"\n",
              "       width=\"24px\">\n",
              "    <path d=\"M0 0h24v24H0V0z\" fill=\"none\"/>\n",
              "    <path d=\"M18.56 5.44l.94 2.06.94-2.06 2.06-.94-2.06-.94-.94-2.06-.94 2.06-2.06.94zm-11 1L8.5 8.5l.94-2.06 2.06-.94-2.06-.94L8.5 2.5l-.94 2.06-2.06.94zm10 10l.94 2.06.94-2.06 2.06-.94-2.06-.94-.94-2.06-.94 2.06-2.06.94z\"/><path d=\"M17.41 7.96l-1.37-1.37c-.4-.4-.92-.59-1.43-.59-.52 0-1.04.2-1.43.59L10.3 9.45l-7.72 7.72c-.78.78-.78 2.05 0 2.83L4 21.41c.39.39.9.59 1.41.59.51 0 1.02-.2 1.41-.59l7.78-7.78 2.81-2.81c.8-.78.8-2.07 0-2.86zM5.41 20L4 18.59l7.72-7.72 1.47 1.35L5.41 20z\"/>\n",
              "  </svg>\n",
              "      </button>\n",
              "      \n",
              "  <style>\n",
              "    .colab-df-container {\n",
              "      display:flex;\n",
              "      flex-wrap:wrap;\n",
              "      gap: 12px;\n",
              "    }\n",
              "\n",
              "    .colab-df-convert {\n",
              "      background-color: #E8F0FE;\n",
              "      border: none;\n",
              "      border-radius: 50%;\n",
              "      cursor: pointer;\n",
              "      display: none;\n",
              "      fill: #1967D2;\n",
              "      height: 32px;\n",
              "      padding: 0 0 0 0;\n",
              "      width: 32px;\n",
              "    }\n",
              "\n",
              "    .colab-df-convert:hover {\n",
              "      background-color: #E2EBFA;\n",
              "      box-shadow: 0px 1px 2px rgba(60, 64, 67, 0.3), 0px 1px 3px 1px rgba(60, 64, 67, 0.15);\n",
              "      fill: #174EA6;\n",
              "    }\n",
              "\n",
              "    [theme=dark] .colab-df-convert {\n",
              "      background-color: #3B4455;\n",
              "      fill: #D2E3FC;\n",
              "    }\n",
              "\n",
              "    [theme=dark] .colab-df-convert:hover {\n",
              "      background-color: #434B5C;\n",
              "      box-shadow: 0px 1px 3px 1px rgba(0, 0, 0, 0.15);\n",
              "      filter: drop-shadow(0px 1px 2px rgba(0, 0, 0, 0.3));\n",
              "      fill: #FFFFFF;\n",
              "    }\n",
              "  </style>\n",
              "\n",
              "      <script>\n",
              "        const buttonEl =\n",
              "          document.querySelector('#df-35239677-9904-492c-8edc-ad67e44c98c5 button.colab-df-convert');\n",
              "        buttonEl.style.display =\n",
              "          google.colab.kernel.accessAllowed ? 'block' : 'none';\n",
              "\n",
              "        async function convertToInteractive(key) {\n",
              "          const element = document.querySelector('#df-35239677-9904-492c-8edc-ad67e44c98c5');\n",
              "          const dataTable =\n",
              "            await google.colab.kernel.invokeFunction('convertToInteractive',\n",
              "                                                     [key], {});\n",
              "          if (!dataTable) return;\n",
              "\n",
              "          const docLinkHtml = 'Like what you see? Visit the ' +\n",
              "            '<a target=\"_blank\" href=https://colab.research.google.com/notebooks/data_table.ipynb>data table notebook</a>'\n",
              "            + ' to learn more about interactive tables.';\n",
              "          element.innerHTML = '';\n",
              "          dataTable['output_type'] = 'display_data';\n",
              "          await google.colab.output.renderOutput(dataTable, element);\n",
              "          const docLink = document.createElement('div');\n",
              "          docLink.innerHTML = docLinkHtml;\n",
              "          element.appendChild(docLink);\n",
              "        }\n",
              "      </script>\n",
              "    </div>\n",
              "  </div>\n",
              "  "
            ],
            "text/plain": [
              "   Prob. train  Prob. SM  Prob. car\n",
              "0     0.132760  0.700861   0.166380\n",
              "1     0.143447  0.716743   0.139811\n",
              "2     0.113936  0.688805   0.197258\n",
              "3     0.127916  0.568380   0.303704\n",
              "4     0.105384  0.690026   0.204590"
            ]
          },
          "execution_count": 37,
          "metadata": {},
          "output_type": "execute_result"
        }
      ],
      "source": [
        "snow_probs.head()"
      ]
    },
    {
      "cell_type": "markdown",
      "metadata": {
        "id": "uD73bmokSmoH"
      },
      "source": [
        "We can compute the differences"
      ]
    },
    {
      "cell_type": "code",
      "execution_count": null,
      "metadata": {
        "colab": {
          "base_uri": "https://localhost:8080/",
          "height": 206
        },
        "id": "FAtYt9AYNbMX",
        "outputId": "221818ba-e1ec-4123-bc3d-a1901eddf3b6"
      },
      "outputs": [
        {
          "data": {
            "text/html": [
              "\n",
              "  <div id=\"df-aa62d568-0b6a-4b61-8d07-36410fd37446\">\n",
              "    <div class=\"colab-df-container\">\n",
              "      <div>\n",
              "<style scoped>\n",
              "    .dataframe tbody tr th:only-of-type {\n",
              "        vertical-align: middle;\n",
              "    }\n",
              "\n",
              "    .dataframe tbody tr th {\n",
              "        vertical-align: top;\n",
              "    }\n",
              "\n",
              "    .dataframe thead th {\n",
              "        text-align: right;\n",
              "    }\n",
              "</style>\n",
              "<table border=\"1\" class=\"dataframe\">\n",
              "  <thead>\n",
              "    <tr style=\"text-align: right;\">\n",
              "      <th></th>\n",
              "      <th>Prob. train</th>\n",
              "      <th>Prob. SM</th>\n",
              "      <th>Prob. car</th>\n",
              "    </tr>\n",
              "  </thead>\n",
              "  <tbody>\n",
              "    <tr>\n",
              "      <th>0</th>\n",
              "      <td>0.021011</td>\n",
              "      <td>0.110922</td>\n",
              "      <td>-0.131933</td>\n",
              "    </tr>\n",
              "    <tr>\n",
              "      <th>1</th>\n",
              "      <td>0.019572</td>\n",
              "      <td>0.097793</td>\n",
              "      <td>-0.117365</td>\n",
              "    </tr>\n",
              "    <tr>\n",
              "      <th>2</th>\n",
              "      <td>0.020769</td>\n",
              "      <td>0.125558</td>\n",
              "      <td>-0.146327</td>\n",
              "    </tr>\n",
              "    <tr>\n",
              "      <th>3</th>\n",
              "      <td>0.026128</td>\n",
              "      <td>0.116097</td>\n",
              "      <td>-0.142225</td>\n",
              "    </tr>\n",
              "    <tr>\n",
              "      <th>4</th>\n",
              "      <td>0.017214</td>\n",
              "      <td>0.112711</td>\n",
              "      <td>-0.129925</td>\n",
              "    </tr>\n",
              "  </tbody>\n",
              "</table>\n",
              "</div>\n",
              "      <button class=\"colab-df-convert\" onclick=\"convertToInteractive('df-aa62d568-0b6a-4b61-8d07-36410fd37446')\"\n",
              "              title=\"Convert this dataframe to an interactive table.\"\n",
              "              style=\"display:none;\">\n",
              "        \n",
              "  <svg xmlns=\"http://www.w3.org/2000/svg\" height=\"24px\"viewBox=\"0 0 24 24\"\n",
              "       width=\"24px\">\n",
              "    <path d=\"M0 0h24v24H0V0z\" fill=\"none\"/>\n",
              "    <path d=\"M18.56 5.44l.94 2.06.94-2.06 2.06-.94-2.06-.94-.94-2.06-.94 2.06-2.06.94zm-11 1L8.5 8.5l.94-2.06 2.06-.94-2.06-.94L8.5 2.5l-.94 2.06-2.06.94zm10 10l.94 2.06.94-2.06 2.06-.94-2.06-.94-.94-2.06-.94 2.06-2.06.94z\"/><path d=\"M17.41 7.96l-1.37-1.37c-.4-.4-.92-.59-1.43-.59-.52 0-1.04.2-1.43.59L10.3 9.45l-7.72 7.72c-.78.78-.78 2.05 0 2.83L4 21.41c.39.39.9.59 1.41.59.51 0 1.02-.2 1.41-.59l7.78-7.78 2.81-2.81c.8-.78.8-2.07 0-2.86zM5.41 20L4 18.59l7.72-7.72 1.47 1.35L5.41 20z\"/>\n",
              "  </svg>\n",
              "      </button>\n",
              "      \n",
              "  <style>\n",
              "    .colab-df-container {\n",
              "      display:flex;\n",
              "      flex-wrap:wrap;\n",
              "      gap: 12px;\n",
              "    }\n",
              "\n",
              "    .colab-df-convert {\n",
              "      background-color: #E8F0FE;\n",
              "      border: none;\n",
              "      border-radius: 50%;\n",
              "      cursor: pointer;\n",
              "      display: none;\n",
              "      fill: #1967D2;\n",
              "      height: 32px;\n",
              "      padding: 0 0 0 0;\n",
              "      width: 32px;\n",
              "    }\n",
              "\n",
              "    .colab-df-convert:hover {\n",
              "      background-color: #E2EBFA;\n",
              "      box-shadow: 0px 1px 2px rgba(60, 64, 67, 0.3), 0px 1px 3px 1px rgba(60, 64, 67, 0.15);\n",
              "      fill: #174EA6;\n",
              "    }\n",
              "\n",
              "    [theme=dark] .colab-df-convert {\n",
              "      background-color: #3B4455;\n",
              "      fill: #D2E3FC;\n",
              "    }\n",
              "\n",
              "    [theme=dark] .colab-df-convert:hover {\n",
              "      background-color: #434B5C;\n",
              "      box-shadow: 0px 1px 3px 1px rgba(0, 0, 0, 0.15);\n",
              "      filter: drop-shadow(0px 1px 2px rgba(0, 0, 0, 0.3));\n",
              "      fill: #FFFFFF;\n",
              "    }\n",
              "  </style>\n",
              "\n",
              "      <script>\n",
              "        const buttonEl =\n",
              "          document.querySelector('#df-aa62d568-0b6a-4b61-8d07-36410fd37446 button.colab-df-convert');\n",
              "        buttonEl.style.display =\n",
              "          google.colab.kernel.accessAllowed ? 'block' : 'none';\n",
              "\n",
              "        async function convertToInteractive(key) {\n",
              "          const element = document.querySelector('#df-aa62d568-0b6a-4b61-8d07-36410fd37446');\n",
              "          const dataTable =\n",
              "            await google.colab.kernel.invokeFunction('convertToInteractive',\n",
              "                                                     [key], {});\n",
              "          if (!dataTable) return;\n",
              "\n",
              "          const docLinkHtml = 'Like what you see? Visit the ' +\n",
              "            '<a target=\"_blank\" href=https://colab.research.google.com/notebooks/data_table.ipynb>data table notebook</a>'\n",
              "            + ' to learn more about interactive tables.';\n",
              "          element.innerHTML = '';\n",
              "          dataTable['output_type'] = 'display_data';\n",
              "          await google.colab.output.renderOutput(dataTable, element);\n",
              "          const docLink = document.createElement('div');\n",
              "          docLink.innerHTML = docLinkHtml;\n",
              "          element.appendChild(docLink);\n",
              "        }\n",
              "      </script>\n",
              "    </div>\n",
              "  </div>\n",
              "  "
            ],
            "text/plain": [
              "   Prob. train  Prob. SM  Prob. car\n",
              "0     0.021011  0.110922  -0.131933\n",
              "1     0.019572  0.097793  -0.117365\n",
              "2     0.020769  0.125558  -0.146327\n",
              "3     0.026128  0.116097  -0.142225\n",
              "4     0.017214  0.112711  -0.129925"
            ]
          },
          "execution_count": 38,
          "metadata": {},
          "output_type": "execute_result"
        }
      ],
      "source": [
        "(snow_probs - simulatedValues ).head()"
      ]
    },
    {
      "cell_type": "markdown",
      "metadata": {
        "id": "9nwuVbmtTl16"
      },
      "source": [
        "Lets see how market shares change:"
      ]
    },
    {
      "cell_type": "code",
      "execution_count": null,
      "metadata": {
        "colab": {
          "base_uri": "https://localhost:8080/"
        },
        "id": "ddMen8ixThzg",
        "outputId": "bba278d0-74d6-4f66-c9b5-46d1b9866df8"
      },
      "outputs": [
        {
          "data": {
            "text/plain": [
              "Prob. train    0.08613\n",
              "Prob. SM       0.58499\n",
              "Prob. car      0.32888\n",
              "dtype: float64"
            ]
          },
          "execution_count": 39,
          "metadata": {},
          "output_type": "execute_result"
        }
      ],
      "source": [
        "simulatedValues.mean(axis=0)"
      ]
    },
    {
      "cell_type": "code",
      "execution_count": null,
      "metadata": {
        "colab": {
          "base_uri": "https://localhost:8080/"
        },
        "id": "yUp1DGbkTdgk",
        "outputId": "9ce513ba-32ae-464d-ee39-d041f6ca392b"
      },
      "outputs": [
        {
          "data": {
            "text/plain": [
              "Prob. train    0.103031\n",
              "Prob. SM       0.695752\n",
              "Prob. car      0.201217\n",
              "dtype: float64"
            ]
          },
          "execution_count": 40,
          "metadata": {},
          "output_type": "execute_result"
        }
      ],
      "source": [
        "snow_probs.mean(axis=0)"
      ]
    },
    {
      "cell_type": "markdown",
      "metadata": {
        "id": "LjTfPTzqTXdl"
      },
      "source": [
        "Instead of probabilities we can calculate the number of people that will go for each transport in each scenario."
      ]
    },
    {
      "cell_type": "code",
      "execution_count": null,
      "metadata": {
        "colab": {
          "base_uri": "https://localhost:8080/"
        },
        "id": "3Q7vu5NHTTBr",
        "outputId": "168883f0-daf9-48ef-8469-1e788ef372b8"
      },
      "outputs": [
        {
          "data": {
            "text/plain": [
              "Prob. train     793.000001\n",
              "Prob. SM       5385.999745\n",
              "Prob. car      3028.000254\n",
              "dtype: float64"
            ]
          },
          "execution_count": 41,
          "metadata": {},
          "output_type": "execute_result"
        }
      ],
      "source": [
        "simulatedValues.sum(axis=0)"
      ]
    },
    {
      "cell_type": "code",
      "execution_count": null,
      "metadata": {
        "colab": {
          "base_uri": "https://localhost:8080/"
        },
        "id": "Pwt_sLQYSprG",
        "outputId": "c28c57f1-6f5d-4066-8860-643a2dbc073f"
      },
      "outputs": [
        {
          "data": {
            "text/plain": [
              "Prob. train     948.603262\n",
              "Prob. SM       6405.787540\n",
              "Prob. car      1852.609198\n",
              "dtype: float64"
            ]
          },
          "execution_count": 42,
          "metadata": {},
          "output_type": "execute_result"
        }
      ],
      "source": [
        "snow_probs.sum(axis=0)"
      ]
    },
    {
      "cell_type": "markdown",
      "metadata": {
        "id": "LN0QXT8TwQ9G"
      },
      "source": [
        "# Accuracies and confusion matrices"
      ]
    },
    {
      "cell_type": "code",
      "execution_count": null,
      "metadata": {
        "id": "QDVKAVmoLSOk"
      },
      "outputs": [],
      "source": [
        "which_max = simulatedValues.idxmax(axis=1)\n",
        "which_max = which_max.replace({'Prob. train': 1, 'Prob. SM': 2, 'Prob. car': 3,})"
      ]
    },
    {
      "cell_type": "code",
      "execution_count": null,
      "metadata": {
        "colab": {
          "base_uri": "https://localhost:8080/"
        },
        "id": "BbykD5HK19rB",
        "outputId": "8f2791f7-2433-49a0-c8c5-6c8ba0f4fda1"
      },
      "outputs": [
        {
          "data": {
            "text/plain": [
              "0.673617899424351"
            ]
          },
          "execution_count": 44,
          "metadata": {},
          "output_type": "execute_result"
        }
      ],
      "source": [
        "#accuracy\n",
        "np.mean(which_max == bgm_swissmetro.data['CHOICE'])"
      ]
    },
    {
      "cell_type": "markdown",
      "metadata": {
        "id": "Es5aujeGyADh"
      },
      "source": [
        "Calculate the proportions in the dataset, to see how much improvement there is for a naive model that predicts the most popular class."
      ]
    },
    {
      "cell_type": "code",
      "execution_count": null,
      "metadata": {
        "colab": {
          "base_uri": "https://localhost:8080/",
          "height": 175
        },
        "id": "3wK9epAGxbG2",
        "outputId": "72360248-bc8b-49ca-ae54-072d1ad59287"
      },
      "outputs": [
        {
          "data": {
            "text/html": [
              "\n",
              "  <div id=\"df-87493a92-b576-4b4f-ab19-5e0bd163cf97\">\n",
              "    <div class=\"colab-df-container\">\n",
              "      <div>\n",
              "<style scoped>\n",
              "    .dataframe tbody tr th:only-of-type {\n",
              "        vertical-align: middle;\n",
              "    }\n",
              "\n",
              "    .dataframe tbody tr th {\n",
              "        vertical-align: top;\n",
              "    }\n",
              "\n",
              "    .dataframe thead th {\n",
              "        text-align: right;\n",
              "    }\n",
              "</style>\n",
              "<table border=\"1\" class=\"dataframe\">\n",
              "  <thead>\n",
              "    <tr style=\"text-align: right;\">\n",
              "      <th>col_0</th>\n",
              "      <th>count</th>\n",
              "    </tr>\n",
              "    <tr>\n",
              "      <th>CHOICE</th>\n",
              "      <th></th>\n",
              "    </tr>\n",
              "  </thead>\n",
              "  <tbody>\n",
              "    <tr>\n",
              "      <th>1</th>\n",
              "      <td>0.08613</td>\n",
              "    </tr>\n",
              "    <tr>\n",
              "      <th>2</th>\n",
              "      <td>0.58499</td>\n",
              "    </tr>\n",
              "    <tr>\n",
              "      <th>3</th>\n",
              "      <td>0.32888</td>\n",
              "    </tr>\n",
              "  </tbody>\n",
              "</table>\n",
              "</div>\n",
              "      <button class=\"colab-df-convert\" onclick=\"convertToInteractive('df-87493a92-b576-4b4f-ab19-5e0bd163cf97')\"\n",
              "              title=\"Convert this dataframe to an interactive table.\"\n",
              "              style=\"display:none;\">\n",
              "        \n",
              "  <svg xmlns=\"http://www.w3.org/2000/svg\" height=\"24px\"viewBox=\"0 0 24 24\"\n",
              "       width=\"24px\">\n",
              "    <path d=\"M0 0h24v24H0V0z\" fill=\"none\"/>\n",
              "    <path d=\"M18.56 5.44l.94 2.06.94-2.06 2.06-.94-2.06-.94-.94-2.06-.94 2.06-2.06.94zm-11 1L8.5 8.5l.94-2.06 2.06-.94-2.06-.94L8.5 2.5l-.94 2.06-2.06.94zm10 10l.94 2.06.94-2.06 2.06-.94-2.06-.94-.94-2.06-.94 2.06-2.06.94z\"/><path d=\"M17.41 7.96l-1.37-1.37c-.4-.4-.92-.59-1.43-.59-.52 0-1.04.2-1.43.59L10.3 9.45l-7.72 7.72c-.78.78-.78 2.05 0 2.83L4 21.41c.39.39.9.59 1.41.59.51 0 1.02-.2 1.41-.59l7.78-7.78 2.81-2.81c.8-.78.8-2.07 0-2.86zM5.41 20L4 18.59l7.72-7.72 1.47 1.35L5.41 20z\"/>\n",
              "  </svg>\n",
              "      </button>\n",
              "      \n",
              "  <style>\n",
              "    .colab-df-container {\n",
              "      display:flex;\n",
              "      flex-wrap:wrap;\n",
              "      gap: 12px;\n",
              "    }\n",
              "\n",
              "    .colab-df-convert {\n",
              "      background-color: #E8F0FE;\n",
              "      border: none;\n",
              "      border-radius: 50%;\n",
              "      cursor: pointer;\n",
              "      display: none;\n",
              "      fill: #1967D2;\n",
              "      height: 32px;\n",
              "      padding: 0 0 0 0;\n",
              "      width: 32px;\n",
              "    }\n",
              "\n",
              "    .colab-df-convert:hover {\n",
              "      background-color: #E2EBFA;\n",
              "      box-shadow: 0px 1px 2px rgba(60, 64, 67, 0.3), 0px 1px 3px 1px rgba(60, 64, 67, 0.15);\n",
              "      fill: #174EA6;\n",
              "    }\n",
              "\n",
              "    [theme=dark] .colab-df-convert {\n",
              "      background-color: #3B4455;\n",
              "      fill: #D2E3FC;\n",
              "    }\n",
              "\n",
              "    [theme=dark] .colab-df-convert:hover {\n",
              "      background-color: #434B5C;\n",
              "      box-shadow: 0px 1px 3px 1px rgba(0, 0, 0, 0.15);\n",
              "      filter: drop-shadow(0px 1px 2px rgba(0, 0, 0, 0.3));\n",
              "      fill: #FFFFFF;\n",
              "    }\n",
              "  </style>\n",
              "\n",
              "      <script>\n",
              "        const buttonEl =\n",
              "          document.querySelector('#df-87493a92-b576-4b4f-ab19-5e0bd163cf97 button.colab-df-convert');\n",
              "        buttonEl.style.display =\n",
              "          google.colab.kernel.accessAllowed ? 'block' : 'none';\n",
              "\n",
              "        async function convertToInteractive(key) {\n",
              "          const element = document.querySelector('#df-87493a92-b576-4b4f-ab19-5e0bd163cf97');\n",
              "          const dataTable =\n",
              "            await google.colab.kernel.invokeFunction('convertToInteractive',\n",
              "                                                     [key], {});\n",
              "          if (!dataTable) return;\n",
              "\n",
              "          const docLinkHtml = 'Like what you see? Visit the ' +\n",
              "            '<a target=\"_blank\" href=https://colab.research.google.com/notebooks/data_table.ipynb>data table notebook</a>'\n",
              "            + ' to learn more about interactive tables.';\n",
              "          element.innerHTML = '';\n",
              "          dataTable['output_type'] = 'display_data';\n",
              "          await google.colab.output.renderOutput(dataTable, element);\n",
              "          const docLink = document.createElement('div');\n",
              "          docLink.innerHTML = docLinkHtml;\n",
              "          element.appendChild(docLink);\n",
              "        }\n",
              "      </script>\n",
              "    </div>\n",
              "  </div>\n",
              "  "
            ],
            "text/plain": [
              "col_0     count\n",
              "CHOICE         \n",
              "1       0.08613\n",
              "2       0.58499\n",
              "3       0.32888"
            ]
          },
          "execution_count": 45,
          "metadata": {},
          "output_type": "execute_result"
        }
      ],
      "source": [
        "tab = pd.crosstab(bgm_swissmetro.data['CHOICE'], 'count')\n",
        "tab / tab.sum()"
      ]
    },
    {
      "cell_type": "markdown",
      "metadata": {
        "id": "fPus9M4NyOmx"
      },
      "source": [
        "Calculate the confusion matrix"
      ]
    },
    {
      "cell_type": "code",
      "execution_count": null,
      "metadata": {
        "colab": {
          "base_uri": "https://localhost:8080/",
          "height": 175
        },
        "id": "B6CGNgSyN8OP",
        "outputId": "5250c954-c031-47e7-92c0-cddb2664cdaf"
      },
      "outputs": [
        {
          "data": {
            "text/html": [
              "\n",
              "  <div id=\"df-42cc9532-30ad-449d-b793-64e1f3edf30f\">\n",
              "    <div class=\"colab-df-container\">\n",
              "      <div>\n",
              "<style scoped>\n",
              "    .dataframe tbody tr th:only-of-type {\n",
              "        vertical-align: middle;\n",
              "    }\n",
              "\n",
              "    .dataframe tbody tr th {\n",
              "        vertical-align: top;\n",
              "    }\n",
              "\n",
              "    .dataframe thead th {\n",
              "        text-align: right;\n",
              "    }\n",
              "</style>\n",
              "<table border=\"1\" class=\"dataframe\">\n",
              "  <thead>\n",
              "    <tr style=\"text-align: right;\">\n",
              "      <th>Predicted</th>\n",
              "      <th>2</th>\n",
              "      <th>3</th>\n",
              "    </tr>\n",
              "    <tr>\n",
              "      <th>Actual</th>\n",
              "      <th></th>\n",
              "      <th></th>\n",
              "    </tr>\n",
              "  </thead>\n",
              "  <tbody>\n",
              "    <tr>\n",
              "      <th>1</th>\n",
              "      <td>655</td>\n",
              "      <td>138</td>\n",
              "    </tr>\n",
              "    <tr>\n",
              "      <th>2</th>\n",
              "      <td>4744</td>\n",
              "      <td>642</td>\n",
              "    </tr>\n",
              "    <tr>\n",
              "      <th>3</th>\n",
              "      <td>1570</td>\n",
              "      <td>1458</td>\n",
              "    </tr>\n",
              "  </tbody>\n",
              "</table>\n",
              "</div>\n",
              "      <button class=\"colab-df-convert\" onclick=\"convertToInteractive('df-42cc9532-30ad-449d-b793-64e1f3edf30f')\"\n",
              "              title=\"Convert this dataframe to an interactive table.\"\n",
              "              style=\"display:none;\">\n",
              "        \n",
              "  <svg xmlns=\"http://www.w3.org/2000/svg\" height=\"24px\"viewBox=\"0 0 24 24\"\n",
              "       width=\"24px\">\n",
              "    <path d=\"M0 0h24v24H0V0z\" fill=\"none\"/>\n",
              "    <path d=\"M18.56 5.44l.94 2.06.94-2.06 2.06-.94-2.06-.94-.94-2.06-.94 2.06-2.06.94zm-11 1L8.5 8.5l.94-2.06 2.06-.94-2.06-.94L8.5 2.5l-.94 2.06-2.06.94zm10 10l.94 2.06.94-2.06 2.06-.94-2.06-.94-.94-2.06-.94 2.06-2.06.94z\"/><path d=\"M17.41 7.96l-1.37-1.37c-.4-.4-.92-.59-1.43-.59-.52 0-1.04.2-1.43.59L10.3 9.45l-7.72 7.72c-.78.78-.78 2.05 0 2.83L4 21.41c.39.39.9.59 1.41.59.51 0 1.02-.2 1.41-.59l7.78-7.78 2.81-2.81c.8-.78.8-2.07 0-2.86zM5.41 20L4 18.59l7.72-7.72 1.47 1.35L5.41 20z\"/>\n",
              "  </svg>\n",
              "      </button>\n",
              "      \n",
              "  <style>\n",
              "    .colab-df-container {\n",
              "      display:flex;\n",
              "      flex-wrap:wrap;\n",
              "      gap: 12px;\n",
              "    }\n",
              "\n",
              "    .colab-df-convert {\n",
              "      background-color: #E8F0FE;\n",
              "      border: none;\n",
              "      border-radius: 50%;\n",
              "      cursor: pointer;\n",
              "      display: none;\n",
              "      fill: #1967D2;\n",
              "      height: 32px;\n",
              "      padding: 0 0 0 0;\n",
              "      width: 32px;\n",
              "    }\n",
              "\n",
              "    .colab-df-convert:hover {\n",
              "      background-color: #E2EBFA;\n",
              "      box-shadow: 0px 1px 2px rgba(60, 64, 67, 0.3), 0px 1px 3px 1px rgba(60, 64, 67, 0.15);\n",
              "      fill: #174EA6;\n",
              "    }\n",
              "\n",
              "    [theme=dark] .colab-df-convert {\n",
              "      background-color: #3B4455;\n",
              "      fill: #D2E3FC;\n",
              "    }\n",
              "\n",
              "    [theme=dark] .colab-df-convert:hover {\n",
              "      background-color: #434B5C;\n",
              "      box-shadow: 0px 1px 3px 1px rgba(0, 0, 0, 0.15);\n",
              "      filter: drop-shadow(0px 1px 2px rgba(0, 0, 0, 0.3));\n",
              "      fill: #FFFFFF;\n",
              "    }\n",
              "  </style>\n",
              "\n",
              "      <script>\n",
              "        const buttonEl =\n",
              "          document.querySelector('#df-42cc9532-30ad-449d-b793-64e1f3edf30f button.colab-df-convert');\n",
              "        buttonEl.style.display =\n",
              "          google.colab.kernel.accessAllowed ? 'block' : 'none';\n",
              "\n",
              "        async function convertToInteractive(key) {\n",
              "          const element = document.querySelector('#df-42cc9532-30ad-449d-b793-64e1f3edf30f');\n",
              "          const dataTable =\n",
              "            await google.colab.kernel.invokeFunction('convertToInteractive',\n",
              "                                                     [key], {});\n",
              "          if (!dataTable) return;\n",
              "\n",
              "          const docLinkHtml = 'Like what you see? Visit the ' +\n",
              "            '<a target=\"_blank\" href=https://colab.research.google.com/notebooks/data_table.ipynb>data table notebook</a>'\n",
              "            + ' to learn more about interactive tables.';\n",
              "          element.innerHTML = '';\n",
              "          dataTable['output_type'] = 'display_data';\n",
              "          await google.colab.output.renderOutput(dataTable, element);\n",
              "          const docLink = document.createElement('div');\n",
              "          docLink.innerHTML = docLinkHtml;\n",
              "          element.appendChild(docLink);\n",
              "        }\n",
              "      </script>\n",
              "    </div>\n",
              "  </div>\n",
              "  "
            ],
            "text/plain": [
              "Predicted     2     3\n",
              "Actual               \n",
              "1           655   138\n",
              "2          4744   642\n",
              "3          1570  1458"
            ]
          },
          "execution_count": 46,
          "metadata": {},
          "output_type": "execute_result"
        }
      ],
      "source": [
        "data = {'y_Actual':   bgm_swissmetro.data['CHOICE'],\n",
        "        'y_Predicted': which_max\n",
        "        }\n",
        "\n",
        "df = pd.DataFrame(data, columns=['y_Actual','y_Predicted'])\n",
        "confusion_matrix = pd.crosstab(df['y_Actual'], df['y_Predicted'], rownames=['Actual'], colnames=['Predicted'])\n",
        "\n",
        "confusion_matrix"
      ]
    },
    {
      "cell_type": "markdown",
      "metadata": {
        "id": "ECjM59B9zVOt"
      },
      "source": [
        "For example only 68% of the predictions for car turned out to be cars"
      ]
    },
    {
      "cell_type": "code",
      "execution_count": null,
      "metadata": {
        "colab": {
          "base_uri": "https://localhost:8080/"
        },
        "id": "3tqYb51nzG_1",
        "outputId": "dad10735-7bce-4bda-8a92-dc8950fa5aee"
      },
      "outputs": [
        {
          "data": {
            "text/plain": [
              "Actual\n",
              "1    0.061662\n",
              "2    0.286863\n",
              "3    0.651475\n",
              "Name: 3, dtype: float64"
            ]
          },
          "execution_count": 47,
          "metadata": {},
          "output_type": "execute_result"
        }
      ],
      "source": [
        "confusion_matrix.loc[:,3] / confusion_matrix.loc[:,3].sum()"
      ]
    },
    {
      "cell_type": "markdown",
      "metadata": {
        "id": "jBtutf7f0E2N"
      },
      "source": [
        "For the predictions of swissmetro, the accuracy is similar.\n",
        "Confusion with trains is greater than for cars, so more percentage of swissmetro go to cars than to trains."
      ]
    },
    {
      "cell_type": "code",
      "execution_count": null,
      "metadata": {
        "colab": {
          "base_uri": "https://localhost:8080/"
        },
        "id": "6RVX3z2vzqxf",
        "outputId": "8db39854-e684-45dc-e8e6-f50832a0c805"
      },
      "outputs": [
        {
          "data": {
            "text/plain": [
              "Actual\n",
              "1    0.093988\n",
              "2    0.680729\n",
              "3    0.225283\n",
              "Name: 2, dtype: float64"
            ]
          },
          "execution_count": 48,
          "metadata": {},
          "output_type": "execute_result"
        }
      ],
      "source": [
        "confusion_matrix.loc[:,2] / confusion_matrix.loc[:,2].sum()"
      ]
    },
    {
      "cell_type": "markdown",
      "metadata": {
        "id": "gS1beZKp4GCD"
      },
      "source": [
        "---\n",
        "---\n",
        "\n",
        "# Exercises\n",
        "\n",
        "---\n",
        "---\n",
        "\n",
        "# 1) Calculate the choice probabilities according to your model\n"
      ]
    },
    {
      "cell_type": "code",
      "execution_count": null,
      "metadata": {
        "id": "8ojjjQsK4qzM"
      },
      "outputs": [],
      "source": []
    },
    {
      "cell_type": "markdown",
      "metadata": {
        "id": "00pwVfjW4o8T"
      },
      "source": [
        "\n",
        "\n",
        "# 2) What would happen to choice probabilities in the model estimated in (Exercise 3) of the previous tutorial if cost of train and swissmetro increase by 15%\n"
      ]
    },
    {
      "cell_type": "code",
      "execution_count": null,
      "metadata": {
        "id": "RYgiJBKP4rLh"
      },
      "outputs": [],
      "source": []
    },
    {
      "cell_type": "markdown",
      "metadata": {
        "id": "e2XiE6eT4qFT"
      },
      "source": [
        "\n",
        "\n",
        "# 3) What would happen to the revenue?"
      ]
    },
    {
      "cell_type": "code",
      "execution_count": null,
      "metadata": {
        "id": "ST_nK19i4rwr"
      },
      "outputs": [],
      "source": []
    }
  ],
  "metadata": {
    "colab": {
      "name": "tuto_04b_predictions_multinomial",
      "provenance": []
    },
    "kernelspec": {
      "display_name": "Python 3",
      "name": "python3"
    },
    "language_info": {
      "codemirror_mode": {
        "name": "ipython",
        "version": 3
      },
      "file_extension": ".py",
      "mimetype": "text/x-python",
      "name": "python",
      "nbconvert_exporter": "python",
      "pygments_lexer": "ipython3",
      "version": "3.10.9"
    }
  },
  "nbformat": 4,
  "nbformat_minor": 0
}
