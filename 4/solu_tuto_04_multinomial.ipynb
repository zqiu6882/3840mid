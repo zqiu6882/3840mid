{
  "cells": [
    {
      "cell_type": "markdown",
      "metadata": {
        "id": "zuJImh8WqX_m"
      },
      "source": [
        "# Tutorial 4: Multinomial logit using the python biogeme package"
      ]
    },
    {
      "cell_type": "markdown",
      "metadata": {
        "id": "tzgJbWL2qlAP"
      },
      "source": [
        "We will learn to specify multinomial logit models using the biogeme package.\n",
        "\n",
        "\"*Biogeme is a open source Python package designed for the maximum likelihood estimation of parametric models in general, with a special emphasis on discrete choice models.*\""
      ]
    },
    {
      "cell_type": "markdown",
      "metadata": {
        "id": "vb9SIunnASNB"
      },
      "source": [
        "# Preparing the environment"
      ]
    },
    {
      "cell_type": "markdown",
      "metadata": {
        "id": "rlvYdSNvrRfV"
      },
      "source": [
        "Google colab environment does not have biogeme installed by default,\n",
        "so we need to install in every session. Hopefully, it will take less than one minute. Once installed it will be valid until the session expires (or we reset it)."
      ]
    },
    {
      "cell_type": "markdown",
      "metadata": {
        "id": "1z0X9xZ8rChf"
      },
      "source": [
        "First load the packages typical packages, biogeme and the common one for python data analysis."
      ]
    },
    {
      "cell_type": "code",
      "execution_count": 34,
      "metadata": {
        "id": "apVB-TMkrFnb"
      },
      "outputs": [],
      "source": [
        "import pandas  as pd\n",
        "import numpy as np\n",
        "import seaborn as sns\n",
        "import matplotlib.pyplot as plt\n",
        "\n",
        "import biogeme.database as db\n",
        "import biogeme.biogeme as bio\n",
        "import biogeme.models as models\n",
        "import biogeme.expressions as exp\n"
      ]
    },
    {
      "cell_type": "markdown",
      "metadata": {
        "id": "Mgv0hV1YAieW"
      },
      "source": [
        "# The dataset\n",
        "\n",
        "We will use the example from the biogeme package, Swissmetro dataset:\n",
        "\n",
        "\"*This dataset consists of survey data collected on the trains between St. Gallen and Geneva, Switzerland, during March 1998. The respondents provided information in order to analyze the impact of\n",
        "the modal innovation in transportation (a new mode of transport), represented by the Swissmetro, a revolutionary mag-lev underground system, against the usual transport modes represented by car and train.*\""
      ]
    },
    {
      "cell_type": "markdown",
      "metadata": {
        "id": "_Zq_3AwIr7u8"
      },
      "source": [
        "---\n",
        "---\n",
        "\n",
        "#Loading the dataset\n",
        "\n",
        "Biogeme can interact with the popular pandas package, so we can load the dataset in pandas first and then pass it to biogeme.\n",
        "\n",
        "This specific dataset uses the format 'tab separated values' instead of the more common 'comma separated values'. We can specify this non-standard separator by the argument `sep` in `pandas.read_csv`.\n",
        "\n"
      ]
    },
    {
      "cell_type": "code",
      "execution_count": 35,
      "metadata": {
        "id": "g1Ykn5Ytr7Rs"
      },
      "outputs": [],
      "source": [
        "swissmetro = pd.read_csv('http://transp-or.epfl.ch/data/swissmetro.dat', sep='\\t')"
      ]
    },
    {
      "cell_type": "markdown",
      "metadata": {
        "id": "ZY55r3Gesb3t"
      },
      "source": [
        "We will take a look at it, using the head() method of to display the first few rows.\n",
        "\n",
        "There is a detailed description of the dataset\n",
        "variables [here](http://transp-or.epfl.ch/documents/technicalReports/CS_SwissmetroDescription.pdf). **You will need to take a look at them later\n",
        "to understand the data and create your own models.**"
      ]
    },
    {
      "cell_type": "code",
      "execution_count": 36,
      "metadata": {
        "colab": {
          "base_uri": "https://localhost:8080/",
          "height": 236
        },
        "id": "ldkmnMhssemT",
        "outputId": "d8eeaa2d-9925-483b-f503-8a799dc17901"
      },
      "outputs": [
        {
          "data": {
            "text/html": [
              "<div>\n",
              "<style scoped>\n",
              "    .dataframe tbody tr th:only-of-type {\n",
              "        vertical-align: middle;\n",
              "    }\n",
              "\n",
              "    .dataframe tbody tr th {\n",
              "        vertical-align: top;\n",
              "    }\n",
              "\n",
              "    .dataframe thead th {\n",
              "        text-align: right;\n",
              "    }\n",
              "</style>\n",
              "<table border=\"1\" class=\"dataframe\">\n",
              "  <thead>\n",
              "    <tr style=\"text-align: right;\">\n",
              "      <th></th>\n",
              "      <th>GROUP</th>\n",
              "      <th>SURVEY</th>\n",
              "      <th>SP</th>\n",
              "      <th>ID</th>\n",
              "      <th>PURPOSE</th>\n",
              "      <th>FIRST</th>\n",
              "      <th>TICKET</th>\n",
              "      <th>WHO</th>\n",
              "      <th>LUGGAGE</th>\n",
              "      <th>AGE</th>\n",
              "      <th>...</th>\n",
              "      <th>TRAIN_TT</th>\n",
              "      <th>TRAIN_CO</th>\n",
              "      <th>TRAIN_HE</th>\n",
              "      <th>SM_TT</th>\n",
              "      <th>SM_CO</th>\n",
              "      <th>SM_HE</th>\n",
              "      <th>SM_SEATS</th>\n",
              "      <th>CAR_TT</th>\n",
              "      <th>CAR_CO</th>\n",
              "      <th>CHOICE</th>\n",
              "    </tr>\n",
              "  </thead>\n",
              "  <tbody>\n",
              "    <tr>\n",
              "      <th>0</th>\n",
              "      <td>2</td>\n",
              "      <td>0</td>\n",
              "      <td>1</td>\n",
              "      <td>1</td>\n",
              "      <td>1</td>\n",
              "      <td>0</td>\n",
              "      <td>1</td>\n",
              "      <td>1</td>\n",
              "      <td>0</td>\n",
              "      <td>3</td>\n",
              "      <td>...</td>\n",
              "      <td>112</td>\n",
              "      <td>48</td>\n",
              "      <td>120</td>\n",
              "      <td>63</td>\n",
              "      <td>52</td>\n",
              "      <td>20</td>\n",
              "      <td>0</td>\n",
              "      <td>117</td>\n",
              "      <td>65</td>\n",
              "      <td>2</td>\n",
              "    </tr>\n",
              "    <tr>\n",
              "      <th>1</th>\n",
              "      <td>2</td>\n",
              "      <td>0</td>\n",
              "      <td>1</td>\n",
              "      <td>1</td>\n",
              "      <td>1</td>\n",
              "      <td>0</td>\n",
              "      <td>1</td>\n",
              "      <td>1</td>\n",
              "      <td>0</td>\n",
              "      <td>3</td>\n",
              "      <td>...</td>\n",
              "      <td>103</td>\n",
              "      <td>48</td>\n",
              "      <td>30</td>\n",
              "      <td>60</td>\n",
              "      <td>49</td>\n",
              "      <td>10</td>\n",
              "      <td>0</td>\n",
              "      <td>117</td>\n",
              "      <td>84</td>\n",
              "      <td>2</td>\n",
              "    </tr>\n",
              "    <tr>\n",
              "      <th>2</th>\n",
              "      <td>2</td>\n",
              "      <td>0</td>\n",
              "      <td>1</td>\n",
              "      <td>1</td>\n",
              "      <td>1</td>\n",
              "      <td>0</td>\n",
              "      <td>1</td>\n",
              "      <td>1</td>\n",
              "      <td>0</td>\n",
              "      <td>3</td>\n",
              "      <td>...</td>\n",
              "      <td>130</td>\n",
              "      <td>48</td>\n",
              "      <td>60</td>\n",
              "      <td>67</td>\n",
              "      <td>58</td>\n",
              "      <td>30</td>\n",
              "      <td>0</td>\n",
              "      <td>117</td>\n",
              "      <td>52</td>\n",
              "      <td>2</td>\n",
              "    </tr>\n",
              "    <tr>\n",
              "      <th>3</th>\n",
              "      <td>2</td>\n",
              "      <td>0</td>\n",
              "      <td>1</td>\n",
              "      <td>1</td>\n",
              "      <td>1</td>\n",
              "      <td>0</td>\n",
              "      <td>1</td>\n",
              "      <td>1</td>\n",
              "      <td>0</td>\n",
              "      <td>3</td>\n",
              "      <td>...</td>\n",
              "      <td>103</td>\n",
              "      <td>40</td>\n",
              "      <td>30</td>\n",
              "      <td>63</td>\n",
              "      <td>52</td>\n",
              "      <td>20</td>\n",
              "      <td>0</td>\n",
              "      <td>72</td>\n",
              "      <td>52</td>\n",
              "      <td>2</td>\n",
              "    </tr>\n",
              "    <tr>\n",
              "      <th>4</th>\n",
              "      <td>2</td>\n",
              "      <td>0</td>\n",
              "      <td>1</td>\n",
              "      <td>1</td>\n",
              "      <td>1</td>\n",
              "      <td>0</td>\n",
              "      <td>1</td>\n",
              "      <td>1</td>\n",
              "      <td>0</td>\n",
              "      <td>3</td>\n",
              "      <td>...</td>\n",
              "      <td>130</td>\n",
              "      <td>36</td>\n",
              "      <td>60</td>\n",
              "      <td>63</td>\n",
              "      <td>42</td>\n",
              "      <td>20</td>\n",
              "      <td>0</td>\n",
              "      <td>90</td>\n",
              "      <td>84</td>\n",
              "      <td>2</td>\n",
              "    </tr>\n",
              "  </tbody>\n",
              "</table>\n",
              "<p>5 rows × 28 columns</p>\n",
              "</div>"
            ],
            "text/plain": [
              "   GROUP  SURVEY  SP  ID  PURPOSE  FIRST  TICKET  WHO  LUGGAGE  AGE  ...  \\\n",
              "0      2       0   1   1        1      0       1    1        0    3  ...   \n",
              "1      2       0   1   1        1      0       1    1        0    3  ...   \n",
              "2      2       0   1   1        1      0       1    1        0    3  ...   \n",
              "3      2       0   1   1        1      0       1    1        0    3  ...   \n",
              "4      2       0   1   1        1      0       1    1        0    3  ...   \n",
              "\n",
              "   TRAIN_TT  TRAIN_CO  TRAIN_HE  SM_TT  SM_CO  SM_HE  SM_SEATS  CAR_TT  \\\n",
              "0       112        48       120     63     52     20         0     117   \n",
              "1       103        48        30     60     49     10         0     117   \n",
              "2       130        48        60     67     58     30         0     117   \n",
              "3       103        40        30     63     52     20         0      72   \n",
              "4       130        36        60     63     42     20         0      90   \n",
              "\n",
              "   CAR_CO  CHOICE  \n",
              "0      65       2  \n",
              "1      84       2  \n",
              "2      52       2  \n",
              "3      52       2  \n",
              "4      84       2  \n",
              "\n",
              "[5 rows x 28 columns]"
            ]
          },
          "execution_count": 36,
          "metadata": {},
          "output_type": "execute_result"
        }
      ],
      "source": [
        "swissmetro.head(5)"
      ]
    },
    {
      "cell_type": "markdown",
      "metadata": {
        "id": "K3-FzZrJuma4"
      },
      "source": [
        "We see some socioeconomic characteristics such as 'AGE', likely encoding by age groups, 'MALE' which we can assume refers to gender. There are also some attributes of the alternatives, such as 'CAR_TT' which would be travel time in car, 'TRAIN_CO' which refers to the cost of the fare by train.\n",
        "\n",
        "An important variable is 'CHOICE' it is the result of the choice for each individual, coded as 1 for train, 2 for swissmetro, 3 for car. The value 0 indicates invalid response."
      ]
    },
    {
      "cell_type": "markdown",
      "metadata": {
        "id": "o3BZ4otYvdYM"
      },
      "source": [
        "---\n",
        "---\n",
        "\n",
        "# Passing the dataset to biogeme\n",
        "\n",
        "For now, we have loaded the dataset into a pandas dataframe, we need to transform it into a Biogeme database, the format that biogeme understands.\n",
        "We pass first argument the name of the database that we want to give and second the pandas dataframe."
      ]
    },
    {
      "cell_type": "code",
      "execution_count": 37,
      "metadata": {
        "id": "JAuXh-SfvcwT"
      },
      "outputs": [],
      "source": [
        "bgm_swissmetro = db.Database('swissmetro', swissmetro)"
      ]
    },
    {
      "cell_type": "markdown",
      "metadata": {
        "id": "LOO_ErPbw0go"
      },
      "source": [
        "We can access the dictionary of variables in the biogeme database the following way:"
      ]
    },
    {
      "cell_type": "code",
      "execution_count": 38,
      "metadata": {
        "colab": {
          "base_uri": "https://localhost:8080/"
        },
        "id": "6Bt1iHz9xUHm",
        "outputId": "7193b6bd-bc78-4b62-c8b7-3125607efb01"
      },
      "outputs": [
        {
          "data": {
            "text/plain": [
              "CHOICE"
            ]
          },
          "execution_count": 38,
          "metadata": {},
          "output_type": "execute_result"
        }
      ],
      "source": [
        "bgm_swissmetro.variables['CHOICE']"
      ]
    },
    {
      "cell_type": "markdown",
      "metadata": {
        "id": "qmw2wtC2yHFZ"
      },
      "source": [
        "Because this is too verbose, we can load them into the global variables\n",
        "of the python environment, to make the symbolic manipulation less verbose, so we can refer to them just by writing `VARIABLE_NAME` instead of having to write `database.variables['VARIABLE_NAME']`. **Note that the use of global variables is discouraged in general, we use it here for the sake of simplicity, but if we are dealing with complex code, it can lead to confusion. For example when using several biogeme databases at the same time, that share variable names**\n",
        "\n",
        "The following line of code adds the name of the variables in the biogeme to the global environment in python. We check that now, for example `CHOICE` is understood by python as a variable in the biogeme database."
      ]
    },
    {
      "cell_type": "code",
      "execution_count": 39,
      "metadata": {
        "colab": {
          "base_uri": "https://localhost:8080/"
        },
        "id": "q3VDQa8Xwln5",
        "outputId": "970768de-e032-41d5-9f18-dffe7e060266"
      },
      "outputs": [
        {
          "data": {
            "text/plain": [
              "CHOICE"
            ]
          },
          "execution_count": 39,
          "metadata": {},
          "output_type": "execute_result"
        }
      ],
      "source": [
        "globals().update(bgm_swissmetro.variables)\n",
        "CHOICE"
      ]
    },
    {
      "cell_type": "markdown",
      "metadata": {
        "id": "G-WceQeczaS4"
      },
      "source": [
        "Before we begin, we will need to clean the dataset a bit, as suggested by the creators of the dataset.\n",
        "\n",
        "In this case, we have people that did not respond to the survey, and their value assigned\n",
        "to the choice is 0. The only valid values for the choice are 1,2,3 indicating\n",
        "the alternatives, train, swissmetro and car.\n",
        "We can remove them from the biogeme database using the `remove` method with the logical indicator for the row that have choice 0.\n",
        "\n",
        "**It is recommended that all database manipulations/cleaning are applied directly on the pandas dataframe before passing it to biogeme.** The reason being that pandas is better designed for that purpose and makes the code more readable. Ideally we would like out interactions with biogeme to be minimized and do as much as possible with the standard frameworks such as pandas.  "
      ]
    },
    {
      "cell_type": "code",
      "execution_count": 40,
      "metadata": {
        "id": "xV8HYAgdREiN"
      },
      "outputs": [],
      "source": [
        "bgm_swissmetro.remove( (CHOICE == 0) )\n"
      ]
    },
    {
      "cell_type": "code",
      "execution_count": 41,
      "metadata": {
        "id": "MpLk_KvpkD3R"
      },
      "outputs": [],
      "source": [
        "#If using pandas, we would call, for example:\n",
        "#swissmetro = swissmetro[swissmetro.CHOICE !=0]\n",
        "#BEFORE creating the biogeme database\n",
        "#bgm_swissmetro = db.Database('swissmetro', swissmetro)"
      ]
    },
    {
      "cell_type": "markdown",
      "metadata": {
        "id": "KqiArlqd0qFR"
      },
      "source": [
        "---\n",
        "---\n",
        "\n",
        "# Creating the model\n",
        "\n",
        "What we usually need to define in the multinomial logit can be summarized as:\n",
        " * Which variables in the database are we going to include in the model linear model.\n",
        " * What is the variable in the database that specifies the choice made, the alternative selected by an individual. The 'target variable' or dependent variable.\n",
        " * What variables are used in the modelling of each alternative. Remember that we can define a utility function for each alternative, this means that different alternatives could use different variables.\n",
        "\n",
        "We can connect this back to the utily theory view, we want to specify the functions that produce the observed component of the utility, the $V_{nj}$\n",
        "\n",
        "For each alternative $j$ and observation $n$, we consider the vector $x_{nj}$\n",
        "to be the joint vector of for both attributes and characteristics (to simplify things).  We try to find the vector of coefficients $\\beta_j$ for each alternative. In other words, we try to find the linear relationship between the variables and utility for each alternative:\n",
        "  $$V_{nj} = \\beta_j x_n$$\n",
        "\n",
        "Technical things to consider:\n",
        "\n",
        "* Consider that some attributes or characteristics are not relevant for some alternatives: This would be equivalent to fixing some of the values for $\\beta_j$ to 0 and not fitting them to data.\n",
        "* Consider that some attributes or characteristics 'share' the value of the coefficient. For example, we can specify that age affects the same way to all alternatives.\n"
      ]
    },
    {
      "cell_type": "markdown",
      "metadata": {
        "id": "0De-iYpQbw67"
      },
      "source": [
        "---\n",
        "---\n",
        "\n",
        "# The alternative specific constants:\n",
        "Just as in linear models we have the intercept, in choice models we have alternative specific constants. An important difference is that we cannot determine their 'true' value, because we have seen in the previous tutorial that the absolute level of utilities cannot be recovered, only relative differences among alternatives. In practice, what we will do is assume that the attribute specific characteristic of one of the alternatives is set to 0 and we do not fit it to the data. This will set a reference point.\n",
        "\n",
        "Again, which alternative we use as reference and what value for the ASC is arbitrary, up to use. We often choose wich alternative is set its ASC to 0 for interpretability (e.g. positive numbers in other ASCs will mean more utilty than the reference, negative numbers less utility than the reference, **all other things being equal**).\n"
      ]
    },
    {
      "cell_type": "markdown",
      "metadata": {
        "id": "PIouJf_BRyUu"
      },
      "source": [
        "---\n",
        "---\n",
        "\n",
        "# Definition of the model in biogeme\n",
        "We define the parameters of the model through the function `exp.Beta`.\n",
        "The function `exp.Beta` takes 5 arguments:\n",
        "1. the name of the parameter.\n",
        "2. the default value. We can use 0 for the default values unless we know a better starting value, for example when we have prior information.\n",
        "3. The lower bound, if we want to restrict it to a range, `None` if we do not want to restrict the value of the parameter. For example, sometimes we might know or would like to for a parameter to be positive.\n",
        "4. The upper bound, if we want to restrict it to a range, `None` if we do not want to restrict the value of the parameter.\n",
        "5. A 0/1 argument, 0 if the parameter must be estimated and 1 if it remains fixed.\n",
        "\n",
        "We will define a simple model with just the three ASCs and two parameters for two variables of interest, time and cost.\n",
        "Note that one of the ASCs, `ASC_SM` is set to not be estimated, notice the 1 in the value of the last argument when it is created. This comes from the explanation above, we set one of the ASCs arbitrarily to 0 because we utility cannot be recovered up to changes in constants, so we will pick among the many possible solutions the one that makes the ASC for the SwissMetro alternative 0.\n"
      ]
    },
    {
      "cell_type": "code",
      "execution_count": 42,
      "metadata": {
        "id": "zOpyvTcbRPy4"
      },
      "outputs": [],
      "source": [
        "ASC_CAR = exp.Beta ( 'ASC_CAR' ,0, None , None ,0)\n",
        "ASC_TRAIN = exp.Beta ( 'ASC_TRAIN' ,0, None , None ,0)\n",
        "ASC_SM = exp.Beta ( 'ASC_SM' ,0, None , None ,1)\n",
        "B_TIME = exp.Beta ( 'B_TIME' ,0, None , None ,0)\n",
        "B_COST = exp.Beta ( 'B_COST' ,0, None , None ,0)"
      ]
    },
    {
      "cell_type": "markdown",
      "metadata": {
        "id": "t3REqjxrj2x1"
      },
      "source": [
        "We will create an artificial variable, ussing the luggage variable but squared.\n",
        "This variable will only be included as a parameter for the utility of the car alternative. This is a totally arbitrary variable for the purposes of exposition, it does not mean that it is a good one."
      ]
    },
    {
      "cell_type": "code",
      "execution_count": 43,
      "metadata": {
        "id": "wwISbL_Gi-A_"
      },
      "outputs": [],
      "source": [
        "B_LUGGA_SQ = exp.Beta( 'B_LUGGA_SQ', 0, None, None, 0)\n",
        "LUGGA_SQ = LUGGAGE**2"
      ]
    },
    {
      "cell_type": "markdown",
      "metadata": {
        "id": "YT3brmCSUaLB"
      },
      "source": [
        "A warning from the creator of the biogeme package:\n",
        "when we define the parameters of our model, we store them into python variables.\n",
        "The author strongly recomments using the same name for the python variable\n",
        "than for the parameter.\n",
        "For example, while we could have define the variable following the code in the next cell, it is not recommended. I imagine that this could cause some confusion later on.\n",
        "\n"
      ]
    },
    {
      "cell_type": "code",
      "execution_count": 44,
      "metadata": {
        "id": "J6jlUKDRUfjx"
      },
      "outputs": [],
      "source": [
        "#doing this is not recommended!\n",
        "car_cte = exp.Beta( 'ASC_CAR' ,0, None , None ,0)"
      ]
    },
    {
      "cell_type": "markdown",
      "metadata": {
        "id": "4ECerH2CWOBV"
      },
      "source": [
        "We now define the utility functions for each alternative, more speficifically the linear relationship between the variables and the observed component of the utility. The are the $V_j$ in our model."
      ]
    },
    {
      "cell_type": "code",
      "execution_count": 45,
      "metadata": {
        "id": "VZ7iyvO4WEtz"
      },
      "outputs": [],
      "source": [
        "V1 = ASC_TRAIN + B_TIME * TRAIN_TT + B_COST * TRAIN_CO\n",
        "\n",
        "V2 = ASC_SM + B_TIME * SM_TT + B_COST * SM_CO\n",
        "\n",
        "V3 = ASC_CAR + B_TIME * CAR_TT + B_COST * CAR_CO + B_LUGGA_SQ*LUGGA_SQ\n"
      ]
    },
    {
      "cell_type": "markdown",
      "metadata": {
        "id": "DEC2xflnWfHr"
      },
      "source": [
        "We have to create a dictionary that maps the utility functions to the numbers that identify the alternatives in the database.\n",
        "In this case 1 for Train, 2 for Swissmetro, 3 for car."
      ]
    },
    {
      "cell_type": "code",
      "execution_count": 46,
      "metadata": {
        "id": "B8hQMvaFWekd"
      },
      "outputs": [],
      "source": [
        "V = {1: V1 ,\n",
        "2: V2 ,\n",
        "3: V3 }"
      ]
    },
    {
      "cell_type": "markdown",
      "metadata": {
        "id": "Bs6NR7URW4_w"
      },
      "source": [
        "We have to pass availabilities, these are the indicator variables signaling if the option is available for that individual. Remember that the multinomial does not need to have all alternatives present for all individuals, it can recover the model from data even if the full choice set is not available for all individuals. In most normal situations, availabilities can be set to one, becuase individuals observe all alternatives. **An example when this does npt happen can be a survey with many alternatives, and not all are presented to the individual at the same time.**"
      ]
    },
    {
      "cell_type": "code",
      "execution_count": 47,
      "metadata": {
        "id": "7cFRkLSQW5bZ"
      },
      "outputs": [],
      "source": [
        "av = {1: TRAIN_AV,\n",
        "2: SM_AV,\n",
        "3: CAR_AV }"
      ]
    },
    {
      "cell_type": "markdown",
      "metadata": {
        "id": "Ibxs6VjNDDo6"
      },
      "source": [
        "This is the definition of the model, in this case the multinomial logit (we will use other models later)."
      ]
    },
    {
      "cell_type": "code",
      "execution_count": 48,
      "metadata": {
        "id": "FFPU3K7EXlZm"
      },
      "outputs": [],
      "source": [
        "logprob = models.loglogit (V , av , CHOICE )"
      ]
    },
    {
      "cell_type": "markdown",
      "metadata": {
        "id": "G6TgmVHtdT9G"
      },
      "source": [
        "And finally we pack everything together in the biogeme object."
      ]
    },
    {
      "cell_type": "code",
      "execution_count": 49,
      "metadata": {
        "id": "4Qw4I1HdXgvb"
      },
      "outputs": [
        {
          "name": "stderr",
          "output_type": "stream",
          "text": [
            "File biogeme.toml has been created\n"
          ]
        }
      ],
      "source": [
        "bgm_model = bio.BIOGEME ( bgm_swissmetro, logprob )"
      ]
    },
    {
      "cell_type": "markdown",
      "metadata": {
        "id": "ez0sa4fAcT9b"
      },
      "source": [
        "We can give a name to the model, this can help identifying the model when we come back to it later, for example when we save it to a file and want to use it in another report."
      ]
    },
    {
      "cell_type": "code",
      "execution_count": 50,
      "metadata": {
        "id": "zn-2Fy3JX2Gi"
      },
      "outputs": [],
      "source": [
        "bgm_model.modelName = 'my first multinomial logit'"
      ]
    },
    {
      "cell_type": "markdown",
      "metadata": {
        "id": "86bZksOJb70Y"
      },
      "source": [
        "# Estimation of the model\n",
        "\n",
        "Everythin is set, biogeme will kindly do maximum likelihood estimation for us."
      ]
    },
    {
      "cell_type": "code",
      "execution_count": 51,
      "metadata": {
        "id": "XqRyOneGYG2t"
      },
      "outputs": [],
      "source": [
        "results = bgm_model.estimate()"
      ]
    },
    {
      "cell_type": "markdown",
      "metadata": {
        "id": "d4RInW7rcC3r"
      },
      "source": [
        "# Results of the model\n",
        "\n",
        "We can check a basic summary of the estimated model, likelihoods, information\n",
        "criterions, etc."
      ]
    },
    {
      "cell_type": "code",
      "execution_count": 52,
      "metadata": {
        "colab": {
          "base_uri": "https://localhost:8080/"
        },
        "id": "oMV3mFzuYJKB",
        "outputId": "84b7c1a2-c03c-4b29-a608-b389f1de6b8c"
      },
      "outputs": [
        {
          "data": {
            "text/plain": [
              "{'Number of estimated parameters': GeneralStatistic(value=5, format=''),\n",
              " 'Sample size': GeneralStatistic(value=10719, format=''),\n",
              " 'Excluded observations': GeneralStatistic(value=9, format=''),\n",
              " 'Init log likelihood': GeneralStatistic(value=-11093.627345287618, format='.7g'),\n",
              " 'Final log likelihood': GeneralStatistic(value=-8901.037009209915, format='.7g'),\n",
              " 'Likelihood ratio test for the init. model': GeneralStatistic(value=4385.180672155406, format='.7g'),\n",
              " 'Rho-square for the init. model': GeneralStatistic(value=0.19764413098021338, format='.3g'),\n",
              " 'Rho-square-bar for the init. model': GeneralStatistic(value=0.19719342177173038, format='.3g'),\n",
              " 'Akaike Information Criterion': GeneralStatistic(value=17812.07401841983, format='.7g'),\n",
              " 'Bayesian Information Criterion': GeneralStatistic(value=17848.47288415329, format='.7g'),\n",
              " 'Final gradient norm': GeneralStatistic(value=0.004939027446436052, format='.4E'),\n",
              " 'Nbr of threads': GeneralStatistic(value=12, format='')}"
            ]
          },
          "execution_count": 52,
          "metadata": {},
          "output_type": "execute_result"
        }
      ],
      "source": [
        "results.getGeneralStatistics()"
      ]
    },
    {
      "cell_type": "markdown",
      "metadata": {
        "id": "2IJGgJ59iHHB"
      },
      "source": [
        "The value of the parameters and the p-values for their statistical significance.\n",
        "**Note that ASC_SM is not shown, it was fixed to 0 by us.**"
      ]
    },
    {
      "cell_type": "code",
      "execution_count": 53,
      "metadata": {
        "colab": {
          "base_uri": "https://localhost:8080/",
          "height": 206
        },
        "id": "6wTlZ6NuYXAf",
        "outputId": "16886fc5-6f66-4a25-e250-90c7e332dcd6"
      },
      "outputs": [
        {
          "data": {
            "text/html": [
              "<div>\n",
              "<style scoped>\n",
              "    .dataframe tbody tr th:only-of-type {\n",
              "        vertical-align: middle;\n",
              "    }\n",
              "\n",
              "    .dataframe tbody tr th {\n",
              "        vertical-align: top;\n",
              "    }\n",
              "\n",
              "    .dataframe thead th {\n",
              "        text-align: right;\n",
              "    }\n",
              "</style>\n",
              "<table border=\"1\" class=\"dataframe\">\n",
              "  <thead>\n",
              "    <tr style=\"text-align: right;\">\n",
              "      <th></th>\n",
              "      <th>Value</th>\n",
              "      <th>Rob. Std err</th>\n",
              "      <th>Rob. t-test</th>\n",
              "      <th>Rob. p-value</th>\n",
              "    </tr>\n",
              "  </thead>\n",
              "  <tbody>\n",
              "    <tr>\n",
              "      <th>ASC_CAR</th>\n",
              "      <td>0.288124</td>\n",
              "      <td>0.042592</td>\n",
              "      <td>6.764825</td>\n",
              "      <td>1.334710e-11</td>\n",
              "    </tr>\n",
              "    <tr>\n",
              "      <th>ASC_TRAIN</th>\n",
              "      <td>-0.537467</td>\n",
              "      <td>0.053722</td>\n",
              "      <td>-10.004646</td>\n",
              "      <td>0.000000e+00</td>\n",
              "    </tr>\n",
              "    <tr>\n",
              "      <th>B_COST</th>\n",
              "      <td>0.000158</td>\n",
              "      <td>0.000017</td>\n",
              "      <td>9.170548</td>\n",
              "      <td>0.000000e+00</td>\n",
              "    </tr>\n",
              "    <tr>\n",
              "      <th>B_LUGGA_SQ</th>\n",
              "      <td>-0.107933</td>\n",
              "      <td>0.025667</td>\n",
              "      <td>-4.205102</td>\n",
              "      <td>2.609643e-05</td>\n",
              "    </tr>\n",
              "    <tr>\n",
              "      <th>B_TIME</th>\n",
              "      <td>-0.012348</td>\n",
              "      <td>0.000630</td>\n",
              "      <td>-19.593044</td>\n",
              "      <td>0.000000e+00</td>\n",
              "    </tr>\n",
              "  </tbody>\n",
              "</table>\n",
              "</div>"
            ],
            "text/plain": [
              "               Value  Rob. Std err  Rob. t-test  Rob. p-value\n",
              "ASC_CAR     0.288124      0.042592     6.764825  1.334710e-11\n",
              "ASC_TRAIN  -0.537467      0.053722   -10.004646  0.000000e+00\n",
              "B_COST      0.000158      0.000017     9.170548  0.000000e+00\n",
              "B_LUGGA_SQ -0.107933      0.025667    -4.205102  2.609643e-05\n",
              "B_TIME     -0.012348      0.000630   -19.593044  0.000000e+00"
            ]
          },
          "execution_count": 53,
          "metadata": {},
          "output_type": "execute_result"
        }
      ],
      "source": [
        "results.getEstimatedParameters()"
      ]
    },
    {
      "cell_type": "markdown",
      "metadata": {
        "id": "AjwSwASHiZ63"
      },
      "source": [
        "We can recover the values for the parameters in a dictionary."
      ]
    },
    {
      "cell_type": "code",
      "execution_count": 54,
      "metadata": {
        "colab": {
          "base_uri": "https://localhost:8080/"
        },
        "id": "hbIei-9NYqR4",
        "outputId": "83451212-1afc-4889-e23f-01c5dae26166"
      },
      "outputs": [
        {
          "data": {
            "text/plain": [
              "{'ASC_CAR': 0.2881244820618242,\n",
              " 'ASC_TRAIN': -0.5374670501471057,\n",
              " 'B_COST': 0.00015829508503941168,\n",
              " 'B_LUGGA_SQ': -0.10793261231219253,\n",
              " 'B_TIME': -0.012348121346857959}"
            ]
          },
          "execution_count": 54,
          "metadata": {},
          "output_type": "execute_result"
        }
      ],
      "source": [
        "results.getBetaValues()"
      ]
    },
    {
      "cell_type": "markdown",
      "metadata": {
        "id": "Nt46fenjfLJI"
      },
      "source": [
        "# Exercises\n",
        "\n"
      ]
    },
    {
      "cell_type": "markdown",
      "metadata": {
        "id": "rqM5utIDDl_S"
      },
      "source": [
        "\n",
        "## 1)Do you notice something unexepected in the sign of the cost parameter? Perhaps it has to do with another variable, `GA` the seasonal pass for public transport, a indicator variable of whether the individual has bought the seasonal pass or not. Create new variables for the cost of train and swissmetro that make the cost 0 if the user has bought the seasonal pass and keep the cost intact otherwise. *Please remove the 'luggage squared' variable.* Then fit the same model using those variables for their corresponding alternatives and check the results.\n",
        "\n",
        "The cost paramter is positive, we require some data cleaning.\n",
        "\n",
        "The way to do this is to create an indicator variable for 'did not buy a seasonal pass', a varible that takes the value 1 if the used did **not** buy the seasonal pass, 0 otherwise. We can do that several ways, one is by taking the condition 'equals 0' on the original GA, `GA == 0`. Boolean values False/True are transformed into 0/1 integers when computed. Another option, looking at the definition could be transform GA in (1-GA). The second step is to multiply the value of the original cost variables by this new indicator.\n",
        "\n",
        "In the next cell we will also create an auxiliary function to avoid repeating the code that creates and estimates the biogeme model. We will reuse it in other exercises. This auxiliary function takes the utility functions as input and outputs the results of the biogeme estimation.\n",
        "\n",
        "Finally, we will print the estimated parameters."
      ]
    },
    {
      "cell_type": "code",
      "execution_count": 55,
      "metadata": {
        "colab": {
          "base_uri": "https://localhost:8080/",
          "height": 175
        },
        "id": "mnF-Mjd45469",
        "outputId": "3e6d2c36-b064-44ac-ea9d-4a8c0be89378"
      },
      "outputs": [
        {
          "data": {
            "text/html": [
              "<div>\n",
              "<style scoped>\n",
              "    .dataframe tbody tr th:only-of-type {\n",
              "        vertical-align: middle;\n",
              "    }\n",
              "\n",
              "    .dataframe tbody tr th {\n",
              "        vertical-align: top;\n",
              "    }\n",
              "\n",
              "    .dataframe thead th {\n",
              "        text-align: right;\n",
              "    }\n",
              "</style>\n",
              "<table border=\"1\" class=\"dataframe\">\n",
              "  <thead>\n",
              "    <tr style=\"text-align: right;\">\n",
              "      <th></th>\n",
              "      <th>Value</th>\n",
              "      <th>Rob. Std err</th>\n",
              "      <th>Rob. t-test</th>\n",
              "      <th>Rob. p-value</th>\n",
              "    </tr>\n",
              "  </thead>\n",
              "  <tbody>\n",
              "    <tr>\n",
              "      <th>ASC_CAR</th>\n",
              "      <td>0.016228</td>\n",
              "      <td>0.037088</td>\n",
              "      <td>0.437559</td>\n",
              "      <td>0.661706</td>\n",
              "    </tr>\n",
              "    <tr>\n",
              "      <th>ASC_TRAIN</th>\n",
              "      <td>-0.652239</td>\n",
              "      <td>0.054394</td>\n",
              "      <td>-11.991019</td>\n",
              "      <td>0.000000</td>\n",
              "    </tr>\n",
              "    <tr>\n",
              "      <th>B_COST</th>\n",
              "      <td>-0.007898</td>\n",
              "      <td>0.000510</td>\n",
              "      <td>-15.496743</td>\n",
              "      <td>0.000000</td>\n",
              "    </tr>\n",
              "    <tr>\n",
              "      <th>B_TIME</th>\n",
              "      <td>-0.012789</td>\n",
              "      <td>0.000656</td>\n",
              "      <td>-19.496761</td>\n",
              "      <td>0.000000</td>\n",
              "    </tr>\n",
              "  </tbody>\n",
              "</table>\n",
              "</div>"
            ],
            "text/plain": [
              "              Value  Rob. Std err  Rob. t-test  Rob. p-value\n",
              "ASC_CAR    0.016228      0.037088     0.437559      0.661706\n",
              "ASC_TRAIN -0.652239      0.054394   -11.991019      0.000000\n",
              "B_COST    -0.007898      0.000510   -15.496743      0.000000\n",
              "B_TIME    -0.012789      0.000656   -19.496761      0.000000"
            ]
          },
          "execution_count": 55,
          "metadata": {},
          "output_type": "execute_result"
        }
      ],
      "source": [
        "TRAIN_CO_GA = TRAIN_CO * (GA ==0 )\n",
        "SM_CO_GA = SM_CO * (GA == 0)\n",
        "\n",
        "V1 = ASC_TRAIN + B_TIME * TRAIN_TT + B_COST * TRAIN_CO_GA\n",
        "V2 = ASC_SM + B_TIME * SM_TT + B_COST * SM_CO_GA\n",
        "V3 = ASC_CAR + B_TIME * CAR_TT + B_COST * CAR_CO # removing lugga+ B_LUGGA_SQ*LUGGA_SQ\n",
        "\n",
        "def estimate_swissmetro_from_V(V1, V2, V3):\n",
        " V = {1: V1 ,\n",
        "  2: V2 ,\n",
        "  3: V3 }\n",
        "\n",
        " av = {1: TRAIN_AV,\n",
        "  2: SM_AV,\n",
        "  3: CAR_AV }\n",
        "\n",
        " logprob = models.loglogit (V , av , CHOICE )\n",
        " bgm_model = bio.BIOGEME ( bgm_swissmetro, logprob )\n",
        " bgm_model.modelName = 'my first multinomial logit'\n",
        " results = bgm_model.estimate()\n",
        " return results\n",
        "\n",
        "resGA = estimate_swissmetro_from_V(V1, V2, V3)\n",
        "resGA.getEstimatedParameters()\n",
        "\n"
      ]
    },
    {
      "cell_type": "markdown",
      "metadata": {
        "id": "BZwOKnuo51s8"
      },
      "source": [
        "\n",
        "##2) Create a new model by *including two new variables*, INCOME and GENDER. Then estimate the model and compare it to the previous one. How can we compare them? Which one is better?\n"
      ]
    },
    {
      "cell_type": "markdown",
      "metadata": {
        "id": "Q5ZIiOWXGCtq"
      },
      "source": [
        "We add the variables\n",
        "'GENDER', the indicator of gender, and 'INCOME' a varible that approximates the income of the individual into 5 different sections. We will 'clean' the 'INCOME' variable by assigning the 'unknown' income section into the lower section. We can do this by creating an indicator variable for the unkown incomes and the subtracting it to the actual 'INCOME' multiplied by 4, this makes the rows with 'INCOME 4' into 'INCOME 0'. Values of INCOME 0 are turned into 1 to remove the ambiguety in the definition of the variable (0 and 1 imply the same section of income in the description of the dataset). *These variables are arbitrarily chosen, you could have chosen other variables, or other transformations of the same variables. One thing that is important, however, is to handle invalid values in some way. In this case the invalid values for income are assigned to the lower section of income ranges. Leaving the variable completely unchanged would be a small error.*\n",
        "\n",
        "We will begin with an example of doing it **wrong, there will be a problem with the model.**\n",
        "What is wrong with the following modelling is that we will be adding the socioeconomical characteristics using one parameter for all alternatives, similar to cost and travel time. *The problem here is that socieconomical variables have the same value for all alternatives, so modelling like this does not help with distinguishing the utilities, it will add the same amout of utility to all alternatives!.*\n",
        "We can see that the coefficients have values of 0."
      ]
    },
    {
      "cell_type": "code",
      "execution_count": 56,
      "metadata": {
        "colab": {
          "base_uri": "https://localhost:8080/",
          "height": 238
        },
        "id": "s8Uc5rK2F6gC",
        "outputId": "bf58dda9-7811-4d27-a724-6228dd33a59c"
      },
      "outputs": [
        {
          "data": {
            "text/html": [
              "<div>\n",
              "<style scoped>\n",
              "    .dataframe tbody tr th:only-of-type {\n",
              "        vertical-align: middle;\n",
              "    }\n",
              "\n",
              "    .dataframe tbody tr th {\n",
              "        vertical-align: top;\n",
              "    }\n",
              "\n",
              "    .dataframe thead th {\n",
              "        text-align: right;\n",
              "    }\n",
              "</style>\n",
              "<table border=\"1\" class=\"dataframe\">\n",
              "  <thead>\n",
              "    <tr style=\"text-align: right;\">\n",
              "      <th></th>\n",
              "      <th>Value</th>\n",
              "      <th>Rob. Std err</th>\n",
              "      <th>Rob. t-test</th>\n",
              "      <th>Rob. p-value</th>\n",
              "    </tr>\n",
              "  </thead>\n",
              "  <tbody>\n",
              "    <tr>\n",
              "      <th>ASC_CAR</th>\n",
              "      <td>0.016228</td>\n",
              "      <td>3.708770e-02</td>\n",
              "      <td>0.437559</td>\n",
              "      <td>0.661706</td>\n",
              "    </tr>\n",
              "    <tr>\n",
              "      <th>ASC_TRAIN</th>\n",
              "      <td>-0.652239</td>\n",
              "      <td>5.439392e-02</td>\n",
              "      <td>-11.991019</td>\n",
              "      <td>0.000000</td>\n",
              "    </tr>\n",
              "    <tr>\n",
              "      <th>B_COST</th>\n",
              "      <td>-0.007898</td>\n",
              "      <td>5.096494e-04</td>\n",
              "      <td>-15.496743</td>\n",
              "      <td>0.000000</td>\n",
              "    </tr>\n",
              "    <tr>\n",
              "      <th>B_INCOME</th>\n",
              "      <td>0.000000</td>\n",
              "      <td>4.509485e-20</td>\n",
              "      <td>0.000000</td>\n",
              "      <td>1.000000</td>\n",
              "    </tr>\n",
              "    <tr>\n",
              "      <th>B_MALE</th>\n",
              "      <td>0.000000</td>\n",
              "      <td>3.676304e-19</td>\n",
              "      <td>0.000000</td>\n",
              "      <td>1.000000</td>\n",
              "    </tr>\n",
              "    <tr>\n",
              "      <th>B_TIME</th>\n",
              "      <td>-0.012789</td>\n",
              "      <td>6.559765e-04</td>\n",
              "      <td>-19.496761</td>\n",
              "      <td>0.000000</td>\n",
              "    </tr>\n",
              "  </tbody>\n",
              "</table>\n",
              "</div>"
            ],
            "text/plain": [
              "              Value  Rob. Std err  Rob. t-test  Rob. p-value\n",
              "ASC_CAR    0.016228  3.708770e-02     0.437559      0.661706\n",
              "ASC_TRAIN -0.652239  5.439392e-02   -11.991019      0.000000\n",
              "B_COST    -0.007898  5.096494e-04   -15.496743      0.000000\n",
              "B_INCOME   0.000000  4.509485e-20     0.000000      1.000000\n",
              "B_MALE     0.000000  3.676304e-19     0.000000      1.000000\n",
              "B_TIME    -0.012789  6.559765e-04   -19.496761      0.000000"
            ]
          },
          "execution_count": 56,
          "metadata": {},
          "output_type": "execute_result"
        }
      ],
      "source": [
        "#BAD example, socieconomic variables are shared among alternatives\n",
        "B_MALE = exp.Beta( 'B_MALE', 0, None, None, 0)\n",
        "B_INCOME = exp.Beta( 'B_INCOME', 0, None, None, 0)\n",
        "INCOME_FIX = INCOME - 4*(INCOME==4)\n",
        "INCOME_FIX = INCOME_FIX + (INCOME==0)\n",
        "\n",
        "\n",
        "tV1 = ASC_TRAIN + B_TIME * TRAIN_TT + B_COST * TRAIN_CO_GA + B_MALE*MALE + B_INCOME*INCOME_FIX\n",
        "tV2 = ASC_SM + B_TIME * SM_TT + B_COST * SM_CO_GA + B_MALE*MALE + B_INCOME*INCOME_FIX\n",
        "tV3 = ASC_CAR + B_TIME * CAR_TT + B_COST * CAR_CO + B_MALE*MALE + B_INCOME*INCOME_FIX\n",
        "\n",
        "resTwoNewVar = estimate_swissmetro_from_V(tV1, tV2, tV3)\n",
        "resTwoNewVar.getEstimatedParameters()"
      ]
    },
    {
      "cell_type": "markdown",
      "metadata": {
        "id": "6dXC56-cydZ7"
      },
      "source": [
        "We need to add one *parameter per alternative*, to signify that these variables have different influence depending on the alternative."
      ]
    },
    {
      "cell_type": "code",
      "execution_count": 57,
      "metadata": {
        "colab": {
          "base_uri": "https://localhost:8080/",
          "height": 363
        },
        "id": "AgkG7tJP55Um",
        "outputId": "2b85da76-b9e8-49a5-855d-664699092115"
      },
      "outputs": [
        {
          "data": {
            "text/html": [
              "<div>\n",
              "<style scoped>\n",
              "    .dataframe tbody tr th:only-of-type {\n",
              "        vertical-align: middle;\n",
              "    }\n",
              "\n",
              "    .dataframe tbody tr th {\n",
              "        vertical-align: top;\n",
              "    }\n",
              "\n",
              "    .dataframe thead th {\n",
              "        text-align: right;\n",
              "    }\n",
              "</style>\n",
              "<table border=\"1\" class=\"dataframe\">\n",
              "  <thead>\n",
              "    <tr style=\"text-align: right;\">\n",
              "      <th></th>\n",
              "      <th>Value</th>\n",
              "      <th>Rob. Std err</th>\n",
              "      <th>Rob. t-test</th>\n",
              "      <th>Rob. p-value</th>\n",
              "    </tr>\n",
              "  </thead>\n",
              "  <tbody>\n",
              "    <tr>\n",
              "      <th>ASC_CAR</th>\n",
              "      <td>-0.112620</td>\n",
              "      <td>0.076556</td>\n",
              "      <td>-1.471075</td>\n",
              "      <td>1.412709e-01</td>\n",
              "    </tr>\n",
              "    <tr>\n",
              "      <th>ASC_TRAIN</th>\n",
              "      <td>0.517046</td>\n",
              "      <td>0.073808</td>\n",
              "      <td>7.005259</td>\n",
              "      <td>2.465361e-12</td>\n",
              "    </tr>\n",
              "    <tr>\n",
              "      <th>B_COST</th>\n",
              "      <td>-0.008037</td>\n",
              "      <td>0.000502</td>\n",
              "      <td>-15.997457</td>\n",
              "      <td>0.000000e+00</td>\n",
              "    </tr>\n",
              "    <tr>\n",
              "      <th>B_INCOME_CAR</th>\n",
              "      <td>0.131526</td>\n",
              "      <td>0.019538</td>\n",
              "      <td>6.731654</td>\n",
              "      <td>1.677458e-11</td>\n",
              "    </tr>\n",
              "    <tr>\n",
              "      <th>B_INCOME_SM</th>\n",
              "      <td>0.196533</td>\n",
              "      <td>0.016582</td>\n",
              "      <td>11.852170</td>\n",
              "      <td>0.000000e+00</td>\n",
              "    </tr>\n",
              "    <tr>\n",
              "      <th>B_INCOME_TR</th>\n",
              "      <td>-0.328059</td>\n",
              "      <td>0.021557</td>\n",
              "      <td>-15.218519</td>\n",
              "      <td>0.000000e+00</td>\n",
              "    </tr>\n",
              "    <tr>\n",
              "      <th>B_MALE_CAR</th>\n",
              "      <td>0.330376</td>\n",
              "      <td>0.044827</td>\n",
              "      <td>7.369970</td>\n",
              "      <td>1.707523e-13</td>\n",
              "    </tr>\n",
              "    <tr>\n",
              "      <th>B_MALE_SM</th>\n",
              "      <td>0.058849</td>\n",
              "      <td>0.036481</td>\n",
              "      <td>1.613158</td>\n",
              "      <td>1.067103e-01</td>\n",
              "    </tr>\n",
              "    <tr>\n",
              "      <th>B_MALE_TR</th>\n",
              "      <td>-0.389225</td>\n",
              "      <td>0.043617</td>\n",
              "      <td>-8.923653</td>\n",
              "      <td>0.000000e+00</td>\n",
              "    </tr>\n",
              "    <tr>\n",
              "      <th>B_TIME</th>\n",
              "      <td>-0.012244</td>\n",
              "      <td>0.000658</td>\n",
              "      <td>-18.606593</td>\n",
              "      <td>0.000000e+00</td>\n",
              "    </tr>\n",
              "  </tbody>\n",
              "</table>\n",
              "</div>"
            ],
            "text/plain": [
              "                 Value  Rob. Std err  Rob. t-test  Rob. p-value\n",
              "ASC_CAR      -0.112620      0.076556    -1.471075  1.412709e-01\n",
              "ASC_TRAIN     0.517046      0.073808     7.005259  2.465361e-12\n",
              "B_COST       -0.008037      0.000502   -15.997457  0.000000e+00\n",
              "B_INCOME_CAR  0.131526      0.019538     6.731654  1.677458e-11\n",
              "B_INCOME_SM   0.196533      0.016582    11.852170  0.000000e+00\n",
              "B_INCOME_TR  -0.328059      0.021557   -15.218519  0.000000e+00\n",
              "B_MALE_CAR    0.330376      0.044827     7.369970  1.707523e-13\n",
              "B_MALE_SM     0.058849      0.036481     1.613158  1.067103e-01\n",
              "B_MALE_TR    -0.389225      0.043617    -8.923653  0.000000e+00\n",
              "B_TIME       -0.012244      0.000658   -18.606593  0.000000e+00"
            ]
          },
          "execution_count": 57,
          "metadata": {},
          "output_type": "execute_result"
        }
      ],
      "source": [
        "#one example, per alternative socieocon:\n",
        "B_MALE_TR = exp.Beta( 'B_MALE_TR', 0, None, None, 0)\n",
        "B_MALE_SM = exp.Beta( 'B_MALE_SM', 0, None, None, 0)\n",
        "B_MALE_CAR = exp.Beta( 'B_MALE_CAR', 0, None, None, 0)\n",
        "B_INCOME_TR = exp.Beta( 'B_INCOME_TR', 0, None, None, 0)\n",
        "B_INCOME_SM = exp.Beta( 'B_INCOME_SM', 0, None, None, 0)\n",
        "B_INCOME_CAR = exp.Beta( 'B_INCOME_CAR', 0, None, None, 0)\n",
        "\n",
        "tV1 = ASC_TRAIN + B_TIME * TRAIN_TT + B_COST * TRAIN_CO_GA + B_MALE_TR*MALE + B_INCOME_TR*INCOME_FIX\n",
        "tV2 = ASC_SM + B_TIME * SM_TT + B_COST * SM_CO_GA + B_MALE_SM*MALE + B_INCOME_SM*INCOME_FIX\n",
        "tV3 = ASC_CAR + B_TIME * CAR_TT + B_COST * CAR_CO + B_MALE_CAR*MALE+ B_INCOME_CAR*INCOME_FIX\n",
        "\n",
        "resTwoNewVar = estimate_swissmetro_from_V(tV1, tV2, tV3)\n",
        "resTwoNewVar.getEstimatedParameters()\n"
      ]
    },
    {
      "cell_type": "markdown",
      "metadata": {
        "id": "V9E9houqy8g9"
      },
      "source": [
        "Note the coefficients look much better! We can look at the interpretation.\n",
        "Incomne has a positive relationship with car and Swissmetro, meaning that the larger the income, the more likely it makes individuals to go for these two alternatives. The coefficient of income for train is negative, the larger the income, the less likel to go or car. The effect of income is larger for swissmetro than for car.\n",
        "\n",
        "The influence of gender: Being male makes it more likely to choose car, and less likely to go for train. The effect of swismetro is positive, but small.\n",
        "\n",
        "**Important: We could have gotten all positive coefficients for the 'is male' variable, and still get the same conclusion. Why is that?** *We go back to the notion  of choice probabilities not being affected by adding a constant to the  observed utilities of each alternative. For example, if being male adds $2, 1, -1$ respectively to car, swissmetro and train, adding $4, 3, 1$ can produce the same results in terms of choice probabilities. It will depend on the other variables in the model, particular initial/reference values, etc.* **This is important if we get all positive values and interpret it as 'being male makes taking car, swissmetro and train more likely', it is clearly nonsense in our scenario, because you cannot make all alternatives more likely. So we have to always take into account one of the alternatives as reference.**\n",
        "\n",
        "\n",
        "---"
      ]
    },
    {
      "cell_type": "markdown",
      "metadata": {
        "id": "WmodkEFUnRP9"
      },
      "source": [
        "The second part of the question is to compare to the previous model, the one that used only travel cost and travel time.\n",
        "\n",
        "To do a **non rigorous** comparison of which model does better we can use the value of the likelihood, larger 'Final log likelihood' implies a better model.\n",
        "Another comparison is the prediction accuracy."
      ]
    },
    {
      "cell_type": "code",
      "execution_count": 58,
      "metadata": {
        "colab": {
          "base_uri": "https://localhost:8080/"
        },
        "id": "VIhXPGtTy2MY",
        "outputId": "62db9b69-af0b-4977-f224-db0b7afc7f8d"
      },
      "outputs": [
        {
          "data": {
            "text/plain": [
              "{'Number of estimated parameters': GeneralStatistic(value=10, format=''),\n",
              " 'Sample size': GeneralStatistic(value=10719, format=''),\n",
              " 'Excluded observations': GeneralStatistic(value=9, format=''),\n",
              " 'Init log likelihood': GeneralStatistic(value=-8670.163118523695, format='.7g'),\n",
              " 'Final log likelihood': GeneralStatistic(value=-8436.308151344938, format='.7g'),\n",
              " 'Likelihood ratio test for the init. model': GeneralStatistic(value=467.7099343575137, format='.7g'),\n",
              " 'Rho-square for the init. model': GeneralStatistic(value=0.026972383792771892, format='.3g'),\n",
              " 'Rho-square-bar for the init. model': GeneralStatistic(value=0.025819002955145498, format='.3g'),\n",
              " 'Akaike Information Criterion': GeneralStatistic(value=16892.616302689876, format='.7g'),\n",
              " 'Bayesian Information Criterion': GeneralStatistic(value=16965.41403415679, format='.7g'),\n",
              " 'Final gradient norm': GeneralStatistic(value=1.3354244666373642e-05, format='.4E'),\n",
              " 'Nbr of threads': GeneralStatistic(value=12, format='')}"
            ]
          },
          "execution_count": 58,
          "metadata": {},
          "output_type": "execute_result"
        }
      ],
      "source": [
        "resTwoNewVar.getGeneralStatistics()"
      ]
    },
    {
      "cell_type": "code",
      "execution_count": 59,
      "metadata": {
        "colab": {
          "base_uri": "https://localhost:8080/"
        },
        "id": "YNlVYbLo4TEf",
        "outputId": "3107a59e-a565-49a3-dbcc-e204e2dbb5b4"
      },
      "outputs": [
        {
          "data": {
            "text/plain": [
              "{'Number of estimated parameters': GeneralStatistic(value=4, format=''),\n",
              " 'Sample size': GeneralStatistic(value=10719, format=''),\n",
              " 'Excluded observations': GeneralStatistic(value=9, format=''),\n",
              " 'Init log likelihood': GeneralStatistic(value=-8978.280795877374, format='.7g'),\n",
              " 'Final log likelihood': GeneralStatistic(value=-8670.163118523695, format='.7g'),\n",
              " 'Likelihood ratio test for the init. model': GeneralStatistic(value=616.235354707358, format='.7g'),\n",
              " 'Rho-square for the init. model': GeneralStatistic(value=0.034318115501038915, format='.3g'),\n",
              " 'Rho-square-bar for the init. model': GeneralStatistic(value=0.03387259590870928, format='.3g'),\n",
              " 'Akaike Information Criterion': GeneralStatistic(value=17348.32623704739, format='.7g'),\n",
              " 'Bayesian Information Criterion': GeneralStatistic(value=17377.445329634156, format='.7g'),\n",
              " 'Final gradient norm': GeneralStatistic(value=1.539037866047243e-06, format='.4E'),\n",
              " 'Nbr of threads': GeneralStatistic(value=12, format='')}"
            ]
          },
          "execution_count": 59,
          "metadata": {},
          "output_type": "execute_result"
        }
      ],
      "source": [
        "resGA.getGeneralStatistics()"
      ]
    },
    {
      "cell_type": "markdown",
      "metadata": {
        "id": "fAjgVR5xFCsK"
      },
      "source": [
        "Because these models are **nested** (the second model includes all variables of the first), we can make the comparison more rigorous by doing a statistical test. The common test is the likelihood ratio test, the null hypothesis is that the more complex model is not significantly better than the reference model.\n",
        "We test if the likelihood of the complex model is larger enough than the likelihood of the reference model. By construction a model that is more complex and includes all the variables of the reference will always have the same or better likelihood of the reference, because it just has more parameters to fit the same data. We check if it is sufficiently better by considering the number of extra parameters that the more complex model is using.\n",
        "The test statistics is $2(\\text{Loglikelihood}_\\text{complex model} - \\text{Loglikelihood}_\\text{reference model})$ and it should be distributed as a Chi-squared distribution with the degrees of freedom equal to the difference in the number of parameters.\n",
        "\n",
        "Below the code to do the tests, in two ways\n",
        " * Looking at the results of getGeneralStatistics() and manually calculating the p-value from the Chi-squared\n",
        "\n",
        " * Using the implementation of the likelihood ratio test on the biogeme package.\n",
        "   We can access the values programmatically in the element .data of the biogeme results data structure. We have to pass loglikelihoods and number of parameters of the models to be compared, and then the significance level."
      ]
    },
    {
      "cell_type": "markdown",
      "metadata": {},
      "source": [
        "* $H_0$: $M_B$ is not better than $M_A$"
      ]
    },
    {
      "cell_type": "code",
      "execution_count": 60,
      "metadata": {
        "colab": {
          "base_uri": "https://localhost:8080/"
        },
        "id": "QcolWITM11I4",
        "outputId": "a41ff49e-84a8-4e46-86a6-85e3a94aecf9"
      },
      "outputs": [
        {
          "data": {
            "text/plain": [
              "0.0"
            ]
          },
          "execution_count": 60,
          "metadata": {},
          "output_type": "execute_result"
        }
      ],
      "source": [
        "from scipy import stats\n",
        "import biogeme.tools as tools\n",
        "\n",
        "#manually using the chi-square distribution and copy-pasting the results from getGeneralStatistics()\n",
        "1 - stats.chi2.cdf( 2*(-8462 - -8687), 6)\n",
        "\n",
        "#using the implementation provided by biogeme, in the package biogeme.tools\n",
        "#we take the values from the results object\n",
        "tools.likelihood_ratio_test( (resTwoNewVar.data.logLike, resTwoNewVar.data.nparam),\n",
        "                            (resGA.data.logLike, resGA.data.nparam), 0.05)"
      ]
    },
    {
      "cell_type": "markdown",
      "metadata": {
        "id": "iPVKeSfRHFlQ"
      },
      "source": [
        "An it seems that the second model is clearly better.\n",
        "\n",
        "**One caveat of hypothesis tests:** To really trust the results of the test, we should have established the two models to be compared **before seeing the data**. If we have the dataset and try and try different models until we get one that is significantly better than the reference, we are falling into the problem of multiple hypothesis testing. This is a huge problem in practice! Can lead to spurious results, 'findings' than then will not translate to practice.\n",
        "\n",
        "Another way is to use a holdout set, part of the data that is not used for fitting the model, only to check accuracies and likelihoods. This is the preferred approach (when available), but we must also be careful not to use it to find a good model by trial an error. Ideally should be used to compare models only once. When using a holdout set, the number of parameters can be ignored for the purposes of comparing likelihoods or accuracies. In summary, using holdout sets follows the 'scientific method', first generate the hypothsis using some data (the training data used to fit the models), then test the hypothesis using new data (the holdout)."
      ]
    },
    {
      "cell_type": "markdown",
      "metadata": {
        "id": "CecR3CjII0BP"
      },
      "source": [
        "**Final observation: When should we use shared or per-alternative parameters for the attributes of the alternatives?**\n",
        "As a general guideline, if we have enough data, it is better to use per-alternative parameters. If we require a very simple interpretation, we might simplify and use shared parameters."
      ]
    },
    {
      "cell_type": "markdown",
      "metadata": {},
      "source": [
        "nested models\n",
        "\n",
        "simple model $\\in$ complex model"
      ]
    },
    {
      "cell_type": "markdown",
      "metadata": {
        "id": "mdDsNIDw54DR"
      },
      "source": [
        "\n",
        "## 3) Create a model that calculates a specific coefficient for the price and travel time of each alternative. Check the model and calculate willingness to pay for the travel time of each alternative (*you can take a look at the definition in Week 3)*."
      ]
    },
    {
      "cell_type": "markdown",
      "metadata": {
        "id": "0jbyogQmmbb6"
      },
      "source": [
        "We should know how to calcule per-alternative parameters by now."
      ]
    },
    {
      "cell_type": "code",
      "execution_count": 61,
      "metadata": {
        "colab": {
          "base_uri": "https://localhost:8080/",
          "height": 300
        },
        "id": "-UzDM2x-56NK",
        "outputId": "4194f4f4-bd32-4f29-eeb1-a587728ab456"
      },
      "outputs": [
        {
          "data": {
            "text/html": [
              "<div>\n",
              "<style scoped>\n",
              "    .dataframe tbody tr th:only-of-type {\n",
              "        vertical-align: middle;\n",
              "    }\n",
              "\n",
              "    .dataframe tbody tr th {\n",
              "        vertical-align: top;\n",
              "    }\n",
              "\n",
              "    .dataframe thead th {\n",
              "        text-align: right;\n",
              "    }\n",
              "</style>\n",
              "<table border=\"1\" class=\"dataframe\">\n",
              "  <thead>\n",
              "    <tr style=\"text-align: right;\">\n",
              "      <th></th>\n",
              "      <th>Value</th>\n",
              "      <th>Rob. Std err</th>\n",
              "      <th>Rob. t-test</th>\n",
              "      <th>Rob. p-value</th>\n",
              "    </tr>\n",
              "  </thead>\n",
              "  <tbody>\n",
              "    <tr>\n",
              "      <th>ASC_CAR</th>\n",
              "      <td>-0.595075</td>\n",
              "      <td>0.072853</td>\n",
              "      <td>-8.168154</td>\n",
              "      <td>2.220446e-16</td>\n",
              "    </tr>\n",
              "    <tr>\n",
              "      <th>ASC_TRAIN</th>\n",
              "      <td>-0.019693</td>\n",
              "      <td>0.084129</td>\n",
              "      <td>-0.234079</td>\n",
              "      <td>8.149233e-01</td>\n",
              "    </tr>\n",
              "    <tr>\n",
              "      <th>B_COST_CAR</th>\n",
              "      <td>-0.006589</td>\n",
              "      <td>0.000987</td>\n",
              "      <td>-6.676130</td>\n",
              "      <td>2.453349e-11</td>\n",
              "    </tr>\n",
              "    <tr>\n",
              "      <th>B_COST_SM</th>\n",
              "      <td>-0.007866</td>\n",
              "      <td>0.000532</td>\n",
              "      <td>-14.782213</td>\n",
              "      <td>0.000000e+00</td>\n",
              "    </tr>\n",
              "    <tr>\n",
              "      <th>B_COST_TR</th>\n",
              "      <td>-0.018539</td>\n",
              "      <td>0.001305</td>\n",
              "      <td>-14.202979</td>\n",
              "      <td>0.000000e+00</td>\n",
              "    </tr>\n",
              "    <tr>\n",
              "      <th>B_TT_CAR</th>\n",
              "      <td>-0.010574</td>\n",
              "      <td>0.000955</td>\n",
              "      <td>-11.066955</td>\n",
              "      <td>0.000000e+00</td>\n",
              "    </tr>\n",
              "    <tr>\n",
              "      <th>B_TT_SM</th>\n",
              "      <td>-0.014600</td>\n",
              "      <td>0.001011</td>\n",
              "      <td>-14.442609</td>\n",
              "      <td>0.000000e+00</td>\n",
              "    </tr>\n",
              "    <tr>\n",
              "      <th>B_TT_TR</th>\n",
              "      <td>-0.014035</td>\n",
              "      <td>0.000888</td>\n",
              "      <td>-15.804933</td>\n",
              "      <td>0.000000e+00</td>\n",
              "    </tr>\n",
              "  </tbody>\n",
              "</table>\n",
              "</div>"
            ],
            "text/plain": [
              "               Value  Rob. Std err  Rob. t-test  Rob. p-value\n",
              "ASC_CAR    -0.595075      0.072853    -8.168154  2.220446e-16\n",
              "ASC_TRAIN  -0.019693      0.084129    -0.234079  8.149233e-01\n",
              "B_COST_CAR -0.006589      0.000987    -6.676130  2.453349e-11\n",
              "B_COST_SM  -0.007866      0.000532   -14.782213  0.000000e+00\n",
              "B_COST_TR  -0.018539      0.001305   -14.202979  0.000000e+00\n",
              "B_TT_CAR   -0.010574      0.000955   -11.066955  0.000000e+00\n",
              "B_TT_SM    -0.014600      0.001011   -14.442609  0.000000e+00\n",
              "B_TT_TR    -0.014035      0.000888   -15.804933  0.000000e+00"
            ]
          },
          "execution_count": 61,
          "metadata": {},
          "output_type": "execute_result"
        }
      ],
      "source": [
        "B_TT_TR = exp.Beta( 'B_TT_TR', 0, None, None, 0)\n",
        "B_TT_SM = exp.Beta( 'B_TT_SM', 0, None, None, 0)\n",
        "B_TT_CAR = exp.Beta( 'B_TT_CAR', 0, None, None, 0)\n",
        "B_COST_TR = exp.Beta( 'B_COST_TR', 0, None, None, 0)\n",
        "B_COST_SM = exp.Beta( 'B_COST_SM', 0, None, None, 0)\n",
        "B_COST_CAR = exp.Beta( 'B_COST_CAR', 0, None, None, 0)\n",
        "\n",
        "wV1 = ASC_TRAIN + B_TT_TR * TRAIN_TT + B_COST_TR * TRAIN_CO_GA\n",
        "wV2 = ASC_SM + B_TT_SM * SM_TT + B_COST_SM * SM_CO_GA\n",
        "wV3 = ASC_CAR + B_TT_CAR * CAR_TT + B_COST_CAR * CAR_CO\n",
        "\n",
        "\n",
        "\n",
        "reswtp = estimate_swissmetro_from_V(wV1, wV2, wV3)\n",
        "reswtp.getEstimatedParameters()"
      ]
    },
    {
      "cell_type": "markdown",
      "metadata": {
        "id": "UHt8ie537Yjz"
      },
      "source": [
        "The willingness to pay, in linear utility (what we have now) can be summarized as the coefficient of the variable of interest for that alternative divided by the cost coefficient for that alternative.\n",
        "\n",
        "We can compute them manually, here the tuple for WTP of car, swissmetro and train."
      ]
    },
    {
      "cell_type": "code",
      "execution_count": 62,
      "metadata": {
        "colab": {
          "base_uri": "https://localhost:8080/"
        },
        "id": "0iScqbxC9A0j",
        "outputId": "143866b1-1af2-4f0c-ed0c-f4d7587250c1"
      },
      "outputs": [
        {
          "data": {
            "text/plain": [
              "(1.66346623270952, 1.631707886140924, 0.7936787153152131)"
            ]
          },
          "execution_count": 62,
          "metadata": {},
          "output_type": "execute_result"
        }
      ],
      "source": [
        "(-0.010222 / -0.006145,\n",
        "\n",
        "-0.013987 / -0.008572,\n",
        "\n",
        " -0.013987 / -0.017623)\n"
      ]
    },
    {
      "cell_type": "markdown",
      "metadata": {
        "id": "naIuycKDAodf"
      },
      "source": [
        "The willingness to pay to reduce he travel time in car is he highest and train is the lowest. The inepretation is that indivuals are willing to pay 1.7 francs to reduce their travel time in one minute, it is the most 'annoying' of the methods of transport. I find surprising that the swissmetro, given that is is a 'luxury' fast train, is more annoying than the train. Of course the data comes from a survey so the individuals have not actually experienced the fast train.\n",
        "\n",
        "We can calculate them programmatrically by recovering the dictionary of the parameters."
      ]
    },
    {
      "cell_type": "code",
      "execution_count": 63,
      "metadata": {
        "colab": {
          "base_uri": "https://localhost:8080/"
        },
        "id": "Vq4Xw1m5ACb4",
        "outputId": "a7acd68a-3cd9-4ec8-bfc5-ce860f9040ed"
      },
      "outputs": [
        {
          "data": {
            "text/plain": [
              "(1.604889448794222, 1.8560449116193527, 0.7570617692755989)"
            ]
          },
          "execution_count": 63,
          "metadata": {},
          "output_type": "execute_result"
        }
      ],
      "source": [
        "\n",
        "Betas = reswtp.getBetaValues()\n",
        "(Betas['B_TT_CAR'] / Betas['B_COST_CAR'],\n",
        " Betas['B_TT_SM'] / Betas['B_COST_SM'],\n",
        " Betas['B_TT_TR'] / Betas['B_COST_TR'])"
      ]
    },
    {
      "cell_type": "markdown",
      "metadata": {
        "id": "gehSxNcztWK5"
      },
      "source": [
        "Remember that there is a more general definition of willingess to pay, the ratio of the derivatives of utility w.r.t to the variable of interest and cost.\n",
        "\n",
        "A final note, the WTP will depend on the specific model that we use, so it can vary wildly."
      ]
    }
  ],
  "metadata": {
    "colab": {
      "name": "solu_tuto_04_multinomial",
      "provenance": []
    },
    "kernelspec": {
      "display_name": "Python 3",
      "name": "python3"
    },
    "language_info": {
      "codemirror_mode": {
        "name": "ipython",
        "version": 3
      },
      "file_extension": ".py",
      "mimetype": "text/x-python",
      "name": "python",
      "nbconvert_exporter": "python",
      "pygments_lexer": "ipython3",
      "version": "3.10.9"
    }
  },
  "nbformat": 4,
  "nbformat_minor": 0
}
