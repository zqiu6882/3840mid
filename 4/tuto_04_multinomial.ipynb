{
  "cells": [
    {
      "cell_type": "markdown",
      "metadata": {
        "id": "zuJImh8WqX_m"
      },
      "source": [
        "# Tutorial 4: Multinomial logit using the python biogeme package"
      ]
    },
    {
      "cell_type": "markdown",
      "metadata": {
        "id": "tzgJbWL2qlAP"
      },
      "source": [
        "We will learn to specify multinomial logit models using the biogeme package.\n",
        "\n",
        "\"*Biogeme is a open source Python package designed for the maximum likelihood estimation of parametric models in general, with a special emphasis on discrete choice models.*\""
      ]
    },
    {
      "cell_type": "markdown",
      "metadata": {
        "id": "vb9SIunnASNB"
      },
      "source": [
        "# Preparing the environment"
      ]
    },
    {
      "cell_type": "markdown",
      "metadata": {
        "id": "rlvYdSNvrRfV"
      },
      "source": [
        "Google colab environment does not have biogeme installed by default,\n",
        "so we need to install in every session. Hopefully, it will take less than one minute. Once installed it will be valid until the session expires (or we reset it)."
      ]
    },
    {
      "cell_type": "markdown",
      "metadata": {
        "id": "1z0X9xZ8rChf"
      },
      "source": [
        "First load the packages typical packages, biogeme and the common one for python data analysis."
      ]
    },
    {
      "cell_type": "code",
      "execution_count": 1,
      "metadata": {
        "id": "apVB-TMkrFnb"
      },
      "outputs": [],
      "source": [
        "import pandas  as pd\n",
        "import numpy as np\n",
        "import seaborn as sns\n",
        "import matplotlib.pyplot as plt\n",
        "\n",
        "import biogeme.database as db\n",
        "import biogeme.biogeme as bio\n",
        "import biogeme.models as models\n",
        "import biogeme.expressions as exp\n"
      ]
    },
    {
      "cell_type": "markdown",
      "metadata": {
        "id": "Mgv0hV1YAieW"
      },
      "source": [
        "# The dataset\n",
        "\n",
        "We will use the example from the biogeme package, Swissmetro dataset:\n",
        "\n",
        "\"*This dataset consists of survey data collected on the trains between St. Gallen and Geneva, Switzerland, during March 1998. The respondents provided information in order to analyze the impact of\n",
        "the modal innovation in transportation (a new mode of transport), represented by the Swissmetro, a revolutionary mag-lev underground system, against the usual transport modes represented by car and train.*\""
      ]
    },
    {
      "cell_type": "markdown",
      "metadata": {
        "id": "_Zq_3AwIr7u8"
      },
      "source": [
        "---\n",
        "---\n",
        "\n",
        "#Loading the dataset\n",
        "\n",
        "Biogeme can interact with the popular pandas package, so we can load the dataset in pandas first and then pass it to biogeme.\n",
        "\n",
        "This specific dataset uses the format 'tab separated values' instead of the more common 'comma separated values'. We can specify this non-standard separator by the argument `sep` in `pandas.read_csv`.\n",
        "\n"
      ]
    },
    {
      "cell_type": "code",
      "execution_count": 2,
      "metadata": {
        "id": "g1Ykn5Ytr7Rs"
      },
      "outputs": [],
      "source": [
        "swissmetro = pd.read_csv('http://transp-or.epfl.ch/data/swissmetro.dat', sep='\\t')"
      ]
    },
    {
      "cell_type": "markdown",
      "metadata": {
        "id": "ZY55r3Gesb3t"
      },
      "source": [
        "We will take a look at it, using the head() method of to display the first few rows.\n",
        "\n",
        "There is a detailed description of the dataset\n",
        "variables [here](http://transp-or.epfl.ch/documents/technicalReports/CS_SwissmetroDescription.pdf). **You will need to take a look at them later\n",
        "to understand the data and create your own models.**"
      ]
    },
    {
      "cell_type": "code",
      "execution_count": 3,
      "metadata": {
        "colab": {
          "base_uri": "https://localhost:8080/",
          "height": 236
        },
        "id": "ldkmnMhssemT",
        "outputId": "5b699118-0fcf-4b96-af6f-992c1965fdee"
      },
      "outputs": [
        {
          "data": {
            "text/html": [
              "<div>\n",
              "<style scoped>\n",
              "    .dataframe tbody tr th:only-of-type {\n",
              "        vertical-align: middle;\n",
              "    }\n",
              "\n",
              "    .dataframe tbody tr th {\n",
              "        vertical-align: top;\n",
              "    }\n",
              "\n",
              "    .dataframe thead th {\n",
              "        text-align: right;\n",
              "    }\n",
              "</style>\n",
              "<table border=\"1\" class=\"dataframe\">\n",
              "  <thead>\n",
              "    <tr style=\"text-align: right;\">\n",
              "      <th></th>\n",
              "      <th>GROUP</th>\n",
              "      <th>SURVEY</th>\n",
              "      <th>SP</th>\n",
              "      <th>ID</th>\n",
              "      <th>PURPOSE</th>\n",
              "      <th>FIRST</th>\n",
              "      <th>TICKET</th>\n",
              "      <th>WHO</th>\n",
              "      <th>LUGGAGE</th>\n",
              "      <th>AGE</th>\n",
              "      <th>...</th>\n",
              "      <th>TRAIN_TT</th>\n",
              "      <th>TRAIN_CO</th>\n",
              "      <th>TRAIN_HE</th>\n",
              "      <th>SM_TT</th>\n",
              "      <th>SM_CO</th>\n",
              "      <th>SM_HE</th>\n",
              "      <th>SM_SEATS</th>\n",
              "      <th>CAR_TT</th>\n",
              "      <th>CAR_CO</th>\n",
              "      <th>CHOICE</th>\n",
              "    </tr>\n",
              "  </thead>\n",
              "  <tbody>\n",
              "    <tr>\n",
              "      <th>0</th>\n",
              "      <td>2</td>\n",
              "      <td>0</td>\n",
              "      <td>1</td>\n",
              "      <td>1</td>\n",
              "      <td>1</td>\n",
              "      <td>0</td>\n",
              "      <td>1</td>\n",
              "      <td>1</td>\n",
              "      <td>0</td>\n",
              "      <td>3</td>\n",
              "      <td>...</td>\n",
              "      <td>112</td>\n",
              "      <td>48</td>\n",
              "      <td>120</td>\n",
              "      <td>63</td>\n",
              "      <td>52</td>\n",
              "      <td>20</td>\n",
              "      <td>0</td>\n",
              "      <td>117</td>\n",
              "      <td>65</td>\n",
              "      <td>2</td>\n",
              "    </tr>\n",
              "    <tr>\n",
              "      <th>1</th>\n",
              "      <td>2</td>\n",
              "      <td>0</td>\n",
              "      <td>1</td>\n",
              "      <td>1</td>\n",
              "      <td>1</td>\n",
              "      <td>0</td>\n",
              "      <td>1</td>\n",
              "      <td>1</td>\n",
              "      <td>0</td>\n",
              "      <td>3</td>\n",
              "      <td>...</td>\n",
              "      <td>103</td>\n",
              "      <td>48</td>\n",
              "      <td>30</td>\n",
              "      <td>60</td>\n",
              "      <td>49</td>\n",
              "      <td>10</td>\n",
              "      <td>0</td>\n",
              "      <td>117</td>\n",
              "      <td>84</td>\n",
              "      <td>2</td>\n",
              "    </tr>\n",
              "    <tr>\n",
              "      <th>2</th>\n",
              "      <td>2</td>\n",
              "      <td>0</td>\n",
              "      <td>1</td>\n",
              "      <td>1</td>\n",
              "      <td>1</td>\n",
              "      <td>0</td>\n",
              "      <td>1</td>\n",
              "      <td>1</td>\n",
              "      <td>0</td>\n",
              "      <td>3</td>\n",
              "      <td>...</td>\n",
              "      <td>130</td>\n",
              "      <td>48</td>\n",
              "      <td>60</td>\n",
              "      <td>67</td>\n",
              "      <td>58</td>\n",
              "      <td>30</td>\n",
              "      <td>0</td>\n",
              "      <td>117</td>\n",
              "      <td>52</td>\n",
              "      <td>2</td>\n",
              "    </tr>\n",
              "    <tr>\n",
              "      <th>3</th>\n",
              "      <td>2</td>\n",
              "      <td>0</td>\n",
              "      <td>1</td>\n",
              "      <td>1</td>\n",
              "      <td>1</td>\n",
              "      <td>0</td>\n",
              "      <td>1</td>\n",
              "      <td>1</td>\n",
              "      <td>0</td>\n",
              "      <td>3</td>\n",
              "      <td>...</td>\n",
              "      <td>103</td>\n",
              "      <td>40</td>\n",
              "      <td>30</td>\n",
              "      <td>63</td>\n",
              "      <td>52</td>\n",
              "      <td>20</td>\n",
              "      <td>0</td>\n",
              "      <td>72</td>\n",
              "      <td>52</td>\n",
              "      <td>2</td>\n",
              "    </tr>\n",
              "    <tr>\n",
              "      <th>4</th>\n",
              "      <td>2</td>\n",
              "      <td>0</td>\n",
              "      <td>1</td>\n",
              "      <td>1</td>\n",
              "      <td>1</td>\n",
              "      <td>0</td>\n",
              "      <td>1</td>\n",
              "      <td>1</td>\n",
              "      <td>0</td>\n",
              "      <td>3</td>\n",
              "      <td>...</td>\n",
              "      <td>130</td>\n",
              "      <td>36</td>\n",
              "      <td>60</td>\n",
              "      <td>63</td>\n",
              "      <td>42</td>\n",
              "      <td>20</td>\n",
              "      <td>0</td>\n",
              "      <td>90</td>\n",
              "      <td>84</td>\n",
              "      <td>2</td>\n",
              "    </tr>\n",
              "  </tbody>\n",
              "</table>\n",
              "<p>5 rows × 28 columns</p>\n",
              "</div>"
            ],
            "text/plain": [
              "   GROUP  SURVEY  SP  ID  PURPOSE  FIRST  TICKET  WHO  LUGGAGE  AGE  ...  \\\n",
              "0      2       0   1   1        1      0       1    1        0    3  ...   \n",
              "1      2       0   1   1        1      0       1    1        0    3  ...   \n",
              "2      2       0   1   1        1      0       1    1        0    3  ...   \n",
              "3      2       0   1   1        1      0       1    1        0    3  ...   \n",
              "4      2       0   1   1        1      0       1    1        0    3  ...   \n",
              "\n",
              "   TRAIN_TT  TRAIN_CO  TRAIN_HE  SM_TT  SM_CO  SM_HE  SM_SEATS  CAR_TT  \\\n",
              "0       112        48       120     63     52     20         0     117   \n",
              "1       103        48        30     60     49     10         0     117   \n",
              "2       130        48        60     67     58     30         0     117   \n",
              "3       103        40        30     63     52     20         0      72   \n",
              "4       130        36        60     63     42     20         0      90   \n",
              "\n",
              "   CAR_CO  CHOICE  \n",
              "0      65       2  \n",
              "1      84       2  \n",
              "2      52       2  \n",
              "3      52       2  \n",
              "4      84       2  \n",
              "\n",
              "[5 rows x 28 columns]"
            ]
          },
          "execution_count": 3,
          "metadata": {},
          "output_type": "execute_result"
        }
      ],
      "source": [
        "swissmetro.head(5)"
      ]
    },
    {
      "cell_type": "code",
      "execution_count": 4,
      "metadata": {},
      "outputs": [
        {
          "data": {
            "text/html": [
              "<div>\n",
              "<style scoped>\n",
              "    .dataframe tbody tr th:only-of-type {\n",
              "        vertical-align: middle;\n",
              "    }\n",
              "\n",
              "    .dataframe tbody tr th {\n",
              "        vertical-align: top;\n",
              "    }\n",
              "\n",
              "    .dataframe thead th {\n",
              "        text-align: right;\n",
              "    }\n",
              "</style>\n",
              "<table border=\"1\" class=\"dataframe\">\n",
              "  <thead>\n",
              "    <tr style=\"text-align: right;\">\n",
              "      <th></th>\n",
              "      <th>GA</th>\n",
              "      <th>TRAIN_CO</th>\n",
              "    </tr>\n",
              "  </thead>\n",
              "  <tbody>\n",
              "    <tr>\n",
              "      <th>288</th>\n",
              "      <td>1</td>\n",
              "      <td>3120</td>\n",
              "    </tr>\n",
              "    <tr>\n",
              "      <th>289</th>\n",
              "      <td>1</td>\n",
              "      <td>3120</td>\n",
              "    </tr>\n",
              "    <tr>\n",
              "      <th>290</th>\n",
              "      <td>1</td>\n",
              "      <td>3120</td>\n",
              "    </tr>\n",
              "    <tr>\n",
              "      <th>291</th>\n",
              "      <td>1</td>\n",
              "      <td>2600</td>\n",
              "    </tr>\n",
              "    <tr>\n",
              "      <th>292</th>\n",
              "      <td>1</td>\n",
              "      <td>2340</td>\n",
              "    </tr>\n",
              "    <tr>\n",
              "      <th>...</th>\n",
              "      <td>...</td>\n",
              "      <td>...</td>\n",
              "    </tr>\n",
              "    <tr>\n",
              "      <th>3910</th>\n",
              "      <td>1</td>\n",
              "      <td>1850</td>\n",
              "    </tr>\n",
              "    <tr>\n",
              "      <th>3911</th>\n",
              "      <td>1</td>\n",
              "      <td>1665</td>\n",
              "    </tr>\n",
              "    <tr>\n",
              "      <th>3912</th>\n",
              "      <td>1</td>\n",
              "      <td>2220</td>\n",
              "    </tr>\n",
              "    <tr>\n",
              "      <th>3913</th>\n",
              "      <td>1</td>\n",
              "      <td>2220</td>\n",
              "    </tr>\n",
              "    <tr>\n",
              "      <th>3914</th>\n",
              "      <td>1</td>\n",
              "      <td>1850</td>\n",
              "    </tr>\n",
              "  </tbody>\n",
              "</table>\n",
              "<p>1521 rows × 2 columns</p>\n",
              "</div>"
            ],
            "text/plain": [
              "      GA  TRAIN_CO\n",
              "288    1      3120\n",
              "289    1      3120\n",
              "290    1      3120\n",
              "291    1      2600\n",
              "292    1      2340\n",
              "...   ..       ...\n",
              "3910   1      1850\n",
              "3911   1      1665\n",
              "3912   1      2220\n",
              "3913   1      2220\n",
              "3914   1      1850\n",
              "\n",
              "[1521 rows x 2 columns]"
            ]
          },
          "execution_count": 4,
          "metadata": {},
          "output_type": "execute_result"
        }
      ],
      "source": [
        "#show swissmetro data if GA == 1\n",
        "swissmetro[swissmetro['GA']==1][['GA', 'TRAIN_CO']]"
      ]
    },
    {
      "cell_type": "markdown",
      "metadata": {
        "id": "K3-FzZrJuma4"
      },
      "source": [
        "We see some socioeconomic characteristics such as 'AGE', likely encoding by age groups, 'MALE' which we can assume refers to gender. There are also some attributes of the alternatives, such as 'CAR_TT' which would be travel time in car, 'TRAIN_CO' which refers to the cost of the fare by train.\n",
        "\n",
        "An important variable is 'CHOICE' it is the result of the choice for each individual, coded as 1 for train, 2 for swissmetro, 3 for car. The value 0 indicates invalid response."
      ]
    },
    {
      "cell_type": "markdown",
      "metadata": {
        "id": "o3BZ4otYvdYM"
      },
      "source": [
        "---\n",
        "---\n",
        "\n",
        "# Passing the dataset to biogeme\n",
        "\n",
        "For now, we have loaded the dataset into a pandas dataframe, we need to transform it into a Biogeme database, the format that biogeme understands.\n",
        "We pass first argument the name of the database that we want to give and second the pandas dataframe."
      ]
    },
    {
      "cell_type": "code",
      "execution_count": 5,
      "metadata": {
        "id": "JAuXh-SfvcwT"
      },
      "outputs": [],
      "source": [
        "bgm_swissmetro = db.Database('swissmetro', swissmetro)"
      ]
    },
    {
      "cell_type": "markdown",
      "metadata": {
        "id": "LOO_ErPbw0go"
      },
      "source": [
        "We can access the dictionary of variables in the biogeme database the following way:"
      ]
    },
    {
      "cell_type": "code",
      "execution_count": 6,
      "metadata": {
        "colab": {
          "base_uri": "https://localhost:8080/"
        },
        "id": "6Bt1iHz9xUHm",
        "outputId": "6a52676d-8747-4057-cb47-1c5b1031e4e1"
      },
      "outputs": [
        {
          "data": {
            "text/plain": [
              "{'GROUP': GROUP,\n",
              " 'SURVEY': SURVEY,\n",
              " 'SP': SP,\n",
              " 'ID': ID,\n",
              " 'PURPOSE': PURPOSE,\n",
              " 'FIRST': FIRST,\n",
              " 'TICKET': TICKET,\n",
              " 'WHO': WHO,\n",
              " 'LUGGAGE': LUGGAGE,\n",
              " 'AGE': AGE,\n",
              " 'MALE': MALE,\n",
              " 'INCOME': INCOME,\n",
              " 'GA': GA,\n",
              " 'ORIGIN': ORIGIN,\n",
              " 'DEST': DEST,\n",
              " 'TRAIN_AV': TRAIN_AV,\n",
              " 'CAR_AV': CAR_AV,\n",
              " 'SM_AV': SM_AV,\n",
              " 'TRAIN_TT': TRAIN_TT,\n",
              " 'TRAIN_CO': TRAIN_CO,\n",
              " 'TRAIN_HE': TRAIN_HE,\n",
              " 'SM_TT': SM_TT,\n",
              " 'SM_CO': SM_CO,\n",
              " 'SM_HE': SM_HE,\n",
              " 'SM_SEATS': SM_SEATS,\n",
              " 'CAR_TT': CAR_TT,\n",
              " 'CAR_CO': CAR_CO,\n",
              " 'CHOICE': CHOICE}"
            ]
          },
          "execution_count": 6,
          "metadata": {},
          "output_type": "execute_result"
        }
      ],
      "source": [
        "bgm_swissmetro.variables"
      ]
    },
    {
      "cell_type": "markdown",
      "metadata": {
        "id": "qmw2wtC2yHFZ"
      },
      "source": [
        "Because this is too verbose, we can load them into the global variables\n",
        "of the python environment, to make the symbolic manipulation less verbose, so we can refer to them just by writing `VARIABLE_NAME` instead of having to write `database.variables['VARIABLE_NAME']`. **Note that the use of global variables is discouraged in general, we use it here for the sake of simplicity, but if we are dealing with complex code, it can lead to confusion. For example when using several biogeme databases at the same time, that share variable names**\n",
        "\n",
        "The following line of code adds the name of the variables in the biogeme to the global environment in python. We check that now, for example `CHOICE` is understood by python as a variable in the biogeme database."
      ]
    },
    {
      "cell_type": "code",
      "execution_count": 7,
      "metadata": {
        "colab": {
          "base_uri": "https://localhost:8080/"
        },
        "id": "q3VDQa8Xwln5",
        "outputId": "844cc888-b889-40e7-d414-d92e63863f3e"
      },
      "outputs": [
        {
          "data": {
            "text/plain": [
              "CHOICE"
            ]
          },
          "execution_count": 7,
          "metadata": {},
          "output_type": "execute_result"
        }
      ],
      "source": [
        "globals().update(bgm_swissmetro.variables)\n",
        "CHOICE"
      ]
    },
    {
      "cell_type": "markdown",
      "metadata": {
        "id": "G-WceQeczaS4"
      },
      "source": [
        "Before we begin, we will need to clean the dataset a bit, as suggested by the creators of the dataset.\n",
        "\n",
        "In this case, we have people that did not respond to the survey, and their value assigned\n",
        "to the choice is 0. The only valid values for the choice are 1,2,3 indicating\n",
        "the alternatives, train, swissmetro and car.\n",
        "We can remove them from the biogeme database using the `remove` method with the logical indicator for the row that have choice 0.\n",
        "\n",
        "**It is recommended that all database manipulations/cleaning are applied directly on the pandas dataframe before passing it to biogeme.** The reason being that pandas is better designed for that purpose and makes the code more readable. Ideally we would like out interactions with biogeme to be minimized and do as much as possible with the standard frameworks such as pandas.  "
      ]
    },
    {
      "cell_type": "code",
      "execution_count": 8,
      "metadata": {
        "id": "xV8HYAgdREiN"
      },
      "outputs": [],
      "source": [
        "bgm_swissmetro.remove( (CHOICE == 0) )\n"
      ]
    },
    {
      "cell_type": "code",
      "execution_count": 9,
      "metadata": {
        "colab": {
          "base_uri": "https://localhost:8080/",
          "height": 424
        },
        "id": "MpLk_KvpkD3R",
        "outputId": "ad5370c0-2d54-47ec-c641-700636dea194"
      },
      "outputs": [],
      "source": [
        "#If using pandas, we would call, for example:\n",
        "#swissmetro[swissmetro.CHOICE !=0]\n",
        "#BEFORE creating the biogeme database\n",
        "#bgm_swissmetro = db.Database('swissmetro', swissmetro)"
      ]
    },
    {
      "cell_type": "markdown",
      "metadata": {
        "id": "KqiArlqd0qFR"
      },
      "source": [
        "---\n",
        "---\n",
        "\n",
        "# Creating the model\n",
        "\n",
        "What we usually need to define in the multinomial logit can be summarized as:\n",
        " * Which variables in the database are we going to include in the model linear model.\n",
        " * What is the variable in the database that specifies the choice made, the alternative selected by an individual. The 'target variable' or dependent variable.\n",
        " * What variables are used in the modelling of each alternative. Remember that we can define a utility function for each alternative, this means that different alternatives could use different variables.\n",
        "\n",
        "We can connect this back to the utily theory view, we want to specify the functions that produce the observed component of the utility, the $V_{nj}$\n",
        "\n",
        "For each alternative $j$ and observation $n$, we consider the vector $x_{nj}$\n",
        "to be the joint vector of for both attributes and characteristics (to simplify things).  We try to find the vector of coefficients $\\beta_j$ for each alternative. In other words, we try to find the linear relationship between the variables and utility for each alternative:\n",
        "  $$V_{nj} = \\beta_j x_n$$\n",
        "\n",
        "Technical things to consider:\n",
        "\n",
        "* Consider that some attributes or characteristics are not relevant for some alternatives: This would be equivalent to fixing some of the values for $\\beta_j$ to 0 and not fitting them to data.\n",
        "* Consider that some attributes or characteristics 'share' the value of the coefficient. For example, we can specify that age affects the same way to all alternatives.\n"
      ]
    },
    {
      "cell_type": "markdown",
      "metadata": {
        "id": "0De-iYpQbw67"
      },
      "source": [
        "---\n",
        "---\n",
        "\n",
        "# The alternative specific constants:\n",
        "Just as in linear models we have the intercept, in choice models we have alternative specific constants. An important difference is that we cannot determine their 'true' value, because we have seen in the previous tutorial that the absolute level of utilities cannot be recovered, only relative differences among alternatives. In practice, what we will do is assume that the attribute specific characteristic of one of the alternatives is set to 0 and we do not fit it to the data. This will set a reference point.\n",
        "\n",
        "Again, which alternative we use as reference and what value for the ASC is arbitrary, up to use. We often choose wich alternative is set its ASC to 0 for interpretability (e.g. positive numbers in other ASCs will mean more utilty than the reference, negative numbers less utility than the reference, **all other things being equal**).\n"
      ]
    },
    {
      "cell_type": "markdown",
      "metadata": {
        "id": "PIouJf_BRyUu"
      },
      "source": [
        "---\n",
        "---\n",
        "\n",
        "# Definition of the model in biogeme\n",
        "We define the parameters of the model through the function `exp.Beta`.\n",
        "The function `exp.Beta` takes 5 arguments:\n",
        "1. the name of the parameter.\n",
        "2. the default value. We can use 0 for the default values unless we know a better starting value, for example when we have prior information.\n",
        "3. The lower bound, if we want to restrict it to a range, `None` if we do not want to restrict the value of the parameter. For example, sometimes we might know or would like to for a parameter to be positive.\n",
        "4. The upper bound, if we want to restrict it to a range, `None` if we do not want to restrict the value of the parameter.\n",
        "5. A 0/1 argument, 0 if the parameter must be estimated and 1 if it remains fixed.\n",
        "\n",
        "We will define a simple model with just the three ASCs and two parameters for two variables of interest, time and cost.\n",
        "Note that one of the ASCs, `ASC_SM` is set to not be estimated, notice the 1 in the value of the last argument when it is created. This comes from the explanation above, we set one of the ASCs arbitrarily to 0 because we utility cannot be recovered up to changes in constants, so we will pick among the many possible solutions the one that makes the ASC for the SwissMetro alternative 0.\n"
      ]
    },
    {
      "cell_type": "code",
      "execution_count": 10,
      "metadata": {
        "id": "zOpyvTcbRPy4"
      },
      "outputs": [],
      "source": [
        "ASC_CAR = exp.Beta ( 'ASC_CAR' ,0, None , None ,0)\n",
        "ASC_TRAIN = exp.Beta ( 'ASC_TRAIN' ,0, None , None ,0)\n",
        "ASC_SM = exp.Beta ( 'ASC_SM' ,0, None , None ,1)\n",
        "B_TIME = exp.Beta ( 'B_TIME' ,0, None , None ,0)\n",
        "B_COST = exp.Beta ( 'B_COST' ,0, None , None ,0)"
      ]
    },
    {
      "cell_type": "markdown",
      "metadata": {
        "id": "t3REqjxrj2x1"
      },
      "source": [
        "We will create an artificial variable, ussing the luggage variable but squared.\n",
        "This variable will only be included as a parameter for the utility of the car alternative. This is a totally arbitrary variable for the purposes of exposition, it does not mean that it is a good one."
      ]
    },
    {
      "cell_type": "code",
      "execution_count": 11,
      "metadata": {
        "id": "wwISbL_Gi-A_"
      },
      "outputs": [],
      "source": [
        "B_LUGGA_SQ = exp.Beta( 'B_LUGGA_SQ', 0, None, None, 0)\n",
        "LUGGA_SQ = LUGGAGE**2"
      ]
    },
    {
      "cell_type": "markdown",
      "metadata": {
        "id": "YT3brmCSUaLB"
      },
      "source": [
        "A warning from the creator of the biogeme package:\n",
        "when we define the parameters of our model, we store them into python variables.\n",
        "The author strongly recomments using the same name for the python variable\n",
        "than for the parameter.\n",
        "For example, while we could have define the variable following the code in the next cell, it is not recommended. I imagine that this could cause some confusion later on.\n",
        "\n"
      ]
    },
    {
      "cell_type": "code",
      "execution_count": 12,
      "metadata": {
        "id": "J6jlUKDRUfjx"
      },
      "outputs": [],
      "source": [
        "#doing this is not recommended!\n",
        "car_cte = exp.Beta( 'ASC_CAR' ,0, None , None ,0)"
      ]
    },
    {
      "cell_type": "markdown",
      "metadata": {
        "id": "4ECerH2CWOBV"
      },
      "source": [
        "We now define the utility functions for each alternative, more speficifically the linear relationship between the variables and the observed component of the utility. The are the $V_j$ in our model."
      ]
    },
    {
      "cell_type": "code",
      "execution_count": 13,
      "metadata": {
        "id": "VZ7iyvO4WEtz"
      },
      "outputs": [],
      "source": [
        "V1 = ASC_TRAIN + B_TIME * TRAIN_TT + B_COST * TRAIN_CO\n",
        "\n",
        "V2 = ASC_SM + B_TIME * SM_TT + B_COST * SM_CO\n",
        "\n",
        "V3 = ASC_CAR + B_TIME * CAR_TT + B_COST * CAR_CO + B_LUGGA_SQ*LUGGA_SQ\n"
      ]
    },
    {
      "cell_type": "markdown",
      "metadata": {
        "id": "DEC2xflnWfHr"
      },
      "source": [
        "We have to create a dictionary that maps the utility functions to the numbers that identify the alternatives in the database.\n",
        "In this case 1 for Train, 2 for Swissmetro, 3 for car."
      ]
    },
    {
      "cell_type": "code",
      "execution_count": 14,
      "metadata": {
        "id": "B8hQMvaFWekd"
      },
      "outputs": [],
      "source": [
        "V = {1: V1 ,\n",
        "2: V2 ,\n",
        "3: V3 }"
      ]
    },
    {
      "cell_type": "code",
      "execution_count": 15,
      "metadata": {},
      "outputs": [
        {
          "data": {
            "text/plain": [
              "{1: ((ASC_TRAIN(init=0) + (B_TIME(init=0) * TRAIN_TT)) + (B_COST(init=0) * TRAIN_CO)),\n",
              " 2: ((ASC_SM(fixed=0) + (B_TIME(init=0) * SM_TT)) + (B_COST(init=0) * SM_CO)),\n",
              " 3: (((ASC_CAR(init=0) + (B_TIME(init=0) * CAR_TT)) + (B_COST(init=0) * CAR_CO)) + (B_LUGGA_SQ(init=0) * (LUGGAGE ** `2.0`)))}"
            ]
          },
          "execution_count": 15,
          "metadata": {},
          "output_type": "execute_result"
        }
      ],
      "source": [
        "V"
      ]
    },
    {
      "cell_type": "markdown",
      "metadata": {
        "id": "Bs6NR7URW4_w"
      },
      "source": [
        "We have to pass availabilities, these are the indicator variables signaling if the option is available for that individual. Remember that the multinomial does not need to have all alternatives present for all individuals, it can recover the model from data even if the full choice set is not available for all individuals. In most normal situations, availabilities can be set to one, becuase individuals observe all alternatives. **An example when this does npt happen can be a survey with many alternatives, and not all are presented to the individual at the same time.**"
      ]
    },
    {
      "cell_type": "code",
      "execution_count": 16,
      "metadata": {
        "id": "7cFRkLSQW5bZ"
      },
      "outputs": [],
      "source": [
        "av = {1: TRAIN_AV,\n",
        "2: SM_AV,\n",
        "3: CAR_AV }"
      ]
    },
    {
      "cell_type": "markdown",
      "metadata": {
        "id": "Ibxs6VjNDDo6"
      },
      "source": [
        "This is the definition of the model, in this case the multinomial logit (we will use other models later)."
      ]
    },
    {
      "cell_type": "code",
      "execution_count": 17,
      "metadata": {
        "id": "FFPU3K7EXlZm"
      },
      "outputs": [],
      "source": [
        "logprob = models.loglogit (V , av , CHOICE )"
      ]
    },
    {
      "cell_type": "markdown",
      "metadata": {
        "id": "G6TgmVHtdT9G"
      },
      "source": [
        "And finally we pack everything together in the biogeme object."
      ]
    },
    {
      "cell_type": "code",
      "execution_count": 18,
      "metadata": {
        "id": "4Qw4I1HdXgvb"
      },
      "outputs": [],
      "source": [
        "bgm_model = bio.BIOGEME ( bgm_swissmetro, logprob )"
      ]
    },
    {
      "cell_type": "markdown",
      "metadata": {
        "id": "ez0sa4fAcT9b"
      },
      "source": [
        "We can give a name to the model, this can help identifying the model when we come back to it later, for example when we save it to a file and want to use it in another report."
      ]
    },
    {
      "cell_type": "code",
      "execution_count": 19,
      "metadata": {
        "id": "zn-2Fy3JX2Gi"
      },
      "outputs": [],
      "source": [
        "bgm_model.modelName = 'my first multinomial logit'"
      ]
    },
    {
      "cell_type": "markdown",
      "metadata": {
        "id": "86bZksOJb70Y"
      },
      "source": [
        "# Estimation of the model\n",
        "\n",
        "Everythin is set, biogeme will kindly do maximum likelihood estimation for us."
      ]
    },
    {
      "cell_type": "code",
      "execution_count": 20,
      "metadata": {
        "colab": {
          "base_uri": "https://localhost:8080/"
        },
        "id": "XqRyOneGYG2t",
        "outputId": "05226373-98a6-4703-87c7-f6c6a85ac654"
      },
      "outputs": [],
      "source": [
        "results = bgm_model.estimate()"
      ]
    },
    {
      "cell_type": "markdown",
      "metadata": {
        "id": "d4RInW7rcC3r"
      },
      "source": [
        "# Results of the model\n",
        "\n",
        "We can check a basic summary of the estimated model, likelihoods, information\n",
        "criterions, etc."
      ]
    },
    {
      "cell_type": "code",
      "execution_count": 21,
      "metadata": {
        "colab": {
          "base_uri": "https://localhost:8080/"
        },
        "id": "oMV3mFzuYJKB",
        "outputId": "f4b8aa8b-803e-4cd2-ad6e-6e209c955851"
      },
      "outputs": [
        {
          "data": {
            "text/plain": [
              "{'Number of estimated parameters': GeneralStatistic(value=5, format=''),\n",
              " 'Sample size': GeneralStatistic(value=10719, format=''),\n",
              " 'Excluded observations': GeneralStatistic(value=9, format=''),\n",
              " 'Init log likelihood': GeneralStatistic(value=-30593.03809617515, format='.7g'),\n",
              " 'Final log likelihood': GeneralStatistic(value=-8901.03700973069, format='.7g'),\n",
              " 'Likelihood ratio test for the init. model': GeneralStatistic(value=43384.002172888926, format='.7g'),\n",
              " 'Rho-square for the init. model': GeneralStatistic(value=0.7090502426810782, format='.3g'),\n",
              " 'Rho-square-bar for the init. model': GeneralStatistic(value=0.7088868068044489, format='.3g'),\n",
              " 'Akaike Information Criterion': GeneralStatistic(value=17812.07401946138, format='.7g'),\n",
              " 'Bayesian Information Criterion': GeneralStatistic(value=17848.47288519484, format='.7g'),\n",
              " 'Final gradient norm': GeneralStatistic(value=0.05749825346138693, format='.4E'),\n",
              " 'Nbr of threads': GeneralStatistic(value=12, format='')}"
            ]
          },
          "execution_count": 21,
          "metadata": {},
          "output_type": "execute_result"
        }
      ],
      "source": [
        "results.getGeneralStatistics()"
      ]
    },
    {
      "cell_type": "markdown",
      "metadata": {
        "id": "2IJGgJ59iHHB"
      },
      "source": [
        "The value of the parameters and the p-values for their statistical significance.\n",
        "**Note that ASC_SM is not shown, it was fixed to 0 by us.**"
      ]
    },
    {
      "cell_type": "code",
      "execution_count": 22,
      "metadata": {
        "colab": {
          "base_uri": "https://localhost:8080/",
          "height": 206
        },
        "id": "6wTlZ6NuYXAf",
        "outputId": "0b697d96-e7c7-44b2-c133-8b252b6a8675"
      },
      "outputs": [
        {
          "data": {
            "text/html": [
              "<div>\n",
              "<style scoped>\n",
              "    .dataframe tbody tr th:only-of-type {\n",
              "        vertical-align: middle;\n",
              "    }\n",
              "\n",
              "    .dataframe tbody tr th {\n",
              "        vertical-align: top;\n",
              "    }\n",
              "\n",
              "    .dataframe thead th {\n",
              "        text-align: right;\n",
              "    }\n",
              "</style>\n",
              "<table border=\"1\" class=\"dataframe\">\n",
              "  <thead>\n",
              "    <tr style=\"text-align: right;\">\n",
              "      <th></th>\n",
              "      <th>Value</th>\n",
              "      <th>Rob. Std err</th>\n",
              "      <th>Rob. t-test</th>\n",
              "      <th>Rob. p-value</th>\n",
              "    </tr>\n",
              "  </thead>\n",
              "  <tbody>\n",
              "    <tr>\n",
              "      <th>ASC_CAR</th>\n",
              "      <td>0.288099</td>\n",
              "      <td>0.042591</td>\n",
              "      <td>6.764264</td>\n",
              "      <td>1.339884e-11</td>\n",
              "    </tr>\n",
              "    <tr>\n",
              "      <th>ASC_TRAIN</th>\n",
              "      <td>-0.537499</td>\n",
              "      <td>0.053722</td>\n",
              "      <td>-10.005270</td>\n",
              "      <td>0.000000e+00</td>\n",
              "    </tr>\n",
              "    <tr>\n",
              "      <th>B_COST</th>\n",
              "      <td>0.000158</td>\n",
              "      <td>0.000017</td>\n",
              "      <td>9.170404</td>\n",
              "      <td>0.000000e+00</td>\n",
              "    </tr>\n",
              "    <tr>\n",
              "      <th>B_LUGGA_SQ</th>\n",
              "      <td>-0.107926</td>\n",
              "      <td>0.025666</td>\n",
              "      <td>-4.204953</td>\n",
              "      <td>2.611365e-05</td>\n",
              "    </tr>\n",
              "    <tr>\n",
              "      <th>B_TIME</th>\n",
              "      <td>-0.012348</td>\n",
              "      <td>0.000630</td>\n",
              "      <td>-19.592802</td>\n",
              "      <td>0.000000e+00</td>\n",
              "    </tr>\n",
              "  </tbody>\n",
              "</table>\n",
              "</div>"
            ],
            "text/plain": [
              "               Value  Rob. Std err  Rob. t-test  Rob. p-value\n",
              "ASC_CAR     0.288099      0.042591     6.764264  1.339884e-11\n",
              "ASC_TRAIN  -0.537499      0.053722   -10.005270  0.000000e+00\n",
              "B_COST      0.000158      0.000017     9.170404  0.000000e+00\n",
              "B_LUGGA_SQ -0.107926      0.025666    -4.204953  2.611365e-05\n",
              "B_TIME     -0.012348      0.000630   -19.592802  0.000000e+00"
            ]
          },
          "execution_count": 22,
          "metadata": {},
          "output_type": "execute_result"
        }
      ],
      "source": [
        "results.getEstimatedParameters()"
      ]
    },
    {
      "cell_type": "markdown",
      "metadata": {
        "id": "AjwSwASHiZ63"
      },
      "source": [
        "We can recover the values for the parameters in a dictionary."
      ]
    },
    {
      "cell_type": "code",
      "execution_count": 23,
      "metadata": {
        "colab": {
          "base_uri": "https://localhost:8080/"
        },
        "id": "hbIei-9NYqR4",
        "outputId": "2e71a100-070d-457e-fe12-199227fc9a7a"
      },
      "outputs": [
        {
          "data": {
            "text/plain": [
              "{'ASC_CAR': 0.2880985859720172,\n",
              " 'ASC_TRAIN': -0.5374992115929044,\n",
              " 'B_COST': 0.0001582919218329103,\n",
              " 'B_LUGGA_SQ': -0.10792621754540947,\n",
              " 'B_TIME': -0.012347861405361493}"
            ]
          },
          "execution_count": 23,
          "metadata": {},
          "output_type": "execute_result"
        }
      ],
      "source": [
        "results.getBetaValues()"
      ]
    },
    {
      "cell_type": "markdown",
      "metadata": {
        "id": "Nt46fenjfLJI"
      },
      "source": [
        "# Exercises\n",
        "\n"
      ]
    },
    {
      "cell_type": "markdown",
      "metadata": {
        "id": "rqM5utIDDl_S"
      },
      "source": [
        "\n",
        "## 1)Do you notice something unexepected in the sign of the cost parameter? Perhaps it has to do with another variable, `GA` the seasonal pass for public transport, a indicator variable of whether the individual has bought the seasonal pass or not. Create new variables for the cost of train and swissmetro that make the cost 0 is the user has bought the seasonal pass and keep the cost intact otherwise. *Please remove the 'luggage squared' variable.* Then fit the same model using those variables for their corresponding alternatives and check the results.\n"
      ]
    },
    {
      "cell_type": "code",
      "execution_count": 24,
      "metadata": {},
      "outputs": [],
      "source": [
        "def estimate_swissmetro_from_V(V1, V2, V3):\n",
        "    V = {1: V1 ,2: V2 ,3: V3 }\n",
        "    av = {1: TRAIN_AV,2: SM_AV,3: CAR_AV }\n",
        "    logprob = models.loglogit (V , av , CHOICE )\n",
        "    bgm_model = bio.BIOGEME ( bgm_swissmetro, logprob )\n",
        "    bgm_model.modelName = 'my first multinomial logit'\n",
        "    results = bgm_model.estimate()\n",
        "    return results"
      ]
    },
    {
      "cell_type": "code",
      "execution_count": 25,
      "metadata": {
        "id": "mnF-Mjd45469"
      },
      "outputs": [
        {
          "data": {
            "text/html": [
              "<div>\n",
              "<style scoped>\n",
              "    .dataframe tbody tr th:only-of-type {\n",
              "        vertical-align: middle;\n",
              "    }\n",
              "\n",
              "    .dataframe tbody tr th {\n",
              "        vertical-align: top;\n",
              "    }\n",
              "\n",
              "    .dataframe thead th {\n",
              "        text-align: right;\n",
              "    }\n",
              "</style>\n",
              "<table border=\"1\" class=\"dataframe\">\n",
              "  <thead>\n",
              "    <tr style=\"text-align: right;\">\n",
              "      <th></th>\n",
              "      <th>Value</th>\n",
              "      <th>Rob. Std err</th>\n",
              "      <th>Rob. t-test</th>\n",
              "      <th>Rob. p-value</th>\n",
              "    </tr>\n",
              "  </thead>\n",
              "  <tbody>\n",
              "    <tr>\n",
              "      <th>ASC_CAR</th>\n",
              "      <td>0.016228</td>\n",
              "      <td>0.037088</td>\n",
              "      <td>0.437559</td>\n",
              "      <td>0.661706</td>\n",
              "    </tr>\n",
              "    <tr>\n",
              "      <th>ASC_TRAIN</th>\n",
              "      <td>-0.652239</td>\n",
              "      <td>0.054394</td>\n",
              "      <td>-11.991019</td>\n",
              "      <td>0.000000</td>\n",
              "    </tr>\n",
              "    <tr>\n",
              "      <th>B_COST</th>\n",
              "      <td>-0.007898</td>\n",
              "      <td>0.000510</td>\n",
              "      <td>-15.496743</td>\n",
              "      <td>0.000000</td>\n",
              "    </tr>\n",
              "    <tr>\n",
              "      <th>B_TIME</th>\n",
              "      <td>-0.012789</td>\n",
              "      <td>0.000656</td>\n",
              "      <td>-19.496761</td>\n",
              "      <td>0.000000</td>\n",
              "    </tr>\n",
              "  </tbody>\n",
              "</table>\n",
              "</div>"
            ],
            "text/plain": [
              "              Value  Rob. Std err  Rob. t-test  Rob. p-value\n",
              "ASC_CAR    0.016228      0.037088     0.437559      0.661706\n",
              "ASC_TRAIN -0.652239      0.054394   -11.991019      0.000000\n",
              "B_COST    -0.007898      0.000510   -15.496743      0.000000\n",
              "B_TIME    -0.012789      0.000656   -19.496761      0.000000"
            ]
          },
          "execution_count": 25,
          "metadata": {},
          "output_type": "execute_result"
        }
      ],
      "source": [
        "TRAIN_CO_GA = TRAIN_CO * (GA == 0)\n",
        "SM_CO_GA = SM_CO * (GA == 0)\n",
        "\n",
        "V1 = ASC_TRAIN + B_TIME * TRAIN_TT + B_COST * TRAIN_CO_GA\n",
        "V2 = ASC_SM + B_TIME * SM_TT + B_COST * SM_CO_GA\n",
        "V3 = ASC_CAR + B_TIME * CAR_TT + B_COST * CAR_CO\n",
        "\n",
        "V = {1: V1 , 2: V2 , 3: V3 }\n",
        "av = {1: TRAIN_AV, 2: SM_AV, 3: CAR_AV }\n",
        "\n",
        "resGA = estimate_swissmetro_from_V(V1, V2, V3)\n",
        "resGA.getEstimatedParameters()"
      ]
    },
    {
      "cell_type": "markdown",
      "metadata": {
        "id": "BZwOKnuo51s8"
      },
      "source": [
        "\n",
        "## 2) Create a new model by *including two new variables*, GENDER and INCOME. Then estimate the model and compare it to the previous one. How can we compare them? Which one is better?\n"
      ]
    },
    {
      "cell_type": "markdown",
      "metadata": {},
      "source": [
        "若不区分每个alternative，则utility就加了一个常数，导致性别和收入的系数都为0，因为这两个变量在每个alternative中都是相同的，所以不会影响选择。 所以要拆开"
      ]
    },
    {
      "cell_type": "code",
      "execution_count": 26,
      "metadata": {
        "id": "AgkG7tJP55Um"
      },
      "outputs": [
        {
          "data": {
            "text/html": [
              "<div>\n",
              "<style scoped>\n",
              "    .dataframe tbody tr th:only-of-type {\n",
              "        vertical-align: middle;\n",
              "    }\n",
              "\n",
              "    .dataframe tbody tr th {\n",
              "        vertical-align: top;\n",
              "    }\n",
              "\n",
              "    .dataframe thead th {\n",
              "        text-align: right;\n",
              "    }\n",
              "</style>\n",
              "<table border=\"1\" class=\"dataframe\">\n",
              "  <thead>\n",
              "    <tr style=\"text-align: right;\">\n",
              "      <th></th>\n",
              "      <th>Value</th>\n",
              "      <th>Rob. Std err</th>\n",
              "      <th>Rob. t-test</th>\n",
              "      <th>Rob. p-value</th>\n",
              "    </tr>\n",
              "  </thead>\n",
              "  <tbody>\n",
              "    <tr>\n",
              "      <th>ASC_CAR</th>\n",
              "      <td>0.018936</td>\n",
              "      <td>0.089502</td>\n",
              "      <td>0.211576</td>\n",
              "      <td>8.324376e-01</td>\n",
              "    </tr>\n",
              "    <tr>\n",
              "      <th>ASC_TRAIN</th>\n",
              "      <td>0.044342</td>\n",
              "      <td>0.094942</td>\n",
              "      <td>0.467044</td>\n",
              "      <td>6.404686e-01</td>\n",
              "    </tr>\n",
              "    <tr>\n",
              "      <th>B_COST</th>\n",
              "      <td>-0.008001</td>\n",
              "      <td>0.000502</td>\n",
              "      <td>-15.949750</td>\n",
              "      <td>0.000000e+00</td>\n",
              "    </tr>\n",
              "    <tr>\n",
              "      <th>B_INCOME_CAR</th>\n",
              "      <td>-0.030859</td>\n",
              "      <td>0.020997</td>\n",
              "      <td>-1.469725</td>\n",
              "      <td>1.416363e-01</td>\n",
              "    </tr>\n",
              "    <tr>\n",
              "      <th>B_INCOME_SM</th>\n",
              "      <td>0.060560</td>\n",
              "      <td>0.017684</td>\n",
              "      <td>3.424459</td>\n",
              "      <td>6.160246e-04</td>\n",
              "    </tr>\n",
              "    <tr>\n",
              "      <th>B_INCOME_TR</th>\n",
              "      <td>-0.029700</td>\n",
              "      <td>0.024216</td>\n",
              "      <td>-1.226478</td>\n",
              "      <td>2.200189e-01</td>\n",
              "    </tr>\n",
              "    <tr>\n",
              "      <th>B_MALE_CAR</th>\n",
              "      <td>0.418519</td>\n",
              "      <td>0.042809</td>\n",
              "      <td>9.776329</td>\n",
              "      <td>0.000000e+00</td>\n",
              "    </tr>\n",
              "    <tr>\n",
              "      <th>B_MALE_SM</th>\n",
              "      <td>0.179647</td>\n",
              "      <td>0.035565</td>\n",
              "      <td>5.051210</td>\n",
              "      <td>4.390199e-07</td>\n",
              "    </tr>\n",
              "    <tr>\n",
              "      <th>B_MALE_TR</th>\n",
              "      <td>-0.598167</td>\n",
              "      <td>0.041483</td>\n",
              "      <td>-14.419721</td>\n",
              "      <td>0.000000e+00</td>\n",
              "    </tr>\n",
              "    <tr>\n",
              "      <th>B_TIME</th>\n",
              "      <td>-0.012530</td>\n",
              "      <td>0.000662</td>\n",
              "      <td>-18.922874</td>\n",
              "      <td>0.000000e+00</td>\n",
              "    </tr>\n",
              "  </tbody>\n",
              "</table>\n",
              "</div>"
            ],
            "text/plain": [
              "                 Value  Rob. Std err  Rob. t-test  Rob. p-value\n",
              "ASC_CAR       0.018936      0.089502     0.211576  8.324376e-01\n",
              "ASC_TRAIN     0.044342      0.094942     0.467044  6.404686e-01\n",
              "B_COST       -0.008001      0.000502   -15.949750  0.000000e+00\n",
              "B_INCOME_CAR -0.030859      0.020997    -1.469725  1.416363e-01\n",
              "B_INCOME_SM   0.060560      0.017684     3.424459  6.160246e-04\n",
              "B_INCOME_TR  -0.029700      0.024216    -1.226478  2.200189e-01\n",
              "B_MALE_CAR    0.418519      0.042809     9.776329  0.000000e+00\n",
              "B_MALE_SM     0.179647      0.035565     5.051210  4.390199e-07\n",
              "B_MALE_TR    -0.598167      0.041483   -14.419721  0.000000e+00\n",
              "B_TIME       -0.012530      0.000662   -18.922874  0.000000e+00"
            ]
          },
          "execution_count": 26,
          "metadata": {},
          "output_type": "execute_result"
        }
      ],
      "source": [
        "INCOME_FIX = INCOME - 4*(INCOME==4)\n",
        "INCOME_FIX = INCOME_FIX + (INCOME==0)\n",
        "\n",
        "#one example, per alternative socieocon: \n",
        "B_MALE_TR = exp.Beta( 'B_MALE_TR', 0, None, None, 0)\n",
        "B_MALE_SM = exp.Beta( 'B_MALE_SM', 0, None, None, 0)\n",
        "B_MALE_CAR = exp.Beta( 'B_MALE_CAR', 0, None, None, 0)\n",
        "B_INCOME_TR = exp.Beta( 'B_INCOME_TR', 0, None, None, 0)\n",
        "B_INCOME_SM = exp.Beta( 'B_INCOME_SM', 0, None, None, 0)\n",
        "B_INCOME_CAR = exp.Beta( 'B_INCOME_CAR', 0, None, None, 0)\n",
        "\n",
        "tV1 = ASC_TRAIN + B_TIME * TRAIN_TT + B_COST * TRAIN_CO_GA + B_MALE_TR*MALE + B_INCOME_TR*INCOME_FIX\n",
        "tV2 = ASC_SM + B_TIME * SM_TT + B_COST * SM_CO_GA + B_MALE_SM*MALE + B_INCOME_SM*INCOME_FIX\n",
        "tV3 = ASC_CAR + B_TIME * CAR_TT + B_COST * CAR_CO + B_MALE_CAR*MALE+ B_INCOME_CAR*INCOME_FIX\n",
        "\n",
        "resTwoNewVar = estimate_swissmetro_from_V(tV1, tV2, tV3)\n",
        "resTwoNewVar.getEstimatedParameters()\n"
      ]
    },
    {
      "cell_type": "markdown",
      "metadata": {
        "id": "mdDsNIDw54DR"
      },
      "source": [
        "\n",
        "## 3) Create a model that calculates a specific coefficient for the price and travel time of each alternative. Check the model and calculate willingness to pay for the travel time of each alternative (*you can take a look at the definition in Week 3)*."
      ]
    },
    {
      "cell_type": "code",
      "execution_count": 27,
      "metadata": {
        "id": "-UzDM2x-56NK"
      },
      "outputs": [
        {
          "data": {
            "text/html": [
              "<div>\n",
              "<style scoped>\n",
              "    .dataframe tbody tr th:only-of-type {\n",
              "        vertical-align: middle;\n",
              "    }\n",
              "\n",
              "    .dataframe tbody tr th {\n",
              "        vertical-align: top;\n",
              "    }\n",
              "\n",
              "    .dataframe thead th {\n",
              "        text-align: right;\n",
              "    }\n",
              "</style>\n",
              "<table border=\"1\" class=\"dataframe\">\n",
              "  <thead>\n",
              "    <tr style=\"text-align: right;\">\n",
              "      <th></th>\n",
              "      <th>Value</th>\n",
              "      <th>Rob. Std err</th>\n",
              "      <th>Rob. t-test</th>\n",
              "      <th>Rob. p-value</th>\n",
              "    </tr>\n",
              "  </thead>\n",
              "  <tbody>\n",
              "    <tr>\n",
              "      <th>ASC_CAR</th>\n",
              "      <td>-0.594974</td>\n",
              "      <td>0.072852</td>\n",
              "      <td>-8.166919</td>\n",
              "      <td>2.220446e-16</td>\n",
              "    </tr>\n",
              "    <tr>\n",
              "      <th>ASC_TRAIN</th>\n",
              "      <td>-0.019907</td>\n",
              "      <td>0.084128</td>\n",
              "      <td>-0.236626</td>\n",
              "      <td>8.129471e-01</td>\n",
              "    </tr>\n",
              "    <tr>\n",
              "      <th>B_COST_CAR</th>\n",
              "      <td>-0.006589</td>\n",
              "      <td>0.000987</td>\n",
              "      <td>-6.676377</td>\n",
              "      <td>2.449219e-11</td>\n",
              "    </tr>\n",
              "    <tr>\n",
              "      <th>B_COST_SM</th>\n",
              "      <td>-0.007866</td>\n",
              "      <td>0.000532</td>\n",
              "      <td>-14.781952</td>\n",
              "      <td>0.000000e+00</td>\n",
              "    </tr>\n",
              "    <tr>\n",
              "      <th>B_COST_TR</th>\n",
              "      <td>-0.018539</td>\n",
              "      <td>0.001305</td>\n",
              "      <td>-14.202697</td>\n",
              "      <td>0.000000e+00</td>\n",
              "    </tr>\n",
              "    <tr>\n",
              "      <th>B_TT_CAR</th>\n",
              "      <td>-0.010575</td>\n",
              "      <td>0.000955</td>\n",
              "      <td>-11.067156</td>\n",
              "      <td>0.000000e+00</td>\n",
              "    </tr>\n",
              "    <tr>\n",
              "      <th>B_TT_SM</th>\n",
              "      <td>-0.014600</td>\n",
              "      <td>0.001011</td>\n",
              "      <td>-14.442484</td>\n",
              "      <td>0.000000e+00</td>\n",
              "    </tr>\n",
              "    <tr>\n",
              "      <th>B_TT_TR</th>\n",
              "      <td>-0.014034</td>\n",
              "      <td>0.000888</td>\n",
              "      <td>-15.803714</td>\n",
              "      <td>0.000000e+00</td>\n",
              "    </tr>\n",
              "  </tbody>\n",
              "</table>\n",
              "</div>"
            ],
            "text/plain": [
              "               Value  Rob. Std err  Rob. t-test  Rob. p-value\n",
              "ASC_CAR    -0.594974      0.072852    -8.166919  2.220446e-16\n",
              "ASC_TRAIN  -0.019907      0.084128    -0.236626  8.129471e-01\n",
              "B_COST_CAR -0.006589      0.000987    -6.676377  2.449219e-11\n",
              "B_COST_SM  -0.007866      0.000532   -14.781952  0.000000e+00\n",
              "B_COST_TR  -0.018539      0.001305   -14.202697  0.000000e+00\n",
              "B_TT_CAR   -0.010575      0.000955   -11.067156  0.000000e+00\n",
              "B_TT_SM    -0.014600      0.001011   -14.442484  0.000000e+00\n",
              "B_TT_TR    -0.014034      0.000888   -15.803714  0.000000e+00"
            ]
          },
          "execution_count": 27,
          "metadata": {},
          "output_type": "execute_result"
        }
      ],
      "source": [
        "B_TT_TR = exp.Beta( 'B_TT_TR', 0, None, None, 0)\n",
        "B_TT_SM = exp.Beta( 'B_TT_SM', 0, None, None, 0)\n",
        "B_TT_CAR = exp.Beta( 'B_TT_CAR', 0, None, None, 0)\n",
        "B_COST_TR = exp.Beta( 'B_COST_TR', 0, None, None, 0)\n",
        "B_COST_SM = exp.Beta( 'B_COST_SM', 0, None, None, 0)\n",
        "B_COST_CAR = exp.Beta( 'B_COST_CAR', 0, None, None, 0)\n",
        "\n",
        "wV1 = ASC_TRAIN + B_TT_TR * TRAIN_TT + B_COST_TR * TRAIN_CO_GA \n",
        "wV2 = ASC_SM + B_TT_SM * SM_TT + B_COST_SM * SM_CO_GA \n",
        "wV3 = ASC_CAR + B_TT_CAR * CAR_TT + B_COST_CAR * CAR_CO\n",
        "\n",
        "\n",
        "\n",
        "reswtp = estimate_swissmetro_from_V(wV1, wV2, wV3)\n",
        "reswtp.getEstimatedParameters()"
      ]
    },
    {
      "cell_type": "code",
      "execution_count": 28,
      "metadata": {},
      "outputs": [
        {
          "data": {
            "text/plain": [
              "(1.6048664409382747, 1.856036722269955, 0.7569914727606489)"
            ]
          },
          "execution_count": 28,
          "metadata": {},
          "output_type": "execute_result"
        }
      ],
      "source": [
        "Betas = reswtp.getBetaValues()\n",
        "(Betas['B_TT_CAR'] / Betas['B_COST_CAR'],\n",
        " Betas['B_TT_SM'] / Betas['B_COST_SM'],\n",
        " Betas['B_TT_TR'] / Betas['B_COST_TR'])"
      ]
    },
    {
      "cell_type": "code",
      "execution_count": null,
      "metadata": {},
      "outputs": [],
      "source": []
    }
  ],
  "metadata": {
    "colab": {
      "name": "tuto_04_multinomial",
      "provenance": []
    },
    "kernelspec": {
      "display_name": "Python 3",
      "name": "python3"
    },
    "language_info": {
      "codemirror_mode": {
        "name": "ipython",
        "version": 3
      },
      "file_extension": ".py",
      "mimetype": "text/x-python",
      "name": "python",
      "nbconvert_exporter": "python",
      "pygments_lexer": "ipython3",
      "version": "3.10.9"
    }
  },
  "nbformat": 4,
  "nbformat_minor": 0
}
