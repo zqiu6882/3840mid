{
  "cells": [
    {
      "cell_type": "markdown",
      "metadata": {
        "id": "XAaq0M26oNGI"
      },
      "source": [
        "# Tutorial 2b\n",
        "\n",
        "In this tutorial, we will see:\n",
        "\n",
        "* Some exercises to solidify the concept around 'likelihood' or 'likelihood function' for a candidate model (specific values of parameters of the model), given some data.\n"
      ]
    },
    {
      "cell_type": "markdown",
      "metadata": {
        "id": "5WSklb2pcTRh"
      },
      "source": [
        "---\n",
        "---\n",
        "\n",
        "# 2) Intuition on likelihood\n",
        "\n",
        "\n",
        "Let's consider the following scenario: We are responsible for the sales of umbrellas in a large department store, we would like to understand a bit more about the process.\n",
        "We have a sample of the clients that come into the store, knowing whether they bought an umbrella or not, a simple binary choice.\n",
        "\n",
        "Our first approximation consists of assuming that all clients are equivalent, so every time a client enters our store, they choose whether to buy an umbrella or not following some random variable (but the probability distribution for that random variable is the same for all clients). For example, the choose according to a coin toss, each client might get a different outcome, but they all choose according to a coin toss."
      ]
    },
    {
      "cell_type": "markdown",
      "metadata": {
        "id": "BEHO7qeF85ZB"
      },
      "source": [
        "## 2.1) What do you think is the probability distribution that governs the decision-making process under our initial assumptions?\n",
        " A random choice between two alternatives, there is a 'famous' probability distribution that is used to model experiments with 2 possible outcomes...\n"
      ]
    },
    {
      "cell_type": "markdown",
      "metadata": {
        "id": "0lEq2D54jy95"
      },
      "source": [
        "\n",
        "The Bernouilli distribution"
      ]
    },
    {
      "cell_type": "markdown",
      "metadata": {
        "id": "JaWwv9p59iIv"
      },
      "source": [
        "---\n",
        "\n",
        "The parameter of that distribution, this unique probability, lets call it $p_{\\Omega}$ is the parameter in our simple model.\n",
        "\n",
        "Our data for the clients coming to our store is [in this file](https://raw.githubusercontent.com/pmontman/pub-choicemodels/main/data/umbrella_month.csv), lets take a look at it.\n"
      ]
    },
    {
      "cell_type": "code",
      "execution_count": 1,
      "metadata": {
        "colab": {
          "base_uri": "https://localhost:8080/",
          "height": 206
        },
        "id": "6jqxsqsS9eb7",
        "outputId": "82697771-91a0-4649-d088-86dd1cbd685b"
      },
      "outputs": [
        {
          "data": {
            "text/html": [
              "<div>\n",
              "<style scoped>\n",
              "    .dataframe tbody tr th:only-of-type {\n",
              "        vertical-align: middle;\n",
              "    }\n",
              "\n",
              "    .dataframe tbody tr th {\n",
              "        vertical-align: top;\n",
              "    }\n",
              "\n",
              "    .dataframe thead th {\n",
              "        text-align: right;\n",
              "    }\n",
              "</style>\n",
              "<table border=\"1\" class=\"dataframe\">\n",
              "  <thead>\n",
              "    <tr style=\"text-align: right;\">\n",
              "      <th></th>\n",
              "      <th>buy_umbr</th>\n",
              "      <th>month</th>\n",
              "      <th>client_id</th>\n",
              "    </tr>\n",
              "  </thead>\n",
              "  <tbody>\n",
              "    <tr>\n",
              "      <th>245</th>\n",
              "      <td>False</td>\n",
              "      <td>6</td>\n",
              "      <td>246</td>\n",
              "    </tr>\n",
              "    <tr>\n",
              "      <th>246</th>\n",
              "      <td>False</td>\n",
              "      <td>9</td>\n",
              "      <td>247</td>\n",
              "    </tr>\n",
              "    <tr>\n",
              "      <th>247</th>\n",
              "      <td>False</td>\n",
              "      <td>5</td>\n",
              "      <td>248</td>\n",
              "    </tr>\n",
              "    <tr>\n",
              "      <th>248</th>\n",
              "      <td>False</td>\n",
              "      <td>6</td>\n",
              "      <td>249</td>\n",
              "    </tr>\n",
              "    <tr>\n",
              "      <th>249</th>\n",
              "      <td>True</td>\n",
              "      <td>5</td>\n",
              "      <td>250</td>\n",
              "    </tr>\n",
              "  </tbody>\n",
              "</table>\n",
              "</div>"
            ],
            "text/plain": [
              "     buy_umbr  month  client_id\n",
              "245     False      6        246\n",
              "246     False      9        247\n",
              "247     False      5        248\n",
              "248     False      6        249\n",
              "249      True      5        250"
            ]
          },
          "execution_count": 1,
          "metadata": {},
          "output_type": "execute_result"
        }
      ],
      "source": [
        "import pandas as pd\n",
        "import numpy as np\n",
        "import matplotlib.pyplot as plt\n",
        "\n",
        "\n",
        "\n",
        "umbrella_df = pd.read_csv(\"https://raw.githubusercontent.com/pmontman/pub-choicemodels/main/data/umbrella_month.csv\")\n",
        "\n",
        "umbrella_df.head(5)\n",
        "umbrella_df.tail(5)"
      ]
    },
    {
      "cell_type": "code",
      "execution_count": 2,
      "metadata": {},
      "outputs": [
        {
          "data": {
            "text/plain": [
              "0.548"
            ]
          },
          "execution_count": 2,
          "metadata": {},
          "output_type": "execute_result"
        }
      ],
      "source": [
        "np.mean(umbrella_df['buy_umbr'])"
      ]
    },
    {
      "cell_type": "markdown",
      "metadata": {
        "id": "Z6Sm5ZiXI8b1"
      },
      "source": [
        "the variable **buy_umbr** indicates whether the client bought the umbrella, **month** is the month when the client visited the store (it is some 'side information' that we will use later to come up with a better model)."
      ]
    },
    {
      "cell_type": "markdown",
      "metadata": {
        "id": "tPDgg2qsHI74"
      },
      "source": [
        "\n",
        "\n",
        "## 2.2) Compute the likehood function for a range of values of $p_{\\Omega}$ and plot them.\n",
        "*For each value of $p_{\\Omega}$ compute the likelihood function: the probability of having ovserved the data if $p_{\\Omega}$ was the value of the Bernouilli that generates the experimental data.*\n",
        "*Because there are many repetitions of the experiment, the likelihood for all is the joint probability. We can assume that the observations are independent therefore the joint probability is calculated by the product of all individual ones.* *The product of many small number will produced 'numerical problems' in the computations, rounding errors because of the limitations. A way to mitigate the issue is to transform the product into a sum of larger numbers by taking the logarithm. We can use the logarithm to do maximum likelihood because the logarithm does not change which input value produces the maximum.*\n",
        "\n",
        "HINT: You can transform the product in the likelhood function to a sum by taking the logarithm. $\\log(a\\times b \\times c) = log(a) + log(b) + log(c)$. This is commonly done when calculating likelihoods, because computing many products of small numbers produces numerical problems (very small numbers are difficult to handle by computers). This technique is so commo that we often tlak about log likelihoods."
      ]
    },
    {
      "cell_type": "code",
      "execution_count": 3,
      "metadata": {
        "colab": {
          "base_uri": "https://localhost:8080/",
          "height": 282
        },
        "id": "wMI8R-DLfDHc",
        "outputId": "23c0f433-8bac-4550-fd8b-bd54f1161a91"
      },
      "outputs": [
        {
          "name": "stdout",
          "output_type": "stream",
          "text": [
            "The best value for p_omega according to likelihood is: 0.5475775775775775\n"
          ]
        },
        {
          "data": {
            "image/png": "[encoded data removed]",
            "text/plain": [
              "<Figure size 640x480 with 1 Axes>"
            ]
          },
          "metadata": {},
          "output_type": "display_data"
        }
      ],
      "source": [
        "def likeli_uniprob(p_omega):\n",
        "  return np.sum(np.log( (p_omega**umbrella_df['buy_umbr']) *\n",
        "                ( (1- p_omega)**(1-umbrella_df['buy_umbr'])) ) )\n",
        "\n",
        "p_omega_range = np.linspace(0.01, 0.99, 1000)\n",
        "likelihoods_for_p_omega = [likeli_uniprob(po) for po in p_omega_range]\n",
        "\n",
        "plt.plot(p_omega_range, likelihoods_for_p_omega)\n",
        "print('The best value for p_omega according to likelihood is:', p_omega_range[np.argmax(likelihoods_for_p_omega)])"
      ]
    },
    {
      "cell_type": "code",
      "execution_count": 4,
      "metadata": {},
      "outputs": [
        {
          "data": {
            "text/plain": [
              "0     -1.203973\n",
              "1     -0.356675\n",
              "2     -0.356675\n",
              "3     -1.203973\n",
              "4     -1.203973\n",
              "         ...   \n",
              "245   -0.356675\n",
              "246   -0.356675\n",
              "247   -0.356675\n",
              "248   -0.356675\n",
              "249   -1.203973\n",
              "Name: buy_umbr, Length: 250, dtype: float64"
            ]
          },
          "execution_count": 4,
          "metadata": {},
          "output_type": "execute_result"
        }
      ],
      "source": [
        "p_omega = 0.3\n",
        "np.log( (p_omega**umbrella_df['buy_umbr']) *\n",
        "                ( (1- p_omega)**(1-umbrella_df['buy_umbr'])) )"
      ]
    },
    {
      "cell_type": "markdown",
      "metadata": {
        "id": "B6BhTU_v-ZV8"
      },
      "source": [
        "We now go for a more advanced model. We have data about the month that the clients visit our store, and we think with that the probability of buying an umbrella can be approximated more accurately if we consider the month in our model. The probability therefore is not unique, it varies from month to month.\n",
        "\n",
        "#2.3) Can you think of a function that could express the relationship between month and the probability of buying an umbrella?\n",
        "HINT: You can plot the data, and think of functions that create cyclical patterns. The answer does not have to be perfect! There are many different possibilities, the main point is using the information about the month to now produce a probability of buying an umbrella for each client, instead of the same for all clients.\n",
        "\n",
        "*Please write some answer here*\n"
      ]
    },
    {
      "cell_type": "code",
      "execution_count": 5,
      "metadata": {},
      "outputs": [
        {
          "data": {
            "text/html": [
              "<div>\n",
              "<style scoped>\n",
              "    .dataframe tbody tr th:only-of-type {\n",
              "        vertical-align: middle;\n",
              "    }\n",
              "\n",
              "    .dataframe tbody tr th {\n",
              "        vertical-align: top;\n",
              "    }\n",
              "\n",
              "    .dataframe thead th {\n",
              "        text-align: right;\n",
              "    }\n",
              "</style>\n",
              "<table border=\"1\" class=\"dataframe\">\n",
              "  <thead>\n",
              "    <tr style=\"text-align: right;\">\n",
              "      <th></th>\n",
              "      <th>buy_umbr</th>\n",
              "      <th>client_id</th>\n",
              "    </tr>\n",
              "    <tr>\n",
              "      <th>month</th>\n",
              "      <th></th>\n",
              "      <th></th>\n",
              "    </tr>\n",
              "  </thead>\n",
              "  <tbody>\n",
              "    <tr>\n",
              "      <th>1</th>\n",
              "      <td>0.764706</td>\n",
              "      <td>143.352941</td>\n",
              "    </tr>\n",
              "    <tr>\n",
              "      <th>2</th>\n",
              "      <td>1.000000</td>\n",
              "      <td>133.357143</td>\n",
              "    </tr>\n",
              "    <tr>\n",
              "      <th>3</th>\n",
              "      <td>0.827586</td>\n",
              "      <td>131.068966</td>\n",
              "    </tr>\n",
              "    <tr>\n",
              "      <th>4</th>\n",
              "      <td>0.809524</td>\n",
              "      <td>105.857143</td>\n",
              "    </tr>\n",
              "    <tr>\n",
              "      <th>5</th>\n",
              "      <td>0.409091</td>\n",
              "      <td>128.454545</td>\n",
              "    </tr>\n",
              "    <tr>\n",
              "      <th>6</th>\n",
              "      <td>0.029412</td>\n",
              "      <td>116.294118</td>\n",
              "    </tr>\n",
              "    <tr>\n",
              "      <th>7</th>\n",
              "      <td>0.000000</td>\n",
              "      <td>126.333333</td>\n",
              "    </tr>\n",
              "    <tr>\n",
              "      <th>8</th>\n",
              "      <td>0.083333</td>\n",
              "      <td>119.750000</td>\n",
              "    </tr>\n",
              "    <tr>\n",
              "      <th>9</th>\n",
              "      <td>0.350000</td>\n",
              "      <td>121.950000</td>\n",
              "    </tr>\n",
              "    <tr>\n",
              "      <th>10</th>\n",
              "      <td>0.809524</td>\n",
              "      <td>120.809524</td>\n",
              "    </tr>\n",
              "    <tr>\n",
              "      <th>11</th>\n",
              "      <td>1.000000</td>\n",
              "      <td>148.235294</td>\n",
              "    </tr>\n",
              "    <tr>\n",
              "      <th>12</th>\n",
              "      <td>1.000000</td>\n",
              "      <td>125.125000</td>\n",
              "    </tr>\n",
              "  </tbody>\n",
              "</table>\n",
              "</div>"
            ],
            "text/plain": [
              "       buy_umbr   client_id\n",
              "month                      \n",
              "1      0.764706  143.352941\n",
              "2      1.000000  133.357143\n",
              "3      0.827586  131.068966\n",
              "4      0.809524  105.857143\n",
              "5      0.409091  128.454545\n",
              "6      0.029412  116.294118\n",
              "7      0.000000  126.333333\n",
              "8      0.083333  119.750000\n",
              "9      0.350000  121.950000\n",
              "10     0.809524  120.809524\n",
              "11     1.000000  148.235294\n",
              "12     1.000000  125.125000"
            ]
          },
          "execution_count": 5,
          "metadata": {},
          "output_type": "execute_result"
        }
      ],
      "source": [
        "umbrella_df.groupby('month').mean()"
      ]
    },
    {
      "cell_type": "code",
      "execution_count": 6,
      "metadata": {
        "colab": {
          "base_uri": "https://localhost:8080/",
          "height": 282
        },
        "id": "un-tm-s-h_U6",
        "outputId": "3347ef1b-2945-469c-99f2-b1decdb9cbaa"
      },
      "outputs": [
        {
          "data": {
            "text/plain": [
              "<matplotlib.collections.PathCollection at 0x15a782710>"
            ]
          },
          "execution_count": 6,
          "metadata": {},
          "output_type": "execute_result"
        },
        {
          "data": {
            "image/png": "[encoded data removed]",
            "text/plain": [
              "<Figure size 640x480 with 1 Axes>"
            ]
          },
          "metadata": {},
          "output_type": "display_data"
        }
      ],
      "source": [
        "#lets plot the estimation of probabilities per month\n",
        "bymonth = umbrella_df.groupby('month').mean()\n",
        "plt.scatter(bymonth.index, bymonth['buy_umbr'])\n"
      ]
    },
    {
      "cell_type": "markdown",
      "metadata": {
        "id": "f8dlyxAeOinz"
      },
      "source": [
        "**Looks like a sinusoidal, $sin(x)$, representing yearly cycles, but we have to transform it into probabilities 0-1. $p = \\frac{sin(\\text{param} \\cdot \\text{month}) +1}{2}$ keeps the output between 0 and 1, but remember that there are many possibilities that you can think of!**\n"
      ]
    },
    {
      "cell_type": "markdown",
      "metadata": {
        "id": "nMJV2N2FBShF"
      },
      "source": [
        "To better tune the solution, we introduce a parameter in our model, we will first multiplying the number of the month by this parameter and then transform this through the function that creates cycles.\n",
        "\n",
        "*The idea here is that when we have a function that produces cycles, we then can adjust the length of the cycles by adding a parameter to the model. We can find the value of this parameter by using maximum likelihood. This should make clear the idea that maximum likelihood is a general technique to find good values for the parameters in our model, when we know the shape of the underlying probability distribution that generates the data. In the case of choice model, this is a well known distribution.*\n",
        "\n",
        "##2.4) Plot the likelihood function of that parameter for a range of values. What are some good values for that parameter? Compare the likelihoods of this model with the initial one, which model do you think  is better?"
      ]
    },
    {
      "cell_type": "code",
      "execution_count": 7,
      "metadata": {
        "colab": {
          "base_uri": "https://localhost:8080/",
          "height": 300
        },
        "id": "MDEbBg2lO3Pu",
        "outputId": "b589bb10-fb93-4b03-f994-61cda56b4e89"
      },
      "outputs": [
        {
          "name": "stdout",
          "output_type": "stream",
          "text": [
            "The max likelihood for the unique prob model is: -172.13310915307363 \n",
            " The max likelihood for the sinusoidal model is: -88.53053663998303\n"
          ]
        },
        {
          "data": {
            "image/png": "[encoded data removed]",
            "text/plain": [
              "<Figure size 640x480 with 1 Axes>"
            ]
          },
          "metadata": {},
          "output_type": "display_data"
        }
      ],
      "source": [
        "def cycle_transform(param):\n",
        "  return (np.sin(umbrella_df['month']*param) + 1)/2\n",
        "\n",
        "def likeli_sinusoid(param):\n",
        "  p_sin = cycle_transform(param)\n",
        "  return np.sum(np.log( (p_sin**umbrella_df['buy_umbr']) *\n",
        "                ( (1- p_sin)**(1-umbrella_df['buy_umbr'])) ) )\n",
        "\n",
        "\n",
        "cycle_transform(0.5)\n",
        "param_range = np.linspace(0.01, 2, 1100)\n",
        "likelihoods_sinusoid = [likeli_sinusoid(param) for param in param_range]\n",
        "\n",
        "plt.plot(param_range, likelihoods_sinusoid)\n",
        "plt.plot(p_omega_range, likelihoods_for_p_omega)\n",
        "print('The max likelihood for the unique prob model is:',\n",
        "      np.max(likelihoods_for_p_omega), '\\n',\n",
        "      'The max likelihood for the sinusoidal model is:', np.max(likelihoods_sinusoid))\n",
        "\n"
      ]
    },
    {
      "cell_type": "code",
      "execution_count": 8,
      "metadata": {},
      "outputs": [
        {
          "name": "stdout",
          "output_type": "stream",
          "text": [
            "The best value for p_omega according to likelihood is: 0.6854049135577798\n"
          ]
        }
      ],
      "source": [
        "print('The best value for p_omega according to likelihood is:', param_range[np.argmax(likelihoods_sinusoid)])"
      ]
    },
    {
      "cell_type": "code",
      "execution_count": 9,
      "metadata": {},
      "outputs": [
        {
          "data": {
            "text/plain": [
              "0      0.360292\n",
              "1      0.020538\n",
              "2      0.570560\n",
              "3      0.799236\n",
              "4      0.360292\n",
              "         ...   \n",
              "245    0.570560\n",
              "246    0.011235\n",
              "247    0.799236\n",
              "248    0.570560\n",
              "249    0.799236\n",
              "Name: month, Length: 250, dtype: float64"
            ]
          },
          "execution_count": 9,
          "metadata": {},
          "output_type": "execute_result"
        }
      ],
      "source": [
        "cycle_transform(0.5)"
      ]
    },
    {
      "cell_type": "code",
      "execution_count": 10,
      "metadata": {},
      "outputs": [
        {
          "data": {
            "text/plain": [
              "0      0.966005\n",
              "1      0.770180\n",
              "2      0.087321\n",
              "3      0.359214\n",
              "4      0.966005\n",
              "         ...   \n",
              "245    0.087321\n",
              "246    0.442855\n",
              "247    0.359214\n",
              "248    0.087321\n",
              "249    0.359214\n",
              "Name: month, Length: 250, dtype: float64"
            ]
          },
          "execution_count": 10,
          "metadata": {},
          "output_type": "execute_result"
        }
      ],
      "source": [
        "cycle_transform(param_range[np.argmax(likelihoods_sinusoid)])"
      ]
    },
    {
      "cell_type": "code",
      "execution_count": 12,
      "metadata": {},
      "outputs": [
        {
          "data": {
            "text/plain": [
              "0.03625"
            ]
          },
          "execution_count": 12,
          "metadata": {},
          "output_type": "execute_result"
        }
      ],
      "source": [
        "rf = 0.03\n",
        "erp = 0.08\n",
        "stdev_rp = 0.2\n",
        "\n",
        "#U = E[r] - 0.5 A * Var(rp)\n",
        "def u(A,w):\n",
        "    return rf + w * (erp - rf) - 0.5 * A * w**2 * stdev_rp**2 #rf +  ww(8% - 3%) - 3.5 * w ^2 *0.04\n",
        "\n",
        "u(5,0.25)\n"
      ]
    },
    {
      "cell_type": "code",
      "execution_count": null,
      "metadata": {},
      "outputs": [],
      "source": []
    }
  ],
  "metadata": {
    "colab": {
      "name": "wk_02b_tut_likeli",
      "provenance": []
    },
    "kernelspec": {
      "display_name": "Python 3",
      "name": "python3"
    },
    "language_info": {
      "codemirror_mode": {
        "name": "ipython",
        "version": 3
      },
      "file_extension": ".py",
      "mimetype": "text/x-python",
      "name": "python",
      "nbconvert_exporter": "python",
      "pygments_lexer": "ipython3",
      "version": "3.10.9"
    }
  },
  "nbformat": 4,
  "nbformat_minor": 0
}
