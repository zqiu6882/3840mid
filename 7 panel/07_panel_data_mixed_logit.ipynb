{
  "cells": [
    {
      "cell_type": "markdown",
      "metadata": {
        "id": "vvR8vfvdKmFi"
      },
      "source": [
        "# Panel data and the Mixed logit model\n"
      ]
    },
    {
      "cell_type": "markdown",
      "metadata": {
        "id": "y4SZPNgSVVSG"
      },
      "source": [
        "We will introduce two topics\n",
        " * Panel Data\n",
        " * The mixed logit model\n",
        "\n",
        "Very briefly:\n",
        "* Panel data are **data that involves repeated measures over time**. In the case of choice modelling, it means observing the decision makers on repeated decisions. One of the potential benefits is that we can (theoretically) capture differences among individuals, since we have more than one observation per individual. The concepts behind panel data go beyong discrete choice modelling, it is a general statistical concept.\n",
        "\n",
        "* The mixed logit model is another extension of the logit family that involves **random coefficients**, this is, we consider that the Betas vary among individuals and are randomly distributed among a population.\n",
        "\n",
        "First of all, these are two different ideas so they should not be confused.\n",
        "Confusion might appear because traditionally the mixed logit model is applied when we have panel data, so they often appear together.\n",
        "\n",
        "---\n",
        "---\n"
      ]
    },
    {
      "cell_type": "markdown",
      "metadata": {
        "id": "tQOR4mFkgwr7"
      },
      "source": [
        "#Panel data\n",
        "Panel data is an econometrics term that is also called 'repeated observations' under a more general 'Statistics' point of view.\n",
        "Very often we have a sample of individuals and we track their choices through time.\n",
        "\n",
        "Examples:\n",
        " * In the first lecture, we describe an example of tracking the purchases of coffee that households make in a supermarket over a period of one year (using barcode scanner). Households being the decision making 'individuals', we have data about the decisions (brand of coffe purchased) of each individual over time, and the individuals are identified (we have a variable that identifies which indidivual made the purchase).\n",
        "\n",
        " * We can track stock purchases in portfolio management: each day, each individual is faced with the choice among different stocks (each stock is an alternative), and the price of the stock (attributes) changes each day. (Example from Bierlare)\n",
        "\n",
        " * In a survey, we could ask the  participants to choose considering hypothetical choice situations, by changing the attributes of the alternatives.\n",
        " We present the same individual with several choices. For example, we can ask participants about smartphones when changing screen sizes, cost, etc. in a marketing research survey, creating many different products. Instead of presenting each individual a choice among potentially dozens of produes, we present a simple choice (e.g. among three products) and we present each individual several choice situations.\n",
        "\n",
        "\n",
        "\n",
        "While panel data can be often considered as a time series for each individual, it is a more general concept. For example, in a panel we could have a different number of observations for each individual (some individuals are not properly tracked through time) or the actual time dimension is not that relevant. A more general term is 'repeated measures' coming from Statistics.\n",
        "\n",
        " Finally, the respective term when we have data for the individuals at one point in time receives the name of **cross-sectional** data.\n",
        "\n",
        " ---\n",
        " ---"
      ]
    },
    {
      "cell_type": "markdown",
      "metadata": {
        "id": "R88VV7crivLR"
      },
      "source": [
        "#Types of panel data\n",
        "When we have measurements over time, we can start considering that the effect of some factors 'changes over time'. This can split the panel data into two broad categories:\n",
        " * **Static panels**: Mainly, there is no change of the effects over time.\n",
        " * **Dynamic panels**: There is an effect over time on decisions, for example, consider the 'addiction effect' every time the individual chooses a given alternative increases the chance that it will be chosen again.\n",
        "\n",
        "We introduce some new mathematical notation for the Random Utility Model framework:\n",
        "\n",
        " $$U_{jit} = V_{jit} + \\varepsilon_{jit}$$\n",
        "\n",
        "with $j$ representing the alternative, $i$ the individual and $t$ the instant of time at which the decision is made. We can read this as the utility that the individual $i$ received from alternative $j$ **at time** $t$.\n",
        " As we have seen before, depending on what we assume of the $\\varepsilon$s, we can reach different models.\n",
        "\n",
        "Remember, we often assume that the $\\varepsilon$s are independent across individuals and they follow the extreme value distribution, and then\n",
        "* If the $\\varepsilon$s are indepent across alternatives we would be talking about the logit, if the $\\varepsilon$s are dependent across alternatives we could be talking about the nested logit.\n",
        "\n",
        "* In the case of independence across time,  if the $\\varepsilon$s are independent over time we can be talking about static panels, if they are dependent we can be talking about dynamic panels.\n",
        "\n",
        "As we have mentioned before, a very imporant point, how we specify a model can change the static/dynamic nature, in the case of time **we can make a dynamic panel become static if we can capture the source of dependence over time.**\n",
        "\n",
        "---\n",
        "---"
      ]
    },
    {
      "cell_type": "markdown",
      "metadata": {
        "id": "cZNkVUHeiNQ6"
      },
      "source": [
        "# Panel data: Static panel\n",
        "\n",
        "When assume that the errors are for each individual are independent over time, a panel data reduces to the examples that we have seen before in other lectures, we can choose to treat observations of each individual 'as if' they were coming from different individuals and the modelling reduces to what we have been doing until now (we now have a term for these situations of one sample per individual, cross-sectional data).\n",
        "\n",
        "---\n",
        "---"
      ]
    },
    {
      "cell_type": "markdown",
      "metadata": {
        "id": "_RbQIoTqbaES"
      },
      "source": [
        "# Panel data: Dynamic panel\n",
        "\n",
        "When there is dependence over time in the choices, we can think of two general sources for this dependence.\n",
        "\n",
        " 1. **Dependence of not only the present state, but on past states.** In choice modelling, we can think of different effects:\n",
        "    * Choice fatigue\n",
        "    * Addiction / familiarity / habit\n",
        "    * Novelty seeking\n",
        "    * Learning effects: Know more information about a product when buying it, or through other means (user opinions that accumulate over time).\n",
        "    * Anticipation: For example, when there is a clear pattern of evolution of prices over time, individuals can consider it when making choices (buy a house in a trending area).\n",
        "\n",
        " 2. **Effect of the individual:** 'Agent-effect' or 'serial correlation'. Because we have repeated observations, it becomes more meaningful to talk about the effects that are related to each specific individual. This is because we can estimate it, as opposed to a cross-section which the estimation would not be reliable.\n",
        "\n",
        "---\n",
        "---\n"
      ]
    },
    {
      "cell_type": "markdown",
      "metadata": {
        "id": "EUhbMsbIuucG"
      },
      "source": [
        "\n",
        "# Static or Dynamic?\n",
        "As we have seen with the nested logit vs multinomial, whether we should use one or another depends on what we can capture with our model.\n",
        "Similarly, these two sources of dependence in panel data is just a 'way of thinking', depends on what sources of influence we can capture of the underlying process. For example, the size of the 'agent effect' might be reduced if we can capture the variable that drives it.\n",
        "\n",
        " Imagine that gender is an important factor in a choice situation, and we are not capturing it, we are not measuring the gender of the individual.\n",
        " When we track several decisions of each individual, we will see that the errors for each individual are correlated, the errors of each individual will be more similar compared to the general sample (unless that individual randomly changes gender). However, if we could measure the gender, then this correlation would be captured in the parameter of the model, and the errors of the model across each individual would become independent.\n",
        "\n",
        "\n",
        "* **Fist, we are going to see 'two ways' of capturing the Dynamic Effects with proper model specification.**\n",
        " 1. Lagged Variables\n",
        " 2. Paremeters that very per-individual\n",
        "\n",
        "* **Then a model that attempts to improve estimation when the dynamics cannot be captured.**\n",
        "\n",
        "---\n",
        "---\n",
        "\n"
      ]
    },
    {
      "cell_type": "markdown",
      "metadata": {
        "id": "8sNPedTxp4Z1"
      },
      "source": [
        "# Capturing dynamics: Lagged variables\n",
        "\n",
        "We can try to capture the dynamics of a choice process in several ways.\n",
        "A common way to capture the dynamics is to think that the utility depends on variables measured at other instants of time.\n",
        "\n",
        " For example, the decision of whether to buy a house can depend on the current value(price) of the house, but also on recent past values if a trend is identified. Plainly speaking, two houses at the same current price, one of those has been increasing its price for 5 years, the other has been decreasing its price for 5 years, Which one would you buy? If we measure both houses prices only at an instant in time, we might be lossing important information.\n",
        "\n",
        " Another example: we can consider past choices of each individual as one of the variables we are measuring. For example, the past selection of smartphone brand can influence a current choice, for example if we buy a phone of a brand that generates familiarity / aversion to change.\n",
        "\n",
        " All these fall in to the umbrella term of 'Lagged variables'\n",
        "\n",
        "In mathematical notation, we start from the familiar specification of observed component of the utility as a linear combination of some varaibles.\n",
        " $$ V_{jit} = \\beta X_{jit} $$\n",
        " Notice the subindex $t$ represents the value of variables (attributes and characteristics) measured at the specific point it time t.\n",
        "\n",
        " We can introduce lagged variables in a very general way by adding another set of coefficients that  \n",
        "\n",
        " $$V_{jit} = \\beta X_{jit} + \\gamma X_{ji(t-1)}$$\n",
        "\n",
        " Of course, we might only select a few variables from the past, and we can introduce more instants of time $(t-2), (t-3), ...$\n",
        "\n",
        " A particularly important lagged variable in choice modelling is past choices, which is a bit special because it cannot be measured in the present, it is what we want to predict. Past choices can be introduced into the model as dummy (indicator for each) or in more compact form, for example a binary variable indicating whether it changed or not, the number of times that each was chose in the past and so on.\n",
        "\n",
        " **What we expect when introducing lagged variables is that the dependence across time for each individual is captured, and then we can treat the model as usual, as a static panel or cross-section.**\n",
        "\n",
        " ---\n",
        " ---"
      ]
    },
    {
      "cell_type": "markdown",
      "metadata": {
        "id": "UVfP5kshrJNX"
      },
      "source": [
        "# Capturing dynamics: Agent effect\n",
        "\n",
        "A natural idea to consider is 'choice' heterogeneity, or that each individual has its own utility function.\n",
        "\n",
        "\n",
        "In panel data, because we have repeated observations, we can try to estimate effects of each individual, roughly speaking it would be like estimating a logit for each individual.\n",
        "\n",
        "The simplest way of modeling variations is via the introduction of a constant per individual, following the notation:\n",
        "\n",
        "$$ V_{jit} = \\beta X_{jit} + \\alpha_{ji} $$\n",
        "\n",
        "With the $\\alpha$ being the simplest form of agent effect, just a constant. Notice the subindices of the $\\alpha$, there is no reference to the instant of time, but it varies per individual. This means that utility has a common part to all individuals, and the individual specific-part that remains consant through time. (We can of course not capture lagged variables and ignore the subindex $t$ in the $X$ variables).\n",
        "When we introduce the agent effect, we again expect that the effect of the individual through time is captured and we can afterwards treat the model as if it was static / no dependence across time.\n",
        "\n",
        "\n",
        "Even though we can estimate the agent effects when we have repeated measures, we might still fall into small sample size problems, not enough repreated observations.\n",
        "\n",
        "In terms of estimation of these agent-specific effects, in the statistical and econometric traditions  there are two approaches or philosophies (broadly speaking) related to parameter estimation.\n",
        "\n",
        " * Fixed effects: The coefficients are fixed and we want to estimate them, this is the usual way we estimate coefficients in a model.\n",
        " * Random effects: We consider that the effect of the individuals are random coming from a specific probability distribution. This leads us to the mixed logit model.\n",
        "\n",
        "---\n",
        "---"
      ]
    },
    {
      "cell_type": "markdown",
      "metadata": {
        "id": "635qAREETfCg"
      },
      "source": [
        "# Fixed and Random effects\n",
        "\n",
        " * Fixed effects: Are the parameters of the model whose values are the same for all members of the population. This is the 'standard' setting, e.g. in linear regression. We have a sample from a population, assuming that **all samples from the population have the same relationship with the response variable**\n",
        " * Random effects: The parameters that might change across individuals (or groups of individuals). E.g. in a linear regression setting, each individual having a different value for the coefficients.\n",
        "\n",
        "Random effects is a more abstract idea. The term 'random' comes from the interpretation that these are paramters that affects variables that are sampled from a larger population, they are not fully observed.\n",
        "\n",
        "For example, in a discrete model, we can consider the age effect a fixed effect, and estimate its 'unique' value for all individuals of a population, the effect of age in utility is the same of all individuals.\n",
        "If we consider 'age' as a random effect, the interpretation is that each individual has a different effect of age.\n",
        "\n",
        " The term 'random' comes because we are not observing all individuals, just a random sample of them, and we can think of the variable 'age' in each individual as a different variable. An age variable for Peter, another 'age varaible' for Susan, etc.). For ease of notation, we consider only one variable age, but each individual having a different value for the parameter that multiplies 'age'.\n",
        "The goal with random effects is that we can estimate the distribution of these parameters (e.g. a normal with mean x and variance y) from a sample. But is is clear that for prediction, if we get a new individual, unobserved in the sample, we will not be able to assign values for the parameter to it (we can use the mean).\n",
        "\n",
        "The distincition can be philosophical, around what we consider the population, for example, in some contexts, we might be able to observed the full set of individuals, and we can consider the models as fixed effects. For example when estimating a choice model in politics, the individuals can be the political candidated, which can only be two or three of interest. So we are interesed in estimating the effects of a 'fixed' set of politicians, so we can use a fixed effect model.\n",
        "\n",
        "---\n",
        "---"
      ]
    },
    {
      "cell_type": "markdown",
      "metadata": {
        "id": "wNFN_kiXFSTL"
      },
      "source": [
        "# Limitations of agent effects\n",
        "\n",
        "  This seems very reasonable, but it has two problems:\n",
        " - 1) It requires a lot of data to estimate, since we have a set of coefficients per individual!\n",
        " - 2) What do we do when we want to predict the choices for new individuals in a population? (It does not help prediction).\n",
        "\n",
        "\n",
        "Therefore agent effects can be important, but are less general applicable than others parameters of the model. The are relevant when trying to accurately estimate **the other** parameters of the model.\n",
        "\n",
        "---\n",
        "---"
      ]
    },
    {
      "cell_type": "markdown",
      "metadata": {
        "id": "Xe4B1ntF8Vru"
      },
      "source": [
        "# Mixed logit\n",
        "\n",
        "The mixed logit comes from considering a logit model that has both fixed effects (the usual) and random effects (the one we introduce here). Ther term comes from the more general term 'mixed model' or 'mixed-effects' model in Statistics.\n",
        "\n",
        "A fixed effects model is what we have been doing, the paremeters are fixed or deterministic all individuals in the population, and we want to estimate their values.\n",
        "\n",
        "$$V_{ijt} = \\beta X_{jit}$$\n",
        "\n",
        "A random effects model assumes that there is a beta for each individual\n",
        "\n",
        "$$V_{ijt} = \\beta'_i X_{jit}$$ and what we want to estimate for the $\\beta'$,but these are actually unkown for new observations ($i$ not in the dataset) and what we can do is **just estimate the distribution** of the $\\beta$s.\n",
        "For example, the mean and variance of the $\\beta$s assuming that they are normally distributed.\n",
        "\n",
        "---\n",
        "---\n"
      ]
    },
    {
      "cell_type": "markdown",
      "metadata": {
        "id": "4DQQ65d6eEAs"
      },
      "source": [
        "# Why add Random effects in a model?\n",
        "\n",
        "1. The random effects can extract more information of the data, this is, a distribtuion for the random paramteres, instead of just one number.\n",
        "\n",
        "2. In a mixed model, the estimation, this is, the values for the paramters of the model that we get out out of the dataset, might be better, reducing some bias. For example, the random agent-speficic effect might mitigate the effect of outliers, such as millionaries in a dataset when we cannot capture the wealth of the decision makers.\n",
        "\n",
        "Scientifically speaking, the random effects are less useful, imagine a theory of gravitation that assigns a different effect of the gravity for each object, this is like not having a model, in general we would like to estimate a good fixed effects model, we we cant, we might use a mixed model to reduce the impact of the 'misspecification' of the model."
      ]
    },
    {
      "cell_type": "markdown",
      "metadata": {
        "id": "JHdMWIJJ-QZm"
      },
      "source": [
        "# Mixed logit for estimating the agent effect\n",
        "\n",
        "The agent effect can be linked to both fixed (multinomial logit) and random effects model (mixed logit) by considering dummy indicator variables (a variable for each individual) or individual specific 'constants'.\n",
        "\n",
        "---\n",
        "---"
      ]
    },
    {
      "cell_type": "markdown",
      "metadata": {
        "id": "eF071xfgidaY"
      },
      "source": [
        "# Comparing fixed and random effects\n",
        "The advantage of the random effects model is that we can get a better estimation\n",
        "of the coefficients (the true population average) compared to the fixed effects. This of course assuming that we have correctly specified the **distribution** of the parameters. For example, in the extreme case, we only use one parameter, that is a constant. In a discrete choice model with fixed effects, we are not getting anything out of it (the model does not change because the constant is absorbed int the alternative-specific constants). If we use a random effects, we will get a distribution for this constants, so we extract more 'information' from the dataset. We will now how much this constant varies across individuals. However, when we have to predict the choices or a new individual both models are equivalent, because we do not know how to assign a value for that constant in the random effects model.\n",
        "\n",
        "The difference becomes *especially relevant in panel data*, because we might have a different amount of observation for each individual, so we can capture the excessive influence of some individuals that might be overrepresented.\n",
        "\n",
        "---\n",
        "---"
      ]
    },
    {
      "cell_type": "markdown",
      "metadata": {
        "id": "L391wlL2_L45"
      },
      "source": [
        "# Final words\n",
        "\n",
        "Panel data usually has larger sample sizes which allows us to try more advanced models,relative to cross-sectional data, so there is always the tradeoff of sample size vs model complexity, try to capture as much effect as possible vs. new model methodologies such as agent effects or mixed models. In other words, we might treat panel data as cross sectional and try more complex models, with more variable transformations, or add more variables into the model.\n",
        "\n",
        "For example, just adding a constant agent effect if we have a sample size of 1000 individuals, we would be adding 1000 parameters to the model, so maybe we could be trying a 'static' model with more complex variable transformations. As always, it depends on the context and our interests. We could be interested in prediction, in which case we would go for the more complex model. Or we could be interested in estimating the values of some of the parameters in a simple model as best as possible (for example, insolate the effect of price in a linear model), in which case we could opt for the mixed logit approach.\n",
        "\n",
        "This discussion is becoming increasingly relevant in modern times, as we get more advanced tools, much more data and the focus from interpretation shifts towards prediction.\n",
        "\n",
        "---\n",
        "---"
      ]
    }
  ],
  "metadata": {
    "colab": {
      "name": "07_panel_data_mixed_logit",
      "provenance": []
    },
    "kernelspec": {
      "display_name": "Python 3",
      "name": "python3"
    },
    "language_info": {
      "name": "python"
    }
  },
  "nbformat": 4,
  "nbformat_minor": 0
}
