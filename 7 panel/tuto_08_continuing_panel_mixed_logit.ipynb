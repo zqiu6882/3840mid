{
 "cells": [
  {
   "cell_type": "markdown",
   "metadata": {
    "id": "RK_QlIPgbjtB"
   },
   "source": [
    "# SOLUTION Tutorial 8: Continuing with the panel data and mixed logit\n",
    "\n",
    "We will continue with the tomato sauce dataset, showcasing how to create random effects on the coefficients, as opposed to the 'agent' effect (random alternative specific constants).\n",
    "\n",
    "\n",
    "\n",
    "\n",
    "We have two famous brands of catsup and 3 different package sizes.\n",
    "\n",
    "A description of the dataset can be found [here](https://www.tandfonline.com/doi/pdf/10.1080/07350015.1994.10524547?casa_token=r4LpjVvgDW4AAAAA:FVG8mEexsQ37tJ2bvk7oxZZ9K_jvvMJ2WxglLzBaHQD0_0REkXmKGsPPxXw_LRGwN3YHY8-L-k8U)"
   ]
  },
  {
   "cell_type": "markdown",
   "metadata": {
    "id": "JyzPlsofdvaG"
   },
   "source": [
    "# Description of the dataset\n",
    "\n",
    "* **id**: household identifiers,\n",
    "* **choice**: one of heinz41, heinz32, heinz28, hunts32.\n",
    "* **disp_x**: is there a display for brand X ?\n",
    "* **feat_x**: is there a newspaper feature advertisement for brand x?\n",
    "* **price_x**: price of brand x"
   ]
  },
  {
   "cell_type": "markdown",
   "metadata": {
    "id": "vb9SIunnASNB"
   },
   "source": [
    "---\n",
    "---\n",
    "\n",
    "# Preparing the environment\n",
    "*The preparation and dataset loading code is given to the students*"
   ]
  },
  {
   "cell_type": "code",
   "execution_count": null,
   "metadata": {
    "colab": {
     "base_uri": "https://localhost:8080/"
    },
    "id": "j5zHGhgErHPd",
    "outputId": "641e9a32-47fa-4ce8-ae67-89543b217c05"
   },
   "outputs": [
    {
     "name": "stdout",
     "output_type": "stream",
     "text": [
      "Requirement already satisfied: biogeme in /usr/local/lib/python3.10/dist-packages (3.2.12)\n",
      "Requirement already satisfied: pandas>=1.3.5 in /usr/local/lib/python3.10/dist-packages (from biogeme) (1.5.3)\n",
      "Requirement already satisfied: scipy>=1.7.3 in /usr/local/lib/python3.10/dist-packages (from biogeme) (1.11.3)\n",
      "Requirement already satisfied: tqdm>=4.64.1 in /usr/local/lib/python3.10/dist-packages (from biogeme) (4.66.1)\n",
      "Requirement already satisfied: tomlkit>=0.11.5 in /usr/local/lib/python3.10/dist-packages (from biogeme) (0.12.1)\n",
      "Requirement already satisfied: cythonbiogeme>=1.0.1 in /usr/local/lib/python3.10/dist-packages (from biogeme) (1.0.1)\n",
      "Requirement already satisfied: biogeme-optimization>=0.0.4 in /usr/local/lib/python3.10/dist-packages (from biogeme) (0.0.4)\n",
      "Requirement already satisfied: numpy>=1.24.2 in /usr/local/lib/python3.10/dist-packages (from biogeme-optimization>=0.0.4->biogeme) (1.26.0)\n",
      "Requirement already satisfied: cython>=0.29.16 in /usr/local/lib/python3.10/dist-packages (from cythonbiogeme>=1.0.1->biogeme) (3.0.3)\n",
      "Requirement already satisfied: python-dateutil>=2.8.1 in /usr/local/lib/python3.10/dist-packages (from pandas>=1.3.5->biogeme) (2.8.2)\n",
      "Requirement already satisfied: pytz>=2020.1 in /usr/local/lib/python3.10/dist-packages (from pandas>=1.3.5->biogeme) (2023.3.post1)\n",
      "Requirement already satisfied: six>=1.5 in /usr/local/lib/python3.10/dist-packages (from python-dateutil>=2.8.1->pandas>=1.3.5->biogeme) (1.16.0)\n"
     ]
    }
   ],
   "source": [
    "!pip install biogeme"
   ]
  },
  {
   "cell_type": "markdown",
   "metadata": {
    "id": "1z0X9xZ8rChf"
   },
   "source": [
    "Load the packages, feel free to change the names."
   ]
  },
  {
   "cell_type": "code",
   "execution_count": null,
   "metadata": {
    "id": "apVB-TMkrFnb"
   },
   "outputs": [],
   "source": [
    "import pandas  as pd\n",
    "import numpy as np\n",
    "import matplotlib.pyplot as plt\n",
    "\n",
    "import biogeme.database as db\n",
    "import biogeme.biogeme as bio\n",
    "import biogeme.models as models\n",
    "import biogeme.expressions as exp\n",
    "import biogeme.tools as tools\n",
    "import biogeme.distributions as dist"
   ]
  },
  {
   "cell_type": "markdown",
   "metadata": {
    "id": "Mgv0hV1YAieW"
   },
   "source": [
    "# Load the dataset"
   ]
  },
  {
   "cell_type": "code",
   "execution_count": null,
   "metadata": {
    "id": "g1Ykn5Ytr7Rs"
   },
   "outputs": [],
   "source": [
    "path = 'https://raw.githubusercontent.com/pmontman/pub-choicemodels/main/data/catsup.csv'\n",
    "catsup_pd = pd.read_csv(path)"
   ]
  },
  {
   "cell_type": "markdown",
   "metadata": {
    "id": "ZY55r3Gesb3t"
   },
   "source": [
    "\n",
    "In this case, notice the id variable, that identifies each household, so we have data from many choice situations for each household. We have also different amount of observations per household."
   ]
  },
  {
   "cell_type": "code",
   "execution_count": null,
   "metadata": {
    "colab": {
     "base_uri": "https://localhost:8080/",
     "height": 269
    },
    "id": "ldkmnMhssemT",
    "outputId": "6c8f14be-5dce-4c2d-c5c9-f4d41aab08e2"
   },
   "outputs": [
    {
     "data": {
      "text/html": [
       "\n",
       "  <div id=\"df-31b80a52-e969-4781-911d-88957de239f4\" class=\"colab-df-container\">\n",
       "    <div>\n",
       "<style scoped>\n",
       "    .dataframe tbody tr th:only-of-type {\n",
       "        vertical-align: middle;\n",
       "    }\n",
       "\n",
       "    .dataframe tbody tr th {\n",
       "        vertical-align: top;\n",
       "    }\n",
       "\n",
       "    .dataframe thead th {\n",
       "        text-align: right;\n",
       "    }\n",
       "</style>\n",
       "<table border=\"1\" class=\"dataframe\">\n",
       "  <thead>\n",
       "    <tr style=\"text-align: right;\">\n",
       "      <th></th>\n",
       "      <th>id</th>\n",
       "      <th>disp_heinz41</th>\n",
       "      <th>disp_heinz32</th>\n",
       "      <th>disp_heinz28</th>\n",
       "      <th>disp_hunts32</th>\n",
       "      <th>feat_heinz41</th>\n",
       "      <th>feat_heinz32</th>\n",
       "      <th>feat_heinz28</th>\n",
       "      <th>feat_hunts32</th>\n",
       "      <th>price_heinz41</th>\n",
       "      <th>price_heinz32</th>\n",
       "      <th>price_heinz28</th>\n",
       "      <th>price_hunts32</th>\n",
       "      <th>choice</th>\n",
       "    </tr>\n",
       "  </thead>\n",
       "  <tbody>\n",
       "    <tr>\n",
       "      <th>0</th>\n",
       "      <td>1</td>\n",
       "      <td>0</td>\n",
       "      <td>0</td>\n",
       "      <td>0</td>\n",
       "      <td>0</td>\n",
       "      <td>0</td>\n",
       "      <td>0</td>\n",
       "      <td>0</td>\n",
       "      <td>0</td>\n",
       "      <td>4.6</td>\n",
       "      <td>3.7</td>\n",
       "      <td>5.2</td>\n",
       "      <td>3.4</td>\n",
       "      <td>heinz28</td>\n",
       "    </tr>\n",
       "    <tr>\n",
       "      <th>1</th>\n",
       "      <td>1</td>\n",
       "      <td>0</td>\n",
       "      <td>0</td>\n",
       "      <td>0</td>\n",
       "      <td>0</td>\n",
       "      <td>0</td>\n",
       "      <td>0</td>\n",
       "      <td>0</td>\n",
       "      <td>0</td>\n",
       "      <td>4.6</td>\n",
       "      <td>4.3</td>\n",
       "      <td>5.2</td>\n",
       "      <td>4.4</td>\n",
       "      <td>heinz28</td>\n",
       "    </tr>\n",
       "    <tr>\n",
       "      <th>2</th>\n",
       "      <td>1</td>\n",
       "      <td>0</td>\n",
       "      <td>0</td>\n",
       "      <td>0</td>\n",
       "      <td>0</td>\n",
       "      <td>0</td>\n",
       "      <td>1</td>\n",
       "      <td>0</td>\n",
       "      <td>0</td>\n",
       "      <td>4.6</td>\n",
       "      <td>2.5</td>\n",
       "      <td>4.6</td>\n",
       "      <td>4.8</td>\n",
       "      <td>heinz28</td>\n",
       "    </tr>\n",
       "    <tr>\n",
       "      <th>3</th>\n",
       "      <td>1</td>\n",
       "      <td>0</td>\n",
       "      <td>0</td>\n",
       "      <td>0</td>\n",
       "      <td>0</td>\n",
       "      <td>0</td>\n",
       "      <td>0</td>\n",
       "      <td>0</td>\n",
       "      <td>0</td>\n",
       "      <td>4.6</td>\n",
       "      <td>3.7</td>\n",
       "      <td>5.2</td>\n",
       "      <td>3.4</td>\n",
       "      <td>heinz28</td>\n",
       "    </tr>\n",
       "    <tr>\n",
       "      <th>4</th>\n",
       "      <td>1</td>\n",
       "      <td>0</td>\n",
       "      <td>0</td>\n",
       "      <td>0</td>\n",
       "      <td>0</td>\n",
       "      <td>0</td>\n",
       "      <td>0</td>\n",
       "      <td>1</td>\n",
       "      <td>0</td>\n",
       "      <td>4.6</td>\n",
       "      <td>3.0</td>\n",
       "      <td>4.6</td>\n",
       "      <td>4.8</td>\n",
       "      <td>heinz28</td>\n",
       "    </tr>\n",
       "    <tr>\n",
       "      <th>5</th>\n",
       "      <td>1</td>\n",
       "      <td>0</td>\n",
       "      <td>0</td>\n",
       "      <td>0</td>\n",
       "      <td>0</td>\n",
       "      <td>0</td>\n",
       "      <td>0</td>\n",
       "      <td>0</td>\n",
       "      <td>0</td>\n",
       "      <td>5.0</td>\n",
       "      <td>3.0</td>\n",
       "      <td>4.7</td>\n",
       "      <td>3.0</td>\n",
       "      <td>heinz28</td>\n",
       "    </tr>\n",
       "    <tr>\n",
       "      <th>6</th>\n",
       "      <td>1</td>\n",
       "      <td>0</td>\n",
       "      <td>0</td>\n",
       "      <td>0</td>\n",
       "      <td>1</td>\n",
       "      <td>0</td>\n",
       "      <td>0</td>\n",
       "      <td>0</td>\n",
       "      <td>1</td>\n",
       "      <td>5.1</td>\n",
       "      <td>3.1</td>\n",
       "      <td>4.6</td>\n",
       "      <td>4.1</td>\n",
       "      <td>heinz28</td>\n",
       "    </tr>\n",
       "  </tbody>\n",
       "</table>\n",
       "</div>\n",
       "    <div class=\"colab-df-buttons\">\n",
       "\n",
       "  <div class=\"colab-df-container\">\n",
       "    <button class=\"colab-df-convert\" onclick=\"convertToInteractive('df-31b80a52-e969-4781-911d-88957de239f4')\"\n",
       "            title=\"Convert this dataframe to an interactive table.\"\n",
       "            style=\"display:none;\">\n",
       "\n",
       "  <svg xmlns=\"http://www.w3.org/2000/svg\" height=\"24px\" viewBox=\"0 -960 960 960\">\n",
       "    <path d=\"M120-120v-720h720v720H120Zm60-500h600v-160H180v160Zm220 220h160v-160H400v160Zm0 220h160v-160H400v160ZM180-400h160v-160H180v160Zm440 0h160v-160H620v160ZM180-180h160v-160H180v160Zm440 0h160v-160H620v160Z\"/>\n",
       "  </svg>\n",
       "    </button>\n",
       "\n",
       "  <style>\n",
       "    .colab-df-container {\n",
       "      display:flex;\n",
       "      gap: 12px;\n",
       "    }\n",
       "\n",
       "    .colab-df-convert {\n",
       "      background-color: #E8F0FE;\n",
       "      border: none;\n",
       "      border-radius: 50%;\n",
       "      cursor: pointer;\n",
       "      display: none;\n",
       "      fill: #1967D2;\n",
       "      height: 32px;\n",
       "      padding: 0 0 0 0;\n",
       "      width: 32px;\n",
       "    }\n",
       "\n",
       "    .colab-df-convert:hover {\n",
       "      background-color: #E2EBFA;\n",
       "      box-shadow: 0px 1px 2px rgba(60, 64, 67, 0.3), 0px 1px 3px 1px rgba(60, 64, 67, 0.15);\n",
       "      fill: #174EA6;\n",
       "    }\n",
       "\n",
       "    .colab-df-buttons div {\n",
       "      margin-bottom: 4px;\n",
       "    }\n",
       "\n",
       "    [theme=dark] .colab-df-convert {\n",
       "      background-color: #3B4455;\n",
       "      fill: #D2E3FC;\n",
       "    }\n",
       "\n",
       "    [theme=dark] .colab-df-convert:hover {\n",
       "      background-color: #434B5C;\n",
       "      box-shadow: 0px 1px 3px 1px rgba(0, 0, 0, 0.15);\n",
       "      filter: drop-shadow(0px 1px 2px rgba(0, 0, 0, 0.3));\n",
       "      fill: #FFFFFF;\n",
       "    }\n",
       "  </style>\n",
       "\n",
       "    <script>\n",
       "      const buttonEl =\n",
       "        document.querySelector('#df-31b80a52-e969-4781-911d-88957de239f4 button.colab-df-convert');\n",
       "      buttonEl.style.display =\n",
       "        google.colab.kernel.accessAllowed ? 'block' : 'none';\n",
       "\n",
       "      async function convertToInteractive(key) {\n",
       "        const element = document.querySelector('#df-31b80a52-e969-4781-911d-88957de239f4');\n",
       "        const dataTable =\n",
       "          await google.colab.kernel.invokeFunction('convertToInteractive',\n",
       "                                                    [key], {});\n",
       "        if (!dataTable) return;\n",
       "\n",
       "        const docLinkHtml = 'Like what you see? Visit the ' +\n",
       "          '<a target=\"_blank\" href=https://colab.research.google.com/notebooks/data_table.ipynb>data table notebook</a>'\n",
       "          + ' to learn more about interactive tables.';\n",
       "        element.innerHTML = '';\n",
       "        dataTable['output_type'] = 'display_data';\n",
       "        await google.colab.output.renderOutput(dataTable, element);\n",
       "        const docLink = document.createElement('div');\n",
       "        docLink.innerHTML = docLinkHtml;\n",
       "        element.appendChild(docLink);\n",
       "      }\n",
       "    </script>\n",
       "  </div>\n",
       "\n",
       "\n",
       "<div id=\"df-99c40ca4-524a-42e6-857b-6f9a9a270c4a\">\n",
       "  <button class=\"colab-df-quickchart\" onclick=\"quickchart('df-99c40ca4-524a-42e6-857b-6f9a9a270c4a')\"\n",
       "            title=\"Suggest charts.\"\n",
       "            style=\"display:none;\">\n",
       "\n",
       "<svg xmlns=\"http://www.w3.org/2000/svg\" height=\"24px\"viewBox=\"0 0 24 24\"\n",
       "     width=\"24px\">\n",
       "    <g>\n",
       "        <path d=\"M19 3H5c-1.1 0-2 .9-2 2v14c0 1.1.9 2 2 2h14c1.1 0 2-.9 2-2V5c0-1.1-.9-2-2-2zM9 17H7v-7h2v7zm4 0h-2V7h2v10zm4 0h-2v-4h2v4z\"/>\n",
       "    </g>\n",
       "</svg>\n",
       "  </button>\n",
       "\n",
       "<style>\n",
       "  .colab-df-quickchart {\n",
       "      --bg-color: #E8F0FE;\n",
       "      --fill-color: #1967D2;\n",
       "      --hover-bg-color: #E2EBFA;\n",
       "      --hover-fill-color: #174EA6;\n",
       "      --disabled-fill-color: #AAA;\n",
       "      --disabled-bg-color: #DDD;\n",
       "  }\n",
       "\n",
       "  [theme=dark] .colab-df-quickchart {\n",
       "      --bg-color: #3B4455;\n",
       "      --fill-color: #D2E3FC;\n",
       "      --hover-bg-color: #434B5C;\n",
       "      --hover-fill-color: #FFFFFF;\n",
       "      --disabled-bg-color: #3B4455;\n",
       "      --disabled-fill-color: #666;\n",
       "  }\n",
       "\n",
       "  .colab-df-quickchart {\n",
       "    background-color: var(--bg-color);\n",
       "    border: none;\n",
       "    border-radius: 50%;\n",
       "    cursor: pointer;\n",
       "    display: none;\n",
       "    fill: var(--fill-color);\n",
       "    height: 32px;\n",
       "    padding: 0;\n",
       "    width: 32px;\n",
       "  }\n",
       "\n",
       "  .colab-df-quickchart:hover {\n",
       "    background-color: var(--hover-bg-color);\n",
       "    box-shadow: 0 1px 2px rgba(60, 64, 67, 0.3), 0 1px 3px 1px rgba(60, 64, 67, 0.15);\n",
       "    fill: var(--button-hover-fill-color);\n",
       "  }\n",
       "\n",
       "  .colab-df-quickchart-complete:disabled,\n",
       "  .colab-df-quickchart-complete:disabled:hover {\n",
       "    background-color: var(--disabled-bg-color);\n",
       "    fill: var(--disabled-fill-color);\n",
       "    box-shadow: none;\n",
       "  }\n",
       "\n",
       "  .colab-df-spinner {\n",
       "    border: 2px solid var(--fill-color);\n",
       "    border-color: transparent;\n",
       "    border-bottom-color: var(--fill-color);\n",
       "    animation:\n",
       "      spin 1s steps(1) infinite;\n",
       "  }\n",
       "\n",
       "  @keyframes spin {\n",
       "    0% {\n",
       "      border-color: transparent;\n",
       "      border-bottom-color: var(--fill-color);\n",
       "      border-left-color: var(--fill-color);\n",
       "    }\n",
       "    20% {\n",
       "      border-color: transparent;\n",
       "      border-left-color: var(--fill-color);\n",
       "      border-top-color: var(--fill-color);\n",
       "    }\n",
       "    30% {\n",
       "      border-color: transparent;\n",
       "      border-left-color: var(--fill-color);\n",
       "      border-top-color: var(--fill-color);\n",
       "      border-right-color: var(--fill-color);\n",
       "    }\n",
       "    40% {\n",
       "      border-color: transparent;\n",
       "      border-right-color: var(--fill-color);\n",
       "      border-top-color: var(--fill-color);\n",
       "    }\n",
       "    60% {\n",
       "      border-color: transparent;\n",
       "      border-right-color: var(--fill-color);\n",
       "    }\n",
       "    80% {\n",
       "      border-color: transparent;\n",
       "      border-right-color: var(--fill-color);\n",
       "      border-bottom-color: var(--fill-color);\n",
       "    }\n",
       "    90% {\n",
       "      border-color: transparent;\n",
       "      border-bottom-color: var(--fill-color);\n",
       "    }\n",
       "  }\n",
       "</style>\n",
       "\n",
       "  <script>\n",
       "    async function quickchart(key) {\n",
       "      const quickchartButtonEl =\n",
       "        document.querySelector('#' + key + ' button');\n",
       "      quickchartButtonEl.disabled = true;  // To prevent multiple clicks.\n",
       "      quickchartButtonEl.classList.add('colab-df-spinner');\n",
       "      try {\n",
       "        const charts = await google.colab.kernel.invokeFunction(\n",
       "            'suggestCharts', [key], {});\n",
       "      } catch (error) {\n",
       "        console.error('Error during call to suggestCharts:', error);\n",
       "      }\n",
       "      quickchartButtonEl.classList.remove('colab-df-spinner');\n",
       "      quickchartButtonEl.classList.add('colab-df-quickchart-complete');\n",
       "    }\n",
       "    (() => {\n",
       "      let quickchartButtonEl =\n",
       "        document.querySelector('#df-99c40ca4-524a-42e6-857b-6f9a9a270c4a button');\n",
       "      quickchartButtonEl.style.display =\n",
       "        google.colab.kernel.accessAllowed ? 'block' : 'none';\n",
       "    })();\n",
       "  </script>\n",
       "</div>\n",
       "    </div>\n",
       "  </div>\n"
      ],
      "text/plain": [
       "   id  disp_heinz41  disp_heinz32  disp_heinz28  disp_hunts32  feat_heinz41  \\\n",
       "0   1             0             0             0             0             0   \n",
       "1   1             0             0             0             0             0   \n",
       "2   1             0             0             0             0             0   \n",
       "3   1             0             0             0             0             0   \n",
       "4   1             0             0             0             0             0   \n",
       "5   1             0             0             0             0             0   \n",
       "6   1             0             0             0             1             0   \n",
       "\n",
       "   feat_heinz32  feat_heinz28  feat_hunts32  price_heinz41  price_heinz32  \\\n",
       "0             0             0             0            4.6            3.7   \n",
       "1             0             0             0            4.6            4.3   \n",
       "2             1             0             0            4.6            2.5   \n",
       "3             0             0             0            4.6            3.7   \n",
       "4             0             1             0            4.6            3.0   \n",
       "5             0             0             0            5.0            3.0   \n",
       "6             0             0             1            5.1            3.1   \n",
       "\n",
       "   price_heinz28  price_hunts32   choice  \n",
       "0            5.2            3.4  heinz28  \n",
       "1            5.2            4.4  heinz28  \n",
       "2            4.6            4.8  heinz28  \n",
       "3            5.2            3.4  heinz28  \n",
       "4            4.6            4.8  heinz28  \n",
       "5            4.7            3.0  heinz28  \n",
       "6            4.6            4.1  heinz28  "
      ]
     },
     "execution_count": 4,
     "metadata": {},
     "output_type": "execute_result"
    }
   ],
   "source": [
    "catsup_pd.head(7)"
   ]
  },
  {
   "cell_type": "markdown",
   "metadata": {
    "id": "75S5mV9mG_i8"
   },
   "source": [
    "# Auxiliary function"
   ]
  },
  {
   "cell_type": "code",
   "execution_count": null,
   "metadata": {
    "id": "kkHePFuDHB6L"
   },
   "outputs": [],
   "source": [
    "def qbus_update_globals_bgm(pd_df):\n",
    "   globals().update(db.Database('tmp_bg_bgm_for_glob', pd_df).variables)"
   ]
  },
  {
   "cell_type": "markdown",
   "metadata": {
    "id": "IT44SQAUAVT5"
   },
   "source": [
    "# Data cleaning: Preparing the dataset for Biogeme"
   ]
  },
  {
   "cell_type": "markdown",
   "metadata": {
    "id": "yTEgKQ0HAY8c"
   },
   "source": [
    "Encode the choice variable (a string) into numbers with the `factorize` function.\n",
    "We take a look at the codetable to know how the numbers are mapped to the alternatives. The order of the codetable indicates the association,\n",
    "0: heinz28, 1: heinz41 and so on."
   ]
  },
  {
   "cell_type": "code",
   "execution_count": null,
   "metadata": {
    "id": "3161scmJOPG8"
   },
   "outputs": [],
   "source": [
    "catsup_pd['choice'], codetable = catsup_pd['choice'].factorize()"
   ]
  },
  {
   "cell_type": "code",
   "execution_count": null,
   "metadata": {
    "colab": {
     "base_uri": "https://localhost:8080/"
    },
    "id": "AYqojw_PIpss",
    "outputId": "74491c93-ef45-42d3-b368-0fff981aaa74"
   },
   "outputs": [
    {
     "data": {
      "text/plain": [
       "Index(['heinz28', 'heinz41', 'heinz32', 'hunts32'], dtype='object')"
      ]
     },
     "execution_count": 7,
     "metadata": {},
     "output_type": "execute_result"
    }
   ],
   "source": [
    "codetable"
   ]
  },
  {
   "cell_type": "code",
   "execution_count": null,
   "metadata": {
    "colab": {
     "base_uri": "https://localhost:8080/"
    },
    "id": "BPkqjnqV_f06",
    "outputId": "b3ea302a-5ab8-4c1e-ea8d-f58b2527c3aa"
   },
   "outputs": [
    {
     "data": {
      "text/plain": [
       "0       0\n",
       "1       0\n",
       "2       0\n",
       "3       0\n",
       "4       0\n",
       "       ..\n",
       "2793    1\n",
       "2794    1\n",
       "2795    3\n",
       "2796    0\n",
       "2797    0\n",
       "Name: choice, Length: 2798, dtype: int64"
      ]
     },
     "execution_count": 8,
     "metadata": {},
     "output_type": "execute_result"
    }
   ],
   "source": [
    "catsup_pd['choice']"
   ]
  },
  {
   "cell_type": "markdown",
   "metadata": {
    "id": "FIyH5krhxwYI"
   },
   "source": [
    "# Random coeffcients (the Betas)\n",
    "\n",
    "We will showcase how to make the betas 'random' not only the ASCs.\n",
    "\n",
    "**We will not consider panel information for the sake of simplicity, you might compare the results as an exercise.**"
   ]
  },
  {
   "cell_type": "code",
   "execution_count": null,
   "metadata": {
    "colab": {
     "base_uri": "https://localhost:8080/"
    },
    "id": "lo-Nu7ovxnoE",
    "outputId": "f5405257-7fbf-4a73-ab21-33ae4979a912"
   },
   "outputs": [
    {
     "name": "stderr",
     "output_type": "stream",
     "text": [
      "WARNING:biogeme.messaging:The use of messaging.bioMessage is now obsolete. Biogeme uses the standard logging system from Python. You can obtain the logger using ``logger = logging.getLogger('biogeme')``\n",
      "WARNING:biogeme.messaging:The use of messaging.bioMessage is now obsolete. Biogeme uses the standard logging system from Python. You can obtain the logger using ``logger = logging.getLogger('biogeme')``\n"
     ]
    }
   ],
   "source": [
    "\n",
    "# Define level of verbosity\n",
    "import biogeme.messaging as msg\n",
    "logger = msg.bioMessage()\n",
    "logger.setSilent()\n"
   ]
  },
  {
   "cell_type": "code",
   "execution_count": null,
   "metadata": {
    "id": "0OkXWfTDD6MH"
   },
   "outputs": [],
   "source": [
    "database = db.Database(\"catsup\", catsup_pd)"
   ]
  },
  {
   "cell_type": "markdown",
   "metadata": {
    "id": "k7iWoF9Ho_Pd"
   },
   "source": [
    "We now declare the coefficients in our model, we will make a simple model,\n",
    "just the alternative-specif constants and the variables disp, feat and price."
   ]
  },
  {
   "cell_type": "code",
   "execution_count": null,
   "metadata": {
    "id": "tI5UVDAZEfHn"
   },
   "outputs": [],
   "source": [
    "ASC_heinz41 = exp.Beta('ASC_heinz41',0,None,None,0)\n",
    "ASC_heinz32  = exp.Beta('ASC_heinz32 ',0,None,None,0)\n",
    "ASC_heinz28 = exp.Beta('ASC_heinz28',0,None,None,0)\n",
    "ASC_hunts32 = exp.Beta('ASC_hunts32',0,None,None,1)\n",
    "\n",
    "B_disp = exp.Beta('B_disp',0,None,None,0)\n",
    "B_feat = exp.Beta('B_feat',0,None,None,0)\n",
    "B_price = exp.Beta('B_price',0,None,None,0)"
   ]
  },
  {
   "cell_type": "markdown",
   "metadata": {
    "id": "i7WN4frIs5cY"
   },
   "source": [
    "We create the parameters that will be the standard deviations, and the Error components."
   ]
  },
  {
   "cell_type": "code",
   "execution_count": null,
   "metadata": {
    "id": "DmTyw30sohMo"
   },
   "outputs": [],
   "source": [
    "\n",
    "SIGMA_price = exp.Beta('SIGMA_price',1,0,None,0)\n",
    "EC_price = SIGMA_price * exp.bioDraws('EC_price','NORMAL')\n"
   ]
  },
  {
   "cell_type": "markdown",
   "metadata": {
    "id": "ropgcbeduC7I"
   },
   "source": [
    "**Pay attention to the utility specification**: We add the error component to the coefficient (the Beta) tha multiplies the variable. The interpretation then is that the `B_price`  will be the mean of the random Beta, and `SIGMA_price` will be the standard deviation."
   ]
  },
  {
   "cell_type": "code",
   "execution_count": null,
   "metadata": {
    "id": "n3xJhAWeIam9"
   },
   "outputs": [],
   "source": [
    "globals().update(database.variables)\n",
    "# Definition of the utility functions\n",
    "V_heinz41 = ASC_heinz41 + B_disp *disp_heinz41 + B_feat * feat_heinz41 + (B_price + EC_price) * price_heinz41\n",
    "V_heinz32 = ASC_heinz32 + B_disp *disp_heinz32 + B_feat * feat_heinz32 + (B_price  + EC_price) * price_heinz32\n",
    "V_heinz28 = ASC_heinz28 + B_disp *disp_heinz28 + B_feat * feat_heinz28 + (B_price + EC_price) * price_heinz28\n",
    "V_hunts32 = ASC_hunts32 + B_disp *disp_hunts32 + B_feat * feat_hunts32 + (B_price + EC_price) * price_hunts32"
   ]
  },
  {
   "cell_type": "markdown",
   "metadata": {
    "id": "f3IvSmrBubnJ"
   },
   "source": [
    "The rest of the process follows as usual."
   ]
  },
  {
   "cell_type": "code",
   "execution_count": null,
   "metadata": {
    "id": "vsqzjkqUJnmp"
   },
   "outputs": [],
   "source": [
    "# Associate utility functions with the numbering of alternatives\n",
    "V = {0: V_heinz28,\n",
    "     1: V_heinz41,\n",
    "     2: V_heinz32,\n",
    "     3: V_hunts32}\n",
    "\n",
    "av = {0: 1,\n",
    "     1: 1,\n",
    "     2: 1,\n",
    "     3: 1}\n",
    "\n",
    "# Conditional to the random variables, the likelihood of one observation is\n",
    "# given by the logit model (called the kernel)\n",
    "obsprob = models.logit(V,av, choice)\n"
   ]
  },
  {
   "cell_type": "markdown",
   "metadata": {
    "id": "k8p-NwHVu54l"
   },
   "source": [
    "The difference from the usual declaration of the MNL comes now.\n",
    "\n",
    "We have to do two new steps:\n",
    "\n",
    "1. Tell biogeme to consider the panel nature of the data.\n",
    "2. Tell biogeme to calculate the choice probabilities by simulation. This is how we deal with the random parameters. We simulate for the distribution, and the we calculate the likelihood for that distribution."
   ]
  },
  {
   "cell_type": "markdown",
   "metadata": {
    "id": "UfPNY5auywhh"
   },
   "source": [
    "And Step 2 we take the model and the modifyi it by the expresion `exp.MonteCarlo`. The final log it to take the loglikelihood."
   ]
  },
  {
   "cell_type": "code",
   "execution_count": null,
   "metadata": {
    "id": "PS69PxS9yAGG"
   },
   "outputs": [],
   "source": [
    "logprob = exp.log(exp.MonteCarlo(obsprob))"
   ]
  },
  {
   "cell_type": "markdown",
   "metadata": {
    "id": "MRtpFZRayEde"
   },
   "source": [
    "We we are using simulation, we have to tell biogeme how many draws from the distribution are we going to generate. The more draws, the more accurate estimation, but it is compuationally costly.\n",
    "\n",
    "We also set up a seed, so we can get the same results if the run the notebook again (setting up a seed is a good habit in general)"
   ]
  },
  {
   "cell_type": "code",
   "execution_count": null,
   "metadata": {
    "colab": {
     "base_uri": "https://localhost:8080/"
    },
    "id": "iQ4kHXoaxoY8",
    "outputId": "7589e0d0-7a73-4d51-d35f-c98a72e72e46"
   },
   "outputs": [
    {
     "name": "stderr",
     "output_type": "stream",
     "text": [
      "WARNING:biogeme.biogeme:The use of argument numberOfDraws in the constructor of the BIOGEME object is deprecated and will be removed in future versions of Biogeme. Instead, define parameter number_of_draws in section MonteCarlo of the .toml parameter file. The default file name is biogeme.toml\n",
      "WARNING:biogeme.biogeme:The use of argument seed in the constructor of the BIOGEME object is deprecated and will be removed in future versions of Biogeme. Instead, define parameter seed in section MonteCarlo of the .toml parameter file. The default file name is biogeme.toml\n"
     ]
    }
   ],
   "source": [
    "\n",
    "# Create the Biogeme object\n",
    "biogeme  = bio.BIOGEME(database,logprob,numberOfDraws=50, seed=1)\n",
    "\n",
    "\n"
   ]
  },
  {
   "cell_type": "markdown",
   "metadata": {
    "id": "NznXe9enzCJM"
   },
   "source": [
    "Estimation and results as usual."
   ]
  },
  {
   "cell_type": "code",
   "execution_count": null,
   "metadata": {
    "colab": {
     "base_uri": "https://localhost:8080/"
    },
    "id": "FUAmEGgOyDsZ",
    "outputId": "aaa7902a-6ae0-40fd-8a46-e7cad5ff87aa"
   },
   "outputs": [
    {
     "name": "stderr",
     "output_type": "stream",
     "text": [
      "WARNING:biogeme.biogeme:You have not defined a name for the model. The output files are named from the model name. The default is [biogemeModelDefaultName]\n"
     ]
    }
   ],
   "source": [
    "\n",
    "# Estimate the parameters.\n",
    "results = biogeme.estimate()"
   ]
  },
  {
   "cell_type": "markdown",
   "metadata": {
    "id": "uHsvEdkPzFqV"
   },
   "source": [
    "We take a look at the results."
   ]
  },
  {
   "cell_type": "code",
   "execution_count": null,
   "metadata": {
    "colab": {
     "base_uri": "https://localhost:8080/",
     "height": 269
    },
    "id": "2fyrewHzPO0I",
    "outputId": "cae44b7c-741e-4cce-8944-0e84636c04d9"
   },
   "outputs": [
    {
     "data": {
      "text/html": [
       "\n",
       "  <div id=\"df-8cb0f9d2-cb5f-42fa-b124-4efc54167f3b\" class=\"colab-df-container\">\n",
       "    <div>\n",
       "<style scoped>\n",
       "    .dataframe tbody tr th:only-of-type {\n",
       "        vertical-align: middle;\n",
       "    }\n",
       "\n",
       "    .dataframe tbody tr th {\n",
       "        vertical-align: top;\n",
       "    }\n",
       "\n",
       "    .dataframe thead th {\n",
       "        text-align: right;\n",
       "    }\n",
       "</style>\n",
       "<table border=\"1\" class=\"dataframe\">\n",
       "  <thead>\n",
       "    <tr style=\"text-align: right;\">\n",
       "      <th></th>\n",
       "      <th>Value</th>\n",
       "      <th>Rob. Std err</th>\n",
       "      <th>Rob. t-test</th>\n",
       "      <th>Rob. p-value</th>\n",
       "    </tr>\n",
       "  </thead>\n",
       "  <tbody>\n",
       "    <tr>\n",
       "      <th>ASC_heinz28</th>\n",
       "      <td>2.469856</td>\n",
       "      <td>0.098792</td>\n",
       "      <td>25.000537</td>\n",
       "      <td>0.000000e+00</td>\n",
       "    </tr>\n",
       "    <tr>\n",
       "      <th>ASC_heinz32</th>\n",
       "      <td>1.534375</td>\n",
       "      <td>0.071025</td>\n",
       "      <td>21.603329</td>\n",
       "      <td>0.000000e+00</td>\n",
       "    </tr>\n",
       "    <tr>\n",
       "      <th>ASC_heinz41</th>\n",
       "      <td>1.388131</td>\n",
       "      <td>0.119689</td>\n",
       "      <td>11.597775</td>\n",
       "      <td>0.000000e+00</td>\n",
       "    </tr>\n",
       "    <tr>\n",
       "      <th>B_disp</th>\n",
       "      <td>0.898166</td>\n",
       "      <td>0.106742</td>\n",
       "      <td>8.414400</td>\n",
       "      <td>0.000000e+00</td>\n",
       "    </tr>\n",
       "    <tr>\n",
       "      <th>B_feat</th>\n",
       "      <td>0.935092</td>\n",
       "      <td>0.125123</td>\n",
       "      <td>7.473369</td>\n",
       "      <td>7.815970e-14</td>\n",
       "    </tr>\n",
       "    <tr>\n",
       "      <th>B_price</th>\n",
       "      <td>-1.470790</td>\n",
       "      <td>0.083752</td>\n",
       "      <td>-17.561221</td>\n",
       "      <td>0.000000e+00</td>\n",
       "    </tr>\n",
       "    <tr>\n",
       "      <th>SIGMA_price</th>\n",
       "      <td>0.404057</td>\n",
       "      <td>0.193259</td>\n",
       "      <td>2.090752</td>\n",
       "      <td>3.655027e-02</td>\n",
       "    </tr>\n",
       "  </tbody>\n",
       "</table>\n",
       "</div>\n",
       "    <div class=\"colab-df-buttons\">\n",
       "\n",
       "  <div class=\"colab-df-container\">\n",
       "    <button class=\"colab-df-convert\" onclick=\"convertToInteractive('df-8cb0f9d2-cb5f-42fa-b124-4efc54167f3b')\"\n",
       "            title=\"Convert this dataframe to an interactive table.\"\n",
       "            style=\"display:none;\">\n",
       "\n",
       "  <svg xmlns=\"http://www.w3.org/2000/svg\" height=\"24px\" viewBox=\"0 -960 960 960\">\n",
       "    <path d=\"M120-120v-720h720v720H120Zm60-500h600v-160H180v160Zm220 220h160v-160H400v160Zm0 220h160v-160H400v160ZM180-400h160v-160H180v160Zm440 0h160v-160H620v160ZM180-180h160v-160H180v160Zm440 0h160v-160H620v160Z\"/>\n",
       "  </svg>\n",
       "    </button>\n",
       "\n",
       "  <style>\n",
       "    .colab-df-container {\n",
       "      display:flex;\n",
       "      gap: 12px;\n",
       "    }\n",
       "\n",
       "    .colab-df-convert {\n",
       "      background-color: #E8F0FE;\n",
       "      border: none;\n",
       "      border-radius: 50%;\n",
       "      cursor: pointer;\n",
       "      display: none;\n",
       "      fill: #1967D2;\n",
       "      height: 32px;\n",
       "      padding: 0 0 0 0;\n",
       "      width: 32px;\n",
       "    }\n",
       "\n",
       "    .colab-df-convert:hover {\n",
       "      background-color: #E2EBFA;\n",
       "      box-shadow: 0px 1px 2px rgba(60, 64, 67, 0.3), 0px 1px 3px 1px rgba(60, 64, 67, 0.15);\n",
       "      fill: #174EA6;\n",
       "    }\n",
       "\n",
       "    .colab-df-buttons div {\n",
       "      margin-bottom: 4px;\n",
       "    }\n",
       "\n",
       "    [theme=dark] .colab-df-convert {\n",
       "      background-color: #3B4455;\n",
       "      fill: #D2E3FC;\n",
       "    }\n",
       "\n",
       "    [theme=dark] .colab-df-convert:hover {\n",
       "      background-color: #434B5C;\n",
       "      box-shadow: 0px 1px 3px 1px rgba(0, 0, 0, 0.15);\n",
       "      filter: drop-shadow(0px 1px 2px rgba(0, 0, 0, 0.3));\n",
       "      fill: #FFFFFF;\n",
       "    }\n",
       "  </style>\n",
       "\n",
       "    <script>\n",
       "      const buttonEl =\n",
       "        document.querySelector('#df-8cb0f9d2-cb5f-42fa-b124-4efc54167f3b button.colab-df-convert');\n",
       "      buttonEl.style.display =\n",
       "        google.colab.kernel.accessAllowed ? 'block' : 'none';\n",
       "\n",
       "      async function convertToInteractive(key) {\n",
       "        const element = document.querySelector('#df-8cb0f9d2-cb5f-42fa-b124-4efc54167f3b');\n",
       "        const dataTable =\n",
       "          await google.colab.kernel.invokeFunction('convertToInteractive',\n",
       "                                                    [key], {});\n",
       "        if (!dataTable) return;\n",
       "\n",
       "        const docLinkHtml = 'Like what you see? Visit the ' +\n",
       "          '<a target=\"_blank\" href=https://colab.research.google.com/notebooks/data_table.ipynb>data table notebook</a>'\n",
       "          + ' to learn more about interactive tables.';\n",
       "        element.innerHTML = '';\n",
       "        dataTable['output_type'] = 'display_data';\n",
       "        await google.colab.output.renderOutput(dataTable, element);\n",
       "        const docLink = document.createElement('div');\n",
       "        docLink.innerHTML = docLinkHtml;\n",
       "        element.appendChild(docLink);\n",
       "      }\n",
       "    </script>\n",
       "  </div>\n",
       "\n",
       "\n",
       "<div id=\"df-74445bca-6c90-48c5-8163-44be88bdc7d4\">\n",
       "  <button class=\"colab-df-quickchart\" onclick=\"quickchart('df-74445bca-6c90-48c5-8163-44be88bdc7d4')\"\n",
       "            title=\"Suggest charts.\"\n",
       "            style=\"display:none;\">\n",
       "\n",
       "<svg xmlns=\"http://www.w3.org/2000/svg\" height=\"24px\"viewBox=\"0 0 24 24\"\n",
       "     width=\"24px\">\n",
       "    <g>\n",
       "        <path d=\"M19 3H5c-1.1 0-2 .9-2 2v14c0 1.1.9 2 2 2h14c1.1 0 2-.9 2-2V5c0-1.1-.9-2-2-2zM9 17H7v-7h2v7zm4 0h-2V7h2v10zm4 0h-2v-4h2v4z\"/>\n",
       "    </g>\n",
       "</svg>\n",
       "  </button>\n",
       "\n",
       "<style>\n",
       "  .colab-df-quickchart {\n",
       "      --bg-color: #E8F0FE;\n",
       "      --fill-color: #1967D2;\n",
       "      --hover-bg-color: #E2EBFA;\n",
       "      --hover-fill-color: #174EA6;\n",
       "      --disabled-fill-color: #AAA;\n",
       "      --disabled-bg-color: #DDD;\n",
       "  }\n",
       "\n",
       "  [theme=dark] .colab-df-quickchart {\n",
       "      --bg-color: #3B4455;\n",
       "      --fill-color: #D2E3FC;\n",
       "      --hover-bg-color: #434B5C;\n",
       "      --hover-fill-color: #FFFFFF;\n",
       "      --disabled-bg-color: #3B4455;\n",
       "      --disabled-fill-color: #666;\n",
       "  }\n",
       "\n",
       "  .colab-df-quickchart {\n",
       "    background-color: var(--bg-color);\n",
       "    border: none;\n",
       "    border-radius: 50%;\n",
       "    cursor: pointer;\n",
       "    display: none;\n",
       "    fill: var(--fill-color);\n",
       "    height: 32px;\n",
       "    padding: 0;\n",
       "    width: 32px;\n",
       "  }\n",
       "\n",
       "  .colab-df-quickchart:hover {\n",
       "    background-color: var(--hover-bg-color);\n",
       "    box-shadow: 0 1px 2px rgba(60, 64, 67, 0.3), 0 1px 3px 1px rgba(60, 64, 67, 0.15);\n",
       "    fill: var(--button-hover-fill-color);\n",
       "  }\n",
       "\n",
       "  .colab-df-quickchart-complete:disabled,\n",
       "  .colab-df-quickchart-complete:disabled:hover {\n",
       "    background-color: var(--disabled-bg-color);\n",
       "    fill: var(--disabled-fill-color);\n",
       "    box-shadow: none;\n",
       "  }\n",
       "\n",
       "  .colab-df-spinner {\n",
       "    border: 2px solid var(--fill-color);\n",
       "    border-color: transparent;\n",
       "    border-bottom-color: var(--fill-color);\n",
       "    animation:\n",
       "      spin 1s steps(1) infinite;\n",
       "  }\n",
       "\n",
       "  @keyframes spin {\n",
       "    0% {\n",
       "      border-color: transparent;\n",
       "      border-bottom-color: var(--fill-color);\n",
       "      border-left-color: var(--fill-color);\n",
       "    }\n",
       "    20% {\n",
       "      border-color: transparent;\n",
       "      border-left-color: var(--fill-color);\n",
       "      border-top-color: var(--fill-color);\n",
       "    }\n",
       "    30% {\n",
       "      border-color: transparent;\n",
       "      border-left-color: var(--fill-color);\n",
       "      border-top-color: var(--fill-color);\n",
       "      border-right-color: var(--fill-color);\n",
       "    }\n",
       "    40% {\n",
       "      border-color: transparent;\n",
       "      border-right-color: var(--fill-color);\n",
       "      border-top-color: var(--fill-color);\n",
       "    }\n",
       "    60% {\n",
       "      border-color: transparent;\n",
       "      border-right-color: var(--fill-color);\n",
       "    }\n",
       "    80% {\n",
       "      border-color: transparent;\n",
       "      border-right-color: var(--fill-color);\n",
       "      border-bottom-color: var(--fill-color);\n",
       "    }\n",
       "    90% {\n",
       "      border-color: transparent;\n",
       "      border-bottom-color: var(--fill-color);\n",
       "    }\n",
       "  }\n",
       "</style>\n",
       "\n",
       "  <script>\n",
       "    async function quickchart(key) {\n",
       "      const quickchartButtonEl =\n",
       "        document.querySelector('#' + key + ' button');\n",
       "      quickchartButtonEl.disabled = true;  // To prevent multiple clicks.\n",
       "      quickchartButtonEl.classList.add('colab-df-spinner');\n",
       "      try {\n",
       "        const charts = await google.colab.kernel.invokeFunction(\n",
       "            'suggestCharts', [key], {});\n",
       "      } catch (error) {\n",
       "        console.error('Error during call to suggestCharts:', error);\n",
       "      }\n",
       "      quickchartButtonEl.classList.remove('colab-df-spinner');\n",
       "      quickchartButtonEl.classList.add('colab-df-quickchart-complete');\n",
       "    }\n",
       "    (() => {\n",
       "      let quickchartButtonEl =\n",
       "        document.querySelector('#df-74445bca-6c90-48c5-8163-44be88bdc7d4 button');\n",
       "      quickchartButtonEl.style.display =\n",
       "        google.colab.kernel.accessAllowed ? 'block' : 'none';\n",
       "    })();\n",
       "  </script>\n",
       "</div>\n",
       "    </div>\n",
       "  </div>\n"
      ],
      "text/plain": [
       "                 Value  Rob. Std err  Rob. t-test  Rob. p-value\n",
       "ASC_heinz28   2.469856      0.098792    25.000537  0.000000e+00\n",
       "ASC_heinz32   1.534375      0.071025    21.603329  0.000000e+00\n",
       "ASC_heinz41   1.388131      0.119689    11.597775  0.000000e+00\n",
       "B_disp        0.898166      0.106742     8.414400  0.000000e+00\n",
       "B_feat        0.935092      0.125123     7.473369  7.815970e-14\n",
       "B_price      -1.470790      0.083752   -17.561221  0.000000e+00\n",
       "SIGMA_price   0.404057      0.193259     2.090752  3.655027e-02"
      ]
     },
     "execution_count": 18,
     "metadata": {},
     "output_type": "execute_result"
    }
   ],
   "source": [
    "results.getEstimatedParameters()"
   ]
  },
  {
   "cell_type": "markdown",
   "metadata": {
    "id": "T4TsEuG00FUS"
   },
   "source": [
    "# Analyzing the random paremeters\n",
    "\n",
    "So have recovered that the $\\beta_{price}$ is a random variable with mean -1.47 and standard deviation $\\sigma$ 0.40.\n",
    "We can 'ask questions' to interpret what this actually means. The type of questions will ask us to calculate something about the distribtuon, such as what is the proportion of individuals in the population that have values for a coefficient in a given range.\n",
    "\n"
   ]
  },
  {
   "cell_type": "code",
   "execution_count": null,
   "metadata": {
    "colab": {
     "base_uri": "https://localhost:8080/"
    },
    "id": "kvk4m4HDFBzE",
    "outputId": "b2d6fd74-8918-4b52-c045-ba2f65d73876"
   },
   "outputs": [
    {
     "data": {
      "text/plain": [
       "(-1.4707903499663153, 0.4040565874691901)"
      ]
     },
     "execution_count": 19,
     "metadata": {},
     "output_type": "execute_result"
    }
   ],
   "source": [
    "from scipy.stats import norm\n",
    "\n",
    "mean_B_price = results.getBetaValues()['B_price']\n",
    "sd_B_price = results.getBetaValues()['SIGMA_price']\n",
    "mean_B_price, sd_B_price"
   ]
  },
  {
   "cell_type": "markdown",
   "metadata": {
    "id": "NMEo3t2h1byu"
   },
   "source": [
    "#What is the proportion of people in the population that have a positive utility relationship with price?\n",
    "Even though the mean of the $\\beta_{price}$ is negative, because it is random it might happen that *some* people in the population will have a positive value for their $B_{price}$. We can calculate this easily using the normal cumulative distribution function (CDF).\n",
    "Remember th CDF(x) is is the probability that values for that distribution is < x.\n",
    "In our case, we want to calculate the prob. that a gaussian with mean -1.47 and sd 0.4 is smaller than 0."
   ]
  },
  {
   "cell_type": "code",
   "execution_count": null,
   "metadata": {
    "colab": {
     "base_uri": "https://localhost:8080/"
    },
    "id": "BkstZe1006RI",
    "outputId": "3fd0be54-fe7d-4b81-ef64-5a177f043745"
   },
   "outputs": [
    {
     "data": {
      "text/plain": [
       "0.9998637129088819"
      ]
     },
     "execution_count": 20,
     "metadata": {},
     "output_type": "execute_result"
    }
   ],
   "source": [
    "norm.cdf(   0, loc=mean_B_price, scale=sd_B_price)"
   ]
  },
  {
   "cell_type": "markdown",
   "metadata": {
    "id": "CkTz9hRQ2e_I"
   },
   "source": [
    "So 0.99984 are negative, the proportion that have positive values for $B_{price}$ is"
   ]
  },
  {
   "cell_type": "code",
   "execution_count": null,
   "metadata": {
    "colab": {
     "base_uri": "https://localhost:8080/"
    },
    "id": "5_cZh6_i2snD",
    "outputId": "e875eec3-b887-4db1-c9c3-9580279b38c1"
   },
   "outputs": [
    {
     "data": {
      "text/plain": [
       "0.00013628709111812576"
      ]
     },
     "execution_count": 21,
     "metadata": {},
     "output_type": "execute_result"
    }
   ],
   "source": [
    "1- norm.cdf(   0, loc=mean_B_price, scale=sd_B_price)"
   ]
  },
  {
   "cell_type": "markdown",
   "metadata": {
    "id": "3iLV8aDo2wqw"
   },
   "source": [
    "About 1 per 10000 in our population prefers to buy more expensive tomato sauces, all other things being equal."
   ]
  },
  {
   "cell_type": "markdown",
   "metadata": {
    "id": "BISRGa_c27WG"
   },
   "source": []
  },
  {
   "cell_type": "markdown",
   "metadata": {
    "id": "mP3L7TaL3gRe"
   },
   "source": [
    "# Comparing mixed specification vs the fixed effects specification"
   ]
  },
  {
   "cell_type": "markdown",
   "metadata": {
    "id": "sCdqoek4G9_U"
   },
   "source": [
    "We can also test if making $B_{price}$ random is significantly better. We can compare the likelihoods, the random component has an additional parameter (the sigma for the price)."
   ]
  },
  {
   "cell_type": "code",
   "execution_count": null,
   "metadata": {
    "id": "I8ZzTcjc3u9B"
   },
   "outputs": [],
   "source": [
    "V_heinz41 = ASC_heinz41 + B_disp *disp_heinz41 + B_feat * feat_heinz41 + B_price * price_heinz41\n",
    "V_heinz32 = ASC_heinz32 + B_disp *disp_heinz32 + B_feat * feat_heinz32 + B_price  * price_heinz32\n",
    "V_heinz28 = ASC_heinz28 + B_disp *disp_heinz28 + B_feat * feat_heinz28 + B_price * price_heinz28\n",
    "V_hunts32 = ASC_hunts32 + B_disp *disp_hunts32 + B_feat * feat_hunts32 + B_price  * price_hunts32"
   ]
  },
  {
   "cell_type": "code",
   "execution_count": null,
   "metadata": {
    "id": "z1vJLYJ736GR"
   },
   "outputs": [],
   "source": [
    "# Associate utility functions with the numbering of alternatives\n",
    "V = {0: V_heinz28,\n",
    "     1: V_heinz41,\n",
    "     2: V_heinz32,\n",
    "     3: V_hunts32}\n",
    "\n",
    "av = {0: 1,\n",
    "     1: 1,\n",
    "     2: 1,\n",
    "     3: 1}\n",
    "\n",
    "# Conditional to the random variables, the likelihood of one observation is\n",
    "# given by the logit model (called the kernel)\n",
    "obsprob = models.loglogit(V,av, choice)\n"
   ]
  },
  {
   "cell_type": "code",
   "execution_count": null,
   "metadata": {
    "colab": {
     "base_uri": "https://localhost:8080/",
     "height": 255
    },
    "id": "Rtngqkrv33Hw",
    "outputId": "fa5fcb6b-6e46-4f40-985c-5c9e24335a83"
   },
   "outputs": [
    {
     "name": "stderr",
     "output_type": "stream",
     "text": [
      "WARNING:biogeme.biogeme:You have not defined a name for the model. The output files are named from the model name. The default is [biogemeModelDefaultName]\n"
     ]
    },
    {
     "data": {
      "text/html": [
       "\n",
       "  <div id=\"df-01b45889-6577-41e0-a133-bb0738dc2c6f\" class=\"colab-df-container\">\n",
       "    <div>\n",
       "<style scoped>\n",
       "    .dataframe tbody tr th:only-of-type {\n",
       "        vertical-align: middle;\n",
       "    }\n",
       "\n",
       "    .dataframe tbody tr th {\n",
       "        vertical-align: top;\n",
       "    }\n",
       "\n",
       "    .dataframe thead th {\n",
       "        text-align: right;\n",
       "    }\n",
       "</style>\n",
       "<table border=\"1\" class=\"dataframe\">\n",
       "  <thead>\n",
       "    <tr style=\"text-align: right;\">\n",
       "      <th></th>\n",
       "      <th>Value</th>\n",
       "      <th>Rob. Std err</th>\n",
       "      <th>Rob. t-test</th>\n",
       "      <th>Rob. p-value</th>\n",
       "    </tr>\n",
       "  </thead>\n",
       "  <tbody>\n",
       "    <tr>\n",
       "      <th>ASC_heinz28</th>\n",
       "      <td>2.425976</td>\n",
       "      <td>0.090695</td>\n",
       "      <td>26.748635</td>\n",
       "      <td>0.000000e+00</td>\n",
       "    </tr>\n",
       "    <tr>\n",
       "      <th>ASC_heinz32</th>\n",
       "      <td>1.501251</td>\n",
       "      <td>0.063948</td>\n",
       "      <td>23.476213</td>\n",
       "      <td>0.000000e+00</td>\n",
       "    </tr>\n",
       "    <tr>\n",
       "      <th>ASC_heinz41</th>\n",
       "      <td>1.353699</td>\n",
       "      <td>0.114963</td>\n",
       "      <td>11.775050</td>\n",
       "      <td>0.000000e+00</td>\n",
       "    </tr>\n",
       "    <tr>\n",
       "      <th>B_disp</th>\n",
       "      <td>0.875593</td>\n",
       "      <td>0.102257</td>\n",
       "      <td>8.562668</td>\n",
       "      <td>0.000000e+00</td>\n",
       "    </tr>\n",
       "    <tr>\n",
       "      <th>B_feat</th>\n",
       "      <td>0.908560</td>\n",
       "      <td>0.120177</td>\n",
       "      <td>7.560200</td>\n",
       "      <td>4.019007e-14</td>\n",
       "    </tr>\n",
       "    <tr>\n",
       "      <th>B_price</th>\n",
       "      <td>-1.402407</td>\n",
       "      <td>0.056095</td>\n",
       "      <td>-25.000680</td>\n",
       "      <td>0.000000e+00</td>\n",
       "    </tr>\n",
       "  </tbody>\n",
       "</table>\n",
       "</div>\n",
       "    <div class=\"colab-df-buttons\">\n",
       "\n",
       "  <div class=\"colab-df-container\">\n",
       "    <button class=\"colab-df-convert\" onclick=\"convertToInteractive('df-01b45889-6577-41e0-a133-bb0738dc2c6f')\"\n",
       "            title=\"Convert this dataframe to an interactive table.\"\n",
       "            style=\"display:none;\">\n",
       "\n",
       "  <svg xmlns=\"http://www.w3.org/2000/svg\" height=\"24px\" viewBox=\"0 -960 960 960\">\n",
       "    <path d=\"M120-120v-720h720v720H120Zm60-500h600v-160H180v160Zm220 220h160v-160H400v160Zm0 220h160v-160H400v160ZM180-400h160v-160H180v160Zm440 0h160v-160H620v160ZM180-180h160v-160H180v160Zm440 0h160v-160H620v160Z\"/>\n",
       "  </svg>\n",
       "    </button>\n",
       "\n",
       "  <style>\n",
       "    .colab-df-container {\n",
       "      display:flex;\n",
       "      gap: 12px;\n",
       "    }\n",
       "\n",
       "    .colab-df-convert {\n",
       "      background-color: #E8F0FE;\n",
       "      border: none;\n",
       "      border-radius: 50%;\n",
       "      cursor: pointer;\n",
       "      display: none;\n",
       "      fill: #1967D2;\n",
       "      height: 32px;\n",
       "      padding: 0 0 0 0;\n",
       "      width: 32px;\n",
       "    }\n",
       "\n",
       "    .colab-df-convert:hover {\n",
       "      background-color: #E2EBFA;\n",
       "      box-shadow: 0px 1px 2px rgba(60, 64, 67, 0.3), 0px 1px 3px 1px rgba(60, 64, 67, 0.15);\n",
       "      fill: #174EA6;\n",
       "    }\n",
       "\n",
       "    .colab-df-buttons div {\n",
       "      margin-bottom: 4px;\n",
       "    }\n",
       "\n",
       "    [theme=dark] .colab-df-convert {\n",
       "      background-color: #3B4455;\n",
       "      fill: #D2E3FC;\n",
       "    }\n",
       "\n",
       "    [theme=dark] .colab-df-convert:hover {\n",
       "      background-color: #434B5C;\n",
       "      box-shadow: 0px 1px 3px 1px rgba(0, 0, 0, 0.15);\n",
       "      filter: drop-shadow(0px 1px 2px rgba(0, 0, 0, 0.3));\n",
       "      fill: #FFFFFF;\n",
       "    }\n",
       "  </style>\n",
       "\n",
       "    <script>\n",
       "      const buttonEl =\n",
       "        document.querySelector('#df-01b45889-6577-41e0-a133-bb0738dc2c6f button.colab-df-convert');\n",
       "      buttonEl.style.display =\n",
       "        google.colab.kernel.accessAllowed ? 'block' : 'none';\n",
       "\n",
       "      async function convertToInteractive(key) {\n",
       "        const element = document.querySelector('#df-01b45889-6577-41e0-a133-bb0738dc2c6f');\n",
       "        const dataTable =\n",
       "          await google.colab.kernel.invokeFunction('convertToInteractive',\n",
       "                                                    [key], {});\n",
       "        if (!dataTable) return;\n",
       "\n",
       "        const docLinkHtml = 'Like what you see? Visit the ' +\n",
       "          '<a target=\"_blank\" href=https://colab.research.google.com/notebooks/data_table.ipynb>data table notebook</a>'\n",
       "          + ' to learn more about interactive tables.';\n",
       "        element.innerHTML = '';\n",
       "        dataTable['output_type'] = 'display_data';\n",
       "        await google.colab.output.renderOutput(dataTable, element);\n",
       "        const docLink = document.createElement('div');\n",
       "        docLink.innerHTML = docLinkHtml;\n",
       "        element.appendChild(docLink);\n",
       "      }\n",
       "    </script>\n",
       "  </div>\n",
       "\n",
       "\n",
       "<div id=\"df-6afbc1dc-dcea-4d98-ba3d-d19fe3212d5d\">\n",
       "  <button class=\"colab-df-quickchart\" onclick=\"quickchart('df-6afbc1dc-dcea-4d98-ba3d-d19fe3212d5d')\"\n",
       "            title=\"Suggest charts.\"\n",
       "            style=\"display:none;\">\n",
       "\n",
       "<svg xmlns=\"http://www.w3.org/2000/svg\" height=\"24px\"viewBox=\"0 0 24 24\"\n",
       "     width=\"24px\">\n",
       "    <g>\n",
       "        <path d=\"M19 3H5c-1.1 0-2 .9-2 2v14c0 1.1.9 2 2 2h14c1.1 0 2-.9 2-2V5c0-1.1-.9-2-2-2zM9 17H7v-7h2v7zm4 0h-2V7h2v10zm4 0h-2v-4h2v4z\"/>\n",
       "    </g>\n",
       "</svg>\n",
       "  </button>\n",
       "\n",
       "<style>\n",
       "  .colab-df-quickchart {\n",
       "      --bg-color: #E8F0FE;\n",
       "      --fill-color: #1967D2;\n",
       "      --hover-bg-color: #E2EBFA;\n",
       "      --hover-fill-color: #174EA6;\n",
       "      --disabled-fill-color: #AAA;\n",
       "      --disabled-bg-color: #DDD;\n",
       "  }\n",
       "\n",
       "  [theme=dark] .colab-df-quickchart {\n",
       "      --bg-color: #3B4455;\n",
       "      --fill-color: #D2E3FC;\n",
       "      --hover-bg-color: #434B5C;\n",
       "      --hover-fill-color: #FFFFFF;\n",
       "      --disabled-bg-color: #3B4455;\n",
       "      --disabled-fill-color: #666;\n",
       "  }\n",
       "\n",
       "  .colab-df-quickchart {\n",
       "    background-color: var(--bg-color);\n",
       "    border: none;\n",
       "    border-radius: 50%;\n",
       "    cursor: pointer;\n",
       "    display: none;\n",
       "    fill: var(--fill-color);\n",
       "    height: 32px;\n",
       "    padding: 0;\n",
       "    width: 32px;\n",
       "  }\n",
       "\n",
       "  .colab-df-quickchart:hover {\n",
       "    background-color: var(--hover-bg-color);\n",
       "    box-shadow: 0 1px 2px rgba(60, 64, 67, 0.3), 0 1px 3px 1px rgba(60, 64, 67, 0.15);\n",
       "    fill: var(--button-hover-fill-color);\n",
       "  }\n",
       "\n",
       "  .colab-df-quickchart-complete:disabled,\n",
       "  .colab-df-quickchart-complete:disabled:hover {\n",
       "    background-color: var(--disabled-bg-color);\n",
       "    fill: var(--disabled-fill-color);\n",
       "    box-shadow: none;\n",
       "  }\n",
       "\n",
       "  .colab-df-spinner {\n",
       "    border: 2px solid var(--fill-color);\n",
       "    border-color: transparent;\n",
       "    border-bottom-color: var(--fill-color);\n",
       "    animation:\n",
       "      spin 1s steps(1) infinite;\n",
       "  }\n",
       "\n",
       "  @keyframes spin {\n",
       "    0% {\n",
       "      border-color: transparent;\n",
       "      border-bottom-color: var(--fill-color);\n",
       "      border-left-color: var(--fill-color);\n",
       "    }\n",
       "    20% {\n",
       "      border-color: transparent;\n",
       "      border-left-color: var(--fill-color);\n",
       "      border-top-color: var(--fill-color);\n",
       "    }\n",
       "    30% {\n",
       "      border-color: transparent;\n",
       "      border-left-color: var(--fill-color);\n",
       "      border-top-color: var(--fill-color);\n",
       "      border-right-color: var(--fill-color);\n",
       "    }\n",
       "    40% {\n",
       "      border-color: transparent;\n",
       "      border-right-color: var(--fill-color);\n",
       "      border-top-color: var(--fill-color);\n",
       "    }\n",
       "    60% {\n",
       "      border-color: transparent;\n",
       "      border-right-color: var(--fill-color);\n",
       "    }\n",
       "    80% {\n",
       "      border-color: transparent;\n",
       "      border-right-color: var(--fill-color);\n",
       "      border-bottom-color: var(--fill-color);\n",
       "    }\n",
       "    90% {\n",
       "      border-color: transparent;\n",
       "      border-bottom-color: var(--fill-color);\n",
       "    }\n",
       "  }\n",
       "</style>\n",
       "\n",
       "  <script>\n",
       "    async function quickchart(key) {\n",
       "      const quickchartButtonEl =\n",
       "        document.querySelector('#' + key + ' button');\n",
       "      quickchartButtonEl.disabled = true;  // To prevent multiple clicks.\n",
       "      quickchartButtonEl.classList.add('colab-df-spinner');\n",
       "      try {\n",
       "        const charts = await google.colab.kernel.invokeFunction(\n",
       "            'suggestCharts', [key], {});\n",
       "      } catch (error) {\n",
       "        console.error('Error during call to suggestCharts:', error);\n",
       "      }\n",
       "      quickchartButtonEl.classList.remove('colab-df-spinner');\n",
       "      quickchartButtonEl.classList.add('colab-df-quickchart-complete');\n",
       "    }\n",
       "    (() => {\n",
       "      let quickchartButtonEl =\n",
       "        document.querySelector('#df-6afbc1dc-dcea-4d98-ba3d-d19fe3212d5d button');\n",
       "      quickchartButtonEl.style.display =\n",
       "        google.colab.kernel.accessAllowed ? 'block' : 'none';\n",
       "    })();\n",
       "  </script>\n",
       "</div>\n",
       "    </div>\n",
       "  </div>\n"
      ],
      "text/plain": [
       "                 Value  Rob. Std err  Rob. t-test  Rob. p-value\n",
       "ASC_heinz28   2.425976      0.090695    26.748635  0.000000e+00\n",
       "ASC_heinz32   1.501251      0.063948    23.476213  0.000000e+00\n",
       "ASC_heinz41   1.353699      0.114963    11.775050  0.000000e+00\n",
       "B_disp        0.875593      0.102257     8.562668  0.000000e+00\n",
       "B_feat        0.908560      0.120177     7.560200  4.019007e-14\n",
       "B_price      -1.402407      0.056095   -25.000680  0.000000e+00"
      ]
     },
     "execution_count": 24,
     "metadata": {},
     "output_type": "execute_result"
    }
   ],
   "source": [
    "biogeme_fixed  = bio.BIOGEME(database,obsprob)\n",
    "results_fixed = biogeme_fixed.estimate()\n",
    "results_fixed.getEstimatedParameters()"
   ]
  },
  {
   "cell_type": "code",
   "execution_count": null,
   "metadata": {
    "id": "-ioBStx05lze"
   },
   "outputs": [],
   "source": [
    "def qbus_likeli_ratio_test_bgm(results_complex, results_reference, signif_level):\n",
    "  return tools.likelihood_ratio_test( (results_complex.data.logLike, results_complex.data.nparam),\n",
    "                                     (results_reference.data.logLike, results_reference.data.nparam), signif_level)"
   ]
  },
  {
   "cell_type": "code",
   "execution_count": null,
   "metadata": {
    "colab": {
     "base_uri": "https://localhost:8080/"
    },
    "id": "lp8M_x3j-5S3",
    "outputId": "fffdfaf6-106b-4e13-a3e0-4887fbc9775f"
   },
   "outputs": [
    {
     "data": {
      "text/plain": [
       "{'Number of estimated parameters': GeneralStatistic(value=7, format=''),\n",
       " 'Sample size': GeneralStatistic(value=2798, format=''),\n",
       " 'Excluded observations': GeneralStatistic(value=0, format=''),\n",
       " 'Init log likelihood': GeneralStatistic(value=-3122.2535307349362, format='.7g'),\n",
       " 'Final log likelihood': GeneralStatistic(value=-2516.3855243932776, format='.7g'),\n",
       " 'Likelihood ratio test for the init. model': GeneralStatistic(value=1211.7360126833173, format='.7g'),\n",
       " 'Rho-square for the init. model': GeneralStatistic(value=0.19404830529538886, format='.3g'),\n",
       " 'Rho-square-bar for the init. model': GeneralStatistic(value=0.19180633489449306, format='.3g'),\n",
       " 'Akaike Information Criterion': GeneralStatistic(value=5046.771048786555, format='.7g'),\n",
       " 'Bayesian Information Criterion': GeneralStatistic(value=5088.327669873133, format='.7g'),\n",
       " 'Final gradient norm': GeneralStatistic(value=0.0007334483552227155, format='.4E'),\n",
       " 'Number of draws': GeneralStatistic(value=50, format=''),\n",
       " 'Draws generation time': GeneralStatistic(value=datetime.timedelta(microseconds=200041), format=''),\n",
       " 'Types of draws': GeneralStatistic(value=['EC_price: NORMAL'], format=''),\n",
       " 'Nbr of threads': GeneralStatistic(value=2, format='')}"
      ]
     },
     "execution_count": 26,
     "metadata": {},
     "output_type": "execute_result"
    }
   ],
   "source": [
    "results.getGeneralStatistics()"
   ]
  },
  {
   "cell_type": "code",
   "execution_count": null,
   "metadata": {
    "colab": {
     "base_uri": "https://localhost:8080/"
    },
    "id": "cJSNztR9_EbY",
    "outputId": "cf7982cf-da54-46f9-87f0-b3ad945782a8"
   },
   "outputs": [
    {
     "data": {
      "text/plain": [
       "{'Number of estimated parameters': GeneralStatistic(value=6, format=''),\n",
       " 'Sample size': GeneralStatistic(value=2798, format=''),\n",
       " 'Excluded observations': GeneralStatistic(value=0, format=''),\n",
       " 'Init log likelihood': GeneralStatistic(value=-3072.019084343948, format='.7g'),\n",
       " 'Final log likelihood': GeneralStatistic(value=-2517.8772495923886, format='.7g'),\n",
       " 'Likelihood ratio test for the init. model': GeneralStatistic(value=1108.2836695031192, format='.7g'),\n",
       " 'Rho-square for the init. model': GeneralStatistic(value=0.18038359122690817, format='.3g'),\n",
       " 'Rho-square-bar for the init. model': GeneralStatistic(value=0.178430478360332, format='.3g'),\n",
       " 'Akaike Information Criterion': GeneralStatistic(value=5047.754499184777, format='.7g'),\n",
       " 'Bayesian Information Criterion': GeneralStatistic(value=5083.37446011613, format='.7g'),\n",
       " 'Final gradient norm': GeneralStatistic(value=9.34362282246986e-05, format='.4E'),\n",
       " 'Nbr of threads': GeneralStatistic(value=2, format='')}"
      ]
     },
     "execution_count": 27,
     "metadata": {},
     "output_type": "execute_result"
    }
   ],
   "source": [
    "results_fixed.getGeneralStatistics()"
   ]
  },
  {
   "cell_type": "code",
   "execution_count": null,
   "metadata": {
    "colab": {
     "base_uri": "https://localhost:8080/"
    },
    "id": "0-YkIQGO5yc3",
    "outputId": "8c462214-ff5d-4c16-c386-71b9fd7c4d55"
   },
   "outputs": [
    {
     "data": {
      "text/plain": [
       "LRTuple(message='H0 cannot be rejected at level 5.0%', statistic=2.9834503982219758, threshold=3.841458820694124)"
      ]
     },
     "execution_count": 28,
     "metadata": {},
     "output_type": "execute_result"
    }
   ],
   "source": [
    "qbus_likeli_ratio_test_bgm(results, results_fixed, 0.05)"
   ]
  },
  {
   "cell_type": "markdown",
   "metadata": {
    "id": "AgICvILo-37W"
   },
   "source": []
  },
  {
   "cell_type": "markdown",
   "metadata": {
    "id": "-3Mimoe_3PYq"
   },
   "source": [
    "# Panel data: Advanced stuff (not implemented in Biogeme)\n",
    "\n",
    "We have seen that we can specify which variable has the 'panel' or 'grouping' information, for example, we can use the `id` variable in this dataset to identify the household, and the estimare a random effects when the individual unit is the household. The general version of this idea is that you could estimate each coefficient considering each group, for example, one can vary per household, other per district, other per person and so on."
   ]
  },
  {
   "cell_type": "markdown",
   "metadata": {
    "id": "17Q5ma7W5T4n"
   },
   "source": [
    "# Exercise: What is the proportion of households that react negatively to displaying the catsup product?"
   ]
  },
  {
   "cell_type": "code",
   "execution_count": null,
   "metadata": {
    "id": "6CWfQIUqKX5X"
   },
   "outputs": [],
   "source": [
    "\n",
    "SIGMA_disp = exp.Beta('SIGMA_disp',1,None,None,0)\n",
    "EC_disp = SIGMA_disp * exp.bioDraws('EC_disp','NORMAL')\n"
   ]
  },
  {
   "cell_type": "code",
   "execution_count": null,
   "metadata": {
    "id": "ijmlVfDRKX5Y"
   },
   "outputs": [],
   "source": [
    "globals().update(database.variables)\n",
    "# Definition of the utility functions\n",
    "V_heinz41 = ASC_heinz41 + (B_disp + EC_disp) *disp_heinz41 + B_feat * feat_heinz41 + (B_price ) * price_heinz41\n",
    "V_heinz32 = ASC_heinz32 + (B_disp + EC_disp) *disp_heinz32 + B_feat * feat_heinz32 + (B_price ) * price_heinz32\n",
    "V_heinz28 = ASC_heinz28 + (B_disp + EC_disp)*disp_heinz28 + B_feat * feat_heinz28 + (B_price ) * price_heinz28\n",
    "V_hunts32 = ASC_hunts32 + (B_disp + EC_disp) *disp_hunts32 + B_feat * feat_hunts32 + (B_price ) * price_hunts32"
   ]
  },
  {
   "cell_type": "code",
   "execution_count": null,
   "metadata": {
    "id": "jtKdm01MKX5Y"
   },
   "outputs": [],
   "source": [
    "# Associate utility functions with the numbering of alternatives\n",
    "V = {0: V_heinz28,\n",
    "     1: V_heinz41,\n",
    "     2: V_heinz32,\n",
    "     3: V_hunts32}\n",
    "\n",
    "av = {0: 1,\n",
    "     1: 1,\n",
    "     2: 1,\n",
    "     3: 1}\n",
    "\n",
    "# Conditional to the random variables, the likelihood of one observation is\n",
    "# given by the logit model (called the kernel)\n",
    "obsprob = models.logit(V,av, choice)\n"
   ]
  },
  {
   "cell_type": "code",
   "execution_count": null,
   "metadata": {
    "id": "9zYKLGOeKX5Z"
   },
   "outputs": [],
   "source": [
    "logprob = exp.log(exp.MonteCarlo(obsprob))"
   ]
  },
  {
   "cell_type": "code",
   "execution_count": null,
   "metadata": {
    "colab": {
     "base_uri": "https://localhost:8080/"
    },
    "id": "lxHbWi50KX5Z",
    "outputId": "13cf5c73-8bb1-458a-c059-be940f0b9482"
   },
   "outputs": [
    {
     "name": "stderr",
     "output_type": "stream",
     "text": [
      "WARNING:biogeme.biogeme:The use of argument numberOfDraws in the constructor of the BIOGEME object is deprecated and will be removed in future versions of Biogeme. Instead, define parameter number_of_draws in section MonteCarlo of the .toml parameter file. The default file name is biogeme.toml\n",
      "WARNING:biogeme.biogeme:The use of argument seed in the constructor of the BIOGEME object is deprecated and will be removed in future versions of Biogeme. Instead, define parameter seed in section MonteCarlo of the .toml parameter file. The default file name is biogeme.toml\n"
     ]
    }
   ],
   "source": [
    "\n",
    "# Create the Biogeme object\n",
    "biogeme  = bio.BIOGEME(database,logprob,numberOfDraws=50, seed=1)\n",
    "\n",
    "\n"
   ]
  },
  {
   "cell_type": "code",
   "execution_count": null,
   "metadata": {
    "id": "xl2wIS1qRcWD"
   },
   "outputs": [],
   "source": [
    "biogeme.number_of_draws = 25"
   ]
  },
  {
   "cell_type": "code",
   "execution_count": null,
   "metadata": {
    "colab": {
     "base_uri": "https://localhost:8080/"
    },
    "id": "QLu2AiggKX5Z",
    "outputId": "598a05f7-95e9-498c-b53d-d5e95cedb1a8"
   },
   "outputs": [
    {
     "name": "stderr",
     "output_type": "stream",
     "text": [
      "WARNING:biogeme.biogeme:You have not defined a name for the model. The output files are named from the model name. The default is [biogemeModelDefaultName]\n"
     ]
    }
   ],
   "source": [
    "\n",
    "# Estimate the parameters.\n",
    "results = biogeme.estimate()"
   ]
  },
  {
   "cell_type": "code",
   "execution_count": null,
   "metadata": {
    "colab": {
     "base_uri": "https://localhost:8080/",
     "height": 269
    },
    "id": "Xu0iN_O0KX5a",
    "outputId": "4df0e0f9-699e-43a0-a4f0-d92956918b9d"
   },
   "outputs": [
    {
     "data": {
      "text/html": [
       "\n",
       "  <div id=\"df-3a83b5da-2a52-4437-9ccd-03fb3e24b8f8\" class=\"colab-df-container\">\n",
       "    <div>\n",
       "<style scoped>\n",
       "    .dataframe tbody tr th:only-of-type {\n",
       "        vertical-align: middle;\n",
       "    }\n",
       "\n",
       "    .dataframe tbody tr th {\n",
       "        vertical-align: top;\n",
       "    }\n",
       "\n",
       "    .dataframe thead th {\n",
       "        text-align: right;\n",
       "    }\n",
       "</style>\n",
       "<table border=\"1\" class=\"dataframe\">\n",
       "  <thead>\n",
       "    <tr style=\"text-align: right;\">\n",
       "      <th></th>\n",
       "      <th>Value</th>\n",
       "      <th>Rob. Std err</th>\n",
       "      <th>Rob. t-test</th>\n",
       "      <th>Rob. p-value</th>\n",
       "    </tr>\n",
       "  </thead>\n",
       "  <tbody>\n",
       "    <tr>\n",
       "      <th>ASC_heinz28</th>\n",
       "      <td>2.485190</td>\n",
       "      <td>0.097092</td>\n",
       "      <td>25.596147</td>\n",
       "      <td>0.000000e+00</td>\n",
       "    </tr>\n",
       "    <tr>\n",
       "      <th>ASC_heinz32</th>\n",
       "      <td>1.539243</td>\n",
       "      <td>0.067641</td>\n",
       "      <td>22.756026</td>\n",
       "      <td>0.000000e+00</td>\n",
       "    </tr>\n",
       "    <tr>\n",
       "      <th>ASC_heinz41</th>\n",
       "      <td>1.380139</td>\n",
       "      <td>0.119291</td>\n",
       "      <td>11.569552</td>\n",
       "      <td>0.000000e+00</td>\n",
       "    </tr>\n",
       "    <tr>\n",
       "      <th>B_disp</th>\n",
       "      <td>1.038313</td>\n",
       "      <td>0.159611</td>\n",
       "      <td>6.505283</td>\n",
       "      <td>7.754708e-11</td>\n",
       "    </tr>\n",
       "    <tr>\n",
       "      <th>B_feat</th>\n",
       "      <td>0.962492</td>\n",
       "      <td>0.127825</td>\n",
       "      <td>7.529791</td>\n",
       "      <td>5.084821e-14</td>\n",
       "    </tr>\n",
       "    <tr>\n",
       "      <th>B_price</th>\n",
       "      <td>-1.429782</td>\n",
       "      <td>0.059147</td>\n",
       "      <td>-24.173264</td>\n",
       "      <td>0.000000e+00</td>\n",
       "    </tr>\n",
       "    <tr>\n",
       "      <th>SIGMA_disp</th>\n",
       "      <td>1.339898</td>\n",
       "      <td>0.469705</td>\n",
       "      <td>2.852640</td>\n",
       "      <td>4.335773e-03</td>\n",
       "    </tr>\n",
       "  </tbody>\n",
       "</table>\n",
       "</div>\n",
       "    <div class=\"colab-df-buttons\">\n",
       "\n",
       "  <div class=\"colab-df-container\">\n",
       "    <button class=\"colab-df-convert\" onclick=\"convertToInteractive('df-3a83b5da-2a52-4437-9ccd-03fb3e24b8f8')\"\n",
       "            title=\"Convert this dataframe to an interactive table.\"\n",
       "            style=\"display:none;\">\n",
       "\n",
       "  <svg xmlns=\"http://www.w3.org/2000/svg\" height=\"24px\" viewBox=\"0 -960 960 960\">\n",
       "    <path d=\"M120-120v-720h720v720H120Zm60-500h600v-160H180v160Zm220 220h160v-160H400v160Zm0 220h160v-160H400v160ZM180-400h160v-160H180v160Zm440 0h160v-160H620v160ZM180-180h160v-160H180v160Zm440 0h160v-160H620v160Z\"/>\n",
       "  </svg>\n",
       "    </button>\n",
       "\n",
       "  <style>\n",
       "    .colab-df-container {\n",
       "      display:flex;\n",
       "      gap: 12px;\n",
       "    }\n",
       "\n",
       "    .colab-df-convert {\n",
       "      background-color: #E8F0FE;\n",
       "      border: none;\n",
       "      border-radius: 50%;\n",
       "      cursor: pointer;\n",
       "      display: none;\n",
       "      fill: #1967D2;\n",
       "      height: 32px;\n",
       "      padding: 0 0 0 0;\n",
       "      width: 32px;\n",
       "    }\n",
       "\n",
       "    .colab-df-convert:hover {\n",
       "      background-color: #E2EBFA;\n",
       "      box-shadow: 0px 1px 2px rgba(60, 64, 67, 0.3), 0px 1px 3px 1px rgba(60, 64, 67, 0.15);\n",
       "      fill: #174EA6;\n",
       "    }\n",
       "\n",
       "    .colab-df-buttons div {\n",
       "      margin-bottom: 4px;\n",
       "    }\n",
       "\n",
       "    [theme=dark] .colab-df-convert {\n",
       "      background-color: #3B4455;\n",
       "      fill: #D2E3FC;\n",
       "    }\n",
       "\n",
       "    [theme=dark] .colab-df-convert:hover {\n",
       "      background-color: #434B5C;\n",
       "      box-shadow: 0px 1px 3px 1px rgba(0, 0, 0, 0.15);\n",
       "      filter: drop-shadow(0px 1px 2px rgba(0, 0, 0, 0.3));\n",
       "      fill: #FFFFFF;\n",
       "    }\n",
       "  </style>\n",
       "\n",
       "    <script>\n",
       "      const buttonEl =\n",
       "        document.querySelector('#df-3a83b5da-2a52-4437-9ccd-03fb3e24b8f8 button.colab-df-convert');\n",
       "      buttonEl.style.display =\n",
       "        google.colab.kernel.accessAllowed ? 'block' : 'none';\n",
       "\n",
       "      async function convertToInteractive(key) {\n",
       "        const element = document.querySelector('#df-3a83b5da-2a52-4437-9ccd-03fb3e24b8f8');\n",
       "        const dataTable =\n",
       "          await google.colab.kernel.invokeFunction('convertToInteractive',\n",
       "                                                    [key], {});\n",
       "        if (!dataTable) return;\n",
       "\n",
       "        const docLinkHtml = 'Like what you see? Visit the ' +\n",
       "          '<a target=\"_blank\" href=https://colab.research.google.com/notebooks/data_table.ipynb>data table notebook</a>'\n",
       "          + ' to learn more about interactive tables.';\n",
       "        element.innerHTML = '';\n",
       "        dataTable['output_type'] = 'display_data';\n",
       "        await google.colab.output.renderOutput(dataTable, element);\n",
       "        const docLink = document.createElement('div');\n",
       "        docLink.innerHTML = docLinkHtml;\n",
       "        element.appendChild(docLink);\n",
       "      }\n",
       "    </script>\n",
       "  </div>\n",
       "\n",
       "\n",
       "<div id=\"df-e3c12b9e-54fa-4d3e-8a95-d38cdfd10e55\">\n",
       "  <button class=\"colab-df-quickchart\" onclick=\"quickchart('df-e3c12b9e-54fa-4d3e-8a95-d38cdfd10e55')\"\n",
       "            title=\"Suggest charts.\"\n",
       "            style=\"display:none;\">\n",
       "\n",
       "<svg xmlns=\"http://www.w3.org/2000/svg\" height=\"24px\"viewBox=\"0 0 24 24\"\n",
       "     width=\"24px\">\n",
       "    <g>\n",
       "        <path d=\"M19 3H5c-1.1 0-2 .9-2 2v14c0 1.1.9 2 2 2h14c1.1 0 2-.9 2-2V5c0-1.1-.9-2-2-2zM9 17H7v-7h2v7zm4 0h-2V7h2v10zm4 0h-2v-4h2v4z\"/>\n",
       "    </g>\n",
       "</svg>\n",
       "  </button>\n",
       "\n",
       "<style>\n",
       "  .colab-df-quickchart {\n",
       "      --bg-color: #E8F0FE;\n",
       "      --fill-color: #1967D2;\n",
       "      --hover-bg-color: #E2EBFA;\n",
       "      --hover-fill-color: #174EA6;\n",
       "      --disabled-fill-color: #AAA;\n",
       "      --disabled-bg-color: #DDD;\n",
       "  }\n",
       "\n",
       "  [theme=dark] .colab-df-quickchart {\n",
       "      --bg-color: #3B4455;\n",
       "      --fill-color: #D2E3FC;\n",
       "      --hover-bg-color: #434B5C;\n",
       "      --hover-fill-color: #FFFFFF;\n",
       "      --disabled-bg-color: #3B4455;\n",
       "      --disabled-fill-color: #666;\n",
       "  }\n",
       "\n",
       "  .colab-df-quickchart {\n",
       "    background-color: var(--bg-color);\n",
       "    border: none;\n",
       "    border-radius: 50%;\n",
       "    cursor: pointer;\n",
       "    display: none;\n",
       "    fill: var(--fill-color);\n",
       "    height: 32px;\n",
       "    padding: 0;\n",
       "    width: 32px;\n",
       "  }\n",
       "\n",
       "  .colab-df-quickchart:hover {\n",
       "    background-color: var(--hover-bg-color);\n",
       "    box-shadow: 0 1px 2px rgba(60, 64, 67, 0.3), 0 1px 3px 1px rgba(60, 64, 67, 0.15);\n",
       "    fill: var(--button-hover-fill-color);\n",
       "  }\n",
       "\n",
       "  .colab-df-quickchart-complete:disabled,\n",
       "  .colab-df-quickchart-complete:disabled:hover {\n",
       "    background-color: var(--disabled-bg-color);\n",
       "    fill: var(--disabled-fill-color);\n",
       "    box-shadow: none;\n",
       "  }\n",
       "\n",
       "  .colab-df-spinner {\n",
       "    border: 2px solid var(--fill-color);\n",
       "    border-color: transparent;\n",
       "    border-bottom-color: var(--fill-color);\n",
       "    animation:\n",
       "      spin 1s steps(1) infinite;\n",
       "  }\n",
       "\n",
       "  @keyframes spin {\n",
       "    0% {\n",
       "      border-color: transparent;\n",
       "      border-bottom-color: var(--fill-color);\n",
       "      border-left-color: var(--fill-color);\n",
       "    }\n",
       "    20% {\n",
       "      border-color: transparent;\n",
       "      border-left-color: var(--fill-color);\n",
       "      border-top-color: var(--fill-color);\n",
       "    }\n",
       "    30% {\n",
       "      border-color: transparent;\n",
       "      border-left-color: var(--fill-color);\n",
       "      border-top-color: var(--fill-color);\n",
       "      border-right-color: var(--fill-color);\n",
       "    }\n",
       "    40% {\n",
       "      border-color: transparent;\n",
       "      border-right-color: var(--fill-color);\n",
       "      border-top-color: var(--fill-color);\n",
       "    }\n",
       "    60% {\n",
       "      border-color: transparent;\n",
       "      border-right-color: var(--fill-color);\n",
       "    }\n",
       "    80% {\n",
       "      border-color: transparent;\n",
       "      border-right-color: var(--fill-color);\n",
       "      border-bottom-color: var(--fill-color);\n",
       "    }\n",
       "    90% {\n",
       "      border-color: transparent;\n",
       "      border-bottom-color: var(--fill-color);\n",
       "    }\n",
       "  }\n",
       "</style>\n",
       "\n",
       "  <script>\n",
       "    async function quickchart(key) {\n",
       "      const quickchartButtonEl =\n",
       "        document.querySelector('#' + key + ' button');\n",
       "      quickchartButtonEl.disabled = true;  // To prevent multiple clicks.\n",
       "      quickchartButtonEl.classList.add('colab-df-spinner');\n",
       "      try {\n",
       "        const charts = await google.colab.kernel.invokeFunction(\n",
       "            'suggestCharts', [key], {});\n",
       "      } catch (error) {\n",
       "        console.error('Error during call to suggestCharts:', error);\n",
       "      }\n",
       "      quickchartButtonEl.classList.remove('colab-df-spinner');\n",
       "      quickchartButtonEl.classList.add('colab-df-quickchart-complete');\n",
       "    }\n",
       "    (() => {\n",
       "      let quickchartButtonEl =\n",
       "        document.querySelector('#df-e3c12b9e-54fa-4d3e-8a95-d38cdfd10e55 button');\n",
       "      quickchartButtonEl.style.display =\n",
       "        google.colab.kernel.accessAllowed ? 'block' : 'none';\n",
       "    })();\n",
       "  </script>\n",
       "</div>\n",
       "    </div>\n",
       "  </div>\n"
      ],
      "text/plain": [
       "                 Value  Rob. Std err  Rob. t-test  Rob. p-value\n",
       "ASC_heinz28   2.485190      0.097092    25.596147  0.000000e+00\n",
       "ASC_heinz32   1.539243      0.067641    22.756026  0.000000e+00\n",
       "ASC_heinz41   1.380139      0.119291    11.569552  0.000000e+00\n",
       "B_disp        1.038313      0.159611     6.505283  7.754708e-11\n",
       "B_feat        0.962492      0.127825     7.529791  5.084821e-14\n",
       "B_price      -1.429782      0.059147   -24.173264  0.000000e+00\n",
       "SIGMA_disp    1.339898      0.469705     2.852640  4.335773e-03"
      ]
     },
     "execution_count": 40,
     "metadata": {},
     "output_type": "execute_result"
    }
   ],
   "source": [
    "results.getEstimatedParameters()"
   ]
  },
  {
   "cell_type": "code",
   "execution_count": null,
   "metadata": {
    "colab": {
     "base_uri": "https://localhost:8080/"
    },
    "id": "ONfJ0mX2K3q3",
    "outputId": "d67d1311-4ceb-43c8-9062-1d15058a6869"
   },
   "outputs": [
    {
     "data": {
      "text/plain": [
       "0.2192549757348154"
      ]
     },
     "execution_count": 41,
     "metadata": {},
     "output_type": "execute_result"
    }
   ],
   "source": [
    "norm.cdf( 0, loc=1.038502, scale=1.340501)"
   ]
  },
  {
   "cell_type": "markdown",
   "metadata": {
    "id": "EiSM_Me_Mywd"
   },
   "source": [
    "</details>"
   ]
  }
 ],
 "metadata": {
  "colab": {
   "name": "tuto_08_continuing_panel_mixed_logit",
   "provenance": []
  },
  "kernelspec": {
   "display_name": "Python 3 (ipykernel)",
   "language": "python",
   "name": "python3"
  },
  "language_info": {
   "codemirror_mode": {
    "name": "ipython",
    "version": 3
   },
   "file_extension": ".py",
   "mimetype": "text/x-python",
   "name": "python",
   "nbconvert_exporter": "python",
   "pygments_lexer": "ipython3",
   "version": "3.10.9"
  }
 },
 "nbformat": 4,
 "nbformat_minor": 1
}
