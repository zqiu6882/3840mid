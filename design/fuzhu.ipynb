{
  "nbformat": 4,
  "nbformat_minor": 0,
  "metadata": {
    "colab": {
      "name": "10_efficient_designs",
      "provenance": []
    },
    "kernelspec": {
      "name": "python3",
      "display_name": "Python 3"
    },
    "language_info": {
      "name": "python"
    }
  },
  "cells": [
    {
      "cell_type": "markdown",
      "metadata": {
        "id": "FiGIpQJKMDqU"
      },
      "source": [
        "# How to design efficient experiments\n",
        "\n",
        "In this lecture we are going to\n",
        "\n",
        "* Properly define what is an efficient design\n",
        "* Use the mathematical definition to create good designs\n",
        "* Give some final guidelines on design of experiments for choice modelling"
      ]
    },
    {
      "cell_type": "code",
      "metadata": {
        "id": "zmxyZx5dl267"
      },
      "source": [
        "import pandas as pd\n",
        "import numpy as np"
      ],
      "execution_count": null,
      "outputs": []
    },
    {
      "cell_type": "code",
      "metadata": {
        "id": "jXHBZMkwjxq2"
      },
      "source": [
        "betas = np.matrix(' 1 1; 2 2')"
      ],
      "execution_count": null,
      "outputs": []
    },
    {
      "cell_type": "code",
      "metadata": {
        "id": "XhQsU5Rgof6x"
      },
      "source": [
        "def choice_prob(betas, X):\n",
        "  V = np.matmul(X, betas)\n",
        "  P = np.exp(V)\n",
        "  return P / np.sum(P, axis = 1)"
      ],
      "execution_count": null,
      "outputs": []
    },
    {
      "cell_type": "markdown",
      "metadata": {
        "id": "z3-GWN4yzvE7"
      },
      "source": [
        "# Working example: Designing a smartphone\n",
        "We are trying to design a smartphone, we want to create a survey to ask potential customers about their preferences, then model them using a choice model.\n",
        " For the sake of exposition, lets imagine that we can alter three attributes for two alternatives.\n",
        "The attributes are:\n",
        " * **Price**\n",
        " * **Screen Size**\n",
        " * **Processor Speed**\n",
        "\n",
        "The two alternatives are identified by the 'operating system' either 'apple' or\n",
        "'android'."
      ]
    },
    {
      "cell_type": "code",
      "metadata": {
        "id": "930fgh5UUUdh"
      },
      "source": [
        "colnames = ['price_apple', 'size_apple', 'os_apple', 'price_android', 'size_android', 'os_android']"
      ],
      "execution_count": null,
      "outputs": []
    },
    {
      "cell_type": "markdown",
      "metadata": {
        "id": "zeREN9QyK0cM"
      },
      "source": [
        "When creating the survey, we have to decide how many choice situations we are going to create. Ideally, we would test a wide range of price, screen size and processor combinations.\n",
        "\n",
        "But lets assume that in the survey, we ask each respondent to choose between only two alternatives at a time. For example, the respondant is prompted\n",
        "the following question:\n",
        "\n",
        "*Which of these two smartphones would you buy?*\n",
        "\n"
      ]
    },
    {
      "cell_type": "markdown",
      "metadata": {
        "id": "x-erIGJCMq2k"
      },
      "source": [
        "| Attrib      | Apple |  Android |\n",
        "| ----------- | ----------- | ----------- |\n",
        "| Price      | 800       |  1200       |\n",
        "| Screen Size   | 4.7        | 5.8        |\n",
        "| Processor   | 3.2        | 1.8        |"
      ]
    },
    {
      "cell_type": "markdown",
      "metadata": {
        "id": "8ZsRq_vNOYZ2"
      },
      "source": [
        "In order to get a good model out of our survey, it is intuitive that we should get data from different values for the attributes of the alternatives.\n",
        "\n",
        "Therefore we would have to create several variations of the question.\n",
        "\n",
        "But just how many variations?\n",
        "\n",
        "Lets simplify and say that we consider only 3 prices\n",
        " * **Price**: 800 AUD, 1000 AUD, 1200 AUD\n",
        " * **Screen Size**: 4.7 in, 5.8 in\n",
        " * **Processor**: 1.8Ghz, 3.2 GHz\n",
        "\n",
        "Note that this is a strong reduction of the possible values that would\n",
        "create 'feasible' smartphones, even ignoring pricing there is much more variety\n",
        "in the Screen Size and Processor attributes in the current market.\n"
      ]
    },
    {
      "cell_type": "markdown",
      "metadata": {
        "id": "V4pglKCiQslA"
      },
      "source": [
        "How many variations?\n",
        "For each smartphone, we have 12 different combinations of price, size and speed,\n",
        "coming from the 3 different levels for price, 2 different levels for size and 2 different levels for speed.\n",
        "$3 \\times 2 \\times 2 = 12$"
      ]
    },
    {
      "cell_type": "code",
      "metadata": {
        "colab": {
          "base_uri": "https://localhost:8080/",
          "height": 426
        },
        "id": "peajmmSF1hNd",
        "outputId": "766607a1-6ab4-47c0-e544-288fc48b4513"
      },
      "source": [
        "from sklearn.utils.extmath import cartesian\n",
        "pd.DataFrame(cartesian(([800.0, 1000.0, 1200.0], [4.7, 5.8], [1.8, 3.2])), columns=['price', 'size', 'speed'])"
      ],
      "execution_count": null,
      "outputs": [
        {
          "output_type": "execute_result",
          "data": {
            "text/plain": [
              "     price  size  speed\n",
              "0    800.0   4.7    1.8\n",
              "1    800.0   4.7    3.2\n",
              "2    800.0   5.8    1.8\n",
              "3    800.0   5.8    3.2\n",
              "4   1000.0   4.7    1.8\n",
              "5   1000.0   4.7    3.2\n",
              "6   1000.0   5.8    1.8\n",
              "7   1000.0   5.8    3.2\n",
              "8   1200.0   4.7    1.8\n",
              "9   1200.0   4.7    3.2\n",
              "10  1200.0   5.8    1.8\n",
              "11  1200.0   5.8    3.2"
            ],
            "text/html": [
              "\n",
              "  <div id=\"df-8b23316c-0750-478f-ab67-4816eae2c43d\">\n",
              "    <div class=\"colab-df-container\">\n",
              "      <div>\n",
              "<style scoped>\n",
              "    .dataframe tbody tr th:only-of-type {\n",
              "        vertical-align: middle;\n",
              "    }\n",
              "\n",
              "    .dataframe tbody tr th {\n",
              "        vertical-align: top;\n",
              "    }\n",
              "\n",
              "    .dataframe thead th {\n",
              "        text-align: right;\n",
              "    }\n",
              "</style>\n",
              "<table border=\"1\" class=\"dataframe\">\n",
              "  <thead>\n",
              "    <tr style=\"text-align: right;\">\n",
              "      <th></th>\n",
              "      <th>price</th>\n",
              "      <th>size</th>\n",
              "      <th>speed</th>\n",
              "    </tr>\n",
              "  </thead>\n",
              "  <tbody>\n",
              "    <tr>\n",
              "      <th>0</th>\n",
              "      <td>800.0</td>\n",
              "      <td>4.7</td>\n",
              "      <td>1.8</td>\n",
              "    </tr>\n",
              "    <tr>\n",
              "      <th>1</th>\n",
              "      <td>800.0</td>\n",
              "      <td>4.7</td>\n",
              "      <td>3.2</td>\n",
              "    </tr>\n",
              "    <tr>\n",
              "      <th>2</th>\n",
              "      <td>800.0</td>\n",
              "      <td>5.8</td>\n",
              "      <td>1.8</td>\n",
              "    </tr>\n",
              "    <tr>\n",
              "      <th>3</th>\n",
              "      <td>800.0</td>\n",
              "      <td>5.8</td>\n",
              "      <td>3.2</td>\n",
              "    </tr>\n",
              "    <tr>\n",
              "      <th>4</th>\n",
              "      <td>1000.0</td>\n",
              "      <td>4.7</td>\n",
              "      <td>1.8</td>\n",
              "    </tr>\n",
              "    <tr>\n",
              "      <th>5</th>\n",
              "      <td>1000.0</td>\n",
              "      <td>4.7</td>\n",
              "      <td>3.2</td>\n",
              "    </tr>\n",
              "    <tr>\n",
              "      <th>6</th>\n",
              "      <td>1000.0</td>\n",
              "      <td>5.8</td>\n",
              "      <td>1.8</td>\n",
              "    </tr>\n",
              "    <tr>\n",
              "      <th>7</th>\n",
              "      <td>1000.0</td>\n",
              "      <td>5.8</td>\n",
              "      <td>3.2</td>\n",
              "    </tr>\n",
              "    <tr>\n",
              "      <th>8</th>\n",
              "      <td>1200.0</td>\n",
              "      <td>4.7</td>\n",
              "      <td>1.8</td>\n",
              "    </tr>\n",
              "    <tr>\n",
              "      <th>9</th>\n",
              "      <td>1200.0</td>\n",
              "      <td>4.7</td>\n",
              "      <td>3.2</td>\n",
              "    </tr>\n",
              "    <tr>\n",
              "      <th>10</th>\n",
              "      <td>1200.0</td>\n",
              "      <td>5.8</td>\n",
              "      <td>1.8</td>\n",
              "    </tr>\n",
              "    <tr>\n",
              "      <th>11</th>\n",
              "      <td>1200.0</td>\n",
              "      <td>5.8</td>\n",
              "      <td>3.2</td>\n",
              "    </tr>\n",
              "  </tbody>\n",
              "</table>\n",
              "</div>\n",
              "      <button class=\"colab-df-convert\" onclick=\"convertToInteractive('df-8b23316c-0750-478f-ab67-4816eae2c43d')\"\n",
              "              title=\"Convert this dataframe to an interactive table.\"\n",
              "              style=\"display:none;\">\n",
              "        \n",
              "  <svg xmlns=\"http://www.w3.org/2000/svg\" height=\"24px\"viewBox=\"0 0 24 24\"\n",
              "       width=\"24px\">\n",
              "    <path d=\"M0 0h24v24H0V0z\" fill=\"none\"/>\n",
              "    <path d=\"M18.56 5.44l.94 2.06.94-2.06 2.06-.94-2.06-.94-.94-2.06-.94 2.06-2.06.94zm-11 1L8.5 8.5l.94-2.06 2.06-.94-2.06-.94L8.5 2.5l-.94 2.06-2.06.94zm10 10l.94 2.06.94-2.06 2.06-.94-2.06-.94-.94-2.06-.94 2.06-2.06.94z\"/><path d=\"M17.41 7.96l-1.37-1.37c-.4-.4-.92-.59-1.43-.59-.52 0-1.04.2-1.43.59L10.3 9.45l-7.72 7.72c-.78.78-.78 2.05 0 2.83L4 21.41c.39.39.9.59 1.41.59.51 0 1.02-.2 1.41-.59l7.78-7.78 2.81-2.81c.8-.78.8-2.07 0-2.86zM5.41 20L4 18.59l7.72-7.72 1.47 1.35L5.41 20z\"/>\n",
              "  </svg>\n",
              "      </button>\n",
              "      \n",
              "  <style>\n",
              "    .colab-df-container {\n",
              "      display:flex;\n",
              "      flex-wrap:wrap;\n",
              "      gap: 12px;\n",
              "    }\n",
              "\n",
              "    .colab-df-convert {\n",
              "      background-color: #E8F0FE;\n",
              "      border: none;\n",
              "      border-radius: 50%;\n",
              "      cursor: pointer;\n",
              "      display: none;\n",
              "      fill: #1967D2;\n",
              "      height: 32px;\n",
              "      padding: 0 0 0 0;\n",
              "      width: 32px;\n",
              "    }\n",
              "\n",
              "    .colab-df-convert:hover {\n",
              "      background-color: #E2EBFA;\n",
              "      box-shadow: 0px 1px 2px rgba(60, 64, 67, 0.3), 0px 1px 3px 1px rgba(60, 64, 67, 0.15);\n",
              "      fill: #174EA6;\n",
              "    }\n",
              "\n",
              "    [theme=dark] .colab-df-convert {\n",
              "      background-color: #3B4455;\n",
              "      fill: #D2E3FC;\n",
              "    }\n",
              "\n",
              "    [theme=dark] .colab-df-convert:hover {\n",
              "      background-color: #434B5C;\n",
              "      box-shadow: 0px 1px 3px 1px rgba(0, 0, 0, 0.15);\n",
              "      filter: drop-shadow(0px 1px 2px rgba(0, 0, 0, 0.3));\n",
              "      fill: #FFFFFF;\n",
              "    }\n",
              "  </style>\n",
              "\n",
              "      <script>\n",
              "        const buttonEl =\n",
              "          document.querySelector('#df-8b23316c-0750-478f-ab67-4816eae2c43d button.colab-df-convert');\n",
              "        buttonEl.style.display =\n",
              "          google.colab.kernel.accessAllowed ? 'block' : 'none';\n",
              "\n",
              "        async function convertToInteractive(key) {\n",
              "          const element = document.querySelector('#df-8b23316c-0750-478f-ab67-4816eae2c43d');\n",
              "          const dataTable =\n",
              "            await google.colab.kernel.invokeFunction('convertToInteractive',\n",
              "                                                     [key], {});\n",
              "          if (!dataTable) return;\n",
              "\n",
              "          const docLinkHtml = 'Like what you see? Visit the ' +\n",
              "            '<a target=\"_blank\" href=https://colab.research.google.com/notebooks/data_table.ipynb>data table notebook</a>'\n",
              "            + ' to learn more about interactive tables.';\n",
              "          element.innerHTML = '';\n",
              "          dataTable['output_type'] = 'display_data';\n",
              "          await google.colab.output.renderOutput(dataTable, element);\n",
              "          const docLink = document.createElement('div');\n",
              "          docLink.innerHTML = docLinkHtml;\n",
              "          element.appendChild(docLink);\n",
              "        }\n",
              "      </script>\n",
              "    </div>\n",
              "  </div>\n",
              "  "
            ]
          },
          "metadata": {},
          "execution_count": 5
        }
      ]
    },
    {
      "cell_type": "markdown",
      "metadata": {
        "id": "CsR4E1nJSVXt"
      },
      "source": [
        "And this is for each type of smartphone, either apple or android.\n",
        "\n",
        "If we want to compare all possible options of apple smartphones to all possible\n",
        "options of android smartphone, we would have 144 possible choice questions."
      ]
    },
    {
      "cell_type": "code",
      "metadata": {
        "colab": {
          "base_uri": "https://localhost:8080/",
          "height": 424
        },
        "id": "U7szbrwD2f1q",
        "outputId": "e3304ea7-32cf-46e5-f03d-1045c74f22de"
      },
      "source": [
        "full_factorial = pd.DataFrame(cartesian(([800.0, 1000.0, 1200.0], [4.7, 5.8], [1.8, 3.2], [800.0, 1000.0, 1200.0], [4.7, 5.8], [1.8, 3.2])),\n",
        "                              columns=colnames)\n",
        "full_factorial"
      ],
      "execution_count": null,
      "outputs": [
        {
          "output_type": "execute_result",
          "data": {
            "text/plain": [
              "     price_apple  size_apple  os_apple  price_android  size_android  \\\n",
              "0          800.0         4.7       1.8          800.0           4.7   \n",
              "1          800.0         4.7       1.8          800.0           4.7   \n",
              "2          800.0         4.7       1.8          800.0           5.8   \n",
              "3          800.0         4.7       1.8          800.0           5.8   \n",
              "4          800.0         4.7       1.8         1000.0           4.7   \n",
              "..           ...         ...       ...            ...           ...   \n",
              "139       1200.0         5.8       3.2         1000.0           5.8   \n",
              "140       1200.0         5.8       3.2         1200.0           4.7   \n",
              "141       1200.0         5.8       3.2         1200.0           4.7   \n",
              "142       1200.0         5.8       3.2         1200.0           5.8   \n",
              "143       1200.0         5.8       3.2         1200.0           5.8   \n",
              "\n",
              "     os_android  \n",
              "0           1.8  \n",
              "1           3.2  \n",
              "2           1.8  \n",
              "3           3.2  \n",
              "4           1.8  \n",
              "..          ...  \n",
              "139         3.2  \n",
              "140         1.8  \n",
              "141         3.2  \n",
              "142         1.8  \n",
              "143         3.2  \n",
              "\n",
              "[144 rows x 6 columns]"
            ],
            "text/html": [
              "\n",
              "  <div id=\"df-8c506d84-3e9d-4fcb-bb18-7aaa81a70552\">\n",
              "    <div class=\"colab-df-container\">\n",
              "      <div>\n",
              "<style scoped>\n",
              "    .dataframe tbody tr th:only-of-type {\n",
              "        vertical-align: middle;\n",
              "    }\n",
              "\n",
              "    .dataframe tbody tr th {\n",
              "        vertical-align: top;\n",
              "    }\n",
              "\n",
              "    .dataframe thead th {\n",
              "        text-align: right;\n",
              "    }\n",
              "</style>\n",
              "<table border=\"1\" class=\"dataframe\">\n",
              "  <thead>\n",
              "    <tr style=\"text-align: right;\">\n",
              "      <th></th>\n",
              "      <th>price_apple</th>\n",
              "      <th>size_apple</th>\n",
              "      <th>os_apple</th>\n",
              "      <th>price_android</th>\n",
              "      <th>size_android</th>\n",
              "      <th>os_android</th>\n",
              "    </tr>\n",
              "  </thead>\n",
              "  <tbody>\n",
              "    <tr>\n",
              "      <th>0</th>\n",
              "      <td>800.0</td>\n",
              "      <td>4.7</td>\n",
              "      <td>1.8</td>\n",
              "      <td>800.0</td>\n",
              "      <td>4.7</td>\n",
              "      <td>1.8</td>\n",
              "    </tr>\n",
              "    <tr>\n",
              "      <th>1</th>\n",
              "      <td>800.0</td>\n",
              "      <td>4.7</td>\n",
              "      <td>1.8</td>\n",
              "      <td>800.0</td>\n",
              "      <td>4.7</td>\n",
              "      <td>3.2</td>\n",
              "    </tr>\n",
              "    <tr>\n",
              "      <th>2</th>\n",
              "      <td>800.0</td>\n",
              "      <td>4.7</td>\n",
              "      <td>1.8</td>\n",
              "      <td>800.0</td>\n",
              "      <td>5.8</td>\n",
              "      <td>1.8</td>\n",
              "    </tr>\n",
              "    <tr>\n",
              "      <th>3</th>\n",
              "      <td>800.0</td>\n",
              "      <td>4.7</td>\n",
              "      <td>1.8</td>\n",
              "      <td>800.0</td>\n",
              "      <td>5.8</td>\n",
              "      <td>3.2</td>\n",
              "    </tr>\n",
              "    <tr>\n",
              "      <th>4</th>\n",
              "      <td>800.0</td>\n",
              "      <td>4.7</td>\n",
              "      <td>1.8</td>\n",
              "      <td>1000.0</td>\n",
              "      <td>4.7</td>\n",
              "      <td>1.8</td>\n",
              "    </tr>\n",
              "    <tr>\n",
              "      <th>...</th>\n",
              "      <td>...</td>\n",
              "      <td>...</td>\n",
              "      <td>...</td>\n",
              "      <td>...</td>\n",
              "      <td>...</td>\n",
              "      <td>...</td>\n",
              "    </tr>\n",
              "    <tr>\n",
              "      <th>139</th>\n",
              "      <td>1200.0</td>\n",
              "      <td>5.8</td>\n",
              "      <td>3.2</td>\n",
              "      <td>1000.0</td>\n",
              "      <td>5.8</td>\n",
              "      <td>3.2</td>\n",
              "    </tr>\n",
              "    <tr>\n",
              "      <th>140</th>\n",
              "      <td>1200.0</td>\n",
              "      <td>5.8</td>\n",
              "      <td>3.2</td>\n",
              "      <td>1200.0</td>\n",
              "      <td>4.7</td>\n",
              "      <td>1.8</td>\n",
              "    </tr>\n",
              "    <tr>\n",
              "      <th>141</th>\n",
              "      <td>1200.0</td>\n",
              "      <td>5.8</td>\n",
              "      <td>3.2</td>\n",
              "      <td>1200.0</td>\n",
              "      <td>4.7</td>\n",
              "      <td>3.2</td>\n",
              "    </tr>\n",
              "    <tr>\n",
              "      <th>142</th>\n",
              "      <td>1200.0</td>\n",
              "      <td>5.8</td>\n",
              "      <td>3.2</td>\n",
              "      <td>1200.0</td>\n",
              "      <td>5.8</td>\n",
              "      <td>1.8</td>\n",
              "    </tr>\n",
              "    <tr>\n",
              "      <th>143</th>\n",
              "      <td>1200.0</td>\n",
              "      <td>5.8</td>\n",
              "      <td>3.2</td>\n",
              "      <td>1200.0</td>\n",
              "      <td>5.8</td>\n",
              "      <td>3.2</td>\n",
              "    </tr>\n",
              "  </tbody>\n",
              "</table>\n",
              "<p>144 rows × 6 columns</p>\n",
              "</div>\n",
              "      <button class=\"colab-df-convert\" onclick=\"convertToInteractive('df-8c506d84-3e9d-4fcb-bb18-7aaa81a70552')\"\n",
              "              title=\"Convert this dataframe to an interactive table.\"\n",
              "              style=\"display:none;\">\n",
              "        \n",
              "  <svg xmlns=\"http://www.w3.org/2000/svg\" height=\"24px\"viewBox=\"0 0 24 24\"\n",
              "       width=\"24px\">\n",
              "    <path d=\"M0 0h24v24H0V0z\" fill=\"none\"/>\n",
              "    <path d=\"M18.56 5.44l.94 2.06.94-2.06 2.06-.94-2.06-.94-.94-2.06-.94 2.06-2.06.94zm-11 1L8.5 8.5l.94-2.06 2.06-.94-2.06-.94L8.5 2.5l-.94 2.06-2.06.94zm10 10l.94 2.06.94-2.06 2.06-.94-2.06-.94-.94-2.06-.94 2.06-2.06.94z\"/><path d=\"M17.41 7.96l-1.37-1.37c-.4-.4-.92-.59-1.43-.59-.52 0-1.04.2-1.43.59L10.3 9.45l-7.72 7.72c-.78.78-.78 2.05 0 2.83L4 21.41c.39.39.9.59 1.41.59.51 0 1.02-.2 1.41-.59l7.78-7.78 2.81-2.81c.8-.78.8-2.07 0-2.86zM5.41 20L4 18.59l7.72-7.72 1.47 1.35L5.41 20z\"/>\n",
              "  </svg>\n",
              "      </button>\n",
              "      \n",
              "  <style>\n",
              "    .colab-df-container {\n",
              "      display:flex;\n",
              "      flex-wrap:wrap;\n",
              "      gap: 12px;\n",
              "    }\n",
              "\n",
              "    .colab-df-convert {\n",
              "      background-color: #E8F0FE;\n",
              "      border: none;\n",
              "      border-radius: 50%;\n",
              "      cursor: pointer;\n",
              "      display: none;\n",
              "      fill: #1967D2;\n",
              "      height: 32px;\n",
              "      padding: 0 0 0 0;\n",
              "      width: 32px;\n",
              "    }\n",
              "\n",
              "    .colab-df-convert:hover {\n",
              "      background-color: #E2EBFA;\n",
              "      box-shadow: 0px 1px 2px rgba(60, 64, 67, 0.3), 0px 1px 3px 1px rgba(60, 64, 67, 0.15);\n",
              "      fill: #174EA6;\n",
              "    }\n",
              "\n",
              "    [theme=dark] .colab-df-convert {\n",
              "      background-color: #3B4455;\n",
              "      fill: #D2E3FC;\n",
              "    }\n",
              "\n",
              "    [theme=dark] .colab-df-convert:hover {\n",
              "      background-color: #434B5C;\n",
              "      box-shadow: 0px 1px 3px 1px rgba(0, 0, 0, 0.15);\n",
              "      filter: drop-shadow(0px 1px 2px rgba(0, 0, 0, 0.3));\n",
              "      fill: #FFFFFF;\n",
              "    }\n",
              "  </style>\n",
              "\n",
              "      <script>\n",
              "        const buttonEl =\n",
              "          document.querySelector('#df-8c506d84-3e9d-4fcb-bb18-7aaa81a70552 button.colab-df-convert');\n",
              "        buttonEl.style.display =\n",
              "          google.colab.kernel.accessAllowed ? 'block' : 'none';\n",
              "\n",
              "        async function convertToInteractive(key) {\n",
              "          const element = document.querySelector('#df-8c506d84-3e9d-4fcb-bb18-7aaa81a70552');\n",
              "          const dataTable =\n",
              "            await google.colab.kernel.invokeFunction('convertToInteractive',\n",
              "                                                     [key], {});\n",
              "          if (!dataTable) return;\n",
              "\n",
              "          const docLinkHtml = 'Like what you see? Visit the ' +\n",
              "            '<a target=\"_blank\" href=https://colab.research.google.com/notebooks/data_table.ipynb>data table notebook</a>'\n",
              "            + ' to learn more about interactive tables.';\n",
              "          element.innerHTML = '';\n",
              "          dataTable['output_type'] = 'display_data';\n",
              "          await google.colab.output.renderOutput(dataTable, element);\n",
              "          const docLink = document.createElement('div');\n",
              "          docLink.innerHTML = docLinkHtml;\n",
              "          element.appendChild(docLink);\n",
              "        }\n",
              "      </script>\n",
              "    </div>\n",
              "  </div>\n",
              "  "
            ]
          },
          "metadata": {},
          "execution_count": 6
        }
      ]
    },
    {
      "cell_type": "markdown",
      "metadata": {
        "id": "suo4An1VS_Hs"
      },
      "source": [
        "We would have to sample at least 144 persons (Assuming one question per subject) to even get an observation per choice situation.\n",
        "\n",
        "In a bit more 'realistic' scenario, it is clear that the potential number of choice sitations goes out of control, too many variations to get a sample for each one.\n",
        "\n",
        "The practical question now becomes:\n",
        "\n",
        "**Assuming a limited budget of people we can ask, which choice situations should we choose among the possible in order to estimate the model as well as possible?**\n",
        "\n",
        "The solution comes from defining what we mean by *'estimate the model as well as possible'*. This measure is often called **'efficiency'** of the experiment\n",
        "and is something **arbitrary**. There are many ways of defining efficiency,\n",
        "we will see what can be considered the most popular.\n"
      ]
    },
    {
      "cell_type": "markdown",
      "metadata": {
        "id": "9LG1JSBKcOOp"
      },
      "source": [
        "\n",
        "# Efficiency in experimental designs\n",
        "\n",
        "Plainly, when we design an experiment we have to deal with the problem that we cannot perform the 'ideal' experiment. The efficiency of a experiment is intuitively a measure of how much we lose in a given experiment compared to the ideal experiment. The less we lose, the more efficient.\n",
        "\n",
        "Most measures of the efficieny of the experiment account for the variance of the estimation of the coefficients in the model, the covariance of the estimator of $\\beta$s."
      ]
    },
    {
      "cell_type": "markdown",
      "metadata": {
        "id": "-1BPiuOfeEJk"
      },
      "source": [
        "# Covariance matrix for the $\\beta$\n",
        "\n",
        "*We will illustrate the concept with standard linear regression and the add the 'choice probability layer' on top of it later. You can also think of modelling the utilities which are linear in the Multinomial Logit.*\n",
        "\n",
        "\n",
        "Recall from basic Stats, the sample mean estimation of\n",
        "a vector of observations $x$ of size $N$ is:\n",
        "$$ \\text{sample_mean}(x) = \\frac{1}{N}\\sum_{i=1}^N x_i$$\n",
        "\n",
        "In a random sample of indepent observations coming from a normal distribution of $N(\\mu, \\sigma^2)$, the sample mean is itself a random variable,\n",
        "distributed as a normal $N(\\mu,\\frac{\\sigma^2}{N})$\n",
        "\n",
        "As long as $x$ is indepent and identically distributed, even if $x$ is not gaussian, for $N$ 'large enough', the sample mean is also $N(\\mu,\\frac{\\sigma^2}{N})$, with $\\mu$ and $\\sigma^2$ mean and variance of the distribution of $x$.\n",
        "\n",
        "When we do least squares linear regression under the typical assumptions of linearity, independence and gaussianity,\n",
        "\n",
        " $$ y = X\\beta^* + \\varepsilon$$\n",
        "\n",
        " With $X$ the matrix of observations (one column per variable), $\\beta^*$ the true underlying beta and $\\varepsilon$ a i.i.d. gaussian noise of mean 0 and variance $\\sigma^2$.\n",
        "\n",
        "The least squares estimator of the $\\beta$ is also normal with distribution:\n",
        " $$N(\\beta^*, \\sigma^2 (X'X)^{-1})$$\n",
        "\n",
        "The important part for us is the term $(X'X)^{-1}$, because the $\\sigma^2$ is given, we cannot experiment with it. But when designing and experiment, we get to decide the values of the $X$.\n",
        "\n",
        "To simplify, asume that $\\sigma^2=1$ (we do not loose much, we can get there by just scaling everythin by a constant). This way we simplyfy the expression for the covariance matrix of the least squares estimator.\n",
        "\n",
        "$$\\text{covariance}(\\beta) = (X'X)^{-1}$$\n",
        "\n",
        "$$Y = X\\beta + \\varepsilon$$\n",
        "\n",
        "and 3 variables, so $\\beta$ is a vector of three numbers $\\beta_1, \\beta_2, \\beta_3$, each is the coefficient for one variable.\n",
        "\n",
        "\n",
        "Remember that the covariance matrix contains the variances of the individual coefficients (denoted by $\\sigma^2_{\\beta_i}$) and their covariances (denoted by $\\sigma_{\\beta_i \\beta_j}$).\n",
        "\n",
        "We know that having the less variance in the estimator, the more likely we are to be close to the true values when estimating.  So, in the covariance matrix, 'big numbers are bad'.\n",
        "\n",
        "$$\\text{covariance}(\\beta) = (X'X)^{-1} =\n",
        "\\begin{pmatrix}\n",
        "\\sigma^2_{\\beta_1} & \\sigma_{\\beta_1 \\beta_2} & \\sigma_{\\beta_1 \\beta_3}\\\\\n",
        "\\sigma_{\\beta_1 \\beta_2} & \\sigma^2_{\\beta_2} & \\sigma_{\\beta_2 \\beta_3} \\\\\n",
        "\\sigma_{\\beta_1 \\beta_3} & \\sigma_{\\beta_2 \\beta_3} & \\sigma^2_{\\beta_3}\n",
        "\\end{pmatrix}$$\n",
        "\n",
        "So we have to find values for $X$ that make the covariance matrix of $\\beta$ 'small'. The smaller the $\\beta$.\n",
        "So if we have a limited number of samples, we will select the combinations of levels of the alternatives that create the smallest covariance matrix possible.\n",
        "\n"
      ]
    },
    {
      "cell_type": "markdown",
      "metadata": {
        "id": "iNB8dUNyUfMZ"
      },
      "source": [
        "# A-efficiency\n",
        "\n",
        "We have mentioned that we want to make the covariance of the estimation of $\\beta$ as small as possible.\n",
        "\n",
        "**What do we mean by small?**\n",
        "\n",
        " And the measurement of the 'size' of the matrix is what we mean by **efficiency** of the experiment.\n",
        "\n",
        "One idea for measuring the size of the matrix, or how large are the numbers is the following:\n",
        "The average variance of the coefficients, so the sum of the diagional of the variance-covariance matrix. So from all possible variantions of the experiment, we will pick the one that produces a covariance matrix with the smallest sum of its diagonal.\n",
        "\n",
        "This idea is called *A-efficiency*, and it is defined in proper mathemathical terms as\n",
        "$ A= \\frac{\\text{trace}((X'X)^{-1})}{K+1}$\n",
        "with $K$ the number of variables to estimate in the model.\n",
        "\n",
        "When we pick the design with the best A-efficiency we call it $A-optimal$.\n",
        "\n",
        "There are many other measures of efficiency, identified by letters $A, D, E, G, ...$\n",
        "\n"
      ]
    },
    {
      "cell_type": "markdown",
      "metadata": {
        "id": "Y8UiDwryung_"
      },
      "source": [
        "# D-efficiency\n",
        "\n",
        "D-efficiency is considered the most popular measure of efficiency, though which one to use is not clear, it will depend on the application.\n",
        "\n",
        "The D-efficiency is defined in terms of the determinant of the covariance matrix of $\\beta$\n",
        "\n",
        "$D = \\text{det}((X'X)^{-1})^{\\frac{1}{K+1}}$"
      ]
    },
    {
      "cell_type": "code",
      "metadata": {
        "id": "Hr-jlLPj5OAO"
      },
      "source": [
        "def cov_reg(X):\n",
        "  X = np.matrix(X)\n",
        "  return np.linalg.inv(np.matmul(np.transpose(X), X))"
      ],
      "execution_count": null,
      "outputs": []
    },
    {
      "cell_type": "code",
      "metadata": {
        "colab": {
          "base_uri": "https://localhost:8080/",
          "height": 267
        },
        "id": "iP7bx3Yswj7W",
        "outputId": "a5df3e28-c132-46dc-8a0d-440b3154eb6a"
      },
      "source": [
        "np.transpose(full_factorial)"
      ],
      "execution_count": null,
      "outputs": [
        {
          "output_type": "execute_result",
          "data": {
            "text/plain": [
              "                 0      1      2      3       4       5       6       7    \\\n",
              "price_apple    800.0  800.0  800.0  800.0   800.0   800.0   800.0   800.0   \n",
              "size_apple       4.7    4.7    4.7    4.7     4.7     4.7     4.7     4.7   \n",
              "os_apple         1.8    1.8    1.8    1.8     1.8     1.8     1.8     1.8   \n",
              "price_android  800.0  800.0  800.0  800.0  1000.0  1000.0  1000.0  1000.0   \n",
              "size_android     4.7    4.7    5.8    5.8     4.7     4.7     5.8     5.8   \n",
              "os_android       1.8    3.2    1.8    3.2     1.8     3.2     1.8     3.2   \n",
              "\n",
              "                  8       9    ...     134     135     136     137     138  \\\n",
              "price_apple     800.0   800.0  ...  1200.0  1200.0  1200.0  1200.0  1200.0   \n",
              "size_apple        4.7     4.7  ...     5.8     5.8     5.8     5.8     5.8   \n",
              "os_apple          1.8     1.8  ...     3.2     3.2     3.2     3.2     3.2   \n",
              "price_android  1200.0  1200.0  ...   800.0   800.0  1000.0  1000.0  1000.0   \n",
              "size_android      4.7     4.7  ...     5.8     5.8     4.7     4.7     5.8   \n",
              "os_android        1.8     3.2  ...     1.8     3.2     1.8     3.2     1.8   \n",
              "\n",
              "                  139     140     141     142     143  \n",
              "price_apple    1200.0  1200.0  1200.0  1200.0  1200.0  \n",
              "size_apple        5.8     5.8     5.8     5.8     5.8  \n",
              "os_apple          3.2     3.2     3.2     3.2     3.2  \n",
              "price_android  1000.0  1200.0  1200.0  1200.0  1200.0  \n",
              "size_android      5.8     4.7     4.7     5.8     5.8  \n",
              "os_android        3.2     1.8     3.2     1.8     3.2  \n",
              "\n",
              "[6 rows x 144 columns]"
            ],
            "text/html": [
              "\n",
              "  <div id=\"df-eb802aa5-b914-4115-b51d-4fce0610103f\">\n",
              "    <div class=\"colab-df-container\">\n",
              "      <div>\n",
              "<style scoped>\n",
              "    .dataframe tbody tr th:only-of-type {\n",
              "        vertical-align: middle;\n",
              "    }\n",
              "\n",
              "    .dataframe tbody tr th {\n",
              "        vertical-align: top;\n",
              "    }\n",
              "\n",
              "    .dataframe thead th {\n",
              "        text-align: right;\n",
              "    }\n",
              "</style>\n",
              "<table border=\"1\" class=\"dataframe\">\n",
              "  <thead>\n",
              "    <tr style=\"text-align: right;\">\n",
              "      <th></th>\n",
              "      <th>0</th>\n",
              "      <th>1</th>\n",
              "      <th>2</th>\n",
              "      <th>3</th>\n",
              "      <th>4</th>\n",
              "      <th>5</th>\n",
              "      <th>6</th>\n",
              "      <th>7</th>\n",
              "      <th>8</th>\n",
              "      <th>9</th>\n",
              "      <th>...</th>\n",
              "      <th>134</th>\n",
              "      <th>135</th>\n",
              "      <th>136</th>\n",
              "      <th>137</th>\n",
              "      <th>138</th>\n",
              "      <th>139</th>\n",
              "      <th>140</th>\n",
              "      <th>141</th>\n",
              "      <th>142</th>\n",
              "      <th>143</th>\n",
              "    </tr>\n",
              "  </thead>\n",
              "  <tbody>\n",
              "    <tr>\n",
              "      <th>price_apple</th>\n",
              "      <td>800.0</td>\n",
              "      <td>800.0</td>\n",
              "      <td>800.0</td>\n",
              "      <td>800.0</td>\n",
              "      <td>800.0</td>\n",
              "      <td>800.0</td>\n",
              "      <td>800.0</td>\n",
              "      <td>800.0</td>\n",
              "      <td>800.0</td>\n",
              "      <td>800.0</td>\n",
              "      <td>...</td>\n",
              "      <td>1200.0</td>\n",
              "      <td>1200.0</td>\n",
              "      <td>1200.0</td>\n",
              "      <td>1200.0</td>\n",
              "      <td>1200.0</td>\n",
              "      <td>1200.0</td>\n",
              "      <td>1200.0</td>\n",
              "      <td>1200.0</td>\n",
              "      <td>1200.0</td>\n",
              "      <td>1200.0</td>\n",
              "    </tr>\n",
              "    <tr>\n",
              "      <th>size_apple</th>\n",
              "      <td>4.7</td>\n",
              "      <td>4.7</td>\n",
              "      <td>4.7</td>\n",
              "      <td>4.7</td>\n",
              "      <td>4.7</td>\n",
              "      <td>4.7</td>\n",
              "      <td>4.7</td>\n",
              "      <td>4.7</td>\n",
              "      <td>4.7</td>\n",
              "      <td>4.7</td>\n",
              "      <td>...</td>\n",
              "      <td>5.8</td>\n",
              "      <td>5.8</td>\n",
              "      <td>5.8</td>\n",
              "      <td>5.8</td>\n",
              "      <td>5.8</td>\n",
              "      <td>5.8</td>\n",
              "      <td>5.8</td>\n",
              "      <td>5.8</td>\n",
              "      <td>5.8</td>\n",
              "      <td>5.8</td>\n",
              "    </tr>\n",
              "    <tr>\n",
              "      <th>os_apple</th>\n",
              "      <td>1.8</td>\n",
              "      <td>1.8</td>\n",
              "      <td>1.8</td>\n",
              "      <td>1.8</td>\n",
              "      <td>1.8</td>\n",
              "      <td>1.8</td>\n",
              "      <td>1.8</td>\n",
              "      <td>1.8</td>\n",
              "      <td>1.8</td>\n",
              "      <td>1.8</td>\n",
              "      <td>...</td>\n",
              "      <td>3.2</td>\n",
              "      <td>3.2</td>\n",
              "      <td>3.2</td>\n",
              "      <td>3.2</td>\n",
              "      <td>3.2</td>\n",
              "      <td>3.2</td>\n",
              "      <td>3.2</td>\n",
              "      <td>3.2</td>\n",
              "      <td>3.2</td>\n",
              "      <td>3.2</td>\n",
              "    </tr>\n",
              "    <tr>\n",
              "      <th>price_android</th>\n",
              "      <td>800.0</td>\n",
              "      <td>800.0</td>\n",
              "      <td>800.0</td>\n",
              "      <td>800.0</td>\n",
              "      <td>1000.0</td>\n",
              "      <td>1000.0</td>\n",
              "      <td>1000.0</td>\n",
              "      <td>1000.0</td>\n",
              "      <td>1200.0</td>\n",
              "      <td>1200.0</td>\n",
              "      <td>...</td>\n",
              "      <td>800.0</td>\n",
              "      <td>800.0</td>\n",
              "      <td>1000.0</td>\n",
              "      <td>1000.0</td>\n",
              "      <td>1000.0</td>\n",
              "      <td>1000.0</td>\n",
              "      <td>1200.0</td>\n",
              "      <td>1200.0</td>\n",
              "      <td>1200.0</td>\n",
              "      <td>1200.0</td>\n",
              "    </tr>\n",
              "    <tr>\n",
              "      <th>size_android</th>\n",
              "      <td>4.7</td>\n",
              "      <td>4.7</td>\n",
              "      <td>5.8</td>\n",
              "      <td>5.8</td>\n",
              "      <td>4.7</td>\n",
              "      <td>4.7</td>\n",
              "      <td>5.8</td>\n",
              "      <td>5.8</td>\n",
              "      <td>4.7</td>\n",
              "      <td>4.7</td>\n",
              "      <td>...</td>\n",
              "      <td>5.8</td>\n",
              "      <td>5.8</td>\n",
              "      <td>4.7</td>\n",
              "      <td>4.7</td>\n",
              "      <td>5.8</td>\n",
              "      <td>5.8</td>\n",
              "      <td>4.7</td>\n",
              "      <td>4.7</td>\n",
              "      <td>5.8</td>\n",
              "      <td>5.8</td>\n",
              "    </tr>\n",
              "    <tr>\n",
              "      <th>os_android</th>\n",
              "      <td>1.8</td>\n",
              "      <td>3.2</td>\n",
              "      <td>1.8</td>\n",
              "      <td>3.2</td>\n",
              "      <td>1.8</td>\n",
              "      <td>3.2</td>\n",
              "      <td>1.8</td>\n",
              "      <td>3.2</td>\n",
              "      <td>1.8</td>\n",
              "      <td>3.2</td>\n",
              "      <td>...</td>\n",
              "      <td>1.8</td>\n",
              "      <td>3.2</td>\n",
              "      <td>1.8</td>\n",
              "      <td>3.2</td>\n",
              "      <td>1.8</td>\n",
              "      <td>3.2</td>\n",
              "      <td>1.8</td>\n",
              "      <td>3.2</td>\n",
              "      <td>1.8</td>\n",
              "      <td>3.2</td>\n",
              "    </tr>\n",
              "  </tbody>\n",
              "</table>\n",
              "<p>6 rows × 144 columns</p>\n",
              "</div>\n",
              "      <button class=\"colab-df-convert\" onclick=\"convertToInteractive('df-eb802aa5-b914-4115-b51d-4fce0610103f')\"\n",
              "              title=\"Convert this dataframe to an interactive table.\"\n",
              "              style=\"display:none;\">\n",
              "        \n",
              "  <svg xmlns=\"http://www.w3.org/2000/svg\" height=\"24px\"viewBox=\"0 0 24 24\"\n",
              "       width=\"24px\">\n",
              "    <path d=\"M0 0h24v24H0V0z\" fill=\"none\"/>\n",
              "    <path d=\"M18.56 5.44l.94 2.06.94-2.06 2.06-.94-2.06-.94-.94-2.06-.94 2.06-2.06.94zm-11 1L8.5 8.5l.94-2.06 2.06-.94-2.06-.94L8.5 2.5l-.94 2.06-2.06.94zm10 10l.94 2.06.94-2.06 2.06-.94-2.06-.94-.94-2.06-.94 2.06-2.06.94z\"/><path d=\"M17.41 7.96l-1.37-1.37c-.4-.4-.92-.59-1.43-.59-.52 0-1.04.2-1.43.59L10.3 9.45l-7.72 7.72c-.78.78-.78 2.05 0 2.83L4 21.41c.39.39.9.59 1.41.59.51 0 1.02-.2 1.41-.59l7.78-7.78 2.81-2.81c.8-.78.8-2.07 0-2.86zM5.41 20L4 18.59l7.72-7.72 1.47 1.35L5.41 20z\"/>\n",
              "  </svg>\n",
              "      </button>\n",
              "      \n",
              "  <style>\n",
              "    .colab-df-container {\n",
              "      display:flex;\n",
              "      flex-wrap:wrap;\n",
              "      gap: 12px;\n",
              "    }\n",
              "\n",
              "    .colab-df-convert {\n",
              "      background-color: #E8F0FE;\n",
              "      border: none;\n",
              "      border-radius: 50%;\n",
              "      cursor: pointer;\n",
              "      display: none;\n",
              "      fill: #1967D2;\n",
              "      height: 32px;\n",
              "      padding: 0 0 0 0;\n",
              "      width: 32px;\n",
              "    }\n",
              "\n",
              "    .colab-df-convert:hover {\n",
              "      background-color: #E2EBFA;\n",
              "      box-shadow: 0px 1px 2px rgba(60, 64, 67, 0.3), 0px 1px 3px 1px rgba(60, 64, 67, 0.15);\n",
              "      fill: #174EA6;\n",
              "    }\n",
              "\n",
              "    [theme=dark] .colab-df-convert {\n",
              "      background-color: #3B4455;\n",
              "      fill: #D2E3FC;\n",
              "    }\n",
              "\n",
              "    [theme=dark] .colab-df-convert:hover {\n",
              "      background-color: #434B5C;\n",
              "      box-shadow: 0px 1px 3px 1px rgba(0, 0, 0, 0.15);\n",
              "      filter: drop-shadow(0px 1px 2px rgba(0, 0, 0, 0.3));\n",
              "      fill: #FFFFFF;\n",
              "    }\n",
              "  </style>\n",
              "\n",
              "      <script>\n",
              "        const buttonEl =\n",
              "          document.querySelector('#df-eb802aa5-b914-4115-b51d-4fce0610103f button.colab-df-convert');\n",
              "        buttonEl.style.display =\n",
              "          google.colab.kernel.accessAllowed ? 'block' : 'none';\n",
              "\n",
              "        async function convertToInteractive(key) {\n",
              "          const element = document.querySelector('#df-eb802aa5-b914-4115-b51d-4fce0610103f');\n",
              "          const dataTable =\n",
              "            await google.colab.kernel.invokeFunction('convertToInteractive',\n",
              "                                                     [key], {});\n",
              "          if (!dataTable) return;\n",
              "\n",
              "          const docLinkHtml = 'Like what you see? Visit the ' +\n",
              "            '<a target=\"_blank\" href=https://colab.research.google.com/notebooks/data_table.ipynb>data table notebook</a>'\n",
              "            + ' to learn more about interactive tables.';\n",
              "          element.innerHTML = '';\n",
              "          dataTable['output_type'] = 'display_data';\n",
              "          await google.colab.output.renderOutput(dataTable, element);\n",
              "          const docLink = document.createElement('div');\n",
              "          docLink.innerHTML = docLinkHtml;\n",
              "          element.appendChild(docLink);\n",
              "        }\n",
              "      </script>\n",
              "    </div>\n",
              "  </div>\n",
              "  "
            ]
          },
          "metadata": {},
          "execution_count": 8
        }
      ]
    },
    {
      "cell_type": "code",
      "metadata": {
        "id": "4xcOp1E-3iFd"
      },
      "source": [
        "COV_ff = cov_reg(full_factorial)"
      ],
      "execution_count": null,
      "outputs": []
    },
    {
      "cell_type": "code",
      "metadata": {
        "colab": {
          "base_uri": "https://localhost:8080/",
          "height": 238
        },
        "id": "_grdMjal4LMw",
        "outputId": "14c0bb70-3238-480b-b5f6-8c10c821a866"
      },
      "source": [
        "pd.DataFrame(COV_ff*100000, columns = ['price_apple', 'size_apple', 'cost_apple', 'price_android', 'size_android', 'cost_android'])"
      ],
      "execution_count": null,
      "outputs": [
        {
          "output_type": "execute_result",
          "data": {
            "text/plain": [
              "   price_apple   size_apple   cost_apple  price_android  size_android  \\\n",
              "0     0.022600    -1.592868    -0.468263      -0.003442     -1.592868   \n",
              "1    -1.592868  1558.489201  -216.716677      -1.592868   -737.194913   \n",
              "2    -0.468263  -216.716677  1353.524333      -0.468263   -216.716677   \n",
              "3    -0.003442    -1.592868    -0.468263       0.022600     -1.592868   \n",
              "4    -1.592868  -737.194913  -216.716677      -1.592868   1558.489201   \n",
              "5    -0.468263  -216.716677   -63.709227      -0.468263   -216.716677   \n",
              "\n",
              "   cost_android  \n",
              "0     -0.468263  \n",
              "1   -216.716677  \n",
              "2    -63.709227  \n",
              "3     -0.468263  \n",
              "4   -216.716677  \n",
              "5   1353.524333  "
            ],
            "text/html": [
              "\n",
              "  <div id=\"df-48b6c175-8e03-44e9-9675-49381c56e393\">\n",
              "    <div class=\"colab-df-container\">\n",
              "      <div>\n",
              "<style scoped>\n",
              "    .dataframe tbody tr th:only-of-type {\n",
              "        vertical-align: middle;\n",
              "    }\n",
              "\n",
              "    .dataframe tbody tr th {\n",
              "        vertical-align: top;\n",
              "    }\n",
              "\n",
              "    .dataframe thead th {\n",
              "        text-align: right;\n",
              "    }\n",
              "</style>\n",
              "<table border=\"1\" class=\"dataframe\">\n",
              "  <thead>\n",
              "    <tr style=\"text-align: right;\">\n",
              "      <th></th>\n",
              "      <th>price_apple</th>\n",
              "      <th>size_apple</th>\n",
              "      <th>cost_apple</th>\n",
              "      <th>price_android</th>\n",
              "      <th>size_android</th>\n",
              "      <th>cost_android</th>\n",
              "    </tr>\n",
              "  </thead>\n",
              "  <tbody>\n",
              "    <tr>\n",
              "      <th>0</th>\n",
              "      <td>0.022600</td>\n",
              "      <td>-1.592868</td>\n",
              "      <td>-0.468263</td>\n",
              "      <td>-0.003442</td>\n",
              "      <td>-1.592868</td>\n",
              "      <td>-0.468263</td>\n",
              "    </tr>\n",
              "    <tr>\n",
              "      <th>1</th>\n",
              "      <td>-1.592868</td>\n",
              "      <td>1558.489201</td>\n",
              "      <td>-216.716677</td>\n",
              "      <td>-1.592868</td>\n",
              "      <td>-737.194913</td>\n",
              "      <td>-216.716677</td>\n",
              "    </tr>\n",
              "    <tr>\n",
              "      <th>2</th>\n",
              "      <td>-0.468263</td>\n",
              "      <td>-216.716677</td>\n",
              "      <td>1353.524333</td>\n",
              "      <td>-0.468263</td>\n",
              "      <td>-216.716677</td>\n",
              "      <td>-63.709227</td>\n",
              "    </tr>\n",
              "    <tr>\n",
              "      <th>3</th>\n",
              "      <td>-0.003442</td>\n",
              "      <td>-1.592868</td>\n",
              "      <td>-0.468263</td>\n",
              "      <td>0.022600</td>\n",
              "      <td>-1.592868</td>\n",
              "      <td>-0.468263</td>\n",
              "    </tr>\n",
              "    <tr>\n",
              "      <th>4</th>\n",
              "      <td>-1.592868</td>\n",
              "      <td>-737.194913</td>\n",
              "      <td>-216.716677</td>\n",
              "      <td>-1.592868</td>\n",
              "      <td>1558.489201</td>\n",
              "      <td>-216.716677</td>\n",
              "    </tr>\n",
              "    <tr>\n",
              "      <th>5</th>\n",
              "      <td>-0.468263</td>\n",
              "      <td>-216.716677</td>\n",
              "      <td>-63.709227</td>\n",
              "      <td>-0.468263</td>\n",
              "      <td>-216.716677</td>\n",
              "      <td>1353.524333</td>\n",
              "    </tr>\n",
              "  </tbody>\n",
              "</table>\n",
              "</div>\n",
              "      <button class=\"colab-df-convert\" onclick=\"convertToInteractive('df-48b6c175-8e03-44e9-9675-49381c56e393')\"\n",
              "              title=\"Convert this dataframe to an interactive table.\"\n",
              "              style=\"display:none;\">\n",
              "        \n",
              "  <svg xmlns=\"http://www.w3.org/2000/svg\" height=\"24px\"viewBox=\"0 0 24 24\"\n",
              "       width=\"24px\">\n",
              "    <path d=\"M0 0h24v24H0V0z\" fill=\"none\"/>\n",
              "    <path d=\"M18.56 5.44l.94 2.06.94-2.06 2.06-.94-2.06-.94-.94-2.06-.94 2.06-2.06.94zm-11 1L8.5 8.5l.94-2.06 2.06-.94-2.06-.94L8.5 2.5l-.94 2.06-2.06.94zm10 10l.94 2.06.94-2.06 2.06-.94-2.06-.94-.94-2.06-.94 2.06-2.06.94z\"/><path d=\"M17.41 7.96l-1.37-1.37c-.4-.4-.92-.59-1.43-.59-.52 0-1.04.2-1.43.59L10.3 9.45l-7.72 7.72c-.78.78-.78 2.05 0 2.83L4 21.41c.39.39.9.59 1.41.59.51 0 1.02-.2 1.41-.59l7.78-7.78 2.81-2.81c.8-.78.8-2.07 0-2.86zM5.41 20L4 18.59l7.72-7.72 1.47 1.35L5.41 20z\"/>\n",
              "  </svg>\n",
              "      </button>\n",
              "      \n",
              "  <style>\n",
              "    .colab-df-container {\n",
              "      display:flex;\n",
              "      flex-wrap:wrap;\n",
              "      gap: 12px;\n",
              "    }\n",
              "\n",
              "    .colab-df-convert {\n",
              "      background-color: #E8F0FE;\n",
              "      border: none;\n",
              "      border-radius: 50%;\n",
              "      cursor: pointer;\n",
              "      display: none;\n",
              "      fill: #1967D2;\n",
              "      height: 32px;\n",
              "      padding: 0 0 0 0;\n",
              "      width: 32px;\n",
              "    }\n",
              "\n",
              "    .colab-df-convert:hover {\n",
              "      background-color: #E2EBFA;\n",
              "      box-shadow: 0px 1px 2px rgba(60, 64, 67, 0.3), 0px 1px 3px 1px rgba(60, 64, 67, 0.15);\n",
              "      fill: #174EA6;\n",
              "    }\n",
              "\n",
              "    [theme=dark] .colab-df-convert {\n",
              "      background-color: #3B4455;\n",
              "      fill: #D2E3FC;\n",
              "    }\n",
              "\n",
              "    [theme=dark] .colab-df-convert:hover {\n",
              "      background-color: #434B5C;\n",
              "      box-shadow: 0px 1px 3px 1px rgba(0, 0, 0, 0.15);\n",
              "      filter: drop-shadow(0px 1px 2px rgba(0, 0, 0, 0.3));\n",
              "      fill: #FFFFFF;\n",
              "    }\n",
              "  </style>\n",
              "\n",
              "      <script>\n",
              "        const buttonEl =\n",
              "          document.querySelector('#df-48b6c175-8e03-44e9-9675-49381c56e393 button.colab-df-convert');\n",
              "        buttonEl.style.display =\n",
              "          google.colab.kernel.accessAllowed ? 'block' : 'none';\n",
              "\n",
              "        async function convertToInteractive(key) {\n",
              "          const element = document.querySelector('#df-48b6c175-8e03-44e9-9675-49381c56e393');\n",
              "          const dataTable =\n",
              "            await google.colab.kernel.invokeFunction('convertToInteractive',\n",
              "                                                     [key], {});\n",
              "          if (!dataTable) return;\n",
              "\n",
              "          const docLinkHtml = 'Like what you see? Visit the ' +\n",
              "            '<a target=\"_blank\" href=https://colab.research.google.com/notebooks/data_table.ipynb>data table notebook</a>'\n",
              "            + ' to learn more about interactive tables.';\n",
              "          element.innerHTML = '';\n",
              "          dataTable['output_type'] = 'display_data';\n",
              "          await google.colab.output.renderOutput(dataTable, element);\n",
              "          const docLink = document.createElement('div');\n",
              "          docLink.innerHTML = docLinkHtml;\n",
              "          element.appendChild(docLink);\n",
              "        }\n",
              "      </script>\n",
              "    </div>\n",
              "  </div>\n",
              "  "
            ]
          },
          "metadata": {},
          "execution_count": 10
        }
      ]
    },
    {
      "cell_type": "markdown",
      "metadata": {
        "id": "gJwcum9ey2yd"
      },
      "source": [
        "Lets see what can we do if we 'do nothing', this is just pick the variations at random until we get to the given sample size.\n",
        "\n",
        "*Repeat to see how the covariance varies*"
      ]
    },
    {
      "cell_type": "code",
      "metadata": {
        "colab": {
          "base_uri": "https://localhost:8080/"
        },
        "id": "g61fhd0S4jfX",
        "outputId": "f0fe5ba9-66dd-41d9-9cee-f18becf698d4"
      },
      "source": [
        "N = 70\n",
        "sub_fact = np.array(full_factorial)[np.random.choice(full_factorial.shape[0], N, replace=False), :]\n",
        "sub_fact"
      ],
      "execution_count": null,
      "outputs": [
        {
          "output_type": "execute_result",
          "data": {
            "text/plain": [
              "array([[ 800. ,    4.7,    1.8, 1200. ,    4.7,    1.8],\n",
              "       [1000. ,    5.8,    3.2,  800. ,    4.7,    3.2],\n",
              "       [1000. ,    5.8,    1.8, 1200. ,    5.8,    1.8],\n",
              "       [ 800. ,    4.7,    1.8,  800. ,    5.8,    3.2],\n",
              "       [ 800. ,    5.8,    1.8, 1200. ,    5.8,    3.2],\n",
              "       [1000. ,    4.7,    1.8, 1000. ,    5.8,    3.2],\n",
              "       [1200. ,    5.8,    1.8, 1000. ,    4.7,    1.8],\n",
              "       [1000. ,    5.8,    3.2,  800. ,    4.7,    1.8],\n",
              "       [1200. ,    4.7,    1.8, 1200. ,    4.7,    1.8],\n",
              "       [1200. ,    5.8,    1.8, 1000. ,    5.8,    1.8],\n",
              "       [1000. ,    4.7,    3.2, 1200. ,    5.8,    1.8],\n",
              "       [1000. ,    5.8,    3.2, 1000. ,    5.8,    1.8],\n",
              "       [1200. ,    4.7,    1.8, 1200. ,    5.8,    3.2],\n",
              "       [ 800. ,    5.8,    3.2,  800. ,    5.8,    3.2],\n",
              "       [1200. ,    5.8,    1.8, 1200. ,    5.8,    3.2],\n",
              "       [1200. ,    4.7,    3.2, 1000. ,    4.7,    1.8],\n",
              "       [1200. ,    4.7,    3.2,  800. ,    5.8,    3.2],\n",
              "       [1200. ,    5.8,    1.8,  800. ,    5.8,    3.2],\n",
              "       [1000. ,    4.7,    3.2, 1000. ,    4.7,    3.2],\n",
              "       [ 800. ,    5.8,    1.8, 1200. ,    5.8,    1.8],\n",
              "       [ 800. ,    4.7,    3.2,  800. ,    5.8,    1.8],\n",
              "       [ 800. ,    5.8,    1.8,  800. ,    5.8,    1.8],\n",
              "       [1200. ,    5.8,    1.8, 1200. ,    5.8,    1.8],\n",
              "       [1000. ,    4.7,    1.8, 1200. ,    4.7,    3.2],\n",
              "       [1200. ,    4.7,    1.8,  800. ,    5.8,    3.2],\n",
              "       [ 800. ,    4.7,    3.2,  800. ,    5.8,    3.2],\n",
              "       [1000. ,    4.7,    3.2,  800. ,    5.8,    1.8],\n",
              "       [1200. ,    4.7,    1.8,  800. ,    4.7,    3.2],\n",
              "       [ 800. ,    5.8,    3.2, 1000. ,    4.7,    1.8],\n",
              "       [1000. ,    4.7,    3.2, 1200. ,    4.7,    1.8],\n",
              "       [1000. ,    5.8,    1.8,  800. ,    5.8,    1.8],\n",
              "       [1000. ,    5.8,    3.2, 1000. ,    4.7,    3.2],\n",
              "       [ 800. ,    4.7,    3.2, 1000. ,    4.7,    3.2],\n",
              "       [1200. ,    5.8,    3.2,  800. ,    5.8,    3.2],\n",
              "       [ 800. ,    4.7,    1.8,  800. ,    4.7,    3.2],\n",
              "       [1000. ,    4.7,    1.8, 1000. ,    4.7,    3.2],\n",
              "       [1200. ,    4.7,    3.2, 1200. ,    5.8,    1.8],\n",
              "       [ 800. ,    4.7,    3.2,  800. ,    4.7,    1.8],\n",
              "       [ 800. ,    4.7,    3.2, 1000. ,    5.8,    3.2],\n",
              "       [1000. ,    4.7,    3.2, 1000. ,    4.7,    1.8],\n",
              "       [1000. ,    5.8,    1.8, 1200. ,    4.7,    3.2],\n",
              "       [1200. ,    5.8,    3.2, 1200. ,    4.7,    1.8],\n",
              "       [ 800. ,    5.8,    3.2, 1000. ,    5.8,    1.8],\n",
              "       [1200. ,    4.7,    3.2, 1000. ,    4.7,    3.2],\n",
              "       [1000. ,    5.8,    3.2, 1000. ,    4.7,    1.8],\n",
              "       [1000. ,    4.7,    3.2, 1200. ,    4.7,    3.2],\n",
              "       [1000. ,    5.8,    3.2, 1000. ,    5.8,    3.2],\n",
              "       [1200. ,    5.8,    1.8,  800. ,    5.8,    1.8],\n",
              "       [1200. ,    5.8,    3.2, 1200. ,    5.8,    3.2],\n",
              "       [1000. ,    5.8,    1.8, 1000. ,    4.7,    3.2],\n",
              "       [1200. ,    5.8,    3.2, 1000. ,    4.7,    3.2],\n",
              "       [1000. ,    4.7,    3.2, 1200. ,    5.8,    3.2],\n",
              "       [ 800. ,    5.8,    3.2,  800. ,    4.7,    3.2],\n",
              "       [ 800. ,    5.8,    1.8,  800. ,    4.7,    1.8],\n",
              "       [1200. ,    4.7,    1.8, 1200. ,    4.7,    3.2],\n",
              "       [ 800. ,    4.7,    3.2, 1000. ,    4.7,    1.8],\n",
              "       [ 800. ,    4.7,    1.8, 1000. ,    5.8,    1.8],\n",
              "       [ 800. ,    5.8,    3.2,  800. ,    4.7,    1.8],\n",
              "       [ 800. ,    5.8,    1.8, 1000. ,    4.7,    3.2],\n",
              "       [1200. ,    4.7,    1.8, 1000. ,    4.7,    1.8],\n",
              "       [1200. ,    5.8,    1.8, 1200. ,    4.7,    3.2],\n",
              "       [1000. ,    4.7,    1.8, 1200. ,    5.8,    3.2],\n",
              "       [1000. ,    4.7,    1.8, 1000. ,    4.7,    1.8],\n",
              "       [ 800. ,    5.8,    3.2, 1000. ,    5.8,    3.2],\n",
              "       [1200. ,    5.8,    3.2, 1200. ,    4.7,    3.2],\n",
              "       [1200. ,    5.8,    1.8,  800. ,    4.7,    3.2],\n",
              "       [1200. ,    4.7,    1.8, 1000. ,    5.8,    3.2],\n",
              "       [1000. ,    4.7,    3.2,  800. ,    4.7,    3.2],\n",
              "       [1200. ,    4.7,    1.8,  800. ,    5.8,    1.8],\n",
              "       [ 800. ,    5.8,    1.8, 1000. ,    5.8,    3.2]])"
            ]
          },
          "metadata": {},
          "execution_count": 11
        }
      ]
    },
    {
      "cell_type": "code",
      "metadata": {
        "colab": {
          "base_uri": "https://localhost:8080/",
          "height": 238
        },
        "id": "SozJ1xZW5L1X",
        "outputId": "31a88053-1b9b-4249-c1fa-c7ce3618b0e2"
      },
      "source": [
        "pd.DataFrame(cov_reg(sub_fact)*100000, columns = ['price_apple', 'size_apple', 'cost_apple', 'price_android', 'size_android', 'cost_android'])"
      ],
      "execution_count": null,
      "outputs": [
        {
          "output_type": "execute_result",
          "data": {
            "text/plain": [
              "   price_apple   size_apple   cost_apple  price_android  size_android  \\\n",
              "0     0.050852    -2.796748     0.196867      -0.017855     -2.713780   \n",
              "1    -2.796748  3316.496338  -682.938769      -2.806583  -1754.019175   \n",
              "2     0.196867  -682.938769  2620.282514      -0.712264   -370.019040   \n",
              "3    -0.017855    -2.806583    -0.712264       0.051881     -2.820997   \n",
              "4    -2.713780 -1754.019175  -370.019040      -2.820997   3239.806870   \n",
              "5    -1.925642  -321.622883  -183.545185      -0.814672   -463.704691   \n",
              "\n",
              "   cost_android  \n",
              "0     -1.925642  \n",
              "1   -321.622883  \n",
              "2   -183.545185  \n",
              "3     -0.814672  \n",
              "4   -463.704691  \n",
              "5   2849.337329  "
            ],
            "text/html": [
              "\n",
              "  <div id=\"df-cfedccf2-0783-4b3e-8c4a-0720e3a048b4\">\n",
              "    <div class=\"colab-df-container\">\n",
              "      <div>\n",
              "<style scoped>\n",
              "    .dataframe tbody tr th:only-of-type {\n",
              "        vertical-align: middle;\n",
              "    }\n",
              "\n",
              "    .dataframe tbody tr th {\n",
              "        vertical-align: top;\n",
              "    }\n",
              "\n",
              "    .dataframe thead th {\n",
              "        text-align: right;\n",
              "    }\n",
              "</style>\n",
              "<table border=\"1\" class=\"dataframe\">\n",
              "  <thead>\n",
              "    <tr style=\"text-align: right;\">\n",
              "      <th></th>\n",
              "      <th>price_apple</th>\n",
              "      <th>size_apple</th>\n",
              "      <th>cost_apple</th>\n",
              "      <th>price_android</th>\n",
              "      <th>size_android</th>\n",
              "      <th>cost_android</th>\n",
              "    </tr>\n",
              "  </thead>\n",
              "  <tbody>\n",
              "    <tr>\n",
              "      <th>0</th>\n",
              "      <td>0.050852</td>\n",
              "      <td>-2.796748</td>\n",
              "      <td>0.196867</td>\n",
              "      <td>-0.017855</td>\n",
              "      <td>-2.713780</td>\n",
              "      <td>-1.925642</td>\n",
              "    </tr>\n",
              "    <tr>\n",
              "      <th>1</th>\n",
              "      <td>-2.796748</td>\n",
              "      <td>3316.496338</td>\n",
              "      <td>-682.938769</td>\n",
              "      <td>-2.806583</td>\n",
              "      <td>-1754.019175</td>\n",
              "      <td>-321.622883</td>\n",
              "    </tr>\n",
              "    <tr>\n",
              "      <th>2</th>\n",
              "      <td>0.196867</td>\n",
              "      <td>-682.938769</td>\n",
              "      <td>2620.282514</td>\n",
              "      <td>-0.712264</td>\n",
              "      <td>-370.019040</td>\n",
              "      <td>-183.545185</td>\n",
              "    </tr>\n",
              "    <tr>\n",
              "      <th>3</th>\n",
              "      <td>-0.017855</td>\n",
              "      <td>-2.806583</td>\n",
              "      <td>-0.712264</td>\n",
              "      <td>0.051881</td>\n",
              "      <td>-2.820997</td>\n",
              "      <td>-0.814672</td>\n",
              "    </tr>\n",
              "    <tr>\n",
              "      <th>4</th>\n",
              "      <td>-2.713780</td>\n",
              "      <td>-1754.019175</td>\n",
              "      <td>-370.019040</td>\n",
              "      <td>-2.820997</td>\n",
              "      <td>3239.806870</td>\n",
              "      <td>-463.704691</td>\n",
              "    </tr>\n",
              "    <tr>\n",
              "      <th>5</th>\n",
              "      <td>-1.925642</td>\n",
              "      <td>-321.622883</td>\n",
              "      <td>-183.545185</td>\n",
              "      <td>-0.814672</td>\n",
              "      <td>-463.704691</td>\n",
              "      <td>2849.337329</td>\n",
              "    </tr>\n",
              "  </tbody>\n",
              "</table>\n",
              "</div>\n",
              "      <button class=\"colab-df-convert\" onclick=\"convertToInteractive('df-cfedccf2-0783-4b3e-8c4a-0720e3a048b4')\"\n",
              "              title=\"Convert this dataframe to an interactive table.\"\n",
              "              style=\"display:none;\">\n",
              "        \n",
              "  <svg xmlns=\"http://www.w3.org/2000/svg\" height=\"24px\"viewBox=\"0 0 24 24\"\n",
              "       width=\"24px\">\n",
              "    <path d=\"M0 0h24v24H0V0z\" fill=\"none\"/>\n",
              "    <path d=\"M18.56 5.44l.94 2.06.94-2.06 2.06-.94-2.06-.94-.94-2.06-.94 2.06-2.06.94zm-11 1L8.5 8.5l.94-2.06 2.06-.94-2.06-.94L8.5 2.5l-.94 2.06-2.06.94zm10 10l.94 2.06.94-2.06 2.06-.94-2.06-.94-.94-2.06-.94 2.06-2.06.94z\"/><path d=\"M17.41 7.96l-1.37-1.37c-.4-.4-.92-.59-1.43-.59-.52 0-1.04.2-1.43.59L10.3 9.45l-7.72 7.72c-.78.78-.78 2.05 0 2.83L4 21.41c.39.39.9.59 1.41.59.51 0 1.02-.2 1.41-.59l7.78-7.78 2.81-2.81c.8-.78.8-2.07 0-2.86zM5.41 20L4 18.59l7.72-7.72 1.47 1.35L5.41 20z\"/>\n",
              "  </svg>\n",
              "      </button>\n",
              "      \n",
              "  <style>\n",
              "    .colab-df-container {\n",
              "      display:flex;\n",
              "      flex-wrap:wrap;\n",
              "      gap: 12px;\n",
              "    }\n",
              "\n",
              "    .colab-df-convert {\n",
              "      background-color: #E8F0FE;\n",
              "      border: none;\n",
              "      border-radius: 50%;\n",
              "      cursor: pointer;\n",
              "      display: none;\n",
              "      fill: #1967D2;\n",
              "      height: 32px;\n",
              "      padding: 0 0 0 0;\n",
              "      width: 32px;\n",
              "    }\n",
              "\n",
              "    .colab-df-convert:hover {\n",
              "      background-color: #E2EBFA;\n",
              "      box-shadow: 0px 1px 2px rgba(60, 64, 67, 0.3), 0px 1px 3px 1px rgba(60, 64, 67, 0.15);\n",
              "      fill: #174EA6;\n",
              "    }\n",
              "\n",
              "    [theme=dark] .colab-df-convert {\n",
              "      background-color: #3B4455;\n",
              "      fill: #D2E3FC;\n",
              "    }\n",
              "\n",
              "    [theme=dark] .colab-df-convert:hover {\n",
              "      background-color: #434B5C;\n",
              "      box-shadow: 0px 1px 3px 1px rgba(0, 0, 0, 0.15);\n",
              "      filter: drop-shadow(0px 1px 2px rgba(0, 0, 0, 0.3));\n",
              "      fill: #FFFFFF;\n",
              "    }\n",
              "  </style>\n",
              "\n",
              "      <script>\n",
              "        const buttonEl =\n",
              "          document.querySelector('#df-cfedccf2-0783-4b3e-8c4a-0720e3a048b4 button.colab-df-convert');\n",
              "        buttonEl.style.display =\n",
              "          google.colab.kernel.accessAllowed ? 'block' : 'none';\n",
              "\n",
              "        async function convertToInteractive(key) {\n",
              "          const element = document.querySelector('#df-cfedccf2-0783-4b3e-8c4a-0720e3a048b4');\n",
              "          const dataTable =\n",
              "            await google.colab.kernel.invokeFunction('convertToInteractive',\n",
              "                                                     [key], {});\n",
              "          if (!dataTable) return;\n",
              "\n",
              "          const docLinkHtml = 'Like what you see? Visit the ' +\n",
              "            '<a target=\"_blank\" href=https://colab.research.google.com/notebooks/data_table.ipynb>data table notebook</a>'\n",
              "            + ' to learn more about interactive tables.';\n",
              "          element.innerHTML = '';\n",
              "          dataTable['output_type'] = 'display_data';\n",
              "          await google.colab.output.renderOutput(dataTable, element);\n",
              "          const docLink = document.createElement('div');\n",
              "          docLink.innerHTML = docLinkHtml;\n",
              "          element.appendChild(docLink);\n",
              "        }\n",
              "      </script>\n",
              "    </div>\n",
              "  </div>\n",
              "  "
            ]
          },
          "metadata": {},
          "execution_count": 12
        }
      ]
    },
    {
      "cell_type": "markdown",
      "metadata": {
        "id": "0jTIuSItyolm"
      },
      "source": [
        "Lets compare both covariances, the one with the full experiment vs the one with the reduced experiment."
      ]
    },
    {
      "cell_type": "code",
      "metadata": {
        "colab": {
          "base_uri": "https://localhost:8080/",
          "height": 238
        },
        "id": "pg082K41yKdA",
        "outputId": "089b818d-bf12-435f-b92b-91cf0e2968ba"
      },
      "source": [
        "pd.DataFrame(cov_reg(sub_fact) / cov_reg(full_factorial))"
      ],
      "execution_count": null,
      "outputs": [
        {
          "output_type": "execute_result",
          "data": {
            "text/plain": [
              "          0         1         2         3         4         5\n",
              "0  2.250093  1.755794 -0.420420  5.187866  1.703707  4.112311\n",
              "1  1.755794  2.128020  3.151298  1.761969  2.379315  1.484071\n",
              "2 -0.420420  3.151298  1.935896  1.521077  1.707386  2.880983\n",
              "3  5.187866  1.761969  1.521077  2.295637  1.771018  1.739775\n",
              "4  1.703707  2.379315  1.707386  1.771018  2.078813  2.139682\n",
              "5  4.112311  1.484071  2.880983  1.739775  2.139682  2.105125"
            ],
            "text/html": [
              "\n",
              "  <div id=\"df-62c34a20-099f-4ba0-a8a9-2bfb52f16422\">\n",
              "    <div class=\"colab-df-container\">\n",
              "      <div>\n",
              "<style scoped>\n",
              "    .dataframe tbody tr th:only-of-type {\n",
              "        vertical-align: middle;\n",
              "    }\n",
              "\n",
              "    .dataframe tbody tr th {\n",
              "        vertical-align: top;\n",
              "    }\n",
              "\n",
              "    .dataframe thead th {\n",
              "        text-align: right;\n",
              "    }\n",
              "</style>\n",
              "<table border=\"1\" class=\"dataframe\">\n",
              "  <thead>\n",
              "    <tr style=\"text-align: right;\">\n",
              "      <th></th>\n",
              "      <th>0</th>\n",
              "      <th>1</th>\n",
              "      <th>2</th>\n",
              "      <th>3</th>\n",
              "      <th>4</th>\n",
              "      <th>5</th>\n",
              "    </tr>\n",
              "  </thead>\n",
              "  <tbody>\n",
              "    <tr>\n",
              "      <th>0</th>\n",
              "      <td>2.250093</td>\n",
              "      <td>1.755794</td>\n",
              "      <td>-0.420420</td>\n",
              "      <td>5.187866</td>\n",
              "      <td>1.703707</td>\n",
              "      <td>4.112311</td>\n",
              "    </tr>\n",
              "    <tr>\n",
              "      <th>1</th>\n",
              "      <td>1.755794</td>\n",
              "      <td>2.128020</td>\n",
              "      <td>3.151298</td>\n",
              "      <td>1.761969</td>\n",
              "      <td>2.379315</td>\n",
              "      <td>1.484071</td>\n",
              "    </tr>\n",
              "    <tr>\n",
              "      <th>2</th>\n",
              "      <td>-0.420420</td>\n",
              "      <td>3.151298</td>\n",
              "      <td>1.935896</td>\n",
              "      <td>1.521077</td>\n",
              "      <td>1.707386</td>\n",
              "      <td>2.880983</td>\n",
              "    </tr>\n",
              "    <tr>\n",
              "      <th>3</th>\n",
              "      <td>5.187866</td>\n",
              "      <td>1.761969</td>\n",
              "      <td>1.521077</td>\n",
              "      <td>2.295637</td>\n",
              "      <td>1.771018</td>\n",
              "      <td>1.739775</td>\n",
              "    </tr>\n",
              "    <tr>\n",
              "      <th>4</th>\n",
              "      <td>1.703707</td>\n",
              "      <td>2.379315</td>\n",
              "      <td>1.707386</td>\n",
              "      <td>1.771018</td>\n",
              "      <td>2.078813</td>\n",
              "      <td>2.139682</td>\n",
              "    </tr>\n",
              "    <tr>\n",
              "      <th>5</th>\n",
              "      <td>4.112311</td>\n",
              "      <td>1.484071</td>\n",
              "      <td>2.880983</td>\n",
              "      <td>1.739775</td>\n",
              "      <td>2.139682</td>\n",
              "      <td>2.105125</td>\n",
              "    </tr>\n",
              "  </tbody>\n",
              "</table>\n",
              "</div>\n",
              "      <button class=\"colab-df-convert\" onclick=\"convertToInteractive('df-62c34a20-099f-4ba0-a8a9-2bfb52f16422')\"\n",
              "              title=\"Convert this dataframe to an interactive table.\"\n",
              "              style=\"display:none;\">\n",
              "        \n",
              "  <svg xmlns=\"http://www.w3.org/2000/svg\" height=\"24px\"viewBox=\"0 0 24 24\"\n",
              "       width=\"24px\">\n",
              "    <path d=\"M0 0h24v24H0V0z\" fill=\"none\"/>\n",
              "    <path d=\"M18.56 5.44l.94 2.06.94-2.06 2.06-.94-2.06-.94-.94-2.06-.94 2.06-2.06.94zm-11 1L8.5 8.5l.94-2.06 2.06-.94-2.06-.94L8.5 2.5l-.94 2.06-2.06.94zm10 10l.94 2.06.94-2.06 2.06-.94-2.06-.94-.94-2.06-.94 2.06-2.06.94z\"/><path d=\"M17.41 7.96l-1.37-1.37c-.4-.4-.92-.59-1.43-.59-.52 0-1.04.2-1.43.59L10.3 9.45l-7.72 7.72c-.78.78-.78 2.05 0 2.83L4 21.41c.39.39.9.59 1.41.59.51 0 1.02-.2 1.41-.59l7.78-7.78 2.81-2.81c.8-.78.8-2.07 0-2.86zM5.41 20L4 18.59l7.72-7.72 1.47 1.35L5.41 20z\"/>\n",
              "  </svg>\n",
              "      </button>\n",
              "      \n",
              "  <style>\n",
              "    .colab-df-container {\n",
              "      display:flex;\n",
              "      flex-wrap:wrap;\n",
              "      gap: 12px;\n",
              "    }\n",
              "\n",
              "    .colab-df-convert {\n",
              "      background-color: #E8F0FE;\n",
              "      border: none;\n",
              "      border-radius: 50%;\n",
              "      cursor: pointer;\n",
              "      display: none;\n",
              "      fill: #1967D2;\n",
              "      height: 32px;\n",
              "      padding: 0 0 0 0;\n",
              "      width: 32px;\n",
              "    }\n",
              "\n",
              "    .colab-df-convert:hover {\n",
              "      background-color: #E2EBFA;\n",
              "      box-shadow: 0px 1px 2px rgba(60, 64, 67, 0.3), 0px 1px 3px 1px rgba(60, 64, 67, 0.15);\n",
              "      fill: #174EA6;\n",
              "    }\n",
              "\n",
              "    [theme=dark] .colab-df-convert {\n",
              "      background-color: #3B4455;\n",
              "      fill: #D2E3FC;\n",
              "    }\n",
              "\n",
              "    [theme=dark] .colab-df-convert:hover {\n",
              "      background-color: #434B5C;\n",
              "      box-shadow: 0px 1px 3px 1px rgba(0, 0, 0, 0.15);\n",
              "      filter: drop-shadow(0px 1px 2px rgba(0, 0, 0, 0.3));\n",
              "      fill: #FFFFFF;\n",
              "    }\n",
              "  </style>\n",
              "\n",
              "      <script>\n",
              "        const buttonEl =\n",
              "          document.querySelector('#df-62c34a20-099f-4ba0-a8a9-2bfb52f16422 button.colab-df-convert');\n",
              "        buttonEl.style.display =\n",
              "          google.colab.kernel.accessAllowed ? 'block' : 'none';\n",
              "\n",
              "        async function convertToInteractive(key) {\n",
              "          const element = document.querySelector('#df-62c34a20-099f-4ba0-a8a9-2bfb52f16422');\n",
              "          const dataTable =\n",
              "            await google.colab.kernel.invokeFunction('convertToInteractive',\n",
              "                                                     [key], {});\n",
              "          if (!dataTable) return;\n",
              "\n",
              "          const docLinkHtml = 'Like what you see? Visit the ' +\n",
              "            '<a target=\"_blank\" href=https://colab.research.google.com/notebooks/data_table.ipynb>data table notebook</a>'\n",
              "            + ' to learn more about interactive tables.';\n",
              "          element.innerHTML = '';\n",
              "          dataTable['output_type'] = 'display_data';\n",
              "          await google.colab.output.renderOutput(dataTable, element);\n",
              "          const docLink = document.createElement('div');\n",
              "          docLink.innerHTML = docLinkHtml;\n",
              "          element.appendChild(docLink);\n",
              "        }\n",
              "      </script>\n",
              "    </div>\n",
              "  </div>\n",
              "  "
            ]
          },
          "metadata": {},
          "execution_count": 13
        }
      ]
    },
    {
      "cell_type": "code",
      "metadata": {
        "id": "BH0mihQczRNw"
      },
      "source": [
        "def deffic_reg(X):\n",
        "  covX = cov_reg(X)\n",
        "  return np.power( np.linalg.det(covX), 1 / (covX.shape[0] + 1) )"
      ],
      "execution_count": null,
      "outputs": []
    },
    {
      "cell_type": "markdown",
      "metadata": {
        "id": "Wf4NqV2P1AYH"
      },
      "source": [
        "When we calculate the d-efficiency (smaller is better), we see that\n",
        "the fll experiment is roughly twice as efficient."
      ]
    },
    {
      "cell_type": "code",
      "metadata": {
        "colab": {
          "base_uri": "https://localhost:8080/"
        },
        "id": "1tfEbUQhzd5H",
        "outputId": "137f5a5f-9865-4b45-ec43-2f181139d54d"
      },
      "source": [
        "deffic_reg(full_factorial)*1000"
      ],
      "execution_count": null,
      "outputs": [
        {
          "output_type": "execute_result",
          "data": {
            "text/plain": [
              "0.5913907394643236"
            ]
          },
          "metadata": {},
          "execution_count": 15
        }
      ]
    },
    {
      "cell_type": "code",
      "metadata": {
        "colab": {
          "base_uri": "https://localhost:8080/"
        },
        "id": "F18RBPtWzggW",
        "outputId": "11ec6bad-6188-42fd-e498-6066fbea5c63"
      },
      "source": [
        "deffic_reg(sub_fact)*1000"
      ],
      "execution_count": null,
      "outputs": [
        {
          "output_type": "execute_result",
          "data": {
            "text/plain": [
              "1.1138452778901702"
            ]
          },
          "metadata": {},
          "execution_count": 16
        }
      ]
    },
    {
      "cell_type": "markdown",
      "metadata": {
        "id": "XpVGAet02Dnw"
      },
      "source": [
        "So, now we will try to do something a bit more clever, we will try to pick the design with the best D-efficiency.\n",
        "But how many design variations are there? Maybe we can compute them all and pick the best?\n",
        "\n",
        "Lets say of size 70, when the full factorial is 144, combinations without\n",
        "repetition...\n"
      ]
    },
    {
      "cell_type": "code",
      "metadata": {
        "colab": {
          "base_uri": "https://localhost:8080/"
        },
        "id": "DUcnl35v2-fW",
        "outputId": "8054e99d-0934-4a02-8cab-4e3cc51968c2"
      },
      "source": [
        "from math import factorial\n",
        "\n",
        "factorial(144) / factorial(70) / factorial(144 - 70)"
      ],
      "execution_count": null,
      "outputs": [
        {
          "output_type": "execute_result",
          "data": {
            "text/plain": [
              "1.4007495090837087e+42"
            ]
          },
          "metadata": {},
          "execution_count": 17
        }
      ]
    },
    {
      "cell_type": "markdown",
      "metadata": {
        "id": "raI2V0QL4QmJ"
      },
      "source": [
        "No, but lets check a few thousands really quickly, trying to get the improvement"
      ]
    },
    {
      "cell_type": "code",
      "metadata": {
        "colab": {
          "base_uri": "https://localhost:8080/"
        },
        "id": "BY9lCaHS1OwS",
        "outputId": "81f942b4-5928-40e8-987a-9ba2ef5fe07e"
      },
      "source": [
        "def calc_sub_effic():\n",
        " N = 70\n",
        " sub_fact = np.array(full_factorial)[np.random.choice(full_factorial.shape[0], N, replace=False), :]\n",
        " return deffic_reg(sub_fact)*1000\n",
        "\n",
        "\n",
        "\n",
        "np.min([calc_sub_effic() for _ in range(100000)])"
      ],
      "execution_count": null,
      "outputs": [
        {
          "output_type": "execute_result",
          "data": {
            "text/plain": [
              "1.0397622938773254"
            ]
          },
          "metadata": {},
          "execution_count": 18
        }
      ]
    },
    {
      "cell_type": "markdown",
      "metadata": {
        "id": "sILtgA334cNu"
      },
      "source": [
        "The best efficiency we can find in this random search is 1.015.\n",
        "\n",
        "There are better algorithms to look for good design, to 'optimize' the experimental design."
      ]
    },
    {
      "cell_type": "markdown",
      "metadata": {
        "id": "tSVKJUoTypn6"
      },
      "source": [
        "# D-efficiency for Discrete Choice\n",
        "\n",
        "We have seen the definition of D-efficiency for standard linear regression.\n",
        "It is based on the covariance matrix for the least squares estimator for the coefficients. For discrete choice, the D-efficiency is technically the same, but the covariance matrix that it works on is slightly different.\n",
        "\n",
        "In choice modelling, specifically the multinomial logit (MNL), the coefficients are\n",
        "not estimated by least squares, they are estimated by maximum likelihood. Moreover, the MNL transforms the linear predictions by the softmax transformation.\n",
        "\n",
        "$$\\text{covariance}(\\beta) = (Z' P Z )^{-1}$$\n",
        "\n",
        "when working with $J$ alternatives:\n",
        "*  $P$ is the matrix of choice probabilities computed by the model.\n",
        "* $Z$ is similar to design matrix, but 'centered' using the choice probabilities. Basically, to each row of observations, we substract the weighted mean of the variables across all alternatives. The weights are the choice probabilities computed by the model.\n",
        "\n",
        " $$z_{jn} = x_{jn} - \\sum_{i=1}^Jx_{in}P_{in}$$\n",
        "\n",
        " The $x_{in}$ represents the attributes of alternative $i$ for individual $n$.\n",
        "\n",
        " Just to clarify, if all choice probabilities are equal, we get\n",
        "  $$z_{jn} = x_{jn} - \\overline{x\n",
        "  _n}$$\n",
        "   with $\\overline{x\n",
        "  _n}$ denotine the simple mean of the variables.\n",
        "\n",
        "\n",
        "**There is an important difference comparing to the linear regression:** In the\n",
        "expression for the covariance we have the choice probabilities, which themselves depend on the true values of the coefficients $\\beta^*$!!\n",
        "\n",
        "The solution is to consider some 'prior' values for the $\\beta*$, for example, it is typical to start with all $\\beta^*_i = 0$ to first design the pilot experiment. The from the pilot experiment get a better estimate, and use it to calculate the efficiency fot the final experiment.\n"
      ]
    },
    {
      "cell_type": "code",
      "metadata": {
        "id": "_now17Bg5lcS"
      },
      "source": [
        "def cov_mnl(Xj, J, betas):\n",
        "  Xj = np.hsplit(np.array(Xj), 2)\n",
        "  P = np.hstack( [np.matmul(Xj[0], betas[0].T ), np.matmul(Xj[1], betas[0].T )])\n",
        "  P = np.exp(P)\n",
        "  PP = P / np.sum(P, axis = 1)\n",
        "  P0D = np.diag(np.array(PP[:,0].flatten()[0].T[:]).T[0])\n",
        "  return np.linalg.inv(np.matmul( np.matmul(Xj[0].T, P0D), Xj[0]))"
      ],
      "execution_count": null,
      "outputs": []
    },
    {
      "cell_type": "markdown",
      "metadata": {
        "id": "I1p6yicQFaH8"
      },
      "source": [
        "And now we calculate"
      ]
    },
    {
      "cell_type": "code",
      "metadata": {
        "id": "QSOrlg4d7D2o"
      },
      "source": [
        " sub_fact = np.array(full_factorial)[np.random.choice(full_factorial.shape[0], 10, replace=False), :]"
      ],
      "execution_count": null,
      "outputs": []
    },
    {
      "cell_type": "code",
      "metadata": {
        "colab": {
          "base_uri": "https://localhost:8080/"
        },
        "id": "M3toETva7WzX",
        "outputId": "7c3588a9-cbc1-44f1-8431-a3439fbf13bd"
      },
      "source": [
        "betas = [ np.matrix('0.5 0.1 1.1')]\n",
        "betas[0]"
      ],
      "execution_count": null,
      "outputs": [
        {
          "output_type": "execute_result",
          "data": {
            "text/plain": [
              "matrix([[0.5, 0.1, 1.1]])"
            ]
          },
          "metadata": {},
          "execution_count": 21
        }
      ]
    },
    {
      "cell_type": "code",
      "metadata": {
        "colab": {
          "base_uri": "https://localhost:8080/",
          "height": 143
        },
        "id": "iNi6gCQxEqsK",
        "outputId": "5e9a856e-8740-4bb6-ba2d-52cf77c68dfd"
      },
      "source": [
        "pd.DataFrame(cov_mnl(sub_fact, 2, betas))"
      ],
      "execution_count": null,
      "outputs": [
        {
          "output_type": "execute_result",
          "data": {
            "text/plain": [
              "          0         1         2\n",
              "0  0.000009 -0.002320  0.000663\n",
              "1 -0.002320  0.834454 -0.593470\n",
              "2  0.000663 -0.593470  0.800610"
            ],
            "text/html": [
              "\n",
              "  <div id=\"df-a03fea07-3fc7-441c-b75d-82d7eae4c796\">\n",
              "    <div class=\"colab-df-container\">\n",
              "      <div>\n",
              "<style scoped>\n",
              "    .dataframe tbody tr th:only-of-type {\n",
              "        vertical-align: middle;\n",
              "    }\n",
              "\n",
              "    .dataframe tbody tr th {\n",
              "        vertical-align: top;\n",
              "    }\n",
              "\n",
              "    .dataframe thead th {\n",
              "        text-align: right;\n",
              "    }\n",
              "</style>\n",
              "<table border=\"1\" class=\"dataframe\">\n",
              "  <thead>\n",
              "    <tr style=\"text-align: right;\">\n",
              "      <th></th>\n",
              "      <th>0</th>\n",
              "      <th>1</th>\n",
              "      <th>2</th>\n",
              "    </tr>\n",
              "  </thead>\n",
              "  <tbody>\n",
              "    <tr>\n",
              "      <th>0</th>\n",
              "      <td>0.000009</td>\n",
              "      <td>-0.002320</td>\n",
              "      <td>0.000663</td>\n",
              "    </tr>\n",
              "    <tr>\n",
              "      <th>1</th>\n",
              "      <td>-0.002320</td>\n",
              "      <td>0.834454</td>\n",
              "      <td>-0.593470</td>\n",
              "    </tr>\n",
              "    <tr>\n",
              "      <th>2</th>\n",
              "      <td>0.000663</td>\n",
              "      <td>-0.593470</td>\n",
              "      <td>0.800610</td>\n",
              "    </tr>\n",
              "  </tbody>\n",
              "</table>\n",
              "</div>\n",
              "      <button class=\"colab-df-convert\" onclick=\"convertToInteractive('df-a03fea07-3fc7-441c-b75d-82d7eae4c796')\"\n",
              "              title=\"Convert this dataframe to an interactive table.\"\n",
              "              style=\"display:none;\">\n",
              "        \n",
              "  <svg xmlns=\"http://www.w3.org/2000/svg\" height=\"24px\"viewBox=\"0 0 24 24\"\n",
              "       width=\"24px\">\n",
              "    <path d=\"M0 0h24v24H0V0z\" fill=\"none\"/>\n",
              "    <path d=\"M18.56 5.44l.94 2.06.94-2.06 2.06-.94-2.06-.94-.94-2.06-.94 2.06-2.06.94zm-11 1L8.5 8.5l.94-2.06 2.06-.94-2.06-.94L8.5 2.5l-.94 2.06-2.06.94zm10 10l.94 2.06.94-2.06 2.06-.94-2.06-.94-.94-2.06-.94 2.06-2.06.94z\"/><path d=\"M17.41 7.96l-1.37-1.37c-.4-.4-.92-.59-1.43-.59-.52 0-1.04.2-1.43.59L10.3 9.45l-7.72 7.72c-.78.78-.78 2.05 0 2.83L4 21.41c.39.39.9.59 1.41.59.51 0 1.02-.2 1.41-.59l7.78-7.78 2.81-2.81c.8-.78.8-2.07 0-2.86zM5.41 20L4 18.59l7.72-7.72 1.47 1.35L5.41 20z\"/>\n",
              "  </svg>\n",
              "      </button>\n",
              "      \n",
              "  <style>\n",
              "    .colab-df-container {\n",
              "      display:flex;\n",
              "      flex-wrap:wrap;\n",
              "      gap: 12px;\n",
              "    }\n",
              "\n",
              "    .colab-df-convert {\n",
              "      background-color: #E8F0FE;\n",
              "      border: none;\n",
              "      border-radius: 50%;\n",
              "      cursor: pointer;\n",
              "      display: none;\n",
              "      fill: #1967D2;\n",
              "      height: 32px;\n",
              "      padding: 0 0 0 0;\n",
              "      width: 32px;\n",
              "    }\n",
              "\n",
              "    .colab-df-convert:hover {\n",
              "      background-color: #E2EBFA;\n",
              "      box-shadow: 0px 1px 2px rgba(60, 64, 67, 0.3), 0px 1px 3px 1px rgba(60, 64, 67, 0.15);\n",
              "      fill: #174EA6;\n",
              "    }\n",
              "\n",
              "    [theme=dark] .colab-df-convert {\n",
              "      background-color: #3B4455;\n",
              "      fill: #D2E3FC;\n",
              "    }\n",
              "\n",
              "    [theme=dark] .colab-df-convert:hover {\n",
              "      background-color: #434B5C;\n",
              "      box-shadow: 0px 1px 3px 1px rgba(0, 0, 0, 0.15);\n",
              "      filter: drop-shadow(0px 1px 2px rgba(0, 0, 0, 0.3));\n",
              "      fill: #FFFFFF;\n",
              "    }\n",
              "  </style>\n",
              "\n",
              "      <script>\n",
              "        const buttonEl =\n",
              "          document.querySelector('#df-a03fea07-3fc7-441c-b75d-82d7eae4c796 button.colab-df-convert');\n",
              "        buttonEl.style.display =\n",
              "          google.colab.kernel.accessAllowed ? 'block' : 'none';\n",
              "\n",
              "        async function convertToInteractive(key) {\n",
              "          const element = document.querySelector('#df-a03fea07-3fc7-441c-b75d-82d7eae4c796');\n",
              "          const dataTable =\n",
              "            await google.colab.kernel.invokeFunction('convertToInteractive',\n",
              "                                                     [key], {});\n",
              "          if (!dataTable) return;\n",
              "\n",
              "          const docLinkHtml = 'Like what you see? Visit the ' +\n",
              "            '<a target=\"_blank\" href=https://colab.research.google.com/notebooks/data_table.ipynb>data table notebook</a>'\n",
              "            + ' to learn more about interactive tables.';\n",
              "          element.innerHTML = '';\n",
              "          dataTable['output_type'] = 'display_data';\n",
              "          await google.colab.output.renderOutput(dataTable, element);\n",
              "          const docLink = document.createElement('div');\n",
              "          docLink.innerHTML = docLinkHtml;\n",
              "          element.appendChild(docLink);\n",
              "        }\n",
              "      </script>\n",
              "    </div>\n",
              "  </div>\n",
              "  "
            ]
          },
          "metadata": {},
          "execution_count": 22
        }
      ]
    },
    {
      "cell_type": "code",
      "metadata": {
        "id": "0y5YckmNFoWq"
      },
      "source": [
        "def deffic_mnl(X, J, betas):\n",
        "  covX = cov_mnl(X, J, betas)\n",
        "  return np.power( np.linalg.det(covX), 1 / (covX.shape[0] + 1) )"
      ],
      "execution_count": null,
      "outputs": []
    },
    {
      "cell_type": "code",
      "metadata": {
        "colab": {
          "base_uri": "https://localhost:8080/"
        },
        "id": "f9FZVpPLFtpk",
        "outputId": "bf0d5cfa-c7a6-4000-d0c1-501f6ab37faf"
      },
      "source": [
        "deffic_mnl(sub_fact, 2, betas)"
      ],
      "execution_count": null,
      "outputs": [
        {
          "output_type": "execute_result",
          "data": {
            "text/plain": [
              "0.015101961211840247"
            ]
          },
          "metadata": {},
          "execution_count": 24
        }
      ]
    },
    {
      "cell_type": "code",
      "metadata": {
        "colab": {
          "base_uri": "https://localhost:8080/"
        },
        "id": "pa0YZZR-F4mt",
        "outputId": "44d9edd5-05dc-4f0d-beef-d2924d43fa31"
      },
      "source": [
        "deffic_mnl(full_factorial, 2, betas)"
      ],
      "execution_count": null,
      "outputs": [
        {
          "output_type": "execute_result",
          "data": {
            "text/plain": [
              "0.001539231431536287"
            ]
          },
          "metadata": {},
          "execution_count": 25
        }
      ]
    },
    {
      "cell_type": "markdown",
      "metadata": {
        "id": "_4S08C4NKBMl"
      },
      "source": [
        "#Relationship to the principles of design of experiments\n",
        "\n",
        "Recall the four principles\n",
        "\n",
        "1. Level balance\n",
        "2. Orthogonality\n",
        "3. Minimal level overlap\n",
        "4. Utility balance\n",
        "\n",
        "\n",
        "These principles are all summarized in the D-efficiency, meaning that they are 'rules of thumb' to create designs with good efficiency. Nowadays we can just put the computer to work to find a good design, before that, we used to pick the design manually by following the principles... It is important to get an intuition on how it works.\n"
      ]
    },
    {
      "cell_type": "markdown",
      "metadata": {
        "id": "cQ1qdKzNGVlK"
      },
      "source": [
        "# Example: Level balance and overlap\n",
        "\n"
      ]
    },
    {
      "cell_type": "code",
      "metadata": {
        "colab": {
          "base_uri": "https://localhost:8080/"
        },
        "id": "kbVbA_dIGaIv",
        "outputId": "664e7df7-6dda-4330-e097-23420e90d444"
      },
      "source": [
        "np.random.seed(1234)\n",
        "sub_fact = np.array(full_factorial)[np.random.choice(full_factorial.shape[0], 20, replace=False), :]\n",
        "sub_fact"
      ],
      "execution_count": null,
      "outputs": [
        {
          "output_type": "execute_result",
          "data": {
            "text/plain": [
              "array([[ 800. ,    4.7,    1.8, 1000. ,    5.8,    1.8],\n",
              "       [1200. ,    4.7,    1.8, 1000. ,    4.7,    3.2],\n",
              "       [1000. ,    4.7,    3.2,  800. ,    5.8,    3.2],\n",
              "       [1000. ,    5.8,    3.2, 1000. ,    4.7,    1.8],\n",
              "       [1200. ,    4.7,    3.2, 1200. ,    4.7,    3.2],\n",
              "       [ 800. ,    5.8,    3.2, 1000. ,    4.7,    1.8],\n",
              "       [1200. ,    4.7,    3.2,  800. ,    5.8,    3.2],\n",
              "       [1200. ,    4.7,    1.8,  800. ,    5.8,    1.8],\n",
              "       [ 800. ,    5.8,    1.8,  800. ,    5.8,    3.2],\n",
              "       [ 800. ,    5.8,    3.2, 1000. ,    5.8,    3.2],\n",
              "       [1000. ,    4.7,    3.2, 1000. ,    5.8,    1.8],\n",
              "       [1000. ,    4.7,    1.8, 1200. ,    5.8,    1.8],\n",
              "       [1000. ,    4.7,    1.8,  800. ,    5.8,    3.2],\n",
              "       [ 800. ,    5.8,    1.8,  800. ,    4.7,    3.2],\n",
              "       [1000. ,    5.8,    1.8, 1000. ,    5.8,    3.2],\n",
              "       [ 800. ,    5.8,    3.2, 1000. ,    5.8,    1.8],\n",
              "       [1000. ,    5.8,    3.2,  800. ,    4.7,    3.2],\n",
              "       [ 800. ,    5.8,    3.2,  800. ,    4.7,    1.8],\n",
              "       [1200. ,    5.8,    3.2, 1000. ,    4.7,    3.2],\n",
              "       [ 800. ,    5.8,    1.8, 1200. ,    5.8,    3.2]])"
            ]
          },
          "metadata": {},
          "execution_count": 26
        }
      ]
    },
    {
      "cell_type": "markdown",
      "source": [
        "Pick unbalanced levels for attribute 1 (almost all 800)"
      ],
      "metadata": {
        "id": "USnT1gQFiJep"
      }
    },
    {
      "cell_type": "code",
      "metadata": {
        "id": "yTH-BHFAHG89"
      },
      "source": [
        "\n",
        "sub_fact = sub_fact[[ 0, 5, 8, 9, 13, 15,  17, 2],:]\n"
      ],
      "execution_count": null,
      "outputs": []
    },
    {
      "cell_type": "code",
      "metadata": {
        "colab": {
          "base_uri": "https://localhost:8080/"
        },
        "id": "WeqR0NsqHDq5",
        "outputId": "651722e8-b91b-4384-c7c1-995ec29bd0a7"
      },
      "source": [
        "sub_fact"
      ],
      "execution_count": null,
      "outputs": [
        {
          "output_type": "execute_result",
          "data": {
            "text/plain": [
              "array([[ 800. ,    4.7,    1.8, 1000. ,    5.8,    1.8],\n",
              "       [ 800. ,    5.8,    3.2, 1000. ,    4.7,    1.8],\n",
              "       [ 800. ,    5.8,    1.8,  800. ,    5.8,    3.2],\n",
              "       [ 800. ,    5.8,    3.2, 1000. ,    5.8,    3.2],\n",
              "       [ 800. ,    5.8,    1.8,  800. ,    4.7,    3.2],\n",
              "       [ 800. ,    5.8,    3.2, 1000. ,    5.8,    1.8],\n",
              "       [ 800. ,    5.8,    3.2,  800. ,    4.7,    1.8],\n",
              "       [1000. ,    4.7,    3.2,  800. ,    5.8,    3.2]])"
            ]
          },
          "metadata": {},
          "execution_count": 28
        }
      ]
    },
    {
      "cell_type": "code",
      "metadata": {
        "colab": {
          "base_uri": "https://localhost:8080/"
        },
        "id": "ovjGNMzzG6N1",
        "outputId": "5564e347-d587-42ad-a99a-dad15979c800"
      },
      "source": [
        "deffic_mnl(sub_fact, 2, betas)"
      ],
      "execution_count": null,
      "outputs": [
        {
          "output_type": "execute_result",
          "data": {
            "text/plain": [
              "0.025075612050753034"
            ]
          },
          "metadata": {},
          "execution_count": 29
        }
      ]
    },
    {
      "cell_type": "markdown",
      "metadata": {
        "id": "Fz9boXB3IpPl"
      },
      "source": [
        "Compare with random experiments of the same size (look at the largest efficiency in a random search of experiments of 8 rows).\n",
        "Almost all will be more efficient that our hand-picked unbalanced design."
      ]
    },
    {
      "cell_type": "code",
      "metadata": {
        "colab": {
          "base_uri": "https://localhost:8080/"
        },
        "id": "POBZbuxRIMYB",
        "outputId": "d7c9c22e-b8aa-48a2-c579-5456282d66a3"
      },
      "source": [
        "np.random.seed(1234)\n",
        "[deffic_mnl(np.array(full_factorial)[np.random.choice(full_factorial.shape[0], 8, replace=False), :], 2, betas) for i in range(20)]"
      ],
      "execution_count": null,
      "outputs": [
        {
          "output_type": "execute_result",
          "data": {
            "text/plain": [
              "[0.012616982133300486,\n",
              " 0.011695402568277412,\n",
              " 0.03184815359360849,\n",
              " 0.03509450126161441,\n",
              " 0.012031835107409962,\n",
              " 0.012735934085607309,\n",
              " 0.012301612107096209,\n",
              " 0.024778969051915976,\n",
              " 0.012241126754476505,\n",
              " 0.015347405493874052,\n",
              " 0.016536761463146362,\n",
              " 0.015980132366145514,\n",
              " 0.017566893133088412,\n",
              " 0.008988701322920645,\n",
              " 0.013424721792247204,\n",
              " 0.02550199312206731,\n",
              " 0.05737907706040104,\n",
              " 0.016783149094670952,\n",
              " 0.011277858292034334,\n",
              " 0.019826977666191882]"
            ]
          },
          "metadata": {},
          "execution_count": 37
        }
      ]
    },
    {
      "cell_type": "markdown",
      "source": [
        "#Orthogonality\n",
        "\n",
        "We pick rows that cannot tell attribute\n",
        "(column) 2 vs 3."
      ],
      "metadata": {
        "id": "CSLCcg4Asxgj"
      }
    },
    {
      "cell_type": "code",
      "source": [
        "np.random.seed(1234)\n",
        "sub_fact = np.array(full_factorial)[np.random.choice(full_factorial.shape[0], 20, replace=False), :]\n",
        "sub_fact\n",
        "sub_fact_orth = sub_fact[[ 0, 1, 3, 7, 9, 11, 12, 15],:]\n",
        "sub_fact_orth"
      ],
      "metadata": {
        "colab": {
          "base_uri": "https://localhost:8080/"
        },
        "id": "xRmtbwx0sU2W",
        "outputId": "3dd5c8db-dc2c-4f76-9ff6-05c89723dc6d"
      },
      "execution_count": null,
      "outputs": [
        {
          "output_type": "execute_result",
          "data": {
            "text/plain": [
              "array([[ 800. ,    4.7,    1.8, 1000. ,    5.8,    1.8],\n",
              "       [1200. ,    4.7,    1.8, 1000. ,    4.7,    3.2],\n",
              "       [1000. ,    5.8,    3.2, 1000. ,    4.7,    1.8],\n",
              "       [1200. ,    4.7,    1.8,  800. ,    5.8,    1.8],\n",
              "       [ 800. ,    5.8,    3.2, 1000. ,    5.8,    3.2],\n",
              "       [1000. ,    4.7,    1.8, 1200. ,    5.8,    1.8],\n",
              "       [1000. ,    4.7,    1.8,  800. ,    5.8,    3.2],\n",
              "       [ 800. ,    5.8,    3.2, 1000. ,    5.8,    1.8]])"
            ]
          },
          "metadata": {},
          "execution_count": 50
        }
      ]
    },
    {
      "cell_type": "code",
      "source": [
        "\n",
        "deffic_mnl(sub_fact_orth, 2, betas)"
      ],
      "metadata": {
        "colab": {
          "base_uri": "https://localhost:8080/"
        },
        "id": "OqZ-QfSjuPxg",
        "outputId": "70733a53-2618-40d1-bce7-7bf4962f1c98"
      },
      "execution_count": null,
      "outputs": [
        {
          "output_type": "execute_result",
          "data": {
            "text/plain": [
              "0.028968245815118584"
            ]
          },
          "metadata": {},
          "execution_count": 51
        }
      ]
    },
    {
      "cell_type": "markdown",
      "metadata": {
        "id": "nfOBc4Ly4ohV"
      },
      "source": [
        "# The workflow\n",
        "\n",
        "1) Define attributes and levels\n",
        "\n",
        "\n",
        "2) Pilot Study to get some tentative Betas\n",
        "\n",
        "3) Design of the Experiment\n",
        "\n",
        "4) Design the Survey\n",
        "\n",
        "5) Conduct the survey and data analysis"
      ]
    },
    {
      "cell_type": "markdown",
      "metadata": {
        "id": "4eV_Jtea4qRq"
      },
      "source": [
        "# Recommendations\n",
        "\n",
        "\n",
        "* **Which variables should we choose?**\n",
        " Create an exhaustive list of attributes, the reduce it to a number between 3 to 7 by discarding some and merging others (important combinations of a pair of attributes). For example, screen size and speed can be merged if these do not really vary independently (i.i there are no small fast smartphones), just create a new categorical attribute with a few levels for the realistic combinations.\n",
        "\n",
        "* **How do we choose the levels?**\n",
        " Try a large range and pick the best subset using a computer.\n",
        "\n",
        "* **How many alternatives**\n",
        " From 2 to 3 alternatives can be handled by people before getting into decision fatigue."
      ]
    }
  ]
}