{
  "cells": [
    {
      "cell_type": "markdown",
      "metadata": {
        "id": "rxbeRIOOkIRc"
      },
      "source": [
        "# Tutorial 5: Nested logit\n",
        "\n",
        "We will work on the dataset of 'recreational fishing' mode. The dataset comes from a research paper that studies different effects of income on utility. So they use discrete choice models to analyze different theoretical ideas of how income affects utility, this is if linearly (the higher the income, the more utility at a constant rate) or nonlinear (for example, the utility we derive from something slows down with the income)\n",
        "\n",
        "The reference study, including a more detailed description of the dataset can be found [here](https://lib.dr.iastate.edu/cgi/viewcontent.cgi?article=1017&context=econ_las_pubs)\n",
        "\n",
        "## Description of the dataset\n",
        "\n",
        "Each row represents a different customer, customers are 'independent' of each other.\n",
        "\n",
        "The variables in the dataset are:\n",
        "\n",
        "**mode**: a categorical variable indicating the fishing model selected for the trip. It is encoded in numbers, with the code:\n",
        " 1. Beach\n",
        " 2. Pier\n",
        " 3. Private boat\n",
        " 4. Charter boat\n",
        "\n",
        "**price_x**:  Cost of the fishing mode, variable in dollars. Where x stands for one of the alternatives, e.g. price_beach is the cost of the fishing from the beach in one fishing trip.\n",
        "\n",
        "**catch_x**: Catch rate, in catches per hour. Where x stands for one of the alternatives, e.g. catch_beach is the catch rate of the beach alternative.\n",
        "\n",
        "**income**: Monthly income of the recreational fisher, in dollars.\n"
      ]
    },
    {
      "cell_type": "markdown",
      "metadata": {
        "id": "vb9SIunnASNB"
      },
      "source": [
        "---\n",
        "---\n",
        "\n",
        "# Preparing the environment\n",
        "*The preparation and dataset loading code is given to the students*"
      ]
    },
    {
      "cell_type": "markdown",
      "metadata": {
        "id": "1z0X9xZ8rChf"
      },
      "source": [
        "Load the packages, feel free to change the names."
      ]
    },
    {
      "cell_type": "code",
      "execution_count": 1,
      "metadata": {
        "id": "apVB-TMkrFnb"
      },
      "outputs": [],
      "source": [
        "import pandas  as pd\n",
        "import numpy as np\n",
        "import matplotlib.pyplot as plt\n",
        "\n",
        "import biogeme.database as db\n",
        "import biogeme.biogeme as bio\n",
        "import biogeme.models as models\n",
        "import biogeme.expressions as exp\n",
        "import biogeme.tools as tools"
      ]
    },
    {
      "cell_type": "markdown",
      "metadata": {
        "id": "Mgv0hV1YAieW"
      },
      "source": [
        "# Load the dataset"
      ]
    },
    {
      "cell_type": "code",
      "execution_count": 2,
      "metadata": {
        "id": "g1Ykn5Ytr7Rs"
      },
      "outputs": [],
      "source": [
        "path = 'fishing.csv'\n",
        "fish_pd = pd.read_csv(path)"
      ]
    },
    {
      "cell_type": "markdown",
      "metadata": {
        "id": "ZY55r3Gesb3t"
      },
      "source": [
        "A simple look at the dataset."
      ]
    },
    {
      "cell_type": "code",
      "execution_count": 3,
      "metadata": {
        "colab": {
          "base_uri": "https://localhost:8080/",
          "height": 206
        },
        "id": "ldkmnMhssemT",
        "outputId": "6f0d7837-9a65-49e3-bee5-ceadc9670bc7"
      },
      "outputs": [
        {
          "data": {
            "text/html": [
              "<div>\n",
              "<style scoped>\n",
              "    .dataframe tbody tr th:only-of-type {\n",
              "        vertical-align: middle;\n",
              "    }\n",
              "\n",
              "    .dataframe tbody tr th {\n",
              "        vertical-align: top;\n",
              "    }\n",
              "\n",
              "    .dataframe thead th {\n",
              "        text-align: right;\n",
              "    }\n",
              "</style>\n",
              "<table border=\"1\" class=\"dataframe\">\n",
              "  <thead>\n",
              "    <tr style=\"text-align: right;\">\n",
              "      <th></th>\n",
              "      <th>mode</th>\n",
              "      <th>price_beach</th>\n",
              "      <th>price_pier</th>\n",
              "      <th>price_boat</th>\n",
              "      <th>price_charter</th>\n",
              "      <th>catch_beach</th>\n",
              "      <th>catch_pier</th>\n",
              "      <th>catch_boat</th>\n",
              "      <th>catch_charter</th>\n",
              "      <th>income</th>\n",
              "    </tr>\n",
              "  </thead>\n",
              "  <tbody>\n",
              "    <tr>\n",
              "      <th>0</th>\n",
              "      <td>4</td>\n",
              "      <td>157.930</td>\n",
              "      <td>157.930</td>\n",
              "      <td>157.930</td>\n",
              "      <td>182.930</td>\n",
              "      <td>0.0678</td>\n",
              "      <td>0.0503</td>\n",
              "      <td>0.2601</td>\n",
              "      <td>0.5391</td>\n",
              "      <td>7083.3317</td>\n",
              "    </tr>\n",
              "    <tr>\n",
              "      <th>1</th>\n",
              "      <td>4</td>\n",
              "      <td>15.114</td>\n",
              "      <td>15.114</td>\n",
              "      <td>10.534</td>\n",
              "      <td>34.534</td>\n",
              "      <td>0.1049</td>\n",
              "      <td>0.0451</td>\n",
              "      <td>0.1574</td>\n",
              "      <td>0.4671</td>\n",
              "      <td>1249.9998</td>\n",
              "    </tr>\n",
              "    <tr>\n",
              "      <th>2</th>\n",
              "      <td>3</td>\n",
              "      <td>161.874</td>\n",
              "      <td>161.874</td>\n",
              "      <td>24.334</td>\n",
              "      <td>59.334</td>\n",
              "      <td>0.5333</td>\n",
              "      <td>0.4522</td>\n",
              "      <td>0.2413</td>\n",
              "      <td>1.0266</td>\n",
              "      <td>3749.9999</td>\n",
              "    </tr>\n",
              "    <tr>\n",
              "      <th>3</th>\n",
              "      <td>2</td>\n",
              "      <td>15.134</td>\n",
              "      <td>15.134</td>\n",
              "      <td>55.930</td>\n",
              "      <td>84.930</td>\n",
              "      <td>0.0678</td>\n",
              "      <td>0.0789</td>\n",
              "      <td>0.1643</td>\n",
              "      <td>0.5391</td>\n",
              "      <td>2083.3332</td>\n",
              "    </tr>\n",
              "    <tr>\n",
              "      <th>4</th>\n",
              "      <td>3</td>\n",
              "      <td>106.930</td>\n",
              "      <td>106.930</td>\n",
              "      <td>41.514</td>\n",
              "      <td>71.014</td>\n",
              "      <td>0.0678</td>\n",
              "      <td>0.0503</td>\n",
              "      <td>0.1082</td>\n",
              "      <td>0.3240</td>\n",
              "      <td>4583.3320</td>\n",
              "    </tr>\n",
              "  </tbody>\n",
              "</table>\n",
              "</div>"
            ],
            "text/plain": [
              "   mode  price_beach  price_pier  price_boat  price_charter  catch_beach  \\\n",
              "0     4      157.930     157.930     157.930        182.930       0.0678   \n",
              "1     4       15.114      15.114      10.534         34.534       0.1049   \n",
              "2     3      161.874     161.874      24.334         59.334       0.5333   \n",
              "3     2       15.134      15.134      55.930         84.930       0.0678   \n",
              "4     3      106.930     106.930      41.514         71.014       0.0678   \n",
              "\n",
              "   catch_pier  catch_boat  catch_charter     income  \n",
              "0      0.0503      0.2601         0.5391  7083.3317  \n",
              "1      0.0451      0.1574         0.4671  1249.9998  \n",
              "2      0.4522      0.2413         1.0266  3749.9999  \n",
              "3      0.0789      0.1643         0.5391  2083.3332  \n",
              "4      0.0503      0.1082         0.3240  4583.3320  "
            ]
          },
          "execution_count": 3,
          "metadata": {},
          "output_type": "execute_result"
        }
      ],
      "source": [
        "fish_pd.head(5)"
      ]
    },
    {
      "cell_type": "markdown",
      "metadata": {
        "id": "YEJvXwpekbvd"
      },
      "source": [
        "---\n",
        "---\n",
        "\n",
        "# Auxiliary functions"
      ]
    },
    {
      "cell_type": "markdown",
      "metadata": {
        "id": "CKyKA_dj-IVp"
      },
      "source": [
        "The first function takes the dictionary of utilities, a pandas dataframe, and the name of the variable that contains the variable with the results of the choice. It returns the biogeme object with the model and the estimated 'results' object (the one we get the values, likelihoods, etc.)\n",
        "We have added the dictionary with the utilities to the biogeme object, in case we use it later."
      ]
    },
    {
      "cell_type": "code",
      "execution_count": 4,
      "metadata": {
        "id": "0OQ1ls2Bi_ot"
      },
      "outputs": [],
      "source": [
        "def qbus_estimate_bgm(V, pd_df, tgtvar_name, modelname='bgmdef'):\n",
        " av_auto = V.copy()\n",
        " for key, value in av_auto.items():\n",
        "   av_auto[key] = 1\n",
        " bgm_db = db.Database(modelname + '_db', pd_df)\n",
        " globals().update(bgm_db.variables)\n",
        " logprob = models.loglogit (V , av_auto , bgm_db.variables[tgtvar_name] )\n",
        " bgm_model = bio.BIOGEME ( bgm_db, logprob )\n",
        " bgm_model.utility_dic = V.copy()\n",
        " return bgm_model, bgm_model.estimate()"
      ]
    },
    {
      "cell_type": "markdown",
      "metadata": {
        "id": "dM2f5-0w-_4b"
      },
      "source": [
        "The next function will calculate the predictions for a given biogeme object that was estimated with `qbus_estimate_bgm`. The output is the array with the choice probabilities. From the choice probabilities, this can be used to calculate accuracies, confusion matrices and the output of what-if scenarios."
      ]
    },
    {
      "cell_type": "code",
      "execution_count": 5,
      "metadata": {
        "id": "O4Iau_IHHCzc"
      },
      "outputs": [],
      "source": [
        "def qbus_simulate_bgm(qbus_bgm_model, betas, pred_pd_df):\n",
        "  av_auto = qbus_bgm_model.utility_dic.copy()\n",
        "  for key, value in av_auto.items():\n",
        "   av_auto[key] = 1\n",
        "\n",
        "  targets = qbus_bgm_model.utility_dic.copy()\n",
        "  for key, value in targets.items():\n",
        "   targets[key] = models.logit(qbus_bgm_model.utility_dic, av_auto, key)\n",
        "\n",
        "  bgm_db = db.Database('simul', pred_pd_df)\n",
        "  globals().update(bgm_db.variables)\n",
        "  bgm_pred_model = bio.BIOGEME(bgm_db, targets)\n",
        "  simulatedValues = bgm_pred_model.simulate(betas)\n",
        "  return simulatedValues"
      ]
    },
    {
      "cell_type": "markdown",
      "metadata": {
        "id": "AnBLUPi-DjU7"
      },
      "source": [
        "The function `qbus_calc_accu_confusion` calculates the accuracies given the choice probability predictions a pandas dataset and the specification of the name that contains the actual choices in the input dataset."
      ]
    },
    {
      "cell_type": "code",
      "execution_count": 6,
      "metadata": {
        "id": "m9l5cDGkzsfJ"
      },
      "outputs": [],
      "source": [
        "def qbus_calc_accu_confusion(sim_probs, pd_df, choice_var):\n",
        "  which_max = sim_probs.idxmax(axis=1)\n",
        "  data = {'y_Actual':   pd_df[choice_var],\n",
        "          'y_Predicted': which_max\n",
        "        }\n",
        "\n",
        "  df = pd.DataFrame(data, columns=['y_Actual','y_Predicted'])\n",
        "  confusion_matrix = pd.crosstab(df['y_Actual'], df['y_Predicted'], rownames=['Actual'], colnames=['Predicted'])\n",
        "  accu = np.mean(which_max == pd_df[choice_var])\n",
        "  return accu, confusion_matrix"
      ]
    },
    {
      "cell_type": "markdown",
      "metadata": {
        "id": "dYfxQpYLDzgm"
      },
      "source": [
        "The next function calculates the likelihood ratio test having to write a bit less code that the default biogeme function. The arguments are the results objects of the two models to be compared. The first is the more complex and the second is the reference model (**the order is important!**). The third argument is the significance level for the test."
      ]
    },
    {
      "cell_type": "code",
      "execution_count": 7,
      "metadata": {
        "id": "GUNVxPmK3rF2"
      },
      "outputs": [],
      "source": [
        "def qbus_likeli_ratio_test_bgm(results_complex, results_reference, signif_level):\n",
        "  return tools.likelihood_ratio_test( (results_complex.data.logLike, results_complex.data.nparam),\n",
        "                                     (results_reference.data.logLike, results_reference.data.nparam), signif_level)"
      ]
    },
    {
      "cell_type": "markdown",
      "metadata": {
        "id": "5b7TaMhCEZIZ"
      },
      "source": [
        "The next function just updates the globals so we can use it"
      ]
    },
    {
      "cell_type": "code",
      "execution_count": 8,
      "metadata": {
        "id": "PfHXGoLS1yHX"
      },
      "outputs": [],
      "source": [
        "def qbus_update_globals_bgm(pd_df):\n",
        "   globals().update(db.Database('tmp_bg_bgm_for_glob', pd_df).variables)"
      ]
    },
    {
      "cell_type": "markdown",
      "metadata": {
        "id": "Ya_1zth9vEX1"
      },
      "source": [
        "---\n",
        "---\n",
        "\n",
        "# Estimating the models from previous tutorial, just to get them as reference"
      ]
    },
    {
      "cell_type": "code",
      "execution_count": 9,
      "metadata": {
        "id": "SeRgbCnbG4aD"
      },
      "outputs": [],
      "source": [
        "ASC_beach = exp.Beta ( 'ASC_beach' ,0, None , None ,0)\n",
        "ASC_pier = exp.Beta ( 'ASC_pier' ,0, None , None ,0)\n",
        "ASC_boat = exp.Beta ( 'ASC_boat' ,0, None , None ,0)\n",
        "ASC_charter = exp.Beta ( 'ASC_charter' ,0, None , None ,1)\n",
        "B_price = exp.Beta ( 'B_price' ,0, None , None ,0)\n",
        "B_catch = exp.Beta ( 'B_catch' ,0, None , None ,0)"
      ]
    },
    {
      "cell_type": "markdown",
      "metadata": {
        "id": "-TWj2oDaHE0R"
      },
      "source": [
        "We need to update the globals of the python environment so we can later define the utilities directly."
      ]
    },
    {
      "cell_type": "code",
      "execution_count": 10,
      "metadata": {
        "id": "XDPllyLIijIy"
      },
      "outputs": [],
      "source": [
        "qbus_update_globals_bgm(fish_pd)"
      ]
    },
    {
      "cell_type": "markdown",
      "metadata": {
        "id": "96Ap3k2hJEDM"
      },
      "source": [
        "We define the observed utilities functional forms and create the dictionary that groups them together and assign each one to the number that identifies each alternative in the dataset."
      ]
    },
    {
      "cell_type": "code",
      "execution_count": 11,
      "metadata": {
        "id": "HG_YkIVy2NbS"
      },
      "outputs": [],
      "source": [
        "V_beach = ASC_beach + B_price*price_beach + B_catch*catch_beach\n",
        "V_pier = ASC_pier + B_price*price_pier + B_catch*catch_pier\n",
        "V_boat = ASC_boat + B_price*price_boat + B_catch*catch_boat\n",
        "V_charter = ASC_charter + B_price*price_charter + B_catch*catch_charter\n",
        "\n",
        "V_base = {1: V_beach,\n",
        "     2: V_pier,\n",
        "     3: V_boat,\n",
        "     4: V_charter}"
      ]
    },
    {
      "cell_type": "markdown",
      "metadata": {
        "id": "N-2rehflJkgO"
      },
      "source": [
        "The estimate the model using our auxiliary function. We pass the utilities dictionary, the pandas dataframe with the data and the name of the variable in the dataframe that contains the choices. The fourth argument is optional and indicates the name for the model.\n",
        "The output will be two objects, the biogeme object and the results object."
      ]
    },
    {
      "cell_type": "code",
      "execution_count": 12,
      "metadata": {
        "colab": {
          "base_uri": "https://localhost:8080/"
        },
        "id": "_J5poICol34Q",
        "outputId": "99c04dea-b8b2-4f39-b471-6f0f372c1398"
      },
      "outputs": [
        {
          "name": "stderr",
          "output_type": "stream",
          "text": [
            "File biogeme.toml has been created\n",
            "You have not defined a name for the model. The output files are named from the model name. The default is [biogemeModelDefaultName]\n"
          ]
        }
      ],
      "source": [
        "model_base, results_base = qbus_estimate_bgm(V_base, fish_pd, 'mode', 'fish')"
      ]
    },
    {
      "cell_type": "code",
      "execution_count": 13,
      "metadata": {
        "colab": {
          "base_uri": "https://localhost:8080/",
          "height": 206
        },
        "id": "_qu_aguema04",
        "outputId": "0afc00cf-309f-4917-c059-6a0297e337ae"
      },
      "outputs": [
        {
          "data": {
            "text/html": [
              "<div>\n",
              "<style scoped>\n",
              "    .dataframe tbody tr th:only-of-type {\n",
              "        vertical-align: middle;\n",
              "    }\n",
              "\n",
              "    .dataframe tbody tr th {\n",
              "        vertical-align: top;\n",
              "    }\n",
              "\n",
              "    .dataframe thead th {\n",
              "        text-align: right;\n",
              "    }\n",
              "</style>\n",
              "<table border=\"1\" class=\"dataframe\">\n",
              "  <thead>\n",
              "    <tr style=\"text-align: right;\">\n",
              "      <th></th>\n",
              "      <th>Value</th>\n",
              "      <th>Rob. Std err</th>\n",
              "      <th>Rob. t-test</th>\n",
              "      <th>Rob. p-value</th>\n",
              "    </tr>\n",
              "  </thead>\n",
              "  <tbody>\n",
              "    <tr>\n",
              "      <th>ASC_beach</th>\n",
              "      <td>-1.498888</td>\n",
              "      <td>0.129703</td>\n",
              "      <td>-11.556272</td>\n",
              "      <td>0.000000e+00</td>\n",
              "    </tr>\n",
              "    <tr>\n",
              "      <th>ASC_boat</th>\n",
              "      <td>-0.627513</td>\n",
              "      <td>0.116828</td>\n",
              "      <td>-5.371252</td>\n",
              "      <td>7.819206e-08</td>\n",
              "    </tr>\n",
              "    <tr>\n",
              "      <th>ASC_pier</th>\n",
              "      <td>-1.191833</td>\n",
              "      <td>0.128328</td>\n",
              "      <td>-9.287410</td>\n",
              "      <td>0.000000e+00</td>\n",
              "    </tr>\n",
              "    <tr>\n",
              "      <th>B_catch</th>\n",
              "      <td>0.377169</td>\n",
              "      <td>0.119247</td>\n",
              "      <td>3.162911</td>\n",
              "      <td>1.561999e-03</td>\n",
              "    </tr>\n",
              "    <tr>\n",
              "      <th>B_price</th>\n",
              "      <td>-0.024790</td>\n",
              "      <td>0.002329</td>\n",
              "      <td>-10.645098</td>\n",
              "      <td>0.000000e+00</td>\n",
              "    </tr>\n",
              "  </tbody>\n",
              "</table>\n",
              "</div>"
            ],
            "text/plain": [
              "              Value  Rob. Std err  Rob. t-test  Rob. p-value\n",
              "ASC_beach -1.498888      0.129703   -11.556272  0.000000e+00\n",
              "ASC_boat  -0.627513      0.116828    -5.371252  7.819206e-08\n",
              "ASC_pier  -1.191833      0.128328    -9.287410  0.000000e+00\n",
              "B_catch    0.377169      0.119247     3.162911  1.561999e-03\n",
              "B_price   -0.024790      0.002329   -10.645098  0.000000e+00"
            ]
          },
          "execution_count": 13,
          "metadata": {},
          "output_type": "execute_result"
        }
      ],
      "source": [
        "results_base.getEstimatedParameters()"
      ]
    },
    {
      "cell_type": "markdown",
      "metadata": {
        "id": "va6FLcr4nOCi"
      },
      "source": [
        "---\n",
        "---\n",
        "# Per alternative parameters and log transform"
      ]
    },
    {
      "cell_type": "code",
      "execution_count": 14,
      "metadata": {
        "colab": {
          "base_uri": "https://localhost:8080/"
        },
        "id": "Jq5fH38GG-iP",
        "outputId": "6e1bbcc8-ed85-4b10-ff36-756c984c26a5"
      },
      "outputs": [
        {
          "data": {
            "text/plain": [
              "count    1182.000000\n",
              "mean        8.130302\n",
              "std         0.659004\n",
              "min         6.032287\n",
              "25%         7.641724\n",
              "50%         8.229511\n",
              "75%         8.597236\n",
              "max         9.433484\n",
              "Name: log_income, dtype: float64"
            ]
          },
          "execution_count": 14,
          "metadata": {},
          "output_type": "execute_result"
        }
      ],
      "source": [
        "fish_adv = fish_pd.copy()\n",
        "fish_adv['log_income'] = np.log(fish_adv['income'])\n",
        "fish_adv['log_income'].describe()"
      ]
    },
    {
      "cell_type": "code",
      "execution_count": 15,
      "metadata": {
        "id": "it8p_SZqovQx"
      },
      "outputs": [],
      "source": [
        "B_price_beach = exp.Beta ( 'B_price_beach' ,0, None , None ,0)\n",
        "B_price_pier = exp.Beta ( 'B_price_pier' ,0, None , None ,0)\n",
        "B_price_boat = exp.Beta ( 'B_price_boat' ,0, None , None ,0)\n",
        "B_price_charter = exp.Beta ( 'B_price_charter' ,0, None , None ,0)\n",
        "\n",
        "B_catch_beach = exp.Beta ( 'B_catch_beach' ,0, None , None ,0)\n",
        "B_catch_pier = exp.Beta ( 'B_catch_pier' ,0, None , None ,0)\n",
        "B_catch_boat = exp.Beta ( 'B_catch_boat' ,0, None , None ,0)\n",
        "B_catch_charter = exp.Beta ( 'B_catch_charter' ,0, None , None ,0)\n",
        "\n",
        "B_log_income_beach = exp.Beta ( 'B_log_income_beach' ,0, None , None ,0)\n",
        "B_log_income_pier = exp.Beta ( 'B_log_income_pier' ,0, None , None ,0)\n",
        "B_log_income_boat = exp.Beta ( 'B_log_income_boat' ,0, None , None ,0)\n",
        "B_log_income_charter = exp.Beta ( 'B_log_income_charter' ,0, None , None ,0)\n"
      ]
    },
    {
      "cell_type": "code",
      "execution_count": 16,
      "metadata": {
        "id": "9WV9j2YSlePZ"
      },
      "outputs": [],
      "source": [
        "qbus_update_globals_bgm(fish_adv)"
      ]
    },
    {
      "cell_type": "code",
      "execution_count": 17,
      "metadata": {
        "id": "ApBCHkE2le9o"
      },
      "outputs": [],
      "source": [
        "\n",
        "V_beach_adv = ASC_beach + B_price_beach*price_beach + B_catch_beach*catch_beach + B_log_income_beach*log_income\n",
        "V_pier_adv = ASC_pier + B_price_pier*price_pier + B_catch_pier*catch_pier + B_log_income_pier*log_income\n",
        "V_boat_adv = ASC_boat + B_price_boat*price_boat + B_catch_boat*catch_boat + B_log_income_boat*log_income\n",
        "V_charter_adv = ASC_charter + B_price_charter*price_charter + B_catch_charter*catch_charter + B_log_income_charter*log_income\n",
        "\n",
        "V_adv = {1: V_beach_adv,\n",
        "     2: V_pier_adv,\n",
        "     3: V_boat_adv,\n",
        "     4: V_charter_adv}"
      ]
    },
    {
      "cell_type": "code",
      "execution_count": 18,
      "metadata": {
        "colab": {
          "base_uri": "https://localhost:8080/"
        },
        "id": "AtF4GJ1Urdv4",
        "outputId": "fcefbe0b-8798-4a0b-f08e-8ecbb5d8684f"
      },
      "outputs": [
        {
          "name": "stderr",
          "output_type": "stream",
          "text": [
            "You have not defined a name for the model. The output files are named from the model name. The default is [biogemeModelDefaultName]\n"
          ]
        }
      ],
      "source": [
        "model_adv, results_adv = qbus_estimate_bgm(V_adv, fish_adv, 'mode', 'fish_adv')"
      ]
    },
    {
      "cell_type": "code",
      "execution_count": 19,
      "metadata": {
        "colab": {
          "base_uri": "https://localhost:8080/",
          "height": 520
        },
        "id": "DExVqSNrruTY",
        "outputId": "e9876e15-1700-41fa-ae98-8ee839b4b08f"
      },
      "outputs": [
        {
          "data": {
            "text/html": [
              "<div>\n",
              "<style scoped>\n",
              "    .dataframe tbody tr th:only-of-type {\n",
              "        vertical-align: middle;\n",
              "    }\n",
              "\n",
              "    .dataframe tbody tr th {\n",
              "        vertical-align: top;\n",
              "    }\n",
              "\n",
              "    .dataframe thead th {\n",
              "        text-align: right;\n",
              "    }\n",
              "</style>\n",
              "<table border=\"1\" class=\"dataframe\">\n",
              "  <thead>\n",
              "    <tr style=\"text-align: right;\">\n",
              "      <th></th>\n",
              "      <th>Value</th>\n",
              "      <th>Rob. Std err</th>\n",
              "      <th>Rob. t-test</th>\n",
              "      <th>Rob. p-value</th>\n",
              "    </tr>\n",
              "  </thead>\n",
              "  <tbody>\n",
              "    <tr>\n",
              "      <th>ASC_beach</th>\n",
              "      <td>-7.170295</td>\n",
              "      <td>1.626086</td>\n",
              "      <td>-4.409541</td>\n",
              "      <td>1.035897e-05</td>\n",
              "    </tr>\n",
              "    <tr>\n",
              "      <th>ASC_boat</th>\n",
              "      <td>-4.336817</td>\n",
              "      <td>1.012187</td>\n",
              "      <td>-4.284603</td>\n",
              "      <td>1.830659e-05</td>\n",
              "    </tr>\n",
              "    <tr>\n",
              "      <th>ASC_pier</th>\n",
              "      <td>-2.834089</td>\n",
              "      <td>1.315069</td>\n",
              "      <td>-2.155088</td>\n",
              "      <td>3.115495e-02</td>\n",
              "    </tr>\n",
              "    <tr>\n",
              "      <th>B_catch_beach</th>\n",
              "      <td>4.906081</td>\n",
              "      <td>0.865570</td>\n",
              "      <td>5.668038</td>\n",
              "      <td>1.444422e-08</td>\n",
              "    </tr>\n",
              "    <tr>\n",
              "      <th>B_catch_boat</th>\n",
              "      <td>2.463727</td>\n",
              "      <td>0.454617</td>\n",
              "      <td>5.419347</td>\n",
              "      <td>5.981720e-08</td>\n",
              "    </tr>\n",
              "    <tr>\n",
              "      <th>B_catch_charter</th>\n",
              "      <td>0.759834</td>\n",
              "      <td>0.138577</td>\n",
              "      <td>5.483103</td>\n",
              "      <td>4.179287e-08</td>\n",
              "    </tr>\n",
              "    <tr>\n",
              "      <th>B_catch_pier</th>\n",
              "      <td>4.796395</td>\n",
              "      <td>0.912223</td>\n",
              "      <td>5.257921</td>\n",
              "      <td>1.456929e-07</td>\n",
              "    </tr>\n",
              "    <tr>\n",
              "      <th>B_log_income_beach</th>\n",
              "      <td>0.383675</td>\n",
              "      <td>0.134641</td>\n",
              "      <td>2.849614</td>\n",
              "      <td>4.377237e-03</td>\n",
              "    </tr>\n",
              "    <tr>\n",
              "      <th>B_log_income_boat</th>\n",
              "      <td>0.089255</td>\n",
              "      <td>0.106887</td>\n",
              "      <td>0.835043</td>\n",
              "      <td>4.036936e-01</td>\n",
              "    </tr>\n",
              "    <tr>\n",
              "      <th>B_log_income_charter</th>\n",
              "      <td>-0.398277</td>\n",
              "      <td>0.090827</td>\n",
              "      <td>-4.385019</td>\n",
              "      <td>1.159757e-05</td>\n",
              "    </tr>\n",
              "    <tr>\n",
              "      <th>B_log_income_pier</th>\n",
              "      <td>-0.074654</td>\n",
              "      <td>0.109703</td>\n",
              "      <td>-0.680505</td>\n",
              "      <td>4.961847e-01</td>\n",
              "    </tr>\n",
              "    <tr>\n",
              "      <th>B_price_beach</th>\n",
              "      <td>-0.037732</td>\n",
              "      <td>0.004059</td>\n",
              "      <td>-9.296267</td>\n",
              "      <td>0.000000e+00</td>\n",
              "    </tr>\n",
              "    <tr>\n",
              "      <th>B_price_boat</th>\n",
              "      <td>-0.020930</td>\n",
              "      <td>0.002762</td>\n",
              "      <td>-7.576970</td>\n",
              "      <td>3.530509e-14</td>\n",
              "    </tr>\n",
              "    <tr>\n",
              "      <th>B_price_charter</th>\n",
              "      <td>-0.017024</td>\n",
              "      <td>0.002282</td>\n",
              "      <td>-7.459068</td>\n",
              "      <td>8.704149e-14</td>\n",
              "    </tr>\n",
              "    <tr>\n",
              "      <th>B_price_pier</th>\n",
              "      <td>-0.039254</td>\n",
              "      <td>0.003772</td>\n",
              "      <td>-10.407788</td>\n",
              "      <td>0.000000e+00</td>\n",
              "    </tr>\n",
              "  </tbody>\n",
              "</table>\n",
              "</div>"
            ],
            "text/plain": [
              "                         Value  Rob. Std err  Rob. t-test  Rob. p-value\n",
              "ASC_beach            -7.170295      1.626086    -4.409541  1.035897e-05\n",
              "ASC_boat             -4.336817      1.012187    -4.284603  1.830659e-05\n",
              "ASC_pier             -2.834089      1.315069    -2.155088  3.115495e-02\n",
              "B_catch_beach         4.906081      0.865570     5.668038  1.444422e-08\n",
              "B_catch_boat          2.463727      0.454617     5.419347  5.981720e-08\n",
              "B_catch_charter       0.759834      0.138577     5.483103  4.179287e-08\n",
              "B_catch_pier          4.796395      0.912223     5.257921  1.456929e-07\n",
              "B_log_income_beach    0.383675      0.134641     2.849614  4.377237e-03\n",
              "B_log_income_boat     0.089255      0.106887     0.835043  4.036936e-01\n",
              "B_log_income_charter -0.398277      0.090827    -4.385019  1.159757e-05\n",
              "B_log_income_pier    -0.074654      0.109703    -0.680505  4.961847e-01\n",
              "B_price_beach        -0.037732      0.004059    -9.296267  0.000000e+00\n",
              "B_price_boat         -0.020930      0.002762    -7.576970  3.530509e-14\n",
              "B_price_charter      -0.017024      0.002282    -7.459068  8.704149e-14\n",
              "B_price_pier         -0.039254      0.003772   -10.407788  0.000000e+00"
            ]
          },
          "execution_count": 19,
          "metadata": {},
          "output_type": "execute_result"
        }
      ],
      "source": [
        "results_adv.getEstimatedParameters()"
      ]
    },
    {
      "cell_type": "code",
      "execution_count": 20,
      "metadata": {
        "colab": {
          "base_uri": "https://localhost:8080/"
        },
        "id": "oQhomadr4xTN",
        "outputId": "33d36086-0c7d-4deb-f7f1-3e8df3231de2"
      },
      "outputs": [
        {
          "data": {
            "text/plain": [
              "LRTuple(message='H0 can be rejected at level 5.0%', statistic=127.0319470358445, threshold=18.307038053275146)"
            ]
          },
          "execution_count": 20,
          "metadata": {},
          "output_type": "execute_result"
        }
      ],
      "source": [
        "qbus_likeli_ratio_test_bgm(results_adv, results_base, 0.05)"
      ]
    },
    {
      "cell_type": "markdown",
      "metadata": {
        "id": "Ul7asWP7rbhr"
      },
      "source": [
        "---\n",
        "---\n",
        "\n",
        "# 1) Nested logit estimation, according to the linear model especification in (Herriges et al. 1999)."
      ]
    },
    {
      "cell_type": "markdown",
      "metadata": {
        "id": "ARfTQEtU6nlu"
      },
      "source": [
        "First, we define a new variable, we will call it 'budget' which is `income - price`. Is it an attribute of the alternative or a socieconomic characteristic of the individuals?\n",
        "\n",
        "We also see that there parameters will be shared among all alternatives, as in our basic reference model."
      ]
    },
    {
      "cell_type": "code",
      "execution_count": 21,
      "metadata": {
        "id": "EHBg2IzitzJo"
      },
      "outputs": [],
      "source": [
        "fish_nest = fish_pd.copy()\n",
        "fish_nest['budget_beach'] = fish_nest['income'] - fish_pd['price_beach']\n",
        "fish_nest['budget_pier'] = fish_nest['income'] - fish_pd['price_pier']\n",
        "fish_nest['budget_boat'] = fish_nest['income'] - fish_pd['price_boat']\n",
        "fish_nest['budget_charter'] = fish_nest['income'] - fish_pd['price_charter']\n",
        "qbus_update_globals_bgm(fish_nest)"
      ]
    },
    {
      "cell_type": "markdown",
      "metadata": {
        "id": "scQVO1Hv6-KX"
      },
      "source": [
        "We define the new coefficients for biogeme\n",
        "\n",
        "\n"
      ]
    },
    {
      "cell_type": "code",
      "execution_count": 22,
      "metadata": {
        "id": "5KnegQ53tjW-"
      },
      "outputs": [],
      "source": [
        "B_budget_beach_nest = exp.Beta ( 'B_budget_beach_nest' ,0, None , None ,0)\n",
        "B_budget_pier_nest = exp.Beta ( 'B_budget_pier_nest' ,0, None , None ,0)\n",
        "B_budget_boat_nest = exp.Beta ( 'B_budget_boat_nest' ,0, None , None ,0)\n",
        "B_budget_charter_nest = exp.Beta ( 'B_budget_charter_nest' ,0, None , None ,0)"
      ]
    },
    {
      "cell_type": "markdown",
      "metadata": {
        "id": "cv50sx5x7ha0"
      },
      "source": [
        "We define the utility functions"
      ]
    },
    {
      "cell_type": "code",
      "execution_count": 23,
      "metadata": {
        "id": "HlB8TAdvxRRf"
      },
      "outputs": [],
      "source": [
        "B_budget_nest = exp.Beta ( 'B_budget_nest' ,0, None , None ,0)\n",
        "\n",
        "V_beach_nest = ASC_beach + B_budget_nest*budget_beach + B_catch*catch_beach\n",
        "V_pier_nest = ASC_pier + B_budget_nest*budget_pier + B_catch*catch_pier\n",
        "V_boat_nest = ASC_boat + B_budget_nest*budget_boat + B_catch*catch_boat\n",
        "V_charter_nest = ASC_charter + B_budget_nest*budget_charter + B_catch*catch_charter\n",
        "\n",
        "V_nest = {1: V_beach_nest,\n",
        "     2: V_pier_nest,\n",
        "     3: V_boat_nest,\n",
        "     4: V_charter_nest}"
      ]
    },
    {
      "cell_type": "markdown",
      "metadata": {
        "id": "qwj7aXy671Ch"
      },
      "source": [
        "We will create a new auxiliary function for estimating the nested logit, it is very similar to the one for the multinomial logit. It has an additional argument, the nest tuple, that we will define in the next cells."
      ]
    },
    {
      "cell_type": "code",
      "execution_count": 24,
      "metadata": {
        "id": "QEo3d3kJo2BV"
      },
      "outputs": [],
      "source": [
        "def qbus_estimate_nested_bgm(V, pd_df, nests,  tgtvar_name, modelname='bgmdef'):\n",
        " av_auto = V.copy()\n",
        " for key, value in av_auto.items():\n",
        "   av_auto[key] = 1\n",
        " bgm_db = db.Database(modelname + '_db', pd_df)\n",
        " globals().update(bgm_db.variables)\n",
        " logprobnest = models.lognested (V, av_auto , nests , bgm_db.variables[tgtvar_name] )\n",
        " #logprob = models.loglogit (V , av_auto , bgm_db.variables[tgtvar_name] )\n",
        " bgm_model = bio.BIOGEME ( bgm_db, logprobnest )\n",
        " bgm_model.utility_dic = V.copy()\n",
        " bgm_model.nest_tuple = nests\n",
        " return bgm_model, bgm_model.estimate()"
      ]
    },
    {
      "cell_type": "markdown",
      "metadata": {
        "id": "z_ETPIYK8Nnl"
      },
      "source": [
        "The nest structure, **the new concept that we need to understand!**\n",
        "If you remember, in the nested logit model, **we the analysts have to specify the nesting structure**. Then the strength of the nesting is estimated from the data, via a $\\lambda$ parameter that went from 0 to 1. 0 implies complete nesting, 1 reduces to the multinomial logit. In biogeme, we use the same concept, but expressed in a different form. Instead of using the $\\lambda$ we will use a $\\mu$ or grouping strength parameter. The relationship is $$\\lambda = \\frac{1}{\\mu}$$"
      ]
    },
    {
      "cell_type": "markdown",
      "metadata": {
        "id": "VY3wg3XuAZMa"
      },
      "source": [
        "We want to create the grouping structure named 'charter' in the paper."
      ]
    },
    {
      "cell_type": "markdown",
      "metadata": {
        "id": "4Tu7VrczAelO"
      },
      "source": [
        "![fish_nest.PNG](data:image/png;base64,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)"
      ]
    },
    {
      "cell_type": "markdown",
      "metadata": {
        "id": "Ekg5mMjm91ds"
      },
      "source": [
        "We will call the $mu$ parameter using the prefix `MU_`, simular to the $\\beta$ s using the prefix `B_`.\n",
        "We declare it as another expression, using the `exp.Beta` from Biogeme. Yes it is a bit confusing, because biogeme uses the term Beta for all types of parameters that are estimated in the model, not only for the proper $\\beta$ s."
      ]
    },
    {
      "cell_type": "code",
      "execution_count": 25,
      "metadata": {
        "id": "BvTC8zgbpzk4"
      },
      "outputs": [],
      "source": [
        "\n",
        "MU_NONCHART = exp.Beta('MU_NONCHART', 1, 1, 100, 0)\n"
      ]
    },
    {
      "cell_type": "markdown",
      "metadata": {
        "id": "7izEhgd5-pu6"
      },
      "source": [
        "The last piece required by biogeme is the creating of the nest structure.Similar to the dictionary that maps utility functions to the alternative identifications, we need to specify which alternatives are affected by the mu grouping parameter. In biogeme, this is done via a tuple, one element is the parameter and the second is the list of alternatives that are affected by the grouping.\n",
        "In the following cell, we create a grouping for beach (alt. 1), pier (alt. 2) and private boat (alt. 3). This is the grouping that will be affected by the `MU_NONCHART`. Other group, in this case it is only formed by the charter boat.\n",
        "Since there is only one altenative in the group, we can set its grouping parameter to 1.\n",
        "Finaly we put all tuples together to create the full grouping specification that is passed to biogeme."
      ]
    },
    {
      "cell_type": "code",
      "execution_count": 26,
      "metadata": {
        "id": "GmMB7yIU-npR"
      },
      "outputs": [],
      "source": [
        "\n",
        "nonchart_nest = MU_NONCHART, [1, 2, 3]\n",
        "chart_nest = 1.0, [4]\n",
        "nests_charter = nonchart_nest, chart_nest"
      ]
    },
    {
      "cell_type": "code",
      "execution_count": 44,
      "metadata": {},
      "outputs": [
        {
          "data": {
            "text/plain": [
              "((MU_NONCHART(init=1), [1, 2, 3]), (1.0, [4]))"
            ]
          },
          "execution_count": 44,
          "metadata": {},
          "output_type": "execute_result"
        }
      ],
      "source": [
        "nests_charter"
      ]
    },
    {
      "cell_type": "markdown",
      "metadata": {
        "id": "kwO1_qMmAJYi"
      },
      "source": [
        "Then we will estimate and check the model parameters."
      ]
    },
    {
      "cell_type": "code",
      "execution_count": 27,
      "metadata": {
        "colab": {
          "base_uri": "https://localhost:8080/"
        },
        "id": "l4nCZg68qBDq",
        "outputId": "6e3bdc7c-0810-4dc9-dd89-94031503fbb9"
      },
      "outputs": [
        {
          "name": "stderr",
          "output_type": "stream",
          "text": [
            "You have not defined a name for the model. The output files are named from the model name. The default is [biogemeModelDefaultName]\n",
            "Numerical problem with the second derivative matrix. Norm = inf. Replaced by the BFGS approximation.\n",
            "Numerical problem with the second derivative matrix. Norm = inf. Replaced by the BFGS approximation.\n",
            "Numerical problem with the second derivative matrix. Norm = inf. Replaced by the BFGS approximation.\n",
            "Numerical problem with the second derivative matrix. Norm = inf. Replaced by the BFGS approximation.\n",
            "Numerical problem with the second derivative matrix. Norm = inf. Replaced by the BFGS approximation.\n",
            "Numerical problem with the second derivative matrix. Norm = inf. Replaced by the BFGS approximation.\n",
            "Numerical problem with the second derivative matrix. Norm = inf. Replaced by the BFGS approximation.\n",
            "Numerical problem with the second derivative matrix. Norm = inf. Replaced by the BFGS approximation.\n",
            "Numerical problem with the second derivative matrix. Norm = inf. Replaced by the BFGS approximation.\n",
            "Numerical problem with the second derivative matrix. Norm = inf. Replaced by the BFGS approximation.\n",
            "Numerical problem with the second derivative matrix. Norm = inf. Replaced by the BFGS approximation.\n",
            "Numerical problem with the second derivative matrix. Norm = inf. Replaced by the BFGS approximation.\n",
            "Numerical problem with the second derivative matrix. Norm = inf. Replaced by the BFGS approximation.\n",
            "Numerical problem with the second derivative matrix. Norm = inf. Replaced by the BFGS approximation.\n",
            "Numerical problem with the second derivative matrix. Norm = inf. Replaced by the BFGS approximation.\n"
          ]
        },
        {
          "name": "stderr",
          "output_type": "stream",
          "text": [
            "Numerical problem with the second derivative matrix. Norm = inf. Replaced by the BFGS approximation.\n",
            "Numerical problem with the second derivative matrix. Norm = inf. Replaced by the BFGS approximation.\n",
            "Numerical problem with the second derivative matrix. Norm = inf. Replaced by the BFGS approximation.\n"
          ]
        }
      ],
      "source": [
        "model_nest, results_nest = qbus_estimate_nested_bgm(V_nest, fish_nest, nests_charter, 'mode', 'fish_nest' )"
      ]
    },
    {
      "cell_type": "markdown",
      "metadata": {
        "id": "RtB5IEKLA6il"
      },
      "source": [
        "The estimation of the model gives similar coefficients to the paper."
      ]
    },
    {
      "cell_type": "code",
      "execution_count": 28,
      "metadata": {
        "colab": {
          "base_uri": "https://localhost:8080/",
          "height": 238
        },
        "id": "0zlb-nAWsYBh",
        "outputId": "6debf1c4-de85-4f70-9ddd-7d172663a619"
      },
      "outputs": [
        {
          "data": {
            "text/html": [
              "<div>\n",
              "<style scoped>\n",
              "    .dataframe tbody tr th:only-of-type {\n",
              "        vertical-align: middle;\n",
              "    }\n",
              "\n",
              "    .dataframe tbody tr th {\n",
              "        vertical-align: top;\n",
              "    }\n",
              "\n",
              "    .dataframe thead th {\n",
              "        text-align: right;\n",
              "    }\n",
              "</style>\n",
              "<table border=\"1\" class=\"dataframe\">\n",
              "  <thead>\n",
              "    <tr style=\"text-align: right;\">\n",
              "      <th></th>\n",
              "      <th>Value</th>\n",
              "      <th>Rob. Std err</th>\n",
              "      <th>Rob. t-test</th>\n",
              "      <th>Rob. p-value</th>\n",
              "    </tr>\n",
              "  </thead>\n",
              "  <tbody>\n",
              "    <tr>\n",
              "      <th>ASC_beach</th>\n",
              "      <td>-0.391658</td>\n",
              "      <td>0.0</td>\n",
              "      <td>1.797693e+308</td>\n",
              "      <td>0.0</td>\n",
              "    </tr>\n",
              "    <tr>\n",
              "      <th>ASC_boat</th>\n",
              "      <td>-0.063013</td>\n",
              "      <td>0.0</td>\n",
              "      <td>1.797693e+308</td>\n",
              "      <td>0.0</td>\n",
              "    </tr>\n",
              "    <tr>\n",
              "      <th>ASC_pier</th>\n",
              "      <td>-0.241541</td>\n",
              "      <td>0.0</td>\n",
              "      <td>1.797693e+308</td>\n",
              "      <td>0.0</td>\n",
              "    </tr>\n",
              "    <tr>\n",
              "      <th>B_budget_nest</th>\n",
              "      <td>0.014047</td>\n",
              "      <td>0.0</td>\n",
              "      <td>1.797693e+308</td>\n",
              "      <td>0.0</td>\n",
              "    </tr>\n",
              "    <tr>\n",
              "      <th>B_catch</th>\n",
              "      <td>0.414466</td>\n",
              "      <td>0.0</td>\n",
              "      <td>1.797693e+308</td>\n",
              "      <td>0.0</td>\n",
              "    </tr>\n",
              "    <tr>\n",
              "      <th>MU_NONCHART</th>\n",
              "      <td>2.280505</td>\n",
              "      <td>0.0</td>\n",
              "      <td>1.797693e+308</td>\n",
              "      <td>0.0</td>\n",
              "    </tr>\n",
              "  </tbody>\n",
              "</table>\n",
              "</div>"
            ],
            "text/plain": [
              "                  Value  Rob. Std err    Rob. t-test  Rob. p-value\n",
              "ASC_beach     -0.391658           0.0  1.797693e+308           0.0\n",
              "ASC_boat      -0.063013           0.0  1.797693e+308           0.0\n",
              "ASC_pier      -0.241541           0.0  1.797693e+308           0.0\n",
              "B_budget_nest  0.014047           0.0  1.797693e+308           0.0\n",
              "B_catch        0.414466           0.0  1.797693e+308           0.0\n",
              "MU_NONCHART    2.280505           0.0  1.797693e+308           0.0"
            ]
          },
          "execution_count": 28,
          "metadata": {},
          "output_type": "execute_result"
        }
      ],
      "source": [
        "results_nest.getEstimatedParameters()"
      ]
    },
    {
      "cell_type": "markdown",
      "metadata": {
        "id": "LuHAW_0HAqRt"
      },
      "source": [
        "The paper uses the $\\lambda$ notation and so we can recover one from the other. We see that it is not exactly the same as the one in the paper."
      ]
    },
    {
      "cell_type": "code",
      "execution_count": 29,
      "metadata": {
        "colab": {
          "base_uri": "https://localhost:8080/"
        },
        "id": "X7jQ6-nCxx32",
        "outputId": "8e8dbf8f-e439-4ab4-dbfd-6c82e0e6af7a"
      },
      "outputs": [
        {
          "data": {
            "text/plain": [
              "0.4385964912280702"
            ]
          },
          "execution_count": 29,
          "metadata": {},
          "output_type": "execute_result"
        }
      ],
      "source": [
        "1 / 2.28"
      ]
    },
    {
      "cell_type": "markdown",
      "metadata": {
        "id": "6VjZeJ-YyveI"
      },
      "source": [
        "Testing for nested structure, we can do a likelihood ratio test w.r.t a simple model that sets the grouping strength parameter to 1, we would get a multinomial logit. We can do the likelihood ratio test because the nested logit is included in the multinomial, it has an additional parameter."
      ]
    },
    {
      "cell_type": "code",
      "execution_count": 30,
      "metadata": {
        "id": "iVDSFCybyu_b"
      },
      "outputs": [],
      "source": [
        "MU_NONCHART_base = exp.Beta('GRP_NONCHART_base', 1, 1, 100, 1)\n",
        "\n",
        "nonchart_nest_base = MU_NONCHART_base, [1, 2, 3]\n",
        "chart_nest = 1.0, [4]\n",
        "nests_charter_base = nonchart_nest_base, chart_nest"
      ]
    },
    {
      "cell_type": "code",
      "execution_count": 31,
      "metadata": {
        "colab": {
          "base_uri": "https://localhost:8080/"
        },
        "id": "Y6liDkMMzByl",
        "outputId": "3d721baa-6506-45d6-888e-a46f1d8f6078"
      },
      "outputs": [
        {
          "name": "stderr",
          "output_type": "stream",
          "text": [
            "You have not defined a name for the model. The output files are named from the model name. The default is [biogemeModelDefaultName]\n"
          ]
        }
      ],
      "source": [
        "model_nest_base, results_nest_base = qbus_estimate_nested_bgm(V_nest, fish_nest, nests_charter_base, 'mode', 'fish_nest' )"
      ]
    },
    {
      "cell_type": "code",
      "execution_count": 32,
      "metadata": {
        "colab": {
          "base_uri": "https://localhost:8080/",
          "height": 206
        },
        "id": "rh_jSc8WzJPH",
        "outputId": "3a6beee7-8f26-429b-e1e7-18578ec09c3d"
      },
      "outputs": [
        {
          "data": {
            "text/html": [
              "<div>\n",
              "<style scoped>\n",
              "    .dataframe tbody tr th:only-of-type {\n",
              "        vertical-align: middle;\n",
              "    }\n",
              "\n",
              "    .dataframe tbody tr th {\n",
              "        vertical-align: top;\n",
              "    }\n",
              "\n",
              "    .dataframe thead th {\n",
              "        text-align: right;\n",
              "    }\n",
              "</style>\n",
              "<table border=\"1\" class=\"dataframe\">\n",
              "  <thead>\n",
              "    <tr style=\"text-align: right;\">\n",
              "      <th></th>\n",
              "      <th>Value</th>\n",
              "      <th>Rob. Std err</th>\n",
              "      <th>Rob. t-test</th>\n",
              "      <th>Rob. p-value</th>\n",
              "    </tr>\n",
              "  </thead>\n",
              "  <tbody>\n",
              "    <tr>\n",
              "      <th>ASC_beach</th>\n",
              "      <td>-1.498888</td>\n",
              "      <td>0.129703</td>\n",
              "      <td>-11.556271</td>\n",
              "      <td>0.000000e+00</td>\n",
              "    </tr>\n",
              "    <tr>\n",
              "      <th>ASC_boat</th>\n",
              "      <td>-0.627513</td>\n",
              "      <td>0.116828</td>\n",
              "      <td>-5.371250</td>\n",
              "      <td>7.819277e-08</td>\n",
              "    </tr>\n",
              "    <tr>\n",
              "      <th>ASC_pier</th>\n",
              "      <td>-1.191833</td>\n",
              "      <td>0.128328</td>\n",
              "      <td>-9.287409</td>\n",
              "      <td>0.000000e+00</td>\n",
              "    </tr>\n",
              "    <tr>\n",
              "      <th>B_budget_nest</th>\n",
              "      <td>0.024790</td>\n",
              "      <td>0.002329</td>\n",
              "      <td>10.645097</td>\n",
              "      <td>0.000000e+00</td>\n",
              "    </tr>\n",
              "    <tr>\n",
              "      <th>B_catch</th>\n",
              "      <td>0.377169</td>\n",
              "      <td>0.119247</td>\n",
              "      <td>3.162913</td>\n",
              "      <td>1.561992e-03</td>\n",
              "    </tr>\n",
              "  </tbody>\n",
              "</table>\n",
              "</div>"
            ],
            "text/plain": [
              "                  Value  Rob. Std err  Rob. t-test  Rob. p-value\n",
              "ASC_beach     -1.498888      0.129703   -11.556271  0.000000e+00\n",
              "ASC_boat      -0.627513      0.116828    -5.371250  7.819277e-08\n",
              "ASC_pier      -1.191833      0.128328    -9.287409  0.000000e+00\n",
              "B_budget_nest  0.024790      0.002329    10.645097  0.000000e+00\n",
              "B_catch        0.377169      0.119247     3.162913  1.561992e-03"
            ]
          },
          "execution_count": 32,
          "metadata": {},
          "output_type": "execute_result"
        }
      ],
      "source": [
        "results_nest_base.getEstimatedParameters()"
      ]
    },
    {
      "cell_type": "code",
      "execution_count": 33,
      "metadata": {
        "colab": {
          "base_uri": "https://localhost:8080/"
        },
        "id": "boxQu_DGzT1L",
        "outputId": "46347902-bb49-4f53-c935-95d24efc156f"
      },
      "outputs": [
        {
          "data": {
            "text/plain": [
              "LRTuple(message='H0 can be rejected at level 5.0%', statistic=27.92948369120677, threshold=3.841458820694124)"
            ]
          },
          "execution_count": 33,
          "metadata": {},
          "output_type": "execute_result"
        }
      ],
      "source": [
        "qbus_likeli_ratio_test_bgm(results_nest, results_nest_base, 0.05)"
      ]
    },
    {
      "cell_type": "markdown",
      "metadata": {
        "id": "s44jmoAX2OWo"
      },
      "source": [
        "We can compare to the MNL, we see that it is"
      ]
    },
    {
      "cell_type": "code",
      "execution_count": 34,
      "metadata": {
        "colab": {
          "base_uri": "https://localhost:8080/"
        },
        "id": "6xnMI-Hx2Q40",
        "outputId": "d4cd69de-a3fb-43fa-de0b-9c0cba34bd0d"
      },
      "outputs": [
        {
          "name": "stderr",
          "output_type": "stream",
          "text": [
            "You have not defined a name for the model. The output files are named from the model name. The default is [biogemeModelDefaultName]\n"
          ]
        }
      ],
      "source": [
        "model_mnl, results_mnl = qbus_estimate_bgm(V_nest, fish_nest, 'mode')"
      ]
    },
    {
      "cell_type": "code",
      "execution_count": 35,
      "metadata": {
        "colab": {
          "base_uri": "https://localhost:8080/",
          "height": 206
        },
        "id": "any4ICSC2bKx",
        "outputId": "476e0bb1-e544-498f-aea2-1eeb52dccfc9"
      },
      "outputs": [
        {
          "data": {
            "text/html": [
              "<div>\n",
              "<style scoped>\n",
              "    .dataframe tbody tr th:only-of-type {\n",
              "        vertical-align: middle;\n",
              "    }\n",
              "\n",
              "    .dataframe tbody tr th {\n",
              "        vertical-align: top;\n",
              "    }\n",
              "\n",
              "    .dataframe thead th {\n",
              "        text-align: right;\n",
              "    }\n",
              "</style>\n",
              "<table border=\"1\" class=\"dataframe\">\n",
              "  <thead>\n",
              "    <tr style=\"text-align: right;\">\n",
              "      <th></th>\n",
              "      <th>Value</th>\n",
              "      <th>Rob. Std err</th>\n",
              "      <th>Rob. t-test</th>\n",
              "      <th>Rob. p-value</th>\n",
              "    </tr>\n",
              "  </thead>\n",
              "  <tbody>\n",
              "    <tr>\n",
              "      <th>ASC_beach</th>\n",
              "      <td>-1.498888</td>\n",
              "      <td>0.129703</td>\n",
              "      <td>-11.556271</td>\n",
              "      <td>0.000000e+00</td>\n",
              "    </tr>\n",
              "    <tr>\n",
              "      <th>ASC_boat</th>\n",
              "      <td>-0.627513</td>\n",
              "      <td>0.116828</td>\n",
              "      <td>-5.371250</td>\n",
              "      <td>7.819277e-08</td>\n",
              "    </tr>\n",
              "    <tr>\n",
              "      <th>ASC_pier</th>\n",
              "      <td>-1.191833</td>\n",
              "      <td>0.128328</td>\n",
              "      <td>-9.287409</td>\n",
              "      <td>0.000000e+00</td>\n",
              "    </tr>\n",
              "    <tr>\n",
              "      <th>B_budget_nest</th>\n",
              "      <td>0.024790</td>\n",
              "      <td>0.002329</td>\n",
              "      <td>10.645097</td>\n",
              "      <td>0.000000e+00</td>\n",
              "    </tr>\n",
              "    <tr>\n",
              "      <th>B_catch</th>\n",
              "      <td>0.377169</td>\n",
              "      <td>0.119247</td>\n",
              "      <td>3.162913</td>\n",
              "      <td>1.561992e-03</td>\n",
              "    </tr>\n",
              "  </tbody>\n",
              "</table>\n",
              "</div>"
            ],
            "text/plain": [
              "                  Value  Rob. Std err  Rob. t-test  Rob. p-value\n",
              "ASC_beach     -1.498888      0.129703   -11.556271  0.000000e+00\n",
              "ASC_boat      -0.627513      0.116828    -5.371250  7.819277e-08\n",
              "ASC_pier      -1.191833      0.128328    -9.287409  0.000000e+00\n",
              "B_budget_nest  0.024790      0.002329    10.645097  0.000000e+00\n",
              "B_catch        0.377169      0.119247     3.162913  1.561992e-03"
            ]
          },
          "execution_count": 35,
          "metadata": {},
          "output_type": "execute_result"
        }
      ],
      "source": [
        "results_mnl.getEstimatedParameters()"
      ]
    },
    {
      "cell_type": "markdown",
      "metadata": {
        "id": "EFX4To0h0tfA"
      },
      "source": [
        "# Predictions\n",
        "\n"
      ]
    },
    {
      "cell_type": "markdown",
      "metadata": {
        "id": "DI9hGPH-Brw_"
      },
      "source": [
        "The predictions are equivalent to the MNL, we just have to do some minor changes and pass the nested structure around. We simplify this with an auxiliary function."
      ]
    },
    {
      "cell_type": "code",
      "execution_count": 36,
      "metadata": {
        "id": "HpQjw8YK04AY"
      },
      "outputs": [],
      "source": [
        "def qbus_simulate_nested_bgm(qbus_bgm_model, betas, pred_pd_df):\n",
        "  av_auto = qbus_bgm_model.utility_dic.copy()\n",
        "  for key, value in av_auto.items():\n",
        "   av_auto[key] = 1\n",
        "\n",
        "  targets = qbus_bgm_model.utility_dic.copy()\n",
        "  for key, value in targets.items():\n",
        "   targets[key] = models.nested(qbus_bgm_model.utility_dic, av_auto, qbus_bgm_model.nest_tuple, key)\n",
        "\n",
        "  bgm_db = db.Database('simul', pred_pd_df)\n",
        "  globals().update(bgm_db.variables)\n",
        "  bgm_pred_model = bio.BIOGEME(bgm_db, targets)\n",
        "  simulatedValues = bgm_pred_model.simulate(betas)\n",
        "  return simulatedValues"
      ]
    },
    {
      "cell_type": "code",
      "execution_count": 37,
      "metadata": {
        "id": "LmIBFmjb1lop"
      },
      "outputs": [],
      "source": [
        "pred_nests = qbus_simulate_nested_bgm(model_nest, results_nest.getBetaValues(), fish_nest)"
      ]
    },
    {
      "cell_type": "code",
      "execution_count": 38,
      "metadata": {
        "colab": {
          "base_uri": "https://localhost:8080/",
          "height": 206
        },
        "id": "MZ-bEccJ1xuC",
        "outputId": "3c0a5476-dd92-4cf1-baa2-81bf0553ed25"
      },
      "outputs": [
        {
          "data": {
            "text/html": [
              "<div>\n",
              "<style scoped>\n",
              "    .dataframe tbody tr th:only-of-type {\n",
              "        vertical-align: middle;\n",
              "    }\n",
              "\n",
              "    .dataframe tbody tr th {\n",
              "        vertical-align: top;\n",
              "    }\n",
              "\n",
              "    .dataframe thead th {\n",
              "        text-align: right;\n",
              "    }\n",
              "</style>\n",
              "<table border=\"1\" class=\"dataframe\">\n",
              "  <thead>\n",
              "    <tr style=\"text-align: right;\">\n",
              "      <th></th>\n",
              "      <th>1</th>\n",
              "      <th>2</th>\n",
              "      <th>3</th>\n",
              "      <th>4</th>\n",
              "    </tr>\n",
              "  </thead>\n",
              "  <tbody>\n",
              "    <tr>\n",
              "      <th>0</th>\n",
              "      <td>0.124675</td>\n",
              "      <td>0.172692</td>\n",
              "      <td>0.316381</td>\n",
              "      <td>0.386252</td>\n",
              "    </tr>\n",
              "    <tr>\n",
              "      <th>1</th>\n",
              "      <td>0.123425</td>\n",
              "      <td>0.164260</td>\n",
              "      <td>0.317809</td>\n",
              "      <td>0.394506</td>\n",
              "    </tr>\n",
              "    <tr>\n",
              "      <th>2</th>\n",
              "      <td>0.003942</td>\n",
              "      <td>0.005141</td>\n",
              "      <td>0.518580</td>\n",
              "      <td>0.472337</td>\n",
              "    </tr>\n",
              "    <tr>\n",
              "      <th>3</th>\n",
              "      <td>0.231877</td>\n",
              "      <td>0.329983</td>\n",
              "      <td>0.145478</td>\n",
              "      <td>0.292662</td>\n",
              "    </tr>\n",
              "    <tr>\n",
              "      <th>4</th>\n",
              "      <td>0.028561</td>\n",
              "      <td>0.039561</td>\n",
              "      <td>0.510437</td>\n",
              "      <td>0.421440</td>\n",
              "    </tr>\n",
              "  </tbody>\n",
              "</table>\n",
              "</div>"
            ],
            "text/plain": [
              "          1         2         3         4\n",
              "0  0.124675  0.172692  0.316381  0.386252\n",
              "1  0.123425  0.164260  0.317809  0.394506\n",
              "2  0.003942  0.005141  0.518580  0.472337\n",
              "3  0.231877  0.329983  0.145478  0.292662\n",
              "4  0.028561  0.039561  0.510437  0.421440"
            ]
          },
          "execution_count": 38,
          "metadata": {},
          "output_type": "execute_result"
        }
      ],
      "source": [
        "pred_nests.head(5)"
      ]
    },
    {
      "cell_type": "code",
      "execution_count": 39,
      "metadata": {
        "id": "A2ylUxaM11oW"
      },
      "outputs": [],
      "source": [
        "pred_nests_base = qbus_simulate_nested_bgm(model_nest_base, results_nest_base.getBetaValues(), fish_nest)"
      ]
    },
    {
      "cell_type": "code",
      "execution_count": 40,
      "metadata": {
        "colab": {
          "base_uri": "https://localhost:8080/",
          "height": 206
        },
        "id": "B5KBjhbx17eM",
        "outputId": "ec1fdaf4-1c59-4093-f067-60e881e15d56"
      },
      "outputs": [
        {
          "data": {
            "text/html": [
              "<div>\n",
              "<style scoped>\n",
              "    .dataframe tbody tr th:only-of-type {\n",
              "        vertical-align: middle;\n",
              "    }\n",
              "\n",
              "    .dataframe tbody tr th {\n",
              "        vertical-align: top;\n",
              "    }\n",
              "\n",
              "    .dataframe thead th {\n",
              "        text-align: right;\n",
              "    }\n",
              "</style>\n",
              "<table border=\"1\" class=\"dataframe\">\n",
              "  <thead>\n",
              "    <tr style=\"text-align: right;\">\n",
              "      <th></th>\n",
              "      <th>1</th>\n",
              "      <th>2</th>\n",
              "      <th>3</th>\n",
              "      <th>4</th>\n",
              "    </tr>\n",
              "  </thead>\n",
              "  <tbody>\n",
              "    <tr>\n",
              "      <th>0</th>\n",
              "      <td>0.128239</td>\n",
              "      <td>0.173183</td>\n",
              "      <td>0.329574</td>\n",
              "      <td>0.369003</td>\n",
              "    </tr>\n",
              "    <tr>\n",
              "      <th>1</th>\n",
              "      <td>0.121487</td>\n",
              "      <td>0.161468</td>\n",
              "      <td>0.331795</td>\n",
              "      <td>0.385250</td>\n",
              "    </tr>\n",
              "    <tr>\n",
              "      <th>2</th>\n",
              "      <td>0.007375</td>\n",
              "      <td>0.009724</td>\n",
              "      <td>0.477676</td>\n",
              "      <td>0.505224</td>\n",
              "    </tr>\n",
              "    <tr>\n",
              "      <th>3</th>\n",
              "      <td>0.237270</td>\n",
              "      <td>0.323902</td>\n",
              "      <td>0.213932</td>\n",
              "      <td>0.224896</td>\n",
              "    </tr>\n",
              "    <tr>\n",
              "      <th>4</th>\n",
              "      <td>0.037530</td>\n",
              "      <td>0.050683</td>\n",
              "      <td>0.460996</td>\n",
              "      <td>0.450791</td>\n",
              "    </tr>\n",
              "  </tbody>\n",
              "</table>\n",
              "</div>"
            ],
            "text/plain": [
              "          1         2         3         4\n",
              "0  0.128239  0.173183  0.329574  0.369003\n",
              "1  0.121487  0.161468  0.331795  0.385250\n",
              "2  0.007375  0.009724  0.477676  0.505224\n",
              "3  0.237270  0.323902  0.213932  0.224896\n",
              "4  0.037530  0.050683  0.460996  0.450791"
            ]
          },
          "execution_count": 40,
          "metadata": {},
          "output_type": "execute_result"
        }
      ],
      "source": [
        "pred_nests_base.head(5)"
      ]
    },
    {
      "cell_type": "markdown",
      "metadata": {
        "id": "VN-Dv7Np4Va9"
      },
      "source": [
        "# Exercise 0: Utilities and compensating values"
      ]
    },
    {
      "cell_type": "markdown",
      "metadata": {
        "id": "u_PikwgjC1Sj"
      },
      "source": [
        "We will study the 'compensating values' for the linear model. We start by creating an auxiliary function."
      ]
    },
    {
      "cell_type": "code",
      "execution_count": 41,
      "metadata": {
        "id": "m6P6FFGa4fTk"
      },
      "outputs": [],
      "source": [
        "def qbus_simulate_nested_util_bgm(qbus_bgm_model, betas, pred_pd_df):\n",
        "  av_auto = qbus_bgm_model.utility_dic.copy()\n",
        "  for key, value in av_auto.items():\n",
        "   av_auto[key] = 1\n",
        "\n",
        " # targets = qbus_bgm_model.utility_dic.copy()\n",
        " # for key, value in targets.items():\n",
        " #  targets[key] = models.nested(qbus_bgm_model.utility_dic, av_auto, qbus_bgm_model.nest_tuple, key)\n",
        "\n",
        "  bgm_db = db.Database('simul', pred_pd_df)\n",
        "  globals().update(bgm_db.variables)\n",
        "  bgm_pred_model = bio.BIOGEME(bgm_db, qbus_bgm_model.utility_dic)\n",
        "  simulatedValues = bgm_pred_model.simulate(betas)\n",
        "  return simulatedValues"
      ]
    },
    {
      "cell_type": "code",
      "execution_count": 42,
      "metadata": {
        "colab": {
          "base_uri": "https://localhost:8080/"
        },
        "id": "O-ieRIwP2Kr8",
        "outputId": "a2e52586-abc7-4dbf-c94e-5d546e4bdae8"
      },
      "outputs": [
        {
          "name": "stderr",
          "output_type": "stream",
          "text": [
            "Parameter MU_NONCHART not present in the model.\n"
          ]
        }
      ],
      "source": [
        "util_nest = qbus_simulate_nested_util_bgm(model_nest, results_nest.getBetaValues(), fish_nest)"
      ]
    },
    {
      "cell_type": "code",
      "execution_count": 43,
      "metadata": {
        "colab": {
          "base_uri": "https://localhost:8080/",
          "height": 206
        },
        "id": "YFCDKIya4trn",
        "outputId": "73cd7b18-833e-4ba0-9f4c-b955d55ed750"
      },
      "outputs": [
        {
          "data": {
            "text/html": [
              "<div>\n",
              "<style scoped>\n",
              "    .dataframe tbody tr th:only-of-type {\n",
              "        vertical-align: middle;\n",
              "    }\n",
              "\n",
              "    .dataframe tbody tr th {\n",
              "        vertical-align: top;\n",
              "    }\n",
              "\n",
              "    .dataframe thead th {\n",
              "        text-align: right;\n",
              "    }\n",
              "</style>\n",
              "<table border=\"1\" class=\"dataframe\">\n",
              "  <thead>\n",
              "    <tr style=\"text-align: right;\">\n",
              "      <th></th>\n",
              "      <th>1</th>\n",
              "      <th>2</th>\n",
              "      <th>3</th>\n",
              "      <th>4</th>\n",
              "    </tr>\n",
              "  </thead>\n",
              "  <tbody>\n",
              "    <tr>\n",
              "      <th>0</th>\n",
              "      <td>96.917529</td>\n",
              "      <td>97.060393</td>\n",
              "      <td>97.325876</td>\n",
              "      <td>97.153349</td>\n",
              "    </tr>\n",
              "    <tr>\n",
              "      <th>1</th>\n",
              "      <td>16.998255</td>\n",
              "      <td>17.123587</td>\n",
              "      <td>17.412995</td>\n",
              "      <td>17.267239</td>\n",
              "    </tr>\n",
              "    <tr>\n",
              "      <th>2</th>\n",
              "      <td>50.231765</td>\n",
              "      <td>50.348269</td>\n",
              "      <td>52.371410</td>\n",
              "      <td>52.268257</td>\n",
              "    </tr>\n",
              "    <tr>\n",
              "      <th>3</th>\n",
              "      <td>28.688428</td>\n",
              "      <td>28.843145</td>\n",
              "      <td>28.484008</td>\n",
              "      <td>28.294999</td>\n",
              "    </tr>\n",
              "    <tr>\n",
              "      <th>4</th>\n",
              "      <td>62.516441</td>\n",
              "      <td>62.659305</td>\n",
              "      <td>63.780729</td>\n",
              "      <td>63.518797</td>\n",
              "    </tr>\n",
              "  </tbody>\n",
              "</table>\n",
              "</div>"
            ],
            "text/plain": [
              "           1          2          3          4\n",
              "0  96.917529  97.060393  97.325876  97.153349\n",
              "1  16.998255  17.123587  17.412995  17.267239\n",
              "2  50.231765  50.348269  52.371410  52.268257\n",
              "3  28.688428  28.843145  28.484008  28.294999\n",
              "4  62.516441  62.659305  63.780729  63.518797"
            ]
          },
          "execution_count": 43,
          "metadata": {},
          "output_type": "execute_result"
        }
      ],
      "source": [
        "util_nest.head()"
      ]
    },
    {
      "cell_type": "markdown",
      "metadata": {
        "id": "UD4gZphcB8Bj"
      },
      "source": [
        "The compensating values are defined as the increase/decrease in cost that compensates a change in utility that comes from modifying some attributes, another what if scenario. It is similar to the Willingness to pay.\n",
        "\n",
        "## For the scenario of 'doubling catch rate', estimate the compensating values."
      ]
    },
    {
      "cell_type": "code",
      "execution_count": null,
      "metadata": {
        "id": "TL02nUa5Cj4W"
      },
      "outputs": [],
      "source": []
    },
    {
      "cell_type": "markdown",
      "metadata": {
        "id": "UbiF3Qr_D8nu"
      },
      "source": [
        "# Exercise 1) Change the nested structure to the 'private' in the paper and estimate the model, compare results to the other nesting structure."
      ]
    },
    {
      "cell_type": "code",
      "execution_count": null,
      "metadata": {
        "id": "srKIykRCD8TD"
      },
      "outputs": [],
      "source": []
    },
    {
      "cell_type": "markdown",
      "metadata": {
        "id": "9zDK4VauDpSc"
      },
      "source": [
        "# Exercise 2) Estimate a nested model with per-alternative parameters and check if the nesting structure results in a better model."
      ]
    },
    {
      "cell_type": "code",
      "execution_count": null,
      "metadata": {
        "id": "0BVln1KUEMC7"
      },
      "outputs": [],
      "source": []
    }
  ],
  "metadata": {
    "colab": {
      "name": "tuto_05_nested_logit",
      "provenance": []
    },
    "kernelspec": {
      "display_name": "Python 3",
      "name": "python3"
    },
    "language_info": {
      "codemirror_mode": {
        "name": "ipython",
        "version": 3
      },
      "file_extension": ".py",
      "mimetype": "text/x-python",
      "name": "python",
      "nbconvert_exporter": "python",
      "pygments_lexer": "ipython3",
      "version": "3.10.9"
    }
  },
  "nbformat": 4,
  "nbformat_minor": 0
}
